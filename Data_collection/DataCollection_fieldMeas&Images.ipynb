{
  "nbformat": 4,
  "nbformat_minor": 0,
  "metadata": {
    "colab": {
      "name": "DataCollection-fieldMeas&Images.ipynb",
      "provenance": [],
      "collapsed_sections": []
    },
    "kernelspec": {
      "display_name": "Python 3",
      "name": "python3"
    },
    "language_info": {
      "name": "python"
    }
  },
  "cells": [
    {
      "cell_type": "code",
      "metadata": {
        "id": "pWRvzndpGuUo"
      },
      "source": [
        "## Global Requirements :\n",
        "\n",
        "import matplotlib.pyplot as plt\n",
        "import numpy as np\n",
        "import pandas as pd\n",
        "from osgeo import gdal\n",
        "import sys\n",
        "import os"
      ],
      "execution_count": null,
      "outputs": []
    },
    {
      "cell_type": "code",
      "metadata": {
        "id": "dFmymvwuQMsf",
        "colab": {
          "base_uri": "https://localhost:8080/"
        },
        "outputId": "98d78670-d352-4850-cc19-2abf9b73ce73"
      },
      "source": [
        "from google.colab import drive\n",
        "drive.mount('/content/drive')"
      ],
      "execution_count": null,
      "outputs": [
        {
          "output_type": "stream",
          "text": [
            "Mounted at /content/drive\n"
          ],
          "name": "stdout"
        }
      ]
    },
    {
      "cell_type": "markdown",
      "metadata": {
        "id": "yNrSTt3u26ii"
      },
      "source": [
        "# Data collection :"
      ]
    },
    {
      "cell_type": "markdown",
      "metadata": {
        "id": "GaXL1TwpWlyK"
      },
      "source": [
        "## 1- Field Measurements :"
      ]
    },
    {
      "cell_type": "code",
      "metadata": {
        "id": "JBIZ9gDzPYnr"
      },
      "source": [
        "## Install Requirements : \n",
        "\n",
        "!pip install cartopy"
      ],
      "execution_count": null,
      "outputs": []
    },
    {
      "cell_type": "code",
      "metadata": {
        "id": "ZwMtUhSkP98C"
      },
      "source": [
        "## Install Requirements : \n",
        "\n",
        "pip install ismn"
      ],
      "execution_count": null,
      "outputs": []
    },
    {
      "cell_type": "code",
      "metadata": {
        "id": "wdVstE6yCCCh"
      },
      "source": [
        "from ismn.interface import ISMN_Interface"
      ],
      "execution_count": null,
      "outputs": []
    },
    {
      "cell_type": "code",
      "metadata": {
        "id": "isvBFqrhQVoJ",
        "colab": {
          "base_uri": "https://localhost:8080/"
        },
        "outputId": "c609b95b-d0df-4894-cfcb-bde0aabfbbb6"
      },
      "source": [
        "## Process tha data file with the ISMN interface : \n",
        "\n",
        "data_path = \"/content/drive/MyDrive/Datasets/Data_separate_files_header_20170301_20201231_8964_yyUQ_20210804\"\n",
        "ismn_data = ISMN_Interface(data_path, parallel=True)"
      ],
      "execution_count": null,
      "outputs": [
        {
          "output_type": "stream",
          "text": [
            "\rFiles Processed:   0%|          | 0/1 [00:00<?, ?it/s]"
          ],
          "name": "stderr"
        },
        {
          "output_type": "stream",
          "text": [
            "Processing metadata for all ismn stations into folder /content/drive/MyDrive/Datasets/Data_separate_files_header_20170301_20201231_8964_yyUQ_20210804.\n",
            "This may take a few minutes, but is only done once...\n",
            "\n"
          ],
          "name": "stdout"
        },
        {
          "output_type": "stream",
          "text": [
            "Files Processed: 100%|██████████| 1/1 [00:01<00:00,  1.24s/it]"
          ],
          "name": "stderr"
        },
        {
          "output_type": "stream",
          "text": [
            "Metadata generation finished after 1 Seconds.\n",
            "Metadata and Log stored in /content/drive/MyDrive/Datasets/Data_separate_files_header_20170301_20201231_8964_yyUQ_20210804/python_metadata\n",
            "Found existing ismn metadata in /content/drive/MyDrive/Datasets/Data_separate_files_header_20170301_20201231_8964_yyUQ_20210804/python_metadata/Data_separate_files_header_20170301_20201231_8964_yyUQ_20210804.csv.\n"
          ],
          "name": "stdout"
        },
        {
          "output_type": "stream",
          "text": [
            "\n"
          ],
          "name": "stderr"
        }
      ]
    },
    {
      "cell_type": "code",
      "metadata": {
        "colab": {
          "base_uri": "https://localhost:8080/"
        },
        "id": "ysh-T9UEQ6-E",
        "outputId": "821867c6-6bad-44ea-ff03-190bd0e647f2"
      },
      "source": [
        "ismn_data.collection"
      ],
      "execution_count": null,
      "outputs": [
        {
          "output_type": "execute_result",
          "data": {
            "text/plain": [
              "REMEDHUS: ['Llanos_de_la_Boveda']"
            ]
          },
          "metadata": {
            "tags": []
          },
          "execution_count": 13
        }
      ]
    },
    {
      "cell_type": "code",
      "metadata": {
        "id": "Rpd39s3pRmDa",
        "colab": {
          "base_uri": "https://localhost:8080/"
        },
        "outputId": "d66a8580-8724-4d4c-9468-4debbcd0b25f"
      },
      "source": [
        " ismn_data.collection['REMEDHUS']['Llanos_de_la_Boveda'].metadata"
      ],
      "execution_count": null,
      "outputs": [
        {
          "output_type": "execute_result",
          "data": {
            "text/plain": [
              "MetaData([\n",
              "  MetaVar([clay_fraction, 49.0, Depth([0.0, 0.3])]),\n",
              "  MetaVar([climate_KG, BSk, None]),\n",
              "  MetaVar([climate_insitu, unknown, None]),\n",
              "  MetaVar([elevation, -99.9, None]),\n",
              "  MetaVar([instrument, Stevens-Hydra-Probe, Depth([0.0, 0.05])]),\n",
              "  MetaVar([latitude, 41.35757, None]),\n",
              "  MetaVar([lc_2000, 10, None]),\n",
              "  MetaVar([lc_2005, 10, None]),\n",
              "  MetaVar([lc_2010, 10, None]),\n",
              "  MetaVar([lc_insitu, unknown, None]),\n",
              "  MetaVar([longitude, -5.33113, None]),\n",
              "  MetaVar([network, REMEDHUS, None]),\n",
              "  MetaVar([organic_carbon, 0.87, Depth([0.0, 0.3])]),\n",
              "  MetaVar([sand_fraction, 19.0, Depth([0.0, 0.3])]),\n",
              "  MetaVar([saturation, 0.5, Depth([0.0, 0.3])]),\n",
              "  MetaVar([silt_fraction, 32.0, Depth([0.0, 0.3])]),\n",
              "  MetaVar([station, Llanos_de_la_Boveda, None]),\n",
              "  MetaVar([timerange_from, 2017-03-01 00:00:00, None]),\n",
              "  MetaVar([timerange_to, 2020-12-31 23:00:00, None]),\n",
              "  MetaVar([variable, soil_temperature, Depth([0.0, 0.05])]),\n",
              "  MetaVar([variable, soil_moisture, Depth([0.0, 0.05])])\n",
              "])"
            ]
          },
          "metadata": {
            "tags": []
          },
          "execution_count": 14
        }
      ]
    },
    {
      "cell_type": "code",
      "metadata": {
        "colab": {
          "base_uri": "https://localhost:8080/"
        },
        "id": "GlSgh2QPp4d5",
        "outputId": "7d18e9f8-180a-4f9e-a7e4-3ba08d965e7c"
      },
      "source": [
        " ismn_data.collection['REMEDHUS']['Llanos_de_la_Boveda']"
      ],
      "execution_count": null,
      "outputs": [
        {
          "output_type": "execute_result",
          "data": {
            "text/plain": [
              "Sensors at 'Llanos_de_la_Boveda': ['Stevens-Hydra-Probe_soil_temperature_0.000000_0.050000', 'Stevens-Hydra-Probe_soil_moisture_0.000000_0.050000']"
            ]
          },
          "metadata": {
            "tags": []
          },
          "execution_count": 15
        }
      ]
    },
    {
      "cell_type": "code",
      "metadata": {
        "id": "LZTM7XNXAU2l"
      },
      "source": [
        "L=['Stevens-Hydra-Probe_soil_moisture_0.000000_0.050000']"
      ],
      "execution_count": null,
      "outputs": []
    },
    {
      "cell_type": "code",
      "metadata": {
        "id": "4jgemYrf9dge"
      },
      "source": [
        "## Utilities :\n",
        "\n",
        "def get_sensor_by(network, station):\n",
        "  df = []\n",
        "  \n",
        "  for index,value in enumerate(ismn_data.collection[network][station]) :\n",
        "    #print(\"soil_moisture\" in str(value),index)\n",
        "    #print(\"--------------\")\n",
        "    sensor = ismn_data.collection[str(network)][str(station)][str(value)]\n",
        "    \n",
        "    if str(value) in L :\n",
        "\n",
        "      ts = sensor.read_data()\n",
        "      ts.drop('soil_moisture_orig_flag', inplace=True, axis=1)  \n",
        "      ts.drop('soil_moisture_flag', inplace=True, axis=1)  \n",
        "      ts[\"depth\"] = float(str(value).split(\"_\")[-1])\n",
        "      ts.rename(columns={'soil_moisture': 'soil_moisture_depth_'+str(value).split(\"_\")[-1]},inplace=True)\n",
        "      df.append(ts)\n",
        "      allS = pd.concat(df)\n",
        "\n",
        "  \n",
        "  return allS\n",
        "\n",
        "def get_station_by(network):\n",
        "  df1 = []\n",
        "  for index,key in enumerate(ismn_data.collection[network]) :\n",
        "    #print(get_name(key))\n",
        "    data = get_sensor_by(network, get_name(key))\n",
        "    data[\"station\"] = get_name(key)\n",
        "    df1.append(data)\n",
        "\n",
        "  allN = pd.concat(df1)\n",
        "  allN.head()\n",
        "  return allN \n",
        "\n"
      ],
      "execution_count": null,
      "outputs": []
    },
    {
      "cell_type": "code",
      "metadata": {
        "id": "-faleKkR5ZnK"
      },
      "source": [
        "## Get The dataset of the network-station desired : \n",
        "\n",
        "dataset = get_sensor_by('REMEDHUS','Llanos_de_la_Boveda')"
      ],
      "execution_count": null,
      "outputs": []
    },
    {
      "cell_type": "code",
      "metadata": {
        "id": "63pc8Sjd5nMl"
      },
      "source": [
        "pd.set_option(\"display.max_rows\", False)"
      ],
      "execution_count": null,
      "outputs": []
    },
    {
      "cell_type": "code",
      "metadata": {
        "id": "HQ2C0gOOH9tW",
        "colab": {
          "base_uri": "https://localhost:8080/",
          "height": 252
        },
        "outputId": "5cf2806c-84ef-4f15-abd0-16b400a714ae"
      },
      "source": [
        "dataset.head()"
      ],
      "execution_count": null,
      "outputs": [
        {
          "output_type": "execute_result",
          "data": {
            "text/html": [
              "<div>\n",
              "<style scoped>\n",
              "    .dataframe tbody tr th:only-of-type {\n",
              "        vertical-align: middle;\n",
              "    }\n",
              "\n",
              "    .dataframe tbody tr th {\n",
              "        vertical-align: top;\n",
              "    }\n",
              "\n",
              "    .dataframe thead th {\n",
              "        text-align: right;\n",
              "    }\n",
              "</style>\n",
              "<table border=\"1\" class=\"dataframe\">\n",
              "  <thead>\n",
              "    <tr style=\"text-align: right;\">\n",
              "      <th></th>\n",
              "      <th>soil_moisture_depth_0.050000</th>\n",
              "      <th>depth</th>\n",
              "    </tr>\n",
              "    <tr>\n",
              "      <th>date_time</th>\n",
              "      <th></th>\n",
              "      <th></th>\n",
              "    </tr>\n",
              "  </thead>\n",
              "  <tbody>\n",
              "    <tr>\n",
              "      <th>2017-03-01 00:00:00</th>\n",
              "      <td>0.238</td>\n",
              "      <td>0.05</td>\n",
              "    </tr>\n",
              "    <tr>\n",
              "      <th>2017-03-01 01:00:00</th>\n",
              "      <td>0.238</td>\n",
              "      <td>0.05</td>\n",
              "    </tr>\n",
              "    <tr>\n",
              "      <th>2017-03-01 02:00:00</th>\n",
              "      <td>0.237</td>\n",
              "      <td>0.05</td>\n",
              "    </tr>\n",
              "    <tr>\n",
              "      <th>2017-03-01 03:00:00</th>\n",
              "      <td>0.236</td>\n",
              "      <td>0.05</td>\n",
              "    </tr>\n",
              "    <tr>\n",
              "      <th>2017-03-01 04:00:00</th>\n",
              "      <td>0.236</td>\n",
              "      <td>0.05</td>\n",
              "    </tr>\n",
              "  </tbody>\n",
              "</table>\n",
              "</div>"
            ],
            "text/plain": [
              "                     soil_moisture_depth_0.050000  depth\n",
              "date_time                                               \n",
              "2017-03-01 00:00:00                         0.238   0.05\n",
              "2017-03-01 01:00:00                         0.238   0.05\n",
              "2017-03-01 02:00:00                         0.237   0.05\n",
              "2017-03-01 03:00:00                         0.236   0.05\n",
              "2017-03-01 04:00:00                         0.236   0.05"
            ]
          },
          "metadata": {
            "tags": []
          },
          "execution_count": 19
        }
      ]
    },
    {
      "cell_type": "code",
      "metadata": {
        "colab": {
          "base_uri": "https://localhost:8080/",
          "height": 313
        },
        "id": "VgqGV7sbWnvo",
        "outputId": "0466ef4b-b9ca-4b7a-df09-0f9af20cc6f5"
      },
      "source": [
        "dataset.describe()"
      ],
      "execution_count": null,
      "outputs": [
        {
          "output_type": "execute_result",
          "data": {
            "text/html": [
              "<div>\n",
              "<style scoped>\n",
              "    .dataframe tbody tr th:only-of-type {\n",
              "        vertical-align: middle;\n",
              "    }\n",
              "\n",
              "    .dataframe tbody tr th {\n",
              "        vertical-align: top;\n",
              "    }\n",
              "\n",
              "    .dataframe thead th {\n",
              "        text-align: right;\n",
              "    }\n",
              "</style>\n",
              "<table border=\"1\" class=\"dataframe\">\n",
              "  <thead>\n",
              "    <tr style=\"text-align: right;\">\n",
              "      <th></th>\n",
              "      <th>soil_moisture_depth_0.050000</th>\n",
              "      <th>depth</th>\n",
              "    </tr>\n",
              "  </thead>\n",
              "  <tbody>\n",
              "    <tr>\n",
              "      <th>count</th>\n",
              "      <td>33283.000000</td>\n",
              "      <td>3.364800e+04</td>\n",
              "    </tr>\n",
              "    <tr>\n",
              "      <th>mean</th>\n",
              "      <td>0.205819</td>\n",
              "      <td>5.000000e-02</td>\n",
              "    </tr>\n",
              "    <tr>\n",
              "      <th>std</th>\n",
              "      <td>0.083589</td>\n",
              "      <td>2.919930e-14</td>\n",
              "    </tr>\n",
              "    <tr>\n",
              "      <th>min</th>\n",
              "      <td>0.085000</td>\n",
              "      <td>5.000000e-02</td>\n",
              "    </tr>\n",
              "    <tr>\n",
              "      <th>25%</th>\n",
              "      <td>0.139000</td>\n",
              "      <td>5.000000e-02</td>\n",
              "    </tr>\n",
              "    <tr>\n",
              "      <th>50%</th>\n",
              "      <td>0.205000</td>\n",
              "      <td>5.000000e-02</td>\n",
              "    </tr>\n",
              "    <tr>\n",
              "      <th>75%</th>\n",
              "      <td>0.246000</td>\n",
              "      <td>5.000000e-02</td>\n",
              "    </tr>\n",
              "    <tr>\n",
              "      <th>max</th>\n",
              "      <td>0.569000</td>\n",
              "      <td>5.000000e-02</td>\n",
              "    </tr>\n",
              "  </tbody>\n",
              "</table>\n",
              "</div>"
            ],
            "text/plain": [
              "       soil_moisture_depth_0.050000         depth\n",
              "count                  33283.000000  3.364800e+04\n",
              "mean                       0.205819  5.000000e-02\n",
              "std                        0.083589  2.919930e-14\n",
              "min                        0.085000  5.000000e-02\n",
              "25%                        0.139000  5.000000e-02\n",
              "50%                        0.205000  5.000000e-02\n",
              "75%                        0.246000  5.000000e-02\n",
              "max                        0.569000  5.000000e-02"
            ]
          },
          "metadata": {
            "tags": []
          },
          "execution_count": 20
        }
      ]
    },
    {
      "cell_type": "code",
      "metadata": {
        "id": "ipFtIL12DU2d"
      },
      "source": [
        "## Save the dataset as csv file :\n",
        "\n",
        "dataset.to_csv ('SMC_dataset_2017to2020.csv', header=True)"
      ],
      "execution_count": null,
      "outputs": []
    },
    {
      "cell_type": "code",
      "metadata": {
        "colab": {
          "base_uri": "https://localhost:8080/",
          "height": 221
        },
        "id": "b850UYkiQULE",
        "outputId": "074c17a5-f594-4b25-a8dd-30eb4a7ef1a3"
      },
      "source": [
        "## Check if the file is correctly saved :\n",
        "\n",
        "df = pd.read_csv('SMC_dataset_2017to2020.csv')\n",
        "df.tail()"
      ],
      "execution_count": null,
      "outputs": [
        {
          "output_type": "execute_result",
          "data": {
            "text/html": [
              "<div>\n",
              "<style scoped>\n",
              "    .dataframe tbody tr th:only-of-type {\n",
              "        vertical-align: middle;\n",
              "    }\n",
              "\n",
              "    .dataframe tbody tr th {\n",
              "        vertical-align: top;\n",
              "    }\n",
              "\n",
              "    .dataframe thead th {\n",
              "        text-align: right;\n",
              "    }\n",
              "</style>\n",
              "<table border=\"1\" class=\"dataframe\">\n",
              "  <thead>\n",
              "    <tr style=\"text-align: right;\">\n",
              "      <th></th>\n",
              "      <th>date_time</th>\n",
              "      <th>soil_moisture_depth_0.050000</th>\n",
              "      <th>depth</th>\n",
              "    </tr>\n",
              "  </thead>\n",
              "  <tbody>\n",
              "    <tr>\n",
              "      <th>33643</th>\n",
              "      <td>2020-12-31 19:00:00</td>\n",
              "      <td>0.456</td>\n",
              "      <td>0.05</td>\n",
              "    </tr>\n",
              "    <tr>\n",
              "      <th>33644</th>\n",
              "      <td>2020-12-31 20:00:00</td>\n",
              "      <td>0.460</td>\n",
              "      <td>0.05</td>\n",
              "    </tr>\n",
              "    <tr>\n",
              "      <th>33645</th>\n",
              "      <td>2020-12-31 21:00:00</td>\n",
              "      <td>0.459</td>\n",
              "      <td>0.05</td>\n",
              "    </tr>\n",
              "    <tr>\n",
              "      <th>33646</th>\n",
              "      <td>2020-12-31 22:00:00</td>\n",
              "      <td>0.459</td>\n",
              "      <td>0.05</td>\n",
              "    </tr>\n",
              "    <tr>\n",
              "      <th>33647</th>\n",
              "      <td>2020-12-31 23:00:00</td>\n",
              "      <td>0.459</td>\n",
              "      <td>0.05</td>\n",
              "    </tr>\n",
              "  </tbody>\n",
              "</table>\n",
              "</div>"
            ],
            "text/plain": [
              "                 date_time  soil_moisture_depth_0.050000  depth\n",
              "33643  2020-12-31 19:00:00                         0.456   0.05\n",
              "33644  2020-12-31 20:00:00                         0.460   0.05\n",
              "33645  2020-12-31 21:00:00                         0.459   0.05\n",
              "33646  2020-12-31 22:00:00                         0.459   0.05\n",
              "33647  2020-12-31 23:00:00                         0.459   0.05"
            ]
          },
          "metadata": {
            "tags": []
          },
          "execution_count": 22
        }
      ]
    },
    {
      "cell_type": "markdown",
      "metadata": {
        "id": "XehsN8c3Wwgh"
      },
      "source": [
        "## 2- Satellite Imagery :"
      ]
    },
    {
      "cell_type": "code",
      "metadata": {
        "id": "H9LaVZh-Wjep"
      },
      "source": [
        "## Requirements : \n",
        "\n",
        "import ee\n",
        "import folium\n",
        "from IPython.display import Image\n",
        "from datetime import datetime\n",
        "from datetime import timedelta"
      ],
      "execution_count": null,
      "outputs": []
    },
    {
      "cell_type": "code",
      "metadata": {
        "id": "Rndrrd9rW4TC"
      },
      "source": [
        "ee.Authenticate()"
      ],
      "execution_count": null,
      "outputs": []
    },
    {
      "cell_type": "code",
      "metadata": {
        "id": "6EF0TeuSXPRB"
      },
      "source": [
        "# Initialize the library.\n",
        "ee.Initialize()"
      ],
      "execution_count": null,
      "outputs": []
    },
    {
      "cell_type": "markdown",
      "metadata": {
        "id": "BDqwKPVBF41v"
      },
      "source": [
        "### Selection of a the region"
      ]
    },
    {
      "cell_type": "code",
      "metadata": {
        "id": "683CxjWorf5i"
      },
      "source": [
        "pip install geemap"
      ],
      "execution_count": null,
      "outputs": []
    },
    {
      "cell_type": "code",
      "metadata": {
        "id": "TryztA6XXU5V"
      },
      "source": [
        "import geemap"
      ],
      "execution_count": null,
      "outputs": []
    },
    {
      "cell_type": "code",
      "metadata": {
        "id": "t_5cRQbaWdKA",
        "colab": {
          "base_uri": "https://localhost:8080/"
        },
        "outputId": "ca726de6-670e-4785-e1af-534b74b3befe"
      },
      "source": [
        "## Downloading images of the region :\n",
        "\n",
        "lat1 =   -5.3339194363612314\n",
        "long1 = 41.36287691309333\n",
        "lat2 =   -5.329676818510049\n",
        "long2 = 41.353247629449925 \n",
        "lat3 = -5.34442\n",
        "long3 = 41.35014 \n",
        "lat4 =  -5.348314032642031\n",
        "long4 = 41.35999585947626 \n",
        "\n",
        "\n",
        "aoi = ee.Geometry.Polygon([[[lat1, long1], [lat2, long2], [lat3, long3], [lat4, long4]]])\n",
        "\n",
        "CLOUD_FILTER = 60\n",
        "\n",
        "time_range=['2017-03-29', '2020-12-31']\n",
        "\n",
        "sentinel_filtered = (ee.ImageCollection('COPERNICUS/S2_SR').\n",
        "                         filterBounds(aoi).\n",
        "                         select(['B1','B2','B3','B4','B5','B6','B7','B8','B8A','B9','B11','B12']).\n",
        "                         filterDate(time_range[0], time_range[1]).\n",
        "                         filter(ee.Filter.lte('CLOUDY_PIXEL_PERCENTAGE', CLOUD_FILTER))\n",
        "                         )\n",
        "\n",
        "\n",
        "geemap.ee_export_image_collection_to_drive(sentinel_filtered, folder='Senti_Images-2017to2020_newArea', scale=10, region=aoi)\n"
      ],
      "execution_count": null,
      "outputs": [
        {
          "output_type": "stream",
          "text": [
            "Total number of images: 484\n",
            "\n",
            "Exporting 20170412T110621_20170412T111708_T30TUL ...\n",
            "Exporting 20170502T110621_20170502T110937_T29TQF ...\n",
            "Exporting 20170502T110621_20170502T110937_T30TTL ...\n",
            "Exporting 20170502T110621_20170502T110937_T30TUL ...\n",
            "Exporting 20170512T110651_20170512T111302_T30TTL ...\n",
            "Exporting 20170522T110621_20170522T110912_T29TQF ...\n",
            "Exporting 20170522T110621_20170522T110912_T30TTL ...\n",
            "Exporting 20170522T110621_20170522T110912_T30TUL ...\n",
            "Exporting 20170601T110651_20170601T111225_T29TQF ...\n",
            "Exporting 20170601T110651_20170601T111225_T30TTL ...\n",
            "Exporting 20170601T110651_20170601T111225_T30TUL ...\n",
            "Exporting 20170611T110621_20170611T111012_T29TQF ...\n",
            "Exporting 20170611T110621_20170611T111012_T30TTL ...\n",
            "Exporting 20170611T110621_20170611T111012_T30TUL ...\n",
            "Exporting 20170621T110651_20170621T111222_T29TQF ...\n",
            "Exporting 20170621T110651_20170621T111222_T30TTL ...\n",
            "Exporting 20170621T110651_20170621T111222_T30TUL ...\n",
            "Exporting 20170701T111051_20170701T111746_T29TQF ...\n",
            "Exporting 20170701T111051_20170701T111746_T30TTL ...\n",
            "Exporting 20170701T111051_20170701T111746_T30TUL ...\n",
            "Exporting 20170711T110651_20170711T111223_T29TQF ...\n",
            "Exporting 20170711T110651_20170711T111223_T30TTL ...\n",
            "Exporting 20170711T110651_20170711T111223_T30TUL ...\n",
            "Exporting 20170721T110621_20170721T110758_T29TQF ...\n",
            "Exporting 20170721T110621_20170721T110758_T30TTL ...\n",
            "Exporting 20170721T110621_20170721T110758_T30TUL ...\n",
            "Exporting 20170731T110651_20170731T111220_T29TQF ...\n",
            "Exporting 20170731T110651_20170731T111220_T30TTL ...\n",
            "Exporting 20170731T110651_20170731T111220_T30TUL ...\n",
            "Exporting 20170820T110651_20170820T111220_T29TQF ...\n",
            "Exporting 20170820T110651_20170820T111220_T30TTL ...\n",
            "Exporting 20170820T110651_20170820T111220_T30TUL ...\n",
            "Exporting 20170830T110621_20170830T110910_T29TQF ...\n",
            "Exporting 20170830T110621_20170830T110910_T30TTL ...\n",
            "Exporting 20170830T110621_20170830T110910_T30TUL ...\n",
            "Exporting 20170909T110651_20170909T111217_T29TQF ...\n",
            "Exporting 20170909T110651_20170909T111217_T30TTL ...\n",
            "Exporting 20170909T110651_20170909T111217_T30TUL ...\n",
            "Exporting 20170919T110721_20170919T111808_T29TQF ...\n",
            "Exporting 20170919T110721_20170919T111808_T30TTL ...\n",
            "Exporting 20170919T110721_20170919T111808_T30TUL ...\n",
            "Exporting 20170929T110841_20170929T111602_T29TQF ...\n",
            "Exporting 20170929T110841_20170929T111602_T30TTL ...\n",
            "Exporting 20170929T110841_20170929T111602_T30TUL ...\n",
            "Exporting 20171009T110951_20171009T111500_T29TQF ...\n",
            "Exporting 20171009T110951_20171009T111500_T30TTL ...\n",
            "Exporting 20171009T110951_20171009T111500_T30TUL ...\n",
            "Exporting 20171019T111051_20171019T111235_T30TUL ...\n",
            "Exporting 20171029T111201_20171029T111156_T29TQF ...\n",
            "Exporting 20171029T111201_20171029T111156_T30TTL ...\n",
            "Exporting 20171029T111201_20171029T111156_T30TUL ...\n",
            "Exporting 20171108T111251_20171108T111250_T29TQF ...\n",
            "Exporting 20171108T111251_20171108T111250_T30TTL ...\n",
            "Exporting 20171108T111251_20171108T111250_T30TUL ...\n",
            "Exporting 20171118T111341_20171118T111633_T29TQF ...\n",
            "Exporting 20171118T111341_20171118T111633_T30TTL ...\n",
            "Exporting 20171118T111341_20171118T111633_T30TUL ...\n",
            "Exporting 20171128T111411_20171128T111835_T30TUL ...\n",
            "Exporting 20171218T111451_20171218T111449_T29TQF ...\n",
            "Exporting 20171218T111451_20171218T111449_T30TTL ...\n",
            "Exporting 20171218T111451_20171218T111449_T30TUL ...\n",
            "Exporting 20171223T111449_20171223T111445_T30TUL ...\n",
            "Exporting 20180117T111401_20180117T111403_T29TQF ...\n",
            "Exporting 20180117T111401_20180117T111403_T30TTL ...\n",
            "Exporting 20180117T111401_20180117T111403_T30TUL ...\n",
            "Exporting 20180122T111339_20180122T111342_T29TQF ...\n",
            "Exporting 20180122T111339_20180122T111342_T30TTL ...\n",
            "Exporting 20180127T111321_20180127T111322_T29TQF ...\n",
            "Exporting 20180127T111321_20180127T111322_T30TTL ...\n",
            "Exporting 20180127T111321_20180127T111322_T30TUL ...\n",
            "Exporting 20180206T111231_20180206T111736_T30TTL ...\n",
            "Exporting 20180206T111231_20180206T111736_T30TUL ...\n",
            "Exporting 20180216T111131_20180216T111128_T29TQF ...\n",
            "Exporting 20180216T111131_20180216T111128_T30TTL ...\n",
            "Exporting 20180216T111131_20180216T111128_T30TUL ...\n",
            "Exporting 20180221T111049_20180221T111202_T30TUL ...\n",
            "Exporting 20180226T111011_20180226T111426_T30TUL ...\n",
            "Exporting 20180303T110939_20180303T111405_T30TUL ...\n",
            "Exporting 20180308T110911_20180308T111555_T30TUL ...\n",
            "Exporting 20180318T110801_20180318T111938_T29TQF ...\n",
            "Exporting 20180318T110801_20180318T111938_T30TTL ...\n",
            "Exporting 20180318T110801_20180318T111938_T30TUL ...\n",
            "Exporting 20180417T110651_20180417T110822_T29TQF ...\n",
            "Exporting 20180417T110651_20180417T110822_T30TTL ...\n",
            "Exporting 20180417T110651_20180417T110822_T30TUL ...\n",
            "Exporting 20180427T110621_20180427T111527_T29TQF ...\n",
            "Exporting 20180427T110621_20180427T111527_T30TTL ...\n",
            "Exporting 20180427T110621_20180427T111527_T30TUL ...\n",
            "Exporting 20180507T110621_20180507T110835_T29TQF ...\n",
            "Exporting 20180507T110621_20180507T110835_T30TTL ...\n",
            "Exporting 20180507T110621_20180507T110835_T30TUL ...\n",
            "Exporting 20180512T110619_20180512T111530_T29TQF ...\n",
            "Exporting 20180512T110619_20180512T111530_T30TTL ...\n",
            "Exporting 20180512T110619_20180512T111530_T30TUL ...\n",
            "Exporting 20180517T110621_20180517T111020_T29TQF ...\n",
            "Exporting 20180517T110621_20180517T111020_T30TTL ...\n",
            "Exporting 20180517T110621_20180517T111020_T30TUL ...\n",
            "Exporting 20180522T111049_20180522T111119_T29TQF ...\n",
            "Exporting 20180522T111049_20180522T111119_T30TTL ...\n",
            "Exporting 20180522T111049_20180522T111119_T30TUL ...\n",
            "Exporting 20180527T110651_20180527T111141_T29TQF ...\n",
            "Exporting 20180527T110651_20180527T111141_T30TTL ...\n",
            "Exporting 20180527T110651_20180527T111141_T30TUL ...\n",
            "Exporting 20180606T111051_20180606T111256_T29TQF ...\n",
            "Exporting 20180606T111051_20180606T111256_T30TTL ...\n",
            "Exporting 20180616T110621_20180616T111245_T29TQF ...\n",
            "Exporting 20180616T110621_20180616T111245_T30TTL ...\n",
            "Exporting 20180616T110621_20180616T111245_T30TUL ...\n",
            "Exporting 20180621T110619_20180621T111349_T29TQF ...\n",
            "Exporting 20180621T110619_20180621T111349_T30TTL ...\n",
            "Exporting 20180621T110619_20180621T111349_T30TUL ...\n",
            "Exporting 20180626T110621_20180626T111803_T29TQF ...\n",
            "Exporting 20180626T110621_20180626T111803_T30TTL ...\n",
            "Exporting 20180626T110621_20180626T111803_T30TUL ...\n",
            "Exporting 20180701T110619_20180701T111103_T29TQF ...\n",
            "Exporting 20180701T110619_20180701T111103_T30TTL ...\n",
            "Exporting 20180701T110619_20180701T111103_T30TUL ...\n",
            "Exporting 20180706T110621_20180706T110918_T29TQF ...\n",
            "Exporting 20180706T110621_20180706T110918_T30TTL ...\n",
            "Exporting 20180706T110621_20180706T110918_T30TUL ...\n",
            "Exporting 20180711T110619_20180711T111139_T29TQF ...\n",
            "Exporting 20180711T110619_20180711T111139_T30TTL ...\n",
            "Exporting 20180711T110619_20180711T111139_T30TUL ...\n",
            "Exporting 20180716T110621_20180716T111023_T29TQF ...\n",
            "Exporting 20180716T110621_20180716T111023_T30TTL ...\n",
            "Exporting 20180716T110621_20180716T111023_T30TUL ...\n",
            "Exporting 20180726T110621_20180726T111615_T29TQF ...\n",
            "Exporting 20180726T110621_20180726T111615_T30TTL ...\n",
            "Exporting 20180726T110621_20180726T111615_T30TUL ...\n",
            "Exporting 20180731T110619_20180731T111437_T29TQF ...\n",
            "Exporting 20180731T110619_20180731T111437_T30TTL ...\n",
            "Exporting 20180731T110619_20180731T111437_T30TUL ...\n",
            "Exporting 20180810T110649_20180810T111743_T29TQF ...\n",
            "Exporting 20180810T110649_20180810T111743_T30TTL ...\n",
            "Exporting 20180810T110649_20180810T111743_T30TUL ...\n",
            "Exporting 20180815T110651_20180815T111826_T29TQF ...\n",
            "Exporting 20180815T110651_20180815T111826_T30TTL ...\n",
            "Exporting 20180815T110651_20180815T111826_T30TUL ...\n",
            "Exporting 20180820T110609_20180820T111459_T29TQF ...\n",
            "Exporting 20180820T110609_20180820T111459_T30TTL ...\n",
            "Exporting 20180820T110609_20180820T111459_T30TUL ...\n",
            "Exporting 20180825T110621_20180825T111624_T29TQF ...\n",
            "Exporting 20180825T110621_20180825T111624_T30TTL ...\n",
            "Exporting 20180825T110621_20180825T111624_T30TUL ...\n",
            "Exporting 20180830T110609_20180830T111449_T29TQF ...\n",
            "Exporting 20180830T110609_20180830T111449_T30TTL ...\n",
            "Exporting 20180830T110609_20180830T111449_T30TUL ...\n",
            "Exporting 20180904T110621_20180904T110820_T29TQF ...\n",
            "Exporting 20180904T110621_20180904T110820_T30TTL ...\n",
            "Exporting 20180904T110621_20180904T110820_T30TUL ...\n",
            "Exporting 20180909T110609_20180909T111319_T29TQF ...\n",
            "Exporting 20180909T110609_20180909T111319_T30TTL ...\n",
            "Exporting 20180909T110609_20180909T111319_T30TUL ...\n",
            "Exporting 20180914T110651_20180914T111041_T29TQF ...\n",
            "Exporting 20180914T110651_20180914T111041_T30TTL ...\n",
            "Exporting 20180914T110651_20180914T111041_T30TUL ...\n",
            "Exporting 20180919T110719_20180919T111256_T29TQF ...\n",
            "Exporting 20180919T110719_20180919T111256_T30TTL ...\n",
            "Exporting 20180919T110719_20180919T111256_T30TUL ...\n",
            "Exporting 20180924T110801_20180924T111416_T29TQF ...\n",
            "Exporting 20180924T110801_20180924T111416_T30TTL ...\n",
            "Exporting 20180924T110801_20180924T111416_T30TUL ...\n",
            "Exporting 20180929T110829_20180929T111054_T29TQF ...\n",
            "Exporting 20180929T110829_20180929T111054_T30TTL ...\n",
            "Exporting 20180929T110829_20180929T111054_T30TUL ...\n",
            "Exporting 20181004T110911_20181004T111920_T29TQF ...\n",
            "Exporting 20181004T110911_20181004T111920_T30TTL ...\n",
            "Exporting 20181004T110911_20181004T111920_T30TUL ...\n",
            "Exporting 20181009T110939_20181009T111854_T29TQF ...\n",
            "Exporting 20181009T110939_20181009T111854_T30TTL ...\n",
            "Exporting 20181009T110939_20181009T111854_T30TUL ...\n",
            "Exporting 20181024T111121_20181024T111839_T29TQF ...\n",
            "Exporting 20181024T111121_20181024T111839_T30TTL ...\n",
            "Exporting 20181024T111121_20181024T111839_T30TUL ...\n",
            "Exporting 20181029T111149_20181029T111709_T29TQF ...\n",
            "Exporting 20181029T111149_20181029T111709_T30TTL ...\n",
            "Exporting 20181029T111149_20181029T111709_T30TUL ...\n",
            "Exporting 20181103T111221_20181103T111436_T29TQF ...\n",
            "Exporting 20181103T111221_20181103T111436_T30TTL ...\n",
            "Exporting 20181103T111221_20181103T111436_T30TUL ...\n",
            "Exporting 20181123T111351_20181123T111435_T29TQF ...\n",
            "Exporting 20181123T111351_20181123T111435_T30TTL ...\n",
            "Exporting 20181123T111351_20181123T111435_T30TUL ...\n",
            "Exporting 20181203T111421_20181203T111421_T29TQF ...\n",
            "Exporting 20181203T111421_20181203T111421_T30TTL ...\n",
            "Exporting 20181203T111421_20181203T111421_T30TUL ...\n",
            "Exporting 20181208T111439_20181208T111437_T30TUL ...\n",
            "Exporting 20181213T111441_20181213T111442_T29TQF ...\n",
            "Exporting 20181213T111441_20181213T111442_T30TTL ...\n",
            "Exporting 20190102T111441_20190102T111444_T29TQF ...\n",
            "Exporting 20190102T111441_20190102T111444_T30TTL ...\n",
            "Exporting 20190102T111441_20190102T111444_T30TUL ...\n",
            "Exporting 20190107T111439_20190107T111438_T29TQF ...\n",
            "Exporting 20190107T111439_20190107T111438_T30TTL ...\n",
            "Exporting 20190107T111439_20190107T111438_T30TUL ...\n",
            "Exporting 20190112T111421_20190112T111436_T29TQF ...\n",
            "Exporting 20190112T111421_20190112T111436_T30TTL ...\n",
            "Exporting 20190112T111421_20190112T111436_T30TUL ...\n",
            "Exporting 20190127T111329_20190127T111328_T29TQF ...\n",
            "Exporting 20190127T111329_20190127T111328_T30TTL ...\n",
            "Exporting 20190127T111329_20190127T111328_T30TUL ...\n",
            "Exporting 20190201T111301_20190201T111300_T30TUL ...\n",
            "Exporting 20190206T111239_20190206T111757_T29TQF ...\n",
            "Exporting 20190206T111239_20190206T111757_T30TTL ...\n",
            "Exporting 20190206T111239_20190206T111757_T30TUL ...\n",
            "Exporting 20190211T111201_20190211T111437_T29TQF ...\n",
            "Exporting 20190211T111201_20190211T111437_T30TTL ...\n",
            "Exporting 20190211T111201_20190211T111437_T30TUL ...\n",
            "Exporting 20190216T111129_20190216T111505_T29TQF ...\n",
            "Exporting 20190216T111129_20190216T111505_T30TTL ...\n",
            "Exporting 20190216T111129_20190216T111505_T30TUL ...\n",
            "Exporting 20190221T111101_20190221T111436_T29TQF ...\n",
            "Exporting 20190221T111101_20190221T111436_T30TTL ...\n",
            "Exporting 20190221T111101_20190221T111436_T30TUL ...\n",
            "Exporting 20190226T111049_20190226T111048_T29TQF ...\n",
            "Exporting 20190226T111049_20190226T111048_T30TTL ...\n",
            "Exporting 20190226T111049_20190226T111048_T30TUL ...\n",
            "Exporting 20190303T110951_20190303T111817_T30TUL ...\n",
            "Exporting 20190308T110909_20190308T111627_T29TQF ...\n",
            "Exporting 20190308T110909_20190308T111627_T30TTL ...\n",
            "Exporting 20190308T110909_20190308T111627_T30TUL ...\n",
            "Exporting 20190313T110831_20190313T111836_T29TQF ...\n",
            "Exporting 20190313T110831_20190313T111836_T30TTL ...\n",
            "Exporting 20190313T110831_20190313T111836_T30TUL ...\n",
            "Exporting 20190318T110759_20190318T110800_T29TQF ...\n",
            "Exporting 20190318T110759_20190318T110800_T30TTL ...\n",
            "Exporting 20190318T110759_20190318T110800_T30TUL ...\n",
            "Exporting 20190323T110721_20190323T110800_T29TQF ...\n",
            "Exporting 20190323T110721_20190323T110800_T30TTL ...\n",
            "Exporting 20190323T110721_20190323T110800_T30TUL ...\n",
            "Exporting 20190328T111049_20190328T111608_T29TQF ...\n",
            "Exporting 20190328T111049_20190328T111608_T30TTL ...\n",
            "Exporting 20190328T111049_20190328T111608_T30TUL ...\n",
            "Exporting 20190402T110621_20190402T110826_T29TQF ...\n",
            "Exporting 20190402T110621_20190402T110826_T30TTL ...\n",
            "Exporting 20190402T110621_20190402T110826_T30TUL ...\n",
            "Exporting 20190412T110621_20190412T111313_T29TQF ...\n",
            "Exporting 20190412T110621_20190412T111313_T30TTL ...\n",
            "Exporting 20190412T110621_20190412T111313_T30TUL ...\n",
            "Exporting 20190422T110621_20190422T111343_T29TQF ...\n",
            "Exporting 20190422T110621_20190422T111343_T30TTL ...\n",
            "Exporting 20190422T110621_20190422T111343_T30TUL ...\n",
            "Exporting 20190427T110629_20190427T111242_T29TQF ...\n",
            "Exporting 20190427T110629_20190427T111242_T30TTL ...\n",
            "Exporting 20190427T110629_20190427T111242_T30TUL ...\n",
            "Exporting 20190502T110621_20190502T111339_T29TQF ...\n",
            "Exporting 20190502T110621_20190502T111339_T30TTL ...\n",
            "Exporting 20190502T110621_20190502T111339_T30TUL ...\n",
            "Exporting 20190512T110621_20190512T111315_T29TQF ...\n",
            "Exporting 20190512T110621_20190512T111315_T30TTL ...\n",
            "Exporting 20190512T110621_20190512T111315_T30TUL ...\n",
            "Exporting 20190522T110621_20190522T111926_T29TQF ...\n",
            "Exporting 20190522T110621_20190522T111926_T30TTL ...\n",
            "Exporting 20190522T110621_20190522T111926_T30TUL ...\n",
            "Exporting 20190527T110629_20190527T111243_T29TQF ...\n",
            "Exporting 20190527T110629_20190527T111243_T30TTL ...\n",
            "Exporting 20190527T110629_20190527T111243_T30TUL ...\n",
            "Exporting 20190601T110621_20190601T111704_T29TQF ...\n",
            "Exporting 20190601T110621_20190601T111704_T30TTL ...\n",
            "Exporting 20190601T110621_20190601T111704_T30TUL ...\n",
            "Exporting 20190606T110629_20190606T111434_T29TQF ...\n",
            "Exporting 20190606T110629_20190606T111434_T30TTL ...\n",
            "Exporting 20190606T110629_20190606T111434_T30TUL ...\n",
            "Exporting 20190611T110621_20190611T110955_T29TQF ...\n",
            "Exporting 20190611T110621_20190611T110955_T30TTL ...\n",
            "Exporting 20190611T110621_20190611T110955_T30TUL ...\n",
            "Exporting 20190621T110621_20190621T111340_T29TQF ...\n",
            "Exporting 20190621T110621_20190621T111340_T30TTL ...\n",
            "Exporting 20190621T110621_20190621T111340_T30TUL ...\n",
            "Exporting 20190626T110629_20190626T111243_T29TQF ...\n",
            "Exporting 20190626T110629_20190626T111243_T30TTL ...\n",
            "Exporting 20190626T110629_20190626T111243_T30TUL ...\n",
            "Exporting 20190701T110621_20190701T111753_T29TQF ...\n",
            "Exporting 20190701T110621_20190701T111753_T30TTL ...\n",
            "Exporting 20190701T110621_20190701T111753_T30TUL ...\n",
            "Exporting 20190706T110629_20190706T111442_T29TQF ...\n",
            "Exporting 20190706T110629_20190706T111442_T30TTL ...\n",
            "Exporting 20190706T110629_20190706T111442_T30TUL ...\n",
            "Exporting 20190711T110631_20190711T111845_T29TQF ...\n",
            "Exporting 20190711T110631_20190711T111845_T30TTL ...\n",
            "Exporting 20190711T110631_20190711T111845_T30TUL ...\n",
            "Exporting 20190716T110629_20190716T111721_T29TQF ...\n",
            "Exporting 20190716T110629_20190716T111721_T30TTL ...\n",
            "Exporting 20190716T110629_20190716T111721_T30TUL ...\n",
            "Exporting 20190721T110631_20190721T111758_T29TQF ...\n",
            "Exporting 20190721T110631_20190721T111758_T30TTL ...\n",
            "Exporting 20190721T110631_20190721T111758_T30TUL ...\n",
            "Exporting 20190726T110629_20190726T111240_T29TQF ...\n",
            "Exporting 20190726T110629_20190726T111240_T30TTL ...\n",
            "Exporting 20190726T110629_20190726T111240_T30TUL ...\n",
            "Exporting 20190731T110621_20190731T111742_T30TUL ...\n",
            "Exporting 20190805T110629_20190805T111336_T29TQF ...\n",
            "Exporting 20190805T110629_20190805T111336_T30TTL ...\n",
            "Exporting 20190805T110629_20190805T111336_T30TUL ...\n",
            "Exporting 20190810T110621_20190810T110957_T29TQF ...\n",
            "Exporting 20190810T110621_20190810T110957_T30TTL ...\n",
            "Exporting 20190810T110621_20190810T110957_T30TUL ...\n",
            "Exporting 20190815T110629_20190815T111321_T29TQF ...\n",
            "Exporting 20190815T110629_20190815T111321_T30TTL ...\n",
            "Exporting 20190815T110629_20190815T111321_T30TUL ...\n",
            "Exporting 20190820T110621_20190820T111346_T29TQF ...\n",
            "Exporting 20190820T110621_20190820T111346_T30TTL ...\n",
            "Exporting 20190820T110621_20190820T111346_T30TUL ...\n",
            "Exporting 20190825T110629_20190825T111008_T30TUL ...\n",
            "Exporting 20190830T110621_20190830T111700_T29TQF ...\n",
            "Exporting 20190830T110621_20190830T111700_T30TTL ...\n",
            "Exporting 20190830T110621_20190830T111700_T30TUL ...\n",
            "Exporting 20190904T110619_20190904T110850_T29TQF ...\n",
            "Exporting 20190904T110619_20190904T110850_T30TTL ...\n",
            "Exporting 20190904T110619_20190904T110850_T30TUL ...\n",
            "Exporting 20190909T110621_20190909T111838_T29TQF ...\n",
            "Exporting 20190909T110621_20190909T111838_T30TTL ...\n",
            "Exporting 20190909T110621_20190909T111838_T30TUL ...\n",
            "Exporting 20190914T110649_20190914T110919_T29TQF ...\n",
            "Exporting 20190914T110649_20190914T110919_T30TTL ...\n",
            "Exporting 20190919T110721_20190919T111421_T29TQF ...\n",
            "Exporting 20190919T110721_20190919T111421_T30TTL ...\n",
            "Exporting 20190919T110721_20190919T111421_T30TUL ...\n",
            "Exporting 20190929T110841_20190929T111415_T29TQF ...\n",
            "Exporting 20190929T110841_20190929T111415_T30TTL ...\n",
            "Exporting 20190929T110841_20190929T111415_T30TUL ...\n",
            "Exporting 20191004T110909_20191004T111852_T29TQF ...\n",
            "Exporting 20191004T110909_20191004T111852_T30TTL ...\n",
            "Exporting 20191004T110909_20191004T111852_T30TUL ...\n",
            "Exporting 20191009T110951_20191009T110953_T29TQF ...\n",
            "Exporting 20191009T110951_20191009T110953_T30TTL ...\n",
            "Exporting 20191009T110951_20191009T110953_T30TUL ...\n",
            "Exporting 20191014T111019_20191014T111715_T30TUL ...\n",
            "Exporting 20191019T111101_20191019T111446_T30TUL ...\n",
            "Exporting 20191024T111049_20191024T111604_T29TQF ...\n",
            "Exporting 20191024T111049_20191024T111604_T30TTL ...\n",
            "Exporting 20191024T111049_20191024T111604_T30TUL ...\n",
            "Exporting 20191029T111201_20191029T111443_T29TQF ...\n",
            "Exporting 20191029T111201_20191029T111443_T30TTL ...\n",
            "Exporting 20191029T111201_20191029T111443_T30TUL ...\n",
            "Exporting 20191103T111129_20191103T111443_T30TUL ...\n",
            "Exporting 20191108T111251_20191108T111445_T29TQF ...\n",
            "Exporting 20191108T111251_20191108T111445_T30TTL ...\n",
            "Exporting 20191108T111251_20191108T111445_T30TUL ...\n",
            "Exporting 20191113T111219_20191113T111904_T29TQF ...\n",
            "Exporting 20191113T111219_20191113T111904_T30TTL ...\n",
            "Exporting 20191113T111219_20191113T111904_T30TUL ...\n",
            "Exporting 20191118T111341_20191118T111444_T29TQF ...\n",
            "Exporting 20191118T111341_20191118T111444_T30TTL ...\n",
            "Exporting 20191118T111341_20191118T111444_T30TUL ...\n",
            "Exporting 20191123T111259_20191123T111438_T29TQF ...\n",
            "Exporting 20191123T111259_20191123T111438_T30TTL ...\n",
            "Exporting 20191123T111259_20191123T111438_T30TUL ...\n",
            "Exporting 20191203T111329_20191203T111436_T29TQF ...\n",
            "Exporting 20191203T111329_20191203T111436_T30TTL ...\n",
            "Exporting 20191203T111329_20191203T111436_T30TUL ...\n",
            "Exporting 20191218T111451_20191218T111448_T30TUL ...\n",
            "Exporting 20191228T111451_20191228T111449_T29TQF ...\n",
            "Exporting 20191228T111451_20191228T111449_T30TTL ...\n",
            "Exporting 20191228T111451_20191228T111449_T30TUL ...\n",
            "Exporting 20200107T111431_20200107T111434_T30TUL ...\n",
            "Exporting 20200112T111329_20200112T111437_T29TQF ...\n",
            "Exporting 20200112T111329_20200112T111437_T30TTL ...\n",
            "Exporting 20200112T111329_20200112T111437_T30TUL ...\n",
            "Exporting 20200122T111249_20200122T111436_T29TQF ...\n",
            "Exporting 20200122T111249_20200122T111436_T30TTL ...\n",
            "Exporting 20200206T111231_20200206T111434_T29TQF ...\n",
            "Exporting 20200206T111231_20200206T111434_T30TTL ...\n",
            "Exporting 20200206T111231_20200206T111434_T30TUL ...\n",
            "Exporting 20200216T111131_20200216T111437_T29TQF ...\n",
            "Exporting 20200216T111131_20200216T111437_T30TTL ...\n",
            "Exporting 20200216T111131_20200216T111437_T30TUL ...\n",
            "Exporting 20200221T110959_20200221T111742_T29TQF ...\n",
            "Exporting 20200221T110959_20200221T111742_T30TTL ...\n",
            "Exporting 20200221T110959_20200221T111742_T30TUL ...\n",
            "Exporting 20200226T111051_20200226T111642_T29TQF ...\n",
            "Exporting 20200226T111051_20200226T111642_T30TTL ...\n",
            "Exporting 20200226T111051_20200226T111642_T30TUL ...\n",
            "Exporting 20200302T110849_20200302T111641_T29TQF ...\n",
            "Exporting 20200302T110849_20200302T111641_T30TTL ...\n",
            "Exporting 20200302T110849_20200302T111641_T30TUL ...\n",
            "Exporting 20200307T110911_20200307T111438_T29TQF ...\n",
            "Exporting 20200307T110911_20200307T111438_T30TTL ...\n",
            "Exporting 20200327T110651_20200327T111753_T29TQF ...\n",
            "Exporting 20200327T110651_20200327T111753_T30TTL ...\n",
            "Exporting 20200327T110651_20200327T111753_T30TUL ...\n",
            "Exporting 20200411T110619_20200411T111238_T30TTL ...\n",
            "Exporting 20200506T110621_20200506T110845_T30TUL ...\n",
            "Exporting 20200511T110619_20200511T111534_T30TUL ...\n",
            "Exporting 20200516T110631_20200516T111555_T29TQF ...\n",
            "Exporting 20200516T110631_20200516T111555_T30TTL ...\n",
            "Exporting 20200516T110631_20200516T111555_T30TUL ...\n",
            "Exporting 20200521T110619_20200521T111355_T29TQF ...\n",
            "Exporting 20200521T110619_20200521T111355_T30TTL ...\n",
            "Exporting 20200521T110619_20200521T111355_T30TUL ...\n",
            "Exporting 20200526T110631_20200526T111712_T29TQF ...\n",
            "Exporting 20200526T110631_20200526T111712_T30TTL ...\n",
            "Exporting 20200526T110631_20200526T111712_T30TUL ...\n",
            "Exporting 20200531T110619_20200531T111348_T29TQF ...\n",
            "Exporting 20200531T110619_20200531T111348_T30TTL ...\n",
            "Exporting 20200605T110631_20200605T111907_T29TQF ...\n",
            "Exporting 20200605T110631_20200605T111907_T30TTL ...\n",
            "Exporting 20200605T110631_20200605T111907_T30TUL ...\n",
            "Exporting 20200610T110619_20200610T111411_T29TQF ...\n",
            "Exporting 20200610T110619_20200610T111411_T30TTL ...\n",
            "Exporting 20200610T110619_20200610T111411_T30TUL ...\n",
            "Exporting 20200615T110631_20200615T111321_T29TQF ...\n",
            "Exporting 20200615T110631_20200615T111321_T30TTL ...\n",
            "Exporting 20200615T110631_20200615T111321_T30TUL ...\n",
            "Exporting 20200620T110619_20200620T111013_T29TQF ...\n",
            "Exporting 20200620T110619_20200620T111013_T30TTL ...\n",
            "Exporting 20200620T110619_20200620T111013_T30TUL ...\n",
            "Exporting 20200625T110631_20200625T111446_T29TQF ...\n",
            "Exporting 20200625T110631_20200625T111446_T30TTL ...\n",
            "Exporting 20200625T110631_20200625T111446_T30TUL ...\n",
            "Exporting 20200630T110619_20200630T110734_T29TQF ...\n",
            "Exporting 20200630T110619_20200630T110734_T30TTL ...\n",
            "Exporting 20200630T110619_20200630T110734_T30TUL ...\n",
            "Exporting 20200705T110621_20200705T111905_T29TQF ...\n",
            "Exporting 20200705T110621_20200705T111905_T30TTL ...\n",
            "Exporting 20200705T110621_20200705T111905_T30TUL ...\n",
            "Exporting 20200710T110619_20200710T111540_T29TQF ...\n",
            "Exporting 20200710T110619_20200710T111540_T30TTL ...\n",
            "Exporting 20200710T110619_20200710T111540_T30TUL ...\n",
            "Exporting 20200715T110621_20200715T110914_T29TQF ...\n",
            "Exporting 20200715T110621_20200715T110914_T30TTL ...\n",
            "Exporting 20200715T110621_20200715T110914_T30TUL ...\n",
            "Exporting 20200720T110619_20200720T111156_T29TQF ...\n",
            "Exporting 20200720T110619_20200720T111156_T30TTL ...\n",
            "Exporting 20200720T110619_20200720T111156_T30TUL ...\n",
            "Exporting 20200725T110631_20200725T111714_T29TQF ...\n",
            "Exporting 20200725T110631_20200725T111714_T30TTL ...\n",
            "Exporting 20200725T110631_20200725T111714_T30TUL ...\n",
            "Exporting 20200730T110619_20200730T111530_T29TQF ...\n",
            "Exporting 20200730T110619_20200730T111530_T30TTL ...\n",
            "Exporting 20200730T110619_20200730T111530_T30TUL ...\n",
            "Exporting 20200804T110631_20200804T111447_T29TQF ...\n",
            "Exporting 20200804T110631_20200804T111447_T30TTL ...\n",
            "Exporting 20200804T110631_20200804T111447_T30TUL ...\n",
            "Exporting 20200809T110629_20200809T111347_T29TQF ...\n",
            "Exporting 20200809T110629_20200809T111347_T30TTL ...\n",
            "Exporting 20200809T110629_20200809T111347_T30TUL ...\n",
            "Exporting 20200814T110631_20200814T111447_T29TQF ...\n",
            "Exporting 20200814T110631_20200814T111447_T30TTL ...\n",
            "Exporting 20200814T110631_20200814T111447_T30TUL ...\n",
            "Exporting 20200819T110629_20200819T110945_T29TQF ...\n",
            "Exporting 20200819T110629_20200819T110945_T30TTL ...\n",
            "Exporting 20200819T110629_20200819T110945_T30TUL ...\n",
            "Exporting 20200824T110631_20200824T111345_T29TQF ...\n",
            "Exporting 20200824T110631_20200824T111345_T30TTL ...\n",
            "Exporting 20200824T110631_20200824T111345_T30TUL ...\n",
            "Exporting 20200829T110629_20200829T110945_T29TQF ...\n",
            "Exporting 20200829T110629_20200829T110945_T30TTL ...\n",
            "Exporting 20200829T110629_20200829T110945_T30TUL ...\n",
            "Exporting 20200903T110621_20200903T111453_T29TQF ...\n",
            "Exporting 20200903T110621_20200903T111453_T30TTL ...\n",
            "Exporting 20200903T110621_20200903T111453_T30TUL ...\n",
            "Exporting 20200908T110619_20200908T111404_T29TQF ...\n",
            "Exporting 20200908T110619_20200908T111404_T30TTL ...\n",
            "Exporting 20200908T110619_20200908T111404_T30TUL ...\n",
            "Exporting 20200918T110639_20200918T110849_T29TQF ...\n",
            "Exporting 20200918T110639_20200918T110849_T30TTL ...\n",
            "Exporting 20200918T110639_20200918T110849_T30TUL ...\n",
            "Exporting 20200928T110739_20200928T110901_T29TQF ...\n",
            "Exporting 20200928T110739_20200928T110901_T30TTL ...\n",
            "Exporting 20200928T110739_20200928T110901_T30TUL ...\n",
            "Exporting 20201003T110911_20201003T111452_T29TQF ...\n",
            "Exporting 20201003T110911_20201003T111452_T30TTL ...\n",
            "Exporting 20201003T110911_20201003T111452_T30TUL ...\n",
            "Exporting 20201013T111021_20201013T111451_T29TQF ...\n",
            "Exporting 20201013T111021_20201013T111451_T30TTL ...\n",
            "Exporting 20201013T111021_20201013T111451_T30TUL ...\n",
            "Exporting 20201018T110959_20201018T111112_T29TQF ...\n"
          ],
          "name": "stdout"
        }
      ]
    },
    {
      "cell_type": "markdown",
      "metadata": {
        "id": "-gcauq57Rwx-"
      },
      "source": [
        "# 3- Dataset :\n",
        "Synchronize the field measurement with images dates"
      ]
    },
    {
      "cell_type": "code",
      "metadata": {
        "id": "QkDIEBhUR7XC"
      },
      "source": [
        "## Requirements :\n",
        "\n",
        "from osgeo import gdal\n",
        "import sys\n",
        "import os"
      ],
      "execution_count": null,
      "outputs": []
    },
    {
      "cell_type": "code",
      "metadata": {
        "id": "PK8G5INiSCwn"
      },
      "source": [
        "## Read the data from the 2 stations :\n",
        "\n",
        "df1 = pd.read_csv(\"/content/SMC_dataset_2017to2020.csv\")"
      ],
      "execution_count": null,
      "outputs": []
    },
    {
      "cell_type": "code",
      "metadata": {
        "id": "Sf6BJfUfSHfL",
        "colab": {
          "base_uri": "https://localhost:8080/",
          "height": 221
        },
        "outputId": "937d67f3-1cd8-477f-c08c-a21785092c05"
      },
      "source": [
        "df1.head() "
      ],
      "execution_count": null,
      "outputs": [
        {
          "output_type": "execute_result",
          "data": {
            "text/html": [
              "<div>\n",
              "<style scoped>\n",
              "    .dataframe tbody tr th:only-of-type {\n",
              "        vertical-align: middle;\n",
              "    }\n",
              "\n",
              "    .dataframe tbody tr th {\n",
              "        vertical-align: top;\n",
              "    }\n",
              "\n",
              "    .dataframe thead th {\n",
              "        text-align: right;\n",
              "    }\n",
              "</style>\n",
              "<table border=\"1\" class=\"dataframe\">\n",
              "  <thead>\n",
              "    <tr style=\"text-align: right;\">\n",
              "      <th></th>\n",
              "      <th>date_time</th>\n",
              "      <th>soil_moisture_depth_0.050000</th>\n",
              "      <th>depth</th>\n",
              "    </tr>\n",
              "  </thead>\n",
              "  <tbody>\n",
              "    <tr>\n",
              "      <th>0</th>\n",
              "      <td>2017-03-01 00:00:00</td>\n",
              "      <td>0.238</td>\n",
              "      <td>0.05</td>\n",
              "    </tr>\n",
              "    <tr>\n",
              "      <th>1</th>\n",
              "      <td>2017-03-01 01:00:00</td>\n",
              "      <td>0.238</td>\n",
              "      <td>0.05</td>\n",
              "    </tr>\n",
              "    <tr>\n",
              "      <th>2</th>\n",
              "      <td>2017-03-01 02:00:00</td>\n",
              "      <td>0.237</td>\n",
              "      <td>0.05</td>\n",
              "    </tr>\n",
              "    <tr>\n",
              "      <th>3</th>\n",
              "      <td>2017-03-01 03:00:00</td>\n",
              "      <td>0.236</td>\n",
              "      <td>0.05</td>\n",
              "    </tr>\n",
              "    <tr>\n",
              "      <th>4</th>\n",
              "      <td>2017-03-01 04:00:00</td>\n",
              "      <td>0.236</td>\n",
              "      <td>0.05</td>\n",
              "    </tr>\n",
              "  </tbody>\n",
              "</table>\n",
              "</div>"
            ],
            "text/plain": [
              "             date_time  soil_moisture_depth_0.050000  depth\n",
              "0  2017-03-01 00:00:00                         0.238   0.05\n",
              "1  2017-03-01 01:00:00                         0.238   0.05\n",
              "2  2017-03-01 02:00:00                         0.237   0.05\n",
              "3  2017-03-01 03:00:00                         0.236   0.05\n",
              "4  2017-03-01 04:00:00                         0.236   0.05"
            ]
          },
          "metadata": {
            "tags": []
          },
          "execution_count": 25
        }
      ]
    },
    {
      "cell_type": "code",
      "metadata": {
        "id": "KdtZ5mIkSHOy",
        "colab": {
          "base_uri": "https://localhost:8080/"
        },
        "outputId": "b22cb21d-b8dc-4b00-d12a-5f5105eb8c9b"
      },
      "source": [
        "df1.columns "
      ],
      "execution_count": null,
      "outputs": [
        {
          "output_type": "execute_result",
          "data": {
            "text/plain": [
              "Index(['date_time', 'soil_moisture_depth_0.050000', 'depth'], dtype='object')"
            ]
          },
          "metadata": {
            "tags": []
          },
          "execution_count": 26
        }
      ]
    },
    {
      "cell_type": "code",
      "metadata": {
        "id": "0Do6zMDTSQpu",
        "colab": {
          "base_uri": "https://localhost:8080/",
          "height": 313
        },
        "outputId": "9874cea3-e6c2-4acb-852b-fe183e6605ba"
      },
      "source": [
        "df1.describe()"
      ],
      "execution_count": null,
      "outputs": [
        {
          "output_type": "execute_result",
          "data": {
            "text/html": [
              "<div>\n",
              "<style scoped>\n",
              "    .dataframe tbody tr th:only-of-type {\n",
              "        vertical-align: middle;\n",
              "    }\n",
              "\n",
              "    .dataframe tbody tr th {\n",
              "        vertical-align: top;\n",
              "    }\n",
              "\n",
              "    .dataframe thead th {\n",
              "        text-align: right;\n",
              "    }\n",
              "</style>\n",
              "<table border=\"1\" class=\"dataframe\">\n",
              "  <thead>\n",
              "    <tr style=\"text-align: right;\">\n",
              "      <th></th>\n",
              "      <th>soil_moisture_depth_0.050000</th>\n",
              "      <th>depth</th>\n",
              "    </tr>\n",
              "  </thead>\n",
              "  <tbody>\n",
              "    <tr>\n",
              "      <th>count</th>\n",
              "      <td>33283.000000</td>\n",
              "      <td>3.364800e+04</td>\n",
              "    </tr>\n",
              "    <tr>\n",
              "      <th>mean</th>\n",
              "      <td>0.205819</td>\n",
              "      <td>5.000000e-02</td>\n",
              "    </tr>\n",
              "    <tr>\n",
              "      <th>std</th>\n",
              "      <td>0.083589</td>\n",
              "      <td>2.919930e-14</td>\n",
              "    </tr>\n",
              "    <tr>\n",
              "      <th>min</th>\n",
              "      <td>0.085000</td>\n",
              "      <td>5.000000e-02</td>\n",
              "    </tr>\n",
              "    <tr>\n",
              "      <th>25%</th>\n",
              "      <td>0.139000</td>\n",
              "      <td>5.000000e-02</td>\n",
              "    </tr>\n",
              "    <tr>\n",
              "      <th>50%</th>\n",
              "      <td>0.205000</td>\n",
              "      <td>5.000000e-02</td>\n",
              "    </tr>\n",
              "    <tr>\n",
              "      <th>75%</th>\n",
              "      <td>0.246000</td>\n",
              "      <td>5.000000e-02</td>\n",
              "    </tr>\n",
              "    <tr>\n",
              "      <th>max</th>\n",
              "      <td>0.569000</td>\n",
              "      <td>5.000000e-02</td>\n",
              "    </tr>\n",
              "  </tbody>\n",
              "</table>\n",
              "</div>"
            ],
            "text/plain": [
              "       soil_moisture_depth_0.050000         depth\n",
              "count                  33283.000000  3.364800e+04\n",
              "mean                       0.205819  5.000000e-02\n",
              "std                        0.083589  2.919930e-14\n",
              "min                        0.085000  5.000000e-02\n",
              "25%                        0.139000  5.000000e-02\n",
              "50%                        0.205000  5.000000e-02\n",
              "75%                        0.246000  5.000000e-02\n",
              "max                        0.569000  5.000000e-02"
            ]
          },
          "metadata": {
            "tags": []
          },
          "execution_count": 37
        }
      ]
    },
    {
      "cell_type": "code",
      "metadata": {
        "id": "WeNOlNjgSG_a",
        "colab": {
          "base_uri": "https://localhost:8080/"
        },
        "outputId": "2f057834-71bc-425b-f0f8-279e74bb164f"
      },
      "source": [
        "## split dates and hours :\n",
        "\n",
        "df1['date_time'][1].split(\" \") "
      ],
      "execution_count": null,
      "outputs": [
        {
          "output_type": "execute_result",
          "data": {
            "text/plain": [
              "['2017-03-29', '01:00:00']"
            ]
          },
          "metadata": {
            "tags": []
          },
          "execution_count": 31
        }
      ]
    },
    {
      "cell_type": "code",
      "metadata": {
        "id": "Z4SXYErUSGuW",
        "colab": {
          "base_uri": "https://localhost:8080/",
          "height": 223
        },
        "outputId": "54066022-86a9-4876-bcd5-34df172ae1ae"
      },
      "source": [
        "## Add hours column \n",
        "\n",
        "df1[\"hour\"] = \"\"\n",
        "\n",
        "\n",
        "for i in range (len(df1)):\n",
        "  df1[\"hour\"][i]=df1['date_time'][i].split(\" \")[1]\n",
        "  df1[\"date_time\"][i]=df1['date_time'][i].split(\" \")[0]\n",
        "  "
      ],
      "execution_count": null,
      "outputs": [
        {
          "output_type": "stream",
          "text": [
            "/usr/local/lib/python3.7/dist-packages/ipykernel_launcher.py:7: SettingWithCopyWarning: \n",
            "A value is trying to be set on a copy of a slice from a DataFrame\n",
            "\n",
            "See the caveats in the documentation: https://pandas.pydata.org/pandas-docs/stable/user_guide/indexing.html#returning-a-view-versus-a-copy\n",
            "  import sys\n",
            "/usr/local/lib/python3.7/dist-packages/ipykernel_launcher.py:8: SettingWithCopyWarning: \n",
            "A value is trying to be set on a copy of a slice from a DataFrame\n",
            "\n",
            "See the caveats in the documentation: https://pandas.pydata.org/pandas-docs/stable/user_guide/indexing.html#returning-a-view-versus-a-copy\n",
            "  \n"
          ],
          "name": "stderr"
        },
        {
          "output_type": "execute_result",
          "data": {
            "application/vnd.google.colaboratory.intrinsic+json": {
              "type": "string"
            },
            "text/plain": [
              "'\\nfor i in range (8522):\\n  df2[\"hour\"][i]=df2[\\'date_time\\'][i].split(\" \")[1]\\n  df2[\"date_time\"][i]=df2[\\'date_time\\'][i].split(\" \")[0]\\n'"
            ]
          },
          "metadata": {
            "tags": []
          },
          "execution_count": 38
        }
      ]
    },
    {
      "cell_type": "code",
      "metadata": {
        "id": "CMaXlVVySGii",
        "colab": {
          "base_uri": "https://localhost:8080/",
          "height": 221
        },
        "outputId": "8255b2a7-1b89-44ce-a089-5248b3b8e2a0"
      },
      "source": [
        "df1.head()"
      ],
      "execution_count": null,
      "outputs": [
        {
          "output_type": "execute_result",
          "data": {
            "text/html": [
              "<div>\n",
              "<style scoped>\n",
              "    .dataframe tbody tr th:only-of-type {\n",
              "        vertical-align: middle;\n",
              "    }\n",
              "\n",
              "    .dataframe tbody tr th {\n",
              "        vertical-align: top;\n",
              "    }\n",
              "\n",
              "    .dataframe thead th {\n",
              "        text-align: right;\n",
              "    }\n",
              "</style>\n",
              "<table border=\"1\" class=\"dataframe\">\n",
              "  <thead>\n",
              "    <tr style=\"text-align: right;\">\n",
              "      <th></th>\n",
              "      <th>date_time</th>\n",
              "      <th>soil_moisture_depth_0.050000</th>\n",
              "      <th>depth</th>\n",
              "      <th>hour</th>\n",
              "    </tr>\n",
              "  </thead>\n",
              "  <tbody>\n",
              "    <tr>\n",
              "      <th>0</th>\n",
              "      <td>2017-03-01</td>\n",
              "      <td>0.238</td>\n",
              "      <td>0.05</td>\n",
              "      <td>00:00:00</td>\n",
              "    </tr>\n",
              "    <tr>\n",
              "      <th>1</th>\n",
              "      <td>2017-03-01</td>\n",
              "      <td>0.238</td>\n",
              "      <td>0.05</td>\n",
              "      <td>01:00:00</td>\n",
              "    </tr>\n",
              "    <tr>\n",
              "      <th>2</th>\n",
              "      <td>2017-03-01</td>\n",
              "      <td>0.237</td>\n",
              "      <td>0.05</td>\n",
              "      <td>02:00:00</td>\n",
              "    </tr>\n",
              "    <tr>\n",
              "      <th>3</th>\n",
              "      <td>2017-03-01</td>\n",
              "      <td>0.236</td>\n",
              "      <td>0.05</td>\n",
              "      <td>03:00:00</td>\n",
              "    </tr>\n",
              "    <tr>\n",
              "      <th>4</th>\n",
              "      <td>2017-03-01</td>\n",
              "      <td>0.236</td>\n",
              "      <td>0.05</td>\n",
              "      <td>04:00:00</td>\n",
              "    </tr>\n",
              "  </tbody>\n",
              "</table>\n",
              "</div>"
            ],
            "text/plain": [
              "    date_time  soil_moisture_depth_0.050000  depth      hour\n",
              "0  2017-03-01                         0.238   0.05  00:00:00\n",
              "1  2017-03-01                         0.238   0.05  01:00:00\n",
              "2  2017-03-01                         0.237   0.05  02:00:00\n",
              "3  2017-03-01                         0.236   0.05  03:00:00\n",
              "4  2017-03-01                         0.236   0.05  04:00:00"
            ]
          },
          "metadata": {
            "tags": []
          },
          "execution_count": 39
        }
      ]
    },
    {
      "cell_type": "code",
      "metadata": {
        "id": "9gA57C8GSGUa"
      },
      "source": [
        "Rdataset = pd.DataFrame(columns=['date_time', 'soil_moisture_depth_0.05','Image_name'])"
      ],
      "execution_count": null,
      "outputs": []
    },
    {
      "cell_type": "code",
      "metadata": {
        "id": "7s_sd2p9z-0k"
      },
      "source": [
        "## Selection of the max value on the day for each image :\n",
        "\n",
        "L_max = []\n",
        "for e in df1['date_time'].unique() : \n",
        "  L_mid = list(df1[df1['date_time']==e]['soil_moisture_depth_0.050000'])\n",
        "  L_max.append(max(L_mid))\n",
        "L_date = df1['date_time'].unique()"
      ],
      "execution_count": null,
      "outputs": []
    },
    {
      "cell_type": "code",
      "metadata": {
        "id": "FUwwKXBySl-M",
        "colab": {
          "base_uri": "https://localhost:8080/",
          "height": 313
        },
        "outputId": "434cf3be-c4b7-4aff-ab4f-134bc5f71f6b"
      },
      "source": [
        "Rdataset['date_time'] = L_date\n",
        "Rdataset['soil_moisture_depth_0.05'] = L_max\n",
        "Rdataset.describe()"
      ],
      "execution_count": null,
      "outputs": [
        {
          "output_type": "execute_result",
          "data": {
            "text/html": [
              "<div>\n",
              "<style scoped>\n",
              "    .dataframe tbody tr th:only-of-type {\n",
              "        vertical-align: middle;\n",
              "    }\n",
              "\n",
              "    .dataframe tbody tr th {\n",
              "        vertical-align: top;\n",
              "    }\n",
              "\n",
              "    .dataframe thead th {\n",
              "        text-align: right;\n",
              "    }\n",
              "</style>\n",
              "<table border=\"1\" class=\"dataframe\">\n",
              "  <thead>\n",
              "    <tr style=\"text-align: right;\">\n",
              "      <th></th>\n",
              "      <th>soil_moisture_depth_0.05</th>\n",
              "    </tr>\n",
              "  </thead>\n",
              "  <tbody>\n",
              "    <tr>\n",
              "      <th>count</th>\n",
              "      <td>1402.000000</td>\n",
              "    </tr>\n",
              "    <tr>\n",
              "      <th>mean</th>\n",
              "      <td>0.211754</td>\n",
              "    </tr>\n",
              "    <tr>\n",
              "      <th>std</th>\n",
              "      <td>0.085586</td>\n",
              "    </tr>\n",
              "    <tr>\n",
              "      <th>min</th>\n",
              "      <td>0.088000</td>\n",
              "    </tr>\n",
              "    <tr>\n",
              "      <th>25%</th>\n",
              "      <td>0.144000</td>\n",
              "    </tr>\n",
              "    <tr>\n",
              "      <th>50%</th>\n",
              "      <td>0.210000</td>\n",
              "    </tr>\n",
              "    <tr>\n",
              "      <th>75%</th>\n",
              "      <td>0.250750</td>\n",
              "    </tr>\n",
              "    <tr>\n",
              "      <th>max</th>\n",
              "      <td>0.569000</td>\n",
              "    </tr>\n",
              "  </tbody>\n",
              "</table>\n",
              "</div>"
            ],
            "text/plain": [
              "       soil_moisture_depth_0.05\n",
              "count               1402.000000\n",
              "mean                   0.211754\n",
              "std                    0.085586\n",
              "min                    0.088000\n",
              "25%                    0.144000\n",
              "50%                    0.210000\n",
              "75%                    0.250750\n",
              "max                    0.569000"
            ]
          },
          "metadata": {
            "tags": []
          },
          "execution_count": 46
        }
      ]
    },
    {
      "cell_type": "code",
      "metadata": {
        "colab": {
          "base_uri": "https://localhost:8080/",
          "height": 221
        },
        "id": "ZopgEQbRY3qp",
        "outputId": "265a6ebe-20d2-4542-feeb-8c6dcd4aa119"
      },
      "source": [
        "Rdataset.head()"
      ],
      "execution_count": null,
      "outputs": [
        {
          "output_type": "execute_result",
          "data": {
            "text/html": [
              "<div>\n",
              "<style scoped>\n",
              "    .dataframe tbody tr th:only-of-type {\n",
              "        vertical-align: middle;\n",
              "    }\n",
              "\n",
              "    .dataframe tbody tr th {\n",
              "        vertical-align: top;\n",
              "    }\n",
              "\n",
              "    .dataframe thead th {\n",
              "        text-align: right;\n",
              "    }\n",
              "</style>\n",
              "<table border=\"1\" class=\"dataframe\">\n",
              "  <thead>\n",
              "    <tr style=\"text-align: right;\">\n",
              "      <th></th>\n",
              "      <th>date_time</th>\n",
              "      <th>soil_moisture_depth_0.05</th>\n",
              "      <th>Image_name</th>\n",
              "    </tr>\n",
              "  </thead>\n",
              "  <tbody>\n",
              "    <tr>\n",
              "      <th>0</th>\n",
              "      <td>2017-03-01</td>\n",
              "      <td>0.240</td>\n",
              "      <td>NaN</td>\n",
              "    </tr>\n",
              "    <tr>\n",
              "      <th>1</th>\n",
              "      <td>2017-03-02</td>\n",
              "      <td>0.239</td>\n",
              "      <td>NaN</td>\n",
              "    </tr>\n",
              "    <tr>\n",
              "      <th>2</th>\n",
              "      <td>2017-03-03</td>\n",
              "      <td>0.235</td>\n",
              "      <td>NaN</td>\n",
              "    </tr>\n",
              "    <tr>\n",
              "      <th>3</th>\n",
              "      <td>2017-03-04</td>\n",
              "      <td>0.230</td>\n",
              "      <td>NaN</td>\n",
              "    </tr>\n",
              "    <tr>\n",
              "      <th>4</th>\n",
              "      <td>2017-03-05</td>\n",
              "      <td>0.234</td>\n",
              "      <td>NaN</td>\n",
              "    </tr>\n",
              "  </tbody>\n",
              "</table>\n",
              "</div>"
            ],
            "text/plain": [
              "    date_time  soil_moisture_depth_0.05 Image_name\n",
              "0  2017-03-01                     0.240        NaN\n",
              "1  2017-03-02                     0.239        NaN\n",
              "2  2017-03-03                     0.235        NaN\n",
              "3  2017-03-04                     0.230        NaN\n",
              "4  2017-03-05                     0.234        NaN"
            ]
          },
          "metadata": {
            "tags": []
          },
          "execution_count": 49
        }
      ]
    },
    {
      "cell_type": "code",
      "metadata": {
        "colab": {
          "base_uri": "https://localhost:8080/",
          "height": 562
        },
        "id": "TBIdqzKAZHFa",
        "outputId": "8621f7f9-8418-41fe-8123-6f63c0a5904d"
      },
      "source": [
        "import plotly.figure_factory as ff\n",
        "\n",
        "np.random.seed(1)\n",
        "\n",
        "x = L_max\n",
        "hist_data = [x]\n",
        "group_labels = ['distplot'] # name of the dataset\n",
        "\n",
        "fig = ff.create_distplot(hist_data, group_labels)\n",
        "fig.show()"
      ],
      "execution_count": null,
      "outputs": [
        {
          "output_type": "display_data",
          "data": {
            "text/html": [
              "<html>\n",
              "<head><meta charset=\"utf-8\" /></head>\n",
              "<body>\n",
              "    <div>\n",
              "            <script src=\"https://cdnjs.cloudflare.com/ajax/libs/mathjax/2.7.5/MathJax.js?config=TeX-AMS-MML_SVG\"></script><script type=\"text/javascript\">if (window.MathJax) {MathJax.Hub.Config({SVG: {font: \"STIX-Web\"}});}</script>\n",
              "                <script type=\"text/javascript\">window.PlotlyConfig = {MathJaxConfig: 'local'};</script>\n",
              "        <script src=\"https://cdn.plot.ly/plotly-latest.min.js\"></script>    \n",
              "            <div id=\"abc31ccb-7002-46fd-9765-d2f3428a23c2\" class=\"plotly-graph-div\" style=\"height:525px; width:100%;\"></div>\n",
              "            <script type=\"text/javascript\">\n",
              "                \n",
              "                    window.PLOTLYENV=window.PLOTLYENV || {};\n",
              "                    \n",
              "                if (document.getElementById(\"abc31ccb-7002-46fd-9765-d2f3428a23c2\")) {\n",
              "                    Plotly.newPlot(\n",
              "                        'abc31ccb-7002-46fd-9765-d2f3428a23c2',\n",
              "                        [{\"autobinx\": false, \"histnorm\": \"probability density\", \"legendgroup\": \"distplot\", \"marker\": {\"color\": \"rgb(31, 119, 180)\"}, \"name\": \"distplot\", \"opacity\": 0.7, \"type\": \"histogram\", \"x\": [0.24, 0.239, 0.235, 0.23, 0.23399999999999999, 0.23600000000000002, 0.23399999999999999, 0.23199999999999998, 0.231, 0.231, 0.22699999999999998, 0.237, 0.23399999999999999, 0.23199999999999998, 0.228, 0.22399999999999998, 0.221, 0.218, 0.21600000000000003, 0.213, 0.209, 0.204, 0.19399999999999998, 0.19399999999999998, 0.192, 0.19399999999999998, 0.193, 0.198, 0.2, 0.19899999999999998, 0.196, 0.192, 0.18899999999999997, 0.187, 0.18600000000000003, 0.18100000000000002, 0.179, 0.177, 0.17800000000000002, 0.177, 0.174, 0.171, 0.168, 0.165, 0.161, 0.158, 0.155, 0.153, 0.151, 0.147, 0.146, 0.14300000000000002, 0.141, 0.14, 0.136, 0.133, 0.126, 0.125, 0.124, 0.124, 0.11800000000000001, 0.11800000000000001, 0.124, 0.127, 0.126, 0.122, 0.115, 0.12300000000000001, 0.125, 0.124, 0.192, 0.21600000000000003, 0.237, 0.235, 0.22899999999999998, 0.226, 0.22699999999999998, 0.251, 0.256, 0.24, 0.233, 0.226, 0.225, 0.221, 0.213, 0.20600000000000002, 0.192, 0.187, 0.182, 0.174, 0.172, 0.17, 0.16699999999999998, 0.162, 0.158, 0.152, 0.14800000000000002, 0.14800000000000002, 0.14800000000000002, 0.14300000000000002, 0.141, 0.14300000000000002, 0.141, 0.138, 0.138, 0.136, 0.135, 0.133, 0.132, 0.13, 0.124, 0.122, 0.125, 0.129, 0.131, 0.131, 0.126, 0.128, 0.126, 0.125, 0.124, 0.125, 0.132, 0.138, 0.14300000000000002, 0.146, 0.145, 0.28800000000000003, 0.32299999999999995, 0.301, 0.292, 0.27399999999999997, 0.267, 0.262, 0.256, 0.25, 0.24100000000000002, 0.235, 0.23, 0.222, 0.215, 0.207, 0.2, 0.19399999999999998, 0.18899999999999997, 0.184, 0.179, 0.17600000000000002, 0.172, 0.168, 0.163, 0.157, 0.151, 0.14800000000000002, 0.147, 0.14400000000000002, 0.14300000000000002, 0.141, 0.138, 0.133, 0.129, 0.124, 0.125, 0.125, 0.127, 0.128, 0.127, 0.12300000000000001, 0.124, 0.126, 0.12300000000000001, 0.122, 0.121, 0.12300000000000001, 0.12300000000000001, 0.121, 0.11800000000000001, 0.11699999999999999, 0.115, 0.111, 0.11, 0.111, 0.11199999999999999, 0.11199999999999999, 0.114, 0.11699999999999999, 0.121, 0.124, 0.128, 0.128, 0.125, 0.124, 0.12, 0.11800000000000001, 0.11900000000000001, 0.11900000000000001, 0.11900000000000001, 0.11699999999999999, 0.111, 0.10800000000000001, 0.107, 0.107, 0.10800000000000001, 0.109, 0.10800000000000001, 0.10800000000000001, 0.109, 0.109, 0.107, 0.107, 0.107, 0.10800000000000001, 0.10800000000000001, 0.107, 0.106, 0.10800000000000001, 0.109, 0.107, 0.10800000000000001, 0.105, 0.102, 0.102, 0.10099999999999999, 0.1, 0.10099999999999999, 0.10099999999999999, 0.102, 0.102, 0.105, 0.102, 0.099, 0.095, 0.092, 0.09699999999999999, 0.096, 0.09300000000000001, 0.09300000000000001, 0.096, 0.09699999999999999, 0.098, 0.098, 0.096, 0.094, 0.094, 0.091, 0.09300000000000001, 0.095, 0.259, 0.258, 0.256, 0.24100000000000002, 0.23399999999999999, 0.23, 0.223, 0.221, 0.21899999999999997, 0.21600000000000003, 0.214, 0.209, 0.20600000000000002, 0.205, 0.205, 0.203, 0.19899999999999998, 0.196, 0.195, 0.19699999999999998, 0.2, 0.19899999999999998, 0.19699999999999998, 0.192, 0.185, 0.182, 0.18, 0.17800000000000002, 0.17600000000000002, 0.17300000000000001, 0.172, 0.171, 0.17, 0.16899999999999998, 0.172, 0.17800000000000002, 0.18100000000000002, 0.183, 0.237, 0.23199999999999998, 0.23, 0.23399999999999999, 0.231, 0.223, 0.217, 0.21600000000000003, 0.215, 0.213, 0.213, 0.21100000000000002, 0.21, 0.207, 0.20800000000000002, 0.20800000000000002, 0.21100000000000002, 0.218, 0.222, 0.222, 0.22, 0.222, 0.225, 0.22899999999999998, 0.22699999999999998, 0.284, 0.284, 0.28800000000000003, 0.278, 0.264, 0.263, 0.258, 0.252, 0.265, 0.263, 0.257, 0.258, 0.255, 0.25, 0.248, 0.245, 0.245, 0.243, 0.239, 0.239, 0.304, 0.292, 0.27, 0.261, 0.258, 0.254, 0.251, 0.248, 0.243, 0.239, 0.24100000000000002, 0.23800000000000002, 0.235, 0.231, 0.22899999999999998, 0.233, 0.23199999999999998, 0.23600000000000002, 0.23399999999999999, 0.22699999999999998, 0.23, 0.23399999999999999, 0.235, 0.231, 0.225, 0.22399999999999998, 0.222, 0.21899999999999997, 0.212, 0.20800000000000002, 0.20600000000000002, 0.205, 0.205, 0.203, 0.305, 0.29100000000000004, 0.285, 0.285, 0.314, 0.302, 0.29100000000000004, 0.276, 0.275, 0.311, 0.315, 0.29100000000000004, 0.278, 0.282, 0.33, 0.304, 0.28800000000000003, 0.298, 0.28800000000000003, 0.276, 0.27, 0.264, 0.26, 0.259, 0.265, 0.26, 0.256, 0.255, 0.251, 0.244, 0.24100000000000002, 0.243, 0.244, 0.24, 0.235, 0.231, 0.23, 0.22699999999999998, 0.222, 0.215, 0.226, 0.317, 0.297, 0.311, 0.314, 0.304, 0.33299999999999996, 0.324, 0.297, 0.287, 0.276, 0.263, 0.25, 0.295, 0.287, 0.27399999999999997, 0.26, 0.245, 0.233, 0.23, 0.239, 0.23399999999999999, 0.22699999999999998, 0.221, 0.214, 0.20600000000000002, 0.19899999999999998, 0.19699999999999998, 0.195, 0.191, 0.18600000000000003, 0.179, 0.17300000000000001, 0.168, 0.158, 0.156, 0.155, 0.154, 0.152, 0.196, 0.192, 0.184, 0.172, 0.16399999999999998, 0.158, 0.152, 0.175, 0.18100000000000002, 0.295, 0.287, 0.272, 0.258, 0.244, 0.231, 0.22, 0.21, 0.19699999999999998, 0.287, 0.27899999999999997, 0.27399999999999997, 0.308, 0.27, 0.33399999999999996, 0.304, 0.285, 0.27, 0.256, 0.24600000000000002, 0.23399999999999999, 0.221, 0.20800000000000002, 0.198, 0.18899999999999997, 0.182, 0.17300000000000001, 0.16899999999999998, 0.16399999999999998, 0.161, 0.156, 0.15, 0.147, 0.145, 0.14400000000000002, 0.142, 0.14, 0.142, 0.14, 0.14, 0.14, 0.138, 0.139, 0.138, 0.138, 0.135, 0.133, 0.132, 0.13, 0.125, 0.12300000000000001, 0.12300000000000001, 0.122, 0.12, 0.11699999999999999, 0.113, 0.11599999999999999, 0.11800000000000001, 0.11800000000000001, 0.11699999999999999, 0.11599999999999999, 0.114, 0.11199999999999999, 0.111, 0.11, 0.111, 0.11199999999999999, 0.113, 0.114, 0.11199999999999999, 0.111, 0.11, 0.10800000000000001, 0.105, 0.102, 0.102, 0.10400000000000001, 0.10400000000000001, 0.102, 0.102, 0.102, 0.10300000000000001, 0.10099999999999999, 0.099, 0.10099999999999999, 0.102, 0.102, 0.102, 0.102, 0.10099999999999999, 0.1, 0.1, 0.10099999999999999, 0.10099999999999999, 0.1, 0.1, 0.1, 0.1, 0.102, 0.121, 0.11699999999999999, 0.11199999999999999, 0.11199999999999999, 0.113, 0.113, 0.114, 0.11599999999999999, 0.11800000000000001, 0.121, 0.121, 0.121, 0.122, 0.122, 0.122, 0.121, 0.12, 0.11900000000000001, 0.11599999999999999, 0.114, 0.113, 0.111, 0.107, 0.10800000000000001, 0.10800000000000001, 0.107, 0.106, 0.105, 0.10099999999999999, 0.098, 0.099, 0.099, 0.099, 0.098, 0.094, 0.092, 0.092, 0.09300000000000001, 0.09300000000000001, 0.094, 0.096, 0.094, 0.08800000000000001, 0.08900000000000001, 0.092, 0.09300000000000001, 0.094, 0.09699999999999999, 0.1, 0.1, 0.1, 0.099, 0.1, 0.1, 0.099, 0.092, 0.09, 0.091, 0.092, 0.092, 0.098, 0.096, 0.09699999999999999, 0.184, 0.193, 0.19899999999999998, 0.2, 0.198, 0.20199999999999999, 0.26899999999999996, 0.26899999999999996, 0.254, 0.253, 0.251, 0.249, 0.244, 0.24100000000000002, 0.23800000000000002, 0.247, 0.245, 0.239, 0.273, 0.26, 0.28300000000000003, 0.28300000000000003, 0.264, 0.255, 0.289, 0.282, 0.267, 0.26, 0.257, 0.256, 0.256, 0.254, 0.261, 0.259, 0.254, 0.25, 0.24600000000000002, 0.243, 0.26899999999999996, 0.26, 0.257, 0.266, 0.26, 0.253, 0.252, 0.252, 0.251, 0.251, 0.249, 0.24600000000000002, 0.249, 0.247, 0.24600000000000002, 0.248, 0.249, 0.247, 0.245, 0.243, 0.24100000000000002, 0.23800000000000002, 0.235, 0.23199999999999998, 0.23, 0.22899999999999998, 0.22699999999999998, 0.228, 0.22699999999999998, 0.22399999999999998, 0.22399999999999998, 0.223, 0.222, 0.221, 0.223, 0.225, 0.223, 0.24600000000000002, 0.27399999999999997, 0.26, 0.252, 0.253, 0.252, 0.249, 0.245, 0.242, 0.24, 0.237, 0.233, 0.276, 0.27699999999999997, 0.265, 0.256, 0.252, 0.251, 0.251, 0.248, 0.24600000000000002, 0.245, 0.244, 0.24100000000000002, 0.23600000000000002, 0.235, 0.235, 0.23399999999999999, 0.23399999999999999, 0.233, 0.23, 0.23, 0.23, 0.22899999999999998, 0.228, 0.22699999999999998, 0.226, 0.226, 0.22699999999999998, 0.225, 0.223, 0.222, 0.222, 0.222, 0.218, 0.217, 0.265, 0.251, 0.243, 0.243, 0.243, 0.24100000000000002, 0.23800000000000002, 0.235, 0.23199999999999998, 0.231, 0.23199999999999998, 0.228, 0.223, 0.221, 0.21899999999999997, 0.21899999999999997, 0.21899999999999997, 0.22, 0.221, 0.21899999999999997, 0.21600000000000003, 0.214, 0.213, 0.214, 0.214, 0.212, 0.212, 0.21100000000000002, 0.207, 0.2, 0.19699999999999998, 0.192, 0.192, 0.195, 0.192, 0.192, 0.19399999999999998, 0.19699999999999998, 0.201, 0.203, 0.20199999999999999, 0.201, 0.2, 0.20199999999999999, 0.24600000000000002, 0.23800000000000002, 0.23399999999999999, 0.228, 0.225, 0.221, 0.239, 0.239, 0.24, 0.239, 0.239, 0.237, 0.23600000000000002, 0.23, 0.22699999999999998, 0.22699999999999998, 0.22399999999999998, 0.22399999999999998, 0.22, 0.21600000000000003, 0.214, 0.21600000000000003, 0.217, 0.21600000000000003, 0.21600000000000003, 0.21600000000000003, 0.217, 0.213, 0.20600000000000002, 0.2, 0.201, 0.19899999999999998, 0.204, 0.20600000000000002, 0.205, 0.2, 0.198, 0.198, 0.196, 0.192, 0.188, 0.187, 0.18600000000000003, 0.182, 0.177, 0.172, 0.165, 0.155, 0.149, 0.14300000000000002, 0.146, 0.146, 0.145, 0.142, 0.141, 0.139, 0.136, 0.136, 0.136, 0.134, 0.131, 0.127, 0.127, 0.125, 0.128, 0.128, 0.131, 0.135, 0.141, 0.145, 0.149, 0.15, 0.147, 0.14300000000000002, 0.14, 0.136, 0.128, 0.131, 0.129, 0.127, 0.12300000000000001, 0.12, 0.121, 0.12300000000000001, 0.122, 0.11800000000000001, 0.11599999999999999, 0.11699999999999999, 0.115, 0.115, 0.114, 0.113, 0.113, 0.11199999999999999, 0.11199999999999999, 0.111, 0.115, 0.11699999999999999, 0.115, 0.111, 0.115, 0.11199999999999999, 0.11199999999999999, 0.111, 0.113, 0.114, 0.114, 0.113, 0.11199999999999999, 0.109, 0.106, 0.107, 0.10400000000000001, 0.10400000000000001, 0.102, 0.102, 0.10400000000000001, 0.105, 0.107, 0.106, 0.105, 0.10300000000000001, 0.1, 0.10099999999999999, 0.102, 0.10300000000000001, 0.10300000000000001, 0.10400000000000001, 0.1, 0.11800000000000001, 0.13699999999999998, 0.14800000000000002, 0.155, 0.158, 0.161, 0.16, 0.159, 0.159, 0.161, 0.155, 0.151, 0.151, 0.152, 0.149, 0.145, 0.14400000000000002, 0.145, 0.142, 0.138, 0.14400000000000002, 0.149, 0.152, 0.153, 0.156, 0.156, 0.151, 0.20600000000000002, 0.21, 0.21, 0.20800000000000002, 0.20800000000000002, 0.207, 0.20600000000000002, 0.207, 0.207, 0.204, 0.2, 0.2, 0.201, 0.2, 0.19699999999999998, 0.19699999999999998, 0.19899999999999998, 0.195, 0.191, 0.193, 0.19399999999999998, 0.18899999999999997, 0.184, 0.17, 0.172, 0.171, 0.16899999999999998, 0.165, 0.256, 0.243, 0.258, 0.289, 0.285, 0.264, 0.258, 0.254, 0.252, 0.25, 0.248, 0.247, 0.248, 0.242, 0.237, 0.233, 0.226, 0.22399999999999998, 0.223, 0.215, 0.214, 0.212, 0.21600000000000003, 0.213, 0.271, 0.261, 0.25, 0.243, 0.244, 0.24, 0.237, 0.281, 0.27, 0.266, 0.261, 0.252, 0.253, 0.304, 0.295, 0.273, 0.314, 0.314, 0.29, 0.27699999999999997, 0.264, 0.256, 0.257, 0.253, 0.251, 0.257, 0.257, 0.251, 0.253, 0.252, 0.254, 0.251, 0.248, 0.24600000000000002, 0.243, 0.239, 0.327, 0.35200000000000004, 0.311, 0.29600000000000004, 0.278, 0.271, 0.267, 0.264, 0.259, 0.255, 0.25, 0.249, 0.247, 0.244, 0.242, 0.249, 0.248, 0.24600000000000002, 0.245, 0.244, 0.243, 0.247, 0.245, 0.24, 0.23800000000000002, 0.23800000000000002, 0.239, 0.26, 0.258, 0.27, 0.265, 0.26, 0.249, 0.244, 0.244, 0.243, 0.245, 0.267, 0.263, 0.259, 0.271, 0.285, 0.28, 0.27699999999999997, 0.27699999999999997, 0.27399999999999997, 0.26899999999999996, 0.263, 0.258, 0.253, 0.253, 0.27, 0.264, 0.262, 0.258, 0.256, 0.254, 0.249, 0.247, 0.24600000000000002, 0.244, 0.23800000000000002, 0.233, 0.233, 0.23199999999999998, 0.231, 0.22899999999999998, 0.22899999999999998, 0.22699999999999998, 0.223, 0.223, 0.223, 0.221, 0.22, 0.264, 0.255, 0.253, 0.25, 0.243, 0.239, 0.235, 0.233, 0.23600000000000002, 0.23600000000000002, 0.23399999999999999, 0.231, 0.225, 0.222, 0.307, 0.29100000000000004, 0.278, 0.271, 0.266, 0.263, 0.272, 0.272, 0.266, 0.26, 0.256, 0.249, 0.245, 0.244, 0.239, 0.231, 0.233, 0.23199999999999998, 0.23399999999999999, 0.23399999999999999, 0.301, 0.297, 0.315, 0.297, 0.327, 0.32, 0.29100000000000004, 0.28300000000000003, 0.275, 0.26899999999999996, 0.27699999999999997, 0.28600000000000003, 0.287, 0.295, 0.289, 0.27899999999999997, 0.331, 0.32, 0.297, 0.28800000000000003, 0.28, 0.273, 0.267, 0.258, 0.252, 0.24600000000000002, 0.24100000000000002, 0.23800000000000002, 0.233, 0.22699999999999998, 0.218, 0.21, 0.203, 0.203, 0.201, 0.198, 0.19399999999999998, 0.239, 0.249, 0.28300000000000003, 0.26899999999999996, 0.25, 0.23800000000000002, 0.228, 0.221, 0.213, 0.207, 0.20199999999999999, 0.195, 0.187, 0.183, 0.177, 0.175, 0.172, 0.171, 0.168, 0.163, 0.161, 0.162, 0.161, 0.156, 0.157, 0.156, 0.17800000000000002, 0.16899999999999998, 0.162, 0.158, 0.153, 0.14400000000000002, 0.142, 0.145, 0.145, 0.14400000000000002, 0.14400000000000002, 0.145, 0.145, 0.146, 0.146, 0.14800000000000002, 0.14800000000000002, 0.145, 0.14, 0.138, 0.14, 0.142, 0.145, 0.16, 0.19399999999999998, 0.182, 0.182, 0.185, 0.187, 0.185, 0.185, 0.184, 0.17600000000000002, 0.179, 0.182, 0.175, 0.18, 0.18100000000000002, 0.17800000000000002, 0.18100000000000002, 0.18, 0.17800000000000002, 0.182, 0.184, 0.17600000000000002, 0.177, 0.182, 0.18100000000000002, 0.183, 0.185, 0.20199999999999999, 0.203, 0.198, 0.188, 0.19699999999999998, 0.193, 0.18, 0.18600000000000003, 0.191, 0.218, 0.213, 0.19899999999999998, 0.196, 0.192, 0.191, 0.18600000000000003, 0.17600000000000002, 0.18, 0.183, 0.18100000000000002, 0.182, 0.184, 0.19, 0.191, 0.192, 0.18899999999999997, 0.19, 0.192, 0.192, 0.196, 0.19699999999999998, 0.19899999999999998, 0.19399999999999998, 0.19, 0.191, 0.19, 0.19399999999999998, 0.192, 0.193, 0.191, 0.19, 0.19, 0.191, 0.18899999999999997, 0.19, 0.193, 0.192, 0.192, 0.193, 0.193, 0.19399999999999998, 0.192, 0.195, 0.193, 0.193, 0.281, 0.312, 0.321, 0.32299999999999995, 0.321, 0.317, 0.316, 0.32, 0.321, 0.322, 0.325, 0.322, 0.317, 0.32299999999999995, 0.27899999999999997, 0.312, 0.32899999999999996, 0.337, 0.336, 0.33299999999999996, 0.321, 0.321, 0.32299999999999995, 0.326, 0.32, 0.327, 0.325, 0.32799999999999996, 0.326, 0.326, 0.502, 0.488, 0.493, 0.466, 0.44299999999999995, 0.442, 0.429, 0.426, 0.436, 0.43700000000000006, 0.43200000000000005, 0.435, 0.433, 0.43, 0.42700000000000005, 0.41600000000000004, 0.49, 0.5579999999999999, 0.5379999999999999, 0.5579999999999999, 0.569, 0.48700000000000004, 0.47700000000000004, 0.473, 0.478, 0.47600000000000003, 0.485, 0.483, 0.47, 0.469, 0.466, 0.45799999999999996, 0.441, 0.43799999999999994, 0.434, 0.43200000000000005, 0.434, 0.51, 0.525, 0.496, 0.485, 0.47600000000000003, 0.46799999999999997, 0.45899999999999996, 0.444, 0.451, 0.441, 0.43799999999999994, 0.44799999999999995, 0.444, 0.435, 0.45299999999999996, 0.489, 0.47200000000000003, 0.46799999999999997, 0.47700000000000004, 0.475, 0.469, 0.457, 0.457, 0.484, 0.483, 0.496, 0.502, 0.493, 0.489, 0.465, 0.447, 0.445, 0.489, 0.47200000000000003, 0.457, 0.46], \"xaxis\": \"x\", \"xbins\": {\"end\": 0.569, \"size\": 1.0, \"start\": 0.08800000000000001}, \"yaxis\": \"y\"}, {\"legendgroup\": \"distplot\", \"marker\": {\"color\": \"rgb(31, 119, 180)\"}, \"mode\": \"lines\", \"name\": \"distplot\", \"showlegend\": false, \"type\": \"scatter\", \"x\": [0.08800000000000001, 0.08896200000000001, 0.089924, 0.09088600000000001, 0.09184800000000001, 0.09281, 0.09377200000000001, 0.09473400000000001, 0.095696, 0.09665800000000001, 0.09762000000000001, 0.098582, 0.09954400000000001, 0.10050600000000001, 0.101468, 0.10243000000000001, 0.10339200000000001, 0.104354, 0.105316, 0.10627800000000001, 0.10724, 0.108202, 0.10916400000000001, 0.110126, 0.111088, 0.11205000000000001, 0.113012, 0.113974, 0.11493600000000001, 0.115898, 0.11686, 0.11782200000000001, 0.118784, 0.119746, 0.12070800000000001, 0.12167, 0.122632, 0.12359400000000001, 0.124556, 0.12551800000000002, 0.12648, 0.127442, 0.12840400000000002, 0.129366, 0.130328, 0.13129000000000002, 0.132252, 0.133214, 0.13417600000000002, 0.135138, 0.1361, 0.137062, 0.138024, 0.138986, 0.13994800000000002, 0.14091, 0.141872, 0.142834, 0.143796, 0.144758, 0.14572000000000002, 0.146682, 0.147644, 0.148606, 0.149568, 0.15053, 0.15149200000000002, 0.152454, 0.153416, 0.15437800000000002, 0.15533999999999998, 0.156302, 0.15726400000000001, 0.15822599999999998, 0.159188, 0.16015000000000001, 0.161112, 0.162074, 0.16303600000000001, 0.163998, 0.16496, 0.165922, 0.16688399999999998, 0.167846, 0.168808, 0.16976999999999998, 0.170732, 0.171694, 0.172656, 0.173618, 0.17458, 0.17554199999999998, 0.176504, 0.17746599999999998, 0.17842799999999998, 0.17939, 0.180352, 0.181314, 0.182276, 0.183238, 0.1842, 0.185162, 0.18612399999999998, 0.18708599999999997, 0.188048, 0.18901, 0.18997199999999997, 0.190934, 0.191896, 0.192858, 0.19382, 0.194782, 0.19574399999999997, 0.196706, 0.19766799999999998, 0.19862999999999997, 0.199592, 0.200554, 0.20151599999999997, 0.202478, 0.20344, 0.204402, 0.205364, 0.20632599999999998, 0.20728799999999997, 0.20825, 0.20921199999999998, 0.21017399999999997, 0.211136, 0.212098, 0.21305999999999997, 0.214022, 0.214984, 0.21594599999999997, 0.216908, 0.21787, 0.21883200000000003, 0.219794, 0.220756, 0.22171799999999997, 0.22268, 0.22364199999999995, 0.22460399999999997, 0.225566, 0.226528, 0.22748999999999997, 0.228452, 0.229414, 0.23037599999999997, 0.231338, 0.2323, 0.23326199999999997, 0.234224, 0.235186, 0.23614799999999997, 0.23711, 0.238072, 0.23903399999999997, 0.239996, 0.240958, 0.24192000000000002, 0.242882, 0.24384399999999995, 0.24480599999999997, 0.245768, 0.24673, 0.24769199999999997, 0.248654, 0.249616, 0.25057799999999997, 0.25154, 0.252502, 0.25346399999999997, 0.254426, 0.255388, 0.25634999999999997, 0.257312, 0.258274, 0.25923599999999997, 0.260198, 0.26116, 0.262122, 0.263084, 0.26404599999999995, 0.26500799999999997, 0.26597, 0.26693199999999995, 0.26789399999999997, 0.268856, 0.269818, 0.27077999999999997, 0.271742, 0.272704, 0.27366599999999996, 0.274628, 0.27559, 0.27655199999999996, 0.277514, 0.278476, 0.27943799999999996, 0.2804, 0.281362, 0.282324, 0.283286, 0.28424799999999995, 0.28520999999999996, 0.286172, 0.28713399999999994, 0.28809599999999996, 0.289058, 0.29002, 0.29098199999999996, 0.291944, 0.292906, 0.29386799999999996, 0.29483, 0.295792, 0.29675399999999996, 0.297716, 0.298678, 0.29963999999999996, 0.300602, 0.301564, 0.30252599999999996, 0.303488, 0.30444999999999994, 0.30541199999999996, 0.306374, 0.30733599999999994, 0.30829799999999996, 0.30926, 0.310222, 0.31118399999999996, 0.312146, 0.313108, 0.31406999999999996, 0.315032, 0.315994, 0.31695599999999996, 0.317918, 0.31888, 0.31984199999999996, 0.320804, 0.321766, 0.32272799999999996, 0.32369, 0.32465199999999994, 0.32561399999999996, 0.326576, 0.32753799999999994, 0.32849999999999996, 0.329462, 0.33042399999999994, 0.33138599999999996, 0.332348, 0.33331, 0.33427199999999996, 0.335234, 0.336196, 0.33715799999999996, 0.33812, 0.339082, 0.34004399999999996, 0.341006, 0.341968, 0.34292999999999996, 0.343892, 0.344854, 0.345816, 0.346778, 0.34774, 0.34870199999999996, 0.34966400000000003, 0.350626, 0.351588, 0.35255, 0.353512, 0.35447399999999996, 0.355436, 0.356398, 0.35735999999999996, 0.358322, 0.35928399999999994, 0.360246, 0.361208, 0.36217, 0.36313199999999995, 0.364094, 0.365056, 0.366018, 0.36698, 0.367942, 0.36890399999999995, 0.36986600000000003, 0.370828, 0.37179, 0.372752, 0.373714, 0.37467599999999995, 0.37563799999999997, 0.3766, 0.37756199999999995, 0.37852399999999997, 0.37948599999999993, 0.380448, 0.38140999999999997, 0.382372, 0.38333399999999995, 0.38429599999999997, 0.385258, 0.38622, 0.38718199999999997, 0.388144, 0.38910599999999995, 0.39006799999999997, 0.39103, 0.391992, 0.39295399999999997, 0.393916, 0.39487799999999995, 0.39584, 0.396802, 0.39776399999999995, 0.39872599999999997, 0.39968799999999993, 0.40065, 0.40161199999999997, 0.402574, 0.40353599999999995, 0.40449799999999997, 0.40546, 0.406422, 0.40738399999999997, 0.408346, 0.40930799999999995, 0.41026999999999997, 0.411232, 0.412194, 0.41315599999999997, 0.414118, 0.41507999999999995, 0.416042, 0.417004, 0.41796599999999995, 0.41892799999999997, 0.41988999999999993, 0.420852, 0.42181399999999997, 0.422776, 0.42373799999999995, 0.42469999999999997, 0.42566199999999993, 0.426624, 0.42758599999999997, 0.428548, 0.42950999999999995, 0.43047199999999997, 0.431434, 0.432396, 0.43335799999999997, 0.43432, 0.43528199999999995, 0.436244, 0.437206, 0.43816799999999995, 0.43912999999999996, 0.4400919999999999, 0.441054, 0.44201599999999996, 0.442978, 0.44393999999999995, 0.44490199999999996, 0.4458639999999999, 0.446826, 0.44778799999999996, 0.44875, 0.44971199999999995, 0.45067399999999996, 0.451636, 0.452598, 0.45355999999999996, 0.454522, 0.45548399999999994, 0.456446, 0.457408, 0.45836999999999994, 0.45933199999999996, 0.4602939999999999, 0.461256, 0.46221799999999996, 0.46318, 0.46414199999999994, 0.46510399999999996, 0.4660659999999999, 0.467028, 0.46798999999999996, 0.468952, 0.46991399999999994, 0.47087599999999996, 0.471838, 0.4728, 0.47376199999999996, 0.474724, 0.47568599999999994, 0.476648, 0.47761, 0.47857199999999994, 0.47953399999999996, 0.4804959999999999, 0.48145799999999994, 0.48241999999999996, 0.483382, 0.48434399999999994, 0.48530599999999996, 0.4862679999999999, 0.48723, 0.48819199999999996, 0.489154, 0.49011599999999994, 0.49107799999999996, 0.49204, 0.493002, 0.49396399999999996, 0.494926, 0.49588799999999994, 0.49685, 0.497812, 0.49877399999999994, 0.49973599999999996, 0.5006979999999999, 0.5016599999999999, 0.5026219999999999, 0.5035839999999999, 0.5045459999999999, 0.505508, 0.5064699999999999, 0.507432, 0.5083939999999999, 0.5093559999999999, 0.5103179999999999, 0.51128, 0.512242, 0.513204, 0.5141659999999999, 0.5151279999999999, 0.5160899999999999, 0.517052, 0.518014, 0.5189759999999999, 0.5199379999999999, 0.5208999999999999, 0.5218619999999999, 0.522824, 0.523786, 0.5247479999999999, 0.5257099999999999, 0.5266719999999999, 0.5276339999999999, 0.528596, 0.529558, 0.5305199999999999, 0.5314819999999999, 0.5324439999999999, 0.5334059999999999, 0.534368, 0.53533, 0.5362919999999999, 0.5372539999999999, 0.5382159999999999, 0.5391779999999999, 0.54014, 0.5411019999999999, 0.5420639999999999, 0.5430259999999999, 0.5439879999999999, 0.5449499999999999, 0.545912, 0.5468739999999999, 0.547836, 0.5487979999999999, 0.5497599999999999, 0.5507219999999999, 0.551684, 0.552646, 0.553608, 0.5545699999999999, 0.5555319999999999, 0.5564939999999999, 0.557456, 0.558418, 0.55938, 0.5603419999999999, 0.5613039999999999, 0.5622659999999999, 0.563228, 0.56419, 0.5651519999999999, 0.5661139999999999, 0.5670759999999999, 0.5680379999999999], \"xaxis\": \"x\", \"y\": [2.2550544608709777, 2.3511179372955007, 2.4472789713300225, 2.54326338574544, 2.638793057511219, 2.733587792537229, 2.82736724545401, 2.9198528637493957, 3.010769835029766, 3.099849015940587, 3.1868288213711624, 3.2714570529838256, 3.3534926468436574, 3.4327073209708256, 3.508887104977484, 3.5818337355631744, 3.6513659035001065, 3.7173203398115273, 3.7795527310970614, 3.8379384563505257, 3.892373140107048, 3.942773019304918, 3.9890751238099447, 4.031237273082529, 4.069237893927346, 4.103075666611091, 4.1327690088260045, 4.158355408979786, 4.179890622073556, 4.197447742960268, 4.211116173033061, 4.221000497357767, 4.227219289923282, 4.22990386503031, 4.229196992871471, 4.225251597078226, 4.218229451432276, 4.20829989207647, 4.195638560433545, 4.1804261906753855, 4.162847454011104, 4.143089870312301, 4.121342795705413, 4.09779649277306, 4.072641287959848, 4.046066818714699, 4.018261370863674, 3.9894113047351722, 3.9597005666933467, 3.929310281012276, 3.898418415477464, 3.867199512762416, 3.835824478522513, 3.804460416296678, 3.773270498724955, 3.742413864286503, 3.712045528741323, 3.6823163007175865, 3.6533726914163362, 3.625356809191973, 3.5984062307903195, 3.5726538422611975, 3.548227643979205, 3.525250515771473, 3.50383993982725, 3.4841076808120155, 3.4661594243874125, 3.4500943771059114, 3.436004832364271, 3.423975708722205, 3.414084068383672, 3.4063986249623217, 3.4009792507776364, 3.3978764948263387, 3.3971311232216133, 3.3987736942726667, 3.4028241804770714, 3.4092916495117422, 3.418174015835105, 3.4294578737587154, 3.443118421822807, 3.4591194870344038, 3.477413656021194, 3.4979425184468567, 3.520637026155662, 3.5454179695016017, 3.572196570208329, 3.6008751879418566, 3.6313481356004416, 3.6635025961784895, 3.697219631986452, 3.732375275048668, 3.768841685695992, 3.806488364757665, 3.8451834033715904, 3.884794753304586, 3.925191499830144, 3.9662451186717465, 4.007830698300164, 4.049828108982826, 4.092123100425837, 4.134608310621304, 4.177184169605504, 4.2197596832313495, 4.262253083740495, 4.3045923358592, 4.346715489305708, 4.388570870948461, 4.430117112353746, 4.471323011063942, 4.512167226607875, 4.5526378149147035, 4.5927316074345645, 4.632453443815061, 4.671815269396087, 4.710835111023138, 4.749535946699624, 4.7879444863661265, 4.826089882576466, 4.864002391011193, 4.901712001608093, 4.9392470615829716, 4.97663291175501, 5.013890557379109, 5.051035394129404, 5.088076008986179, 5.125013074572253, 5.1618383539890935, 5.198533831447562, 5.235070982007721, 5.271410191574295, 5.30750033597999, 5.343278525570344, 5.378670019224512, 5.413588309249396, 5.447935376112501, 5.4816021095720755, 5.514468890459337, 5.546406325201931, 5.5772761231804635, 5.606932105208194, 5.635221329838867, 5.661985322857028, 5.687061394200368, 5.71028402571245, 5.731486312528573, 5.750501440555877, 5.767164182414438, 5.7813123943497375, 5.7927884969945405, 5.801440923434777, 5.807125518800713, 5.80970687654203, 5.809059597632422, 5.805069460164078, 5.7976344881134905, 5.786665909465352, 5.772088995350013, 5.753843773361596, 5.731885609759257, 5.706185656794948, 5.67673116294066, 5.643525645291104, 5.606588924879619, 5.565957027053282, 5.521681950395657, 5.473831308952036, 5.422487853692909, 5.367748880237866, 5.309725530846963, 5.248541999562434, 5.184334650145057, 5.117251057090354, 5.047448980526668, 4.9750952861856925, 4.900364821893807, 4.823439262158193, 4.7445059324146435, 4.663756624364727, 4.5813864135615185, 4.497592490008592, 4.4125730120218645, 4.3265259929757365, 4.239648229821726, 4.152134281440781, 4.06417550398101, 3.9759591493548676, 3.8876675320387033, 3.799477268249391, 3.7115585904841364, 3.6240747393193122, 3.5371814332891134, 3.4510264166241518, 3.365749083640242, 3.2814801776463116, 3.198341561402311, 3.1164460554170503, 3.0358973397445848, 2.956789914424629, 2.8792091133253948, 2.8032311658897493, 2.728923301159658, 2.6563438884569655, 2.5855426092269673, 2.5165606547966646, 2.4494309451520735, 2.384178364285671, 2.320820008191029, 2.2593654421699325, 2.1998169647499495, 2.142169876167745, 2.0864127500365766, 2.0325277074651105, 1.980490693510453, 1.930271756413009, 1.881835330558147, 1.8351405245255166, 1.7901414159088562, 1.746787354808569, 1.7050232780094878, 1.6647900358541015, 1.6260247337072165, 1.5886610896847881, 1.552629809993757, 1.5178589828107893, 1.4842744911277295, 1.4518004444246602, 1.4203596284144968, 1.3898739714534225, 1.3602650255486615, 1.3314544592381938, 1.3033645589856206, 1.2759187351464545, 1.2490420280373373, 1.2226616091934819, 1.1967072725461865, 1.1711119100036262, 1.1458119657834835, 1.1207478638315411, 1.0958644027695819, 1.07111111304867, 1.0464425713370684, 1.021818667639661, 0.9972048212185187, 0.9725721420507213, 0.9478975353055794, 0.9231637471332135, 0.8983593509125107, 0.873478673990435, 0.848521665837436, 0.8234937094262252, 0.7984053784947519, 0.7732721441610422, 0.7481140351010401, 0.7229552561660889, 0.6978237708910369, 0.6727508538169935, 0.6477706189162259, 0.6229195306551616, 0.5982359043623731, 0.5737594025815793, 0.5495305339877715, 0.5255901612325486, 0.5019790237698765, 0.47873728130527327, 0.45590408302046126, 0.43351716716479155, 0.411612494987103, 0.3902239223216381, 0.36938291145343566, 0.34911828518661203, 0.3294560243373268, 0.3104191091848899, 0.29202740475232797, 0.2742975891621968, 0.25724312373490993, 0.24087426297291264, 0.2251981021115584, 0.2102186595211072, 0.1959369909170003, 0.18235133207884396, 0.16945726659208296, 0.15724791500857402, 0.14571414176986353, 0.13484477624605637, 0.1246268443080659, 0.11504580696614845, 0.10608580276599404, 0.09772989082849587, 0.08996029164336337, 0.0827586229728604, 0.07610612848312599, 0.0699838969902143, 0.06437307047988096, 0.05925503932890649, 0.05461162341627092, 0.050425238060943345, 0.04667904395586137, 0.04335708048257119, 0.040444381986160315, 0.03792707676471467, 0.035792468681395385, 0.03402910144088277, 0.03262680568652691, 0.031576729171687946, 0.030871350340578044, 0.030504475722768917, 0.030471221604083915, 0.030767980487547864, 0.031392372904202485, 0.032343185177566236, 0.03362029378982279, 0.03522457704468828, 0.037157814773226876, 0.039422576886143854, 0.04202210164030569, 0.04496016455896853, 0.048240939024408125, 0.05186884964785211, 0.055848419613691636, 0.060184113291369926, 0.0648801755069718, 0.06994046896490931, 0.07536831140527077, 0.08116631417119384, 0.08733622393961468, 0.09387876943429593, 0.10079351498868502, 0.10807872285421491, 0.11573122615395597, 0.1237463143589209, 0.132117633112241, 0.14083710014277104, 0.14989483889289454, 0.15927913133467095, 0.16897639126387687, 0.17897115914380027, 0.18924611932146157, 0.19978214016079401, 0.21055833733363705, 0.2215521601842927, 0.23273950074207733, 0.24409482460415619, 0.2555913225546211, 0.2672010814316769, 0.278895272410275, 0.2906443545397422, 0.30241829107202545, 0.31418677584348953, 0.3259194667380356, 0.33758622306830416, 0.34915734356992234, 0.3606038016160174, 0.3718974742289877, 0.38301136149628107, 0.39391979308784547, 0.4045986187249653, 0.41502537966187325, 0.4251794585101529, 0.4350422050574068, 0.44459703610074874, 0.4538295077258511, 0.4627273589063323, 0.4712805257676598, 0.4794811263459034, 0.48732341616490205, 0.4948037154463675, 0.5019203092463272, 0.5086733222687866, 0.51506457053453, 0.5210973924711747, 0.526776462332512, 0.5321075891440812, 0.5370975046026261, 0.5417536435251922, 0.5460839205465502, 0.5500965067997029, 0.553799610283605, 0.5572012635260998, 0.5603091219911805, 0.5631302764618674, 0.5656710823583039, 0.5679370086310543, 0.5699325085089325, 0.5716609139863708, 0.5731243555153939, 0.5743237079298338, 0.5752585631828645, 0.5759272300314789, 0.5763267603611167, 0.5764530014178899, 0.5763006728117042, 0.5758634667774104, 0.5751341698384983, 0.5741048037134888, 0.5727667830429558, 0.5711110872978925, 0.5691284440599803, 0.566809520742266, 0.5641451217450546, 0.5611263880158771, 0.5577449960028089, 0.5539933530551941, 0.549864786432285, 0.5453537232252912, 0.540455858678271, 0.5351683106041963, 0.5294897578302841, 0.523420560866841, 0.5169628632720266, 0.5101206724765707, 0.5028999191331122, 0.4953084943600983, 0.48735626455581155, 0.47905506376007817, 0.47041866383554615, 0.46146272302370583, 0.4522047136994339, 0.442663830398968, 0.43286087942688634, 0.4228181515555764, 0.41255927951365845, 0.40210908211612506, 0.39149339701724495, 0.3807389041664176, 0.36987294211662713, 0.3589233193745975, 0.34791812299131586, 0.3368855265718684, 0.3258535998352562, 0.31485012177946375, 0.3039023994060658, 0.29303709383404275, 0.2822800554865775, 0.2716561698699662, 0.26118921528317546, 0.2509017336031042, 0.24081491508748246, 0.23094849792767627, 0.2213206830711959, 0.21194806462128257, 0.2028455759124174, 0.1940264511586968, 0.18550220238002493, 0.17728261113169327, 0.1693757343986263, 0.16178792386858712, 0.15452385767077648, 0.1475865835589356, 0.14097757243225623, 0.13469678102375052, 0.12874272254427466, 0.12311254405095141, 0.11780210931045973, 0.1128060859495212, 0.10811803572540976, 0.10373050680661776, 0.09963512702585653, 0.09582269715206211, 0.09228328332248555, 0.08900630787773911, 0.08598063794914212, 0.08319467125631351, 0.08063641868103667, 0.07829358328867854, 0.0761536355685245, 0.07420388475737003, 0.07243154619482586, 0.07082380473262659, 0.06936787428269511, 0.06805105363907117, 0.06686077874667341, 0.06578467161519623, 0.06481058608957317, 0.06392665068998568, 0.06312130872531445, 0.06238335586539036, 0.061701975330834165, 0.061066770826254634, 0.060467797304816065, 0.059895589611464996, 0.05934118901023501, 0.05879616755977357, 0.05825265026226534, 0.05770333487579767, 0.0571415092503266, 0.05656106602392615, 0.055956514499891634, 0.05532298951720435, 0.05465625712727078, 0.053952716898868804, 0.053209400690732454, 0.052423967756798, 0.05159469608217562, 0.0507204698875422, 0.049800763284827694, 0.048835620116573365, 0.04782563006385996, 0.046771901161827396, 0.04567602891609921], \"yaxis\": \"y\"}, {\"legendgroup\": \"distplot\", \"marker\": {\"color\": \"rgb(31, 119, 180)\", \"symbol\": \"line-ns-open\"}, \"mode\": \"markers\", \"name\": \"distplot\", \"showlegend\": false, \"type\": \"scatter\", \"x\": [0.24, 0.239, 0.235, 0.23, 0.23399999999999999, 0.23600000000000002, 0.23399999999999999, 0.23199999999999998, 0.231, 0.231, 0.22699999999999998, 0.237, 0.23399999999999999, 0.23199999999999998, 0.228, 0.22399999999999998, 0.221, 0.218, 0.21600000000000003, 0.213, 0.209, 0.204, 0.19399999999999998, 0.19399999999999998, 0.192, 0.19399999999999998, 0.193, 0.198, 0.2, 0.19899999999999998, 0.196, 0.192, 0.18899999999999997, 0.187, 0.18600000000000003, 0.18100000000000002, 0.179, 0.177, 0.17800000000000002, 0.177, 0.174, 0.171, 0.168, 0.165, 0.161, 0.158, 0.155, 0.153, 0.151, 0.147, 0.146, 0.14300000000000002, 0.141, 0.14, 0.136, 0.133, 0.126, 0.125, 0.124, 0.124, 0.11800000000000001, 0.11800000000000001, 0.124, 0.127, 0.126, 0.122, 0.115, 0.12300000000000001, 0.125, 0.124, 0.192, 0.21600000000000003, 0.237, 0.235, 0.22899999999999998, 0.226, 0.22699999999999998, 0.251, 0.256, 0.24, 0.233, 0.226, 0.225, 0.221, 0.213, 0.20600000000000002, 0.192, 0.187, 0.182, 0.174, 0.172, 0.17, 0.16699999999999998, 0.162, 0.158, 0.152, 0.14800000000000002, 0.14800000000000002, 0.14800000000000002, 0.14300000000000002, 0.141, 0.14300000000000002, 0.141, 0.138, 0.138, 0.136, 0.135, 0.133, 0.132, 0.13, 0.124, 0.122, 0.125, 0.129, 0.131, 0.131, 0.126, 0.128, 0.126, 0.125, 0.124, 0.125, 0.132, 0.138, 0.14300000000000002, 0.146, 0.145, 0.28800000000000003, 0.32299999999999995, 0.301, 0.292, 0.27399999999999997, 0.267, 0.262, 0.256, 0.25, 0.24100000000000002, 0.235, 0.23, 0.222, 0.215, 0.207, 0.2, 0.19399999999999998, 0.18899999999999997, 0.184, 0.179, 0.17600000000000002, 0.172, 0.168, 0.163, 0.157, 0.151, 0.14800000000000002, 0.147, 0.14400000000000002, 0.14300000000000002, 0.141, 0.138, 0.133, 0.129, 0.124, 0.125, 0.125, 0.127, 0.128, 0.127, 0.12300000000000001, 0.124, 0.126, 0.12300000000000001, 0.122, 0.121, 0.12300000000000001, 0.12300000000000001, 0.121, 0.11800000000000001, 0.11699999999999999, 0.115, 0.111, 0.11, 0.111, 0.11199999999999999, 0.11199999999999999, 0.114, 0.11699999999999999, 0.121, 0.124, 0.128, 0.128, 0.125, 0.124, 0.12, 0.11800000000000001, 0.11900000000000001, 0.11900000000000001, 0.11900000000000001, 0.11699999999999999, 0.111, 0.10800000000000001, 0.107, 0.107, 0.10800000000000001, 0.109, 0.10800000000000001, 0.10800000000000001, 0.109, 0.109, 0.107, 0.107, 0.107, 0.10800000000000001, 0.10800000000000001, 0.107, 0.106, 0.10800000000000001, 0.109, 0.107, 0.10800000000000001, 0.105, 0.102, 0.102, 0.10099999999999999, 0.1, 0.10099999999999999, 0.10099999999999999, 0.102, 0.102, 0.105, 0.102, 0.099, 0.095, 0.092, 0.09699999999999999, 0.096, 0.09300000000000001, 0.09300000000000001, 0.096, 0.09699999999999999, 0.098, 0.098, 0.096, 0.094, 0.094, 0.091, 0.09300000000000001, 0.095, 0.259, 0.258, 0.256, 0.24100000000000002, 0.23399999999999999, 0.23, 0.223, 0.221, 0.21899999999999997, 0.21600000000000003, 0.214, 0.209, 0.20600000000000002, 0.205, 0.205, 0.203, 0.19899999999999998, 0.196, 0.195, 0.19699999999999998, 0.2, 0.19899999999999998, 0.19699999999999998, 0.192, 0.185, 0.182, 0.18, 0.17800000000000002, 0.17600000000000002, 0.17300000000000001, 0.172, 0.171, 0.17, 0.16899999999999998, 0.172, 0.17800000000000002, 0.18100000000000002, 0.183, 0.237, 0.23199999999999998, 0.23, 0.23399999999999999, 0.231, 0.223, 0.217, 0.21600000000000003, 0.215, 0.213, 0.213, 0.21100000000000002, 0.21, 0.207, 0.20800000000000002, 0.20800000000000002, 0.21100000000000002, 0.218, 0.222, 0.222, 0.22, 0.222, 0.225, 0.22899999999999998, 0.22699999999999998, 0.284, 0.284, 0.28800000000000003, 0.278, 0.264, 0.263, 0.258, 0.252, 0.265, 0.263, 0.257, 0.258, 0.255, 0.25, 0.248, 0.245, 0.245, 0.243, 0.239, 0.239, 0.304, 0.292, 0.27, 0.261, 0.258, 0.254, 0.251, 0.248, 0.243, 0.239, 0.24100000000000002, 0.23800000000000002, 0.235, 0.231, 0.22899999999999998, 0.233, 0.23199999999999998, 0.23600000000000002, 0.23399999999999999, 0.22699999999999998, 0.23, 0.23399999999999999, 0.235, 0.231, 0.225, 0.22399999999999998, 0.222, 0.21899999999999997, 0.212, 0.20800000000000002, 0.20600000000000002, 0.205, 0.205, 0.203, 0.305, 0.29100000000000004, 0.285, 0.285, 0.314, 0.302, 0.29100000000000004, 0.276, 0.275, 0.311, 0.315, 0.29100000000000004, 0.278, 0.282, 0.33, 0.304, 0.28800000000000003, 0.298, 0.28800000000000003, 0.276, 0.27, 0.264, 0.26, 0.259, 0.265, 0.26, 0.256, 0.255, 0.251, 0.244, 0.24100000000000002, 0.243, 0.244, 0.24, 0.235, 0.231, 0.23, 0.22699999999999998, 0.222, 0.215, 0.226, 0.317, 0.297, 0.311, 0.314, 0.304, 0.33299999999999996, 0.324, 0.297, 0.287, 0.276, 0.263, 0.25, 0.295, 0.287, 0.27399999999999997, 0.26, 0.245, 0.233, 0.23, 0.239, 0.23399999999999999, 0.22699999999999998, 0.221, 0.214, 0.20600000000000002, 0.19899999999999998, 0.19699999999999998, 0.195, 0.191, 0.18600000000000003, 0.179, 0.17300000000000001, 0.168, 0.158, 0.156, 0.155, 0.154, 0.152, 0.196, 0.192, 0.184, 0.172, 0.16399999999999998, 0.158, 0.152, 0.175, 0.18100000000000002, 0.295, 0.287, 0.272, 0.258, 0.244, 0.231, 0.22, 0.21, 0.19699999999999998, 0.287, 0.27899999999999997, 0.27399999999999997, 0.308, 0.27, 0.33399999999999996, 0.304, 0.285, 0.27, 0.256, 0.24600000000000002, 0.23399999999999999, 0.221, 0.20800000000000002, 0.198, 0.18899999999999997, 0.182, 0.17300000000000001, 0.16899999999999998, 0.16399999999999998, 0.161, 0.156, 0.15, 0.147, 0.145, 0.14400000000000002, 0.142, 0.14, 0.142, 0.14, 0.14, 0.14, 0.138, 0.139, 0.138, 0.138, 0.135, 0.133, 0.132, 0.13, 0.125, 0.12300000000000001, 0.12300000000000001, 0.122, 0.12, 0.11699999999999999, 0.113, 0.11599999999999999, 0.11800000000000001, 0.11800000000000001, 0.11699999999999999, 0.11599999999999999, 0.114, 0.11199999999999999, 0.111, 0.11, 0.111, 0.11199999999999999, 0.113, 0.114, 0.11199999999999999, 0.111, 0.11, 0.10800000000000001, 0.105, 0.102, 0.102, 0.10400000000000001, 0.10400000000000001, 0.102, 0.102, 0.102, 0.10300000000000001, 0.10099999999999999, 0.099, 0.10099999999999999, 0.102, 0.102, 0.102, 0.102, 0.10099999999999999, 0.1, 0.1, 0.10099999999999999, 0.10099999999999999, 0.1, 0.1, 0.1, 0.1, 0.102, 0.121, 0.11699999999999999, 0.11199999999999999, 0.11199999999999999, 0.113, 0.113, 0.114, 0.11599999999999999, 0.11800000000000001, 0.121, 0.121, 0.121, 0.122, 0.122, 0.122, 0.121, 0.12, 0.11900000000000001, 0.11599999999999999, 0.114, 0.113, 0.111, 0.107, 0.10800000000000001, 0.10800000000000001, 0.107, 0.106, 0.105, 0.10099999999999999, 0.098, 0.099, 0.099, 0.099, 0.098, 0.094, 0.092, 0.092, 0.09300000000000001, 0.09300000000000001, 0.094, 0.096, 0.094, 0.08800000000000001, 0.08900000000000001, 0.092, 0.09300000000000001, 0.094, 0.09699999999999999, 0.1, 0.1, 0.1, 0.099, 0.1, 0.1, 0.099, 0.092, 0.09, 0.091, 0.092, 0.092, 0.098, 0.096, 0.09699999999999999, 0.184, 0.193, 0.19899999999999998, 0.2, 0.198, 0.20199999999999999, 0.26899999999999996, 0.26899999999999996, 0.254, 0.253, 0.251, 0.249, 0.244, 0.24100000000000002, 0.23800000000000002, 0.247, 0.245, 0.239, 0.273, 0.26, 0.28300000000000003, 0.28300000000000003, 0.264, 0.255, 0.289, 0.282, 0.267, 0.26, 0.257, 0.256, 0.256, 0.254, 0.261, 0.259, 0.254, 0.25, 0.24600000000000002, 0.243, 0.26899999999999996, 0.26, 0.257, 0.266, 0.26, 0.253, 0.252, 0.252, 0.251, 0.251, 0.249, 0.24600000000000002, 0.249, 0.247, 0.24600000000000002, 0.248, 0.249, 0.247, 0.245, 0.243, 0.24100000000000002, 0.23800000000000002, 0.235, 0.23199999999999998, 0.23, 0.22899999999999998, 0.22699999999999998, 0.228, 0.22699999999999998, 0.22399999999999998, 0.22399999999999998, 0.223, 0.222, 0.221, 0.223, 0.225, 0.223, 0.24600000000000002, 0.27399999999999997, 0.26, 0.252, 0.253, 0.252, 0.249, 0.245, 0.242, 0.24, 0.237, 0.233, 0.276, 0.27699999999999997, 0.265, 0.256, 0.252, 0.251, 0.251, 0.248, 0.24600000000000002, 0.245, 0.244, 0.24100000000000002, 0.23600000000000002, 0.235, 0.235, 0.23399999999999999, 0.23399999999999999, 0.233, 0.23, 0.23, 0.23, 0.22899999999999998, 0.228, 0.22699999999999998, 0.226, 0.226, 0.22699999999999998, 0.225, 0.223, 0.222, 0.222, 0.222, 0.218, 0.217, 0.265, 0.251, 0.243, 0.243, 0.243, 0.24100000000000002, 0.23800000000000002, 0.235, 0.23199999999999998, 0.231, 0.23199999999999998, 0.228, 0.223, 0.221, 0.21899999999999997, 0.21899999999999997, 0.21899999999999997, 0.22, 0.221, 0.21899999999999997, 0.21600000000000003, 0.214, 0.213, 0.214, 0.214, 0.212, 0.212, 0.21100000000000002, 0.207, 0.2, 0.19699999999999998, 0.192, 0.192, 0.195, 0.192, 0.192, 0.19399999999999998, 0.19699999999999998, 0.201, 0.203, 0.20199999999999999, 0.201, 0.2, 0.20199999999999999, 0.24600000000000002, 0.23800000000000002, 0.23399999999999999, 0.228, 0.225, 0.221, 0.239, 0.239, 0.24, 0.239, 0.239, 0.237, 0.23600000000000002, 0.23, 0.22699999999999998, 0.22699999999999998, 0.22399999999999998, 0.22399999999999998, 0.22, 0.21600000000000003, 0.214, 0.21600000000000003, 0.217, 0.21600000000000003, 0.21600000000000003, 0.21600000000000003, 0.217, 0.213, 0.20600000000000002, 0.2, 0.201, 0.19899999999999998, 0.204, 0.20600000000000002, 0.205, 0.2, 0.198, 0.198, 0.196, 0.192, 0.188, 0.187, 0.18600000000000003, 0.182, 0.177, 0.172, 0.165, 0.155, 0.149, 0.14300000000000002, 0.146, 0.146, 0.145, 0.142, 0.141, 0.139, 0.136, 0.136, 0.136, 0.134, 0.131, 0.127, 0.127, 0.125, 0.128, 0.128, 0.131, 0.135, 0.141, 0.145, 0.149, 0.15, 0.147, 0.14300000000000002, 0.14, 0.136, 0.128, 0.131, 0.129, 0.127, 0.12300000000000001, 0.12, 0.121, 0.12300000000000001, 0.122, 0.11800000000000001, 0.11599999999999999, 0.11699999999999999, 0.115, 0.115, 0.114, 0.113, 0.113, 0.11199999999999999, 0.11199999999999999, 0.111, 0.115, 0.11699999999999999, 0.115, 0.111, 0.115, 0.11199999999999999, 0.11199999999999999, 0.111, 0.113, 0.114, 0.114, 0.113, 0.11199999999999999, 0.109, 0.106, 0.107, 0.10400000000000001, 0.10400000000000001, 0.102, 0.102, 0.10400000000000001, 0.105, 0.107, 0.106, 0.105, 0.10300000000000001, 0.1, 0.10099999999999999, 0.102, 0.10300000000000001, 0.10300000000000001, 0.10400000000000001, 0.1, 0.11800000000000001, 0.13699999999999998, 0.14800000000000002, 0.155, 0.158, 0.161, 0.16, 0.159, 0.159, 0.161, 0.155, 0.151, 0.151, 0.152, 0.149, 0.145, 0.14400000000000002, 0.145, 0.142, 0.138, 0.14400000000000002, 0.149, 0.152, 0.153, 0.156, 0.156, 0.151, 0.20600000000000002, 0.21, 0.21, 0.20800000000000002, 0.20800000000000002, 0.207, 0.20600000000000002, 0.207, 0.207, 0.204, 0.2, 0.2, 0.201, 0.2, 0.19699999999999998, 0.19699999999999998, 0.19899999999999998, 0.195, 0.191, 0.193, 0.19399999999999998, 0.18899999999999997, 0.184, 0.17, 0.172, 0.171, 0.16899999999999998, 0.165, 0.256, 0.243, 0.258, 0.289, 0.285, 0.264, 0.258, 0.254, 0.252, 0.25, 0.248, 0.247, 0.248, 0.242, 0.237, 0.233, 0.226, 0.22399999999999998, 0.223, 0.215, 0.214, 0.212, 0.21600000000000003, 0.213, 0.271, 0.261, 0.25, 0.243, 0.244, 0.24, 0.237, 0.281, 0.27, 0.266, 0.261, 0.252, 0.253, 0.304, 0.295, 0.273, 0.314, 0.314, 0.29, 0.27699999999999997, 0.264, 0.256, 0.257, 0.253, 0.251, 0.257, 0.257, 0.251, 0.253, 0.252, 0.254, 0.251, 0.248, 0.24600000000000002, 0.243, 0.239, 0.327, 0.35200000000000004, 0.311, 0.29600000000000004, 0.278, 0.271, 0.267, 0.264, 0.259, 0.255, 0.25, 0.249, 0.247, 0.244, 0.242, 0.249, 0.248, 0.24600000000000002, 0.245, 0.244, 0.243, 0.247, 0.245, 0.24, 0.23800000000000002, 0.23800000000000002, 0.239, 0.26, 0.258, 0.27, 0.265, 0.26, 0.249, 0.244, 0.244, 0.243, 0.245, 0.267, 0.263, 0.259, 0.271, 0.285, 0.28, 0.27699999999999997, 0.27699999999999997, 0.27399999999999997, 0.26899999999999996, 0.263, 0.258, 0.253, 0.253, 0.27, 0.264, 0.262, 0.258, 0.256, 0.254, 0.249, 0.247, 0.24600000000000002, 0.244, 0.23800000000000002, 0.233, 0.233, 0.23199999999999998, 0.231, 0.22899999999999998, 0.22899999999999998, 0.22699999999999998, 0.223, 0.223, 0.223, 0.221, 0.22, 0.264, 0.255, 0.253, 0.25, 0.243, 0.239, 0.235, 0.233, 0.23600000000000002, 0.23600000000000002, 0.23399999999999999, 0.231, 0.225, 0.222, 0.307, 0.29100000000000004, 0.278, 0.271, 0.266, 0.263, 0.272, 0.272, 0.266, 0.26, 0.256, 0.249, 0.245, 0.244, 0.239, 0.231, 0.233, 0.23199999999999998, 0.23399999999999999, 0.23399999999999999, 0.301, 0.297, 0.315, 0.297, 0.327, 0.32, 0.29100000000000004, 0.28300000000000003, 0.275, 0.26899999999999996, 0.27699999999999997, 0.28600000000000003, 0.287, 0.295, 0.289, 0.27899999999999997, 0.331, 0.32, 0.297, 0.28800000000000003, 0.28, 0.273, 0.267, 0.258, 0.252, 0.24600000000000002, 0.24100000000000002, 0.23800000000000002, 0.233, 0.22699999999999998, 0.218, 0.21, 0.203, 0.203, 0.201, 0.198, 0.19399999999999998, 0.239, 0.249, 0.28300000000000003, 0.26899999999999996, 0.25, 0.23800000000000002, 0.228, 0.221, 0.213, 0.207, 0.20199999999999999, 0.195, 0.187, 0.183, 0.177, 0.175, 0.172, 0.171, 0.168, 0.163, 0.161, 0.162, 0.161, 0.156, 0.157, 0.156, 0.17800000000000002, 0.16899999999999998, 0.162, 0.158, 0.153, 0.14400000000000002, 0.142, 0.145, 0.145, 0.14400000000000002, 0.14400000000000002, 0.145, 0.145, 0.146, 0.146, 0.14800000000000002, 0.14800000000000002, 0.145, 0.14, 0.138, 0.14, 0.142, 0.145, 0.16, 0.19399999999999998, 0.182, 0.182, 0.185, 0.187, 0.185, 0.185, 0.184, 0.17600000000000002, 0.179, 0.182, 0.175, 0.18, 0.18100000000000002, 0.17800000000000002, 0.18100000000000002, 0.18, 0.17800000000000002, 0.182, 0.184, 0.17600000000000002, 0.177, 0.182, 0.18100000000000002, 0.183, 0.185, 0.20199999999999999, 0.203, 0.198, 0.188, 0.19699999999999998, 0.193, 0.18, 0.18600000000000003, 0.191, 0.218, 0.213, 0.19899999999999998, 0.196, 0.192, 0.191, 0.18600000000000003, 0.17600000000000002, 0.18, 0.183, 0.18100000000000002, 0.182, 0.184, 0.19, 0.191, 0.192, 0.18899999999999997, 0.19, 0.192, 0.192, 0.196, 0.19699999999999998, 0.19899999999999998, 0.19399999999999998, 0.19, 0.191, 0.19, 0.19399999999999998, 0.192, 0.193, 0.191, 0.19, 0.19, 0.191, 0.18899999999999997, 0.19, 0.193, 0.192, 0.192, 0.193, 0.193, 0.19399999999999998, 0.192, 0.195, 0.193, 0.193, 0.281, 0.312, 0.321, 0.32299999999999995, 0.321, 0.317, 0.316, 0.32, 0.321, 0.322, 0.325, 0.322, 0.317, 0.32299999999999995, 0.27899999999999997, 0.312, 0.32899999999999996, 0.337, 0.336, 0.33299999999999996, 0.321, 0.321, 0.32299999999999995, 0.326, 0.32, 0.327, 0.325, 0.32799999999999996, 0.326, 0.326, 0.502, 0.488, 0.493, 0.466, 0.44299999999999995, 0.442, 0.429, 0.426, 0.436, 0.43700000000000006, 0.43200000000000005, 0.435, 0.433, 0.43, 0.42700000000000005, 0.41600000000000004, 0.49, 0.5579999999999999, 0.5379999999999999, 0.5579999999999999, 0.569, 0.48700000000000004, 0.47700000000000004, 0.473, 0.478, 0.47600000000000003, 0.485, 0.483, 0.47, 0.469, 0.466, 0.45799999999999996, 0.441, 0.43799999999999994, 0.434, 0.43200000000000005, 0.434, 0.51, 0.525, 0.496, 0.485, 0.47600000000000003, 0.46799999999999997, 0.45899999999999996, 0.444, 0.451, 0.441, 0.43799999999999994, 0.44799999999999995, 0.444, 0.435, 0.45299999999999996, 0.489, 0.47200000000000003, 0.46799999999999997, 0.47700000000000004, 0.475, 0.469, 0.457, 0.457, 0.484, 0.483, 0.496, 0.502, 0.493, 0.489, 0.465, 0.447, 0.445, 0.489, 0.47200000000000003, 0.457, 0.46], \"xaxis\": \"x\", \"y\": [\"distplot\", \"distplot\", \"distplot\", \"distplot\", \"distplot\", \"distplot\", \"distplot\", \"distplot\", \"distplot\", \"distplot\", \"distplot\", \"distplot\", \"distplot\", \"distplot\", \"distplot\", \"distplot\", \"distplot\", \"distplot\", \"distplot\", \"distplot\", \"distplot\", \"distplot\", \"distplot\", \"distplot\", \"distplot\", \"distplot\", \"distplot\", \"distplot\", \"distplot\", \"distplot\", \"distplot\", \"distplot\", \"distplot\", \"distplot\", \"distplot\", \"distplot\", \"distplot\", \"distplot\", \"distplot\", \"distplot\", \"distplot\", \"distplot\", \"distplot\", \"distplot\", \"distplot\", \"distplot\", \"distplot\", \"distplot\", \"distplot\", \"distplot\", \"distplot\", \"distplot\", \"distplot\", \"distplot\", \"distplot\", \"distplot\", \"distplot\", \"distplot\", \"distplot\", \"distplot\", \"distplot\", \"distplot\", \"distplot\", \"distplot\", \"distplot\", \"distplot\", \"distplot\", \"distplot\", \"distplot\", \"distplot\", \"distplot\", \"distplot\", \"distplot\", \"distplot\", \"distplot\", \"distplot\", \"distplot\", \"distplot\", \"distplot\", \"distplot\", \"distplot\", \"distplot\", \"distplot\", \"distplot\", \"distplot\", \"distplot\", \"distplot\", \"distplot\", \"distplot\", \"distplot\", \"distplot\", \"distplot\", \"distplot\", \"distplot\", \"distplot\", \"distplot\", \"distplot\", \"distplot\", \"distplot\", \"distplot\", \"distplot\", \"distplot\", \"distplot\", \"distplot\", \"distplot\", \"distplot\", \"distplot\", \"distplot\", \"distplot\", \"distplot\", \"distplot\", \"distplot\", \"distplot\", \"distplot\", \"distplot\", \"distplot\", \"distplot\", \"distplot\", \"distplot\", \"distplot\", \"distplot\", \"distplot\", \"distplot\", \"distplot\", \"distplot\", \"distplot\", \"distplot\", \"distplot\", \"distplot\", \"distplot\", \"distplot\", \"distplot\", \"distplot\", \"distplot\", \"distplot\", \"distplot\", \"distplot\", \"distplot\", \"distplot\", \"distplot\", \"distplot\", \"distplot\", \"distplot\", \"distplot\", \"distplot\", \"distplot\", \"distplot\", \"distplot\", \"distplot\", \"distplot\", \"distplot\", \"distplot\", \"distplot\", \"distplot\", \"distplot\", \"distplot\", \"distplot\", \"distplot\", \"distplot\", \"distplot\", \"distplot\", \"distplot\", \"distplot\", \"distplot\", \"distplot\", \"distplot\", \"distplot\", \"distplot\", \"distplot\", \"distplot\", \"distplot\", \"distplot\", \"distplot\", \"distplot\", \"distplot\", \"distplot\", \"distplot\", \"distplot\", \"distplot\", \"distplot\", \"distplot\", \"distplot\", \"distplot\", \"distplot\", \"distplot\", \"distplot\", \"distplot\", \"distplot\", \"distplot\", \"distplot\", \"distplot\", \"distplot\", \"distplot\", \"distplot\", \"distplot\", \"distplot\", \"distplot\", \"distplot\", \"distplot\", \"distplot\", \"distplot\", \"distplot\", \"distplot\", \"distplot\", \"distplot\", \"distplot\", \"distplot\", \"distplot\", \"distplot\", \"distplot\", \"distplot\", \"distplot\", \"distplot\", \"distplot\", \"distplot\", \"distplot\", \"distplot\", \"distplot\", \"distplot\", \"distplot\", \"distplot\", \"distplot\", \"distplot\", \"distplot\", \"distplot\", \"distplot\", \"distplot\", \"distplot\", \"distplot\", \"distplot\", \"distplot\", \"distplot\", \"distplot\", \"distplot\", \"distplot\", \"distplot\", \"distplot\", \"distplot\", \"distplot\", \"distplot\", \"distplot\", \"distplot\", \"distplot\", \"distplot\", \"distplot\", \"distplot\", \"distplot\", \"distplot\", \"distplot\", \"distplot\", \"distplot\", \"distplot\", \"distplot\", \"distplot\", \"distplot\", \"distplot\", \"distplot\", \"distplot\", \"distplot\", \"distplot\", \"distplot\", \"distplot\", \"distplot\", \"distplot\", \"distplot\", \"distplot\", \"distplot\", \"distplot\", \"distplot\", \"distplot\", \"distplot\", \"distplot\", \"distplot\", \"distplot\", \"distplot\", \"distplot\", \"distplot\", \"distplot\", \"distplot\", \"distplot\", \"distplot\", \"distplot\", \"distplot\", \"distplot\", \"distplot\", \"distplot\", \"distplot\", \"distplot\", \"distplot\", \"distplot\", \"distplot\", \"distplot\", \"distplot\", \"distplot\", \"distplot\", \"distplot\", \"distplot\", \"distplot\", \"distplot\", \"distplot\", \"distplot\", \"distplot\", \"distplot\", \"distplot\", \"distplot\", \"distplot\", \"distplot\", \"distplot\", \"distplot\", \"distplot\", \"distplot\", \"distplot\", \"distplot\", \"distplot\", \"distplot\", \"distplot\", \"distplot\", \"distplot\", \"distplot\", \"distplot\", \"distplot\", \"distplot\", \"distplot\", \"distplot\", \"distplot\", \"distplot\", \"distplot\", \"distplot\", \"distplot\", \"distplot\", \"distplot\", \"distplot\", \"distplot\", \"distplot\", \"distplot\", \"distplot\", \"distplot\", \"distplot\", \"distplot\", \"distplot\", \"distplot\", \"distplot\", \"distplot\", \"distplot\", \"distplot\", \"distplot\", \"distplot\", \"distplot\", \"distplot\", \"distplot\", \"distplot\", \"distplot\", \"distplot\", \"distplot\", \"distplot\", \"distplot\", \"distplot\", \"distplot\", \"distplot\", \"distplot\", \"distplot\", \"distplot\", \"distplot\", \"distplot\", \"distplot\", \"distplot\", \"distplot\", \"distplot\", \"distplot\", \"distplot\", \"distplot\", \"distplot\", \"distplot\", \"distplot\", \"distplot\", \"distplot\", \"distplot\", \"distplot\", \"distplot\", \"distplot\", \"distplot\", \"distplot\", \"distplot\", \"distplot\", \"distplot\", \"distplot\", \"distplot\", \"distplot\", \"distplot\", \"distplot\", \"distplot\", \"distplot\", \"distplot\", \"distplot\", \"distplot\", \"distplot\", \"distplot\", \"distplot\", \"distplot\", \"distplot\", \"distplot\", \"distplot\", \"distplot\", \"distplot\", \"distplot\", \"distplot\", \"distplot\", \"distplot\", \"distplot\", \"distplot\", \"distplot\", \"distplot\", \"distplot\", \"distplot\", \"distplot\", \"distplot\", \"distplot\", \"distplot\", \"distplot\", \"distplot\", \"distplot\", \"distplot\", \"distplot\", \"distplot\", \"distplot\", \"distplot\", \"distplot\", \"distplot\", \"distplot\", \"distplot\", \"distplot\", \"distplot\", \"distplot\", \"distplot\", \"distplot\", \"distplot\", \"distplot\", \"distplot\", \"distplot\", \"distplot\", \"distplot\", \"distplot\", \"distplot\", \"distplot\", \"distplot\", \"distplot\", \"distplot\", \"distplot\", \"distplot\", \"distplot\", \"distplot\", \"distplot\", \"distplot\", \"distplot\", \"distplot\", \"distplot\", \"distplot\", \"distplot\", \"distplot\", \"distplot\", \"distplot\", \"distplot\", \"distplot\", \"distplot\", \"distplot\", \"distplot\", \"distplot\", \"distplot\", \"distplot\", \"distplot\", \"distplot\", \"distplot\", \"distplot\", \"distplot\", \"distplot\", \"distplot\", \"distplot\", \"distplot\", \"distplot\", \"distplot\", \"distplot\", \"distplot\", \"distplot\", \"distplot\", \"distplot\", \"distplot\", \"distplot\", \"distplot\", \"distplot\", \"distplot\", \"distplot\", \"distplot\", \"distplot\", \"distplot\", \"distplot\", \"distplot\", \"distplot\", \"distplot\", \"distplot\", \"distplot\", \"distplot\", \"distplot\", \"distplot\", \"distplot\", \"distplot\", \"distplot\", \"distplot\", \"distplot\", \"distplot\", \"distplot\", \"distplot\", \"distplot\", \"distplot\", \"distplot\", \"distplot\", \"distplot\", \"distplot\", \"distplot\", \"distplot\", \"distplot\", \"distplot\", \"distplot\", \"distplot\", \"distplot\", \"distplot\", \"distplot\", \"distplot\", \"distplot\", \"distplot\", \"distplot\", \"distplot\", \"distplot\", \"distplot\", \"distplot\", \"distplot\", \"distplot\", \"distplot\", \"distplot\", \"distplot\", \"distplot\", \"distplot\", \"distplot\", \"distplot\", \"distplot\", \"distplot\", \"distplot\", \"distplot\", \"distplot\", \"distplot\", \"distplot\", \"distplot\", \"distplot\", \"distplot\", \"distplot\", \"distplot\", \"distplot\", \"distplot\", \"distplot\", \"distplot\", \"distplot\", \"distplot\", \"distplot\", \"distplot\", \"distplot\", \"distplot\", \"distplot\", \"distplot\", \"distplot\", \"distplot\", \"distplot\", \"distplot\", \"distplot\", \"distplot\", \"distplot\", \"distplot\", \"distplot\", \"distplot\", \"distplot\", \"distplot\", \"distplot\", \"distplot\", \"distplot\", \"distplot\", \"distplot\", \"distplot\", \"distplot\", \"distplot\", \"distplot\", \"distplot\", \"distplot\", \"distplot\", \"distplot\", \"distplot\", \"distplot\", \"distplot\", \"distplot\", \"distplot\", \"distplot\", \"distplot\", \"distplot\", \"distplot\", \"distplot\", \"distplot\", \"distplot\", \"distplot\", \"distplot\", \"distplot\", \"distplot\", \"distplot\", \"distplot\", \"distplot\", \"distplot\", \"distplot\", \"distplot\", \"distplot\", \"distplot\", \"distplot\", \"distplot\", \"distplot\", \"distplot\", \"distplot\", \"distplot\", \"distplot\", \"distplot\", \"distplot\", \"distplot\", \"distplot\", \"distplot\", \"distplot\", \"distplot\", \"distplot\", \"distplot\", \"distplot\", \"distplot\", \"distplot\", \"distplot\", \"distplot\", \"distplot\", \"distplot\", \"distplot\", \"distplot\", \"distplot\", \"distplot\", \"distplot\", \"distplot\", \"distplot\", \"distplot\", \"distplot\", \"distplot\", \"distplot\", \"distplot\", \"distplot\", \"distplot\", \"distplot\", \"distplot\", \"distplot\", \"distplot\", \"distplot\", \"distplot\", \"distplot\", \"distplot\", \"distplot\", \"distplot\", \"distplot\", \"distplot\", \"distplot\", \"distplot\", \"distplot\", \"distplot\", \"distplot\", \"distplot\", \"distplot\", \"distplot\", \"distplot\", \"distplot\", \"distplot\", \"distplot\", \"distplot\", \"distplot\", \"distplot\", \"distplot\", \"distplot\", \"distplot\", \"distplot\", \"distplot\", \"distplot\", \"distplot\", \"distplot\", \"distplot\", \"distplot\", \"distplot\", \"distplot\", \"distplot\", \"distplot\", \"distplot\", \"distplot\", \"distplot\", \"distplot\", \"distplot\", \"distplot\", \"distplot\", \"distplot\", \"distplot\", \"distplot\", \"distplot\", \"distplot\", \"distplot\", \"distplot\", \"distplot\", \"distplot\", \"distplot\", \"distplot\", \"distplot\", \"distplot\", \"distplot\", \"distplot\", \"distplot\", \"distplot\", \"distplot\", \"distplot\", \"distplot\", \"distplot\", \"distplot\", \"distplot\", \"distplot\", \"distplot\", \"distplot\", \"distplot\", \"distplot\", \"distplot\", \"distplot\", \"distplot\", \"distplot\", \"distplot\", \"distplot\", \"distplot\", \"distplot\", \"distplot\", \"distplot\", \"distplot\", \"distplot\", \"distplot\", \"distplot\", \"distplot\", \"distplot\", \"distplot\", \"distplot\", \"distplot\", \"distplot\", \"distplot\", \"distplot\", \"distplot\", \"distplot\", \"distplot\", \"distplot\", \"distplot\", \"distplot\", \"distplot\", \"distplot\", \"distplot\", \"distplot\", \"distplot\", \"distplot\", \"distplot\", \"distplot\", \"distplot\", \"distplot\", \"distplot\", \"distplot\", \"distplot\", \"distplot\", \"distplot\", \"distplot\", \"distplot\", \"distplot\", \"distplot\", \"distplot\", \"distplot\", \"distplot\", \"distplot\", \"distplot\", \"distplot\", \"distplot\", \"distplot\", \"distplot\", \"distplot\", \"distplot\", \"distplot\", \"distplot\", \"distplot\", \"distplot\", \"distplot\", \"distplot\", \"distplot\", \"distplot\", \"distplot\", \"distplot\", \"distplot\", \"distplot\", \"distplot\", \"distplot\", \"distplot\", \"distplot\", \"distplot\", \"distplot\", \"distplot\", \"distplot\", \"distplot\", \"distplot\", \"distplot\", \"distplot\", \"distplot\", \"distplot\", \"distplot\", \"distplot\", \"distplot\", \"distplot\", \"distplot\", \"distplot\", \"distplot\", \"distplot\", \"distplot\", \"distplot\", \"distplot\", \"distplot\", \"distplot\", \"distplot\", \"distplot\", \"distplot\", \"distplot\", \"distplot\", \"distplot\", \"distplot\", \"distplot\", \"distplot\", \"distplot\", \"distplot\", \"distplot\", \"distplot\", \"distplot\", \"distplot\", \"distplot\", \"distplot\", \"distplot\", \"distplot\", \"distplot\", \"distplot\", \"distplot\", \"distplot\", \"distplot\", \"distplot\", \"distplot\", \"distplot\", \"distplot\", \"distplot\", \"distplot\", \"distplot\", \"distplot\", \"distplot\", \"distplot\", \"distplot\", \"distplot\", \"distplot\", \"distplot\", \"distplot\", \"distplot\", \"distplot\", \"distplot\", \"distplot\", \"distplot\", \"distplot\", \"distplot\", \"distplot\", \"distplot\", \"distplot\", \"distplot\", \"distplot\", \"distplot\", \"distplot\", \"distplot\", \"distplot\", \"distplot\", \"distplot\", \"distplot\", \"distplot\", \"distplot\", \"distplot\", \"distplot\", \"distplot\", \"distplot\", \"distplot\", \"distplot\", \"distplot\", \"distplot\", \"distplot\", \"distplot\", \"distplot\", \"distplot\", \"distplot\", \"distplot\", \"distplot\", \"distplot\", \"distplot\", \"distplot\", \"distplot\", \"distplot\", \"distplot\", \"distplot\", \"distplot\", \"distplot\", \"distplot\", \"distplot\", \"distplot\", \"distplot\", \"distplot\", \"distplot\", \"distplot\", \"distplot\", \"distplot\", \"distplot\", \"distplot\", \"distplot\", \"distplot\", \"distplot\", \"distplot\", \"distplot\", \"distplot\", \"distplot\", \"distplot\", \"distplot\", \"distplot\", \"distplot\", \"distplot\", \"distplot\", \"distplot\", \"distplot\", \"distplot\", \"distplot\", \"distplot\", \"distplot\", \"distplot\", \"distplot\", \"distplot\", \"distplot\", \"distplot\", \"distplot\", \"distplot\", \"distplot\", \"distplot\", \"distplot\", \"distplot\", \"distplot\", \"distplot\", \"distplot\", \"distplot\", \"distplot\", \"distplot\", \"distplot\", \"distplot\", \"distplot\", \"distplot\", \"distplot\", \"distplot\", \"distplot\", \"distplot\", \"distplot\", \"distplot\", \"distplot\", \"distplot\", \"distplot\", \"distplot\", \"distplot\", \"distplot\", \"distplot\", \"distplot\", \"distplot\", \"distplot\", \"distplot\", \"distplot\", \"distplot\", \"distplot\", \"distplot\", \"distplot\", \"distplot\", \"distplot\", \"distplot\", \"distplot\", \"distplot\", \"distplot\", \"distplot\", \"distplot\", \"distplot\", \"distplot\", \"distplot\", \"distplot\", \"distplot\", \"distplot\", \"distplot\", \"distplot\", \"distplot\", \"distplot\", \"distplot\", \"distplot\", \"distplot\", \"distplot\", \"distplot\", \"distplot\", \"distplot\", \"distplot\", \"distplot\", \"distplot\", \"distplot\", \"distplot\", \"distplot\", \"distplot\", \"distplot\", \"distplot\", \"distplot\", \"distplot\", \"distplot\", \"distplot\", \"distplot\", \"distplot\", \"distplot\", \"distplot\", \"distplot\", \"distplot\", \"distplot\", \"distplot\", \"distplot\", \"distplot\", \"distplot\", \"distplot\", \"distplot\", \"distplot\", \"distplot\", \"distplot\", \"distplot\", \"distplot\", \"distplot\", \"distplot\", \"distplot\", \"distplot\", \"distplot\", \"distplot\", \"distplot\", \"distplot\", \"distplot\", \"distplot\", \"distplot\", \"distplot\", \"distplot\", \"distplot\", \"distplot\", \"distplot\", \"distplot\", \"distplot\", \"distplot\", \"distplot\", \"distplot\", \"distplot\", \"distplot\", \"distplot\", \"distplot\", \"distplot\", \"distplot\", \"distplot\", \"distplot\", \"distplot\", \"distplot\", \"distplot\", \"distplot\", \"distplot\", \"distplot\", \"distplot\", \"distplot\", \"distplot\", \"distplot\", \"distplot\", \"distplot\", \"distplot\", \"distplot\", \"distplot\", \"distplot\", \"distplot\", \"distplot\", \"distplot\", \"distplot\", \"distplot\", \"distplot\", \"distplot\", \"distplot\", \"distplot\", \"distplot\", \"distplot\", \"distplot\", \"distplot\", \"distplot\", \"distplot\", \"distplot\", \"distplot\", \"distplot\", \"distplot\", \"distplot\", \"distplot\", \"distplot\", \"distplot\", \"distplot\", \"distplot\", \"distplot\", \"distplot\", \"distplot\", \"distplot\", \"distplot\", \"distplot\", \"distplot\", \"distplot\", \"distplot\", \"distplot\", \"distplot\", \"distplot\", \"distplot\", \"distplot\", \"distplot\", \"distplot\", \"distplot\", \"distplot\", \"distplot\", \"distplot\", \"distplot\", \"distplot\", \"distplot\", \"distplot\", \"distplot\", \"distplot\", \"distplot\", \"distplot\", \"distplot\", \"distplot\", \"distplot\", \"distplot\", \"distplot\", \"distplot\", \"distplot\", \"distplot\", \"distplot\", \"distplot\", \"distplot\", \"distplot\", \"distplot\", \"distplot\", \"distplot\", \"distplot\", \"distplot\", \"distplot\", \"distplot\", \"distplot\", \"distplot\", \"distplot\", \"distplot\", \"distplot\", \"distplot\", \"distplot\", \"distplot\", \"distplot\", \"distplot\", \"distplot\", \"distplot\", \"distplot\", \"distplot\", \"distplot\", \"distplot\", \"distplot\", \"distplot\", \"distplot\", \"distplot\", \"distplot\", \"distplot\", \"distplot\", \"distplot\", \"distplot\", \"distplot\", \"distplot\", \"distplot\", \"distplot\", \"distplot\", \"distplot\", \"distplot\", \"distplot\", \"distplot\", \"distplot\", \"distplot\", \"distplot\", \"distplot\", \"distplot\", \"distplot\", \"distplot\", \"distplot\", \"distplot\", \"distplot\", \"distplot\", \"distplot\", \"distplot\", \"distplot\", \"distplot\", \"distplot\", \"distplot\", \"distplot\", \"distplot\", \"distplot\", \"distplot\", \"distplot\", \"distplot\", \"distplot\", \"distplot\", \"distplot\", \"distplot\", \"distplot\", \"distplot\", \"distplot\", \"distplot\", \"distplot\", \"distplot\", \"distplot\", \"distplot\", \"distplot\", \"distplot\", \"distplot\", \"distplot\", \"distplot\", \"distplot\", \"distplot\", \"distplot\", \"distplot\", \"distplot\", \"distplot\", \"distplot\", \"distplot\", \"distplot\", \"distplot\", \"distplot\", \"distplot\", \"distplot\", \"distplot\", \"distplot\", \"distplot\", \"distplot\", \"distplot\", \"distplot\", \"distplot\", \"distplot\", \"distplot\", \"distplot\", \"distplot\", \"distplot\", \"distplot\", \"distplot\", \"distplot\", \"distplot\", \"distplot\", \"distplot\", \"distplot\", \"distplot\", \"distplot\", \"distplot\", \"distplot\", \"distplot\", \"distplot\", \"distplot\", \"distplot\", \"distplot\", \"distplot\", \"distplot\", \"distplot\", \"distplot\", \"distplot\", \"distplot\", \"distplot\", \"distplot\", \"distplot\", \"distplot\", \"distplot\", \"distplot\", \"distplot\", \"distplot\", \"distplot\", \"distplot\", \"distplot\", \"distplot\", \"distplot\", \"distplot\", \"distplot\", \"distplot\", \"distplot\", \"distplot\", \"distplot\", \"distplot\", \"distplot\", \"distplot\", \"distplot\", \"distplot\", \"distplot\", \"distplot\", \"distplot\", \"distplot\", \"distplot\", \"distplot\", \"distplot\", \"distplot\", \"distplot\", \"distplot\", \"distplot\", \"distplot\", \"distplot\", \"distplot\", \"distplot\", \"distplot\", \"distplot\", \"distplot\", \"distplot\", \"distplot\", \"distplot\", \"distplot\", \"distplot\", \"distplot\", \"distplot\", \"distplot\", \"distplot\", \"distplot\", \"distplot\", \"distplot\", \"distplot\", \"distplot\", \"distplot\", \"distplot\", \"distplot\", \"distplot\", \"distplot\", \"distplot\", \"distplot\", \"distplot\", \"distplot\", \"distplot\", \"distplot\", \"distplot\", \"distplot\", \"distplot\", \"distplot\", \"distplot\", \"distplot\", \"distplot\", \"distplot\", \"distplot\", \"distplot\", \"distplot\", \"distplot\", \"distplot\", \"distplot\", \"distplot\", \"distplot\", \"distplot\", \"distplot\", \"distplot\", \"distplot\", \"distplot\", \"distplot\", \"distplot\", \"distplot\", \"distplot\", \"distplot\", \"distplot\", \"distplot\", \"distplot\", \"distplot\", \"distplot\", \"distplot\", \"distplot\", \"distplot\", \"distplot\", \"distplot\", \"distplot\", \"distplot\", \"distplot\", \"distplot\", \"distplot\", \"distplot\", \"distplot\", \"distplot\", \"distplot\", \"distplot\", \"distplot\", \"distplot\", \"distplot\", \"distplot\", \"distplot\", \"distplot\", \"distplot\", \"distplot\", \"distplot\", \"distplot\", \"distplot\", \"distplot\"], \"yaxis\": \"y2\"}],\n",
              "                        {\"barmode\": \"overlay\", \"hovermode\": \"closest\", \"legend\": {\"traceorder\": \"reversed\"}, \"template\": {\"data\": {\"bar\": [{\"error_x\": {\"color\": \"#2a3f5f\"}, \"error_y\": {\"color\": \"#2a3f5f\"}, \"marker\": {\"line\": {\"color\": \"#E5ECF6\", \"width\": 0.5}}, \"type\": \"bar\"}], \"barpolar\": [{\"marker\": {\"line\": {\"color\": \"#E5ECF6\", \"width\": 0.5}}, \"type\": \"barpolar\"}], \"carpet\": [{\"aaxis\": {\"endlinecolor\": \"#2a3f5f\", \"gridcolor\": \"white\", \"linecolor\": \"white\", \"minorgridcolor\": \"white\", \"startlinecolor\": \"#2a3f5f\"}, \"baxis\": {\"endlinecolor\": \"#2a3f5f\", \"gridcolor\": \"white\", \"linecolor\": \"white\", \"minorgridcolor\": \"white\", \"startlinecolor\": \"#2a3f5f\"}, \"type\": \"carpet\"}], \"choropleth\": [{\"colorbar\": {\"outlinewidth\": 0, \"ticks\": \"\"}, \"type\": \"choropleth\"}], \"contour\": [{\"colorbar\": {\"outlinewidth\": 0, \"ticks\": \"\"}, \"colorscale\": [[0.0, \"#0d0887\"], [0.1111111111111111, \"#46039f\"], [0.2222222222222222, \"#7201a8\"], [0.3333333333333333, \"#9c179e\"], [0.4444444444444444, \"#bd3786\"], [0.5555555555555556, \"#d8576b\"], [0.6666666666666666, \"#ed7953\"], [0.7777777777777778, \"#fb9f3a\"], [0.8888888888888888, \"#fdca26\"], [1.0, \"#f0f921\"]], \"type\": \"contour\"}], \"contourcarpet\": [{\"colorbar\": {\"outlinewidth\": 0, \"ticks\": \"\"}, \"type\": \"contourcarpet\"}], \"heatmap\": [{\"colorbar\": {\"outlinewidth\": 0, \"ticks\": \"\"}, \"colorscale\": [[0.0, \"#0d0887\"], [0.1111111111111111, \"#46039f\"], [0.2222222222222222, \"#7201a8\"], [0.3333333333333333, \"#9c179e\"], [0.4444444444444444, \"#bd3786\"], [0.5555555555555556, \"#d8576b\"], [0.6666666666666666, \"#ed7953\"], [0.7777777777777778, \"#fb9f3a\"], [0.8888888888888888, \"#fdca26\"], [1.0, \"#f0f921\"]], \"type\": \"heatmap\"}], \"heatmapgl\": [{\"colorbar\": {\"outlinewidth\": 0, \"ticks\": \"\"}, \"colorscale\": [[0.0, \"#0d0887\"], [0.1111111111111111, \"#46039f\"], [0.2222222222222222, \"#7201a8\"], [0.3333333333333333, \"#9c179e\"], [0.4444444444444444, \"#bd3786\"], [0.5555555555555556, \"#d8576b\"], [0.6666666666666666, \"#ed7953\"], [0.7777777777777778, \"#fb9f3a\"], [0.8888888888888888, \"#fdca26\"], [1.0, \"#f0f921\"]], \"type\": \"heatmapgl\"}], \"histogram\": [{\"marker\": {\"colorbar\": {\"outlinewidth\": 0, \"ticks\": \"\"}}, \"type\": \"histogram\"}], \"histogram2d\": [{\"colorbar\": {\"outlinewidth\": 0, \"ticks\": \"\"}, \"colorscale\": [[0.0, \"#0d0887\"], [0.1111111111111111, \"#46039f\"], [0.2222222222222222, \"#7201a8\"], [0.3333333333333333, \"#9c179e\"], [0.4444444444444444, \"#bd3786\"], [0.5555555555555556, \"#d8576b\"], [0.6666666666666666, \"#ed7953\"], [0.7777777777777778, \"#fb9f3a\"], [0.8888888888888888, \"#fdca26\"], [1.0, \"#f0f921\"]], \"type\": \"histogram2d\"}], \"histogram2dcontour\": [{\"colorbar\": {\"outlinewidth\": 0, \"ticks\": \"\"}, \"colorscale\": [[0.0, \"#0d0887\"], [0.1111111111111111, \"#46039f\"], [0.2222222222222222, \"#7201a8\"], [0.3333333333333333, \"#9c179e\"], [0.4444444444444444, \"#bd3786\"], [0.5555555555555556, \"#d8576b\"], [0.6666666666666666, \"#ed7953\"], [0.7777777777777778, \"#fb9f3a\"], [0.8888888888888888, \"#fdca26\"], [1.0, \"#f0f921\"]], \"type\": \"histogram2dcontour\"}], \"mesh3d\": [{\"colorbar\": {\"outlinewidth\": 0, \"ticks\": \"\"}, \"type\": \"mesh3d\"}], \"parcoords\": [{\"line\": {\"colorbar\": {\"outlinewidth\": 0, \"ticks\": \"\"}}, \"type\": \"parcoords\"}], \"pie\": [{\"automargin\": true, \"type\": \"pie\"}], \"scatter\": [{\"marker\": {\"colorbar\": {\"outlinewidth\": 0, \"ticks\": \"\"}}, \"type\": \"scatter\"}], \"scatter3d\": [{\"line\": {\"colorbar\": {\"outlinewidth\": 0, \"ticks\": \"\"}}, \"marker\": {\"colorbar\": {\"outlinewidth\": 0, \"ticks\": \"\"}}, \"type\": \"scatter3d\"}], \"scattercarpet\": [{\"marker\": {\"colorbar\": {\"outlinewidth\": 0, \"ticks\": \"\"}}, \"type\": \"scattercarpet\"}], \"scattergeo\": [{\"marker\": {\"colorbar\": {\"outlinewidth\": 0, \"ticks\": \"\"}}, \"type\": \"scattergeo\"}], \"scattergl\": [{\"marker\": {\"colorbar\": {\"outlinewidth\": 0, \"ticks\": \"\"}}, \"type\": \"scattergl\"}], \"scattermapbox\": [{\"marker\": {\"colorbar\": {\"outlinewidth\": 0, \"ticks\": \"\"}}, \"type\": \"scattermapbox\"}], \"scatterpolar\": [{\"marker\": {\"colorbar\": {\"outlinewidth\": 0, \"ticks\": \"\"}}, \"type\": \"scatterpolar\"}], \"scatterpolargl\": [{\"marker\": {\"colorbar\": {\"outlinewidth\": 0, \"ticks\": \"\"}}, \"type\": \"scatterpolargl\"}], \"scatterternary\": [{\"marker\": {\"colorbar\": {\"outlinewidth\": 0, \"ticks\": \"\"}}, \"type\": \"scatterternary\"}], \"surface\": [{\"colorbar\": {\"outlinewidth\": 0, \"ticks\": \"\"}, \"colorscale\": [[0.0, \"#0d0887\"], [0.1111111111111111, \"#46039f\"], [0.2222222222222222, \"#7201a8\"], [0.3333333333333333, \"#9c179e\"], [0.4444444444444444, \"#bd3786\"], [0.5555555555555556, \"#d8576b\"], [0.6666666666666666, \"#ed7953\"], [0.7777777777777778, \"#fb9f3a\"], [0.8888888888888888, \"#fdca26\"], [1.0, \"#f0f921\"]], \"type\": \"surface\"}], \"table\": [{\"cells\": {\"fill\": {\"color\": \"#EBF0F8\"}, \"line\": {\"color\": \"white\"}}, \"header\": {\"fill\": {\"color\": \"#C8D4E3\"}, \"line\": {\"color\": \"white\"}}, \"type\": \"table\"}]}, \"layout\": {\"annotationdefaults\": {\"arrowcolor\": \"#2a3f5f\", \"arrowhead\": 0, \"arrowwidth\": 1}, \"coloraxis\": {\"colorbar\": {\"outlinewidth\": 0, \"ticks\": \"\"}}, \"colorscale\": {\"diverging\": [[0, \"#8e0152\"], [0.1, \"#c51b7d\"], [0.2, \"#de77ae\"], [0.3, \"#f1b6da\"], [0.4, \"#fde0ef\"], [0.5, \"#f7f7f7\"], [0.6, \"#e6f5d0\"], [0.7, \"#b8e186\"], [0.8, \"#7fbc41\"], [0.9, \"#4d9221\"], [1, \"#276419\"]], \"sequential\": [[0.0, \"#0d0887\"], [0.1111111111111111, \"#46039f\"], [0.2222222222222222, \"#7201a8\"], [0.3333333333333333, \"#9c179e\"], [0.4444444444444444, \"#bd3786\"], [0.5555555555555556, \"#d8576b\"], [0.6666666666666666, \"#ed7953\"], [0.7777777777777778, \"#fb9f3a\"], [0.8888888888888888, \"#fdca26\"], [1.0, \"#f0f921\"]], \"sequentialminus\": [[0.0, \"#0d0887\"], [0.1111111111111111, \"#46039f\"], [0.2222222222222222, \"#7201a8\"], [0.3333333333333333, \"#9c179e\"], [0.4444444444444444, \"#bd3786\"], [0.5555555555555556, \"#d8576b\"], [0.6666666666666666, \"#ed7953\"], [0.7777777777777778, \"#fb9f3a\"], [0.8888888888888888, \"#fdca26\"], [1.0, \"#f0f921\"]]}, \"colorway\": [\"#636efa\", \"#EF553B\", \"#00cc96\", \"#ab63fa\", \"#FFA15A\", \"#19d3f3\", \"#FF6692\", \"#B6E880\", \"#FF97FF\", \"#FECB52\"], \"font\": {\"color\": \"#2a3f5f\"}, \"geo\": {\"bgcolor\": \"white\", \"lakecolor\": \"white\", \"landcolor\": \"#E5ECF6\", \"showlakes\": true, \"showland\": true, \"subunitcolor\": \"white\"}, \"hoverlabel\": {\"align\": \"left\"}, \"hovermode\": \"closest\", \"mapbox\": {\"style\": \"light\"}, \"paper_bgcolor\": \"white\", \"plot_bgcolor\": \"#E5ECF6\", \"polar\": {\"angularaxis\": {\"gridcolor\": \"white\", \"linecolor\": \"white\", \"ticks\": \"\"}, \"bgcolor\": \"#E5ECF6\", \"radialaxis\": {\"gridcolor\": \"white\", \"linecolor\": \"white\", \"ticks\": \"\"}}, \"scene\": {\"xaxis\": {\"backgroundcolor\": \"#E5ECF6\", \"gridcolor\": \"white\", \"gridwidth\": 2, \"linecolor\": \"white\", \"showbackground\": true, \"ticks\": \"\", \"zerolinecolor\": \"white\"}, \"yaxis\": {\"backgroundcolor\": \"#E5ECF6\", \"gridcolor\": \"white\", \"gridwidth\": 2, \"linecolor\": \"white\", \"showbackground\": true, \"ticks\": \"\", \"zerolinecolor\": \"white\"}, \"zaxis\": {\"backgroundcolor\": \"#E5ECF6\", \"gridcolor\": \"white\", \"gridwidth\": 2, \"linecolor\": \"white\", \"showbackground\": true, \"ticks\": \"\", \"zerolinecolor\": \"white\"}}, \"shapedefaults\": {\"line\": {\"color\": \"#2a3f5f\"}}, \"ternary\": {\"aaxis\": {\"gridcolor\": \"white\", \"linecolor\": \"white\", \"ticks\": \"\"}, \"baxis\": {\"gridcolor\": \"white\", \"linecolor\": \"white\", \"ticks\": \"\"}, \"bgcolor\": \"#E5ECF6\", \"caxis\": {\"gridcolor\": \"white\", \"linecolor\": \"white\", \"ticks\": \"\"}}, \"title\": {\"x\": 0.05}, \"xaxis\": {\"automargin\": true, \"gridcolor\": \"white\", \"linecolor\": \"white\", \"ticks\": \"\", \"title\": {\"standoff\": 15}, \"zerolinecolor\": \"white\", \"zerolinewidth\": 2}, \"yaxis\": {\"automargin\": true, \"gridcolor\": \"white\", \"linecolor\": \"white\", \"ticks\": \"\", \"title\": {\"standoff\": 15}, \"zerolinecolor\": \"white\", \"zerolinewidth\": 2}}}, \"xaxis\": {\"anchor\": \"y2\", \"domain\": [0.0, 1.0], \"zeroline\": false}, \"yaxis\": {\"anchor\": \"free\", \"domain\": [0.35, 1], \"position\": 0.0}, \"yaxis2\": {\"anchor\": \"x\", \"domain\": [0, 0.25], \"dtick\": 1, \"showticklabels\": false}},\n",
              "                        {\"responsive\": true}\n",
              "                    ).then(function(){\n",
              "                            \n",
              "var gd = document.getElementById('abc31ccb-7002-46fd-9765-d2f3428a23c2');\n",
              "var x = new MutationObserver(function (mutations, observer) {{\n",
              "        var display = window.getComputedStyle(gd).display;\n",
              "        if (!display || display === 'none') {{\n",
              "            console.log([gd, 'removed!']);\n",
              "            Plotly.purge(gd);\n",
              "            observer.disconnect();\n",
              "        }}\n",
              "}});\n",
              "\n",
              "// Listen for the removal of the full notebook cells\n",
              "var notebookContainer = gd.closest('#notebook-container');\n",
              "if (notebookContainer) {{\n",
              "    x.observe(notebookContainer, {childList: true});\n",
              "}}\n",
              "\n",
              "// Listen for the clearing of the current output cell\n",
              "var outputEl = gd.closest('.output');\n",
              "if (outputEl) {{\n",
              "    x.observe(outputEl, {childList: true});\n",
              "}}\n",
              "\n",
              "                        })\n",
              "                };\n",
              "                \n",
              "            </script>\n",
              "        </div>\n",
              "</body>\n",
              "</html>"
            ]
          },
          "metadata": {
            "tags": []
          }
        }
      ]
    },
    {
      "cell_type": "markdown",
      "metadata": {
        "id": "hcQKXiGBGM83"
      },
      "source": [
        "### As you may notice during the downloading process, we have for the same date 3 different extentions for the same image (QF.tif, UL.tif, TL.tif), but the problem it's not the case for all the images. Soo we. have to pick the the extentions that appear for almost all the images, because with don't want to train our model with different inputs.\n",
        "### P.S: it might not be the case for you, you can only 1 extention or maybe 2, but just make attention to it."
      ]
    },
    {
      "cell_type": "code",
      "metadata": {
        "id": "H5yo3KSQ0jLx"
      },
      "source": [
        "\n",
        "directory = '/content/drive/MyDrive/Senti_Images-2017to2020_newArea'\n",
        "a, b, c = 0, 0, 0\n",
        "for filename in os.listdir(directory):\n",
        "    if filename.endswith(\"TL.tif\"):\n",
        "      a+=1\n",
        "    if filename.endswith(\"UL.tif\"):\n",
        "      b+=1\n",
        "    if filename.endswith(\"QF.tif\"):\n",
        "      c+=1"
      ],
      "execution_count": null,
      "outputs": []
    },
    {
      "cell_type": "code",
      "metadata": {
        "colab": {
          "base_uri": "https://localhost:8080/"
        },
        "id": "NQiljxak09SK",
        "outputId": "aaf0674b-9c48-41fc-d3e3-4c7d9c2e22cf"
      },
      "source": [
        "a,b,c"
      ],
      "execution_count": null,
      "outputs": [
        {
          "output_type": "execute_result",
          "data": {
            "text/plain": [
              "(159, 169, 156)"
            ]
          },
          "metadata": {
            "tags": []
          },
          "execution_count": 51
        }
      ]
    },
    {
      "cell_type": "code",
      "metadata": {
        "id": "9Lc3LQaI1JZ2"
      },
      "source": [
        "## Get a list of the dates from image name :\n",
        "\n",
        "data_list =[]\n",
        "Vals = []\n",
        "\n",
        "for filename in os.listdir(directory):\n",
        "    if filename.endswith(\".tif\"):\n",
        "\n",
        "      im_date = filename[0:4]+\"-\"+filename[4:6]+\"-\"+filename[6:8]\n",
        "      data_list.append(im_date)"
      ],
      "execution_count": null,
      "outputs": []
    },
    {
      "cell_type": "code",
      "metadata": {
        "id": "pJWLbOlu1S54"
      },
      "source": [
        "## Check unique dates:\n",
        "\n",
        "myset = set(data_list)"
      ],
      "execution_count": null,
      "outputs": []
    },
    {
      "cell_type": "code",
      "metadata": {
        "colab": {
          "base_uri": "https://localhost:8080/"
        },
        "id": "b8Xxf5q62qsL",
        "outputId": "b08331ff-ad96-4cb6-f0ea-72e23e99885d"
      },
      "source": [
        "len(data_list)"
      ],
      "execution_count": null,
      "outputs": [
        {
          "output_type": "execute_result",
          "data": {
            "text/plain": [
              "484"
            ]
          },
          "metadata": {
            "tags": []
          },
          "execution_count": 62
        }
      ]
    },
    {
      "cell_type": "code",
      "metadata": {
        "colab": {
          "base_uri": "https://localhost:8080/"
        },
        "id": "WITcN49_2pC8",
        "outputId": "028f57fa-5f94-4a8d-8a0a-d0c68fa52333"
      },
      "source": [
        "len(myset)"
      ],
      "execution_count": null,
      "outputs": [
        {
          "output_type": "execute_result",
          "data": {
            "text/plain": [
              "180"
            ]
          },
          "metadata": {
            "tags": []
          },
          "execution_count": 63
        }
      ]
    },
    {
      "cell_type": "code",
      "metadata": {
        "id": "tfEHOLVYSnvs",
        "colab": {
          "base_uri": "https://localhost:8080/",
          "height": 221
        },
        "outputId": "02d801cd-5848-47ff-a187-1f5c983e6f90"
      },
      "source": [
        "## Selection of the only useful days and add images names :\n",
        "\n",
        "directory = '/content/drive/MyDrive/Senti_Images-2017to2020_newArea'\n",
        "data_list =[]\n",
        "Vals = []\n",
        "\n",
        "for filename in os.listdir(directory):\n",
        "    if filename.endswith(\"UL.tif\"):\n",
        "\n",
        "      im_date = filename[0:4]+\"-\"+filename[4:6]+\"-\"+filename[6:8]\n",
        "\n",
        "      if im_date in Rdataset[\"date_time\"].values : \n",
        "          index_date= np.where(Rdataset[\"date_time\"]==im_date )\n",
        "          rdata = Rdataset.iloc[index_date]\n",
        "          data_list.append(rdata)\n",
        "          dataset = pd.concat(data_list)\n",
        "          Vals.append(filename)\n",
        "\n",
        "\n",
        "dataset['Image_name']= Vals\n",
        "dataset.head()\n",
        "      "
      ],
      "execution_count": null,
      "outputs": [
        {
          "output_type": "execute_result",
          "data": {
            "text/html": [
              "<div>\n",
              "<style scoped>\n",
              "    .dataframe tbody tr th:only-of-type {\n",
              "        vertical-align: middle;\n",
              "    }\n",
              "\n",
              "    .dataframe tbody tr th {\n",
              "        vertical-align: top;\n",
              "    }\n",
              "\n",
              "    .dataframe thead th {\n",
              "        text-align: right;\n",
              "    }\n",
              "</style>\n",
              "<table border=\"1\" class=\"dataframe\">\n",
              "  <thead>\n",
              "    <tr style=\"text-align: right;\">\n",
              "      <th></th>\n",
              "      <th>date_time</th>\n",
              "      <th>soil_moisture_depth_0.05</th>\n",
              "      <th>Image_name</th>\n",
              "    </tr>\n",
              "  </thead>\n",
              "  <tbody>\n",
              "    <tr>\n",
              "      <th>42</th>\n",
              "      <td>2017-04-12</td>\n",
              "      <td>0.168</td>\n",
              "      <td>20170412T110621_20170412T111708_T30TUL.tif</td>\n",
              "    </tr>\n",
              "    <tr>\n",
              "      <th>62</th>\n",
              "      <td>2017-05-02</td>\n",
              "      <td>0.124</td>\n",
              "      <td>20170502T110621_20170502T110937_T30TUL.tif</td>\n",
              "    </tr>\n",
              "    <tr>\n",
              "      <th>82</th>\n",
              "      <td>2017-05-22</td>\n",
              "      <td>0.225</td>\n",
              "      <td>20170522T110621_20170522T110912_T30TUL.tif</td>\n",
              "    </tr>\n",
              "    <tr>\n",
              "      <th>92</th>\n",
              "      <td>2017-06-01</td>\n",
              "      <td>0.167</td>\n",
              "      <td>20170601T110651_20170601T111225_T30TUL.tif</td>\n",
              "    </tr>\n",
              "    <tr>\n",
              "      <th>102</th>\n",
              "      <td>2017-06-11</td>\n",
              "      <td>0.141</td>\n",
              "      <td>20170611T110621_20170611T111012_T30TUL.tif</td>\n",
              "    </tr>\n",
              "  </tbody>\n",
              "</table>\n",
              "</div>"
            ],
            "text/plain": [
              "      date_time  ...                                  Image_name\n",
              "42   2017-04-12  ...  20170412T110621_20170412T111708_T30TUL.tif\n",
              "62   2017-05-02  ...  20170502T110621_20170502T110937_T30TUL.tif\n",
              "82   2017-05-22  ...  20170522T110621_20170522T110912_T30TUL.tif\n",
              "92   2017-06-01  ...  20170601T110651_20170601T111225_T30TUL.tif\n",
              "102  2017-06-11  ...  20170611T110621_20170611T111012_T30TUL.tif\n",
              "\n",
              "[5 rows x 3 columns]"
            ]
          },
          "metadata": {
            "tags": []
          },
          "execution_count": 64
        }
      ]
    },
    {
      "cell_type": "code",
      "metadata": {
        "id": "32c-j-yAS09w"
      },
      "source": [
        "## Save dataset :\n",
        "\n",
        "dataset.to_csv ('Dataset_2017to2020_newArea.csv', header=True, index=False)"
      ],
      "execution_count": null,
      "outputs": []
    }
  ]
}