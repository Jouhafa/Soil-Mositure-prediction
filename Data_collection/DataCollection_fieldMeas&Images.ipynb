{
  "nbformat": 4,
  "nbformat_minor": 0,
  "metadata": {
    "colab": {
      "name": "DataCollection-fieldMeas&Images.ipynb",
      "provenance": [],
      "collapsed_sections": []
    },
    "kernelspec": {
      "display_name": "Python 3",
      "name": "python3"
    },
    "language_info": {
      "name": "python"
    }
  },
  "cells": [
    {
      "cell_type": "code",
      "metadata": {
        "id": "pWRvzndpGuUo"
      },
      "source": [
        "## Global Requirements :\n",
        "\n",
        "import matplotlib.pyplot as plt\n",
        "import numpy as np\n",
        "import pandas as pd\n",
        "from osgeo import gdal\n",
        "import sys\n",
        "import os"
      ],
      "execution_count": null,
      "outputs": []
    },
    {
      "cell_type": "code",
      "metadata": {
        "id": "dFmymvwuQMsf",
        "colab": {
          "base_uri": "https://localhost:8080/"
        },
        "outputId": "63b103c1-3b9d-43ec-f21e-7df486522ad2"
      },
      "source": [
        "from google.colab import drive\n",
        "drive.mount('/content/drive')"
      ],
      "execution_count": null,
      "outputs": [
        {
          "output_type": "stream",
          "text": [
            "Mounted at /content/drive\n"
          ],
          "name": "stdout"
        }
      ]
    },
    {
      "cell_type": "markdown",
      "metadata": {
        "id": "yNrSTt3u26ii"
      },
      "source": [
        "# Data collection :"
      ]
    },
    {
      "cell_type": "markdown",
      "metadata": {
        "id": "GaXL1TwpWlyK"
      },
      "source": [
        "## 1- Field Measurements :"
      ]
    },
    {
      "cell_type": "code",
      "metadata": {
        "id": "JBIZ9gDzPYnr",
        "colab": {
          "base_uri": "https://localhost:8080/"
        },
        "outputId": "0cb738c0-4fc0-4501-e33c-1b0341562cfa"
      },
      "source": [
        "## Install Requirements : \n",
        "\n",
        "!pip install cartopy"
      ],
      "execution_count": null,
      "outputs": [
        {
          "output_type": "stream",
          "text": [
            "Collecting cartopy\n",
            "  Downloading Cartopy-0.19.0.post1.tar.gz (12.1 MB)\n",
            "\u001b[K     |████████████████████████████████| 12.1 MB 151 kB/s \n",
            "\u001b[?25h  Installing build dependencies ... \u001b[?25l\u001b[?25hdone\n",
            "  Getting requirements to build wheel ... \u001b[?25l\u001b[?25hdone\n",
            "    Preparing wheel metadata ... \u001b[?25l\u001b[?25hdone\n",
            "Requirement already satisfied: shapely>=1.5.6 in /usr/local/lib/python3.7/dist-packages (from cartopy) (1.7.1)\n",
            "Requirement already satisfied: pyshp>=2 in /usr/local/lib/python3.7/dist-packages (from cartopy) (2.1.3)\n",
            "Requirement already satisfied: numpy>=1.13.3 in /usr/local/lib/python3.7/dist-packages (from cartopy) (1.19.5)\n",
            "Building wheels for collected packages: cartopy\n",
            "  Building wheel for cartopy (PEP 517) ... \u001b[?25l\u001b[?25hdone\n",
            "  Created wheel for cartopy: filename=Cartopy-0.19.0.post1-cp37-cp37m-linux_x86_64.whl size=12516271 sha256=8ba6fb160e9220f2d350ead86b8dea8a913af08397638c3455b35dd129830455\n",
            "  Stored in directory: /root/.cache/pip/wheels/98/01/f7/bd10aeb96fe4b518cde5f7c4f5e12c7202f85b7353a5017847\n",
            "Successfully built cartopy\n",
            "Installing collected packages: cartopy\n",
            "Successfully installed cartopy-0.19.0.post1\n"
          ],
          "name": "stdout"
        }
      ]
    },
    {
      "cell_type": "code",
      "metadata": {
        "id": "ZwMtUhSkP98C",
        "colab": {
          "base_uri": "https://localhost:8080/"
        },
        "outputId": "da59d79f-4cb4-4cf5-d0e9-eac24a8710d6"
      },
      "source": [
        "## Install Requirements : \n",
        "!pip install ismn  "
      ],
      "execution_count": null,
      "outputs": [
        {
          "output_type": "stream",
          "text": [
            "Collecting ismn\n",
            "  Downloading ismn-1.1.0-py2.py3-none-any.whl (55 kB)\n",
            "\u001b[K     |████████████████████████████████| 55 kB 2.2 MB/s \n",
            "\u001b[?25hRequirement already satisfied: numpy in /usr/local/lib/python3.7/dist-packages (from ismn) (1.19.5)\n",
            "Requirement already satisfied: more-itertools in /usr/local/lib/python3.7/dist-packages (from ismn) (8.8.0)\n",
            "Requirement already satisfied: tqdm in /usr/local/lib/python3.7/dist-packages (from ismn) (4.41.1)\n",
            "Collecting pygeogrids>=0.3.2\n",
            "  Downloading pygeogrids-0.4.1-py2.py3-none-any.whl (30 kB)\n",
            "Requirement already satisfied: pandas in /usr/local/lib/python3.7/dist-packages (from ismn) (1.1.5)\n",
            "Requirement already satisfied: importlib-metadata in /usr/local/lib/python3.7/dist-packages (from ismn) (4.6.1)\n",
            "Collecting configparser\n",
            "  Downloading configparser-5.0.2-py3-none-any.whl (19 kB)\n",
            "Collecting pykdtree\n",
            "  Downloading pykdtree-1.3.4-cp37-cp37m-manylinux1_x86_64.whl (212 kB)\n",
            "\u001b[K     |████████████████████████████████| 212 kB 10.4 MB/s \n",
            "\u001b[?25hRequirement already satisfied: netCDF4 in /usr/local/lib/python3.7/dist-packages (from pygeogrids>=0.3.2->ismn) (1.5.7)\n",
            "Collecting pyproj\n",
            "  Downloading pyproj-3.1.0-cp37-cp37m-manylinux2010_x86_64.whl (6.6 MB)\n",
            "\u001b[K     |████████████████████████████████| 6.6 MB 58.3 MB/s \n",
            "\u001b[?25hRequirement already satisfied: typing-extensions>=3.6.4 in /usr/local/lib/python3.7/dist-packages (from importlib-metadata->ismn) (3.7.4.3)\n",
            "Requirement already satisfied: zipp>=0.5 in /usr/local/lib/python3.7/dist-packages (from importlib-metadata->ismn) (3.5.0)\n",
            "Requirement already satisfied: cftime in /usr/local/lib/python3.7/dist-packages (from netCDF4->pygeogrids>=0.3.2->ismn) (1.5.0)\n",
            "Requirement already satisfied: python-dateutil>=2.7.3 in /usr/local/lib/python3.7/dist-packages (from pandas->ismn) (2.8.1)\n",
            "Requirement already satisfied: pytz>=2017.2 in /usr/local/lib/python3.7/dist-packages (from pandas->ismn) (2018.9)\n",
            "Requirement already satisfied: six>=1.5 in /usr/local/lib/python3.7/dist-packages (from python-dateutil>=2.7.3->pandas->ismn) (1.15.0)\n",
            "Requirement already satisfied: certifi in /usr/local/lib/python3.7/dist-packages (from pyproj->pygeogrids>=0.3.2->ismn) (2021.5.30)\n",
            "Installing collected packages: pyproj, pykdtree, pygeogrids, configparser, ismn\n",
            "Successfully installed configparser-5.0.2 ismn-1.1.0 pygeogrids-0.4.1 pykdtree-1.3.4 pyproj-3.1.0\n"
          ],
          "name": "stdout"
        }
      ]
    },
    {
      "cell_type": "code",
      "metadata": {
        "id": "wdVstE6yCCCh"
      },
      "source": [
        "from ismn.interface import ISMN_Interface"
      ],
      "execution_count": null,
      "outputs": []
    },
    {
      "cell_type": "code",
      "metadata": {
        "id": "isvBFqrhQVoJ",
        "colab": {
          "base_uri": "https://localhost:8080/"
        },
        "outputId": "ac3014ca-ff5b-4b46-c90c-6d79ba420af3"
      },
      "source": [
        "## Process tha data file with the ISMN interface : \n",
        "\n",
        "data_path = \"/content/drive/MyDrive/Datasets/Data_separate_files_header_20170301_20201231_8964_imyy_20210812\"\n",
        "ismn_data = ISMN_Interface(data_path, parallel=True)"
      ],
      "execution_count": null,
      "outputs": [
        {
          "output_type": "stream",
          "text": [
            "\rFiles Processed:   0%|          | 0/1 [00:00<?, ?it/s]"
          ],
          "name": "stderr"
        },
        {
          "output_type": "stream",
          "text": [
            "Processing metadata for all ismn stations into folder /content/drive/MyDrive/Datasets/Data_separate_files_header_20170301_20201231_8964_imyy_20210812.\n",
            "This may take a few minutes, but is only done once...\n",
            "\n"
          ],
          "name": "stdout"
        },
        {
          "output_type": "stream",
          "text": [
            "Files Processed: 100%|██████████| 1/1 [00:01<00:00,  1.63s/it]"
          ],
          "name": "stderr"
        },
        {
          "output_type": "stream",
          "text": [
            "Metadata generation finished after 1 Seconds.\n",
            "Metadata and Log stored in /content/drive/MyDrive/Datasets/Data_separate_files_header_20170301_20201231_8964_imyy_20210812/python_metadata\n",
            "Found existing ismn metadata in /content/drive/MyDrive/Datasets/Data_separate_files_header_20170301_20201231_8964_imyy_20210812/python_metadata/Data_separate_files_header_20170301_20201231_8964_imyy_20210812.csv.\n"
          ],
          "name": "stdout"
        },
        {
          "output_type": "stream",
          "text": [
            "\n"
          ],
          "name": "stderr"
        }
      ]
    },
    {
      "cell_type": "code",
      "metadata": {
        "colab": {
          "base_uri": "https://localhost:8080/"
        },
        "id": "ysh-T9UEQ6-E",
        "outputId": "e3698705-a9dc-4030-9e60-2148e590c89c"
      },
      "source": [
        "ismn_data.collection"
      ],
      "execution_count": null,
      "outputs": [
        {
          "output_type": "execute_result",
          "data": {
            "text/plain": [
              "REMEDHUS: ['Casa_Periles']"
            ]
          },
          "metadata": {
            "tags": []
          },
          "execution_count": 26
        }
      ]
    },
    {
      "cell_type": "code",
      "metadata": {
        "id": "Rpd39s3pRmDa",
        "colab": {
          "base_uri": "https://localhost:8080/"
        },
        "outputId": "85ce4999-637a-424f-c78a-fc018af2aea2"
      },
      "source": [
        " ismn_data.collection['REMEDHUS']['Casa_Periles'].metadata"
      ],
      "execution_count": null,
      "outputs": [
        {
          "output_type": "execute_result",
          "data": {
            "text/plain": [
              "MetaData([\n",
              "  MetaVar([clay_fraction, 21.0, Depth([0.0, 0.3])]),\n",
              "  MetaVar([climate_KG, BSk, None]),\n",
              "  MetaVar([climate_insitu, unknown, None]),\n",
              "  MetaVar([elevation, -99.9, None]),\n",
              "  MetaVar([instrument, Stevens-Hydra-Probe, Depth([0.0, 0.05])]),\n",
              "  MetaVar([latitude, 41.39392, None]),\n",
              "  MetaVar([lc_2000, 10, None]),\n",
              "  MetaVar([lc_2005, 10, None]),\n",
              "  MetaVar([lc_2010, 10, None]),\n",
              "  MetaVar([lc_insitu, unknown, None]),\n",
              "  MetaVar([longitude, -5.32146, None]),\n",
              "  MetaVar([network, REMEDHUS, None]),\n",
              "  MetaVar([organic_carbon, 0.65, Depth([0.0, 0.3])]),\n",
              "  MetaVar([sand_fraction, 36.0, Depth([0.0, 0.3])]),\n",
              "  MetaVar([saturation, 0.43, Depth([0.0, 0.3])]),\n",
              "  MetaVar([silt_fraction, 43.0, Depth([0.0, 0.3])]),\n",
              "  MetaVar([station, Casa_Periles, None]),\n",
              "  MetaVar([timerange_from, 2017-03-01 00:00:00, None]),\n",
              "  MetaVar([timerange_to, 2020-12-31 23:00:00, None]),\n",
              "  MetaVar([variable, soil_moisture, Depth([0.0, 0.05])]),\n",
              "  MetaVar([variable, soil_temperature, Depth([0.0, 0.05])])\n",
              "])"
            ]
          },
          "metadata": {
            "tags": []
          },
          "execution_count": 27
        }
      ]
    },
    {
      "cell_type": "code",
      "metadata": {
        "colab": {
          "base_uri": "https://localhost:8080/"
        },
        "id": "GlSgh2QPp4d5",
        "outputId": "362c58fc-6203-4eda-c191-b42df734b77b"
      },
      "source": [
        " ismn_data.collection['REMEDHUS']['Casa_Periles']"
      ],
      "execution_count": null,
      "outputs": [
        {
          "output_type": "execute_result",
          "data": {
            "text/plain": [
              "Sensors at 'Casa_Periles': ['Stevens-Hydra-Probe_soil_moisture_0.000000_0.050000', 'Stevens-Hydra-Probe_soil_temperature_0.000000_0.050000']"
            ]
          },
          "metadata": {
            "tags": []
          },
          "execution_count": 28
        }
      ]
    },
    {
      "cell_type": "code",
      "metadata": {
        "id": "LZTM7XNXAU2l"
      },
      "source": [
        "L=['Stevens-Hydra-Probe_soil_moisture_0.000000_0.050000']"
      ],
      "execution_count": null,
      "outputs": []
    },
    {
      "cell_type": "code",
      "metadata": {
        "id": "4jgemYrf9dge"
      },
      "source": [
        "## Utilities :\n",
        "\n",
        "def get_sensor_by(network, station):\n",
        "  df = []\n",
        "  \n",
        "  for index,value in enumerate(ismn_data.collection[network][station]) :\n",
        "    #print(\"soil_moisture\" in str(value),index)\n",
        "    #print(\"--------------\")\n",
        "    sensor = ismn_data.collection[str(network)][str(station)][str(value)]\n",
        "    \n",
        "    if str(value) in L :\n",
        "\n",
        "      ts = sensor.read_data()\n",
        "      ts.drop('soil_moisture_orig_flag', inplace=True, axis=1)  \n",
        "      ts.drop('soil_moisture_flag', inplace=True, axis=1)  \n",
        "      ts[\"depth\"] = float(str(value).split(\"_\")[-1])\n",
        "      ts.rename(columns={'soil_moisture': 'soil_moisture_depth_'+str(value).split(\"_\")[-1]},inplace=True)\n",
        "      df.append(ts)\n",
        "      allS = pd.concat(df)\n",
        "\n",
        "  \n",
        "  return allS\n",
        "\n",
        "def get_station_by(network):\n",
        "  df1 = []\n",
        "  for index,key in enumerate(ismn_data.collection[network]) :\n",
        "    #print(get_name(key))\n",
        "    data = get_sensor_by(network, get_name(key))\n",
        "    data[\"station\"] = get_name(key)\n",
        "    df1.append(data)\n",
        "\n",
        "  allN = pd.concat(df1)\n",
        "  allN.head()\n",
        "  return allN \n",
        "\n"
      ],
      "execution_count": null,
      "outputs": []
    },
    {
      "cell_type": "code",
      "metadata": {
        "id": "-faleKkR5ZnK"
      },
      "source": [
        "## Get The dataset of the network-station desired : \n",
        "\n",
        "dataset = get_sensor_by('REMEDHUS','Casa_Periles')"
      ],
      "execution_count": null,
      "outputs": []
    },
    {
      "cell_type": "code",
      "metadata": {
        "id": "63pc8Sjd5nMl"
      },
      "source": [
        "pd.set_option(\"display.max_rows\", False)"
      ],
      "execution_count": null,
      "outputs": []
    },
    {
      "cell_type": "code",
      "metadata": {
        "id": "HQ2C0gOOH9tW",
        "colab": {
          "base_uri": "https://localhost:8080/",
          "height": 260
        },
        "outputId": "d2f7f44a-94de-49da-dcea-9b229a84587e"
      },
      "source": [
        "dataset.head()"
      ],
      "execution_count": null,
      "outputs": [
        {
          "output_type": "execute_result",
          "data": {
            "text/html": [
              "<div>\n",
              "<style scoped>\n",
              "    .dataframe tbody tr th:only-of-type {\n",
              "        vertical-align: middle;\n",
              "    }\n",
              "\n",
              "    .dataframe tbody tr th {\n",
              "        vertical-align: top;\n",
              "    }\n",
              "\n",
              "    .dataframe thead th {\n",
              "        text-align: right;\n",
              "    }\n",
              "</style>\n",
              "<table border=\"1\" class=\"dataframe\">\n",
              "  <thead>\n",
              "    <tr style=\"text-align: right;\">\n",
              "      <th></th>\n",
              "      <th>soil_moisture_depth_0.050000</th>\n",
              "      <th>depth</th>\n",
              "    </tr>\n",
              "    <tr>\n",
              "      <th>date_time</th>\n",
              "      <th></th>\n",
              "      <th></th>\n",
              "    </tr>\n",
              "  </thead>\n",
              "  <tbody>\n",
              "    <tr>\n",
              "      <th>2017-03-01 00:00:00</th>\n",
              "      <td>0.156</td>\n",
              "      <td>0.05</td>\n",
              "    </tr>\n",
              "    <tr>\n",
              "      <th>2017-03-01 01:00:00</th>\n",
              "      <td>0.156</td>\n",
              "      <td>0.05</td>\n",
              "    </tr>\n",
              "    <tr>\n",
              "      <th>2017-03-01 02:00:00</th>\n",
              "      <td>0.156</td>\n",
              "      <td>0.05</td>\n",
              "    </tr>\n",
              "    <tr>\n",
              "      <th>2017-03-01 03:00:00</th>\n",
              "      <td>0.155</td>\n",
              "      <td>0.05</td>\n",
              "    </tr>\n",
              "    <tr>\n",
              "      <th>2017-03-01 04:00:00</th>\n",
              "      <td>0.155</td>\n",
              "      <td>0.05</td>\n",
              "    </tr>\n",
              "  </tbody>\n",
              "</table>\n",
              "</div>"
            ],
            "text/plain": [
              "                     soil_moisture_depth_0.050000  depth\n",
              "date_time                                               \n",
              "2017-03-01 00:00:00                         0.156   0.05\n",
              "2017-03-01 01:00:00                         0.156   0.05\n",
              "2017-03-01 02:00:00                         0.156   0.05\n",
              "2017-03-01 03:00:00                         0.155   0.05\n",
              "2017-03-01 04:00:00                         0.155   0.05"
            ]
          },
          "metadata": {
            "tags": []
          },
          "execution_count": 32
        }
      ]
    },
    {
      "cell_type": "code",
      "metadata": {
        "colab": {
          "base_uri": "https://localhost:8080/",
          "height": 323
        },
        "id": "VgqGV7sbWnvo",
        "outputId": "9bdd056f-aa7a-487a-fb23-f5bc2c895457"
      },
      "source": [
        "dataset.describe()"
      ],
      "execution_count": null,
      "outputs": [
        {
          "output_type": "execute_result",
          "data": {
            "text/html": [
              "<div>\n",
              "<style scoped>\n",
              "    .dataframe tbody tr th:only-of-type {\n",
              "        vertical-align: middle;\n",
              "    }\n",
              "\n",
              "    .dataframe tbody tr th {\n",
              "        vertical-align: top;\n",
              "    }\n",
              "\n",
              "    .dataframe thead th {\n",
              "        text-align: right;\n",
              "    }\n",
              "</style>\n",
              "<table border=\"1\" class=\"dataframe\">\n",
              "  <thead>\n",
              "    <tr style=\"text-align: right;\">\n",
              "      <th></th>\n",
              "      <th>soil_moisture_depth_0.050000</th>\n",
              "      <th>depth</th>\n",
              "    </tr>\n",
              "  </thead>\n",
              "  <tbody>\n",
              "    <tr>\n",
              "      <th>count</th>\n",
              "      <td>32922.000000</td>\n",
              "      <td>3.292200e+04</td>\n",
              "    </tr>\n",
              "    <tr>\n",
              "      <th>mean</th>\n",
              "      <td>0.156274</td>\n",
              "      <td>5.000000e-02</td>\n",
              "    </tr>\n",
              "    <tr>\n",
              "      <th>std</th>\n",
              "      <td>0.057528</td>\n",
              "      <td>2.883848e-14</td>\n",
              "    </tr>\n",
              "    <tr>\n",
              "      <th>min</th>\n",
              "      <td>0.053000</td>\n",
              "      <td>5.000000e-02</td>\n",
              "    </tr>\n",
              "    <tr>\n",
              "      <th>25%</th>\n",
              "      <td>0.109000</td>\n",
              "      <td>5.000000e-02</td>\n",
              "    </tr>\n",
              "    <tr>\n",
              "      <th>50%</th>\n",
              "      <td>0.153000</td>\n",
              "      <td>5.000000e-02</td>\n",
              "    </tr>\n",
              "    <tr>\n",
              "      <th>75%</th>\n",
              "      <td>0.202000</td>\n",
              "      <td>5.000000e-02</td>\n",
              "    </tr>\n",
              "    <tr>\n",
              "      <th>max</th>\n",
              "      <td>0.371000</td>\n",
              "      <td>5.000000e-02</td>\n",
              "    </tr>\n",
              "  </tbody>\n",
              "</table>\n",
              "</div>"
            ],
            "text/plain": [
              "       soil_moisture_depth_0.050000         depth\n",
              "count                  32922.000000  3.292200e+04\n",
              "mean                       0.156274  5.000000e-02\n",
              "std                        0.057528  2.883848e-14\n",
              "min                        0.053000  5.000000e-02\n",
              "25%                        0.109000  5.000000e-02\n",
              "50%                        0.153000  5.000000e-02\n",
              "75%                        0.202000  5.000000e-02\n",
              "max                        0.371000  5.000000e-02"
            ]
          },
          "metadata": {
            "tags": []
          },
          "execution_count": 22
        }
      ]
    },
    {
      "cell_type": "code",
      "metadata": {
        "id": "ipFtIL12DU2d"
      },
      "source": [
        "## Save the dataset as csv file :\n",
        "\n",
        "dataset.to_csv ('SMC_dataset_2017to2020_Area3.csv', header=True)"
      ],
      "execution_count": null,
      "outputs": []
    },
    {
      "cell_type": "code",
      "metadata": {
        "colab": {
          "base_uri": "https://localhost:8080/",
          "height": 228
        },
        "id": "b850UYkiQULE",
        "outputId": "e2ad0a0d-e9ba-4eab-955f-72164905147d"
      },
      "source": [
        "## Check if the file is correctly saved :\n",
        "\n",
        "df = pd.read_csv('SMC_dataset_2017to2020_Area3.csv')\n",
        "df.tail()"
      ],
      "execution_count": null,
      "outputs": [
        {
          "output_type": "execute_result",
          "data": {
            "text/html": [
              "<div>\n",
              "<style scoped>\n",
              "    .dataframe tbody tr th:only-of-type {\n",
              "        vertical-align: middle;\n",
              "    }\n",
              "\n",
              "    .dataframe tbody tr th {\n",
              "        vertical-align: top;\n",
              "    }\n",
              "\n",
              "    .dataframe thead th {\n",
              "        text-align: right;\n",
              "    }\n",
              "</style>\n",
              "<table border=\"1\" class=\"dataframe\">\n",
              "  <thead>\n",
              "    <tr style=\"text-align: right;\">\n",
              "      <th></th>\n",
              "      <th>date_time</th>\n",
              "      <th>soil_moisture_depth_0.050000</th>\n",
              "      <th>depth</th>\n",
              "    </tr>\n",
              "  </thead>\n",
              "  <tbody>\n",
              "    <tr>\n",
              "      <th>33193</th>\n",
              "      <td>2020-12-31 19:00:00</td>\n",
              "      <td>0.181</td>\n",
              "      <td>0.05</td>\n",
              "    </tr>\n",
              "    <tr>\n",
              "      <th>33194</th>\n",
              "      <td>2020-12-31 20:00:00</td>\n",
              "      <td>0.183</td>\n",
              "      <td>0.05</td>\n",
              "    </tr>\n",
              "    <tr>\n",
              "      <th>33195</th>\n",
              "      <td>2020-12-31 21:00:00</td>\n",
              "      <td>0.185</td>\n",
              "      <td>0.05</td>\n",
              "    </tr>\n",
              "    <tr>\n",
              "      <th>33196</th>\n",
              "      <td>2020-12-31 22:00:00</td>\n",
              "      <td>0.186</td>\n",
              "      <td>0.05</td>\n",
              "    </tr>\n",
              "    <tr>\n",
              "      <th>33197</th>\n",
              "      <td>2020-12-31 23:00:00</td>\n",
              "      <td>0.186</td>\n",
              "      <td>0.05</td>\n",
              "    </tr>\n",
              "  </tbody>\n",
              "</table>\n",
              "</div>"
            ],
            "text/plain": [
              "                 date_time  soil_moisture_depth_0.050000  depth\n",
              "33193  2020-12-31 19:00:00                         0.181   0.05\n",
              "33194  2020-12-31 20:00:00                         0.183   0.05\n",
              "33195  2020-12-31 21:00:00                         0.185   0.05\n",
              "33196  2020-12-31 22:00:00                         0.186   0.05\n",
              "33197  2020-12-31 23:00:00                         0.186   0.05"
            ]
          },
          "metadata": {
            "tags": []
          },
          "execution_count": 34
        }
      ]
    },
    {
      "cell_type": "markdown",
      "metadata": {
        "id": "XehsN8c3Wwgh"
      },
      "source": [
        "## 2- Satellite Imagery :"
      ]
    },
    {
      "cell_type": "code",
      "metadata": {
        "id": "H9LaVZh-Wjep"
      },
      "source": [
        "## Requirements : \n",
        "\n",
        "import ee\n",
        "import folium\n",
        "from IPython.display import Image\n",
        "from datetime import datetime\n",
        "from datetime import timedelta"
      ],
      "execution_count": null,
      "outputs": []
    },
    {
      "cell_type": "code",
      "metadata": {
        "id": "Rndrrd9rW4TC",
        "colab": {
          "base_uri": "https://localhost:8080/"
        },
        "outputId": "c1b45ca1-3b13-4a03-c035-e43ad21c09cb"
      },
      "source": [
        "ee.Authenticate()"
      ],
      "execution_count": null,
      "outputs": [
        {
          "output_type": "stream",
          "text": [
            "To authorize access needed by Earth Engine, open the following URL in a web browser and follow the instructions. If the web browser does not start automatically, please manually browse the URL below.\n",
            "\n",
            "    https://accounts.google.com/o/oauth2/auth?client_id=517222506229-vsmmajv00ul0bs7p89v5m89qs8eb9359.apps.googleusercontent.com&scope=https%3A%2F%2Fwww.googleapis.com%2Fauth%2Fearthengine+https%3A%2F%2Fwww.googleapis.com%2Fauth%2Fdevstorage.full_control&redirect_uri=urn%3Aietf%3Awg%3Aoauth%3A2.0%3Aoob&response_type=code&code_challenge=WFhJY1l0g_Z4y8aOuJATadnYxtZ2nsvdrY_NzHPSkLY&code_challenge_method=S256\n",
            "\n",
            "The authorization workflow will generate a code, which you should paste in the box below. \n",
            "Enter verification code: 4/1AX4XfWh2wyRadbgrXx5KMyIMnqiPtudQeYnYYvISC33JYMu5dcOqAx0VPsM\n",
            "\n",
            "Successfully saved authorization token.\n"
          ],
          "name": "stdout"
        }
      ]
    },
    {
      "cell_type": "code",
      "metadata": {
        "id": "6EF0TeuSXPRB"
      },
      "source": [
        "# Initialize the library.\n",
        "ee.Initialize()"
      ],
      "execution_count": null,
      "outputs": []
    },
    {
      "cell_type": "markdown",
      "metadata": {
        "id": "BDqwKPVBF41v"
      },
      "source": [
        "### Selection of a the region"
      ]
    },
    {
      "cell_type": "code",
      "metadata": {
        "id": "683CxjWorf5i",
        "colab": {
          "base_uri": "https://localhost:8080/",
          "height": 1000
        },
        "outputId": "e60e4168-c7b7-4556-8569-5cf0d5ceb62f"
      },
      "source": [
        "pip install geemap"
      ],
      "execution_count": null,
      "outputs": [
        {
          "output_type": "stream",
          "text": [
            "Collecting geemap\n",
            "  Downloading geemap-0.8.18-py2.py3-none-any.whl (476 kB)\n",
            "\u001b[K     |████████████████████████████████| 476 kB 5.1 MB/s \n",
            "\u001b[?25hRequirement already satisfied: click in /usr/local/lib/python3.7/dist-packages (from geemap) (7.1.2)\n",
            "Requirement already satisfied: earthengine-api>=0.1.230 in /usr/local/lib/python3.7/dist-packages (from geemap) (0.1.272)\n",
            "Collecting bqplot\n",
            "  Downloading bqplot-0.12.30-py2.py3-none-any.whl (1.2 MB)\n",
            "\u001b[K     |████████████████████████████████| 1.2 MB 35.4 MB/s \n",
            "\u001b[?25hCollecting voila\n",
            "  Downloading voila-0.2.10-py3-none-any.whl (1.6 MB)\n",
            "\u001b[K     |████████████████████████████████| 1.6 MB 34.0 MB/s \n",
            "\u001b[?25hCollecting ipyevents\n",
            "  Downloading ipyevents-2.0.1-py2.py3-none-any.whl (130 kB)\n",
            "\u001b[K     |████████████████████████████████| 130 kB 58.5 MB/s \n",
            "\u001b[?25hRequirement already satisfied: matplotlib in /usr/local/lib/python3.7/dist-packages (from geemap) (3.2.2)\n",
            "Collecting ipyleaflet>=0.14.0\n",
            "  Downloading ipyleaflet-0.14.0-py2.py3-none-any.whl (3.3 MB)\n",
            "\u001b[K     |████████████████████████████████| 3.3 MB 43.7 MB/s \n",
            "\u001b[?25hRequirement already satisfied: pandas in /usr/local/lib/python3.7/dist-packages (from geemap) (1.1.5)\n",
            "Collecting ipynb-py-convert\n",
            "  Downloading ipynb-py-convert-0.4.6.tar.gz (3.9 kB)\n",
            "Collecting ipytree\n",
            "  Downloading ipytree-0.2.1-py2.py3-none-any.whl (1.3 MB)\n",
            "\u001b[K     |████████████████████████████████| 1.3 MB 64.4 MB/s \n",
            "\u001b[?25hCollecting ffmpeg-python\n",
            "  Downloading ffmpeg_python-0.2.0-py3-none-any.whl (25 kB)\n",
            "Collecting pycrs\n",
            "  Downloading PyCRS-1.0.2.tar.gz (36 kB)\n",
            "Collecting mss\n",
            "  Downloading mss-6.1.0-py3-none-any.whl (76 kB)\n",
            "\u001b[K     |████████████████████████████████| 76 kB 5.5 MB/s \n",
            "\u001b[?25hCollecting ipyfilechooser\n",
            "  Downloading ipyfilechooser-0.4.4-py3-none-any.whl (8.7 kB)\n",
            "Requirement already satisfied: numpy in /usr/local/lib/python3.7/dist-packages (from geemap) (1.19.5)\n",
            "Requirement already satisfied: googledrivedownloader in /usr/local/lib/python3.7/dist-packages (from geemap) (0.4)\n",
            "Collecting geojson\n",
            "  Downloading geojson-2.5.0-py2.py3-none-any.whl (14 kB)\n",
            "Collecting colour\n",
            "  Downloading colour-0.1.5-py2.py3-none-any.whl (23 kB)\n",
            "Collecting whiteboxgui\n",
            "  Downloading whiteboxgui-0.3.0-py2.py3-none-any.whl (76 kB)\n",
            "\u001b[K     |████████████████████████████████| 76 kB 4.3 MB/s \n",
            "\u001b[?25hCollecting geeadd>=0.5.1\n",
            "  Downloading geeadd-0.5.5-py3-none-any.whl (30 kB)\n",
            "Collecting pyshp>=2.1.3\n",
            "  Downloading pyshp-2.1.3.tar.gz (219 kB)\n",
            "\u001b[K     |████████████████████████████████| 219 kB 59.2 MB/s \n",
            "\u001b[?25hRequirement already satisfied: pillow in /usr/local/lib/python3.7/dist-packages (from geemap) (7.1.2)\n",
            "Collecting geocoder\n",
            "  Downloading geocoder-1.38.1-py2.py3-none-any.whl (98 kB)\n",
            "\u001b[K     |████████████████████████████████| 98 kB 5.4 MB/s \n",
            "\u001b[?25hCollecting python-box\n",
            "  Downloading python_box-5.3.0-py3-none-any.whl (21 kB)\n",
            "Collecting sankee\n",
            "  Downloading sankee-0.0.5-py3-none-any.whl (29 kB)\n",
            "Collecting folium>=0.11.0\n",
            "  Downloading folium-0.12.1-py2.py3-none-any.whl (94 kB)\n",
            "\u001b[K     |████████████████████████████████| 94 kB 2.7 MB/s \n",
            "\u001b[?25hRequirement already satisfied: future in /usr/local/lib/python3.7/dist-packages (from earthengine-api>=0.1.230->geemap) (0.16.0)\n",
            "Requirement already satisfied: google-auth-httplib2>=0.0.3 in /usr/local/lib/python3.7/dist-packages (from earthengine-api>=0.1.230->geemap) (0.0.4)\n",
            "Requirement already satisfied: google-auth>=1.4.1 in /usr/local/lib/python3.7/dist-packages (from earthengine-api>=0.1.230->geemap) (1.32.1)\n",
            "Requirement already satisfied: google-cloud-storage in /usr/local/lib/python3.7/dist-packages (from earthengine-api>=0.1.230->geemap) (1.18.1)\n",
            "Requirement already satisfied: httplib2<1dev,>=0.9.2 in /usr/local/lib/python3.7/dist-packages (from earthengine-api>=0.1.230->geemap) (0.17.4)\n",
            "Requirement already satisfied: httplib2shim in /usr/local/lib/python3.7/dist-packages (from earthengine-api>=0.1.230->geemap) (0.0.3)\n",
            "Requirement already satisfied: google-api-python-client<2,>=1.12.1 in /usr/local/lib/python3.7/dist-packages (from earthengine-api>=0.1.230->geemap) (1.12.8)\n",
            "Requirement already satisfied: six in /usr/local/lib/python3.7/dist-packages (from earthengine-api>=0.1.230->geemap) (1.15.0)\n",
            "Requirement already satisfied: branca>=0.3.0 in /usr/local/lib/python3.7/dist-packages (from folium>=0.11.0->geemap) (0.4.2)\n",
            "Requirement already satisfied: jinja2>=2.9 in /usr/local/lib/python3.7/dist-packages (from folium>=0.11.0->geemap) (2.11.3)\n",
            "Requirement already satisfied: requests in /usr/local/lib/python3.7/dist-packages (from folium>=0.11.0->geemap) (2.23.0)\n",
            "Collecting logzero>=1.5.0\n",
            "  Downloading logzero-1.7.0-py2.py3-none-any.whl (16 kB)\n",
            "Collecting beautifulsoup4>=4.9.0\n",
            "  Downloading beautifulsoup4-4.9.3-py3-none-any.whl (115 kB)\n",
            "\u001b[K     |████████████████████████████████| 115 kB 58.8 MB/s \n",
            "\u001b[?25hCollecting soupsieve>1.2\n",
            "  Downloading soupsieve-2.2.1-py3-none-any.whl (33 kB)\n",
            "Requirement already satisfied: uritemplate<4dev,>=3.0.0 in /usr/local/lib/python3.7/dist-packages (from google-api-python-client<2,>=1.12.1->earthengine-api>=0.1.230->geemap) (3.0.1)\n",
            "Requirement already satisfied: google-api-core<2dev,>=1.21.0 in /usr/local/lib/python3.7/dist-packages (from google-api-python-client<2,>=1.12.1->earthengine-api>=0.1.230->geemap) (1.26.3)\n",
            "Requirement already satisfied: protobuf>=3.12.0 in /usr/local/lib/python3.7/dist-packages (from google-api-core<2dev,>=1.21.0->google-api-python-client<2,>=1.12.1->earthengine-api>=0.1.230->geemap) (3.17.3)\n",
            "Requirement already satisfied: packaging>=14.3 in /usr/local/lib/python3.7/dist-packages (from google-api-core<2dev,>=1.21.0->google-api-python-client<2,>=1.12.1->earthengine-api>=0.1.230->geemap) (21.0)\n",
            "Requirement already satisfied: pytz in /usr/local/lib/python3.7/dist-packages (from google-api-core<2dev,>=1.21.0->google-api-python-client<2,>=1.12.1->earthengine-api>=0.1.230->geemap) (2018.9)\n",
            "Requirement already satisfied: googleapis-common-protos<2.0dev,>=1.6.0 in /usr/local/lib/python3.7/dist-packages (from google-api-core<2dev,>=1.21.0->google-api-python-client<2,>=1.12.1->earthengine-api>=0.1.230->geemap) (1.53.0)\n",
            "Requirement already satisfied: setuptools>=40.3.0 in /usr/local/lib/python3.7/dist-packages (from google-api-core<2dev,>=1.21.0->google-api-python-client<2,>=1.12.1->earthengine-api>=0.1.230->geemap) (57.2.0)\n",
            "Requirement already satisfied: rsa<5,>=3.1.4 in /usr/local/lib/python3.7/dist-packages (from google-auth>=1.4.1->earthengine-api>=0.1.230->geemap) (4.7.2)\n",
            "Requirement already satisfied: pyasn1-modules>=0.2.1 in /usr/local/lib/python3.7/dist-packages (from google-auth>=1.4.1->earthengine-api>=0.1.230->geemap) (0.2.8)\n",
            "Requirement already satisfied: cachetools<5.0,>=2.0.0 in /usr/local/lib/python3.7/dist-packages (from google-auth>=1.4.1->earthengine-api>=0.1.230->geemap) (4.2.2)\n",
            "Requirement already satisfied: ipywidgets<8,>=7.6.0 in /usr/local/lib/python3.7/dist-packages (from ipyleaflet>=0.14.0->geemap) (7.6.3)\n",
            "Collecting traittypes<3,>=0.2.1\n",
            "  Downloading traittypes-0.2.1-py2.py3-none-any.whl (8.6 kB)\n",
            "Requirement already satisfied: ipykernel>=4.5.1 in /usr/local/lib/python3.7/dist-packages (from ipywidgets<8,>=7.6.0->ipyleaflet>=0.14.0->geemap) (4.10.1)\n",
            "Requirement already satisfied: ipython>=4.0.0 in /usr/local/lib/python3.7/dist-packages (from ipywidgets<8,>=7.6.0->ipyleaflet>=0.14.0->geemap) (5.5.0)\n",
            "Requirement already satisfied: widgetsnbextension~=3.5.0 in /usr/local/lib/python3.7/dist-packages (from ipywidgets<8,>=7.6.0->ipyleaflet>=0.14.0->geemap) (3.5.1)\n",
            "Requirement already satisfied: nbformat>=4.2.0 in /usr/local/lib/python3.7/dist-packages (from ipywidgets<8,>=7.6.0->ipyleaflet>=0.14.0->geemap) (5.1.3)\n",
            "Requirement already satisfied: jupyterlab-widgets>=1.0.0 in /usr/local/lib/python3.7/dist-packages (from ipywidgets<8,>=7.6.0->ipyleaflet>=0.14.0->geemap) (1.0.0)\n",
            "Requirement already satisfied: traitlets>=4.3.1 in /usr/local/lib/python3.7/dist-packages (from ipywidgets<8,>=7.6.0->ipyleaflet>=0.14.0->geemap) (5.0.5)\n",
            "Requirement already satisfied: tornado>=4.0 in /usr/local/lib/python3.7/dist-packages (from ipykernel>=4.5.1->ipywidgets<8,>=7.6.0->ipyleaflet>=0.14.0->geemap) (5.1.1)\n",
            "Requirement already satisfied: jupyter-client in /usr/local/lib/python3.7/dist-packages (from ipykernel>=4.5.1->ipywidgets<8,>=7.6.0->ipyleaflet>=0.14.0->geemap) (5.3.5)\n",
            "Requirement already satisfied: prompt-toolkit<2.0.0,>=1.0.4 in /usr/local/lib/python3.7/dist-packages (from ipython>=4.0.0->ipywidgets<8,>=7.6.0->ipyleaflet>=0.14.0->geemap) (1.0.18)\n",
            "Requirement already satisfied: pygments in /usr/local/lib/python3.7/dist-packages (from ipython>=4.0.0->ipywidgets<8,>=7.6.0->ipyleaflet>=0.14.0->geemap) (2.6.1)\n",
            "Requirement already satisfied: decorator in /usr/local/lib/python3.7/dist-packages (from ipython>=4.0.0->ipywidgets<8,>=7.6.0->ipyleaflet>=0.14.0->geemap) (4.4.2)\n",
            "Requirement already satisfied: pexpect in /usr/local/lib/python3.7/dist-packages (from ipython>=4.0.0->ipywidgets<8,>=7.6.0->ipyleaflet>=0.14.0->geemap) (4.8.0)\n",
            "Requirement already satisfied: pickleshare in /usr/local/lib/python3.7/dist-packages (from ipython>=4.0.0->ipywidgets<8,>=7.6.0->ipyleaflet>=0.14.0->geemap) (0.7.5)\n",
            "Requirement already satisfied: simplegeneric>0.8 in /usr/local/lib/python3.7/dist-packages (from ipython>=4.0.0->ipywidgets<8,>=7.6.0->ipyleaflet>=0.14.0->geemap) (0.8.1)\n",
            "Requirement already satisfied: MarkupSafe>=0.23 in /usr/local/lib/python3.7/dist-packages (from jinja2>=2.9->folium>=0.11.0->geemap) (2.0.1)\n",
            "Requirement already satisfied: ipython-genutils in /usr/local/lib/python3.7/dist-packages (from nbformat>=4.2.0->ipywidgets<8,>=7.6.0->ipyleaflet>=0.14.0->geemap) (0.2.0)\n",
            "Requirement already satisfied: jupyter-core in /usr/local/lib/python3.7/dist-packages (from nbformat>=4.2.0->ipywidgets<8,>=7.6.0->ipyleaflet>=0.14.0->geemap) (4.7.1)\n",
            "Requirement already satisfied: jsonschema!=2.5.0,>=2.4 in /usr/local/lib/python3.7/dist-packages (from nbformat>=4.2.0->ipywidgets<8,>=7.6.0->ipyleaflet>=0.14.0->geemap) (2.6.0)\n",
            "Requirement already satisfied: pyparsing>=2.0.2 in /usr/local/lib/python3.7/dist-packages (from packaging>=14.3->google-api-core<2dev,>=1.21.0->google-api-python-client<2,>=1.12.1->earthengine-api>=0.1.230->geemap) (2.4.7)\n",
            "Requirement already satisfied: wcwidth in /usr/local/lib/python3.7/dist-packages (from prompt-toolkit<2.0.0,>=1.0.4->ipython>=4.0.0->ipywidgets<8,>=7.6.0->ipyleaflet>=0.14.0->geemap) (0.2.5)\n",
            "Requirement already satisfied: pyasn1<0.5.0,>=0.4.6 in /usr/local/lib/python3.7/dist-packages (from pyasn1-modules>=0.2.1->google-auth>=1.4.1->earthengine-api>=0.1.230->geemap) (0.4.8)\n",
            "Requirement already satisfied: urllib3!=1.25.0,!=1.25.1,<1.26,>=1.21.1 in /usr/local/lib/python3.7/dist-packages (from requests->folium>=0.11.0->geemap) (1.24.3)\n",
            "Requirement already satisfied: chardet<4,>=3.0.2 in /usr/local/lib/python3.7/dist-packages (from requests->folium>=0.11.0->geemap) (3.0.4)\n",
            "Requirement already satisfied: certifi>=2017.4.17 in /usr/local/lib/python3.7/dist-packages (from requests->folium>=0.11.0->geemap) (2021.5.30)\n",
            "Requirement already satisfied: idna<3,>=2.5 in /usr/local/lib/python3.7/dist-packages (from requests->folium>=0.11.0->geemap) (2.10)\n",
            "Requirement already satisfied: notebook>=4.4.1 in /usr/local/lib/python3.7/dist-packages (from widgetsnbextension~=3.5.0->ipywidgets<8,>=7.6.0->ipyleaflet>=0.14.0->geemap) (5.3.1)\n",
            "Requirement already satisfied: nbconvert in /usr/local/lib/python3.7/dist-packages (from notebook>=4.4.1->widgetsnbextension~=3.5.0->ipywidgets<8,>=7.6.0->ipyleaflet>=0.14.0->geemap) (5.6.1)\n",
            "Requirement already satisfied: terminado>=0.8.1 in /usr/local/lib/python3.7/dist-packages (from notebook>=4.4.1->widgetsnbextension~=3.5.0->ipywidgets<8,>=7.6.0->ipyleaflet>=0.14.0->geemap) (0.10.1)\n",
            "Requirement already satisfied: Send2Trash in /usr/local/lib/python3.7/dist-packages (from notebook>=4.4.1->widgetsnbextension~=3.5.0->ipywidgets<8,>=7.6.0->ipyleaflet>=0.14.0->geemap) (1.7.1)\n",
            "Requirement already satisfied: python-dateutil>=2.1 in /usr/local/lib/python3.7/dist-packages (from jupyter-client->ipykernel>=4.5.1->ipywidgets<8,>=7.6.0->ipyleaflet>=0.14.0->geemap) (2.8.1)\n",
            "Requirement already satisfied: pyzmq>=13 in /usr/local/lib/python3.7/dist-packages (from jupyter-client->ipykernel>=4.5.1->ipywidgets<8,>=7.6.0->ipyleaflet>=0.14.0->geemap) (22.1.0)\n",
            "Requirement already satisfied: ptyprocess in /usr/local/lib/python3.7/dist-packages (from terminado>=0.8.1->notebook>=4.4.1->widgetsnbextension~=3.5.0->ipywidgets<8,>=7.6.0->ipyleaflet>=0.14.0->geemap) (0.7.0)\n",
            "Collecting ratelim\n",
            "  Downloading ratelim-0.1.6-py2.py3-none-any.whl (4.0 kB)\n",
            "Requirement already satisfied: google-cloud-core<2.0dev,>=1.0.0 in /usr/local/lib/python3.7/dist-packages (from google-cloud-storage->earthengine-api>=0.1.230->geemap) (1.0.3)\n",
            "Requirement already satisfied: google-resumable-media<0.5.0dev,>=0.3.1 in /usr/local/lib/python3.7/dist-packages (from google-cloud-storage->earthengine-api>=0.1.230->geemap) (0.4.1)\n",
            "Requirement already satisfied: cycler>=0.10 in /usr/local/lib/python3.7/dist-packages (from matplotlib->geemap) (0.10.0)\n",
            "Requirement already satisfied: kiwisolver>=1.0.1 in /usr/local/lib/python3.7/dist-packages (from matplotlib->geemap) (1.3.1)\n",
            "Requirement already satisfied: entrypoints>=0.2.2 in /usr/local/lib/python3.7/dist-packages (from nbconvert->notebook>=4.4.1->widgetsnbextension~=3.5.0->ipywidgets<8,>=7.6.0->ipyleaflet>=0.14.0->geemap) (0.3)\n",
            "Requirement already satisfied: bleach in /usr/local/lib/python3.7/dist-packages (from nbconvert->notebook>=4.4.1->widgetsnbextension~=3.5.0->ipywidgets<8,>=7.6.0->ipyleaflet>=0.14.0->geemap) (3.3.0)\n",
            "Requirement already satisfied: defusedxml in /usr/local/lib/python3.7/dist-packages (from nbconvert->notebook>=4.4.1->widgetsnbextension~=3.5.0->ipywidgets<8,>=7.6.0->ipyleaflet>=0.14.0->geemap) (0.7.1)\n",
            "Requirement already satisfied: testpath in /usr/local/lib/python3.7/dist-packages (from nbconvert->notebook>=4.4.1->widgetsnbextension~=3.5.0->ipywidgets<8,>=7.6.0->ipyleaflet>=0.14.0->geemap) (0.5.0)\n",
            "Requirement already satisfied: mistune<2,>=0.8.1 in /usr/local/lib/python3.7/dist-packages (from nbconvert->notebook>=4.4.1->widgetsnbextension~=3.5.0->ipywidgets<8,>=7.6.0->ipyleaflet>=0.14.0->geemap) (0.8.4)\n",
            "Requirement already satisfied: pandocfilters>=1.4.1 in /usr/local/lib/python3.7/dist-packages (from nbconvert->notebook>=4.4.1->widgetsnbextension~=3.5.0->ipywidgets<8,>=7.6.0->ipyleaflet>=0.14.0->geemap) (1.4.3)\n",
            "Requirement already satisfied: webencodings in /usr/local/lib/python3.7/dist-packages (from bleach->nbconvert->notebook>=4.4.1->widgetsnbextension~=3.5.0->ipywidgets<8,>=7.6.0->ipyleaflet>=0.14.0->geemap) (0.5.1)\n",
            "Requirement already satisfied: plotly in /usr/local/lib/python3.7/dist-packages (from sankee->geemap) (4.4.1)\n",
            "Requirement already satisfied: retrying>=1.3.3 in /usr/local/lib/python3.7/dist-packages (from plotly->sankee->geemap) (1.3.3)\n",
            "Collecting nbconvert\n",
            "  Downloading nbconvert-6.1.0-py3-none-any.whl (551 kB)\n",
            "\u001b[K     |████████████████████████████████| 551 kB 73.7 MB/s \n",
            "\u001b[?25hCollecting jupyter-server<2.0.0,>=0.3.0\n",
            "  Downloading jupyter_server-1.10.2-py3-none-any.whl (392 kB)\n",
            "\u001b[K     |████████████████████████████████| 392 kB 61.8 MB/s \n",
            "\u001b[?25hCollecting jupyter-client\n",
            "  Downloading jupyter_client-6.1.12-py3-none-any.whl (112 kB)\n",
            "\u001b[K     |████████████████████████████████| 112 kB 58.7 MB/s \n",
            "\u001b[?25hRequirement already satisfied: nbclient<0.6,>=0.4.0 in /usr/local/lib/python3.7/dist-packages (from voila->geemap) (0.5.3)\n",
            "Collecting anyio<4,>=3.1.0\n",
            "  Downloading anyio-3.3.0-py3-none-any.whl (77 kB)\n",
            "\u001b[K     |████████████████████████████████| 77 kB 6.3 MB/s \n",
            "\u001b[?25hCollecting requests-unixsocket\n",
            "  Downloading requests_unixsocket-0.2.0-py2.py3-none-any.whl (11 kB)\n",
            "Collecting websocket-client\n",
            "  Downloading websocket_client-1.2.0-py2.py3-none-any.whl (52 kB)\n",
            "\u001b[K     |████████████████████████████████| 52 kB 1.1 MB/s \n",
            "\u001b[?25hRequirement already satisfied: argon2-cffi in /usr/local/lib/python3.7/dist-packages (from jupyter-server<2.0.0,>=0.3.0->voila->geemap) (20.1.0)\n",
            "Requirement already satisfied: prometheus-client in /usr/local/lib/python3.7/dist-packages (from jupyter-server<2.0.0,>=0.3.0->voila->geemap) (0.11.0)\n",
            "Collecting tornado>=4.0\n",
            "  Downloading tornado-6.1-cp37-cp37m-manylinux2010_x86_64.whl (428 kB)\n",
            "\u001b[K     |████████████████████████████████| 428 kB 72.4 MB/s \n",
            "\u001b[?25hCollecting sniffio>=1.1\n",
            "  Downloading sniffio-1.2.0-py3-none-any.whl (10 kB)\n",
            "Requirement already satisfied: typing-extensions in /usr/local/lib/python3.7/dist-packages (from anyio<4,>=3.1.0->jupyter-server<2.0.0,>=0.3.0->voila->geemap) (3.7.4.3)\n",
            "Requirement already satisfied: async-generator in /usr/local/lib/python3.7/dist-packages (from nbclient<0.6,>=0.4.0->voila->geemap) (1.10)\n",
            "Requirement already satisfied: nest-asyncio in /usr/local/lib/python3.7/dist-packages (from nbclient<0.6,>=0.4.0->voila->geemap) (1.5.1)\n",
            "Requirement already satisfied: jupyterlab-pygments in /usr/local/lib/python3.7/dist-packages (from nbconvert->notebook>=4.4.1->widgetsnbextension~=3.5.0->ipywidgets<8,>=7.6.0->ipyleaflet>=0.14.0->geemap) (0.1.2)\n",
            "Requirement already satisfied: cffi>=1.0.0 in /usr/local/lib/python3.7/dist-packages (from argon2-cffi->jupyter-server<2.0.0,>=0.3.0->voila->geemap) (1.14.6)\n",
            "Requirement already satisfied: pycparser in /usr/local/lib/python3.7/dist-packages (from cffi>=1.0.0->argon2-cffi->jupyter-server<2.0.0,>=0.3.0->voila->geemap) (2.20)\n",
            "Collecting whitebox\n",
            "  Downloading whitebox-1.5.1-py2.py3-none-any.whl (67 kB)\n",
            "\u001b[K     |████████████████████████████████| 67 kB 5.4 MB/s \n",
            "\u001b[?25hBuilding wheels for collected packages: pyshp, ipynb-py-convert, pycrs\n",
            "  Building wheel for pyshp (setup.py) ... \u001b[?25l\u001b[?25hdone\n",
            "  Created wheel for pyshp: filename=pyshp-2.1.3-py3-none-any.whl size=37324 sha256=6e0eb1913b41cc70911bc0117fd9094c091acffcfdb41fe60e6298add7bf37f8\n",
            "  Stored in directory: /root/.cache/pip/wheels/43/f8/87/53c8cd41545ba20e536ea29a8fcb5431b5f477ca50d5dffbbe\n",
            "  Building wheel for ipynb-py-convert (setup.py) ... \u001b[?25l\u001b[?25hdone\n",
            "  Created wheel for ipynb-py-convert: filename=ipynb_py_convert-0.4.6-py3-none-any.whl size=4640 sha256=22e3681994e4316c0557e23cbf4458ef49d0f49c497e5968abc6885924d97342\n",
            "  Stored in directory: /root/.cache/pip/wheels/af/31/a9/761b134adbbca3c92d491eff3bad785c0a0c0079695d6f0504\n",
            "  Building wheel for pycrs (setup.py) ... \u001b[?25l\u001b[?25hdone\n",
            "  Created wheel for pycrs: filename=PyCRS-1.0.2-py3-none-any.whl size=32702 sha256=495088588e36694dcef984afdbf1f773e0d50099e49ca4c434dce538948ff629\n",
            "  Stored in directory: /root/.cache/pip/wheels/3e/ce/32/1ec0aba6b9770681a423e82f0274c57d09ad2c20c2864901f9\n",
            "Successfully built pyshp ipynb-py-convert pycrs\n",
            "Installing collected packages: tornado, jupyter-client, nbconvert, sniffio, websocket-client, soupsieve, requests-unixsocket, anyio, whitebox, traittypes, ratelim, logzero, jupyter-server, ipytree, ipyfilechooser, beautifulsoup4, whiteboxgui, voila, sankee, python-box, pyshp, pycrs, mss, ipynb-py-convert, ipyleaflet, ipyevents, geojson, geocoder, geeadd, folium, ffmpeg-python, colour, bqplot, geemap\n",
            "  Attempting uninstall: tornado\n",
            "    Found existing installation: tornado 5.1.1\n",
            "    Uninstalling tornado-5.1.1:\n",
            "      Successfully uninstalled tornado-5.1.1\n",
            "  Attempting uninstall: jupyter-client\n",
            "    Found existing installation: jupyter-client 5.3.5\n",
            "    Uninstalling jupyter-client-5.3.5:\n",
            "      Successfully uninstalled jupyter-client-5.3.5\n",
            "  Attempting uninstall: nbconvert\n",
            "    Found existing installation: nbconvert 5.6.1\n",
            "    Uninstalling nbconvert-5.6.1:\n",
            "      Successfully uninstalled nbconvert-5.6.1\n",
            "  Attempting uninstall: beautifulsoup4\n",
            "    Found existing installation: beautifulsoup4 4.6.3\n",
            "    Uninstalling beautifulsoup4-4.6.3:\n",
            "      Successfully uninstalled beautifulsoup4-4.6.3\n",
            "  Attempting uninstall: folium\n",
            "    Found existing installation: folium 0.8.3\n",
            "    Uninstalling folium-0.8.3:\n",
            "      Successfully uninstalled folium-0.8.3\n",
            "\u001b[31mERROR: pip's dependency resolver does not currently take into account all the packages that are installed. This behaviour is the source of the following dependency conflicts.\n",
            "google-colab 1.0.0 requires tornado~=5.1.0; python_version >= \"3.0\", but you have tornado 6.1 which is incompatible.\n",
            "datascience 0.10.6 requires folium==0.2.1, but you have folium 0.12.1 which is incompatible.\u001b[0m\n",
            "Successfully installed anyio-3.3.0 beautifulsoup4-4.9.3 bqplot-0.12.30 colour-0.1.5 ffmpeg-python-0.2.0 folium-0.12.1 geeadd-0.5.5 geemap-0.8.18 geocoder-1.38.1 geojson-2.5.0 ipyevents-2.0.1 ipyfilechooser-0.4.4 ipyleaflet-0.14.0 ipynb-py-convert-0.4.6 ipytree-0.2.1 jupyter-client-6.1.12 jupyter-server-1.10.2 logzero-1.7.0 mss-6.1.0 nbconvert-6.1.0 pycrs-1.0.2 pyshp-2.1.3 python-box-5.3.0 ratelim-0.1.6 requests-unixsocket-0.2.0 sankee-0.0.5 sniffio-1.2.0 soupsieve-2.2.1 tornado-6.1 traittypes-0.2.1 voila-0.2.10 websocket-client-1.2.0 whitebox-1.5.1 whiteboxgui-0.3.0\n"
          ],
          "name": "stdout"
        },
        {
          "output_type": "display_data",
          "data": {
            "application/vnd.colab-display-data+json": {
              "pip_warning": {
                "packages": [
                  "jupyter_client",
                  "tornado"
                ]
              }
            }
          },
          "metadata": {
            "tags": []
          }
        }
      ]
    },
    {
      "cell_type": "code",
      "metadata": {
        "id": "TryztA6XXU5V"
      },
      "source": [
        "import geemap"
      ],
      "execution_count": null,
      "outputs": []
    },
    {
      "cell_type": "code",
      "metadata": {
        "id": "t_5cRQbaWdKA",
        "colab": {
          "base_uri": "https://localhost:8080/"
        },
        "outputId": "f5ca38da-9be4-4eab-d7c7-c3b4a95913a5"
      },
      "source": [
        "## Downloading images of the region :\n",
        "\n",
        "lat1 =  -5.323319733758855\n",
        "long1 = 41.40575983571157\n",
        "lat2 =  -5.3226424171725295\n",
        "long2 = 41.39042513007489 \n",
        "lat3 = -5.34185 \n",
        "long3 = 41.39001 \n",
        "lat4 =  -5.342346172411098\n",
        "long4 = 41.404466686988584\n",
        "\n",
        "\n",
        "aoi = ee.Geometry.Polygon([[[lat1, long1], [lat2, long2], [lat3, long3], [lat4, long4]]])\n",
        "\n",
        "CLOUD_FILTER = 60\n",
        "\n",
        "time_range=['2017-03-29', '2020-12-31']\n",
        "\n",
        "sentinel_filtered = (ee.ImageCollection('COPERNICUS/S2_SR').\n",
        "                         filterBounds(aoi).\n",
        "                         select(['B1','B2','B3','B4','B5','B6','B7','B8','B8A','B9','B11','B12']).\n",
        "                         filterDate(time_range[0], time_range[1]).\n",
        "                         filter(ee.Filter.lte('CLOUDY_PIXEL_PERCENTAGE', CLOUD_FILTER))\n",
        "                         )\n",
        "\n",
        "\n",
        "geemap.ee_export_image_collection_to_drive(sentinel_filtered, folder='Senti_Images-2017to2020_Area3', scale=10, region=aoi)\n"
      ],
      "execution_count": null,
      "outputs": [
        {
          "output_type": "stream",
          "text": [
            "Total number of images: 642\n",
            "\n",
            "Exporting 20170412T110621_20170412T111708_T30TUL ...\n",
            "Exporting 20170422T110651_20170422T111300_T29TQG ...\n",
            "Exporting 20170502T110621_20170502T110937_T29TQF ...\n",
            "Exporting 20170502T110621_20170502T110937_T29TQG ...\n",
            "Exporting 20170502T110621_20170502T110937_T30TTL ...\n",
            "Exporting 20170502T110621_20170502T110937_T30TUL ...\n",
            "Exporting 20170512T110651_20170512T111302_T29TQG ...\n",
            "Exporting 20170512T110651_20170512T111302_T30TTL ...\n",
            "Exporting 20170522T110621_20170522T110912_T29TQF ...\n",
            "Exporting 20170522T110621_20170522T110912_T29TQG ...\n",
            "Exporting 20170522T110621_20170522T110912_T30TTL ...\n",
            "Exporting 20170522T110621_20170522T110912_T30TUL ...\n",
            "Exporting 20170601T110651_20170601T111225_T29TQF ...\n",
            "Exporting 20170601T110651_20170601T111225_T29TQG ...\n",
            "Exporting 20170601T110651_20170601T111225_T30TTL ...\n",
            "Exporting 20170601T110651_20170601T111225_T30TUL ...\n",
            "Exporting 20170611T110621_20170611T111012_T29TQF ...\n",
            "Exporting 20170611T110621_20170611T111012_T29TQG ...\n",
            "Exporting 20170611T110621_20170611T111012_T30TTL ...\n",
            "Exporting 20170611T110621_20170611T111012_T30TUL ...\n",
            "Exporting 20170621T110651_20170621T111222_T29TQF ...\n",
            "Exporting 20170621T110651_20170621T111222_T29TQG ...\n",
            "Exporting 20170621T110651_20170621T111222_T30TTL ...\n",
            "Exporting 20170621T110651_20170621T111222_T30TUL ...\n",
            "Exporting 20170701T111051_20170701T111746_T29TQF ...\n",
            "Exporting 20170701T111051_20170701T111746_T30TTL ...\n",
            "Exporting 20170701T111051_20170701T111746_T30TUL ...\n",
            "Exporting 20170711T110651_20170711T111223_T29TQF ...\n",
            "Exporting 20170711T110651_20170711T111223_T29TQG ...\n",
            "Exporting 20170711T110651_20170711T111223_T30TTL ...\n",
            "Exporting 20170711T110651_20170711T111223_T30TUL ...\n",
            "Exporting 20170721T110621_20170721T110758_T29TQF ...\n",
            "Exporting 20170721T110621_20170721T110758_T29TQG ...\n",
            "Exporting 20170721T110621_20170721T110758_T30TTL ...\n",
            "Exporting 20170721T110621_20170721T110758_T30TUL ...\n",
            "Exporting 20170731T110651_20170731T111220_T29TQF ...\n",
            "Exporting 20170731T110651_20170731T111220_T30TTL ...\n",
            "Exporting 20170731T110651_20170731T111220_T30TUL ...\n",
            "Exporting 20170820T110651_20170820T111220_T29TQF ...\n",
            "Exporting 20170820T110651_20170820T111220_T29TQG ...\n",
            "Exporting 20170820T110651_20170820T111220_T30TTL ...\n",
            "Exporting 20170820T110651_20170820T111220_T30TUL ...\n",
            "Exporting 20170830T110621_20170830T110910_T29TQF ...\n",
            "Exporting 20170830T110621_20170830T110910_T30TTL ...\n",
            "Exporting 20170830T110621_20170830T110910_T30TUL ...\n",
            "Exporting 20170909T110651_20170909T111217_T29TQF ...\n",
            "Exporting 20170909T110651_20170909T111217_T29TQG ...\n",
            "Exporting 20170909T110651_20170909T111217_T30TTL ...\n",
            "Exporting 20170909T110651_20170909T111217_T30TUL ...\n",
            "Exporting 20170919T110721_20170919T111808_T29TQF ...\n",
            "Exporting 20170919T110721_20170919T111808_T29TQG ...\n",
            "Exporting 20170919T110721_20170919T111808_T30TTL ...\n",
            "Exporting 20170919T110721_20170919T111808_T30TUL ...\n",
            "Exporting 20170929T110841_20170929T111602_T29TQF ...\n",
            "Exporting 20170929T110841_20170929T111602_T29TQG ...\n",
            "Exporting 20170929T110841_20170929T111602_T30TTL ...\n",
            "Exporting 20170929T110841_20170929T111602_T30TUL ...\n",
            "Exporting 20171009T110951_20171009T111500_T29TQF ...\n",
            "Exporting 20171009T110951_20171009T111500_T29TQG ...\n",
            "Exporting 20171009T110951_20171009T111500_T30TTL ...\n",
            "Exporting 20171009T110951_20171009T111500_T30TUL ...\n",
            "Exporting 20171019T111051_20171019T111235_T30TUL ...\n",
            "Exporting 20171029T111201_20171029T111156_T29TQF ...\n",
            "Exporting 20171029T111201_20171029T111156_T29TQG ...\n",
            "Exporting 20171029T111201_20171029T111156_T30TTL ...\n",
            "Exporting 20171029T111201_20171029T111156_T30TUL ...\n",
            "Exporting 20171108T111251_20171108T111250_T29TQF ...\n",
            "Exporting 20171108T111251_20171108T111250_T29TQG ...\n",
            "Exporting 20171108T111251_20171108T111250_T30TTL ...\n",
            "Exporting 20171108T111251_20171108T111250_T30TUL ...\n",
            "Exporting 20171118T111341_20171118T111633_T29TQF ...\n",
            "Exporting 20171118T111341_20171118T111633_T30TTL ...\n",
            "Exporting 20171118T111341_20171118T111633_T30TUL ...\n",
            "Exporting 20171128T111411_20171128T111835_T29TQG ...\n",
            "Exporting 20171128T111411_20171128T111835_T30TUL ...\n",
            "Exporting 20171218T111451_20171218T111449_T29TQF ...\n",
            "Exporting 20171218T111451_20171218T111449_T29TQG ...\n",
            "Exporting 20171218T111451_20171218T111449_T30TTL ...\n",
            "Exporting 20171218T111451_20171218T111449_T30TUL ...\n",
            "Exporting 20171223T111449_20171223T111445_T29TQG ...\n",
            "Exporting 20171223T111449_20171223T111445_T30TUL ...\n",
            "Exporting 20171228T111451_20171228T111919_T29TQG ...\n",
            "Exporting 20180117T111401_20180117T111403_T29TQF ...\n",
            "Exporting 20180117T111401_20180117T111403_T29TQG ...\n",
            "Exporting 20180117T111401_20180117T111403_T30TTL ...\n",
            "Exporting 20180117T111401_20180117T111403_T30TUL ...\n",
            "Exporting 20180122T111339_20180122T111342_T29TQF ...\n",
            "Exporting 20180122T111339_20180122T111342_T30TTL ...\n",
            "Exporting 20180127T111321_20180127T111322_T29TQF ...\n",
            "Exporting 20180127T111321_20180127T111322_T29TQG ...\n",
            "Exporting 20180127T111321_20180127T111322_T30TTL ...\n",
            "Exporting 20180127T111321_20180127T111322_T30TUL ...\n",
            "Exporting 20180206T111231_20180206T111736_T29TQG ...\n",
            "Exporting 20180206T111231_20180206T111736_T30TTL ...\n",
            "Exporting 20180206T111231_20180206T111736_T30TUL ...\n",
            "Exporting 20180216T111131_20180216T111128_T29TQF ...\n",
            "Exporting 20180216T111131_20180216T111128_T30TTL ...\n",
            "Exporting 20180216T111131_20180216T111128_T30TUL ...\n",
            "Exporting 20180221T111049_20180221T111202_T29TQG ...\n",
            "Exporting 20180221T111049_20180221T111202_T30TUL ...\n",
            "Exporting 20180226T111011_20180226T111426_T29TQG ...\n",
            "Exporting 20180226T111011_20180226T111426_T30TUL ...\n",
            "Exporting 20180303T110939_20180303T111405_T30TUL ...\n",
            "Exporting 20180308T110911_20180308T111555_T30TUL ...\n",
            "Exporting 20180318T110801_20180318T111938_T29TQF ...\n",
            "Exporting 20180318T110801_20180318T111938_T29TQG ...\n",
            "Exporting 20180318T110801_20180318T111938_T30TTL ...\n",
            "Exporting 20180318T110801_20180318T111938_T30TUL ...\n",
            "Exporting 20180417T110651_20180417T110822_T29TQF ...\n",
            "Exporting 20180417T110651_20180417T110822_T29TQG ...\n",
            "Exporting 20180417T110651_20180417T110822_T30TTL ...\n",
            "Exporting 20180417T110651_20180417T110822_T30TUL ...\n",
            "Exporting 20180427T110621_20180427T111527_T29TQF ...\n",
            "Exporting 20180427T110621_20180427T111527_T29TQG ...\n",
            "Exporting 20180427T110621_20180427T111527_T30TTL ...\n",
            "Exporting 20180427T110621_20180427T111527_T30TUL ...\n",
            "Exporting 20180507T110621_20180507T110835_T29TQF ...\n",
            "Exporting 20180507T110621_20180507T110835_T29TQG ...\n",
            "Exporting 20180507T110621_20180507T110835_T30TTL ...\n",
            "Exporting 20180507T110621_20180507T110835_T30TUL ...\n",
            "Exporting 20180512T110619_20180512T111530_T29TQF ...\n",
            "Exporting 20180512T110619_20180512T111530_T29TQG ...\n",
            "Exporting 20180512T110619_20180512T111530_T30TTL ...\n",
            "Exporting 20180512T110619_20180512T111530_T30TUL ...\n",
            "Exporting 20180517T110621_20180517T111020_T29TQF ...\n",
            "Exporting 20180517T110621_20180517T111020_T29TQG ...\n",
            "Exporting 20180517T110621_20180517T111020_T30TTL ...\n",
            "Exporting 20180517T110621_20180517T111020_T30TUL ...\n",
            "Exporting 20180522T111049_20180522T111119_T29TQF ...\n",
            "Exporting 20180522T111049_20180522T111119_T29TQG ...\n",
            "Exporting 20180522T111049_20180522T111119_T30TTL ...\n",
            "Exporting 20180522T111049_20180522T111119_T30TUL ...\n",
            "Exporting 20180527T110651_20180527T111141_T29TQF ...\n",
            "Exporting 20180527T110651_20180527T111141_T29TQG ...\n",
            "Exporting 20180527T110651_20180527T111141_T30TTL ...\n",
            "Exporting 20180527T110651_20180527T111141_T30TUL ...\n",
            "Exporting 20180606T111051_20180606T111256_T29TQF ...\n",
            "Exporting 20180606T111051_20180606T111256_T30TTL ...\n",
            "Exporting 20180616T110621_20180616T111245_T29TQF ...\n",
            "Exporting 20180616T110621_20180616T111245_T29TQG ...\n",
            "Exporting 20180616T110621_20180616T111245_T30TTL ...\n",
            "Exporting 20180616T110621_20180616T111245_T30TUL ...\n",
            "Exporting 20180621T110619_20180621T111349_T29TQF ...\n",
            "Exporting 20180621T110619_20180621T111349_T29TQG ...\n",
            "Exporting 20180621T110619_20180621T111349_T30TTL ...\n",
            "Exporting 20180621T110619_20180621T111349_T30TUL ...\n",
            "Exporting 20180626T110621_20180626T111803_T29TQF ...\n",
            "Exporting 20180626T110621_20180626T111803_T29TQG ...\n",
            "Exporting 20180626T110621_20180626T111803_T30TTL ...\n",
            "Exporting 20180626T110621_20180626T111803_T30TUL ...\n",
            "Exporting 20180701T110619_20180701T111103_T29TQF ...\n",
            "Exporting 20180701T110619_20180701T111103_T29TQG ...\n",
            "Exporting 20180701T110619_20180701T111103_T30TTL ...\n",
            "Exporting 20180701T110619_20180701T111103_T30TUL ...\n",
            "Exporting 20180706T110621_20180706T110918_T29TQF ...\n",
            "Exporting 20180706T110621_20180706T110918_T29TQG ...\n",
            "Exporting 20180706T110621_20180706T110918_T30TTL ...\n",
            "Exporting 20180706T110621_20180706T110918_T30TUL ...\n",
            "Exporting 20180711T110619_20180711T111139_T29TQF ...\n",
            "Exporting 20180711T110619_20180711T111139_T30TTL ...\n",
            "Exporting 20180711T110619_20180711T111139_T30TUL ...\n",
            "Exporting 20180716T110621_20180716T111023_T29TQF ...\n",
            "Exporting 20180716T110621_20180716T111023_T29TQG ...\n",
            "Exporting 20180716T110621_20180716T111023_T30TTL ...\n",
            "Exporting 20180716T110621_20180716T111023_T30TUL ...\n",
            "Exporting 20180726T110621_20180726T111615_T29TQF ...\n",
            "Exporting 20180726T110621_20180726T111615_T29TQG ...\n",
            "Exporting 20180726T110621_20180726T111615_T30TTL ...\n",
            "Exporting 20180726T110621_20180726T111615_T30TUL ...\n",
            "Exporting 20180731T110619_20180731T111437_T29TQF ...\n",
            "Exporting 20180731T110619_20180731T111437_T29TQG ...\n",
            "Exporting 20180731T110619_20180731T111437_T30TTL ...\n",
            "Exporting 20180731T110619_20180731T111437_T30TUL ...\n",
            "Exporting 20180810T110649_20180810T111743_T29TQF ...\n",
            "Exporting 20180810T110649_20180810T111743_T29TQG ...\n",
            "Exporting 20180810T110649_20180810T111743_T30TTL ...\n",
            "Exporting 20180810T110649_20180810T111743_T30TUL ...\n",
            "Exporting 20180815T110651_20180815T111826_T29TQF ...\n",
            "Exporting 20180815T110651_20180815T111826_T29TQG ...\n",
            "Exporting 20180815T110651_20180815T111826_T30TTL ...\n",
            "Exporting 20180815T110651_20180815T111826_T30TUL ...\n",
            "Exporting 20180820T110609_20180820T111459_T29TQF ...\n",
            "Exporting 20180820T110609_20180820T111459_T29TQG ...\n",
            "Exporting 20180820T110609_20180820T111459_T30TTL ...\n",
            "Exporting 20180820T110609_20180820T111459_T30TUL ...\n",
            "Exporting 20180825T110621_20180825T111624_T29TQF ...\n",
            "Exporting 20180825T110621_20180825T111624_T29TQG ...\n",
            "Exporting 20180825T110621_20180825T111624_T30TTL ...\n",
            "Exporting 20180825T110621_20180825T111624_T30TUL ...\n",
            "Exporting 20180830T110609_20180830T111449_T29TQF ...\n",
            "Exporting 20180830T110609_20180830T111449_T29TQG ...\n",
            "Exporting 20180830T110609_20180830T111449_T30TTL ...\n",
            "Exporting 20180830T110609_20180830T111449_T30TUL ...\n",
            "Exporting 20180904T110621_20180904T110820_T29TQF ...\n",
            "Exporting 20180904T110621_20180904T110820_T29TQG ...\n",
            "Exporting 20180904T110621_20180904T110820_T30TTL ...\n",
            "Exporting 20180904T110621_20180904T110820_T30TUL ...\n",
            "Exporting 20180909T110609_20180909T111319_T29TQF ...\n",
            "Exporting 20180909T110609_20180909T111319_T29TQG ...\n",
            "Exporting 20180909T110609_20180909T111319_T30TTL ...\n",
            "Exporting 20180909T110609_20180909T111319_T30TUL ...\n",
            "Exporting 20180914T110651_20180914T111041_T29TQF ...\n",
            "Exporting 20180914T110651_20180914T111041_T29TQG ...\n",
            "Exporting 20180914T110651_20180914T111041_T30TTL ...\n",
            "Exporting 20180914T110651_20180914T111041_T30TUL ...\n",
            "Exporting 20180919T110719_20180919T111256_T29TQF ...\n",
            "Exporting 20180919T110719_20180919T111256_T29TQG ...\n",
            "Exporting 20180919T110719_20180919T111256_T30TTL ...\n",
            "Exporting 20180919T110719_20180919T111256_T30TUL ...\n",
            "Exporting 20180924T110801_20180924T111416_T29TQF ...\n",
            "Exporting 20180924T110801_20180924T111416_T29TQG ...\n",
            "Exporting 20180924T110801_20180924T111416_T30TTL ...\n",
            "Exporting 20180924T110801_20180924T111416_T30TUL ...\n",
            "Exporting 20180929T110829_20180929T111054_T29TQF ...\n",
            "Exporting 20180929T110829_20180929T111054_T29TQG ...\n",
            "Exporting 20180929T110829_20180929T111054_T30TTL ...\n",
            "Exporting 20180929T110829_20180929T111054_T30TUL ...\n",
            "Exporting 20181004T110911_20181004T111920_T29TQF ...\n",
            "Exporting 20181004T110911_20181004T111920_T29TQG ...\n",
            "Exporting 20181004T110911_20181004T111920_T30TTL ...\n",
            "Exporting 20181004T110911_20181004T111920_T30TUL ...\n",
            "Exporting 20181009T110939_20181009T111854_T29TQF ...\n",
            "Exporting 20181009T110939_20181009T111854_T29TQG ...\n",
            "Exporting 20181009T110939_20181009T111854_T30TTL ...\n",
            "Exporting 20181009T110939_20181009T111854_T30TUL ...\n",
            "Exporting 20181024T111121_20181024T111839_T29TQF ...\n",
            "Exporting 20181024T111121_20181024T111839_T29TQG ...\n",
            "Exporting 20181024T111121_20181024T111839_T30TTL ...\n",
            "Exporting 20181024T111121_20181024T111839_T30TUL ...\n",
            "Exporting 20181029T111149_20181029T111709_T29TQF ...\n",
            "Exporting 20181029T111149_20181029T111709_T29TQG ...\n",
            "Exporting 20181029T111149_20181029T111709_T30TTL ...\n",
            "Exporting 20181029T111149_20181029T111709_T30TUL ...\n",
            "Exporting 20181103T111221_20181103T111436_T29TQF ...\n",
            "Exporting 20181103T111221_20181103T111436_T29TQG ...\n",
            "Exporting 20181103T111221_20181103T111436_T30TTL ...\n",
            "Exporting 20181103T111221_20181103T111436_T30TUL ...\n",
            "Exporting 20181123T111351_20181123T111435_T29TQF ...\n",
            "Exporting 20181123T111351_20181123T111435_T29TQG ...\n",
            "Exporting 20181123T111351_20181123T111435_T30TTL ...\n",
            "Exporting 20181123T111351_20181123T111435_T30TUL ...\n",
            "Exporting 20181203T111421_20181203T111421_T29TQF ...\n",
            "Exporting 20181203T111421_20181203T111421_T30TTL ...\n",
            "Exporting 20181203T111421_20181203T111421_T30TUL ...\n",
            "Exporting 20181208T111439_20181208T111437_T30TUL ...\n",
            "Exporting 20181213T111441_20181213T111442_T29TQF ...\n",
            "Exporting 20181213T111441_20181213T111442_T29TQG ...\n",
            "Exporting 20181213T111441_20181213T111442_T30TTL ...\n",
            "Exporting 20181228T111449_20181228T111820_T29TQG ...\n",
            "Exporting 20190102T111441_20190102T111444_T29TQF ...\n",
            "Exporting 20190102T111441_20190102T111444_T29TQG ...\n",
            "Exporting 20190102T111441_20190102T111444_T30TTL ...\n",
            "Exporting 20190102T111441_20190102T111444_T30TUL ...\n",
            "Exporting 20190107T111439_20190107T111438_T29TQF ...\n",
            "Exporting 20190107T111439_20190107T111438_T29TQG ...\n",
            "Exporting 20190107T111439_20190107T111438_T30TTL ...\n",
            "Exporting 20190107T111439_20190107T111438_T30TUL ...\n",
            "Exporting 20190112T111421_20190112T111436_T29TQF ...\n",
            "Exporting 20190112T111421_20190112T111436_T29TQG ...\n",
            "Exporting 20190112T111421_20190112T111436_T30TTL ...\n",
            "Exporting 20190112T111421_20190112T111436_T30TUL ...\n",
            "Exporting 20190117T111409_20190117T111410_T29TQG ...\n",
            "Exporting 20190127T111329_20190127T111328_T29TQF ...\n",
            "Exporting 20190127T111329_20190127T111328_T29TQG ...\n",
            "Exporting 20190127T111329_20190127T111328_T30TTL ...\n",
            "Exporting 20190127T111329_20190127T111328_T30TUL ...\n",
            "Exporting 20190201T111301_20190201T111300_T29TQG ...\n",
            "Exporting 20190201T111301_20190201T111300_T30TUL ...\n",
            "Exporting 20190206T111239_20190206T111757_T29TQF ...\n",
            "Exporting 20190206T111239_20190206T111757_T29TQG ...\n",
            "Exporting 20190206T111239_20190206T111757_T30TTL ...\n",
            "Exporting 20190206T111239_20190206T111757_T30TUL ...\n",
            "Exporting 20190211T111201_20190211T111437_T29TQF ...\n",
            "Exporting 20190211T111201_20190211T111437_T29TQG ...\n",
            "Exporting 20190211T111201_20190211T111437_T30TTL ...\n",
            "Exporting 20190211T111201_20190211T111437_T30TUL ...\n",
            "Exporting 20190216T111129_20190216T111505_T29TQF ...\n",
            "Exporting 20190216T111129_20190216T111505_T29TQG ...\n",
            "Exporting 20190216T111129_20190216T111505_T30TTL ...\n",
            "Exporting 20190216T111129_20190216T111505_T30TUL ...\n",
            "Exporting 20190221T111101_20190221T111436_T29TQF ...\n",
            "Exporting 20190221T111101_20190221T111436_T29TQG ...\n",
            "Exporting 20190221T111101_20190221T111436_T30TTL ...\n",
            "Exporting 20190221T111101_20190221T111436_T30TUL ...\n",
            "Exporting 20190226T111049_20190226T111048_T29TQF ...\n",
            "Exporting 20190226T111049_20190226T111048_T29TQG ...\n",
            "Exporting 20190226T111049_20190226T111048_T30TTL ...\n",
            "Exporting 20190226T111049_20190226T111048_T30TUL ...\n",
            "Exporting 20190303T110951_20190303T111817_T30TUL ...\n",
            "Exporting 20190308T110909_20190308T111627_T29TQF ...\n",
            "Exporting 20190308T110909_20190308T111627_T30TTL ...\n",
            "Exporting 20190308T110909_20190308T111627_T30TUL ...\n",
            "Exporting 20190313T110831_20190313T111836_T29TQF ...\n",
            "Exporting 20190313T110831_20190313T111836_T29TQG ...\n",
            "Exporting 20190313T110831_20190313T111836_T30TTL ...\n",
            "Exporting 20190313T110831_20190313T111836_T30TUL ...\n",
            "Exporting 20190318T110759_20190318T110800_T29TQF ...\n",
            "Exporting 20190318T110759_20190318T110800_T29TQG ...\n",
            "Exporting 20190318T110759_20190318T110800_T30TTL ...\n",
            "Exporting 20190318T110759_20190318T110800_T30TUL ...\n",
            "Exporting 20190323T110721_20190323T110800_T29TQF ...\n",
            "Exporting 20190323T110721_20190323T110800_T29TQG ...\n",
            "Exporting 20190323T110721_20190323T110800_T30TTL ...\n",
            "Exporting 20190323T110721_20190323T110800_T30TUL ...\n",
            "Exporting 20190328T111049_20190328T111608_T29TQF ...\n",
            "Exporting 20190328T111049_20190328T111608_T29TQG ...\n",
            "Exporting 20190328T111049_20190328T111608_T30TTL ...\n",
            "Exporting 20190328T111049_20190328T111608_T30TUL ...\n",
            "Exporting 20190402T110621_20190402T110826_T29TQF ...\n",
            "Exporting 20190402T110621_20190402T110826_T29TQG ...\n",
            "Exporting 20190402T110621_20190402T110826_T30TTL ...\n",
            "Exporting 20190402T110621_20190402T110826_T30TUL ...\n",
            "Exporting 20190412T110621_20190412T111313_T29TQF ...\n",
            "Exporting 20190412T110621_20190412T111313_T29TQG ...\n",
            "Exporting 20190412T110621_20190412T111313_T30TTL ...\n",
            "Exporting 20190412T110621_20190412T111313_T30TUL ...\n",
            "Exporting 20190422T110621_20190422T111343_T29TQF ...\n",
            "Exporting 20190422T110621_20190422T111343_T29TQG ...\n",
            "Exporting 20190422T110621_20190422T111343_T30TTL ...\n",
            "Exporting 20190422T110621_20190422T111343_T30TUL ...\n",
            "Exporting 20190427T110629_20190427T111242_T29TQF ...\n",
            "Exporting 20190427T110629_20190427T111242_T29TQG ...\n",
            "Exporting 20190427T110629_20190427T111242_T30TTL ...\n",
            "Exporting 20190427T110629_20190427T111242_T30TUL ...\n",
            "Exporting 20190502T110621_20190502T111339_T29TQF ...\n",
            "Exporting 20190502T110621_20190502T111339_T29TQG ...\n",
            "Exporting 20190502T110621_20190502T111339_T30TTL ...\n",
            "Exporting 20190502T110621_20190502T111339_T30TUL ...\n",
            "Exporting 20190512T110621_20190512T111315_T29TQF ...\n",
            "Exporting 20190512T110621_20190512T111315_T29TQG ...\n",
            "Exporting 20190512T110621_20190512T111315_T30TTL ...\n",
            "Exporting 20190512T110621_20190512T111315_T30TUL ...\n",
            "Exporting 20190517T110629_20190517T111526_T29TQG ...\n",
            "Exporting 20190522T110621_20190522T111926_T29TQF ...\n",
            "Exporting 20190522T110621_20190522T111926_T29TQG ...\n",
            "Exporting 20190522T110621_20190522T111926_T30TTL ...\n",
            "Exporting 20190522T110621_20190522T111926_T30TUL ...\n",
            "Exporting 20190527T110629_20190527T111243_T29TQF ...\n",
            "Exporting 20190527T110629_20190527T111243_T29TQG ...\n",
            "Exporting 20190527T110629_20190527T111243_T30TTL ...\n",
            "Exporting 20190527T110629_20190527T111243_T30TUL ...\n",
            "Exporting 20190601T110621_20190601T111704_T29TQF ...\n",
            "Exporting 20190601T110621_20190601T111704_T29TQG ...\n",
            "Exporting 20190601T110621_20190601T111704_T30TTL ...\n",
            "Exporting 20190601T110621_20190601T111704_T30TUL ...\n",
            "Exporting 20190606T110629_20190606T111434_T29TQF ...\n",
            "Exporting 20190606T110629_20190606T111434_T30TTL ...\n",
            "Exporting 20190606T110629_20190606T111434_T30TUL ...\n",
            "Exporting 20190611T110621_20190611T110955_T29TQF ...\n",
            "Exporting 20190611T110621_20190611T110955_T29TQG ...\n",
            "Exporting 20190611T110621_20190611T110955_T30TTL ...\n",
            "Exporting 20190611T110621_20190611T110955_T30TUL ...\n",
            "Exporting 20190616T110629_20190616T111311_T29TQG ...\n",
            "Exporting 20190621T110621_20190621T111340_T29TQF ...\n",
            "Exporting 20190621T110621_20190621T111340_T29TQG ...\n",
            "Exporting 20190621T110621_20190621T111340_T30TTL ...\n",
            "Exporting 20190621T110621_20190621T111340_T30TUL ...\n",
            "Exporting 20190626T110629_20190626T111243_T29TQF ...\n",
            "Exporting 20190626T110629_20190626T111243_T29TQG ...\n",
            "Exporting 20190626T110629_20190626T111243_T30TTL ...\n",
            "Exporting 20190626T110629_20190626T111243_T30TUL ...\n",
            "Exporting 20190701T110621_20190701T111753_T29TQF ...\n",
            "Exporting 20190701T110621_20190701T111753_T29TQG ...\n",
            "Exporting 20190701T110621_20190701T111753_T30TTL ...\n",
            "Exporting 20190701T110621_20190701T111753_T30TUL ...\n",
            "Exporting 20190706T110629_20190706T111442_T29TQF ...\n",
            "Exporting 20190706T110629_20190706T111442_T29TQG ...\n",
            "Exporting 20190706T110629_20190706T111442_T30TTL ...\n",
            "Exporting 20190706T110629_20190706T111442_T30TUL ...\n",
            "Exporting 20190711T110631_20190711T111845_T29TQF ...\n",
            "Exporting 20190711T110631_20190711T111845_T29TQG ...\n",
            "Exporting 20190711T110631_20190711T111845_T30TTL ...\n",
            "Exporting 20190711T110631_20190711T111845_T30TUL ...\n",
            "Exporting 20190716T110629_20190716T111721_T29TQF ...\n",
            "Exporting 20190716T110629_20190716T111721_T29TQG ...\n",
            "Exporting 20190716T110629_20190716T111721_T30TTL ...\n",
            "Exporting 20190716T110629_20190716T111721_T30TUL ...\n",
            "Exporting 20190721T110631_20190721T111758_T29TQF ...\n",
            "Exporting 20190721T110631_20190721T111758_T29TQG ...\n",
            "Exporting 20190721T110631_20190721T111758_T30TTL ...\n",
            "Exporting 20190721T110631_20190721T111758_T30TUL ...\n",
            "Exporting 20190726T110629_20190726T111240_T29TQF ...\n",
            "Exporting 20190726T110629_20190726T111240_T29TQG ...\n",
            "Exporting 20190726T110629_20190726T111240_T30TTL ...\n",
            "Exporting 20190726T110629_20190726T111240_T30TUL ...\n",
            "Exporting 20190731T110621_20190731T111742_T30TUL ...\n",
            "Exporting 20190805T110629_20190805T111336_T29TQF ...\n",
            "Exporting 20190805T110629_20190805T111336_T29TQG ...\n",
            "Exporting 20190805T110629_20190805T111336_T30TTL ...\n",
            "Exporting 20190805T110629_20190805T111336_T30TUL ...\n",
            "Exporting 20190810T110621_20190810T110957_T29TQF ...\n",
            "Exporting 20190810T110621_20190810T110957_T29TQG ...\n",
            "Exporting 20190810T110621_20190810T110957_T30TTL ...\n",
            "Exporting 20190810T110621_20190810T110957_T30TUL ...\n",
            "Exporting 20190815T110629_20190815T111321_T29TQF ...\n",
            "Exporting 20190815T110629_20190815T111321_T29TQG ...\n",
            "Exporting 20190815T110629_20190815T111321_T30TTL ...\n",
            "Exporting 20190815T110629_20190815T111321_T30TUL ...\n",
            "Exporting 20190820T110621_20190820T111346_T29TQF ...\n",
            "Exporting 20190820T110621_20190820T111346_T29TQG ...\n",
            "Exporting 20190820T110621_20190820T111346_T30TTL ...\n",
            "Exporting 20190820T110621_20190820T111346_T30TUL ...\n",
            "Exporting 20190825T110629_20190825T111008_T30TUL ...\n",
            "Exporting 20190830T110621_20190830T111700_T29TQF ...\n",
            "Exporting 20190830T110621_20190830T111700_T29TQG ...\n",
            "Exporting 20190830T110621_20190830T111700_T30TTL ...\n",
            "Exporting 20190830T110621_20190830T111700_T30TUL ...\n",
            "Exporting 20190904T110619_20190904T110850_T29TQF ...\n",
            "Exporting 20190904T110619_20190904T110850_T29TQG ...\n",
            "Exporting 20190904T110619_20190904T110850_T30TTL ...\n",
            "Exporting 20190904T110619_20190904T110850_T30TUL ...\n",
            "Exporting 20190909T110621_20190909T111838_T29TQF ...\n",
            "Exporting 20190909T110621_20190909T111838_T30TTL ...\n",
            "Exporting 20190909T110621_20190909T111838_T30TUL ...\n",
            "Exporting 20190914T110649_20190914T110919_T29TQF ...\n",
            "Exporting 20190914T110649_20190914T110919_T29TQG ...\n",
            "Exporting 20190914T110649_20190914T110919_T30TTL ...\n",
            "Exporting 20190919T110721_20190919T111421_T29TQF ...\n",
            "Exporting 20190919T110721_20190919T111421_T29TQG ...\n",
            "Exporting 20190919T110721_20190919T111421_T30TTL ...\n",
            "Exporting 20190919T110721_20190919T111421_T30TUL ...\n",
            "Exporting 20190924T110759_20190924T111931_T29TQG ...\n",
            "Exporting 20190929T110841_20190929T111415_T29TQF ...\n",
            "Exporting 20190929T110841_20190929T111415_T29TQG ...\n",
            "Exporting 20190929T110841_20190929T111415_T30TTL ...\n",
            "Exporting 20190929T110841_20190929T111415_T30TUL ...\n",
            "Exporting 20191004T110909_20191004T111852_T29TQF ...\n",
            "Exporting 20191004T110909_20191004T111852_T29TQG ...\n",
            "Exporting 20191004T110909_20191004T111852_T30TTL ...\n",
            "Exporting 20191004T110909_20191004T111852_T30TUL ...\n",
            "Exporting 20191009T110951_20191009T110953_T29TQF ...\n",
            "Exporting 20191009T110951_20191009T110953_T29TQG ...\n",
            "Exporting 20191009T110951_20191009T110953_T30TTL ...\n",
            "Exporting 20191009T110951_20191009T110953_T30TUL ...\n",
            "Exporting 20191014T111019_20191014T111715_T30TUL ...\n",
            "Exporting 20191019T111101_20191019T111446_T30TUL ...\n",
            "Exporting 20191024T111049_20191024T111604_T29TQF ...\n",
            "Exporting 20191024T111049_20191024T111604_T30TTL ...\n",
            "Exporting 20191024T111049_20191024T111604_T30TUL ...\n",
            "Exporting 20191029T111201_20191029T111443_T29TQF ...\n",
            "Exporting 20191029T111201_20191029T111443_T29TQG ...\n",
            "Exporting 20191029T111201_20191029T111443_T30TTL ...\n",
            "Exporting 20191029T111201_20191029T111443_T30TUL ...\n",
            "Exporting 20191103T111129_20191103T111443_T29TQG ...\n",
            "Exporting 20191103T111129_20191103T111443_T30TUL ...\n",
            "Exporting 20191108T111251_20191108T111445_T29TQF ...\n",
            "Exporting 20191108T111251_20191108T111445_T29TQG ...\n",
            "Exporting 20191108T111251_20191108T111445_T30TTL ...\n",
            "Exporting 20191108T111251_20191108T111445_T30TUL ...\n",
            "Exporting 20191113T111219_20191113T111904_T29TQF ...\n",
            "Exporting 20191113T111219_20191113T111904_T29TQG ...\n",
            "Exporting 20191113T111219_20191113T111904_T30TTL ...\n",
            "Exporting 20191113T111219_20191113T111904_T30TUL ...\n",
            "Exporting 20191118T111341_20191118T111444_T29TQF ...\n",
            "Exporting 20191118T111341_20191118T111444_T29TQG ...\n",
            "Exporting 20191118T111341_20191118T111444_T30TTL ...\n",
            "Exporting 20191118T111341_20191118T111444_T30TUL ...\n",
            "Exporting 20191123T111259_20191123T111438_T29TQF ...\n",
            "Exporting 20191123T111259_20191123T111438_T29TQG ...\n",
            "Exporting 20191123T111259_20191123T111438_T30TTL ...\n",
            "Exporting 20191123T111259_20191123T111438_T30TUL ...\n",
            "Exporting 20191203T111329_20191203T111436_T29TQF ...\n",
            "Exporting 20191203T111329_20191203T111436_T29TQG ...\n",
            "Exporting 20191203T111329_20191203T111436_T30TTL ...\n",
            "Exporting 20191203T111329_20191203T111436_T30TUL ...\n",
            "Exporting 20191218T111451_20191218T111448_T30TUL ...\n",
            "Exporting 20191228T111451_20191228T111449_T29TQF ...\n",
            "Exporting 20191228T111451_20191228T111449_T29TQG ...\n",
            "Exporting 20191228T111451_20191228T111449_T30TTL ...\n",
            "Exporting 20191228T111451_20191228T111449_T30TUL ...\n",
            "Exporting 20200107T111431_20200107T111434_T30TUL ...\n",
            "Exporting 20200112T111329_20200112T111437_T29TQF ...\n",
            "Exporting 20200112T111329_20200112T111437_T30TTL ...\n",
            "Exporting 20200112T111329_20200112T111437_T30TUL ...\n",
            "Exporting 20200117T111411_20200117T111434_T29TQG ...\n",
            "Exporting 20200122T111249_20200122T111436_T29TQF ...\n",
            "Exporting 20200122T111249_20200122T111436_T29TQG ...\n",
            "Exporting 20200122T111249_20200122T111436_T30TTL ...\n",
            "Exporting 20200206T111231_20200206T111434_T29TQF ...\n",
            "Exporting 20200206T111231_20200206T111434_T29TQG ...\n",
            "Exporting 20200206T111231_20200206T111434_T30TTL ...\n",
            "Exporting 20200206T111231_20200206T111434_T30TUL ...\n",
            "Exporting 20200211T111109_20200211T111317_T29TQG ...\n",
            "Exporting 20200216T111131_20200216T111437_T29TQF ...\n",
            "Exporting 20200216T111131_20200216T111437_T30TTL ...\n",
            "Exporting 20200216T111131_20200216T111437_T30TUL ...\n",
            "Exporting 20200221T110959_20200221T111742_T29TQF ...\n",
            "Exporting 20200221T110959_20200221T111742_T29TQG ...\n",
            "Exporting 20200221T110959_20200221T111742_T30TTL ...\n",
            "Exporting 20200221T110959_20200221T111742_T30TUL ...\n",
            "Exporting 20200226T111051_20200226T111642_T29TQF ...\n",
            "Exporting 20200226T111051_20200226T111642_T29TQG ...\n",
            "Exporting 20200226T111051_20200226T111642_T30TTL ...\n",
            "Exporting 20200226T111051_20200226T111642_T30TUL ...\n",
            "Exporting 20200302T110849_20200302T111641_T29TQF ...\n",
            "Exporting 20200302T110849_20200302T111641_T29TQG ...\n",
            "Exporting 20200302T110849_20200302T111641_T30TTL ...\n",
            "Exporting 20200302T110849_20200302T111641_T30TUL ...\n",
            "Exporting 20200307T110911_20200307T111438_T29TQF ...\n",
            "Exporting 20200307T110911_20200307T111438_T30TTL ...\n",
            "Exporting 20200327T110651_20200327T111753_T29TQF ...\n",
            "Exporting 20200327T110651_20200327T111753_T29TQG ...\n",
            "Exporting 20200327T110651_20200327T111753_T30TTL ...\n",
            "Exporting 20200327T110651_20200327T111753_T30TUL ...\n",
            "Exporting 20200411T110619_20200411T111238_T30TTL ...\n",
            "Exporting 20200506T110621_20200506T110845_T29TQG ...\n",
            "Exporting 20200506T110621_20200506T110845_T30TUL ...\n",
            "Exporting 20200511T110619_20200511T111534_T29TQG ...\n",
            "Exporting 20200511T110619_20200511T111534_T30TUL ...\n",
            "Exporting 20200516T110631_20200516T111555_T29TQF ...\n",
            "Exporting 20200516T110631_20200516T111555_T29TQG ...\n",
            "Exporting 20200516T110631_20200516T111555_T30TTL ...\n",
            "Exporting 20200516T110631_20200516T111555_T30TUL ...\n",
            "Exporting 20200521T110619_20200521T111355_T29TQF ...\n",
            "Exporting 20200521T110619_20200521T111355_T29TQG ...\n",
            "Exporting 20200521T110619_20200521T111355_T30TTL ...\n",
            "Exporting 20200521T110619_20200521T111355_T30TUL ...\n",
            "Exporting 20200526T110631_20200526T111712_T29TQF ...\n",
            "Exporting 20200526T110631_20200526T111712_T29TQG ...\n",
            "Exporting 20200526T110631_20200526T111712_T30TTL ...\n",
            "Exporting 20200526T110631_20200526T111712_T30TUL ...\n",
            "Exporting 20200531T110619_20200531T111348_T29TQF ...\n",
            "Exporting 20200531T110619_20200531T111348_T30TTL ...\n",
            "Exporting 20200605T110631_20200605T111907_T29TQF ...\n",
            "Exporting 20200605T110631_20200605T111907_T29TQG ...\n",
            "Exporting 20200605T110631_20200605T111907_T30TTL ...\n",
            "Exporting 20200605T110631_20200605T111907_T30TUL ...\n",
            "Exporting 20200610T110619_20200610T111411_T29TQF ...\n",
            "Exporting 20200610T110619_20200610T111411_T29TQG ...\n",
            "Exporting 20200610T110619_20200610T111411_T30TTL ...\n",
            "Exporting 20200610T110619_20200610T111411_T30TUL ...\n",
            "Exporting 20200615T110631_20200615T111321_T29TQF ...\n",
            "Exporting 20200615T110631_20200615T111321_T30TTL ...\n",
            "Exporting 20200615T110631_20200615T111321_T30TUL ...\n",
            "Exporting 20200620T110619_20200620T111013_T29TQF ...\n",
            "Exporting 20200620T110619_20200620T111013_T29TQG ...\n",
            "Exporting 20200620T110619_20200620T111013_T30TTL ...\n",
            "Exporting 20200620T110619_20200620T111013_T30TUL ...\n",
            "Exporting 20200625T110631_20200625T111446_T29TQF ...\n",
            "Exporting 20200625T110631_20200625T111446_T29TQG ...\n",
            "Exporting 20200625T110631_20200625T111446_T30TTL ...\n",
            "Exporting 20200625T110631_20200625T111446_T30TUL ...\n",
            "Exporting 20200630T110619_20200630T110734_T29TQF ...\n",
            "Exporting 20200630T110619_20200630T110734_T29TQG ...\n",
            "Exporting 20200630T110619_20200630T110734_T30TTL ...\n",
            "Exporting 20200630T110619_20200630T110734_T30TUL ...\n",
            "Exporting 20200705T110621_20200705T111905_T29TQF ...\n",
            "Exporting 20200705T110621_20200705T111905_T29TQG ...\n",
            "Exporting 20200705T110621_20200705T111905_T30TTL ...\n",
            "Exporting 20200705T110621_20200705T111905_T30TUL ...\n",
            "Exporting 20200710T110619_20200710T111540_T29TQF ...\n",
            "Exporting 20200710T110619_20200710T111540_T29TQG ...\n",
            "Exporting 20200710T110619_20200710T111540_T30TTL ...\n",
            "Exporting 20200710T110619_20200710T111540_T30TUL ...\n",
            "Exporting 20200715T110621_20200715T110914_T29TQF ...\n",
            "Exporting 20200715T110621_20200715T110914_T29TQG ...\n",
            "Exporting 20200715T110621_20200715T110914_T30TTL ...\n",
            "Exporting 20200715T110621_20200715T110914_T30TUL ...\n",
            "Exporting 20200720T110619_20200720T111156_T29TQF ...\n",
            "Exporting 20200720T110619_20200720T111156_T29TQG ...\n",
            "Exporting 20200720T110619_20200720T111156_T30TTL ...\n",
            "Exporting 20200720T110619_20200720T111156_T30TUL ...\n",
            "Exporting 20200725T110631_20200725T111714_T29TQF ...\n",
            "Exporting 20200725T110631_20200725T111714_T29TQG ...\n",
            "Exporting 20200725T110631_20200725T111714_T30TTL ...\n",
            "Exporting 20200725T110631_20200725T111714_T30TUL ...\n",
            "Exporting 20200730T110619_20200730T111530_T29TQF ...\n",
            "Exporting 20200730T110619_20200730T111530_T29TQG ...\n",
            "Exporting 20200730T110619_20200730T111530_T30TTL ...\n",
            "Exporting 20200730T110619_20200730T111530_T30TUL ...\n",
            "Exporting 20200804T110631_20200804T111447_T29TQF ...\n",
            "Exporting 20200804T110631_20200804T111447_T29TQG ...\n",
            "Exporting 20200804T110631_20200804T111447_T30TTL ...\n",
            "Exporting 20200804T110631_20200804T111447_T30TUL ...\n",
            "Exporting 20200809T110629_20200809T111347_T29TQF ...\n",
            "Exporting 20200809T110629_20200809T111347_T29TQG ...\n",
            "Exporting 20200809T110629_20200809T111347_T30TTL ...\n",
            "Exporting 20200809T110629_20200809T111347_T30TUL ...\n",
            "Exporting 20200814T110631_20200814T111447_T29TQF ...\n",
            "Exporting 20200814T110631_20200814T111447_T29TQG ...\n",
            "Exporting 20200814T110631_20200814T111447_T30TTL ...\n",
            "Exporting 20200814T110631_20200814T111447_T30TUL ...\n",
            "Exporting 20200819T110629_20200819T110945_T29TQF ...\n",
            "Exporting 20200819T110629_20200819T110945_T29TQG ...\n",
            "Exporting 20200819T110629_20200819T110945_T30TTL ...\n",
            "Exporting 20200819T110629_20200819T110945_T30TUL ...\n",
            "Exporting 20200824T110631_20200824T111345_T29TQF ...\n",
            "Exporting 20200824T110631_20200824T111345_T29TQG ...\n",
            "Exporting 20200824T110631_20200824T111345_T30TTL ...\n",
            "Exporting 20200824T110631_20200824T111345_T30TUL ...\n",
            "Exporting 20200829T110629_20200829T110945_T29TQF ...\n",
            "Exporting 20200829T110629_20200829T110945_T30TTL ...\n",
            "Exporting 20200829T110629_20200829T110945_T30TUL ...\n",
            "Exporting 20200903T110621_20200903T111453_T29TQF ...\n",
            "Exporting 20200903T110621_20200903T111453_T29TQG ...\n",
            "Exporting 20200903T110621_20200903T111453_T30TTL ...\n",
            "Exporting 20200903T110621_20200903T111453_T30TUL ...\n",
            "Exporting 20200908T110619_20200908T111404_T29TQF ...\n",
            "Exporting 20200908T110619_20200908T111404_T30TTL ...\n",
            "Exporting 20200908T110619_20200908T111404_T30TUL ...\n",
            "Exporting 20200913T110701_20200913T111451_T29TQG ...\n",
            "Exporting 20200918T110639_20200918T110849_T29TQF ...\n",
            "Exporting 20200918T110639_20200918T110849_T29TQG ...\n",
            "Exporting 20200918T110639_20200918T110849_T30TTL ...\n",
            "Exporting 20200918T110639_20200918T110849_T30TUL ...\n",
            "Exporting 20200928T110739_20200928T110901_T29TQF ...\n",
            "Exporting 20200928T110739_20200928T110901_T29TQG ...\n",
            "Exporting 20200928T110739_20200928T110901_T30TTL ...\n",
            "Exporting 20200928T110739_20200928T110901_T30TUL ...\n",
            "Exporting 20201003T110911_20201003T111452_T29TQF ...\n",
            "Exporting 20201003T110911_20201003T111452_T29TQG ...\n",
            "Exporting 20201003T110911_20201003T111452_T30TTL ...\n",
            "Exporting 20201003T110911_20201003T111452_T30TUL ...\n",
            "Exporting 20201013T111021_20201013T111451_T29TQF ...\n",
            "Exporting 20201013T111021_20201013T111451_T29TQG ...\n",
            "Exporting 20201013T111021_20201013T111451_T30TTL ...\n",
            "Exporting 20201013T111021_20201013T111451_T30TUL ...\n",
            "Exporting 20201018T110959_20201018T111112_T29TQF ...\n",
            "Exporting 20201018T110959_20201018T111112_T29TQG ...\n",
            "Exporting 20201018T110959_20201018T111112_T30TTL ...\n",
            "Exporting 20201023T111131_20201023T111453_T29TQF ...\n",
            "Exporting 20201023T111131_20201023T111453_T29TQG ...\n",
            "Exporting 20201023T111131_20201023T111453_T30TTL ...\n",
            "Exporting 20201023T111131_20201023T111453_T30TUL ...\n",
            "Exporting 20201102T111231_20201102T111451_T29TQF ...\n",
            "Exporting 20201102T111231_20201102T111451_T29TQG ...\n",
            "Exporting 20201102T111231_20201102T111451_T30TTL ...\n",
            "Exporting 20201107T111249_20201107T111249_T29TQG ...\n",
            "Exporting 20201117T111339_20201117T111448_T29TQF ...\n",
            "Exporting 20201117T111339_20201117T111448_T29TQG ...\n",
            "Exporting 20201117T111339_20201117T111448_T30TTL ...\n",
            "Exporting 20201117T111339_20201117T111448_T30TUL ...\n",
            "Exporting 20201122T111401_20201122T111449_T29TQF ...\n",
            "Exporting 20201122T111401_20201122T111449_T29TQG ...\n",
            "Exporting 20201122T111401_20201122T111449_T30TTL ...\n",
            "Exporting 20201122T111401_20201122T111449_T30TUL ...\n",
            "Exporting 20201207T111439_20201207T111438_T29TQG ...\n",
            "Exporting 20201212T111451_20201212T111447_T29TQF ...\n",
            "Exporting 20201212T111451_20201212T111447_T29TQG ...\n",
            "Exporting 20201212T111451_20201212T111447_T30TTL ...\n",
            "Exporting 20201212T111451_20201212T111447_T30TUL ...\n",
            "Exporting 20201222T111501_20201222T111456_T30TUL ...\n"
          ],
          "name": "stdout"
        }
      ]
    },
    {
      "cell_type": "markdown",
      "metadata": {
        "id": "-gcauq57Rwx-"
      },
      "source": [
        "# 3- Dataset :\n",
        "Synchronize the field measurement with images dates"
      ]
    },
    {
      "cell_type": "code",
      "metadata": {
        "id": "QkDIEBhUR7XC"
      },
      "source": [
        "## Requirements :\n",
        "\n",
        "from osgeo import gdal\n",
        "import sys\n",
        "import os"
      ],
      "execution_count": null,
      "outputs": []
    },
    {
      "cell_type": "code",
      "metadata": {
        "id": "PK8G5INiSCwn"
      },
      "source": [
        "## Read the data from the 2 stations :\n",
        "\n",
        "df1 = pd.read_csv(\"/content/SMC_dataset_2017to2020_Area3.csv\")"
      ],
      "execution_count": null,
      "outputs": []
    },
    {
      "cell_type": "code",
      "metadata": {
        "id": "Sf6BJfUfSHfL",
        "colab": {
          "base_uri": "https://localhost:8080/",
          "height": 228
        },
        "outputId": "67a6b98c-ed92-46bb-9ca6-5fcab05bb051"
      },
      "source": [
        "df1.head() "
      ],
      "execution_count": null,
      "outputs": [
        {
          "output_type": "execute_result",
          "data": {
            "text/html": [
              "<div>\n",
              "<style scoped>\n",
              "    .dataframe tbody tr th:only-of-type {\n",
              "        vertical-align: middle;\n",
              "    }\n",
              "\n",
              "    .dataframe tbody tr th {\n",
              "        vertical-align: top;\n",
              "    }\n",
              "\n",
              "    .dataframe thead th {\n",
              "        text-align: right;\n",
              "    }\n",
              "</style>\n",
              "<table border=\"1\" class=\"dataframe\">\n",
              "  <thead>\n",
              "    <tr style=\"text-align: right;\">\n",
              "      <th></th>\n",
              "      <th>date_time</th>\n",
              "      <th>soil_moisture_depth_0.050000</th>\n",
              "      <th>depth</th>\n",
              "    </tr>\n",
              "  </thead>\n",
              "  <tbody>\n",
              "    <tr>\n",
              "      <th>0</th>\n",
              "      <td>2017-03-01 00:00:00</td>\n",
              "      <td>0.156</td>\n",
              "      <td>0.05</td>\n",
              "    </tr>\n",
              "    <tr>\n",
              "      <th>1</th>\n",
              "      <td>2017-03-01 01:00:00</td>\n",
              "      <td>0.156</td>\n",
              "      <td>0.05</td>\n",
              "    </tr>\n",
              "    <tr>\n",
              "      <th>2</th>\n",
              "      <td>2017-03-01 02:00:00</td>\n",
              "      <td>0.156</td>\n",
              "      <td>0.05</td>\n",
              "    </tr>\n",
              "    <tr>\n",
              "      <th>3</th>\n",
              "      <td>2017-03-01 03:00:00</td>\n",
              "      <td>0.155</td>\n",
              "      <td>0.05</td>\n",
              "    </tr>\n",
              "    <tr>\n",
              "      <th>4</th>\n",
              "      <td>2017-03-01 04:00:00</td>\n",
              "      <td>0.155</td>\n",
              "      <td>0.05</td>\n",
              "    </tr>\n",
              "  </tbody>\n",
              "</table>\n",
              "</div>"
            ],
            "text/plain": [
              "             date_time  soil_moisture_depth_0.050000  depth\n",
              "0  2017-03-01 00:00:00                         0.156   0.05\n",
              "1  2017-03-01 01:00:00                         0.156   0.05\n",
              "2  2017-03-01 02:00:00                         0.156   0.05\n",
              "3  2017-03-01 03:00:00                         0.155   0.05\n",
              "4  2017-03-01 04:00:00                         0.155   0.05"
            ]
          },
          "metadata": {
            "tags": []
          },
          "execution_count": 59
        }
      ]
    },
    {
      "cell_type": "code",
      "metadata": {
        "id": "KdtZ5mIkSHOy",
        "colab": {
          "base_uri": "https://localhost:8080/"
        },
        "outputId": "4dbabba2-c5fe-43eb-f563-30b2519a31d2"
      },
      "source": [
        "df1.columns "
      ],
      "execution_count": null,
      "outputs": [
        {
          "output_type": "execute_result",
          "data": {
            "text/plain": [
              "Index(['date_time', 'soil_moisture_depth_0.050000', 'depth'], dtype='object')"
            ]
          },
          "metadata": {
            "tags": []
          },
          "execution_count": 60
        }
      ]
    },
    {
      "cell_type": "code",
      "metadata": {
        "id": "0Do6zMDTSQpu",
        "colab": {
          "base_uri": "https://localhost:8080/",
          "height": 323
        },
        "outputId": "2931e675-3d57-4f5b-9a1f-b929432a7a02"
      },
      "source": [
        "df1.describe()"
      ],
      "execution_count": null,
      "outputs": [
        {
          "output_type": "execute_result",
          "data": {
            "text/html": [
              "<div>\n",
              "<style scoped>\n",
              "    .dataframe tbody tr th:only-of-type {\n",
              "        vertical-align: middle;\n",
              "    }\n",
              "\n",
              "    .dataframe tbody tr th {\n",
              "        vertical-align: top;\n",
              "    }\n",
              "\n",
              "    .dataframe thead th {\n",
              "        text-align: right;\n",
              "    }\n",
              "</style>\n",
              "<table border=\"1\" class=\"dataframe\">\n",
              "  <thead>\n",
              "    <tr style=\"text-align: right;\">\n",
              "      <th></th>\n",
              "      <th>soil_moisture_depth_0.050000</th>\n",
              "      <th>depth</th>\n",
              "    </tr>\n",
              "  </thead>\n",
              "  <tbody>\n",
              "    <tr>\n",
              "      <th>count</th>\n",
              "      <td>33198.000000</td>\n",
              "      <td>3.319800e+04</td>\n",
              "    </tr>\n",
              "    <tr>\n",
              "      <th>mean</th>\n",
              "      <td>0.120527</td>\n",
              "      <td>5.000000e-02</td>\n",
              "    </tr>\n",
              "    <tr>\n",
              "      <th>std</th>\n",
              "      <td>0.051054</td>\n",
              "      <td>2.897726e-14</td>\n",
              "    </tr>\n",
              "    <tr>\n",
              "      <th>min</th>\n",
              "      <td>0.040000</td>\n",
              "      <td>5.000000e-02</td>\n",
              "    </tr>\n",
              "    <tr>\n",
              "      <th>25%</th>\n",
              "      <td>0.073000</td>\n",
              "      <td>5.000000e-02</td>\n",
              "    </tr>\n",
              "    <tr>\n",
              "      <th>50%</th>\n",
              "      <td>0.115000</td>\n",
              "      <td>5.000000e-02</td>\n",
              "    </tr>\n",
              "    <tr>\n",
              "      <th>75%</th>\n",
              "      <td>0.168000</td>\n",
              "      <td>5.000000e-02</td>\n",
              "    </tr>\n",
              "    <tr>\n",
              "      <th>max</th>\n",
              "      <td>0.271000</td>\n",
              "      <td>5.000000e-02</td>\n",
              "    </tr>\n",
              "  </tbody>\n",
              "</table>\n",
              "</div>"
            ],
            "text/plain": [
              "       soil_moisture_depth_0.050000         depth\n",
              "count                  33198.000000  3.319800e+04\n",
              "mean                       0.120527  5.000000e-02\n",
              "std                        0.051054  2.897726e-14\n",
              "min                        0.040000  5.000000e-02\n",
              "25%                        0.073000  5.000000e-02\n",
              "50%                        0.115000  5.000000e-02\n",
              "75%                        0.168000  5.000000e-02\n",
              "max                        0.271000  5.000000e-02"
            ]
          },
          "metadata": {
            "tags": []
          },
          "execution_count": 61
        }
      ]
    },
    {
      "cell_type": "code",
      "metadata": {
        "id": "WeNOlNjgSG_a",
        "colab": {
          "base_uri": "https://localhost:8080/"
        },
        "outputId": "3f7be982-ea04-45d5-a234-348cf48701d9"
      },
      "source": [
        "## split dates and hours :\n",
        "\n",
        "df1['date_time'][1].split(\" \") "
      ],
      "execution_count": null,
      "outputs": [
        {
          "output_type": "execute_result",
          "data": {
            "text/plain": [
              "['2017-03-01', '01:00:00']"
            ]
          },
          "metadata": {
            "tags": []
          },
          "execution_count": 62
        }
      ]
    },
    {
      "cell_type": "code",
      "metadata": {
        "id": "Z4SXYErUSGuW"
      },
      "source": [
        "## Add hours column \n",
        "\n",
        "df1[\"hour\"] = \"\"\n",
        "\n",
        "\n",
        "for i in range (len(df1)):\n",
        "  df1[\"hour\"][i]=df1['date_time'][i].split(\" \")[1]\n",
        "  df1[\"date_time\"][i]=df1['date_time'][i].split(\" \")[0]\n",
        "  "
      ],
      "execution_count": null,
      "outputs": []
    },
    {
      "cell_type": "code",
      "metadata": {
        "id": "CMaXlVVySGii",
        "colab": {
          "base_uri": "https://localhost:8080/",
          "height": 228
        },
        "outputId": "79b0e3a8-28c3-4ca0-f13c-6eb06d98b01c"
      },
      "source": [
        "df1.head()"
      ],
      "execution_count": null,
      "outputs": [
        {
          "output_type": "execute_result",
          "data": {
            "text/html": [
              "<div>\n",
              "<style scoped>\n",
              "    .dataframe tbody tr th:only-of-type {\n",
              "        vertical-align: middle;\n",
              "    }\n",
              "\n",
              "    .dataframe tbody tr th {\n",
              "        vertical-align: top;\n",
              "    }\n",
              "\n",
              "    .dataframe thead th {\n",
              "        text-align: right;\n",
              "    }\n",
              "</style>\n",
              "<table border=\"1\" class=\"dataframe\">\n",
              "  <thead>\n",
              "    <tr style=\"text-align: right;\">\n",
              "      <th></th>\n",
              "      <th>date_time</th>\n",
              "      <th>soil_moisture_depth_0.050000</th>\n",
              "      <th>depth</th>\n",
              "      <th>hour</th>\n",
              "    </tr>\n",
              "  </thead>\n",
              "  <tbody>\n",
              "    <tr>\n",
              "      <th>0</th>\n",
              "      <td>2017-03-01</td>\n",
              "      <td>0.156</td>\n",
              "      <td>0.05</td>\n",
              "      <td>00:00:00</td>\n",
              "    </tr>\n",
              "    <tr>\n",
              "      <th>1</th>\n",
              "      <td>2017-03-01</td>\n",
              "      <td>0.156</td>\n",
              "      <td>0.05</td>\n",
              "      <td>01:00:00</td>\n",
              "    </tr>\n",
              "    <tr>\n",
              "      <th>2</th>\n",
              "      <td>2017-03-01</td>\n",
              "      <td>0.156</td>\n",
              "      <td>0.05</td>\n",
              "      <td>02:00:00</td>\n",
              "    </tr>\n",
              "    <tr>\n",
              "      <th>3</th>\n",
              "      <td>2017-03-01</td>\n",
              "      <td>0.155</td>\n",
              "      <td>0.05</td>\n",
              "      <td>03:00:00</td>\n",
              "    </tr>\n",
              "    <tr>\n",
              "      <th>4</th>\n",
              "      <td>2017-03-01</td>\n",
              "      <td>0.155</td>\n",
              "      <td>0.05</td>\n",
              "      <td>04:00:00</td>\n",
              "    </tr>\n",
              "  </tbody>\n",
              "</table>\n",
              "</div>"
            ],
            "text/plain": [
              "    date_time  soil_moisture_depth_0.050000  depth      hour\n",
              "0  2017-03-01                         0.156   0.05  00:00:00\n",
              "1  2017-03-01                         0.156   0.05  01:00:00\n",
              "2  2017-03-01                         0.156   0.05  02:00:00\n",
              "3  2017-03-01                         0.155   0.05  03:00:00\n",
              "4  2017-03-01                         0.155   0.05  04:00:00"
            ]
          },
          "metadata": {
            "tags": []
          },
          "execution_count": 64
        }
      ]
    },
    {
      "cell_type": "code",
      "metadata": {
        "id": "9gA57C8GSGUa"
      },
      "source": [
        "Rdataset = pd.DataFrame(columns=['date_time', 'soil_moisture_depth_0.05','Image_name'])"
      ],
      "execution_count": null,
      "outputs": []
    },
    {
      "cell_type": "code",
      "metadata": {
        "id": "7s_sd2p9z-0k"
      },
      "source": [
        "## Selection of the max value on the day for each image :\n",
        "\n",
        "L_max = []\n",
        "for e in df1['date_time'].unique() : \n",
        "  L_mid = list(df1[df1['date_time']==e]['soil_moisture_depth_0.050000'])\n",
        "  L_max.append(max(L_mid))\n",
        "L_date = df1['date_time'].unique()"
      ],
      "execution_count": null,
      "outputs": []
    },
    {
      "cell_type": "code",
      "metadata": {
        "id": "FUwwKXBySl-M",
        "colab": {
          "base_uri": "https://localhost:8080/",
          "height": 323
        },
        "outputId": "e148bf55-927a-47f3-841e-3104ef485a6f"
      },
      "source": [
        "Rdataset['date_time'] = L_date\n",
        "Rdataset['soil_moisture_depth_0.05'] = L_max\n",
        "Rdataset.describe()"
      ],
      "execution_count": null,
      "outputs": [
        {
          "output_type": "execute_result",
          "data": {
            "text/html": [
              "<div>\n",
              "<style scoped>\n",
              "    .dataframe tbody tr th:only-of-type {\n",
              "        vertical-align: middle;\n",
              "    }\n",
              "\n",
              "    .dataframe tbody tr th {\n",
              "        vertical-align: top;\n",
              "    }\n",
              "\n",
              "    .dataframe thead th {\n",
              "        text-align: right;\n",
              "    }\n",
              "</style>\n",
              "<table border=\"1\" class=\"dataframe\">\n",
              "  <thead>\n",
              "    <tr style=\"text-align: right;\">\n",
              "      <th></th>\n",
              "      <th>soil_moisture_depth_0.05</th>\n",
              "    </tr>\n",
              "  </thead>\n",
              "  <tbody>\n",
              "    <tr>\n",
              "      <th>count</th>\n",
              "      <td>1401.000000</td>\n",
              "    </tr>\n",
              "    <tr>\n",
              "      <th>mean</th>\n",
              "      <td>0.128318</td>\n",
              "    </tr>\n",
              "    <tr>\n",
              "      <th>std</th>\n",
              "      <td>0.051830</td>\n",
              "    </tr>\n",
              "    <tr>\n",
              "      <th>min</th>\n",
              "      <td>0.047000</td>\n",
              "    </tr>\n",
              "    <tr>\n",
              "      <th>25%</th>\n",
              "      <td>0.081000</td>\n",
              "    </tr>\n",
              "    <tr>\n",
              "      <th>50%</th>\n",
              "      <td>0.122000</td>\n",
              "    </tr>\n",
              "    <tr>\n",
              "      <th>75%</th>\n",
              "      <td>0.172000</td>\n",
              "    </tr>\n",
              "    <tr>\n",
              "      <th>max</th>\n",
              "      <td>0.271000</td>\n",
              "    </tr>\n",
              "  </tbody>\n",
              "</table>\n",
              "</div>"
            ],
            "text/plain": [
              "       soil_moisture_depth_0.05\n",
              "count               1401.000000\n",
              "mean                   0.128318\n",
              "std                    0.051830\n",
              "min                    0.047000\n",
              "25%                    0.081000\n",
              "50%                    0.122000\n",
              "75%                    0.172000\n",
              "max                    0.271000"
            ]
          },
          "metadata": {
            "tags": []
          },
          "execution_count": 68
        }
      ]
    },
    {
      "cell_type": "code",
      "metadata": {
        "colab": {
          "base_uri": "https://localhost:8080/",
          "height": 228
        },
        "id": "ZopgEQbRY3qp",
        "outputId": "0a7d4746-d5bd-40d1-fef2-138f017864c3"
      },
      "source": [
        "Rdataset.head()"
      ],
      "execution_count": null,
      "outputs": [
        {
          "output_type": "execute_result",
          "data": {
            "text/html": [
              "<div>\n",
              "<style scoped>\n",
              "    .dataframe tbody tr th:only-of-type {\n",
              "        vertical-align: middle;\n",
              "    }\n",
              "\n",
              "    .dataframe tbody tr th {\n",
              "        vertical-align: top;\n",
              "    }\n",
              "\n",
              "    .dataframe thead th {\n",
              "        text-align: right;\n",
              "    }\n",
              "</style>\n",
              "<table border=\"1\" class=\"dataframe\">\n",
              "  <thead>\n",
              "    <tr style=\"text-align: right;\">\n",
              "      <th></th>\n",
              "      <th>date_time</th>\n",
              "      <th>soil_moisture_depth_0.05</th>\n",
              "      <th>Image_name</th>\n",
              "    </tr>\n",
              "  </thead>\n",
              "  <tbody>\n",
              "    <tr>\n",
              "      <th>0</th>\n",
              "      <td>2017-03-01</td>\n",
              "      <td>0.157</td>\n",
              "      <td>NaN</td>\n",
              "    </tr>\n",
              "    <tr>\n",
              "      <th>1</th>\n",
              "      <td>2017-03-02</td>\n",
              "      <td>0.155</td>\n",
              "      <td>NaN</td>\n",
              "    </tr>\n",
              "    <tr>\n",
              "      <th>2</th>\n",
              "      <td>2017-03-03</td>\n",
              "      <td>0.148</td>\n",
              "      <td>NaN</td>\n",
              "    </tr>\n",
              "    <tr>\n",
              "      <th>3</th>\n",
              "      <td>2017-03-04</td>\n",
              "      <td>0.143</td>\n",
              "      <td>NaN</td>\n",
              "    </tr>\n",
              "    <tr>\n",
              "      <th>4</th>\n",
              "      <td>2017-03-05</td>\n",
              "      <td>0.144</td>\n",
              "      <td>NaN</td>\n",
              "    </tr>\n",
              "  </tbody>\n",
              "</table>\n",
              "</div>"
            ],
            "text/plain": [
              "    date_time  soil_moisture_depth_0.05 Image_name\n",
              "0  2017-03-01                     0.157        NaN\n",
              "1  2017-03-02                     0.155        NaN\n",
              "2  2017-03-03                     0.148        NaN\n",
              "3  2017-03-04                     0.143        NaN\n",
              "4  2017-03-05                     0.144        NaN"
            ]
          },
          "metadata": {
            "tags": []
          },
          "execution_count": 69
        }
      ]
    },
    {
      "cell_type": "code",
      "metadata": {
        "colab": {
          "base_uri": "https://localhost:8080/",
          "height": 563
        },
        "id": "TBIdqzKAZHFa",
        "outputId": "0eb3f5cc-45e5-47be-8978-4ff7cd7b1e5f"
      },
      "source": [
        "import plotly.figure_factory as ff\n",
        "\n",
        "np.random.seed(1)\n",
        "\n",
        "x = L_max\n",
        "hist_data = [x]\n",
        "group_labels = ['distplot'] # name of the dataset\n",
        "\n",
        "fig = ff.create_distplot(hist_data, group_labels)\n",
        "fig.show()"
      ],
      "execution_count": null,
      "outputs": [
        {
          "output_type": "display_data",
          "data": {
            "text/html": [
              "<html>\n",
              "<head><meta charset=\"utf-8\" /></head>\n",
              "<body>\n",
              "    <div>\n",
              "            <script src=\"https://cdnjs.cloudflare.com/ajax/libs/mathjax/2.7.5/MathJax.js?config=TeX-AMS-MML_SVG\"></script><script type=\"text/javascript\">if (window.MathJax) {MathJax.Hub.Config({SVG: {font: \"STIX-Web\"}});}</script>\n",
              "                <script type=\"text/javascript\">window.PlotlyConfig = {MathJaxConfig: 'local'};</script>\n",
              "        <script src=\"https://cdn.plot.ly/plotly-latest.min.js\"></script>    \n",
              "            <div id=\"c3879fb7-5ea7-46f2-899f-63366360bf4c\" class=\"plotly-graph-div\" style=\"height:525px; width:100%;\"></div>\n",
              "            <script type=\"text/javascript\">\n",
              "                \n",
              "                    window.PLOTLYENV=window.PLOTLYENV || {};\n",
              "                    \n",
              "                if (document.getElementById(\"c3879fb7-5ea7-46f2-899f-63366360bf4c\")) {\n",
              "                    Plotly.newPlot(\n",
              "                        'c3879fb7-5ea7-46f2-899f-63366360bf4c',\n",
              "                        [{\"autobinx\": false, \"histnorm\": \"probability density\", \"legendgroup\": \"distplot\", \"marker\": {\"color\": \"rgb(31, 119, 180)\"}, \"name\": \"distplot\", \"opacity\": 0.7, \"type\": \"histogram\", \"x\": [0.157, 0.155, 0.14800000000000002, 0.14300000000000002, 0.14400000000000002, 0.14400000000000002, 0.139, 0.13699999999999998, 0.132, 0.127, 0.11900000000000001, 0.11, 0.10400000000000001, 0.105, 0.105, 0.10300000000000001, 0.102, 0.10099999999999999, 0.1, 0.098, 0.092, 0.086, 0.084, 0.085, 0.086, 0.085, 0.086, 0.092, 0.094, 0.09300000000000001, 0.091, 0.09, 0.09300000000000001, 0.09300000000000001, 0.09300000000000001, 0.091, 0.092, 0.094, 0.094, 0.096, 0.096, 0.096, 0.095, 0.09300000000000001, 0.08800000000000001, 0.09, 0.09, 0.09300000000000001, 0.09, 0.08900000000000001, 0.09, 0.09, 0.08900000000000001, 0.08900000000000001, 0.083, 0.08, 0.073, 0.076, 0.07400000000000001, 0.07200000000000001, 0.065, 0.076, 0.083, 0.08800000000000001, 0.084, 0.077, 0.07400000000000001, 0.085, 0.08800000000000001, 0.084, 0.077, 0.068, 0.068, 0.073, 0.08, 0.086, 0.095, 0.087, 0.084, 0.09, 0.09699999999999999, 0.092, 0.105, 0.10800000000000001, 0.109, 0.107, 0.099, 0.096, 0.091, 0.092, 0.10400000000000001, 0.107, 0.10099999999999999, 0.09699999999999999, 0.096, 0.08900000000000001, 0.087, 0.09, 0.09, 0.08, 0.081, 0.086, 0.083, 0.08199999999999999, 0.08199999999999999, 0.081, 0.08199999999999999, 0.08199999999999999, 0.081, 0.079, 0.067, 0.07200000000000001, 0.078, 0.07400000000000001, 0.07400000000000001, 0.07200000000000001, 0.063, 0.067, 0.065, 0.062, 0.065, 0.064, 0.079, 0.085, 0.091, 0.086, 0.077, 0.113, 0.245, 0.214, 0.207, 0.19899999999999998, 0.19, 0.185, 0.17600000000000002, 0.17, 0.163, 0.158, 0.14800000000000002, 0.138, 0.13, 0.127, 0.11900000000000001, 0.113, 0.11, 0.10400000000000001, 0.098, 0.096, 0.091, 0.08800000000000001, 0.083, 0.08199999999999999, 0.076, 0.079, 0.079, 0.077, 0.079, 0.079, 0.076, 0.07, 0.07200000000000001, 0.068, 0.07, 0.07, 0.071, 0.071, 0.067, 0.065, 0.07, 0.071, 0.07, 0.07, 0.068, 0.07, 0.07, 0.069, 0.064, 0.064, 0.059000000000000004, 0.055999999999999994, 0.055999999999999994, 0.061, 0.237, 0.22899999999999998, 0.18, 0.17, 0.16399999999999998, 0.162, 0.159, 0.156, 0.15, 0.147, 0.14300000000000002, 0.139, 0.135, 0.134, 0.129, 0.12, 0.111, 0.106, 0.09699999999999999, 0.094, 0.091, 0.086, 0.079, 0.079, 0.075, 0.07200000000000001, 0.07, 0.068, 0.068, 0.067, 0.064, 0.065, 0.062, 0.065, 0.065, 0.064, 0.064, 0.061, 0.057999999999999996, 0.057999999999999996, 0.057, 0.055, 0.055, 0.055999999999999994, 0.055999999999999994, 0.055, 0.055999999999999994, 0.054000000000000006, 0.05, 0.047, 0.047, 0.051, 0.052000000000000005, 0.053, 0.054000000000000006, 0.057999999999999996, 0.057999999999999996, 0.057999999999999996, 0.055999999999999994, 0.054000000000000006, 0.052000000000000005, 0.051, 0.051, 0.05, 0.05, 0.249, 0.205, 0.20199999999999999, 0.183, 0.17300000000000001, 0.165, 0.161, 0.158, 0.156, 0.153, 0.14800000000000002, 0.145, 0.14300000000000002, 0.142, 0.141, 0.14, 0.138, 0.136, 0.135, 0.134, 0.136, 0.13699999999999998, 0.147, 0.14300000000000002, 0.139, 0.136, 0.136, 0.133, 0.13, 0.127, 0.127, 0.127, 0.125, 0.122, 0.126, 0.128, 0.13, 0.13, 0.193, 0.175, 0.17, 0.171, 0.16699999999999998, 0.161, 0.157, 0.154, 0.154, 0.151, 0.151, 0.14800000000000002, 0.146, 0.142, 0.141, 0.14, 0.14300000000000002, 0.149, 0.152, 0.151, 0.149, 0.151, 0.154, 0.157, 0.155, 0.23800000000000002, 0.22, 0.239, 0.21, 0.191, 0.191, 0.185, 0.18, 0.218, 0.204, 0.18899999999999997, 0.188, 0.185, 0.17800000000000002, 0.17600000000000002, 0.175, 0.175, 0.174, 0.171, 0.17, 0.249, 0.223, 0.196, 0.188, 0.183, 0.179, 0.177, 0.17600000000000002, 0.171, 0.17, 0.168, 0.165, 0.162, 0.16, 0.157, 0.16, 0.158, 0.162, 0.16, 0.154, 0.156, 0.158, 0.158, 0.154, 0.147, 0.147, 0.14300000000000002, 0.139, 0.133, 0.129, 0.127, 0.126, 0.125, 0.121, 0.228, 0.212, 0.201, 0.19699999999999998, 0.23, 0.218, 0.20600000000000002, 0.192, 0.193, 0.22399999999999998, 0.23399999999999999, 0.20600000000000002, 0.19399999999999998, 0.21, 0.24, 0.21899999999999997, 0.20199999999999999, 0.203, 0.19699999999999998, 0.191, 0.184, 0.18100000000000002, 0.179, 0.17600000000000002, 0.172, 0.16899999999999998, 0.166, 0.16399999999999998, 0.158, 0.151, 0.14400000000000002, 0.138, 0.14, 0.133, 0.128, 0.124, 0.12300000000000001, 0.11800000000000001, 0.115, 0.114, 0.11599999999999999, 0.225, 0.21100000000000002, 0.24100000000000002, 0.24100000000000002, 0.21600000000000003, 0.23800000000000002, 0.23199999999999998, 0.209, 0.2, 0.187, 0.16699999999999998, 0.146, 0.133, 0.139, 0.13699999999999998, 0.127, 0.11900000000000001, 0.111, 0.10400000000000001, 0.099, 0.09699999999999999, 0.102, 0.099, 0.10099999999999999, 0.1, 0.102, 0.102, 0.10099999999999999, 0.1, 0.096, 0.09699999999999999, 0.09, 0.08800000000000001, 0.084, 0.08900000000000001, 0.091, 0.092, 0.091, 0.187, 0.183, 0.16, 0.134, 0.11800000000000001, 0.109, 0.10400000000000001, 0.10099999999999999, 0.14800000000000002, 0.24, 0.22699999999999998, 0.213, 0.195, 0.18, 0.16699999999999998, 0.154, 0.139, 0.122, 0.21, 0.20800000000000002, 0.19699999999999998, 0.243, 0.20800000000000002, 0.271, 0.22, 0.207, 0.19699999999999998, 0.183, 0.16399999999999998, 0.145, 0.131, 0.12300000000000001, 0.11900000000000001, 0.11699999999999999, 0.111, 0.113, 0.11199999999999999, 0.111, 0.111, 0.107, 0.102, 0.142, 0.13699999999999998, 0.125, 0.12, 0.115, 0.11900000000000001, 0.115, 0.11900000000000001, 0.114, 0.113, 0.11599999999999999, 0.11199999999999999, 0.111, 0.10400000000000001, 0.1, 0.098, 0.095, 0.087, 0.087, 0.08800000000000001, 0.084, 0.084, 0.08, 0.076, 0.083, 0.08, 0.076, 0.076, 0.073, 0.07, 0.071, 0.069, 0.07, 0.07200000000000001, 0.073, 0.07400000000000001, 0.073, 0.07200000000000001, 0.07200000000000001, 0.069, 0.067, 0.067, 0.066, 0.066, 0.067, 0.063, 0.066, 0.065, 0.065, 0.066, 0.062, 0.061, 0.063, 0.064, 0.064, 0.062, 0.064, 0.064, 0.062, 0.063, 0.061, 0.061, 0.062, 0.063, 0.062, 0.063, 0.063, 0.15, 0.14800000000000002, 0.133, 0.129, 0.124, 0.11699999999999999, 0.11800000000000001, 0.11800000000000001, 0.11699999999999999, 0.11599999999999999, 0.115, 0.111, 0.106, 0.095, 0.086, 0.081, 0.076, 0.07200000000000001, 0.069, 0.068, 0.067, 0.064, 0.061, 0.062, 0.063, 0.062, 0.06, 0.06, 0.055, 0.054000000000000006, 0.055999999999999994, 0.055999999999999994, 0.055, 0.052000000000000005, 0.05, 0.049, 0.049, 0.049, 0.049, 0.05, 0.054000000000000006, 0.05, 0.07, 0.11, 0.115, 0.11699999999999999, 0.115, 0.11699999999999999, 0.11699999999999999, 0.115, 0.114, 0.113, 0.11199999999999999, 0.11, 0.106, 0.099, 0.09699999999999999, 0.11699999999999999, 0.129, 0.131, 0.136, 0.133, 0.158, 0.215, 0.175, 0.17300000000000001, 0.171, 0.17, 0.19, 0.228, 0.212, 0.18899999999999997, 0.18600000000000003, 0.182, 0.177, 0.175, 0.168, 0.174, 0.177, 0.175, 0.171, 0.215, 0.18600000000000003, 0.21600000000000003, 0.215, 0.187, 0.17800000000000002, 0.21600000000000003, 0.204, 0.18600000000000003, 0.18100000000000002, 0.179, 0.17800000000000002, 0.177, 0.175, 0.18, 0.177, 0.17300000000000001, 0.16899999999999998, 0.165, 0.163, 0.196, 0.183, 0.183, 0.19899999999999998, 0.188, 0.18, 0.17800000000000002, 0.18, 0.179, 0.179, 0.174, 0.172, 0.171, 0.17, 0.16899999999999998, 0.17, 0.17, 0.168, 0.166, 0.16399999999999998, 0.161, 0.159, 0.157, 0.155, 0.153, 0.153, 0.151, 0.152, 0.15, 0.14800000000000002, 0.14800000000000002, 0.14800000000000002, 0.147, 0.146, 0.14800000000000002, 0.151, 0.14800000000000002, 0.174, 0.2, 0.184, 0.177, 0.179, 0.17800000000000002, 0.174, 0.171, 0.168, 0.16399999999999998, 0.16, 0.157, 0.196, 0.19899999999999998, 0.18600000000000003, 0.17800000000000002, 0.17600000000000002, 0.171, 0.171, 0.16699999999999998, 0.16399999999999998, 0.161, 0.157, 0.154, 0.151, 0.146, 0.142, 0.13699999999999998, 0.132, 0.127, 0.129, 0.124, 0.122, 0.11800000000000001, 0.114, 0.111, 0.107, 0.10400000000000001, 0.10099999999999999, 0.098, 0.096, 0.095, 0.091, 0.08900000000000001, 0.08800000000000001, 0.087, 0.086, 0.094, 0.09699999999999999, 0.098, 0.096, 0.092, 0.092, 0.092, 0.092, 0.09, 0.08800000000000001, 0.086, 0.086, 0.084, 0.086, 0.086, 0.086, 0.086, 0.084, 0.08199999999999999, 0.08199999999999999, 0.084, 0.083, 0.081, 0.08199999999999999, 0.083, 0.083, 0.08, 0.077, 0.07400000000000001, 0.07200000000000001, 0.073, 0.081, 0.081, 0.083, 0.08800000000000001, 0.09300000000000001, 0.09699999999999999, 0.094, 0.091, 0.092, 0.087, 0.08199999999999999, 0.145, 0.134, 0.12, 0.113, 0.10400000000000001, 0.192, 0.19399999999999998, 0.174, 0.162, 0.146, 0.131, 0.121, 0.115, 0.107, 0.10099999999999999, 0.10099999999999999, 0.098, 0.095, 0.086, 0.08199999999999999, 0.081, 0.087, 0.09300000000000001, 0.091, 0.08900000000000001, 0.09, 0.085, 0.078, 0.07200000000000001, 0.07200000000000001, 0.076, 0.073, 0.079, 0.077, 0.076, 0.075, 0.07400000000000001, 0.076, 0.076, 0.073, 0.07200000000000001, 0.07400000000000001, 0.076, 0.07400000000000001, 0.069, 0.069, 0.062, 0.059000000000000004, 0.059000000000000004, 0.057, 0.066, 0.068, 0.068, 0.064, 0.065, 0.063, 0.059000000000000004, 0.064, 0.064, 0.062, 0.061, 0.059000000000000004, 0.15, 0.166, 0.16, 0.149, 0.146, 0.145, 0.142, 0.135, 0.125, 0.113, 0.099, 0.09300000000000001, 0.09, 0.08199999999999999, 0.07400000000000001, 0.08199999999999999, 0.078, 0.077, 0.073, 0.07, 0.07400000000000001, 0.075, 0.07200000000000001, 0.063, 0.075, 0.083, 0.075, 0.075, 0.073, 0.071, 0.07, 0.071, 0.071, 0.068, 0.069, 0.066, 0.065, 0.06, 0.067, 0.062, 0.064, 0.062, 0.065, 0.067, 0.067, 0.066, 0.067, 0.064, 0.059000000000000004, 0.062, 0.057, 0.064, 0.059000000000000004, 0.062, 0.063, 0.063, 0.065, 0.064, 0.064, 0.061, 0.057, 0.061, 0.063, 0.063, 0.063, 0.061, 0.134, 0.193, 0.182, 0.177, 0.172, 0.16899999999999998, 0.163, 0.154, 0.149, 0.146, 0.14300000000000002, 0.132, 0.122, 0.115, 0.11, 0.099, 0.091, 0.09, 0.08900000000000001, 0.08199999999999999, 0.075, 0.20600000000000002, 0.162, 0.222, 0.212, 0.175, 0.162, 0.151, 0.256, 0.182, 0.171, 0.16399999999999998, 0.158, 0.152, 0.149, 0.145, 0.142, 0.135, 0.131, 0.128, 0.127, 0.12300000000000001, 0.11800000000000001, 0.115, 0.111, 0.107, 0.1, 0.095, 0.09300000000000001, 0.08800000000000001, 0.083, 0.07400000000000001, 0.078, 0.172, 0.22, 0.188, 0.242, 0.21100000000000002, 0.239, 0.254, 0.231, 0.198, 0.191, 0.184, 0.183, 0.18100000000000002, 0.175, 0.174, 0.171, 0.166, 0.16, 0.157, 0.151, 0.147, 0.14400000000000002, 0.136, 0.134, 0.134, 0.139, 0.134, 0.184, 0.171, 0.165, 0.158, 0.155, 0.153, 0.149, 0.228, 0.205, 0.198, 0.192, 0.18100000000000002, 0.18, 0.23399999999999999, 0.225, 0.19699999999999998, 0.271, 0.243, 0.21600000000000003, 0.20199999999999999, 0.188, 0.18100000000000002, 0.18, 0.17600000000000002, 0.174, 0.174, 0.175, 0.171, 0.174, 0.175, 0.175, 0.171, 0.168, 0.163, 0.159, 0.154, 0.258, 0.261, 0.23, 0.213, 0.196, 0.18899999999999997, 0.187, 0.18600000000000003, 0.17800000000000002, 0.17600000000000002, 0.175, 0.17300000000000001, 0.172, 0.172, 0.174, 0.17800000000000002, 0.17600000000000002, 0.175, 0.174, 0.17300000000000001, 0.174, 0.17600000000000002, 0.172, 0.16699999999999998, 0.166, 0.16699999999999998, 0.16699999999999998, 0.191, 0.18899999999999997, 0.209, 0.201, 0.196, 0.183, 0.175, 0.174, 0.171, 0.17, 0.20199999999999999, 0.19899999999999998, 0.19399999999999998, 0.20600000000000002, 0.221, 0.214, 0.205, 0.203, 0.198, 0.192, 0.185, 0.18, 0.177, 0.17300000000000001, 0.172, 0.17300000000000001, 0.17300000000000001, 0.16899999999999998, 0.168, 0.165, 0.159, 0.159, 0.153, 0.14800000000000002, 0.141, 0.138, 0.135, 0.132, 0.128, 0.125, 0.121, 0.115, 0.11, 0.106, 0.105, 0.102, 0.10099999999999999, 0.179, 0.174, 0.17, 0.163, 0.152, 0.14300000000000002, 0.136, 0.129, 0.124, 0.11900000000000001, 0.115, 0.111, 0.106, 0.102, 0.222, 0.2, 0.19399999999999998, 0.185, 0.17800000000000002, 0.16699999999999998, 0.182, 0.188, 0.183, 0.172, 0.16, 0.14400000000000002, 0.129, 0.121, 0.11199999999999999, 0.10300000000000001, 0.105, 0.113, 0.113, 0.109, 0.22, 0.218, 0.214, 0.21100000000000002, 0.25, 0.24, 0.226, 0.22399999999999998, 0.21100000000000002, 0.203, 0.24, 0.233, 0.225, 0.222, 0.215, 0.207, 0.22399999999999998, 0.223, 0.213, 0.204, 0.254, 0.23600000000000002, 0.215, 0.203, 0.19, 0.18, 0.17, 0.159, 0.14800000000000002, 0.13699999999999998, 0.12300000000000001, 0.11900000000000001, 0.115, 0.23, 0.2, 0.171, 0.152, 0.23399999999999999, 0.221, 0.19399999999999998, 0.19, 0.18100000000000002, 0.168, 0.151, 0.135, 0.12300000000000001, 0.11599999999999999, 0.11199999999999999, 0.109, 0.109, 0.10800000000000001, 0.105, 0.105, 0.106, 0.105, 0.10099999999999999, 0.091, 0.096, 0.10300000000000001, 0.10099999999999999, 0.099, 0.106, 0.102, 0.09699999999999999, 0.098, 0.10300000000000001, 0.102, 0.09300000000000001, 0.08800000000000001, 0.087, 0.094, 0.09300000000000001, 0.08800000000000001, 0.094, 0.095, 0.092, 0.092, 0.08900000000000001, 0.09, 0.085, 0.07200000000000001, 0.075, 0.077, 0.085, 0.08900000000000001, 0.08800000000000001, 0.08199999999999999, 0.079, 0.076, 0.08, 0.079, 0.079, 0.08, 0.078, 0.075, 0.075, 0.086, 0.083, 0.073, 0.08199999999999999, 0.08, 0.078, 0.078, 0.076, 0.075, 0.07200000000000001, 0.07400000000000001, 0.065, 0.076, 0.075, 0.076, 0.07200000000000001, 0.07200000000000001, 0.073, 0.075, 0.07400000000000001, 0.068, 0.071, 0.073, 0.071, 0.073, 0.073, 0.073, 0.07, 0.069, 0.069, 0.069, 0.068, 0.059000000000000004, 0.061, 0.07400000000000001, 0.078, 0.076, 0.075, 0.07, 0.07, 0.07, 0.068, 0.063, 0.076, 0.077, 0.075, 0.07200000000000001, 0.073, 0.073, 0.068, 0.066, 0.064, 0.064, 0.067, 0.067, 0.067, 0.067, 0.068, 0.068, 0.065, 0.064, 0.064, 0.065, 0.065, 0.066, 0.064, 0.061, 0.061, 0.064, 0.062, 0.055, 0.155, 0.175, 0.174, 0.17, 0.163, 0.158, 0.154, 0.151, 0.154, 0.149, 0.14800000000000002, 0.14400000000000002, 0.13699999999999998, 0.157, 0.154, 0.15, 0.149, 0.149, 0.14800000000000002, 0.14400000000000002, 0.14, 0.135, 0.129, 0.125, 0.122, 0.11800000000000001, 0.115, 0.11199999999999999, 0.11199999999999999, 0.11, 0.107, 0.204, 0.2, 0.215, 0.19899999999999998, 0.184, 0.19, 0.184, 0.17600000000000002, 0.179, 0.18, 0.177, 0.172, 0.16899999999999998, 0.16399999999999998, 0.163, 0.152, 0.22399999999999998, 0.242, 0.22699999999999998, 0.24, 0.24600000000000002, 0.20199999999999999, 0.19699999999999998, 0.195, 0.192, 0.187, 0.18899999999999997, 0.18899999999999997, 0.182, 0.182, 0.179, 0.172, 0.168, 0.166, 0.163, 0.159, 0.157, 0.21899999999999997, 0.21899999999999997, 0.2, 0.196, 0.192, 0.187, 0.18100000000000002, 0.175, 0.17800000000000002, 0.175, 0.172, 0.174, 0.171, 0.16699999999999998, 0.17, 0.191, 0.183, 0.18, 0.183, 0.185, 0.18, 0.179, 0.18, 0.20199999999999999, 0.198, 0.198, 0.2, 0.192, 0.192, 0.185, 0.18, 0.174, 0.209, 0.192, 0.185, 0.18600000000000003], \"xaxis\": \"x\", \"xbins\": {\"end\": 0.271, \"size\": 1.0, \"start\": 0.047}, \"yaxis\": \"y\"}, {\"legendgroup\": \"distplot\", \"marker\": {\"color\": \"rgb(31, 119, 180)\"}, \"mode\": \"lines\", \"name\": \"distplot\", \"showlegend\": false, \"type\": \"scatter\", \"x\": [0.047, 0.047448, 0.047896, 0.048344, 0.048792, 0.04924, 0.049688, 0.050136, 0.050584000000000004, 0.051032, 0.05148, 0.051928, 0.052376, 0.052824, 0.053272, 0.053720000000000004, 0.054168, 0.054616, 0.055064, 0.055512, 0.05596, 0.056408, 0.056856000000000004, 0.057304, 0.057752000000000005, 0.0582, 0.058648000000000006, 0.059096, 0.059544, 0.059992000000000004, 0.06044, 0.060888, 0.061336, 0.061784000000000006, 0.062232, 0.06268, 0.063128, 0.06357600000000001, 0.064024, 0.064472, 0.06492, 0.06536800000000001, 0.065816, 0.066264, 0.06671200000000001, 0.06716, 0.067608, 0.068056, 0.06850400000000001, 0.068952, 0.0694, 0.06984800000000001, 0.070296, 0.070744, 0.071192, 0.07164000000000001, 0.07208800000000001, 0.072536, 0.07298400000000001, 0.073432, 0.07388, 0.074328, 0.07477600000000001, 0.075224, 0.075672, 0.07612000000000001, 0.076568, 0.077016, 0.077464, 0.07791200000000001, 0.07836000000000001, 0.078808, 0.07925600000000001, 0.07970400000000001, 0.080152, 0.0806, 0.08104800000000001, 0.081496, 0.081944, 0.08239199999999999, 0.08284, 0.083288, 0.083736, 0.08418400000000001, 0.08463200000000001, 0.08508, 0.085528, 0.085976, 0.086424, 0.086872, 0.08732000000000001, 0.08776800000000001, 0.08821600000000002, 0.088664, 0.08911200000000001, 0.08956, 0.090008, 0.09045600000000001, 0.09090400000000001, 0.091352, 0.0918, 0.092248, 0.092696, 0.093144, 0.09359200000000001, 0.09404000000000001, 0.09448800000000002, 0.094936, 0.09538400000000001, 0.095832, 0.09628, 0.09672800000000001, 0.09717600000000001, 0.09762400000000002, 0.09807200000000002, 0.09852000000000001, 0.098968, 0.099416, 0.09986400000000001, 0.10031200000000001, 0.10076, 0.101208, 0.101656, 0.102104, 0.102552, 0.10300000000000001, 0.10344800000000001, 0.10389600000000002, 0.104344, 0.10479200000000001, 0.10524, 0.105688, 0.10613600000000001, 0.10658400000000001, 0.10703200000000002, 0.10748000000000002, 0.10792800000000001, 0.10837600000000001, 0.108824, 0.10927200000000001, 0.10972000000000001, 0.110168, 0.110616, 0.11106400000000001, 0.11151200000000001, 0.11196, 0.11240800000000002, 0.11285600000000001, 0.11330400000000002, 0.113752, 0.11420000000000001, 0.11464800000000001, 0.115096, 0.11554400000000001, 0.115992, 0.11644000000000002, 0.116888, 0.11733600000000001, 0.117784, 0.11823200000000002, 0.11868000000000001, 0.11912800000000001, 0.119576, 0.12002400000000002, 0.12047200000000001, 0.12092000000000001, 0.121368, 0.12181600000000002, 0.12226400000000001, 0.12271200000000002, 0.12316, 0.12360800000000001, 0.12405600000000001, 0.124504, 0.12495200000000001, 0.1254, 0.12584800000000002, 0.12629600000000002, 0.12674400000000002, 0.12719200000000003, 0.12764000000000003, 0.128088, 0.128536, 0.12898400000000002, 0.12943200000000002, 0.12988, 0.130328, 0.130776, 0.131224, 0.131672, 0.13212000000000002, 0.13256800000000002, 0.13301600000000002, 0.13346400000000003, 0.133912, 0.13436, 0.134808, 0.13525600000000002, 0.135704, 0.136152, 0.1366, 0.137048, 0.137496, 0.137944, 0.13839200000000002, 0.13884000000000002, 0.13928800000000002, 0.13973600000000003, 0.14018400000000003, 0.14063200000000003, 0.14108, 0.14152800000000001, 0.14197600000000002, 0.14242400000000002, 0.142872, 0.14332, 0.143768, 0.144216, 0.14466400000000001, 0.14511200000000002, 0.14556000000000002, 0.14600800000000003, 0.14645600000000003, 0.146904, 0.14735200000000004, 0.14780000000000001, 0.14824800000000002, 0.148696, 0.14914400000000003, 0.149592, 0.15004, 0.150488, 0.15093600000000001, 0.15138400000000002, 0.15183200000000002, 0.15228000000000003, 0.152728, 0.15317600000000003, 0.153624, 0.15407200000000001, 0.15452, 0.15496800000000002, 0.155416, 0.155864, 0.156312, 0.15676, 0.15720800000000001, 0.15765600000000002, 0.15810400000000002, 0.15855200000000003, 0.15900000000000003, 0.15944800000000003, 0.159896, 0.16034400000000004, 0.16079200000000002, 0.16124000000000002, 0.161688, 0.162136, 0.162584, 0.163032, 0.16348000000000001, 0.16392800000000002, 0.16437600000000002, 0.16482400000000003, 0.16527200000000003, 0.16572000000000003, 0.16616800000000004, 0.16661600000000001, 0.16706400000000002, 0.167512, 0.16796000000000003, 0.168408, 0.168856, 0.169304, 0.16975200000000001, 0.17020000000000002, 0.17064800000000002, 0.17109600000000003, 0.17154400000000003, 0.17199200000000003, 0.17244000000000004, 0.17288800000000004, 0.173336, 0.173784, 0.174232, 0.17468, 0.175128, 0.175576, 0.176024, 0.17647200000000002, 0.17692000000000002, 0.17736800000000003, 0.17781600000000003, 0.17826400000000003, 0.17871200000000004, 0.17916000000000004, 0.17960800000000005, 0.180056, 0.180504, 0.180952, 0.1814, 0.181848, 0.182296, 0.18274400000000002, 0.18319200000000002, 0.18364000000000003, 0.18408800000000003, 0.18453600000000003, 0.18498399999999998, 0.18543200000000004, 0.18588000000000005, 0.18632800000000005, 0.186776, 0.187224, 0.187672, 0.18812, 0.188568, 0.18901600000000002, 0.18946400000000002, 0.18991200000000003, 0.19036000000000003, 0.19080800000000003, 0.19125600000000004, 0.19170399999999999, 0.192152, 0.19260000000000005, 0.19304800000000005, 0.193496, 0.193944, 0.194392, 0.19484, 0.19528800000000002, 0.19573600000000002, 0.19618400000000003, 0.19663200000000003, 0.19708000000000003, 0.19752800000000004, 0.19797600000000004, 0.19842400000000004, 0.198872, 0.19932, 0.19976800000000006, 0.200216, 0.200664, 0.201112, 0.20156000000000002, 0.20200800000000002, 0.20245600000000002, 0.20290400000000003, 0.20335200000000003, 0.20380000000000004, 0.20424800000000004, 0.20469600000000004, 0.20514400000000005, 0.205592, 0.20604, 0.206488, 0.206936, 0.207384, 0.20783200000000002, 0.20828000000000002, 0.20872800000000002, 0.20917600000000003, 0.20962400000000003, 0.21007200000000004, 0.21051999999999998, 0.21096800000000004, 0.21141600000000005, 0.21186400000000005, 0.212312, 0.21276, 0.213208, 0.213656, 0.21410400000000002, 0.21455200000000002, 0.21500000000000002, 0.21544800000000003, 0.21589600000000003, 0.21634400000000004, 0.21679200000000004, 0.21724000000000004, 0.217688, 0.218136, 0.21858400000000006, 0.21903200000000006, 0.21948, 0.219928, 0.22037600000000002, 0.22082400000000002, 0.22127200000000002, 0.22172000000000003, 0.22216800000000003, 0.22261600000000004, 0.22306400000000004, 0.22351200000000004, 0.22396000000000005, 0.224408, 0.224856, 0.225304, 0.22575200000000006, 0.2262, 0.22664800000000002, 0.22709600000000002, 0.22754400000000002, 0.22799200000000003, 0.22844000000000003, 0.22888800000000004, 0.22933600000000004, 0.22978400000000004, 0.23023200000000005, 0.23068000000000005, 0.231128, 0.231576, 0.232024, 0.232472, 0.23292000000000002, 0.23336800000000002, 0.23381600000000002, 0.23426400000000003, 0.23471200000000003, 0.23516000000000004, 0.23560800000000004, 0.23605600000000004, 0.236504, 0.23695200000000005, 0.23740000000000006, 0.23784800000000006, 0.238296, 0.238744, 0.23919200000000002, 0.23964000000000002, 0.24008800000000002, 0.24053600000000003, 0.24098400000000003, 0.24143200000000004, 0.24188000000000004, 0.24232800000000004, 0.24277600000000005, 0.243224, 0.243672, 0.24412000000000006, 0.24456800000000006, 0.245016, 0.24546400000000002, 0.24591200000000002, 0.24636000000000002, 0.24680800000000003, 0.24725600000000003, 0.24770400000000004, 0.24815200000000004, 0.24860000000000004, 0.24904800000000005, 0.24949600000000005, 0.249944, 0.250392, 0.25084, 0.25128800000000007, 0.251736, 0.252184, 0.252632, 0.25308, 0.25352800000000003, 0.25397600000000004, 0.25442400000000004, 0.25487200000000004, 0.25532000000000005, 0.25576800000000005, 0.25621600000000005, 0.25666400000000006, 0.257112, 0.25756, 0.258008, 0.258456, 0.258904, 0.259352, 0.25980000000000003, 0.26024800000000003, 0.26069600000000004, 0.26114400000000004, 0.26159200000000005, 0.26204, 0.26248800000000005, 0.26293600000000006, 0.26338400000000006, 0.263832, 0.26428, 0.264728, 0.265176, 0.265624, 0.26607200000000003, 0.26652000000000003, 0.26696800000000004, 0.26741600000000004, 0.26786400000000005, 0.26831200000000005, 0.26876, 0.269208, 0.269656, 0.27010400000000007, 0.270552], \"xaxis\": \"x\", \"y\": [2.5474756489280943, 2.657408866365551, 2.76976879849322, 2.88447570494505, 3.001441689591696, 3.1205707311195567, 3.2417587510338515, 3.364893720155217, 3.489855804464987, 3.6165175509221856, 3.744744113627353, 3.87439352044562, 4.005316979925957, 4.137359228067362, 4.270358914187825, 4.404149024851174, 4.538557344502494, 4.673406951158072, 4.808516745193173, 4.943702008974002, 5.078774994791788, 5.213545538280108, 5.34782169423508, 5.481410391514282, 5.614118103468007, 5.745751530157926, 5.876118288446977, 6.005027605901937, 6.132291014339939, 6.2577230387733165, 6.381141877465804, 6.50237006880853, 6.621235140757148, 6.737570238642582, 6.851214727277452, 6.962014763427654, 7.0698238349032865, 7.1745032627439995, 7.275922663229048, 7.373960366730024, 7.468503790741732, 7.559449764771585, 7.646704805136313, 7.73018533810401, 7.809817870225077, 7.885539105113974, 7.957296006370366, 8.025045806758738, 8.088755964196034, 8.148404065521945, 8.203977679442515, 8.255474160439844, 8.302900405824758, 8.346272568471328, 8.385615728108165, 8.420963524347988, 8.452357754910759, 8.479847942734017, 8.503490875864195, 8.523350124183079, 8.539495537142137, 8.552002726753733, 8.56095254012102, 8.566430525778369, 8.568526398061064, 8.567333503628607, 8.56294829413095, 8.55546980883388, 8.544999170810618, 8.531639100064377, 8.515493446674446, 8.496666746759546, 8.475263803730904, 8.451389296967438, 8.425147419691045, 8.396641547455648, 8.36597393829356, 8.333245465191684, 8.298555381202252, 8.26200111713265, 8.223678111410461, 8.183679671387377, 8.142096865032453, 8.099018441675135, 8.054530780194222, 8.008717862813544, 7.961661272460545, 7.913440211472352, 7.864131539296327, 7.813809826729779, 7.762547424176622, 7.710414541367451, 7.65747933599312, 7.60380800873962, 7.549464902282254, 7.494512601898198, 7.439012035486104, 7.383022570937015, 7.3266021089796824, 7.2698071698220685, 7.2126929721263675, 7.15531350308349, 7.097721578591173, 7.039968892784012, 6.982106056409959, 6.924182623792819, 6.866247108360074, 6.808346986947059, 6.7505286933083415, 6.6928376014728395, 6.635317999767239, 6.578013056501121, 6.520964778454057, 6.464213963428685, 6.407800148232717, 6.351761553526374, 6.296135027018966, 6.240955986519657, 6.186258364342531, 6.132074554536111, 6.0784353643530595, 6.025369971298649, 5.972905886997976, 5.921068929004213, 5.8698832015352655, 5.819371085976764, 5.769553241827642, 5.720448618593752, 5.6720744789573985, 5.624446433369563, 5.577578486029684, 5.531483092037655, 5.486171225327632, 5.441652456824896, 5.397935042108987, 5.355026017719673, 5.312931305110069, 5.271655821134433, 5.231203593858728, 5.19157788240086, 5.1527812994458495, 5.114815935039192, 5.077683480239937, 5.0413853492136, 5.005922798362948, 4.971297041132443, 4.937509357177607, 4.904561194663593, 4.872454264545873, 4.841190625788939, 4.810772760594303, 4.781203638835147, 4.752486771029762, 4.7246262493271445, 4.697626776124138, 4.671493680081637, 4.646232919456272, 4.621851072810911, 4.598355317311055, 4.575753394952474, 4.554053567196754, 4.533264558614524, 4.513395490249359, 4.494455803517801, 4.476455175551827, 4.459403426968336, 4.443310423115876, 4.428185969901054, 4.4140397053363, 4.400880987976594, 4.388718783426015, 4.377561550095806, 4.36741712538472, 4.358292613430493, 4.350194275549178, 4.343127424437566, 4.337096323164267, 4.332104089917827, 4.328152609416894, 4.325242451818667, 4.323372799888745, 4.322541385118855, 4.322744433399881, 4.323976620776426, 4.326231039727149, 4.329499176332308, 4.333770898607246, 4.339034456198093, 4.345276491554276, 4.352482062611438, 4.360634676938536, 4.369716337223975, 4.3797075978978794, 4.390587632610779, 4.4023343122131635, 4.414924292805429, 4.42833311335351, 4.44253530229219, 4.4575044924654, 4.4732135436810685, 4.489634672087204, 4.506739585506329, 4.524499623797115, 4.5428859032459386, 4.561869463927126, 4.581421418909952, 4.601513104133445, 4.622116227717581, 4.6432030174326, 4.6647463650078125, 4.686719965928296, 4.709098453343819, 4.731857524699686, 4.754974059695685, 4.7784262281874765, 4.802193586666008, 4.826257161985493, 4.850599521060201, 4.875204825315345, 4.900058868758134, 4.925149098632204, 4.950464617731843, 4.97599616758211, 5.00173609183606, 5.027678279401026, 5.053818086980618, 5.080152240907263, 5.106678718339787, 5.133396608110593, 5.160305951724932, 5.187407565238962, 5.21470284297093, 5.242193544228794, 5.269881564464634, 5.297768692489181, 5.325856355595007, 5.354145354642088, 5.382635591351177, 5.4113257902258765, 5.440213217680761, 5.469293401087491, 5.498559850561108, 5.528003786392283, 5.55761387508623, 5.587375976993276, 5.617272908508718, 5.64728422177898, 5.677386004777179, 5.707550704503146, 5.73774697592146, 5.767939559076442, 5.798089186616487, 5.828152523723158, 5.858082142175108, 5.887826529985248, 5.9173301377349885, 5.946533462394104, 5.9753731690633245, 6.003782250711838, 6.031690225608402, 6.059023371766257, 6.085704997343101, 6.1116557455625395, 6.136793932356812, 6.161035914576859, 6.184296486279116, 6.206489300283017, 6.22752731190286, 6.2473232414963515, 6.265790052242747, 6.282841439369547, 6.298392326890122, 6.312359367798189, 6.324661443589773, 6.335220158950771, 6.343960327458732, 6.350810444201301, 6.355703141310252, 6.358575622548385, 6.359370073265053, 6.3580340422528145, 6.35452079229024, 6.348789616441129, 6.340806117495204, 6.330542448275943, 6.31797751090368, 6.303097113482165, 6.285894083070151, 6.266368334201551, 6.244526892623892, 6.2203838743303805, 6.193960420361496, 6.16528458824307, 6.134391201305162, 6.1013216574855464, 6.066123699559556, 6.0288511490510315, 5.98956360636389, 5.948326119928024, 5.905208827374213, 5.860286571938941, 5.813638497450071, 5.765347625357186, 5.715500417345917, 5.664186327113579, 5.611497344884463, 5.557527538208443, 5.502372592516939, 5.4461293548081695, 5.388895383700463, 5.3307685089313965, 5.27184640319319, 5.21222616898582, 5.152003942939707, 5.091274519814965, 5.030130998125434, 4.968664449068418, 4.9069636101667475, 4.8451146047533316, 4.783200688152068, 4.721302021136399, 4.659495470980929, 4.597854440164772, 4.536448722540679, 4.475344386553433, 4.414603684876736, 4.354284989641315, 4.294442752249838, 4.235127486617801, 4.176385774543918, 4.118260291799728, 4.060789853436542, 4.004009476737484, 3.947950460193779, 3.8926404768563363, 3.8381036804053794, 3.78436082229148, 3.731429378328956, 3.67932368316646, 3.628055071117578, 3.577632021904678, 3.5280603099510506, 3.479343155946096, 3.431481379506217, 3.384473551856566, 3.3383161475646967, 3.2930036944651273, 3.2485289210213715, 3.204882900478305, 3.1620551912607833, 3.1200339731733653, 3.078806179049397, 3.038357621584747, 2.9986731151711696, 2.959736592616283, 2.921531216700566, 2.8840394865768246, 2.8472433390636485, 2.8111242449219285, 2.7756633002324933, 2.7408413130136573, 2.7066388852307424, 2.6730364903555706, 2.6400145466336196, 2.6075534862105134, 2.575633820258749, 2.5442362002307255, 2.5133414753466923, 2.482930746405949, 2.4529854159891387, 2.4234872350977845, 2.3944183462567166, 2.365761323085524, 2.3374992063278675, 2.309615536312927, 2.2820943818118264, 2.254920365244281, 2.2280786841871087, 2.2015551291370126, 2.1753360974850904, 2.149408603670245, 2.123760285492491, 2.0983794065853103, 2.0732548550681575, 2.0483761384256094, 2.0237333746880277, 1.9993172800195727, 1.9751191528520127, 1.9511308547366621, 1.9273447881212376, 1.9037538712925322, 1.8803515107590911, 1.857131571379608, 1.8340883445720864, 1.811216514964984, 1.7885111258742368, 1.765967544008507, 1.7435814238187293, 1.7213486719169402, 1.6992654119924053, 1.677327950651074, 1.6555327445960573, 1.6338763695531655, 1.6123554913257636, 1.5909668393381613, 1.569707182996164, 1.5485733111580817, 1.5275620149694706, 1.5066700742710186, 1.4858942477416948, 1.4652312668892356, 1.4446778339481081, 1.424230623691718, 1.4038862891119916, 1.383641470865925, 1.363492810336421, 1.3434369661042433, 1.3234706335800843, 1.3035905675011952, 1.2837936069565765, 1.2640767025687112, 1.2444369454290374, 1.2248715973590873, 1.2053781220498088, 1.1859542166184445, 1.166597843115487, 1.1473072595137184, 1.128081049717401, 1.1089181521417624, 1.089817886431247, 1.0707799779088663, 1.0518045793782913, 1.032892289934484, 1.0140441704770466, 0.9952617556626726, 0.9765470620783187, 0.9579025924643216, 0.9393313358660821, 0.9208367636431941, 0.902422821315512, 0.8840939162758134, 0.86585490144772, 0.8477110550147907, 0.8296680563916731, 0.8117319586500967, 0.793909157651044, 0.7762063581691686, 0.7586305373259602, 0.741188905674146, 0.7238888662970253, 0.7067379723028607, 0.689743883105852, 0.6729143198917817, 0.6562570206681096, 0.6397796952952872, 0.6234899808886287, 0.6073953979682718, 0.5915033077192705, 0.575820870704536, 0.5603550073511031, 0.545112360504928, 0.5300992603220342, 0.5153216917343353, 0.500785264697653, 0.4864951873974879, 0.47245624255559326, 0.45867276694767595, 0.44514863421000356, 0.43188724098067605, 0.41889149639023654, 0.40616381488629844, 0.3937061123484004, 0.38151980542241354, 0.3696058139788771, 0.35796456657666403, 0.3465960087925269, 0.3354996142585164, 0.3246743982329057, 0.31411893351625947, 0.303831368512579, 0.2938094472260312, 0.2840505309765527, 0.27455162161265384, 0.2653093859967185, 0.25632018153723557, 0.2475800825432657, 0.23908490717919723, 0.23083024480217637, 0.22281148347049617, 0.21502383741853714, 0.20746237430240133, 0.2001220420301248, 0.19299769500110844, 0.18608411959105456, 0.17937605873116677, 0.17286823544346172, 0.1665553752077129, 0.16043222704965576, 0.15449358325448628, 0.14873429762435328], \"yaxis\": \"y\"}, {\"legendgroup\": \"distplot\", \"marker\": {\"color\": \"rgb(31, 119, 180)\", \"symbol\": \"line-ns-open\"}, \"mode\": \"markers\", \"name\": \"distplot\", \"showlegend\": false, \"type\": \"scatter\", \"x\": [0.157, 0.155, 0.14800000000000002, 0.14300000000000002, 0.14400000000000002, 0.14400000000000002, 0.139, 0.13699999999999998, 0.132, 0.127, 0.11900000000000001, 0.11, 0.10400000000000001, 0.105, 0.105, 0.10300000000000001, 0.102, 0.10099999999999999, 0.1, 0.098, 0.092, 0.086, 0.084, 0.085, 0.086, 0.085, 0.086, 0.092, 0.094, 0.09300000000000001, 0.091, 0.09, 0.09300000000000001, 0.09300000000000001, 0.09300000000000001, 0.091, 0.092, 0.094, 0.094, 0.096, 0.096, 0.096, 0.095, 0.09300000000000001, 0.08800000000000001, 0.09, 0.09, 0.09300000000000001, 0.09, 0.08900000000000001, 0.09, 0.09, 0.08900000000000001, 0.08900000000000001, 0.083, 0.08, 0.073, 0.076, 0.07400000000000001, 0.07200000000000001, 0.065, 0.076, 0.083, 0.08800000000000001, 0.084, 0.077, 0.07400000000000001, 0.085, 0.08800000000000001, 0.084, 0.077, 0.068, 0.068, 0.073, 0.08, 0.086, 0.095, 0.087, 0.084, 0.09, 0.09699999999999999, 0.092, 0.105, 0.10800000000000001, 0.109, 0.107, 0.099, 0.096, 0.091, 0.092, 0.10400000000000001, 0.107, 0.10099999999999999, 0.09699999999999999, 0.096, 0.08900000000000001, 0.087, 0.09, 0.09, 0.08, 0.081, 0.086, 0.083, 0.08199999999999999, 0.08199999999999999, 0.081, 0.08199999999999999, 0.08199999999999999, 0.081, 0.079, 0.067, 0.07200000000000001, 0.078, 0.07400000000000001, 0.07400000000000001, 0.07200000000000001, 0.063, 0.067, 0.065, 0.062, 0.065, 0.064, 0.079, 0.085, 0.091, 0.086, 0.077, 0.113, 0.245, 0.214, 0.207, 0.19899999999999998, 0.19, 0.185, 0.17600000000000002, 0.17, 0.163, 0.158, 0.14800000000000002, 0.138, 0.13, 0.127, 0.11900000000000001, 0.113, 0.11, 0.10400000000000001, 0.098, 0.096, 0.091, 0.08800000000000001, 0.083, 0.08199999999999999, 0.076, 0.079, 0.079, 0.077, 0.079, 0.079, 0.076, 0.07, 0.07200000000000001, 0.068, 0.07, 0.07, 0.071, 0.071, 0.067, 0.065, 0.07, 0.071, 0.07, 0.07, 0.068, 0.07, 0.07, 0.069, 0.064, 0.064, 0.059000000000000004, 0.055999999999999994, 0.055999999999999994, 0.061, 0.237, 0.22899999999999998, 0.18, 0.17, 0.16399999999999998, 0.162, 0.159, 0.156, 0.15, 0.147, 0.14300000000000002, 0.139, 0.135, 0.134, 0.129, 0.12, 0.111, 0.106, 0.09699999999999999, 0.094, 0.091, 0.086, 0.079, 0.079, 0.075, 0.07200000000000001, 0.07, 0.068, 0.068, 0.067, 0.064, 0.065, 0.062, 0.065, 0.065, 0.064, 0.064, 0.061, 0.057999999999999996, 0.057999999999999996, 0.057, 0.055, 0.055, 0.055999999999999994, 0.055999999999999994, 0.055, 0.055999999999999994, 0.054000000000000006, 0.05, 0.047, 0.047, 0.051, 0.052000000000000005, 0.053, 0.054000000000000006, 0.057999999999999996, 0.057999999999999996, 0.057999999999999996, 0.055999999999999994, 0.054000000000000006, 0.052000000000000005, 0.051, 0.051, 0.05, 0.05, 0.249, 0.205, 0.20199999999999999, 0.183, 0.17300000000000001, 0.165, 0.161, 0.158, 0.156, 0.153, 0.14800000000000002, 0.145, 0.14300000000000002, 0.142, 0.141, 0.14, 0.138, 0.136, 0.135, 0.134, 0.136, 0.13699999999999998, 0.147, 0.14300000000000002, 0.139, 0.136, 0.136, 0.133, 0.13, 0.127, 0.127, 0.127, 0.125, 0.122, 0.126, 0.128, 0.13, 0.13, 0.193, 0.175, 0.17, 0.171, 0.16699999999999998, 0.161, 0.157, 0.154, 0.154, 0.151, 0.151, 0.14800000000000002, 0.146, 0.142, 0.141, 0.14, 0.14300000000000002, 0.149, 0.152, 0.151, 0.149, 0.151, 0.154, 0.157, 0.155, 0.23800000000000002, 0.22, 0.239, 0.21, 0.191, 0.191, 0.185, 0.18, 0.218, 0.204, 0.18899999999999997, 0.188, 0.185, 0.17800000000000002, 0.17600000000000002, 0.175, 0.175, 0.174, 0.171, 0.17, 0.249, 0.223, 0.196, 0.188, 0.183, 0.179, 0.177, 0.17600000000000002, 0.171, 0.17, 0.168, 0.165, 0.162, 0.16, 0.157, 0.16, 0.158, 0.162, 0.16, 0.154, 0.156, 0.158, 0.158, 0.154, 0.147, 0.147, 0.14300000000000002, 0.139, 0.133, 0.129, 0.127, 0.126, 0.125, 0.121, 0.228, 0.212, 0.201, 0.19699999999999998, 0.23, 0.218, 0.20600000000000002, 0.192, 0.193, 0.22399999999999998, 0.23399999999999999, 0.20600000000000002, 0.19399999999999998, 0.21, 0.24, 0.21899999999999997, 0.20199999999999999, 0.203, 0.19699999999999998, 0.191, 0.184, 0.18100000000000002, 0.179, 0.17600000000000002, 0.172, 0.16899999999999998, 0.166, 0.16399999999999998, 0.158, 0.151, 0.14400000000000002, 0.138, 0.14, 0.133, 0.128, 0.124, 0.12300000000000001, 0.11800000000000001, 0.115, 0.114, 0.11599999999999999, 0.225, 0.21100000000000002, 0.24100000000000002, 0.24100000000000002, 0.21600000000000003, 0.23800000000000002, 0.23199999999999998, 0.209, 0.2, 0.187, 0.16699999999999998, 0.146, 0.133, 0.139, 0.13699999999999998, 0.127, 0.11900000000000001, 0.111, 0.10400000000000001, 0.099, 0.09699999999999999, 0.102, 0.099, 0.10099999999999999, 0.1, 0.102, 0.102, 0.10099999999999999, 0.1, 0.096, 0.09699999999999999, 0.09, 0.08800000000000001, 0.084, 0.08900000000000001, 0.091, 0.092, 0.091, 0.187, 0.183, 0.16, 0.134, 0.11800000000000001, 0.109, 0.10400000000000001, 0.10099999999999999, 0.14800000000000002, 0.24, 0.22699999999999998, 0.213, 0.195, 0.18, 0.16699999999999998, 0.154, 0.139, 0.122, 0.21, 0.20800000000000002, 0.19699999999999998, 0.243, 0.20800000000000002, 0.271, 0.22, 0.207, 0.19699999999999998, 0.183, 0.16399999999999998, 0.145, 0.131, 0.12300000000000001, 0.11900000000000001, 0.11699999999999999, 0.111, 0.113, 0.11199999999999999, 0.111, 0.111, 0.107, 0.102, 0.142, 0.13699999999999998, 0.125, 0.12, 0.115, 0.11900000000000001, 0.115, 0.11900000000000001, 0.114, 0.113, 0.11599999999999999, 0.11199999999999999, 0.111, 0.10400000000000001, 0.1, 0.098, 0.095, 0.087, 0.087, 0.08800000000000001, 0.084, 0.084, 0.08, 0.076, 0.083, 0.08, 0.076, 0.076, 0.073, 0.07, 0.071, 0.069, 0.07, 0.07200000000000001, 0.073, 0.07400000000000001, 0.073, 0.07200000000000001, 0.07200000000000001, 0.069, 0.067, 0.067, 0.066, 0.066, 0.067, 0.063, 0.066, 0.065, 0.065, 0.066, 0.062, 0.061, 0.063, 0.064, 0.064, 0.062, 0.064, 0.064, 0.062, 0.063, 0.061, 0.061, 0.062, 0.063, 0.062, 0.063, 0.063, 0.15, 0.14800000000000002, 0.133, 0.129, 0.124, 0.11699999999999999, 0.11800000000000001, 0.11800000000000001, 0.11699999999999999, 0.11599999999999999, 0.115, 0.111, 0.106, 0.095, 0.086, 0.081, 0.076, 0.07200000000000001, 0.069, 0.068, 0.067, 0.064, 0.061, 0.062, 0.063, 0.062, 0.06, 0.06, 0.055, 0.054000000000000006, 0.055999999999999994, 0.055999999999999994, 0.055, 0.052000000000000005, 0.05, 0.049, 0.049, 0.049, 0.049, 0.05, 0.054000000000000006, 0.05, 0.07, 0.11, 0.115, 0.11699999999999999, 0.115, 0.11699999999999999, 0.11699999999999999, 0.115, 0.114, 0.113, 0.11199999999999999, 0.11, 0.106, 0.099, 0.09699999999999999, 0.11699999999999999, 0.129, 0.131, 0.136, 0.133, 0.158, 0.215, 0.175, 0.17300000000000001, 0.171, 0.17, 0.19, 0.228, 0.212, 0.18899999999999997, 0.18600000000000003, 0.182, 0.177, 0.175, 0.168, 0.174, 0.177, 0.175, 0.171, 0.215, 0.18600000000000003, 0.21600000000000003, 0.215, 0.187, 0.17800000000000002, 0.21600000000000003, 0.204, 0.18600000000000003, 0.18100000000000002, 0.179, 0.17800000000000002, 0.177, 0.175, 0.18, 0.177, 0.17300000000000001, 0.16899999999999998, 0.165, 0.163, 0.196, 0.183, 0.183, 0.19899999999999998, 0.188, 0.18, 0.17800000000000002, 0.18, 0.179, 0.179, 0.174, 0.172, 0.171, 0.17, 0.16899999999999998, 0.17, 0.17, 0.168, 0.166, 0.16399999999999998, 0.161, 0.159, 0.157, 0.155, 0.153, 0.153, 0.151, 0.152, 0.15, 0.14800000000000002, 0.14800000000000002, 0.14800000000000002, 0.147, 0.146, 0.14800000000000002, 0.151, 0.14800000000000002, 0.174, 0.2, 0.184, 0.177, 0.179, 0.17800000000000002, 0.174, 0.171, 0.168, 0.16399999999999998, 0.16, 0.157, 0.196, 0.19899999999999998, 0.18600000000000003, 0.17800000000000002, 0.17600000000000002, 0.171, 0.171, 0.16699999999999998, 0.16399999999999998, 0.161, 0.157, 0.154, 0.151, 0.146, 0.142, 0.13699999999999998, 0.132, 0.127, 0.129, 0.124, 0.122, 0.11800000000000001, 0.114, 0.111, 0.107, 0.10400000000000001, 0.10099999999999999, 0.098, 0.096, 0.095, 0.091, 0.08900000000000001, 0.08800000000000001, 0.087, 0.086, 0.094, 0.09699999999999999, 0.098, 0.096, 0.092, 0.092, 0.092, 0.092, 0.09, 0.08800000000000001, 0.086, 0.086, 0.084, 0.086, 0.086, 0.086, 0.086, 0.084, 0.08199999999999999, 0.08199999999999999, 0.084, 0.083, 0.081, 0.08199999999999999, 0.083, 0.083, 0.08, 0.077, 0.07400000000000001, 0.07200000000000001, 0.073, 0.081, 0.081, 0.083, 0.08800000000000001, 0.09300000000000001, 0.09699999999999999, 0.094, 0.091, 0.092, 0.087, 0.08199999999999999, 0.145, 0.134, 0.12, 0.113, 0.10400000000000001, 0.192, 0.19399999999999998, 0.174, 0.162, 0.146, 0.131, 0.121, 0.115, 0.107, 0.10099999999999999, 0.10099999999999999, 0.098, 0.095, 0.086, 0.08199999999999999, 0.081, 0.087, 0.09300000000000001, 0.091, 0.08900000000000001, 0.09, 0.085, 0.078, 0.07200000000000001, 0.07200000000000001, 0.076, 0.073, 0.079, 0.077, 0.076, 0.075, 0.07400000000000001, 0.076, 0.076, 0.073, 0.07200000000000001, 0.07400000000000001, 0.076, 0.07400000000000001, 0.069, 0.069, 0.062, 0.059000000000000004, 0.059000000000000004, 0.057, 0.066, 0.068, 0.068, 0.064, 0.065, 0.063, 0.059000000000000004, 0.064, 0.064, 0.062, 0.061, 0.059000000000000004, 0.15, 0.166, 0.16, 0.149, 0.146, 0.145, 0.142, 0.135, 0.125, 0.113, 0.099, 0.09300000000000001, 0.09, 0.08199999999999999, 0.07400000000000001, 0.08199999999999999, 0.078, 0.077, 0.073, 0.07, 0.07400000000000001, 0.075, 0.07200000000000001, 0.063, 0.075, 0.083, 0.075, 0.075, 0.073, 0.071, 0.07, 0.071, 0.071, 0.068, 0.069, 0.066, 0.065, 0.06, 0.067, 0.062, 0.064, 0.062, 0.065, 0.067, 0.067, 0.066, 0.067, 0.064, 0.059000000000000004, 0.062, 0.057, 0.064, 0.059000000000000004, 0.062, 0.063, 0.063, 0.065, 0.064, 0.064, 0.061, 0.057, 0.061, 0.063, 0.063, 0.063, 0.061, 0.134, 0.193, 0.182, 0.177, 0.172, 0.16899999999999998, 0.163, 0.154, 0.149, 0.146, 0.14300000000000002, 0.132, 0.122, 0.115, 0.11, 0.099, 0.091, 0.09, 0.08900000000000001, 0.08199999999999999, 0.075, 0.20600000000000002, 0.162, 0.222, 0.212, 0.175, 0.162, 0.151, 0.256, 0.182, 0.171, 0.16399999999999998, 0.158, 0.152, 0.149, 0.145, 0.142, 0.135, 0.131, 0.128, 0.127, 0.12300000000000001, 0.11800000000000001, 0.115, 0.111, 0.107, 0.1, 0.095, 0.09300000000000001, 0.08800000000000001, 0.083, 0.07400000000000001, 0.078, 0.172, 0.22, 0.188, 0.242, 0.21100000000000002, 0.239, 0.254, 0.231, 0.198, 0.191, 0.184, 0.183, 0.18100000000000002, 0.175, 0.174, 0.171, 0.166, 0.16, 0.157, 0.151, 0.147, 0.14400000000000002, 0.136, 0.134, 0.134, 0.139, 0.134, 0.184, 0.171, 0.165, 0.158, 0.155, 0.153, 0.149, 0.228, 0.205, 0.198, 0.192, 0.18100000000000002, 0.18, 0.23399999999999999, 0.225, 0.19699999999999998, 0.271, 0.243, 0.21600000000000003, 0.20199999999999999, 0.188, 0.18100000000000002, 0.18, 0.17600000000000002, 0.174, 0.174, 0.175, 0.171, 0.174, 0.175, 0.175, 0.171, 0.168, 0.163, 0.159, 0.154, 0.258, 0.261, 0.23, 0.213, 0.196, 0.18899999999999997, 0.187, 0.18600000000000003, 0.17800000000000002, 0.17600000000000002, 0.175, 0.17300000000000001, 0.172, 0.172, 0.174, 0.17800000000000002, 0.17600000000000002, 0.175, 0.174, 0.17300000000000001, 0.174, 0.17600000000000002, 0.172, 0.16699999999999998, 0.166, 0.16699999999999998, 0.16699999999999998, 0.191, 0.18899999999999997, 0.209, 0.201, 0.196, 0.183, 0.175, 0.174, 0.171, 0.17, 0.20199999999999999, 0.19899999999999998, 0.19399999999999998, 0.20600000000000002, 0.221, 0.214, 0.205, 0.203, 0.198, 0.192, 0.185, 0.18, 0.177, 0.17300000000000001, 0.172, 0.17300000000000001, 0.17300000000000001, 0.16899999999999998, 0.168, 0.165, 0.159, 0.159, 0.153, 0.14800000000000002, 0.141, 0.138, 0.135, 0.132, 0.128, 0.125, 0.121, 0.115, 0.11, 0.106, 0.105, 0.102, 0.10099999999999999, 0.179, 0.174, 0.17, 0.163, 0.152, 0.14300000000000002, 0.136, 0.129, 0.124, 0.11900000000000001, 0.115, 0.111, 0.106, 0.102, 0.222, 0.2, 0.19399999999999998, 0.185, 0.17800000000000002, 0.16699999999999998, 0.182, 0.188, 0.183, 0.172, 0.16, 0.14400000000000002, 0.129, 0.121, 0.11199999999999999, 0.10300000000000001, 0.105, 0.113, 0.113, 0.109, 0.22, 0.218, 0.214, 0.21100000000000002, 0.25, 0.24, 0.226, 0.22399999999999998, 0.21100000000000002, 0.203, 0.24, 0.233, 0.225, 0.222, 0.215, 0.207, 0.22399999999999998, 0.223, 0.213, 0.204, 0.254, 0.23600000000000002, 0.215, 0.203, 0.19, 0.18, 0.17, 0.159, 0.14800000000000002, 0.13699999999999998, 0.12300000000000001, 0.11900000000000001, 0.115, 0.23, 0.2, 0.171, 0.152, 0.23399999999999999, 0.221, 0.19399999999999998, 0.19, 0.18100000000000002, 0.168, 0.151, 0.135, 0.12300000000000001, 0.11599999999999999, 0.11199999999999999, 0.109, 0.109, 0.10800000000000001, 0.105, 0.105, 0.106, 0.105, 0.10099999999999999, 0.091, 0.096, 0.10300000000000001, 0.10099999999999999, 0.099, 0.106, 0.102, 0.09699999999999999, 0.098, 0.10300000000000001, 0.102, 0.09300000000000001, 0.08800000000000001, 0.087, 0.094, 0.09300000000000001, 0.08800000000000001, 0.094, 0.095, 0.092, 0.092, 0.08900000000000001, 0.09, 0.085, 0.07200000000000001, 0.075, 0.077, 0.085, 0.08900000000000001, 0.08800000000000001, 0.08199999999999999, 0.079, 0.076, 0.08, 0.079, 0.079, 0.08, 0.078, 0.075, 0.075, 0.086, 0.083, 0.073, 0.08199999999999999, 0.08, 0.078, 0.078, 0.076, 0.075, 0.07200000000000001, 0.07400000000000001, 0.065, 0.076, 0.075, 0.076, 0.07200000000000001, 0.07200000000000001, 0.073, 0.075, 0.07400000000000001, 0.068, 0.071, 0.073, 0.071, 0.073, 0.073, 0.073, 0.07, 0.069, 0.069, 0.069, 0.068, 0.059000000000000004, 0.061, 0.07400000000000001, 0.078, 0.076, 0.075, 0.07, 0.07, 0.07, 0.068, 0.063, 0.076, 0.077, 0.075, 0.07200000000000001, 0.073, 0.073, 0.068, 0.066, 0.064, 0.064, 0.067, 0.067, 0.067, 0.067, 0.068, 0.068, 0.065, 0.064, 0.064, 0.065, 0.065, 0.066, 0.064, 0.061, 0.061, 0.064, 0.062, 0.055, 0.155, 0.175, 0.174, 0.17, 0.163, 0.158, 0.154, 0.151, 0.154, 0.149, 0.14800000000000002, 0.14400000000000002, 0.13699999999999998, 0.157, 0.154, 0.15, 0.149, 0.149, 0.14800000000000002, 0.14400000000000002, 0.14, 0.135, 0.129, 0.125, 0.122, 0.11800000000000001, 0.115, 0.11199999999999999, 0.11199999999999999, 0.11, 0.107, 0.204, 0.2, 0.215, 0.19899999999999998, 0.184, 0.19, 0.184, 0.17600000000000002, 0.179, 0.18, 0.177, 0.172, 0.16899999999999998, 0.16399999999999998, 0.163, 0.152, 0.22399999999999998, 0.242, 0.22699999999999998, 0.24, 0.24600000000000002, 0.20199999999999999, 0.19699999999999998, 0.195, 0.192, 0.187, 0.18899999999999997, 0.18899999999999997, 0.182, 0.182, 0.179, 0.172, 0.168, 0.166, 0.163, 0.159, 0.157, 0.21899999999999997, 0.21899999999999997, 0.2, 0.196, 0.192, 0.187, 0.18100000000000002, 0.175, 0.17800000000000002, 0.175, 0.172, 0.174, 0.171, 0.16699999999999998, 0.17, 0.191, 0.183, 0.18, 0.183, 0.185, 0.18, 0.179, 0.18, 0.20199999999999999, 0.198, 0.198, 0.2, 0.192, 0.192, 0.185, 0.18, 0.174, 0.209, 0.192, 0.185, 0.18600000000000003], \"xaxis\": \"x\", \"y\": [\"distplot\", \"distplot\", \"distplot\", \"distplot\", \"distplot\", \"distplot\", \"distplot\", \"distplot\", \"distplot\", \"distplot\", \"distplot\", \"distplot\", \"distplot\", \"distplot\", \"distplot\", \"distplot\", \"distplot\", \"distplot\", \"distplot\", \"distplot\", \"distplot\", \"distplot\", \"distplot\", \"distplot\", \"distplot\", \"distplot\", \"distplot\", \"distplot\", \"distplot\", \"distplot\", \"distplot\", \"distplot\", \"distplot\", \"distplot\", \"distplot\", \"distplot\", \"distplot\", \"distplot\", \"distplot\", \"distplot\", \"distplot\", \"distplot\", \"distplot\", \"distplot\", \"distplot\", \"distplot\", \"distplot\", \"distplot\", \"distplot\", \"distplot\", \"distplot\", \"distplot\", \"distplot\", \"distplot\", \"distplot\", \"distplot\", \"distplot\", \"distplot\", \"distplot\", \"distplot\", \"distplot\", \"distplot\", \"distplot\", \"distplot\", \"distplot\", \"distplot\", \"distplot\", \"distplot\", \"distplot\", \"distplot\", \"distplot\", \"distplot\", \"distplot\", \"distplot\", \"distplot\", \"distplot\", \"distplot\", \"distplot\", \"distplot\", \"distplot\", \"distplot\", \"distplot\", \"distplot\", \"distplot\", \"distplot\", \"distplot\", \"distplot\", \"distplot\", \"distplot\", \"distplot\", \"distplot\", \"distplot\", \"distplot\", \"distplot\", \"distplot\", \"distplot\", \"distplot\", \"distplot\", \"distplot\", \"distplot\", \"distplot\", \"distplot\", \"distplot\", \"distplot\", \"distplot\", \"distplot\", \"distplot\", \"distplot\", \"distplot\", \"distplot\", \"distplot\", \"distplot\", \"distplot\", \"distplot\", \"distplot\", \"distplot\", \"distplot\", \"distplot\", \"distplot\", \"distplot\", \"distplot\", \"distplot\", \"distplot\", \"distplot\", \"distplot\", \"distplot\", \"distplot\", \"distplot\", \"distplot\", \"distplot\", \"distplot\", \"distplot\", \"distplot\", \"distplot\", \"distplot\", \"distplot\", \"distplot\", \"distplot\", \"distplot\", \"distplot\", \"distplot\", \"distplot\", \"distplot\", \"distplot\", \"distplot\", \"distplot\", \"distplot\", \"distplot\", \"distplot\", \"distplot\", \"distplot\", \"distplot\", \"distplot\", \"distplot\", \"distplot\", \"distplot\", \"distplot\", \"distplot\", \"distplot\", \"distplot\", \"distplot\", \"distplot\", \"distplot\", \"distplot\", \"distplot\", \"distplot\", \"distplot\", \"distplot\", \"distplot\", \"distplot\", \"distplot\", \"distplot\", \"distplot\", \"distplot\", \"distplot\", \"distplot\", \"distplot\", \"distplot\", \"distplot\", \"distplot\", \"distplot\", \"distplot\", \"distplot\", \"distplot\", \"distplot\", \"distplot\", \"distplot\", \"distplot\", \"distplot\", \"distplot\", \"distplot\", \"distplot\", \"distplot\", \"distplot\", \"distplot\", \"distplot\", \"distplot\", \"distplot\", \"distplot\", \"distplot\", \"distplot\", \"distplot\", \"distplot\", \"distplot\", \"distplot\", \"distplot\", \"distplot\", \"distplot\", \"distplot\", \"distplot\", \"distplot\", \"distplot\", \"distplot\", \"distplot\", \"distplot\", \"distplot\", \"distplot\", \"distplot\", \"distplot\", \"distplot\", \"distplot\", \"distplot\", \"distplot\", \"distplot\", \"distplot\", \"distplot\", \"distplot\", \"distplot\", \"distplot\", \"distplot\", \"distplot\", \"distplot\", \"distplot\", \"distplot\", \"distplot\", \"distplot\", \"distplot\", \"distplot\", \"distplot\", \"distplot\", \"distplot\", \"distplot\", \"distplot\", \"distplot\", \"distplot\", \"distplot\", \"distplot\", \"distplot\", \"distplot\", \"distplot\", \"distplot\", \"distplot\", \"distplot\", \"distplot\", \"distplot\", \"distplot\", \"distplot\", \"distplot\", \"distplot\", \"distplot\", \"distplot\", \"distplot\", \"distplot\", \"distplot\", \"distplot\", \"distplot\", \"distplot\", \"distplot\", \"distplot\", \"distplot\", \"distplot\", \"distplot\", \"distplot\", \"distplot\", \"distplot\", \"distplot\", \"distplot\", \"distplot\", \"distplot\", \"distplot\", \"distplot\", \"distplot\", \"distplot\", \"distplot\", \"distplot\", \"distplot\", \"distplot\", \"distplot\", \"distplot\", \"distplot\", \"distplot\", \"distplot\", \"distplot\", \"distplot\", \"distplot\", \"distplot\", \"distplot\", \"distplot\", \"distplot\", \"distplot\", \"distplot\", \"distplot\", \"distplot\", \"distplot\", \"distplot\", \"distplot\", \"distplot\", \"distplot\", \"distplot\", \"distplot\", \"distplot\", \"distplot\", \"distplot\", \"distplot\", \"distplot\", \"distplot\", \"distplot\", \"distplot\", \"distplot\", \"distplot\", \"distplot\", \"distplot\", \"distplot\", \"distplot\", \"distplot\", \"distplot\", \"distplot\", \"distplot\", \"distplot\", \"distplot\", \"distplot\", \"distplot\", \"distplot\", \"distplot\", \"distplot\", \"distplot\", \"distplot\", \"distplot\", \"distplot\", \"distplot\", \"distplot\", \"distplot\", \"distplot\", \"distplot\", \"distplot\", \"distplot\", \"distplot\", \"distplot\", \"distplot\", \"distplot\", \"distplot\", \"distplot\", \"distplot\", \"distplot\", \"distplot\", \"distplot\", \"distplot\", \"distplot\", \"distplot\", \"distplot\", \"distplot\", \"distplot\", \"distplot\", \"distplot\", \"distplot\", \"distplot\", \"distplot\", \"distplot\", \"distplot\", \"distplot\", \"distplot\", \"distplot\", \"distplot\", \"distplot\", \"distplot\", \"distplot\", \"distplot\", \"distplot\", \"distplot\", \"distplot\", \"distplot\", \"distplot\", \"distplot\", \"distplot\", \"distplot\", \"distplot\", \"distplot\", \"distplot\", \"distplot\", \"distplot\", \"distplot\", \"distplot\", \"distplot\", \"distplot\", \"distplot\", \"distplot\", \"distplot\", \"distplot\", \"distplot\", \"distplot\", \"distplot\", \"distplot\", \"distplot\", \"distplot\", \"distplot\", \"distplot\", \"distplot\", \"distplot\", \"distplot\", \"distplot\", \"distplot\", \"distplot\", \"distplot\", \"distplot\", \"distplot\", \"distplot\", \"distplot\", \"distplot\", \"distplot\", \"distplot\", \"distplot\", \"distplot\", \"distplot\", \"distplot\", \"distplot\", \"distplot\", \"distplot\", \"distplot\", \"distplot\", \"distplot\", \"distplot\", \"distplot\", \"distplot\", \"distplot\", \"distplot\", \"distplot\", \"distplot\", \"distplot\", \"distplot\", \"distplot\", \"distplot\", \"distplot\", \"distplot\", \"distplot\", \"distplot\", \"distplot\", \"distplot\", \"distplot\", \"distplot\", \"distplot\", \"distplot\", \"distplot\", \"distplot\", \"distplot\", \"distplot\", \"distplot\", \"distplot\", \"distplot\", \"distplot\", \"distplot\", \"distplot\", \"distplot\", \"distplot\", \"distplot\", \"distplot\", \"distplot\", \"distplot\", \"distplot\", \"distplot\", \"distplot\", \"distplot\", \"distplot\", \"distplot\", \"distplot\", \"distplot\", \"distplot\", \"distplot\", \"distplot\", \"distplot\", \"distplot\", \"distplot\", \"distplot\", \"distplot\", \"distplot\", \"distplot\", \"distplot\", \"distplot\", \"distplot\", \"distplot\", \"distplot\", \"distplot\", \"distplot\", \"distplot\", \"distplot\", \"distplot\", \"distplot\", \"distplot\", \"distplot\", \"distplot\", \"distplot\", \"distplot\", \"distplot\", \"distplot\", \"distplot\", \"distplot\", \"distplot\", \"distplot\", \"distplot\", \"distplot\", \"distplot\", \"distplot\", \"distplot\", \"distplot\", \"distplot\", \"distplot\", \"distplot\", \"distplot\", \"distplot\", \"distplot\", \"distplot\", \"distplot\", \"distplot\", \"distplot\", \"distplot\", \"distplot\", \"distplot\", \"distplot\", \"distplot\", \"distplot\", \"distplot\", \"distplot\", \"distplot\", \"distplot\", \"distplot\", \"distplot\", \"distplot\", \"distplot\", \"distplot\", \"distplot\", \"distplot\", \"distplot\", \"distplot\", \"distplot\", \"distplot\", \"distplot\", \"distplot\", \"distplot\", \"distplot\", \"distplot\", \"distplot\", \"distplot\", \"distplot\", \"distplot\", \"distplot\", \"distplot\", \"distplot\", \"distplot\", \"distplot\", \"distplot\", \"distplot\", \"distplot\", \"distplot\", \"distplot\", \"distplot\", \"distplot\", \"distplot\", \"distplot\", \"distplot\", \"distplot\", \"distplot\", \"distplot\", \"distplot\", \"distplot\", \"distplot\", \"distplot\", \"distplot\", \"distplot\", \"distplot\", \"distplot\", \"distplot\", \"distplot\", \"distplot\", \"distplot\", \"distplot\", \"distplot\", \"distplot\", \"distplot\", \"distplot\", \"distplot\", \"distplot\", \"distplot\", \"distplot\", \"distplot\", \"distplot\", \"distplot\", \"distplot\", \"distplot\", \"distplot\", \"distplot\", \"distplot\", \"distplot\", \"distplot\", \"distplot\", \"distplot\", \"distplot\", \"distplot\", \"distplot\", \"distplot\", \"distplot\", \"distplot\", \"distplot\", \"distplot\", \"distplot\", \"distplot\", \"distplot\", \"distplot\", \"distplot\", \"distplot\", \"distplot\", \"distplot\", \"distplot\", \"distplot\", \"distplot\", \"distplot\", \"distplot\", \"distplot\", \"distplot\", \"distplot\", \"distplot\", \"distplot\", \"distplot\", \"distplot\", \"distplot\", \"distplot\", \"distplot\", \"distplot\", \"distplot\", \"distplot\", \"distplot\", \"distplot\", \"distplot\", \"distplot\", \"distplot\", \"distplot\", \"distplot\", \"distplot\", \"distplot\", \"distplot\", \"distplot\", \"distplot\", \"distplot\", \"distplot\", \"distplot\", \"distplot\", \"distplot\", \"distplot\", \"distplot\", \"distplot\", \"distplot\", \"distplot\", \"distplot\", \"distplot\", \"distplot\", \"distplot\", \"distplot\", \"distplot\", \"distplot\", \"distplot\", \"distplot\", \"distplot\", \"distplot\", \"distplot\", \"distplot\", \"distplot\", \"distplot\", \"distplot\", \"distplot\", \"distplot\", \"distplot\", \"distplot\", \"distplot\", \"distplot\", \"distplot\", \"distplot\", \"distplot\", \"distplot\", \"distplot\", \"distplot\", \"distplot\", \"distplot\", \"distplot\", \"distplot\", \"distplot\", \"distplot\", \"distplot\", \"distplot\", \"distplot\", \"distplot\", \"distplot\", \"distplot\", \"distplot\", \"distplot\", \"distplot\", \"distplot\", \"distplot\", \"distplot\", \"distplot\", \"distplot\", \"distplot\", \"distplot\", \"distplot\", \"distplot\", \"distplot\", \"distplot\", \"distplot\", \"distplot\", \"distplot\", \"distplot\", \"distplot\", \"distplot\", \"distplot\", \"distplot\", \"distplot\", \"distplot\", \"distplot\", \"distplot\", \"distplot\", \"distplot\", \"distplot\", \"distplot\", \"distplot\", \"distplot\", \"distplot\", \"distplot\", \"distplot\", \"distplot\", \"distplot\", \"distplot\", \"distplot\", \"distplot\", \"distplot\", \"distplot\", \"distplot\", \"distplot\", \"distplot\", \"distplot\", \"distplot\", \"distplot\", \"distplot\", \"distplot\", \"distplot\", \"distplot\", \"distplot\", \"distplot\", \"distplot\", \"distplot\", \"distplot\", \"distplot\", \"distplot\", \"distplot\", \"distplot\", \"distplot\", \"distplot\", \"distplot\", \"distplot\", \"distplot\", \"distplot\", \"distplot\", \"distplot\", \"distplot\", \"distplot\", \"distplot\", \"distplot\", \"distplot\", \"distplot\", \"distplot\", \"distplot\", \"distplot\", \"distplot\", \"distplot\", \"distplot\", \"distplot\", \"distplot\", \"distplot\", \"distplot\", \"distplot\", \"distplot\", \"distplot\", \"distplot\", \"distplot\", \"distplot\", \"distplot\", \"distplot\", \"distplot\", \"distplot\", \"distplot\", \"distplot\", \"distplot\", \"distplot\", \"distplot\", \"distplot\", \"distplot\", \"distplot\", \"distplot\", \"distplot\", \"distplot\", \"distplot\", \"distplot\", \"distplot\", \"distplot\", \"distplot\", \"distplot\", \"distplot\", \"distplot\", \"distplot\", \"distplot\", \"distplot\", \"distplot\", \"distplot\", \"distplot\", \"distplot\", \"distplot\", \"distplot\", \"distplot\", \"distplot\", \"distplot\", \"distplot\", \"distplot\", \"distplot\", \"distplot\", \"distplot\", \"distplot\", \"distplot\", \"distplot\", \"distplot\", \"distplot\", \"distplot\", \"distplot\", \"distplot\", \"distplot\", \"distplot\", \"distplot\", \"distplot\", \"distplot\", \"distplot\", \"distplot\", \"distplot\", \"distplot\", \"distplot\", \"distplot\", \"distplot\", \"distplot\", \"distplot\", \"distplot\", \"distplot\", \"distplot\", \"distplot\", \"distplot\", \"distplot\", \"distplot\", \"distplot\", \"distplot\", \"distplot\", \"distplot\", \"distplot\", \"distplot\", \"distplot\", \"distplot\", \"distplot\", \"distplot\", \"distplot\", \"distplot\", \"distplot\", \"distplot\", \"distplot\", \"distplot\", \"distplot\", \"distplot\", \"distplot\", \"distplot\", \"distplot\", \"distplot\", \"distplot\", \"distplot\", \"distplot\", \"distplot\", \"distplot\", \"distplot\", \"distplot\", \"distplot\", \"distplot\", \"distplot\", \"distplot\", \"distplot\", \"distplot\", \"distplot\", \"distplot\", \"distplot\", \"distplot\", \"distplot\", \"distplot\", \"distplot\", \"distplot\", \"distplot\", \"distplot\", \"distplot\", \"distplot\", \"distplot\", \"distplot\", \"distplot\", \"distplot\", \"distplot\", \"distplot\", \"distplot\", \"distplot\", \"distplot\", \"distplot\", \"distplot\", \"distplot\", \"distplot\", \"distplot\", \"distplot\", \"distplot\", \"distplot\", \"distplot\", \"distplot\", \"distplot\", \"distplot\", \"distplot\", \"distplot\", \"distplot\", \"distplot\", \"distplot\", \"distplot\", \"distplot\", \"distplot\", \"distplot\", \"distplot\", \"distplot\", \"distplot\", \"distplot\", \"distplot\", \"distplot\", \"distplot\", \"distplot\", \"distplot\", \"distplot\", \"distplot\", \"distplot\", \"distplot\", \"distplot\", \"distplot\", \"distplot\", \"distplot\", \"distplot\", \"distplot\", \"distplot\", \"distplot\", \"distplot\", \"distplot\", \"distplot\", \"distplot\", \"distplot\", \"distplot\", \"distplot\", \"distplot\", \"distplot\", \"distplot\", \"distplot\", \"distplot\", \"distplot\", \"distplot\", \"distplot\", \"distplot\", \"distplot\", \"distplot\", \"distplot\", \"distplot\", \"distplot\", \"distplot\", \"distplot\", \"distplot\", \"distplot\", \"distplot\", \"distplot\", \"distplot\", \"distplot\", \"distplot\", \"distplot\", \"distplot\", \"distplot\", \"distplot\", \"distplot\", \"distplot\", \"distplot\", \"distplot\", \"distplot\", \"distplot\", \"distplot\", \"distplot\", \"distplot\", \"distplot\", \"distplot\", \"distplot\", \"distplot\", \"distplot\", \"distplot\", \"distplot\", \"distplot\", \"distplot\", \"distplot\", \"distplot\", \"distplot\", \"distplot\", \"distplot\", \"distplot\", \"distplot\", \"distplot\", \"distplot\", \"distplot\", \"distplot\", \"distplot\", \"distplot\", \"distplot\", \"distplot\", \"distplot\", \"distplot\", \"distplot\", \"distplot\", \"distplot\", \"distplot\", \"distplot\", \"distplot\", \"distplot\", \"distplot\", \"distplot\", \"distplot\", \"distplot\", \"distplot\", \"distplot\", \"distplot\", \"distplot\", \"distplot\", \"distplot\", \"distplot\", \"distplot\", \"distplot\", \"distplot\", \"distplot\", \"distplot\", \"distplot\", \"distplot\", \"distplot\", \"distplot\", \"distplot\", \"distplot\", \"distplot\", \"distplot\", \"distplot\", \"distplot\", \"distplot\", \"distplot\", \"distplot\", \"distplot\", \"distplot\", \"distplot\", \"distplot\", \"distplot\", \"distplot\", \"distplot\", \"distplot\", \"distplot\", \"distplot\", \"distplot\", \"distplot\", \"distplot\", \"distplot\", \"distplot\", \"distplot\", \"distplot\", \"distplot\", \"distplot\", \"distplot\", \"distplot\", \"distplot\", \"distplot\", \"distplot\", \"distplot\", \"distplot\", \"distplot\", \"distplot\", \"distplot\", \"distplot\", \"distplot\", \"distplot\", \"distplot\", \"distplot\", \"distplot\", \"distplot\", \"distplot\", \"distplot\", \"distplot\", \"distplot\", \"distplot\", \"distplot\", \"distplot\", \"distplot\", \"distplot\", \"distplot\", \"distplot\", \"distplot\", \"distplot\", \"distplot\", \"distplot\", \"distplot\", \"distplot\", \"distplot\", \"distplot\", \"distplot\", \"distplot\", \"distplot\", \"distplot\", \"distplot\", \"distplot\", \"distplot\", \"distplot\", \"distplot\", \"distplot\", \"distplot\", \"distplot\", \"distplot\", \"distplot\", \"distplot\", \"distplot\", \"distplot\", \"distplot\", \"distplot\", \"distplot\", \"distplot\", \"distplot\", \"distplot\", \"distplot\", \"distplot\", \"distplot\", \"distplot\", \"distplot\", \"distplot\", \"distplot\", \"distplot\", \"distplot\", \"distplot\", \"distplot\", \"distplot\", \"distplot\", \"distplot\", \"distplot\", \"distplot\", \"distplot\", \"distplot\", \"distplot\", \"distplot\", \"distplot\", \"distplot\", \"distplot\", \"distplot\", \"distplot\", \"distplot\", \"distplot\", \"distplot\", \"distplot\", \"distplot\", \"distplot\", \"distplot\", \"distplot\", \"distplot\", \"distplot\", \"distplot\", \"distplot\", \"distplot\", \"distplot\", \"distplot\", \"distplot\", \"distplot\", \"distplot\", \"distplot\", \"distplot\", \"distplot\", \"distplot\", \"distplot\", \"distplot\", \"distplot\", \"distplot\", \"distplot\", \"distplot\", \"distplot\", \"distplot\", \"distplot\", \"distplot\", \"distplot\", \"distplot\", \"distplot\", \"distplot\", \"distplot\", \"distplot\", \"distplot\", \"distplot\", \"distplot\", \"distplot\", \"distplot\", \"distplot\", \"distplot\", \"distplot\", \"distplot\", \"distplot\", \"distplot\", \"distplot\", \"distplot\", \"distplot\", \"distplot\", \"distplot\", \"distplot\", \"distplot\", \"distplot\", \"distplot\", \"distplot\", \"distplot\", \"distplot\", \"distplot\", \"distplot\", \"distplot\", \"distplot\", \"distplot\", \"distplot\", \"distplot\", \"distplot\", \"distplot\", \"distplot\", \"distplot\", \"distplot\", \"distplot\", \"distplot\", \"distplot\", \"distplot\", \"distplot\", \"distplot\", \"distplot\", \"distplot\", \"distplot\", \"distplot\", \"distplot\", \"distplot\", \"distplot\", \"distplot\", \"distplot\", \"distplot\", \"distplot\", \"distplot\", \"distplot\", \"distplot\", \"distplot\", \"distplot\", \"distplot\", \"distplot\", \"distplot\", \"distplot\", \"distplot\", \"distplot\", \"distplot\", \"distplot\", \"distplot\", \"distplot\", \"distplot\", \"distplot\", \"distplot\", \"distplot\", \"distplot\", \"distplot\", \"distplot\", \"distplot\", \"distplot\", \"distplot\", \"distplot\", \"distplot\", \"distplot\", \"distplot\", \"distplot\", \"distplot\", \"distplot\", \"distplot\", \"distplot\", \"distplot\", \"distplot\", \"distplot\", \"distplot\", \"distplot\", \"distplot\", \"distplot\", \"distplot\", \"distplot\", \"distplot\", \"distplot\", \"distplot\", \"distplot\", \"distplot\", \"distplot\", \"distplot\", \"distplot\", \"distplot\", \"distplot\", \"distplot\", \"distplot\", \"distplot\", \"distplot\", \"distplot\", \"distplot\", \"distplot\", \"distplot\", \"distplot\", \"distplot\", \"distplot\", \"distplot\", \"distplot\", \"distplot\", \"distplot\", \"distplot\", \"distplot\", \"distplot\", \"distplot\", \"distplot\", \"distplot\", \"distplot\", \"distplot\", \"distplot\", \"distplot\", \"distplot\", \"distplot\", \"distplot\", \"distplot\", \"distplot\", \"distplot\", \"distplot\", \"distplot\", \"distplot\", \"distplot\", \"distplot\", \"distplot\", \"distplot\", \"distplot\", \"distplot\", \"distplot\", \"distplot\", \"distplot\", \"distplot\", \"distplot\", \"distplot\", \"distplot\", \"distplot\", \"distplot\", \"distplot\", \"distplot\", \"distplot\", \"distplot\", \"distplot\", \"distplot\", \"distplot\", \"distplot\", \"distplot\", \"distplot\", \"distplot\", \"distplot\", \"distplot\", \"distplot\", \"distplot\", \"distplot\", \"distplot\", \"distplot\", \"distplot\", \"distplot\", \"distplot\", \"distplot\", \"distplot\", \"distplot\", \"distplot\", \"distplot\", \"distplot\", \"distplot\", \"distplot\", \"distplot\", \"distplot\", \"distplot\", \"distplot\", \"distplot\", \"distplot\", \"distplot\", \"distplot\", \"distplot\", \"distplot\", \"distplot\", \"distplot\", \"distplot\", \"distplot\"], \"yaxis\": \"y2\"}],\n",
              "                        {\"barmode\": \"overlay\", \"hovermode\": \"closest\", \"legend\": {\"traceorder\": \"reversed\"}, \"template\": {\"data\": {\"bar\": [{\"error_x\": {\"color\": \"#2a3f5f\"}, \"error_y\": {\"color\": \"#2a3f5f\"}, \"marker\": {\"line\": {\"color\": \"#E5ECF6\", \"width\": 0.5}}, \"type\": \"bar\"}], \"barpolar\": [{\"marker\": {\"line\": {\"color\": \"#E5ECF6\", \"width\": 0.5}}, \"type\": \"barpolar\"}], \"carpet\": [{\"aaxis\": {\"endlinecolor\": \"#2a3f5f\", \"gridcolor\": \"white\", \"linecolor\": \"white\", \"minorgridcolor\": \"white\", \"startlinecolor\": \"#2a3f5f\"}, \"baxis\": {\"endlinecolor\": \"#2a3f5f\", \"gridcolor\": \"white\", \"linecolor\": \"white\", \"minorgridcolor\": \"white\", \"startlinecolor\": \"#2a3f5f\"}, \"type\": \"carpet\"}], \"choropleth\": [{\"colorbar\": {\"outlinewidth\": 0, \"ticks\": \"\"}, \"type\": \"choropleth\"}], \"contour\": [{\"colorbar\": {\"outlinewidth\": 0, \"ticks\": \"\"}, \"colorscale\": [[0.0, \"#0d0887\"], [0.1111111111111111, \"#46039f\"], [0.2222222222222222, \"#7201a8\"], [0.3333333333333333, \"#9c179e\"], [0.4444444444444444, \"#bd3786\"], [0.5555555555555556, \"#d8576b\"], [0.6666666666666666, \"#ed7953\"], [0.7777777777777778, \"#fb9f3a\"], [0.8888888888888888, \"#fdca26\"], [1.0, \"#f0f921\"]], \"type\": \"contour\"}], \"contourcarpet\": [{\"colorbar\": {\"outlinewidth\": 0, \"ticks\": \"\"}, \"type\": \"contourcarpet\"}], \"heatmap\": [{\"colorbar\": {\"outlinewidth\": 0, \"ticks\": \"\"}, \"colorscale\": [[0.0, \"#0d0887\"], [0.1111111111111111, \"#46039f\"], [0.2222222222222222, \"#7201a8\"], [0.3333333333333333, \"#9c179e\"], [0.4444444444444444, \"#bd3786\"], [0.5555555555555556, \"#d8576b\"], [0.6666666666666666, \"#ed7953\"], [0.7777777777777778, \"#fb9f3a\"], [0.8888888888888888, \"#fdca26\"], [1.0, \"#f0f921\"]], \"type\": \"heatmap\"}], \"heatmapgl\": [{\"colorbar\": {\"outlinewidth\": 0, \"ticks\": \"\"}, \"colorscale\": [[0.0, \"#0d0887\"], [0.1111111111111111, \"#46039f\"], [0.2222222222222222, \"#7201a8\"], [0.3333333333333333, \"#9c179e\"], [0.4444444444444444, \"#bd3786\"], [0.5555555555555556, \"#d8576b\"], [0.6666666666666666, \"#ed7953\"], [0.7777777777777778, \"#fb9f3a\"], [0.8888888888888888, \"#fdca26\"], [1.0, \"#f0f921\"]], \"type\": \"heatmapgl\"}], \"histogram\": [{\"marker\": {\"colorbar\": {\"outlinewidth\": 0, \"ticks\": \"\"}}, \"type\": \"histogram\"}], \"histogram2d\": [{\"colorbar\": {\"outlinewidth\": 0, \"ticks\": \"\"}, \"colorscale\": [[0.0, \"#0d0887\"], [0.1111111111111111, \"#46039f\"], [0.2222222222222222, \"#7201a8\"], [0.3333333333333333, \"#9c179e\"], [0.4444444444444444, \"#bd3786\"], [0.5555555555555556, \"#d8576b\"], [0.6666666666666666, \"#ed7953\"], [0.7777777777777778, \"#fb9f3a\"], [0.8888888888888888, \"#fdca26\"], [1.0, \"#f0f921\"]], \"type\": \"histogram2d\"}], \"histogram2dcontour\": [{\"colorbar\": {\"outlinewidth\": 0, \"ticks\": \"\"}, \"colorscale\": [[0.0, \"#0d0887\"], [0.1111111111111111, \"#46039f\"], [0.2222222222222222, \"#7201a8\"], [0.3333333333333333, \"#9c179e\"], [0.4444444444444444, \"#bd3786\"], [0.5555555555555556, \"#d8576b\"], [0.6666666666666666, \"#ed7953\"], [0.7777777777777778, \"#fb9f3a\"], [0.8888888888888888, \"#fdca26\"], [1.0, \"#f0f921\"]], \"type\": \"histogram2dcontour\"}], \"mesh3d\": [{\"colorbar\": {\"outlinewidth\": 0, \"ticks\": \"\"}, \"type\": \"mesh3d\"}], \"parcoords\": [{\"line\": {\"colorbar\": {\"outlinewidth\": 0, \"ticks\": \"\"}}, \"type\": \"parcoords\"}], \"pie\": [{\"automargin\": true, \"type\": \"pie\"}], \"scatter\": [{\"marker\": {\"colorbar\": {\"outlinewidth\": 0, \"ticks\": \"\"}}, \"type\": \"scatter\"}], \"scatter3d\": [{\"line\": {\"colorbar\": {\"outlinewidth\": 0, \"ticks\": \"\"}}, \"marker\": {\"colorbar\": {\"outlinewidth\": 0, \"ticks\": \"\"}}, \"type\": \"scatter3d\"}], \"scattercarpet\": [{\"marker\": {\"colorbar\": {\"outlinewidth\": 0, \"ticks\": \"\"}}, \"type\": \"scattercarpet\"}], \"scattergeo\": [{\"marker\": {\"colorbar\": {\"outlinewidth\": 0, \"ticks\": \"\"}}, \"type\": \"scattergeo\"}], \"scattergl\": [{\"marker\": {\"colorbar\": {\"outlinewidth\": 0, \"ticks\": \"\"}}, \"type\": \"scattergl\"}], \"scattermapbox\": [{\"marker\": {\"colorbar\": {\"outlinewidth\": 0, \"ticks\": \"\"}}, \"type\": \"scattermapbox\"}], \"scatterpolar\": [{\"marker\": {\"colorbar\": {\"outlinewidth\": 0, \"ticks\": \"\"}}, \"type\": \"scatterpolar\"}], \"scatterpolargl\": [{\"marker\": {\"colorbar\": {\"outlinewidth\": 0, \"ticks\": \"\"}}, \"type\": \"scatterpolargl\"}], \"scatterternary\": [{\"marker\": {\"colorbar\": {\"outlinewidth\": 0, \"ticks\": \"\"}}, \"type\": \"scatterternary\"}], \"surface\": [{\"colorbar\": {\"outlinewidth\": 0, \"ticks\": \"\"}, \"colorscale\": [[0.0, \"#0d0887\"], [0.1111111111111111, \"#46039f\"], [0.2222222222222222, \"#7201a8\"], [0.3333333333333333, \"#9c179e\"], [0.4444444444444444, \"#bd3786\"], [0.5555555555555556, \"#d8576b\"], [0.6666666666666666, \"#ed7953\"], [0.7777777777777778, \"#fb9f3a\"], [0.8888888888888888, \"#fdca26\"], [1.0, \"#f0f921\"]], \"type\": \"surface\"}], \"table\": [{\"cells\": {\"fill\": {\"color\": \"#EBF0F8\"}, \"line\": {\"color\": \"white\"}}, \"header\": {\"fill\": {\"color\": \"#C8D4E3\"}, \"line\": {\"color\": \"white\"}}, \"type\": \"table\"}]}, \"layout\": {\"annotationdefaults\": {\"arrowcolor\": \"#2a3f5f\", \"arrowhead\": 0, \"arrowwidth\": 1}, \"coloraxis\": {\"colorbar\": {\"outlinewidth\": 0, \"ticks\": \"\"}}, \"colorscale\": {\"diverging\": [[0, \"#8e0152\"], [0.1, \"#c51b7d\"], [0.2, \"#de77ae\"], [0.3, \"#f1b6da\"], [0.4, \"#fde0ef\"], [0.5, \"#f7f7f7\"], [0.6, \"#e6f5d0\"], [0.7, \"#b8e186\"], [0.8, \"#7fbc41\"], [0.9, \"#4d9221\"], [1, \"#276419\"]], \"sequential\": [[0.0, \"#0d0887\"], [0.1111111111111111, \"#46039f\"], [0.2222222222222222, \"#7201a8\"], [0.3333333333333333, \"#9c179e\"], [0.4444444444444444, \"#bd3786\"], [0.5555555555555556, \"#d8576b\"], [0.6666666666666666, \"#ed7953\"], [0.7777777777777778, \"#fb9f3a\"], [0.8888888888888888, \"#fdca26\"], [1.0, \"#f0f921\"]], \"sequentialminus\": [[0.0, \"#0d0887\"], [0.1111111111111111, \"#46039f\"], [0.2222222222222222, \"#7201a8\"], [0.3333333333333333, \"#9c179e\"], [0.4444444444444444, \"#bd3786\"], [0.5555555555555556, \"#d8576b\"], [0.6666666666666666, \"#ed7953\"], [0.7777777777777778, \"#fb9f3a\"], [0.8888888888888888, \"#fdca26\"], [1.0, \"#f0f921\"]]}, \"colorway\": [\"#636efa\", \"#EF553B\", \"#00cc96\", \"#ab63fa\", \"#FFA15A\", \"#19d3f3\", \"#FF6692\", \"#B6E880\", \"#FF97FF\", \"#FECB52\"], \"font\": {\"color\": \"#2a3f5f\"}, \"geo\": {\"bgcolor\": \"white\", \"lakecolor\": \"white\", \"landcolor\": \"#E5ECF6\", \"showlakes\": true, \"showland\": true, \"subunitcolor\": \"white\"}, \"hoverlabel\": {\"align\": \"left\"}, \"hovermode\": \"closest\", \"mapbox\": {\"style\": \"light\"}, \"paper_bgcolor\": \"white\", \"plot_bgcolor\": \"#E5ECF6\", \"polar\": {\"angularaxis\": {\"gridcolor\": \"white\", \"linecolor\": \"white\", \"ticks\": \"\"}, \"bgcolor\": \"#E5ECF6\", \"radialaxis\": {\"gridcolor\": \"white\", \"linecolor\": \"white\", \"ticks\": \"\"}}, \"scene\": {\"xaxis\": {\"backgroundcolor\": \"#E5ECF6\", \"gridcolor\": \"white\", \"gridwidth\": 2, \"linecolor\": \"white\", \"showbackground\": true, \"ticks\": \"\", \"zerolinecolor\": \"white\"}, \"yaxis\": {\"backgroundcolor\": \"#E5ECF6\", \"gridcolor\": \"white\", \"gridwidth\": 2, \"linecolor\": \"white\", \"showbackground\": true, \"ticks\": \"\", \"zerolinecolor\": \"white\"}, \"zaxis\": {\"backgroundcolor\": \"#E5ECF6\", \"gridcolor\": \"white\", \"gridwidth\": 2, \"linecolor\": \"white\", \"showbackground\": true, \"ticks\": \"\", \"zerolinecolor\": \"white\"}}, \"shapedefaults\": {\"line\": {\"color\": \"#2a3f5f\"}}, \"ternary\": {\"aaxis\": {\"gridcolor\": \"white\", \"linecolor\": \"white\", \"ticks\": \"\"}, \"baxis\": {\"gridcolor\": \"white\", \"linecolor\": \"white\", \"ticks\": \"\"}, \"bgcolor\": \"#E5ECF6\", \"caxis\": {\"gridcolor\": \"white\", \"linecolor\": \"white\", \"ticks\": \"\"}}, \"title\": {\"x\": 0.05}, \"xaxis\": {\"automargin\": true, \"gridcolor\": \"white\", \"linecolor\": \"white\", \"ticks\": \"\", \"title\": {\"standoff\": 15}, \"zerolinecolor\": \"white\", \"zerolinewidth\": 2}, \"yaxis\": {\"automargin\": true, \"gridcolor\": \"white\", \"linecolor\": \"white\", \"ticks\": \"\", \"title\": {\"standoff\": 15}, \"zerolinecolor\": \"white\", \"zerolinewidth\": 2}}}, \"xaxis\": {\"anchor\": \"y2\", \"domain\": [0.0, 1.0], \"zeroline\": false}, \"yaxis\": {\"anchor\": \"free\", \"domain\": [0.35, 1], \"position\": 0.0}, \"yaxis2\": {\"anchor\": \"x\", \"domain\": [0, 0.25], \"dtick\": 1, \"showticklabels\": false}},\n",
              "                        {\"responsive\": true}\n",
              "                    ).then(function(){\n",
              "                            \n",
              "var gd = document.getElementById('c3879fb7-5ea7-46f2-899f-63366360bf4c');\n",
              "var x = new MutationObserver(function (mutations, observer) {{\n",
              "        var display = window.getComputedStyle(gd).display;\n",
              "        if (!display || display === 'none') {{\n",
              "            console.log([gd, 'removed!']);\n",
              "            Plotly.purge(gd);\n",
              "            observer.disconnect();\n",
              "        }}\n",
              "}});\n",
              "\n",
              "// Listen for the removal of the full notebook cells\n",
              "var notebookContainer = gd.closest('#notebook-container');\n",
              "if (notebookContainer) {{\n",
              "    x.observe(notebookContainer, {childList: true});\n",
              "}}\n",
              "\n",
              "// Listen for the clearing of the current output cell\n",
              "var outputEl = gd.closest('.output');\n",
              "if (outputEl) {{\n",
              "    x.observe(outputEl, {childList: true});\n",
              "}}\n",
              "\n",
              "                        })\n",
              "                };\n",
              "                \n",
              "            </script>\n",
              "        </div>\n",
              "</body>\n",
              "</html>"
            ]
          },
          "metadata": {
            "tags": []
          }
        }
      ]
    },
    {
      "cell_type": "markdown",
      "metadata": {
        "id": "hcQKXiGBGM83"
      },
      "source": [
        "### As you may notice during the downloading process, we have for the same date 3 different extentions for the same image (QF.tif, UL.tif, TL.tif), but the problem it's not the case for all the images. Soo we. have to pick the the extentions that appear for almost all the images, because with don't want to train our model with different inputs.\n",
        "### P.S: it might not be the case for you, you can only 1 extention or maybe 2, but just make attention to it."
      ]
    },
    {
      "cell_type": "code",
      "metadata": {
        "id": "H5yo3KSQ0jLx"
      },
      "source": [
        "\n",
        "directory = '/content/drive/MyDrive/Senti_Images-2017to2020_Area3'\n",
        "a, b, c,  d = 0, 0, 0, 0\n",
        "for filename in os.listdir(directory):\n",
        "    if filename.endswith(\"TL.tif\"):\n",
        "      a+=1\n",
        "    if filename.endswith(\"UL.tif\"):\n",
        "      b+=1\n",
        "    if filename.endswith(\"QF.tif\"):\n",
        "      c+=1\n",
        "    if filename.endswith(\"QF.tif\"):\n",
        "      d+=1"
      ],
      "execution_count": null,
      "outputs": []
    },
    {
      "cell_type": "code",
      "metadata": {
        "colab": {
          "base_uri": "https://localhost:8080/"
        },
        "id": "NQiljxak09SK",
        "outputId": "cba2190d-48a1-4620-ae8d-6766c6b72407"
      },
      "source": [
        "a,b,c, d"
      ],
      "execution_count": null,
      "outputs": [
        {
          "output_type": "execute_result",
          "data": {
            "text/plain": [
              "(159, 169, 156, 156)"
            ]
          },
          "metadata": {
            "tags": []
          },
          "execution_count": 72
        }
      ]
    },
    {
      "cell_type": "code",
      "metadata": {
        "id": "9Lc3LQaI1JZ2"
      },
      "source": [
        "## Get a list of the dates from image name :\n",
        "\n",
        "data_list =[]\n",
        "Vals = []\n",
        "\n",
        "for filename in os.listdir(directory):\n",
        "    if filename.endswith(\".tif\"):\n",
        "\n",
        "      im_date = filename[0:4]+\"-\"+filename[4:6]+\"-\"+filename[6:8]\n",
        "      data_list.append(im_date)"
      ],
      "execution_count": null,
      "outputs": []
    },
    {
      "cell_type": "code",
      "metadata": {
        "id": "pJWLbOlu1S54"
      },
      "source": [
        "## Check unique dates:\n",
        "\n",
        "myset = set(data_list)"
      ],
      "execution_count": null,
      "outputs": []
    },
    {
      "cell_type": "code",
      "metadata": {
        "colab": {
          "base_uri": "https://localhost:8080/"
        },
        "id": "b8Xxf5q62qsL",
        "outputId": "2f582332-33b5-4744-a738-776a1a4c5610"
      },
      "source": [
        "len(data_list)"
      ],
      "execution_count": null,
      "outputs": [
        {
          "output_type": "execute_result",
          "data": {
            "text/plain": [
              "642"
            ]
          },
          "metadata": {
            "tags": []
          },
          "execution_count": 75
        }
      ]
    },
    {
      "cell_type": "code",
      "metadata": {
        "colab": {
          "base_uri": "https://localhost:8080/"
        },
        "id": "WITcN49_2pC8",
        "outputId": "1780c7df-bf6b-41b1-8d2a-6ddd073d062e"
      },
      "source": [
        "len(myset)"
      ],
      "execution_count": null,
      "outputs": [
        {
          "output_type": "execute_result",
          "data": {
            "text/plain": [
              "192"
            ]
          },
          "metadata": {
            "tags": []
          },
          "execution_count": 76
        }
      ]
    },
    {
      "cell_type": "code",
      "metadata": {
        "id": "tfEHOLVYSnvs",
        "colab": {
          "base_uri": "https://localhost:8080/",
          "height": 228
        },
        "outputId": "875fbfec-6faf-4ffb-d3b3-908394e1b458"
      },
      "source": [
        "## Selection of the only useful days and add images names :\n",
        "\n",
        "directory = '/content/drive/MyDrive/Senti_Images-2017to2020_Area3'\n",
        "data_list =[]\n",
        "Vals = []\n",
        "\n",
        "for filename in os.listdir(directory):\n",
        "    if filename.endswith(\"UL.tif\"):\n",
        "\n",
        "      im_date = filename[0:4]+\"-\"+filename[4:6]+\"-\"+filename[6:8]\n",
        "\n",
        "      if im_date in Rdataset[\"date_time\"].values : \n",
        "          index_date= np.where(Rdataset[\"date_time\"]==im_date )\n",
        "          rdata = Rdataset.iloc[index_date]\n",
        "          data_list.append(rdata)\n",
        "          dataset = pd.concat(data_list)\n",
        "          Vals.append(filename)\n",
        "\n",
        "\n",
        "dataset['Image_name']= Vals\n",
        "dataset.head()\n",
        "      "
      ],
      "execution_count": null,
      "outputs": [
        {
          "output_type": "execute_result",
          "data": {
            "text/html": [
              "<div>\n",
              "<style scoped>\n",
              "    .dataframe tbody tr th:only-of-type {\n",
              "        vertical-align: middle;\n",
              "    }\n",
              "\n",
              "    .dataframe tbody tr th {\n",
              "        vertical-align: top;\n",
              "    }\n",
              "\n",
              "    .dataframe thead th {\n",
              "        text-align: right;\n",
              "    }\n",
              "</style>\n",
              "<table border=\"1\" class=\"dataframe\">\n",
              "  <thead>\n",
              "    <tr style=\"text-align: right;\">\n",
              "      <th></th>\n",
              "      <th>date_time</th>\n",
              "      <th>soil_moisture_depth_0.05</th>\n",
              "      <th>Image_name</th>\n",
              "    </tr>\n",
              "  </thead>\n",
              "  <tbody>\n",
              "    <tr>\n",
              "      <th>42</th>\n",
              "      <td>2017-04-12</td>\n",
              "      <td>0.095</td>\n",
              "      <td>20170412T110621_20170412T111708_T30TUL.tif</td>\n",
              "    </tr>\n",
              "    <tr>\n",
              "      <th>62</th>\n",
              "      <td>2017-05-02</td>\n",
              "      <td>0.083</td>\n",
              "      <td>20170502T110621_20170502T110937_T30TUL.tif</td>\n",
              "    </tr>\n",
              "    <tr>\n",
              "      <th>82</th>\n",
              "      <td>2017-05-22</td>\n",
              "      <td>0.105</td>\n",
              "      <td>20170522T110621_20170522T110912_T30TUL.tif</td>\n",
              "    </tr>\n",
              "    <tr>\n",
              "      <th>92</th>\n",
              "      <td>2017-06-01</td>\n",
              "      <td>0.101</td>\n",
              "      <td>20170601T110651_20170601T111225_T30TUL.tif</td>\n",
              "    </tr>\n",
              "    <tr>\n",
              "      <th>102</th>\n",
              "      <td>2017-06-11</td>\n",
              "      <td>0.083</td>\n",
              "      <td>20170611T110621_20170611T111012_T30TUL.tif</td>\n",
              "    </tr>\n",
              "  </tbody>\n",
              "</table>\n",
              "</div>"
            ],
            "text/plain": [
              "      date_time  ...                                  Image_name\n",
              "42   2017-04-12  ...  20170412T110621_20170412T111708_T30TUL.tif\n",
              "62   2017-05-02  ...  20170502T110621_20170502T110937_T30TUL.tif\n",
              "82   2017-05-22  ...  20170522T110621_20170522T110912_T30TUL.tif\n",
              "92   2017-06-01  ...  20170601T110651_20170601T111225_T30TUL.tif\n",
              "102  2017-06-11  ...  20170611T110621_20170611T111012_T30TUL.tif\n",
              "\n",
              "[5 rows x 3 columns]"
            ]
          },
          "metadata": {
            "tags": []
          },
          "execution_count": 77
        }
      ]
    },
    {
      "cell_type": "code",
      "metadata": {
        "id": "32c-j-yAS09w"
      },
      "source": [
        "## Save dataset :\n",
        "\n",
        "dataset.to_csv ('Dataset_2017to2020_Area3.csv', header=True, index=False)"
      ],
      "execution_count": null,
      "outputs": []
    },
    {
      "cell_type": "code",
      "metadata": {
        "id": "06PPMFoyC6IU"
      },
      "source": [
        "df1 = pd.read_csv('/content/drive/MyDrive/Datasets/Dataset_2017to2020_newArea.csv')\n",
        "df2 = pd.read_csv('/content/Dataset_2017to2020_Area2.csv')\n",
        "df3 = pd.read_csv('/content/Dataset_2017to2020_Area3.csv')"
      ],
      "execution_count": null,
      "outputs": []
    },
    {
      "cell_type": "code",
      "metadata": {
        "id": "wsgHN4_NFRGo"
      },
      "source": [
        "frames = [df1,df2,df3]"
      ],
      "execution_count": null,
      "outputs": []
    },
    {
      "cell_type": "code",
      "metadata": {
        "id": "_IhS-Jw3FUd7"
      },
      "source": [
        "big_df = pd.concat(frames)"
      ],
      "execution_count": null,
      "outputs": []
    },
    {
      "cell_type": "code",
      "metadata": {
        "colab": {
          "base_uri": "https://localhost:8080/",
          "height": 323
        },
        "id": "2OegkaWzFYth",
        "outputId": "5f3f2704-5b68-421b-fdd8-40b3e87488ee"
      },
      "source": [
        "big_df.describe()"
      ],
      "execution_count": null,
      "outputs": [
        {
          "output_type": "execute_result",
          "data": {
            "text/html": [
              "<div>\n",
              "<style scoped>\n",
              "    .dataframe tbody tr th:only-of-type {\n",
              "        vertical-align: middle;\n",
              "    }\n",
              "\n",
              "    .dataframe tbody tr th {\n",
              "        vertical-align: top;\n",
              "    }\n",
              "\n",
              "    .dataframe thead th {\n",
              "        text-align: right;\n",
              "    }\n",
              "</style>\n",
              "<table border=\"1\" class=\"dataframe\">\n",
              "  <thead>\n",
              "    <tr style=\"text-align: right;\">\n",
              "      <th></th>\n",
              "      <th>soil_moisture_depth_0.05</th>\n",
              "    </tr>\n",
              "  </thead>\n",
              "  <tbody>\n",
              "    <tr>\n",
              "      <th>count</th>\n",
              "      <td>505.000000</td>\n",
              "    </tr>\n",
              "    <tr>\n",
              "      <th>mean</th>\n",
              "      <td>0.154616</td>\n",
              "    </tr>\n",
              "    <tr>\n",
              "      <th>std</th>\n",
              "      <td>0.068416</td>\n",
              "    </tr>\n",
              "    <tr>\n",
              "      <th>min</th>\n",
              "      <td>0.047000</td>\n",
              "    </tr>\n",
              "    <tr>\n",
              "      <th>25%</th>\n",
              "      <td>0.101000</td>\n",
              "    </tr>\n",
              "    <tr>\n",
              "      <th>50%</th>\n",
              "      <td>0.146000</td>\n",
              "    </tr>\n",
              "    <tr>\n",
              "      <th>75%</th>\n",
              "      <td>0.198000</td>\n",
              "    </tr>\n",
              "    <tr>\n",
              "      <th>max</th>\n",
              "      <td>0.502000</td>\n",
              "    </tr>\n",
              "  </tbody>\n",
              "</table>\n",
              "</div>"
            ],
            "text/plain": [
              "       soil_moisture_depth_0.05\n",
              "count                505.000000\n",
              "mean                   0.154616\n",
              "std                    0.068416\n",
              "min                    0.047000\n",
              "25%                    0.101000\n",
              "50%                    0.146000\n",
              "75%                    0.198000\n",
              "max                    0.502000"
            ]
          },
          "metadata": {
            "tags": []
          },
          "execution_count": 83
        }
      ]
    },
    {
      "cell_type": "code",
      "metadata": {
        "colab": {
          "base_uri": "https://localhost:8080/",
          "height": 563
        },
        "id": "5eN-mF1gFbCT",
        "outputId": "265f4747-695d-4549-b593-131efae108c9"
      },
      "source": [
        "import plotly.figure_factory as ff\n",
        "\n",
        "np.random.seed(1)\n",
        "\n",
        "x = big_df['soil_moisture_depth_0.05']\n",
        "hist_data = [x]\n",
        "group_labels = ['distplot'] # name of the dataset\n",
        "\n",
        "fig = ff.create_distplot(hist_data, group_labels)\n",
        "fig.show()"
      ],
      "execution_count": null,
      "outputs": [
        {
          "output_type": "display_data",
          "data": {
            "text/html": [
              "<html>\n",
              "<head><meta charset=\"utf-8\" /></head>\n",
              "<body>\n",
              "    <div>\n",
              "            <script src=\"https://cdnjs.cloudflare.com/ajax/libs/mathjax/2.7.5/MathJax.js?config=TeX-AMS-MML_SVG\"></script><script type=\"text/javascript\">if (window.MathJax) {MathJax.Hub.Config({SVG: {font: \"STIX-Web\"}});}</script>\n",
              "                <script type=\"text/javascript\">window.PlotlyConfig = {MathJaxConfig: 'local'};</script>\n",
              "        <script src=\"https://cdn.plot.ly/plotly-latest.min.js\"></script>    \n",
              "            <div id=\"ccc64568-d75d-4071-84cb-5a6829cc7e38\" class=\"plotly-graph-div\" style=\"height:525px; width:100%;\"></div>\n",
              "            <script type=\"text/javascript\">\n",
              "                \n",
              "                    window.PLOTLYENV=window.PLOTLYENV || {};\n",
              "                    \n",
              "                if (document.getElementById(\"ccc64568-d75d-4071-84cb-5a6829cc7e38\")) {\n",
              "                    Plotly.newPlot(\n",
              "                        'ccc64568-d75d-4071-84cb-5a6829cc7e38',\n",
              "                        [{\"autobinx\": false, \"histnorm\": \"probability density\", \"legendgroup\": \"distplot\", \"marker\": {\"color\": \"rgb(31, 119, 180)\"}, \"name\": \"distplot\", \"opacity\": 0.7, \"type\": \"histogram\", \"x\": [0.168, 0.124, 0.225, 0.16699999999999998, 0.141, 0.125, 0.132, 0.267, 0.2, 0.151, 0.121, 0.112, 0.12, 0.108, 0.108, 0.101, 0.092, 0.094, 0.23, 0.203, 0.182, 0.21600000000000005, 0.21, 0.255, 0.27, 0.235, 0.235, 0.219, 0.285, 0.205, 0.275, 0.28800000000000003, 0.297, 0.233, 0.195, 0.168, 0.152, 0.16399999999999998, 0.295, 0.234, 0.182, 0.156, 0.142, 0.14, 0.135, 0.123, 0.116, 0.111, 0.102, 0.102, 0.102, 0.1, 0.1, 0.117, 0.114, 0.121, 0.12, 0.111, 0.106, 0.099, 0.092, 0.099, 0.09, 0.096, 0.273, 0.257, 0.259, 0.241, 0.229, 0.224, 0.242, 0.277, 0.251, 0.241, 0.234, 0.229, 0.227, 0.222, 0.243, 0.235, 0.223, 0.22, 0.213, 0.211, 0.197, 0.228, 0.24, 0.23, 0.21600000000000005, 0.206, 0.196, 0.182, 0.149, 0.142, 0.125, 0.141, 0.14300000000000002, 0.129, 0.123, 0.115, 0.112, 0.111, 0.115, 0.112, 0.104, 0.107, 0.101, 0.1, 0.158, 0.161, 0.149, 0.156, 0.207, 0.201, 0.184, 0.195, 0.165, 0.285, 0.25, 0.237, 0.215, 0.271, 0.24, 0.261, 0.239, 0.264, 0.255, 0.244, 0.238, 0.253, 0.246, 0.232, 0.223, 0.264, 0.249, 0.194, 0.21, 0.25, 0.207, 0.177, 0.157, 0.158, 0.145, 0.146, 0.14, 0.16, 0.187, 0.179, 0.17800000000000002, 0.184, 0.183, 0.188, 0.191, 0.192, 0.183, 0.191, 0.192, 0.19, 0.193, 0.189, 0.193, 0.321, 0.32299999999999995, 0.326, 0.466, 0.47, 0.438, 0.472, 0.502, 0.105, 0.108, 0.139, 0.13699999999999998, 0.118, 0.103, 0.102, 0.231, 0.18600000000000005, 0.141, 0.103, 0.094, 0.094, 0.085, 0.08199999999999999, 0.075, 0.068, 0.071, 0.172, 0.153, 0.13699999999999998, 0.161, 0.159, 0.204, 0.211, 0.188, 0.171, 0.187, 0.159, 0.214, 0.235, 0.227, 0.239, 0.149, 0.133, 0.122, 0.116, 0.118, 0.129, 0.159, 0.125, 0.122, 0.119, 0.118, 0.114, 0.107, 0.173, 0.154, 0.118, 0.11, 0.103, 0.097, 0.092, 0.08900000000000001, 0.08800000000000001, 0.08900000000000001, 0.086, 0.08199999999999999, 0.08, 0.075, 0.071, 0.08900000000000001, 0.095, 0.093, 0.242, 0.207, 0.218, 0.191, 0.182, 0.18, 0.211, 0.227, 0.214, 0.206, 0.199, 0.223, 0.209, 0.198, 0.205, 0.198, 0.187, 0.177, 0.16399999999999998, 0.153, 0.147, 0.173, 0.208, 0.182, 0.131, 0.108, 0.102, 0.097, 0.084, 0.083, 0.077, 0.079, 0.077, 0.071, 0.071, 0.075, 0.071, 0.102, 0.092, 0.083, 0.073, 0.073, 0.067, 0.062, 0.201, 0.16899999999999998, 0.134, 0.123, 0.149, 0.128, 0.101, 0.115, 0.097, 0.235, 0.198, 0.188, 0.168, 0.202, 0.189, 0.212, 0.21, 0.21600000000000005, 0.236, 0.228, 0.223, 0.231, 0.217, 0.194, 0.17600000000000002, 0.174, 0.225, 0.313, 0.135, 0.185, 0.135, 0.13, 0.131, 0.14800000000000002, 0.134, 0.126, 0.131, 0.125, 0.117, 0.182, 0.182, 0.147, 0.125, 0.114, 0.104, 0.1, 0.211, 0.188, 0.172, 0.155, 0.142, 0.13, 0.316, 0.211, 0.198, 0.277, 0.249, 0.233, 0.26, 0.269, 0.095, 0.083, 0.105, 0.101, 0.083, 0.078, 0.079, 0.19, 0.119, 0.076, 0.068, 0.237, 0.14300000000000002, 0.091, 0.064, 0.057, 0.047, 0.052000000000000005, 0.165, 0.14, 0.136, 0.154, 0.146, 0.185, 0.196, 0.162, 0.158, 0.139, 0.193, 0.197, 0.125, 0.197, 0.209, 0.111, 0.101, 0.08800000000000001, 0.091, 0.118, 0.24, 0.145, 0.111, 0.107, 0.12, 0.114, 0.104, 0.087, 0.073, 0.07200000000000001, 0.066, 0.065, 0.064, 0.062, 0.063, 0.14800000000000002, 0.118, 0.111, 0.076, 0.064, 0.06, 0.056, 0.049, 0.113, 0.097, 0.133, 0.215, 0.177, 0.179, 0.161, 0.153, 0.14800000000000002, 0.168, 0.199, 0.157, 0.13699999999999998, 0.122, 0.104, 0.091, 0.094, 0.092, 0.086, 0.086, 0.084, 0.083, 0.093, 0.113, 0.162, 0.107, 0.091, 0.077, 0.076, 0.07400000000000001, 0.059, 0.064, 0.166, 0.142, 0.093, 0.078, 0.075, 0.075, 0.071, 0.065, 0.062, 0.067, 0.064, 0.065, 0.061, 0.134, 0.16899999999999998, 0.14300000000000002, 0.099, 0.175, 0.145, 0.127, 0.188, 0.083, 0.107, 0.231, 0.181, 0.16, 0.136, 0.184, 0.153, 0.192, 0.188, 0.154, 0.17600000000000002, 0.173, 0.166, 0.177, 0.153, 0.132, 0.11, 0.179, 0.14400000000000002, 0.119, 0.152, 0.181, 0.116, 0.105, 0.106, 0.102, 0.093, 0.092, 0.075, 0.079, 0.08199999999999999, 0.086, 0.078, 0.07400000000000001, 0.07200000000000001, 0.068, 0.073, 0.069, 0.078, 0.07, 0.075, 0.066, 0.067, 0.064, 0.055, 0.149, 0.154, 0.122, 0.199, 0.182, 0.166, 0.183, 0.2], \"xaxis\": \"x\", \"xbins\": {\"end\": 0.502, \"size\": 1.0, \"start\": 0.047}, \"yaxis\": \"y\"}, {\"legendgroup\": \"distplot\", \"marker\": {\"color\": \"rgb(31, 119, 180)\"}, \"mode\": \"lines\", \"name\": \"distplot\", \"showlegend\": false, \"type\": \"scatter\", \"x\": [0.047, 0.04791, 0.04882, 0.049729999999999996, 0.05064, 0.05155, 0.05246, 0.05337, 0.05428, 0.05519, 0.0561, 0.05701, 0.05792, 0.05883, 0.05974, 0.06065, 0.061560000000000004, 0.06247, 0.06337999999999999, 0.06429, 0.06520000000000001, 0.06611, 0.06702, 0.06793, 0.06884, 0.06975, 0.07066, 0.07157, 0.07248, 0.07339, 0.0743, 0.07521, 0.07612, 0.07703, 0.07794000000000001, 0.07885, 0.07976, 0.08066999999999999, 0.08158, 0.08249000000000001, 0.0834, 0.08431, 0.08521999999999999, 0.08613000000000001, 0.08704, 0.08795, 0.08886, 0.08977, 0.09068, 0.09159, 0.0925, 0.09341, 0.09432, 0.09523000000000001, 0.09614, 0.09705, 0.09795999999999999, 0.09887000000000001, 0.09978000000000001, 0.10069, 0.1016, 0.10251, 0.10342000000000001, 0.10433, 0.10524, 0.10615, 0.10706, 0.10797, 0.10888, 0.10979, 0.1107, 0.11161, 0.11252, 0.11343, 0.11434, 0.11525, 0.11616, 0.11707000000000001, 0.11798, 0.11889, 0.1198, 0.12071000000000001, 0.12162, 0.12253, 0.12344, 0.12435, 0.12526, 0.12617, 0.12708, 0.12799, 0.12890000000000001, 0.12981, 0.13072, 0.13163000000000002, 0.13254, 0.13345, 0.13435999999999998, 0.13527, 0.13618000000000002, 0.13709, 0.138, 0.13890999999999998, 0.13982, 0.14073000000000002, 0.14164, 0.14255, 0.14346, 0.14437, 0.14528000000000002, 0.14619, 0.1471, 0.14801, 0.14892, 0.14983000000000002, 0.15074, 0.15165, 0.15256, 0.15347, 0.15438000000000002, 0.15529, 0.1562, 0.15711, 0.15802, 0.15893000000000002, 0.15984, 0.16075, 0.16166000000000003, 0.16257, 0.16348000000000001, 0.16438999999999998, 0.1653, 0.16621000000000002, 0.16712, 0.16803, 0.16893999999999998, 0.16985, 0.17076000000000002, 0.17167, 0.17258, 0.17349000000000003, 0.1744, 0.17531000000000002, 0.17622, 0.17713, 0.17803999999999998, 0.17895, 0.17986000000000002, 0.18077, 0.18168, 0.18259000000000003, 0.1835, 0.18441000000000002, 0.18531999999999998, 0.18623, 0.18714000000000003, 0.18805, 0.18896000000000002, 0.18986999999999998, 0.19078, 0.19168999999999997, 0.1926, 0.19351000000000002, 0.19442000000000004, 0.19533, 0.19624000000000003, 0.19715, 0.19806, 0.19896999999999998, 0.19988, 0.20078999999999997, 0.2017, 0.20261, 0.20352000000000003, 0.20443, 0.20534000000000002, 0.20625, 0.20716, 0.20806999999999998, 0.20898, 0.20989000000000002, 0.2108, 0.21171, 0.21262000000000003, 0.21353, 0.21444000000000002, 0.21534999999999999, 0.21626, 0.21717000000000003, 0.21808, 0.21899000000000002, 0.21989999999999998, 0.22081, 0.22171999999999997, 0.22263, 0.22354000000000002, 0.22445000000000004, 0.22536, 0.22627000000000003, 0.22718, 0.22809000000000001, 0.22899999999999998, 0.22991, 0.23081999999999997, 0.23173, 0.23264, 0.23355000000000004, 0.23446, 0.23537000000000002, 0.23628, 0.23719, 0.23809999999999998, 0.23901, 0.23992000000000002, 0.24083, 0.24174, 0.24265000000000003, 0.24356, 0.24447000000000002, 0.24538, 0.24629, 0.24720000000000003, 0.24811, 0.24902000000000002, 0.24992999999999999, 0.25084, 0.25175, 0.25266, 0.25357, 0.25448000000000004, 0.25539, 0.25630000000000003, 0.25721, 0.25812, 0.25903, 0.25994, 0.26084999999999997, 0.26176, 0.26267, 0.26358000000000004, 0.26449, 0.2654, 0.26631, 0.26722, 0.26813, 0.26904, 0.26995, 0.27086, 0.27177, 0.27268000000000003, 0.27359, 0.2745, 0.27541, 0.27632, 0.27723000000000003, 0.27814, 0.27905, 0.27996, 0.28087, 0.28178, 0.28269, 0.2836, 0.28451000000000004, 0.28542, 0.28633000000000003, 0.28724, 0.28815, 0.28906, 0.28997, 0.29087999999999997, 0.29179, 0.2927, 0.29361000000000004, 0.29452, 0.29543, 0.29634, 0.29724999999999996, 0.29816, 0.29907, 0.29998, 0.30089, 0.3018, 0.30271, 0.30362, 0.30453, 0.30544, 0.30635, 0.30726, 0.30817, 0.30907999999999997, 0.30999, 0.3109, 0.31181, 0.31272, 0.31362999999999996, 0.31454, 0.31544999999999995, 0.31636, 0.31726999999999994, 0.31818, 0.31909000000000004, 0.32, 0.32091000000000003, 0.32182, 0.32273, 0.32364, 0.32455, 0.32546, 0.32637, 0.32728, 0.32819, 0.3291, 0.33000999999999997, 0.33092, 0.33182999999999996, 0.33274, 0.33365, 0.33455999999999997, 0.33547, 0.33637999999999996, 0.33729000000000003, 0.3382, 0.33911, 0.34002, 0.34093, 0.34184000000000003, 0.34275, 0.34366, 0.34457, 0.34548, 0.34639, 0.3473, 0.34821, 0.34912, 0.35003, 0.35094, 0.35185, 0.35275999999999996, 0.35367, 0.35457999999999995, 0.35549, 0.3564, 0.35730999999999996, 0.35822000000000004, 0.35913, 0.36004, 0.36095, 0.36186, 0.36277000000000004, 0.36368, 0.36459, 0.3655, 0.36641, 0.36732, 0.36823, 0.36913999999999997, 0.37005, 0.37096, 0.37187, 0.37278, 0.37368999999999997, 0.3746, 0.37550999999999995, 0.37642, 0.37732999999999994, 0.37824, 0.37915000000000004, 0.38006, 0.38097000000000003, 0.38188, 0.38279, 0.3837, 0.38461, 0.38552000000000003, 0.38643, 0.38734, 0.38825, 0.38916, 0.39007, 0.39098, 0.39188999999999996, 0.3928, 0.39371, 0.39461999999999997, 0.39553, 0.39643999999999996, 0.39735000000000004, 0.39826, 0.39917, 0.40008, 0.40099, 0.40190000000000003, 0.40281, 0.40372, 0.40463, 0.40554, 0.40645, 0.40736, 0.40827, 0.40918, 0.41009, 0.411, 0.41191, 0.41281999999999996, 0.41373, 0.41463999999999995, 0.41555, 0.41646, 0.41736999999999996, 0.41828000000000004, 0.41919, 0.42010000000000003, 0.42101, 0.42192, 0.42283000000000004, 0.42374, 0.42465, 0.42556, 0.42647, 0.42738, 0.42829, 0.42919999999999997, 0.43011, 0.43102, 0.43193, 0.43284, 0.43374999999999997, 0.43466, 0.43556999999999996, 0.43648, 0.43738999999999995, 0.4383, 0.43921000000000004, 0.44012, 0.44103000000000003, 0.44194, 0.44285, 0.44376, 0.44467, 0.44558000000000003, 0.44649, 0.4474, 0.44831, 0.44922, 0.45013, 0.45104, 0.45194999999999996, 0.45286, 0.45377, 0.45468, 0.45559, 0.45649999999999996, 0.45741000000000004, 0.45832, 0.45923, 0.46014, 0.46105, 0.46196000000000004, 0.46287, 0.46378, 0.46469, 0.4656, 0.46651, 0.46742, 0.46833, 0.46924, 0.47015, 0.47106, 0.47197, 0.47287999999999997, 0.47379, 0.47469999999999996, 0.47561, 0.47652, 0.47742999999999997, 0.47834000000000004, 0.47925, 0.48016000000000003, 0.48107, 0.48198, 0.48289000000000004, 0.4838, 0.48471000000000003, 0.48562, 0.48653, 0.48744, 0.48835, 0.48926, 0.49017, 0.49108, 0.49199, 0.4929, 0.49380999999999997, 0.49472, 0.49562999999999996, 0.49654, 0.49744999999999995, 0.49836, 0.49927000000000005, 0.5001800000000001, 0.50109], \"xaxis\": \"x\", \"y\": [1.6778707846386964, 1.7674905986191167, 1.8592788292931688, 1.9531077648672202, 2.048839033941516, 2.146324230866763, 2.245405635875898, 2.345917024069798, 2.447684556001648, 2.550527741344935, 2.6542604659693767, 2.758692071711509, 2.8636284772342395, 2.9688733276426618, 3.0742291599790974, 3.179498571373181, 3.2844853764834414, 3.3889957409422546, 3.492839277809067, 3.5958300945457387, 3.6977877787469993, 3.7985383117780347, 3.897914900575617, 3.9957587191406403, 4.091919552666293, 4.186256338782013, 4.278637602020999, 4.3689417793079945, 4.45705743598291, 4.542883373591922, 4.626328632358482, 4.707312392860186, 4.7857637829529285, 4.861621597372502, 4.934833938679693, 5.005357789274965, 5.0731585250738656, 5.138209382089049, 5.200490887598669, 5.259990267787685, 5.316700843727, 5.370621427308634, 5.421755728291443, 5.470111782943503, 5.515701413910691, 5.558539729916605, 5.598644672729735, 5.636036617546339, 5.670738031559339, 5.702773194044761, 5.732167979827696, 5.7589497065202195, 5.783147044483815, 5.804789987087502, 5.823909877536902, 5.8405394873638565, 5.8547131406125725, 5.866466876855842, 5.8758386454386935, 5.882868522788875, 5.887598944261333, 5.890074941801598, 5.890344378720276, 5.888458173064153, 5.884470501440973, 5.878438975693892, 5.8704247855137135, 5.860492800905502, 5.848711629371567, 5.835153623713997, 5.819894837473859, 5.803014926187272, 5.784596993826204, 5.764727384979501, 5.743495424493377, 5.720993107406825, 5.697314743064348, 5.6725565582453745, 5.646816264998659, 5.620192599594564, 5.592784839594996, 5.564692306479489, 5.5360138615485655, 5.506847402947871, 5.4772893716171405, 5.44743427376885, 5.417374227147238, 5.387198537817555, 5.356993313598522, 5.326841119491817, 5.296820679596868, 5.267006629045307, 5.2374693184670225, 5.208274672429992, 5.179484102201115, 5.151154472077946, 5.1233381174641535, 5.09608291182738, 5.069432378708579, 5.043425844067294, 5.01809862346664, 4.993482237941711, 4.969604651870163, 4.946490525785652, 4.9241614768521815, 4.902636339656027, 4.881931420073834, 4.862060735239602, 4.843036233054968, 4.824867985258545, 4.807564348779718, 4.7911320909360935, 4.775576474974571, 4.760901303484282, 4.747108918303819, 4.734200156681929, 4.722174264605836, 4.711028769359501, 4.700759314490154, 4.691359461420602, 4.6828204629233765, 4.6751310145481675, 4.668276990846073, 4.662241173844905, 4.657002981684059, 4.652538205603566, 4.648818763591412, 4.645812478921481, 4.6434828915608435, 4.641789109992589, 4.640685710396116, 4.640122689361373, 4.640045475401369, 4.640395003485644, 4.641107855666975, 4.6421164696367825, 4.643349415746605, 4.644731741699549, 4.64618538277386, 4.647629634117928, 4.6489816803791895, 4.65015717672432, 4.651070874199644, 4.651637281391219, 4.65177135349385, 4.6513891992044964, 4.650408795332394, 4.648750698676115, 4.64633874456377, 4.643100721489839, 4.638969011509828, 4.633881186468027, 4.627780550725943, 4.62061662181825, 4.612345541375066, 4.602930409696773, 4.592341538531046, 4.580556617860074, 4.5675607938359075, 4.553346656380236, 4.537914136366802, 4.521270313706267, 4.5034291390303345, 4.48441107300153, 4.464242648535159, 4.442955962390486, 4.420588103650546, 4.397180527548219, 4.372778383895986, 4.347429810027219, 4.321185198648645, 4.294096451331206, 4.266216228525897, 4.237597206982205, 4.208291355270733, 4.178349237773287, 4.147819357009551, 4.116747543528662, 4.085176401817311, 4.053144819776507, 4.020687548311218, 3.987834856476762, 3.954612266450345, 3.921040371363416, 3.887134737759718, 3.852905893154183, 3.818359397878796, 3.7834959991328594, 3.748311863925664, 3.712798886428536, 3.676945064157845, 3.640734936407889, 3.6041500774579878, 3.567169636304903, 3.5297709140324773, 3.4919299694341475, 3.4536222431591246, 3.414823190464072, 3.375508912622243, 3.3356567771707466, 3.2952460174619618, 3.254258302421007, 3.212678267990533, 3.170494002455819, 3.127697478675099, 3.084284927176804, 3.0402571451107483, 2.9956197371353754, 2.950383285468946, 2.9045634475079796, 2.8581809806011185, 2.8112616947391085, 2.763836335061998, 2.715940397172262, 2.6676138792593544, 2.61890097596972, 2.5698497197811787, 2.520511576349176, 2.4709410008737316, 2.4211949629819562, 2.3713324479270095, 2.3214139420672297, 2.271500910610043, 2.221655275486929, 2.1719389009741, 2.1224130942974386, 2.0731381279694645, 2.024172790014161, 1.9755739675556276, 1.9273962684950756, 1.879691685193408, 1.8325093032309614, 1.7858950574485524, 1.7398915366023722, 1.6945378371049733, 1.649869465492075, 1.6059182884635046, 1.5627125286101242, 1.5202768032674918, 1.4786322033414763, 1.43779640843816, 1.397783834206125, 1.3586058074669165, 1.3202707644713618, 1.2827844674746567, 1.2461502347705427, 1.2103691793602585, 1.1754404515508545, 1.1413614809732913, 1.1081282137762747, 1.0757353410789803, 1.0441765151457552, 1.0134445501692064, 0.9835316050057227, 0.9544293456893359, 0.9261290860470821, 0.8986219052422012, 0.8718987415719737, 0.8459504623368498, 0.8207679100687673, 0.796341925852901, 0.7726633508919043, 0.7497230078401776, 0.72751166377297, 0.7060199769477588, 0.6852384297602727, 0.6651572504929002, 0.6457663265974243, 0.6270551123468255, 0.6090125337320891, 0.5916268934706986, 0.5748857789349289, 0.5587759757025337, 0.5432833892823571, 0.5283929773761398, 0.5140886948088232, 0.5003534529973328, 0.4871690955364109, 0.4745163911646703, 0.46237504503975896, 0.45072372890381607, 0.43954013036495676, 0.42880102116302665, 0.41848234393426975, 0.4085593166454474, 0.39900655353917636, 0.3897982011241569, 0.3809080874617027, 0.3723098827484099, 0.36397726897807414, 0.35588411628793387, 0.3480046634579551, 0.3403136999396367, 0.33278674674425374, 0.32540023352035613, 0.31813166919670466, 0.31095980365863335, 0.3038647780614505, 0.2968282615611914, 0.28983357245760993, 0.28286578199246243, 0.2759117993233505, 0.268960436494242, 0.2620024525425677, 0.25503057621358644, 0.24803950708907044, 0.24102589527325194, 0.23398830010795588, 0.22692712870507797, 0.2198445553822982, 0.21274442336197832, 0.20563213033891115, 0.19851449973598653, 0.19139963964465745, 0.18429679158682888, 0.1772161713348927, 0.17016880408614235, 0.16316635630697557, 0.15622096654178733, 0.14934507742306485, 0.1425512710252046, 0.13585210957798635, 0.12925998340008032, 0.12278696773231726, 0.11644468994925726, 0.11024420841028139, 0.10419590398286356, 0.09830938503554326, 0.09259340646109789, 0.087055803055984, 0.08170343735447548, 0.07654216179891946, 0.07157679492458524, 0.06681111105162767, 0.062247842810192085, 0.05788869567949839, 0.05373437359925578, 0.049784614612743715, 0.04603823542564297, 0.0424931837129817, 0.03914659697769227, 0.03599486675715312, 0.03303370698725143, 0.03025822536518378, 0.027662996600390344, 0.02524213650552395, 0.022989375953843885, 0.02089813381355614, 0.018961588061000453, 0.01717274437088779, 0.015524501580803643, 0.01400971352678114, 0.012621246845042245, 0.011352034430213268, 0.010195124330992154, 0.009143723949050667, 0.0081912394848838, 0.007331310644553346, 0.006557840683250274, 0.005865021914978468, 0.0052473568623127576, 0.004699675256175086, 0.0042171471231505836, 0.0037952922174332845, 0.0034299860665854562, 0.0031174629055684415, 0.00285431577268619, 0.0026374940349893463, 0.0024642986001573806, 0.0023323750577822593, 0.002239704976197537, 0.002184595562384481, 0.002165667872878088, 0.0021818437437672866, 0.0022323315885633675, 0.002316611194548575, 0.0024344176317867504, 0.002585724374762333, 0.0027707257250006107, 0.0029898186142977546, 0.003243583862536028, 0.0035327669615538224, 0.003858258457151008, 0.004221074004902175, 0.004622334181783422, 0.005063244144359417, 0.005545073234996292, 0.006069134649757396, 0.006636765294716253, 0.0072493059707544535, 0.00790808203980199, 0.008614384737229058, 0.00936945330496853, 0.010174458127238857, 0.0110304850547512, 0.011938521103392536, 0.012899441709014173, 0.013913999710653024, 0.014982816219916253, 0.016106373514150254, 0.01728501006531068, 0.018518917785267652, 0.01980814153185573, 0.021152580878805248, 0.02255199410736616, 0.024006004328813023, 0.02551410759606838, 0.027075682810568158, 0.028690003178502413, 0.030356248920105217, 0.032073520888228346, 0.03384085470954073, 0.03565723502490074, 0.03752160937623937, 0.039432901267091064, 0.041390021914002983, 0.04339188020752736, 0.04543739041527207, 0.0475254771861072, 0.049655077454476206, 0.05182513889673519, 0.054034614657233526, 0.05628245413961017, 0.05856758974745481, 0.06088891955647918, 0.06324528600586052, 0.06563545080721522, 0.06805806638328202, 0.07051164426211624, 0.07299452096353311, 0.07550482201969869, 0.07804042486812884, 0.08059892143996027, 0.08317758133637229, 0.08577331653885806, 0.08838264863240536, 0.09100167953258234, 0.09362606669666712, 0.09625100376429077, 0.09887120751431064, 0.10148091194195666, 0.10407387015463827, 0.10664336465761166, 0.109182226454129, 0.11168286322140411, 0.11413729664696456, 0.11653720882341134, 0.11887399740734393, 0.12113883905460002, 0.12332276045354862, 0.1254167160955545, 0.12741167175149648, 0.12929869246968956, 0.1310690337778771, 0.13271423466373397, 0.13422621082775907, 0.1355973466520191, 0.13682058430983937, 0.13788950845625653, 0.13879842498720005, 0.1395424324363982, 0.14011748469159788, 0.14052044385371104, 0.14074912223108696, 0.14080231265270932, 0.1406798064945878, 0.14038239903832403, 0.13991188201477417, 0.13927102342365724, 0.13846353495649646, 0.13749402758010817, 0.13636795605577548, 0.13509155337040468, 0.133671756235886, 0.13211612296765338, 0.13043274517976297, 0.12863015482909862, 0.12671722820376555, 0.1247030884793257, 0.12259700846110282, 0.12040831509197222, 0.11814629723428055, 0.11582011813401205, 0.11343873384784015, 0.11101081876278368, 0.10854469916767506, 0.10604829564995207, 0.10352907489488217, 0.10099401126203332, 0.09844955831025282, 0.09590163024232216, 0.09335559304815666, 0.09081626494504436, 0.08828792554861128, 0.08577433306213243, 0.08327874864708211, 0.08080396703643153, 0.0783523523755107, 0.0759258782239641, 0.07352617062652], \"yaxis\": \"y\"}, {\"legendgroup\": \"distplot\", \"marker\": {\"color\": \"rgb(31, 119, 180)\", \"symbol\": \"line-ns-open\"}, \"mode\": \"markers\", \"name\": \"distplot\", \"showlegend\": false, \"type\": \"scatter\", \"x\": [0.168, 0.124, 0.225, 0.16699999999999998, 0.141, 0.125, 0.132, 0.267, 0.2, 0.151, 0.121, 0.112, 0.12, 0.108, 0.108, 0.101, 0.092, 0.094, 0.23, 0.203, 0.182, 0.21600000000000005, 0.21, 0.255, 0.27, 0.235, 0.235, 0.219, 0.285, 0.205, 0.275, 0.28800000000000003, 0.297, 0.233, 0.195, 0.168, 0.152, 0.16399999999999998, 0.295, 0.234, 0.182, 0.156, 0.142, 0.14, 0.135, 0.123, 0.116, 0.111, 0.102, 0.102, 0.102, 0.1, 0.1, 0.117, 0.114, 0.121, 0.12, 0.111, 0.106, 0.099, 0.092, 0.099, 0.09, 0.096, 0.273, 0.257, 0.259, 0.241, 0.229, 0.224, 0.242, 0.277, 0.251, 0.241, 0.234, 0.229, 0.227, 0.222, 0.243, 0.235, 0.223, 0.22, 0.213, 0.211, 0.197, 0.228, 0.24, 0.23, 0.21600000000000005, 0.206, 0.196, 0.182, 0.149, 0.142, 0.125, 0.141, 0.14300000000000002, 0.129, 0.123, 0.115, 0.112, 0.111, 0.115, 0.112, 0.104, 0.107, 0.101, 0.1, 0.158, 0.161, 0.149, 0.156, 0.207, 0.201, 0.184, 0.195, 0.165, 0.285, 0.25, 0.237, 0.215, 0.271, 0.24, 0.261, 0.239, 0.264, 0.255, 0.244, 0.238, 0.253, 0.246, 0.232, 0.223, 0.264, 0.249, 0.194, 0.21, 0.25, 0.207, 0.177, 0.157, 0.158, 0.145, 0.146, 0.14, 0.16, 0.187, 0.179, 0.17800000000000002, 0.184, 0.183, 0.188, 0.191, 0.192, 0.183, 0.191, 0.192, 0.19, 0.193, 0.189, 0.193, 0.321, 0.32299999999999995, 0.326, 0.466, 0.47, 0.438, 0.472, 0.502, 0.105, 0.108, 0.139, 0.13699999999999998, 0.118, 0.103, 0.102, 0.231, 0.18600000000000005, 0.141, 0.103, 0.094, 0.094, 0.085, 0.08199999999999999, 0.075, 0.068, 0.071, 0.172, 0.153, 0.13699999999999998, 0.161, 0.159, 0.204, 0.211, 0.188, 0.171, 0.187, 0.159, 0.214, 0.235, 0.227, 0.239, 0.149, 0.133, 0.122, 0.116, 0.118, 0.129, 0.159, 0.125, 0.122, 0.119, 0.118, 0.114, 0.107, 0.173, 0.154, 0.118, 0.11, 0.103, 0.097, 0.092, 0.08900000000000001, 0.08800000000000001, 0.08900000000000001, 0.086, 0.08199999999999999, 0.08, 0.075, 0.071, 0.08900000000000001, 0.095, 0.093, 0.242, 0.207, 0.218, 0.191, 0.182, 0.18, 0.211, 0.227, 0.214, 0.206, 0.199, 0.223, 0.209, 0.198, 0.205, 0.198, 0.187, 0.177, 0.16399999999999998, 0.153, 0.147, 0.173, 0.208, 0.182, 0.131, 0.108, 0.102, 0.097, 0.084, 0.083, 0.077, 0.079, 0.077, 0.071, 0.071, 0.075, 0.071, 0.102, 0.092, 0.083, 0.073, 0.073, 0.067, 0.062, 0.201, 0.16899999999999998, 0.134, 0.123, 0.149, 0.128, 0.101, 0.115, 0.097, 0.235, 0.198, 0.188, 0.168, 0.202, 0.189, 0.212, 0.21, 0.21600000000000005, 0.236, 0.228, 0.223, 0.231, 0.217, 0.194, 0.17600000000000002, 0.174, 0.225, 0.313, 0.135, 0.185, 0.135, 0.13, 0.131, 0.14800000000000002, 0.134, 0.126, 0.131, 0.125, 0.117, 0.182, 0.182, 0.147, 0.125, 0.114, 0.104, 0.1, 0.211, 0.188, 0.172, 0.155, 0.142, 0.13, 0.316, 0.211, 0.198, 0.277, 0.249, 0.233, 0.26, 0.269, 0.095, 0.083, 0.105, 0.101, 0.083, 0.078, 0.079, 0.19, 0.119, 0.076, 0.068, 0.237, 0.14300000000000002, 0.091, 0.064, 0.057, 0.047, 0.052000000000000005, 0.165, 0.14, 0.136, 0.154, 0.146, 0.185, 0.196, 0.162, 0.158, 0.139, 0.193, 0.197, 0.125, 0.197, 0.209, 0.111, 0.101, 0.08800000000000001, 0.091, 0.118, 0.24, 0.145, 0.111, 0.107, 0.12, 0.114, 0.104, 0.087, 0.073, 0.07200000000000001, 0.066, 0.065, 0.064, 0.062, 0.063, 0.14800000000000002, 0.118, 0.111, 0.076, 0.064, 0.06, 0.056, 0.049, 0.113, 0.097, 0.133, 0.215, 0.177, 0.179, 0.161, 0.153, 0.14800000000000002, 0.168, 0.199, 0.157, 0.13699999999999998, 0.122, 0.104, 0.091, 0.094, 0.092, 0.086, 0.086, 0.084, 0.083, 0.093, 0.113, 0.162, 0.107, 0.091, 0.077, 0.076, 0.07400000000000001, 0.059, 0.064, 0.166, 0.142, 0.093, 0.078, 0.075, 0.075, 0.071, 0.065, 0.062, 0.067, 0.064, 0.065, 0.061, 0.134, 0.16899999999999998, 0.14300000000000002, 0.099, 0.175, 0.145, 0.127, 0.188, 0.083, 0.107, 0.231, 0.181, 0.16, 0.136, 0.184, 0.153, 0.192, 0.188, 0.154, 0.17600000000000002, 0.173, 0.166, 0.177, 0.153, 0.132, 0.11, 0.179, 0.14400000000000002, 0.119, 0.152, 0.181, 0.116, 0.105, 0.106, 0.102, 0.093, 0.092, 0.075, 0.079, 0.08199999999999999, 0.086, 0.078, 0.07400000000000001, 0.07200000000000001, 0.068, 0.073, 0.069, 0.078, 0.07, 0.075, 0.066, 0.067, 0.064, 0.055, 0.149, 0.154, 0.122, 0.199, 0.182, 0.166, 0.183, 0.2], \"xaxis\": \"x\", \"y\": [\"distplot\", \"distplot\", \"distplot\", \"distplot\", \"distplot\", \"distplot\", \"distplot\", \"distplot\", \"distplot\", \"distplot\", \"distplot\", \"distplot\", \"distplot\", \"distplot\", \"distplot\", \"distplot\", \"distplot\", \"distplot\", \"distplot\", \"distplot\", \"distplot\", \"distplot\", \"distplot\", \"distplot\", \"distplot\", \"distplot\", \"distplot\", \"distplot\", \"distplot\", \"distplot\", \"distplot\", \"distplot\", \"distplot\", \"distplot\", \"distplot\", \"distplot\", \"distplot\", \"distplot\", \"distplot\", \"distplot\", \"distplot\", \"distplot\", \"distplot\", \"distplot\", \"distplot\", \"distplot\", \"distplot\", \"distplot\", \"distplot\", \"distplot\", \"distplot\", \"distplot\", \"distplot\", \"distplot\", \"distplot\", \"distplot\", \"distplot\", \"distplot\", \"distplot\", \"distplot\", \"distplot\", \"distplot\", \"distplot\", \"distplot\", \"distplot\", \"distplot\", \"distplot\", \"distplot\", \"distplot\", \"distplot\", \"distplot\", \"distplot\", \"distplot\", \"distplot\", \"distplot\", \"distplot\", \"distplot\", \"distplot\", \"distplot\", \"distplot\", \"distplot\", \"distplot\", \"distplot\", \"distplot\", \"distplot\", \"distplot\", \"distplot\", \"distplot\", \"distplot\", \"distplot\", \"distplot\", \"distplot\", \"distplot\", \"distplot\", \"distplot\", \"distplot\", \"distplot\", \"distplot\", \"distplot\", \"distplot\", \"distplot\", \"distplot\", \"distplot\", \"distplot\", \"distplot\", \"distplot\", \"distplot\", \"distplot\", \"distplot\", \"distplot\", \"distplot\", \"distplot\", \"distplot\", \"distplot\", \"distplot\", \"distplot\", \"distplot\", \"distplot\", \"distplot\", \"distplot\", \"distplot\", \"distplot\", \"distplot\", \"distplot\", \"distplot\", \"distplot\", \"distplot\", \"distplot\", \"distplot\", \"distplot\", \"distplot\", \"distplot\", \"distplot\", \"distplot\", \"distplot\", \"distplot\", \"distplot\", \"distplot\", \"distplot\", \"distplot\", \"distplot\", \"distplot\", \"distplot\", \"distplot\", \"distplot\", \"distplot\", \"distplot\", \"distplot\", \"distplot\", \"distplot\", \"distplot\", \"distplot\", \"distplot\", \"distplot\", \"distplot\", \"distplot\", \"distplot\", \"distplot\", \"distplot\", \"distplot\", \"distplot\", \"distplot\", \"distplot\", \"distplot\", \"distplot\", \"distplot\", \"distplot\", \"distplot\", \"distplot\", \"distplot\", \"distplot\", \"distplot\", \"distplot\", \"distplot\", \"distplot\", \"distplot\", \"distplot\", \"distplot\", \"distplot\", \"distplot\", \"distplot\", \"distplot\", \"distplot\", \"distplot\", \"distplot\", \"distplot\", \"distplot\", \"distplot\", \"distplot\", \"distplot\", \"distplot\", \"distplot\", \"distplot\", \"distplot\", \"distplot\", \"distplot\", \"distplot\", \"distplot\", \"distplot\", \"distplot\", \"distplot\", \"distplot\", \"distplot\", \"distplot\", \"distplot\", \"distplot\", \"distplot\", \"distplot\", \"distplot\", \"distplot\", \"distplot\", \"distplot\", \"distplot\", \"distplot\", \"distplot\", \"distplot\", \"distplot\", \"distplot\", \"distplot\", \"distplot\", \"distplot\", \"distplot\", \"distplot\", \"distplot\", \"distplot\", \"distplot\", \"distplot\", \"distplot\", \"distplot\", \"distplot\", \"distplot\", \"distplot\", \"distplot\", \"distplot\", \"distplot\", \"distplot\", \"distplot\", \"distplot\", \"distplot\", \"distplot\", \"distplot\", \"distplot\", \"distplot\", \"distplot\", \"distplot\", \"distplot\", \"distplot\", \"distplot\", \"distplot\", \"distplot\", \"distplot\", \"distplot\", \"distplot\", \"distplot\", \"distplot\", \"distplot\", \"distplot\", \"distplot\", \"distplot\", \"distplot\", \"distplot\", \"distplot\", \"distplot\", \"distplot\", \"distplot\", \"distplot\", \"distplot\", \"distplot\", \"distplot\", \"distplot\", \"distplot\", \"distplot\", \"distplot\", \"distplot\", \"distplot\", \"distplot\", \"distplot\", \"distplot\", \"distplot\", \"distplot\", \"distplot\", \"distplot\", \"distplot\", \"distplot\", \"distplot\", \"distplot\", \"distplot\", \"distplot\", \"distplot\", \"distplot\", \"distplot\", \"distplot\", \"distplot\", \"distplot\", \"distplot\", \"distplot\", \"distplot\", \"distplot\", \"distplot\", \"distplot\", \"distplot\", \"distplot\", \"distplot\", \"distplot\", \"distplot\", \"distplot\", \"distplot\", \"distplot\", \"distplot\", \"distplot\", \"distplot\", \"distplot\", \"distplot\", \"distplot\", \"distplot\", \"distplot\", \"distplot\", \"distplot\", \"distplot\", \"distplot\", \"distplot\", \"distplot\", \"distplot\", \"distplot\", \"distplot\", \"distplot\", \"distplot\", \"distplot\", \"distplot\", \"distplot\", \"distplot\", \"distplot\", \"distplot\", \"distplot\", \"distplot\", \"distplot\", \"distplot\", \"distplot\", \"distplot\", \"distplot\", \"distplot\", \"distplot\", \"distplot\", \"distplot\", \"distplot\", \"distplot\", \"distplot\", \"distplot\", \"distplot\", \"distplot\", \"distplot\", \"distplot\", \"distplot\", \"distplot\", \"distplot\", \"distplot\", \"distplot\", \"distplot\", \"distplot\", \"distplot\", \"distplot\", \"distplot\", \"distplot\", \"distplot\", \"distplot\", \"distplot\", \"distplot\", \"distplot\", \"distplot\", \"distplot\", \"distplot\", \"distplot\", \"distplot\", \"distplot\", \"distplot\", \"distplot\", \"distplot\", \"distplot\", \"distplot\", \"distplot\", \"distplot\", \"distplot\", \"distplot\", \"distplot\", \"distplot\", \"distplot\", \"distplot\", \"distplot\", \"distplot\", \"distplot\", \"distplot\", \"distplot\", \"distplot\", \"distplot\", \"distplot\", \"distplot\", \"distplot\", \"distplot\", \"distplot\", \"distplot\", \"distplot\", \"distplot\", \"distplot\", \"distplot\", \"distplot\", \"distplot\", \"distplot\", \"distplot\", \"distplot\", \"distplot\", \"distplot\", \"distplot\", \"distplot\", \"distplot\", \"distplot\", \"distplot\", \"distplot\", \"distplot\", \"distplot\", \"distplot\", \"distplot\", \"distplot\", \"distplot\", \"distplot\", \"distplot\", \"distplot\", \"distplot\", \"distplot\", \"distplot\", \"distplot\", \"distplot\", \"distplot\", \"distplot\", \"distplot\", \"distplot\", \"distplot\", \"distplot\", \"distplot\", \"distplot\", \"distplot\", \"distplot\", \"distplot\", \"distplot\", \"distplot\", \"distplot\", \"distplot\", \"distplot\", \"distplot\", \"distplot\", \"distplot\", \"distplot\", \"distplot\", \"distplot\", \"distplot\", \"distplot\", \"distplot\", \"distplot\", \"distplot\", \"distplot\", \"distplot\", \"distplot\", \"distplot\", \"distplot\", \"distplot\", \"distplot\", \"distplot\", \"distplot\", \"distplot\", \"distplot\", \"distplot\", \"distplot\", \"distplot\", \"distplot\", \"distplot\", \"distplot\", \"distplot\", \"distplot\", \"distplot\", \"distplot\", \"distplot\", \"distplot\", \"distplot\", \"distplot\", \"distplot\", \"distplot\", \"distplot\", \"distplot\", \"distplot\", \"distplot\", \"distplot\", \"distplot\", \"distplot\", \"distplot\", \"distplot\", \"distplot\", \"distplot\", \"distplot\", \"distplot\", \"distplot\", \"distplot\", \"distplot\", \"distplot\", \"distplot\", \"distplot\", \"distplot\"], \"yaxis\": \"y2\"}],\n",
              "                        {\"barmode\": \"overlay\", \"hovermode\": \"closest\", \"legend\": {\"traceorder\": \"reversed\"}, \"template\": {\"data\": {\"bar\": [{\"error_x\": {\"color\": \"#2a3f5f\"}, \"error_y\": {\"color\": \"#2a3f5f\"}, \"marker\": {\"line\": {\"color\": \"#E5ECF6\", \"width\": 0.5}}, \"type\": \"bar\"}], \"barpolar\": [{\"marker\": {\"line\": {\"color\": \"#E5ECF6\", \"width\": 0.5}}, \"type\": \"barpolar\"}], \"carpet\": [{\"aaxis\": {\"endlinecolor\": \"#2a3f5f\", \"gridcolor\": \"white\", \"linecolor\": \"white\", \"minorgridcolor\": \"white\", \"startlinecolor\": \"#2a3f5f\"}, \"baxis\": {\"endlinecolor\": \"#2a3f5f\", \"gridcolor\": \"white\", \"linecolor\": \"white\", \"minorgridcolor\": \"white\", \"startlinecolor\": \"#2a3f5f\"}, \"type\": \"carpet\"}], \"choropleth\": [{\"colorbar\": {\"outlinewidth\": 0, \"ticks\": \"\"}, \"type\": \"choropleth\"}], \"contour\": [{\"colorbar\": {\"outlinewidth\": 0, \"ticks\": \"\"}, \"colorscale\": [[0.0, \"#0d0887\"], [0.1111111111111111, \"#46039f\"], [0.2222222222222222, \"#7201a8\"], [0.3333333333333333, \"#9c179e\"], [0.4444444444444444, \"#bd3786\"], [0.5555555555555556, \"#d8576b\"], [0.6666666666666666, \"#ed7953\"], [0.7777777777777778, \"#fb9f3a\"], [0.8888888888888888, \"#fdca26\"], [1.0, \"#f0f921\"]], \"type\": \"contour\"}], \"contourcarpet\": [{\"colorbar\": {\"outlinewidth\": 0, \"ticks\": \"\"}, \"type\": \"contourcarpet\"}], \"heatmap\": [{\"colorbar\": {\"outlinewidth\": 0, \"ticks\": \"\"}, \"colorscale\": [[0.0, \"#0d0887\"], [0.1111111111111111, \"#46039f\"], [0.2222222222222222, \"#7201a8\"], [0.3333333333333333, \"#9c179e\"], [0.4444444444444444, \"#bd3786\"], [0.5555555555555556, \"#d8576b\"], [0.6666666666666666, \"#ed7953\"], [0.7777777777777778, \"#fb9f3a\"], [0.8888888888888888, \"#fdca26\"], [1.0, \"#f0f921\"]], \"type\": \"heatmap\"}], \"heatmapgl\": [{\"colorbar\": {\"outlinewidth\": 0, \"ticks\": \"\"}, \"colorscale\": [[0.0, \"#0d0887\"], [0.1111111111111111, \"#46039f\"], [0.2222222222222222, \"#7201a8\"], [0.3333333333333333, \"#9c179e\"], [0.4444444444444444, \"#bd3786\"], [0.5555555555555556, \"#d8576b\"], [0.6666666666666666, \"#ed7953\"], [0.7777777777777778, \"#fb9f3a\"], [0.8888888888888888, \"#fdca26\"], [1.0, \"#f0f921\"]], \"type\": \"heatmapgl\"}], \"histogram\": [{\"marker\": {\"colorbar\": {\"outlinewidth\": 0, \"ticks\": \"\"}}, \"type\": \"histogram\"}], \"histogram2d\": [{\"colorbar\": {\"outlinewidth\": 0, \"ticks\": \"\"}, \"colorscale\": [[0.0, \"#0d0887\"], [0.1111111111111111, \"#46039f\"], [0.2222222222222222, \"#7201a8\"], [0.3333333333333333, \"#9c179e\"], [0.4444444444444444, \"#bd3786\"], [0.5555555555555556, \"#d8576b\"], [0.6666666666666666, \"#ed7953\"], [0.7777777777777778, \"#fb9f3a\"], [0.8888888888888888, \"#fdca26\"], [1.0, \"#f0f921\"]], \"type\": \"histogram2d\"}], \"histogram2dcontour\": [{\"colorbar\": {\"outlinewidth\": 0, \"ticks\": \"\"}, \"colorscale\": [[0.0, \"#0d0887\"], [0.1111111111111111, \"#46039f\"], [0.2222222222222222, \"#7201a8\"], [0.3333333333333333, \"#9c179e\"], [0.4444444444444444, \"#bd3786\"], [0.5555555555555556, \"#d8576b\"], [0.6666666666666666, \"#ed7953\"], [0.7777777777777778, \"#fb9f3a\"], [0.8888888888888888, \"#fdca26\"], [1.0, \"#f0f921\"]], \"type\": \"histogram2dcontour\"}], \"mesh3d\": [{\"colorbar\": {\"outlinewidth\": 0, \"ticks\": \"\"}, \"type\": \"mesh3d\"}], \"parcoords\": [{\"line\": {\"colorbar\": {\"outlinewidth\": 0, \"ticks\": \"\"}}, \"type\": \"parcoords\"}], \"pie\": [{\"automargin\": true, \"type\": \"pie\"}], \"scatter\": [{\"marker\": {\"colorbar\": {\"outlinewidth\": 0, \"ticks\": \"\"}}, \"type\": \"scatter\"}], \"scatter3d\": [{\"line\": {\"colorbar\": {\"outlinewidth\": 0, \"ticks\": \"\"}}, \"marker\": {\"colorbar\": {\"outlinewidth\": 0, \"ticks\": \"\"}}, \"type\": \"scatter3d\"}], \"scattercarpet\": [{\"marker\": {\"colorbar\": {\"outlinewidth\": 0, \"ticks\": \"\"}}, \"type\": \"scattercarpet\"}], \"scattergeo\": [{\"marker\": {\"colorbar\": {\"outlinewidth\": 0, \"ticks\": \"\"}}, \"type\": \"scattergeo\"}], \"scattergl\": [{\"marker\": {\"colorbar\": {\"outlinewidth\": 0, \"ticks\": \"\"}}, \"type\": \"scattergl\"}], \"scattermapbox\": [{\"marker\": {\"colorbar\": {\"outlinewidth\": 0, \"ticks\": \"\"}}, \"type\": \"scattermapbox\"}], \"scatterpolar\": [{\"marker\": {\"colorbar\": {\"outlinewidth\": 0, \"ticks\": \"\"}}, \"type\": \"scatterpolar\"}], \"scatterpolargl\": [{\"marker\": {\"colorbar\": {\"outlinewidth\": 0, \"ticks\": \"\"}}, \"type\": \"scatterpolargl\"}], \"scatterternary\": [{\"marker\": {\"colorbar\": {\"outlinewidth\": 0, \"ticks\": \"\"}}, \"type\": \"scatterternary\"}], \"surface\": [{\"colorbar\": {\"outlinewidth\": 0, \"ticks\": \"\"}, \"colorscale\": [[0.0, \"#0d0887\"], [0.1111111111111111, \"#46039f\"], [0.2222222222222222, \"#7201a8\"], [0.3333333333333333, \"#9c179e\"], [0.4444444444444444, \"#bd3786\"], [0.5555555555555556, \"#d8576b\"], [0.6666666666666666, \"#ed7953\"], [0.7777777777777778, \"#fb9f3a\"], [0.8888888888888888, \"#fdca26\"], [1.0, \"#f0f921\"]], \"type\": \"surface\"}], \"table\": [{\"cells\": {\"fill\": {\"color\": \"#EBF0F8\"}, \"line\": {\"color\": \"white\"}}, \"header\": {\"fill\": {\"color\": \"#C8D4E3\"}, \"line\": {\"color\": \"white\"}}, \"type\": \"table\"}]}, \"layout\": {\"annotationdefaults\": {\"arrowcolor\": \"#2a3f5f\", \"arrowhead\": 0, \"arrowwidth\": 1}, \"coloraxis\": {\"colorbar\": {\"outlinewidth\": 0, \"ticks\": \"\"}}, \"colorscale\": {\"diverging\": [[0, \"#8e0152\"], [0.1, \"#c51b7d\"], [0.2, \"#de77ae\"], [0.3, \"#f1b6da\"], [0.4, \"#fde0ef\"], [0.5, \"#f7f7f7\"], [0.6, \"#e6f5d0\"], [0.7, \"#b8e186\"], [0.8, \"#7fbc41\"], [0.9, \"#4d9221\"], [1, \"#276419\"]], \"sequential\": [[0.0, \"#0d0887\"], [0.1111111111111111, \"#46039f\"], [0.2222222222222222, \"#7201a8\"], [0.3333333333333333, \"#9c179e\"], [0.4444444444444444, \"#bd3786\"], [0.5555555555555556, \"#d8576b\"], [0.6666666666666666, \"#ed7953\"], [0.7777777777777778, \"#fb9f3a\"], [0.8888888888888888, \"#fdca26\"], [1.0, \"#f0f921\"]], \"sequentialminus\": [[0.0, \"#0d0887\"], [0.1111111111111111, \"#46039f\"], [0.2222222222222222, \"#7201a8\"], [0.3333333333333333, \"#9c179e\"], [0.4444444444444444, \"#bd3786\"], [0.5555555555555556, \"#d8576b\"], [0.6666666666666666, \"#ed7953\"], [0.7777777777777778, \"#fb9f3a\"], [0.8888888888888888, \"#fdca26\"], [1.0, \"#f0f921\"]]}, \"colorway\": [\"#636efa\", \"#EF553B\", \"#00cc96\", \"#ab63fa\", \"#FFA15A\", \"#19d3f3\", \"#FF6692\", \"#B6E880\", \"#FF97FF\", \"#FECB52\"], \"font\": {\"color\": \"#2a3f5f\"}, \"geo\": {\"bgcolor\": \"white\", \"lakecolor\": \"white\", \"landcolor\": \"#E5ECF6\", \"showlakes\": true, \"showland\": true, \"subunitcolor\": \"white\"}, \"hoverlabel\": {\"align\": \"left\"}, \"hovermode\": \"closest\", \"mapbox\": {\"style\": \"light\"}, \"paper_bgcolor\": \"white\", \"plot_bgcolor\": \"#E5ECF6\", \"polar\": {\"angularaxis\": {\"gridcolor\": \"white\", \"linecolor\": \"white\", \"ticks\": \"\"}, \"bgcolor\": \"#E5ECF6\", \"radialaxis\": {\"gridcolor\": \"white\", \"linecolor\": \"white\", \"ticks\": \"\"}}, \"scene\": {\"xaxis\": {\"backgroundcolor\": \"#E5ECF6\", \"gridcolor\": \"white\", \"gridwidth\": 2, \"linecolor\": \"white\", \"showbackground\": true, \"ticks\": \"\", \"zerolinecolor\": \"white\"}, \"yaxis\": {\"backgroundcolor\": \"#E5ECF6\", \"gridcolor\": \"white\", \"gridwidth\": 2, \"linecolor\": \"white\", \"showbackground\": true, \"ticks\": \"\", \"zerolinecolor\": \"white\"}, \"zaxis\": {\"backgroundcolor\": \"#E5ECF6\", \"gridcolor\": \"white\", \"gridwidth\": 2, \"linecolor\": \"white\", \"showbackground\": true, \"ticks\": \"\", \"zerolinecolor\": \"white\"}}, \"shapedefaults\": {\"line\": {\"color\": \"#2a3f5f\"}}, \"ternary\": {\"aaxis\": {\"gridcolor\": \"white\", \"linecolor\": \"white\", \"ticks\": \"\"}, \"baxis\": {\"gridcolor\": \"white\", \"linecolor\": \"white\", \"ticks\": \"\"}, \"bgcolor\": \"#E5ECF6\", \"caxis\": {\"gridcolor\": \"white\", \"linecolor\": \"white\", \"ticks\": \"\"}}, \"title\": {\"x\": 0.05}, \"xaxis\": {\"automargin\": true, \"gridcolor\": \"white\", \"linecolor\": \"white\", \"ticks\": \"\", \"title\": {\"standoff\": 15}, \"zerolinecolor\": \"white\", \"zerolinewidth\": 2}, \"yaxis\": {\"automargin\": true, \"gridcolor\": \"white\", \"linecolor\": \"white\", \"ticks\": \"\", \"title\": {\"standoff\": 15}, \"zerolinecolor\": \"white\", \"zerolinewidth\": 2}}}, \"xaxis\": {\"anchor\": \"y2\", \"domain\": [0.0, 1.0], \"zeroline\": false}, \"yaxis\": {\"anchor\": \"free\", \"domain\": [0.35, 1], \"position\": 0.0}, \"yaxis2\": {\"anchor\": \"x\", \"domain\": [0, 0.25], \"dtick\": 1, \"showticklabels\": false}},\n",
              "                        {\"responsive\": true}\n",
              "                    ).then(function(){\n",
              "                            \n",
              "var gd = document.getElementById('ccc64568-d75d-4071-84cb-5a6829cc7e38');\n",
              "var x = new MutationObserver(function (mutations, observer) {{\n",
              "        var display = window.getComputedStyle(gd).display;\n",
              "        if (!display || display === 'none') {{\n",
              "            console.log([gd, 'removed!']);\n",
              "            Plotly.purge(gd);\n",
              "            observer.disconnect();\n",
              "        }}\n",
              "}});\n",
              "\n",
              "// Listen for the removal of the full notebook cells\n",
              "var notebookContainer = gd.closest('#notebook-container');\n",
              "if (notebookContainer) {{\n",
              "    x.observe(notebookContainer, {childList: true});\n",
              "}}\n",
              "\n",
              "// Listen for the clearing of the current output cell\n",
              "var outputEl = gd.closest('.output');\n",
              "if (outputEl) {{\n",
              "    x.observe(outputEl, {childList: true});\n",
              "}}\n",
              "\n",
              "                        })\n",
              "                };\n",
              "                \n",
              "            </script>\n",
              "        </div>\n",
              "</body>\n",
              "</html>"
            ]
          },
          "metadata": {
            "tags": []
          }
        }
      ]
    },
    {
      "cell_type": "code",
      "metadata": {
        "id": "xxohMNfnFx67"
      },
      "source": [
        "## Save dataset :\n",
        "\n",
        "big_df.to_csv ('Dataset_3_Areas.csv', header=True, index=False)"
      ],
      "execution_count": null,
      "outputs": []
    }
  ]
}