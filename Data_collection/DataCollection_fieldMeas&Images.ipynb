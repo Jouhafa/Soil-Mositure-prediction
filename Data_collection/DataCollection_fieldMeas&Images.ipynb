{
  "nbformat": 4,
  "nbformat_minor": 0,
  "metadata": {
    "colab": {
      "name": "DataCollection-fieldMeas&Images.ipynb",
      "provenance": [],
      "collapsed_sections": [
        "GaXL1TwpWlyK"
      ]
    },
    "kernelspec": {
      "display_name": "Python 3",
      "name": "python3"
    },
    "language_info": {
      "name": "python"
    }
  },
  "cells": [
    {
      "cell_type": "code",
      "metadata": {
        "id": "pWRvzndpGuUo"
      },
      "source": [
        "## Global Requirements :\n",
        "\n",
        "import matplotlib.pyplot as plt\n",
        "import numpy as np\n",
        "import pandas as pd\n",
        "from osgeo import gdal\n",
        "import sys\n",
        "import os"
      ],
      "execution_count": null,
      "outputs": []
    },
    {
      "cell_type": "code",
      "metadata": {
        "id": "dFmymvwuQMsf",
        "colab": {
          "base_uri": "https://localhost:8080/"
        },
        "outputId": "15ab9cfb-9403-4fbf-99e0-66498cc9a64b"
      },
      "source": [
        "from google.colab import drive\n",
        "drive.mount('/content/drive')"
      ],
      "execution_count": null,
      "outputs": [
        {
          "output_type": "stream",
          "text": [
            "Mounted at /content/drive\n"
          ],
          "name": "stdout"
        }
      ]
    },
    {
      "cell_type": "markdown",
      "metadata": {
        "id": "yNrSTt3u26ii"
      },
      "source": [
        "# Data collection :"
      ]
    },
    {
      "cell_type": "markdown",
      "metadata": {
        "id": "GaXL1TwpWlyK"
      },
      "source": [
        "## 1- Field Measurements :"
      ]
    },
    {
      "cell_type": "code",
      "metadata": {
        "id": "JBIZ9gDzPYnr",
        "colab": {
          "base_uri": "https://localhost:8080/"
        },
        "outputId": "0cb738c0-4fc0-4501-e33c-1b0341562cfa"
      },
      "source": [
        "## Install Requirements : \n",
        "\n",
        "!pip install cartopy"
      ],
      "execution_count": null,
      "outputs": [
        {
          "output_type": "stream",
          "text": [
            "Collecting cartopy\n",
            "  Downloading Cartopy-0.19.0.post1.tar.gz (12.1 MB)\n",
            "\u001b[K     |████████████████████████████████| 12.1 MB 151 kB/s \n",
            "\u001b[?25h  Installing build dependencies ... \u001b[?25l\u001b[?25hdone\n",
            "  Getting requirements to build wheel ... \u001b[?25l\u001b[?25hdone\n",
            "    Preparing wheel metadata ... \u001b[?25l\u001b[?25hdone\n",
            "Requirement already satisfied: shapely>=1.5.6 in /usr/local/lib/python3.7/dist-packages (from cartopy) (1.7.1)\n",
            "Requirement already satisfied: pyshp>=2 in /usr/local/lib/python3.7/dist-packages (from cartopy) (2.1.3)\n",
            "Requirement already satisfied: numpy>=1.13.3 in /usr/local/lib/python3.7/dist-packages (from cartopy) (1.19.5)\n",
            "Building wheels for collected packages: cartopy\n",
            "  Building wheel for cartopy (PEP 517) ... \u001b[?25l\u001b[?25hdone\n",
            "  Created wheel for cartopy: filename=Cartopy-0.19.0.post1-cp37-cp37m-linux_x86_64.whl size=12516271 sha256=8ba6fb160e9220f2d350ead86b8dea8a913af08397638c3455b35dd129830455\n",
            "  Stored in directory: /root/.cache/pip/wheels/98/01/f7/bd10aeb96fe4b518cde5f7c4f5e12c7202f85b7353a5017847\n",
            "Successfully built cartopy\n",
            "Installing collected packages: cartopy\n",
            "Successfully installed cartopy-0.19.0.post1\n"
          ],
          "name": "stdout"
        }
      ]
    },
    {
      "cell_type": "code",
      "metadata": {
        "id": "ZwMtUhSkP98C",
        "colab": {
          "base_uri": "https://localhost:8080/"
        },
        "outputId": "da59d79f-4cb4-4cf5-d0e9-eac24a8710d6"
      },
      "source": [
        "## Install Requirements : \n",
        "!pip install ismn  "
      ],
      "execution_count": null,
      "outputs": [
        {
          "output_type": "stream",
          "text": [
            "Collecting ismn\n",
            "  Downloading ismn-1.1.0-py2.py3-none-any.whl (55 kB)\n",
            "\u001b[K     |████████████████████████████████| 55 kB 2.2 MB/s \n",
            "\u001b[?25hRequirement already satisfied: numpy in /usr/local/lib/python3.7/dist-packages (from ismn) (1.19.5)\n",
            "Requirement already satisfied: more-itertools in /usr/local/lib/python3.7/dist-packages (from ismn) (8.8.0)\n",
            "Requirement already satisfied: tqdm in /usr/local/lib/python3.7/dist-packages (from ismn) (4.41.1)\n",
            "Collecting pygeogrids>=0.3.2\n",
            "  Downloading pygeogrids-0.4.1-py2.py3-none-any.whl (30 kB)\n",
            "Requirement already satisfied: pandas in /usr/local/lib/python3.7/dist-packages (from ismn) (1.1.5)\n",
            "Requirement already satisfied: importlib-metadata in /usr/local/lib/python3.7/dist-packages (from ismn) (4.6.1)\n",
            "Collecting configparser\n",
            "  Downloading configparser-5.0.2-py3-none-any.whl (19 kB)\n",
            "Collecting pykdtree\n",
            "  Downloading pykdtree-1.3.4-cp37-cp37m-manylinux1_x86_64.whl (212 kB)\n",
            "\u001b[K     |████████████████████████████████| 212 kB 10.4 MB/s \n",
            "\u001b[?25hRequirement already satisfied: netCDF4 in /usr/local/lib/python3.7/dist-packages (from pygeogrids>=0.3.2->ismn) (1.5.7)\n",
            "Collecting pyproj\n",
            "  Downloading pyproj-3.1.0-cp37-cp37m-manylinux2010_x86_64.whl (6.6 MB)\n",
            "\u001b[K     |████████████████████████████████| 6.6 MB 58.3 MB/s \n",
            "\u001b[?25hRequirement already satisfied: typing-extensions>=3.6.4 in /usr/local/lib/python3.7/dist-packages (from importlib-metadata->ismn) (3.7.4.3)\n",
            "Requirement already satisfied: zipp>=0.5 in /usr/local/lib/python3.7/dist-packages (from importlib-metadata->ismn) (3.5.0)\n",
            "Requirement already satisfied: cftime in /usr/local/lib/python3.7/dist-packages (from netCDF4->pygeogrids>=0.3.2->ismn) (1.5.0)\n",
            "Requirement already satisfied: python-dateutil>=2.7.3 in /usr/local/lib/python3.7/dist-packages (from pandas->ismn) (2.8.1)\n",
            "Requirement already satisfied: pytz>=2017.2 in /usr/local/lib/python3.7/dist-packages (from pandas->ismn) (2018.9)\n",
            "Requirement already satisfied: six>=1.5 in /usr/local/lib/python3.7/dist-packages (from python-dateutil>=2.7.3->pandas->ismn) (1.15.0)\n",
            "Requirement already satisfied: certifi in /usr/local/lib/python3.7/dist-packages (from pyproj->pygeogrids>=0.3.2->ismn) (2021.5.30)\n",
            "Installing collected packages: pyproj, pykdtree, pygeogrids, configparser, ismn\n",
            "Successfully installed configparser-5.0.2 ismn-1.1.0 pygeogrids-0.4.1 pykdtree-1.3.4 pyproj-3.1.0\n"
          ],
          "name": "stdout"
        }
      ]
    },
    {
      "cell_type": "code",
      "metadata": {
        "id": "wdVstE6yCCCh"
      },
      "source": [
        "from ismn.interface import ISMN_Interface"
      ],
      "execution_count": null,
      "outputs": []
    },
    {
      "cell_type": "code",
      "metadata": {
        "id": "isvBFqrhQVoJ",
        "colab": {
          "base_uri": "https://localhost:8080/"
        },
        "outputId": "ac3014ca-ff5b-4b46-c90c-6d79ba420af3"
      },
      "source": [
        "## Process tha data file with the ISMN interface : \n",
        "\n",
        "data_path = \"/content/drive/MyDrive/Datasets/Data_separate_files_header_20170301_20201231_8964_imyy_20210812\"\n",
        "ismn_data = ISMN_Interface(data_path, parallel=True)"
      ],
      "execution_count": null,
      "outputs": [
        {
          "output_type": "stream",
          "text": [
            "\rFiles Processed:   0%|          | 0/1 [00:00<?, ?it/s]"
          ],
          "name": "stderr"
        },
        {
          "output_type": "stream",
          "text": [
            "Processing metadata for all ismn stations into folder /content/drive/MyDrive/Datasets/Data_separate_files_header_20170301_20201231_8964_imyy_20210812.\n",
            "This may take a few minutes, but is only done once...\n",
            "\n"
          ],
          "name": "stdout"
        },
        {
          "output_type": "stream",
          "text": [
            "Files Processed: 100%|██████████| 1/1 [00:01<00:00,  1.63s/it]"
          ],
          "name": "stderr"
        },
        {
          "output_type": "stream",
          "text": [
            "Metadata generation finished after 1 Seconds.\n",
            "Metadata and Log stored in /content/drive/MyDrive/Datasets/Data_separate_files_header_20170301_20201231_8964_imyy_20210812/python_metadata\n",
            "Found existing ismn metadata in /content/drive/MyDrive/Datasets/Data_separate_files_header_20170301_20201231_8964_imyy_20210812/python_metadata/Data_separate_files_header_20170301_20201231_8964_imyy_20210812.csv.\n"
          ],
          "name": "stdout"
        },
        {
          "output_type": "stream",
          "text": [
            "\n"
          ],
          "name": "stderr"
        }
      ]
    },
    {
      "cell_type": "code",
      "metadata": {
        "colab": {
          "base_uri": "https://localhost:8080/"
        },
        "id": "ysh-T9UEQ6-E",
        "outputId": "e3698705-a9dc-4030-9e60-2148e590c89c"
      },
      "source": [
        "ismn_data.collection"
      ],
      "execution_count": null,
      "outputs": [
        {
          "output_type": "execute_result",
          "data": {
            "text/plain": [
              "REMEDHUS: ['Casa_Periles']"
            ]
          },
          "metadata": {
            "tags": []
          },
          "execution_count": 26
        }
      ]
    },
    {
      "cell_type": "code",
      "metadata": {
        "id": "Rpd39s3pRmDa",
        "colab": {
          "base_uri": "https://localhost:8080/"
        },
        "outputId": "85ce4999-637a-424f-c78a-fc018af2aea2"
      },
      "source": [
        " ismn_data.collection['REMEDHUS']['Casa_Periles'].metadata"
      ],
      "execution_count": null,
      "outputs": [
        {
          "output_type": "execute_result",
          "data": {
            "text/plain": [
              "MetaData([\n",
              "  MetaVar([clay_fraction, 21.0, Depth([0.0, 0.3])]),\n",
              "  MetaVar([climate_KG, BSk, None]),\n",
              "  MetaVar([climate_insitu, unknown, None]),\n",
              "  MetaVar([elevation, -99.9, None]),\n",
              "  MetaVar([instrument, Stevens-Hydra-Probe, Depth([0.0, 0.05])]),\n",
              "  MetaVar([latitude, 41.39392, None]),\n",
              "  MetaVar([lc_2000, 10, None]),\n",
              "  MetaVar([lc_2005, 10, None]),\n",
              "  MetaVar([lc_2010, 10, None]),\n",
              "  MetaVar([lc_insitu, unknown, None]),\n",
              "  MetaVar([longitude, -5.32146, None]),\n",
              "  MetaVar([network, REMEDHUS, None]),\n",
              "  MetaVar([organic_carbon, 0.65, Depth([0.0, 0.3])]),\n",
              "  MetaVar([sand_fraction, 36.0, Depth([0.0, 0.3])]),\n",
              "  MetaVar([saturation, 0.43, Depth([0.0, 0.3])]),\n",
              "  MetaVar([silt_fraction, 43.0, Depth([0.0, 0.3])]),\n",
              "  MetaVar([station, Casa_Periles, None]),\n",
              "  MetaVar([timerange_from, 2017-03-01 00:00:00, None]),\n",
              "  MetaVar([timerange_to, 2020-12-31 23:00:00, None]),\n",
              "  MetaVar([variable, soil_moisture, Depth([0.0, 0.05])]),\n",
              "  MetaVar([variable, soil_temperature, Depth([0.0, 0.05])])\n",
              "])"
            ]
          },
          "metadata": {
            "tags": []
          },
          "execution_count": 27
        }
      ]
    },
    {
      "cell_type": "code",
      "metadata": {
        "colab": {
          "base_uri": "https://localhost:8080/"
        },
        "id": "GlSgh2QPp4d5",
        "outputId": "362c58fc-6203-4eda-c191-b42df734b77b"
      },
      "source": [
        " ismn_data.collection['REMEDHUS']['Casa_Periles']"
      ],
      "execution_count": null,
      "outputs": [
        {
          "output_type": "execute_result",
          "data": {
            "text/plain": [
              "Sensors at 'Casa_Periles': ['Stevens-Hydra-Probe_soil_moisture_0.000000_0.050000', 'Stevens-Hydra-Probe_soil_temperature_0.000000_0.050000']"
            ]
          },
          "metadata": {
            "tags": []
          },
          "execution_count": 28
        }
      ]
    },
    {
      "cell_type": "code",
      "metadata": {
        "id": "LZTM7XNXAU2l"
      },
      "source": [
        "L=['Stevens-Hydra-Probe_soil_moisture_0.000000_0.050000']"
      ],
      "execution_count": null,
      "outputs": []
    },
    {
      "cell_type": "code",
      "metadata": {
        "id": "4jgemYrf9dge"
      },
      "source": [
        "## Utilities :\n",
        "\n",
        "def get_sensor_by(network, station):\n",
        "  df = []\n",
        "  \n",
        "  for index,value in enumerate(ismn_data.collection[network][station]) :\n",
        "    #print(\"soil_moisture\" in str(value),index)\n",
        "    #print(\"--------------\")\n",
        "    sensor = ismn_data.collection[str(network)][str(station)][str(value)]\n",
        "    \n",
        "    if str(value) in L :\n",
        "\n",
        "      ts = sensor.read_data()\n",
        "      ts.drop('soil_moisture_orig_flag', inplace=True, axis=1)  \n",
        "      ts.drop('soil_moisture_flag', inplace=True, axis=1)  \n",
        "      ts[\"depth\"] = float(str(value).split(\"_\")[-1])\n",
        "      ts.rename(columns={'soil_moisture': 'soil_moisture_depth_'+str(value).split(\"_\")[-1]},inplace=True)\n",
        "      df.append(ts)\n",
        "      allS = pd.concat(df)\n",
        "\n",
        "  \n",
        "  return allS\n",
        "\n",
        "def get_station_by(network):\n",
        "  df1 = []\n",
        "  for index,key in enumerate(ismn_data.collection[network]) :\n",
        "    #print(get_name(key))\n",
        "    data = get_sensor_by(network, get_name(key))\n",
        "    data[\"station\"] = get_name(key)\n",
        "    df1.append(data)\n",
        "\n",
        "  allN = pd.concat(df1)\n",
        "  allN.head()\n",
        "  return allN \n",
        "\n"
      ],
      "execution_count": null,
      "outputs": []
    },
    {
      "cell_type": "code",
      "metadata": {
        "id": "-faleKkR5ZnK"
      },
      "source": [
        "## Get The dataset of the network-station desired : \n",
        "\n",
        "dataset = get_sensor_by('REMEDHUS','Casa_Periles')"
      ],
      "execution_count": null,
      "outputs": []
    },
    {
      "cell_type": "code",
      "metadata": {
        "id": "63pc8Sjd5nMl"
      },
      "source": [
        "pd.set_option(\"display.max_rows\", False)"
      ],
      "execution_count": null,
      "outputs": []
    },
    {
      "cell_type": "code",
      "metadata": {
        "id": "HQ2C0gOOH9tW",
        "colab": {
          "base_uri": "https://localhost:8080/",
          "height": 260
        },
        "outputId": "d2f7f44a-94de-49da-dcea-9b229a84587e"
      },
      "source": [
        "dataset.head()"
      ],
      "execution_count": null,
      "outputs": [
        {
          "output_type": "execute_result",
          "data": {
            "text/html": [
              "<div>\n",
              "<style scoped>\n",
              "    .dataframe tbody tr th:only-of-type {\n",
              "        vertical-align: middle;\n",
              "    }\n",
              "\n",
              "    .dataframe tbody tr th {\n",
              "        vertical-align: top;\n",
              "    }\n",
              "\n",
              "    .dataframe thead th {\n",
              "        text-align: right;\n",
              "    }\n",
              "</style>\n",
              "<table border=\"1\" class=\"dataframe\">\n",
              "  <thead>\n",
              "    <tr style=\"text-align: right;\">\n",
              "      <th></th>\n",
              "      <th>soil_moisture_depth_0.050000</th>\n",
              "      <th>depth</th>\n",
              "    </tr>\n",
              "    <tr>\n",
              "      <th>date_time</th>\n",
              "      <th></th>\n",
              "      <th></th>\n",
              "    </tr>\n",
              "  </thead>\n",
              "  <tbody>\n",
              "    <tr>\n",
              "      <th>2017-03-01 00:00:00</th>\n",
              "      <td>0.156</td>\n",
              "      <td>0.05</td>\n",
              "    </tr>\n",
              "    <tr>\n",
              "      <th>2017-03-01 01:00:00</th>\n",
              "      <td>0.156</td>\n",
              "      <td>0.05</td>\n",
              "    </tr>\n",
              "    <tr>\n",
              "      <th>2017-03-01 02:00:00</th>\n",
              "      <td>0.156</td>\n",
              "      <td>0.05</td>\n",
              "    </tr>\n",
              "    <tr>\n",
              "      <th>2017-03-01 03:00:00</th>\n",
              "      <td>0.155</td>\n",
              "      <td>0.05</td>\n",
              "    </tr>\n",
              "    <tr>\n",
              "      <th>2017-03-01 04:00:00</th>\n",
              "      <td>0.155</td>\n",
              "      <td>0.05</td>\n",
              "    </tr>\n",
              "  </tbody>\n",
              "</table>\n",
              "</div>"
            ],
            "text/plain": [
              "                     soil_moisture_depth_0.050000  depth\n",
              "date_time                                               \n",
              "2017-03-01 00:00:00                         0.156   0.05\n",
              "2017-03-01 01:00:00                         0.156   0.05\n",
              "2017-03-01 02:00:00                         0.156   0.05\n",
              "2017-03-01 03:00:00                         0.155   0.05\n",
              "2017-03-01 04:00:00                         0.155   0.05"
            ]
          },
          "metadata": {
            "tags": []
          },
          "execution_count": 32
        }
      ]
    },
    {
      "cell_type": "code",
      "metadata": {
        "colab": {
          "base_uri": "https://localhost:8080/",
          "height": 323
        },
        "id": "VgqGV7sbWnvo",
        "outputId": "9bdd056f-aa7a-487a-fb23-f5bc2c895457"
      },
      "source": [
        "dataset.describe()"
      ],
      "execution_count": null,
      "outputs": [
        {
          "output_type": "execute_result",
          "data": {
            "text/html": [
              "<div>\n",
              "<style scoped>\n",
              "    .dataframe tbody tr th:only-of-type {\n",
              "        vertical-align: middle;\n",
              "    }\n",
              "\n",
              "    .dataframe tbody tr th {\n",
              "        vertical-align: top;\n",
              "    }\n",
              "\n",
              "    .dataframe thead th {\n",
              "        text-align: right;\n",
              "    }\n",
              "</style>\n",
              "<table border=\"1\" class=\"dataframe\">\n",
              "  <thead>\n",
              "    <tr style=\"text-align: right;\">\n",
              "      <th></th>\n",
              "      <th>soil_moisture_depth_0.050000</th>\n",
              "      <th>depth</th>\n",
              "    </tr>\n",
              "  </thead>\n",
              "  <tbody>\n",
              "    <tr>\n",
              "      <th>count</th>\n",
              "      <td>32922.000000</td>\n",
              "      <td>3.292200e+04</td>\n",
              "    </tr>\n",
              "    <tr>\n",
              "      <th>mean</th>\n",
              "      <td>0.156274</td>\n",
              "      <td>5.000000e-02</td>\n",
              "    </tr>\n",
              "    <tr>\n",
              "      <th>std</th>\n",
              "      <td>0.057528</td>\n",
              "      <td>2.883848e-14</td>\n",
              "    </tr>\n",
              "    <tr>\n",
              "      <th>min</th>\n",
              "      <td>0.053000</td>\n",
              "      <td>5.000000e-02</td>\n",
              "    </tr>\n",
              "    <tr>\n",
              "      <th>25%</th>\n",
              "      <td>0.109000</td>\n",
              "      <td>5.000000e-02</td>\n",
              "    </tr>\n",
              "    <tr>\n",
              "      <th>50%</th>\n",
              "      <td>0.153000</td>\n",
              "      <td>5.000000e-02</td>\n",
              "    </tr>\n",
              "    <tr>\n",
              "      <th>75%</th>\n",
              "      <td>0.202000</td>\n",
              "      <td>5.000000e-02</td>\n",
              "    </tr>\n",
              "    <tr>\n",
              "      <th>max</th>\n",
              "      <td>0.371000</td>\n",
              "      <td>5.000000e-02</td>\n",
              "    </tr>\n",
              "  </tbody>\n",
              "</table>\n",
              "</div>"
            ],
            "text/plain": [
              "       soil_moisture_depth_0.050000         depth\n",
              "count                  32922.000000  3.292200e+04\n",
              "mean                       0.156274  5.000000e-02\n",
              "std                        0.057528  2.883848e-14\n",
              "min                        0.053000  5.000000e-02\n",
              "25%                        0.109000  5.000000e-02\n",
              "50%                        0.153000  5.000000e-02\n",
              "75%                        0.202000  5.000000e-02\n",
              "max                        0.371000  5.000000e-02"
            ]
          },
          "metadata": {
            "tags": []
          },
          "execution_count": 22
        }
      ]
    },
    {
      "cell_type": "code",
      "metadata": {
        "id": "ipFtIL12DU2d"
      },
      "source": [
        "## Save the dataset as csv file :\n",
        "\n",
        "dataset.to_csv ('SMC_dataset_2017to2020_Area3.csv', header=True)"
      ],
      "execution_count": null,
      "outputs": []
    },
    {
      "cell_type": "code",
      "metadata": {
        "colab": {
          "base_uri": "https://localhost:8080/",
          "height": 228
        },
        "id": "b850UYkiQULE",
        "outputId": "e2ad0a0d-e9ba-4eab-955f-72164905147d"
      },
      "source": [
        "## Check if the file is correctly saved :\n",
        "\n",
        "df = pd.read_csv('SMC_dataset_2017to2020_Area3.csv')\n",
        "df.tail()"
      ],
      "execution_count": null,
      "outputs": [
        {
          "output_type": "execute_result",
          "data": {
            "text/html": [
              "<div>\n",
              "<style scoped>\n",
              "    .dataframe tbody tr th:only-of-type {\n",
              "        vertical-align: middle;\n",
              "    }\n",
              "\n",
              "    .dataframe tbody tr th {\n",
              "        vertical-align: top;\n",
              "    }\n",
              "\n",
              "    .dataframe thead th {\n",
              "        text-align: right;\n",
              "    }\n",
              "</style>\n",
              "<table border=\"1\" class=\"dataframe\">\n",
              "  <thead>\n",
              "    <tr style=\"text-align: right;\">\n",
              "      <th></th>\n",
              "      <th>date_time</th>\n",
              "      <th>soil_moisture_depth_0.050000</th>\n",
              "      <th>depth</th>\n",
              "    </tr>\n",
              "  </thead>\n",
              "  <tbody>\n",
              "    <tr>\n",
              "      <th>33193</th>\n",
              "      <td>2020-12-31 19:00:00</td>\n",
              "      <td>0.181</td>\n",
              "      <td>0.05</td>\n",
              "    </tr>\n",
              "    <tr>\n",
              "      <th>33194</th>\n",
              "      <td>2020-12-31 20:00:00</td>\n",
              "      <td>0.183</td>\n",
              "      <td>0.05</td>\n",
              "    </tr>\n",
              "    <tr>\n",
              "      <th>33195</th>\n",
              "      <td>2020-12-31 21:00:00</td>\n",
              "      <td>0.185</td>\n",
              "      <td>0.05</td>\n",
              "    </tr>\n",
              "    <tr>\n",
              "      <th>33196</th>\n",
              "      <td>2020-12-31 22:00:00</td>\n",
              "      <td>0.186</td>\n",
              "      <td>0.05</td>\n",
              "    </tr>\n",
              "    <tr>\n",
              "      <th>33197</th>\n",
              "      <td>2020-12-31 23:00:00</td>\n",
              "      <td>0.186</td>\n",
              "      <td>0.05</td>\n",
              "    </tr>\n",
              "  </tbody>\n",
              "</table>\n",
              "</div>"
            ],
            "text/plain": [
              "                 date_time  soil_moisture_depth_0.050000  depth\n",
              "33193  2020-12-31 19:00:00                         0.181   0.05\n",
              "33194  2020-12-31 20:00:00                         0.183   0.05\n",
              "33195  2020-12-31 21:00:00                         0.185   0.05\n",
              "33196  2020-12-31 22:00:00                         0.186   0.05\n",
              "33197  2020-12-31 23:00:00                         0.186   0.05"
            ]
          },
          "metadata": {
            "tags": []
          },
          "execution_count": 34
        }
      ]
    },
    {
      "cell_type": "markdown",
      "metadata": {
        "id": "XehsN8c3Wwgh"
      },
      "source": [
        "## 2- Satellite Imagery :"
      ]
    },
    {
      "cell_type": "code",
      "metadata": {
        "id": "H9LaVZh-Wjep"
      },
      "source": [
        "## Requirements : \n",
        "\n",
        "import ee\n",
        "import folium\n",
        "from IPython.display import Image\n",
        "from datetime import datetime\n",
        "from datetime import timedelta"
      ],
      "execution_count": null,
      "outputs": []
    },
    {
      "cell_type": "code",
      "metadata": {
        "id": "Rndrrd9rW4TC",
        "colab": {
          "base_uri": "https://localhost:8080/"
        },
        "outputId": "c1b45ca1-3b13-4a03-c035-e43ad21c09cb"
      },
      "source": [
        "ee.Authenticate()"
      ],
      "execution_count": null,
      "outputs": [
        {
          "output_type": "stream",
          "text": [
            "To authorize access needed by Earth Engine, open the following URL in a web browser and follow the instructions. If the web browser does not start automatically, please manually browse the URL below.\n",
            "\n",
            "    https://accounts.google.com/o/oauth2/auth?client_id=517222506229-vsmmajv00ul0bs7p89v5m89qs8eb9359.apps.googleusercontent.com&scope=https%3A%2F%2Fwww.googleapis.com%2Fauth%2Fearthengine+https%3A%2F%2Fwww.googleapis.com%2Fauth%2Fdevstorage.full_control&redirect_uri=urn%3Aietf%3Awg%3Aoauth%3A2.0%3Aoob&response_type=code&code_challenge=WFhJY1l0g_Z4y8aOuJATadnYxtZ2nsvdrY_NzHPSkLY&code_challenge_method=S256\n",
            "\n",
            "The authorization workflow will generate a code, which you should paste in the box below. \n",
            "Enter verification code: 4/1AX4XfWh2wyRadbgrXx5KMyIMnqiPtudQeYnYYvISC33JYMu5dcOqAx0VPsM\n",
            "\n",
            "Successfully saved authorization token.\n"
          ],
          "name": "stdout"
        }
      ]
    },
    {
      "cell_type": "code",
      "metadata": {
        "id": "6EF0TeuSXPRB"
      },
      "source": [
        "# Initialize the library.\n",
        "ee.Initialize()"
      ],
      "execution_count": null,
      "outputs": []
    },
    {
      "cell_type": "markdown",
      "metadata": {
        "id": "BDqwKPVBF41v"
      },
      "source": [
        "### Selection of a the region"
      ]
    },
    {
      "cell_type": "code",
      "metadata": {
        "id": "683CxjWorf5i",
        "colab": {
          "base_uri": "https://localhost:8080/",
          "height": 1000
        },
        "outputId": "e60e4168-c7b7-4556-8569-5cf0d5ceb62f"
      },
      "source": [
        "pip install geemap"
      ],
      "execution_count": null,
      "outputs": [
        {
          "output_type": "stream",
          "text": [
            "Collecting geemap\n",
            "  Downloading geemap-0.8.18-py2.py3-none-any.whl (476 kB)\n",
            "\u001b[K     |████████████████████████████████| 476 kB 5.1 MB/s \n",
            "\u001b[?25hRequirement already satisfied: click in /usr/local/lib/python3.7/dist-packages (from geemap) (7.1.2)\n",
            "Requirement already satisfied: earthengine-api>=0.1.230 in /usr/local/lib/python3.7/dist-packages (from geemap) (0.1.272)\n",
            "Collecting bqplot\n",
            "  Downloading bqplot-0.12.30-py2.py3-none-any.whl (1.2 MB)\n",
            "\u001b[K     |████████████████████████████████| 1.2 MB 35.4 MB/s \n",
            "\u001b[?25hCollecting voila\n",
            "  Downloading voila-0.2.10-py3-none-any.whl (1.6 MB)\n",
            "\u001b[K     |████████████████████████████████| 1.6 MB 34.0 MB/s \n",
            "\u001b[?25hCollecting ipyevents\n",
            "  Downloading ipyevents-2.0.1-py2.py3-none-any.whl (130 kB)\n",
            "\u001b[K     |████████████████████████████████| 130 kB 58.5 MB/s \n",
            "\u001b[?25hRequirement already satisfied: matplotlib in /usr/local/lib/python3.7/dist-packages (from geemap) (3.2.2)\n",
            "Collecting ipyleaflet>=0.14.0\n",
            "  Downloading ipyleaflet-0.14.0-py2.py3-none-any.whl (3.3 MB)\n",
            "\u001b[K     |████████████████████████████████| 3.3 MB 43.7 MB/s \n",
            "\u001b[?25hRequirement already satisfied: pandas in /usr/local/lib/python3.7/dist-packages (from geemap) (1.1.5)\n",
            "Collecting ipynb-py-convert\n",
            "  Downloading ipynb-py-convert-0.4.6.tar.gz (3.9 kB)\n",
            "Collecting ipytree\n",
            "  Downloading ipytree-0.2.1-py2.py3-none-any.whl (1.3 MB)\n",
            "\u001b[K     |████████████████████████████████| 1.3 MB 64.4 MB/s \n",
            "\u001b[?25hCollecting ffmpeg-python\n",
            "  Downloading ffmpeg_python-0.2.0-py3-none-any.whl (25 kB)\n",
            "Collecting pycrs\n",
            "  Downloading PyCRS-1.0.2.tar.gz (36 kB)\n",
            "Collecting mss\n",
            "  Downloading mss-6.1.0-py3-none-any.whl (76 kB)\n",
            "\u001b[K     |████████████████████████████████| 76 kB 5.5 MB/s \n",
            "\u001b[?25hCollecting ipyfilechooser\n",
            "  Downloading ipyfilechooser-0.4.4-py3-none-any.whl (8.7 kB)\n",
            "Requirement already satisfied: numpy in /usr/local/lib/python3.7/dist-packages (from geemap) (1.19.5)\n",
            "Requirement already satisfied: googledrivedownloader in /usr/local/lib/python3.7/dist-packages (from geemap) (0.4)\n",
            "Collecting geojson\n",
            "  Downloading geojson-2.5.0-py2.py3-none-any.whl (14 kB)\n",
            "Collecting colour\n",
            "  Downloading colour-0.1.5-py2.py3-none-any.whl (23 kB)\n",
            "Collecting whiteboxgui\n",
            "  Downloading whiteboxgui-0.3.0-py2.py3-none-any.whl (76 kB)\n",
            "\u001b[K     |████████████████████████████████| 76 kB 4.3 MB/s \n",
            "\u001b[?25hCollecting geeadd>=0.5.1\n",
            "  Downloading geeadd-0.5.5-py3-none-any.whl (30 kB)\n",
            "Collecting pyshp>=2.1.3\n",
            "  Downloading pyshp-2.1.3.tar.gz (219 kB)\n",
            "\u001b[K     |████████████████████████████████| 219 kB 59.2 MB/s \n",
            "\u001b[?25hRequirement already satisfied: pillow in /usr/local/lib/python3.7/dist-packages (from geemap) (7.1.2)\n",
            "Collecting geocoder\n",
            "  Downloading geocoder-1.38.1-py2.py3-none-any.whl (98 kB)\n",
            "\u001b[K     |████████████████████████████████| 98 kB 5.4 MB/s \n",
            "\u001b[?25hCollecting python-box\n",
            "  Downloading python_box-5.3.0-py3-none-any.whl (21 kB)\n",
            "Collecting sankee\n",
            "  Downloading sankee-0.0.5-py3-none-any.whl (29 kB)\n",
            "Collecting folium>=0.11.0\n",
            "  Downloading folium-0.12.1-py2.py3-none-any.whl (94 kB)\n",
            "\u001b[K     |████████████████████████████████| 94 kB 2.7 MB/s \n",
            "\u001b[?25hRequirement already satisfied: future in /usr/local/lib/python3.7/dist-packages (from earthengine-api>=0.1.230->geemap) (0.16.0)\n",
            "Requirement already satisfied: google-auth-httplib2>=0.0.3 in /usr/local/lib/python3.7/dist-packages (from earthengine-api>=0.1.230->geemap) (0.0.4)\n",
            "Requirement already satisfied: google-auth>=1.4.1 in /usr/local/lib/python3.7/dist-packages (from earthengine-api>=0.1.230->geemap) (1.32.1)\n",
            "Requirement already satisfied: google-cloud-storage in /usr/local/lib/python3.7/dist-packages (from earthengine-api>=0.1.230->geemap) (1.18.1)\n",
            "Requirement already satisfied: httplib2<1dev,>=0.9.2 in /usr/local/lib/python3.7/dist-packages (from earthengine-api>=0.1.230->geemap) (0.17.4)\n",
            "Requirement already satisfied: httplib2shim in /usr/local/lib/python3.7/dist-packages (from earthengine-api>=0.1.230->geemap) (0.0.3)\n",
            "Requirement already satisfied: google-api-python-client<2,>=1.12.1 in /usr/local/lib/python3.7/dist-packages (from earthengine-api>=0.1.230->geemap) (1.12.8)\n",
            "Requirement already satisfied: six in /usr/local/lib/python3.7/dist-packages (from earthengine-api>=0.1.230->geemap) (1.15.0)\n",
            "Requirement already satisfied: branca>=0.3.0 in /usr/local/lib/python3.7/dist-packages (from folium>=0.11.0->geemap) (0.4.2)\n",
            "Requirement already satisfied: jinja2>=2.9 in /usr/local/lib/python3.7/dist-packages (from folium>=0.11.0->geemap) (2.11.3)\n",
            "Requirement already satisfied: requests in /usr/local/lib/python3.7/dist-packages (from folium>=0.11.0->geemap) (2.23.0)\n",
            "Collecting logzero>=1.5.0\n",
            "  Downloading logzero-1.7.0-py2.py3-none-any.whl (16 kB)\n",
            "Collecting beautifulsoup4>=4.9.0\n",
            "  Downloading beautifulsoup4-4.9.3-py3-none-any.whl (115 kB)\n",
            "\u001b[K     |████████████████████████████████| 115 kB 58.8 MB/s \n",
            "\u001b[?25hCollecting soupsieve>1.2\n",
            "  Downloading soupsieve-2.2.1-py3-none-any.whl (33 kB)\n",
            "Requirement already satisfied: uritemplate<4dev,>=3.0.0 in /usr/local/lib/python3.7/dist-packages (from google-api-python-client<2,>=1.12.1->earthengine-api>=0.1.230->geemap) (3.0.1)\n",
            "Requirement already satisfied: google-api-core<2dev,>=1.21.0 in /usr/local/lib/python3.7/dist-packages (from google-api-python-client<2,>=1.12.1->earthengine-api>=0.1.230->geemap) (1.26.3)\n",
            "Requirement already satisfied: protobuf>=3.12.0 in /usr/local/lib/python3.7/dist-packages (from google-api-core<2dev,>=1.21.0->google-api-python-client<2,>=1.12.1->earthengine-api>=0.1.230->geemap) (3.17.3)\n",
            "Requirement already satisfied: packaging>=14.3 in /usr/local/lib/python3.7/dist-packages (from google-api-core<2dev,>=1.21.0->google-api-python-client<2,>=1.12.1->earthengine-api>=0.1.230->geemap) (21.0)\n",
            "Requirement already satisfied: pytz in /usr/local/lib/python3.7/dist-packages (from google-api-core<2dev,>=1.21.0->google-api-python-client<2,>=1.12.1->earthengine-api>=0.1.230->geemap) (2018.9)\n",
            "Requirement already satisfied: googleapis-common-protos<2.0dev,>=1.6.0 in /usr/local/lib/python3.7/dist-packages (from google-api-core<2dev,>=1.21.0->google-api-python-client<2,>=1.12.1->earthengine-api>=0.1.230->geemap) (1.53.0)\n",
            "Requirement already satisfied: setuptools>=40.3.0 in /usr/local/lib/python3.7/dist-packages (from google-api-core<2dev,>=1.21.0->google-api-python-client<2,>=1.12.1->earthengine-api>=0.1.230->geemap) (57.2.0)\n",
            "Requirement already satisfied: rsa<5,>=3.1.4 in /usr/local/lib/python3.7/dist-packages (from google-auth>=1.4.1->earthengine-api>=0.1.230->geemap) (4.7.2)\n",
            "Requirement already satisfied: pyasn1-modules>=0.2.1 in /usr/local/lib/python3.7/dist-packages (from google-auth>=1.4.1->earthengine-api>=0.1.230->geemap) (0.2.8)\n",
            "Requirement already satisfied: cachetools<5.0,>=2.0.0 in /usr/local/lib/python3.7/dist-packages (from google-auth>=1.4.1->earthengine-api>=0.1.230->geemap) (4.2.2)\n",
            "Requirement already satisfied: ipywidgets<8,>=7.6.0 in /usr/local/lib/python3.7/dist-packages (from ipyleaflet>=0.14.0->geemap) (7.6.3)\n",
            "Collecting traittypes<3,>=0.2.1\n",
            "  Downloading traittypes-0.2.1-py2.py3-none-any.whl (8.6 kB)\n",
            "Requirement already satisfied: ipykernel>=4.5.1 in /usr/local/lib/python3.7/dist-packages (from ipywidgets<8,>=7.6.0->ipyleaflet>=0.14.0->geemap) (4.10.1)\n",
            "Requirement already satisfied: ipython>=4.0.0 in /usr/local/lib/python3.7/dist-packages (from ipywidgets<8,>=7.6.0->ipyleaflet>=0.14.0->geemap) (5.5.0)\n",
            "Requirement already satisfied: widgetsnbextension~=3.5.0 in /usr/local/lib/python3.7/dist-packages (from ipywidgets<8,>=7.6.0->ipyleaflet>=0.14.0->geemap) (3.5.1)\n",
            "Requirement already satisfied: nbformat>=4.2.0 in /usr/local/lib/python3.7/dist-packages (from ipywidgets<8,>=7.6.0->ipyleaflet>=0.14.0->geemap) (5.1.3)\n",
            "Requirement already satisfied: jupyterlab-widgets>=1.0.0 in /usr/local/lib/python3.7/dist-packages (from ipywidgets<8,>=7.6.0->ipyleaflet>=0.14.0->geemap) (1.0.0)\n",
            "Requirement already satisfied: traitlets>=4.3.1 in /usr/local/lib/python3.7/dist-packages (from ipywidgets<8,>=7.6.0->ipyleaflet>=0.14.0->geemap) (5.0.5)\n",
            "Requirement already satisfied: tornado>=4.0 in /usr/local/lib/python3.7/dist-packages (from ipykernel>=4.5.1->ipywidgets<8,>=7.6.0->ipyleaflet>=0.14.0->geemap) (5.1.1)\n",
            "Requirement already satisfied: jupyter-client in /usr/local/lib/python3.7/dist-packages (from ipykernel>=4.5.1->ipywidgets<8,>=7.6.0->ipyleaflet>=0.14.0->geemap) (5.3.5)\n",
            "Requirement already satisfied: prompt-toolkit<2.0.0,>=1.0.4 in /usr/local/lib/python3.7/dist-packages (from ipython>=4.0.0->ipywidgets<8,>=7.6.0->ipyleaflet>=0.14.0->geemap) (1.0.18)\n",
            "Requirement already satisfied: pygments in /usr/local/lib/python3.7/dist-packages (from ipython>=4.0.0->ipywidgets<8,>=7.6.0->ipyleaflet>=0.14.0->geemap) (2.6.1)\n",
            "Requirement already satisfied: decorator in /usr/local/lib/python3.7/dist-packages (from ipython>=4.0.0->ipywidgets<8,>=7.6.0->ipyleaflet>=0.14.0->geemap) (4.4.2)\n",
            "Requirement already satisfied: pexpect in /usr/local/lib/python3.7/dist-packages (from ipython>=4.0.0->ipywidgets<8,>=7.6.0->ipyleaflet>=0.14.0->geemap) (4.8.0)\n",
            "Requirement already satisfied: pickleshare in /usr/local/lib/python3.7/dist-packages (from ipython>=4.0.0->ipywidgets<8,>=7.6.0->ipyleaflet>=0.14.0->geemap) (0.7.5)\n",
            "Requirement already satisfied: simplegeneric>0.8 in /usr/local/lib/python3.7/dist-packages (from ipython>=4.0.0->ipywidgets<8,>=7.6.0->ipyleaflet>=0.14.0->geemap) (0.8.1)\n",
            "Requirement already satisfied: MarkupSafe>=0.23 in /usr/local/lib/python3.7/dist-packages (from jinja2>=2.9->folium>=0.11.0->geemap) (2.0.1)\n",
            "Requirement already satisfied: ipython-genutils in /usr/local/lib/python3.7/dist-packages (from nbformat>=4.2.0->ipywidgets<8,>=7.6.0->ipyleaflet>=0.14.0->geemap) (0.2.0)\n",
            "Requirement already satisfied: jupyter-core in /usr/local/lib/python3.7/dist-packages (from nbformat>=4.2.0->ipywidgets<8,>=7.6.0->ipyleaflet>=0.14.0->geemap) (4.7.1)\n",
            "Requirement already satisfied: jsonschema!=2.5.0,>=2.4 in /usr/local/lib/python3.7/dist-packages (from nbformat>=4.2.0->ipywidgets<8,>=7.6.0->ipyleaflet>=0.14.0->geemap) (2.6.0)\n",
            "Requirement already satisfied: pyparsing>=2.0.2 in /usr/local/lib/python3.7/dist-packages (from packaging>=14.3->google-api-core<2dev,>=1.21.0->google-api-python-client<2,>=1.12.1->earthengine-api>=0.1.230->geemap) (2.4.7)\n",
            "Requirement already satisfied: wcwidth in /usr/local/lib/python3.7/dist-packages (from prompt-toolkit<2.0.0,>=1.0.4->ipython>=4.0.0->ipywidgets<8,>=7.6.0->ipyleaflet>=0.14.0->geemap) (0.2.5)\n",
            "Requirement already satisfied: pyasn1<0.5.0,>=0.4.6 in /usr/local/lib/python3.7/dist-packages (from pyasn1-modules>=0.2.1->google-auth>=1.4.1->earthengine-api>=0.1.230->geemap) (0.4.8)\n",
            "Requirement already satisfied: urllib3!=1.25.0,!=1.25.1,<1.26,>=1.21.1 in /usr/local/lib/python3.7/dist-packages (from requests->folium>=0.11.0->geemap) (1.24.3)\n",
            "Requirement already satisfied: chardet<4,>=3.0.2 in /usr/local/lib/python3.7/dist-packages (from requests->folium>=0.11.0->geemap) (3.0.4)\n",
            "Requirement already satisfied: certifi>=2017.4.17 in /usr/local/lib/python3.7/dist-packages (from requests->folium>=0.11.0->geemap) (2021.5.30)\n",
            "Requirement already satisfied: idna<3,>=2.5 in /usr/local/lib/python3.7/dist-packages (from requests->folium>=0.11.0->geemap) (2.10)\n",
            "Requirement already satisfied: notebook>=4.4.1 in /usr/local/lib/python3.7/dist-packages (from widgetsnbextension~=3.5.0->ipywidgets<8,>=7.6.0->ipyleaflet>=0.14.0->geemap) (5.3.1)\n",
            "Requirement already satisfied: nbconvert in /usr/local/lib/python3.7/dist-packages (from notebook>=4.4.1->widgetsnbextension~=3.5.0->ipywidgets<8,>=7.6.0->ipyleaflet>=0.14.0->geemap) (5.6.1)\n",
            "Requirement already satisfied: terminado>=0.8.1 in /usr/local/lib/python3.7/dist-packages (from notebook>=4.4.1->widgetsnbextension~=3.5.0->ipywidgets<8,>=7.6.0->ipyleaflet>=0.14.0->geemap) (0.10.1)\n",
            "Requirement already satisfied: Send2Trash in /usr/local/lib/python3.7/dist-packages (from notebook>=4.4.1->widgetsnbextension~=3.5.0->ipywidgets<8,>=7.6.0->ipyleaflet>=0.14.0->geemap) (1.7.1)\n",
            "Requirement already satisfied: python-dateutil>=2.1 in /usr/local/lib/python3.7/dist-packages (from jupyter-client->ipykernel>=4.5.1->ipywidgets<8,>=7.6.0->ipyleaflet>=0.14.0->geemap) (2.8.1)\n",
            "Requirement already satisfied: pyzmq>=13 in /usr/local/lib/python3.7/dist-packages (from jupyter-client->ipykernel>=4.5.1->ipywidgets<8,>=7.6.0->ipyleaflet>=0.14.0->geemap) (22.1.0)\n",
            "Requirement already satisfied: ptyprocess in /usr/local/lib/python3.7/dist-packages (from terminado>=0.8.1->notebook>=4.4.1->widgetsnbextension~=3.5.0->ipywidgets<8,>=7.6.0->ipyleaflet>=0.14.0->geemap) (0.7.0)\n",
            "Collecting ratelim\n",
            "  Downloading ratelim-0.1.6-py2.py3-none-any.whl (4.0 kB)\n",
            "Requirement already satisfied: google-cloud-core<2.0dev,>=1.0.0 in /usr/local/lib/python3.7/dist-packages (from google-cloud-storage->earthengine-api>=0.1.230->geemap) (1.0.3)\n",
            "Requirement already satisfied: google-resumable-media<0.5.0dev,>=0.3.1 in /usr/local/lib/python3.7/dist-packages (from google-cloud-storage->earthengine-api>=0.1.230->geemap) (0.4.1)\n",
            "Requirement already satisfied: cycler>=0.10 in /usr/local/lib/python3.7/dist-packages (from matplotlib->geemap) (0.10.0)\n",
            "Requirement already satisfied: kiwisolver>=1.0.1 in /usr/local/lib/python3.7/dist-packages (from matplotlib->geemap) (1.3.1)\n",
            "Requirement already satisfied: entrypoints>=0.2.2 in /usr/local/lib/python3.7/dist-packages (from nbconvert->notebook>=4.4.1->widgetsnbextension~=3.5.0->ipywidgets<8,>=7.6.0->ipyleaflet>=0.14.0->geemap) (0.3)\n",
            "Requirement already satisfied: bleach in /usr/local/lib/python3.7/dist-packages (from nbconvert->notebook>=4.4.1->widgetsnbextension~=3.5.0->ipywidgets<8,>=7.6.0->ipyleaflet>=0.14.0->geemap) (3.3.0)\n",
            "Requirement already satisfied: defusedxml in /usr/local/lib/python3.7/dist-packages (from nbconvert->notebook>=4.4.1->widgetsnbextension~=3.5.0->ipywidgets<8,>=7.6.0->ipyleaflet>=0.14.0->geemap) (0.7.1)\n",
            "Requirement already satisfied: testpath in /usr/local/lib/python3.7/dist-packages (from nbconvert->notebook>=4.4.1->widgetsnbextension~=3.5.0->ipywidgets<8,>=7.6.0->ipyleaflet>=0.14.0->geemap) (0.5.0)\n",
            "Requirement already satisfied: mistune<2,>=0.8.1 in /usr/local/lib/python3.7/dist-packages (from nbconvert->notebook>=4.4.1->widgetsnbextension~=3.5.0->ipywidgets<8,>=7.6.0->ipyleaflet>=0.14.0->geemap) (0.8.4)\n",
            "Requirement already satisfied: pandocfilters>=1.4.1 in /usr/local/lib/python3.7/dist-packages (from nbconvert->notebook>=4.4.1->widgetsnbextension~=3.5.0->ipywidgets<8,>=7.6.0->ipyleaflet>=0.14.0->geemap) (1.4.3)\n",
            "Requirement already satisfied: webencodings in /usr/local/lib/python3.7/dist-packages (from bleach->nbconvert->notebook>=4.4.1->widgetsnbextension~=3.5.0->ipywidgets<8,>=7.6.0->ipyleaflet>=0.14.0->geemap) (0.5.1)\n",
            "Requirement already satisfied: plotly in /usr/local/lib/python3.7/dist-packages (from sankee->geemap) (4.4.1)\n",
            "Requirement already satisfied: retrying>=1.3.3 in /usr/local/lib/python3.7/dist-packages (from plotly->sankee->geemap) (1.3.3)\n",
            "Collecting nbconvert\n",
            "  Downloading nbconvert-6.1.0-py3-none-any.whl (551 kB)\n",
            "\u001b[K     |████████████████████████████████| 551 kB 73.7 MB/s \n",
            "\u001b[?25hCollecting jupyter-server<2.0.0,>=0.3.0\n",
            "  Downloading jupyter_server-1.10.2-py3-none-any.whl (392 kB)\n",
            "\u001b[K     |████████████████████████████████| 392 kB 61.8 MB/s \n",
            "\u001b[?25hCollecting jupyter-client\n",
            "  Downloading jupyter_client-6.1.12-py3-none-any.whl (112 kB)\n",
            "\u001b[K     |████████████████████████████████| 112 kB 58.7 MB/s \n",
            "\u001b[?25hRequirement already satisfied: nbclient<0.6,>=0.4.0 in /usr/local/lib/python3.7/dist-packages (from voila->geemap) (0.5.3)\n",
            "Collecting anyio<4,>=3.1.0\n",
            "  Downloading anyio-3.3.0-py3-none-any.whl (77 kB)\n",
            "\u001b[K     |████████████████████████████████| 77 kB 6.3 MB/s \n",
            "\u001b[?25hCollecting requests-unixsocket\n",
            "  Downloading requests_unixsocket-0.2.0-py2.py3-none-any.whl (11 kB)\n",
            "Collecting websocket-client\n",
            "  Downloading websocket_client-1.2.0-py2.py3-none-any.whl (52 kB)\n",
            "\u001b[K     |████████████████████████████████| 52 kB 1.1 MB/s \n",
            "\u001b[?25hRequirement already satisfied: argon2-cffi in /usr/local/lib/python3.7/dist-packages (from jupyter-server<2.0.0,>=0.3.0->voila->geemap) (20.1.0)\n",
            "Requirement already satisfied: prometheus-client in /usr/local/lib/python3.7/dist-packages (from jupyter-server<2.0.0,>=0.3.0->voila->geemap) (0.11.0)\n",
            "Collecting tornado>=4.0\n",
            "  Downloading tornado-6.1-cp37-cp37m-manylinux2010_x86_64.whl (428 kB)\n",
            "\u001b[K     |████████████████████████████████| 428 kB 72.4 MB/s \n",
            "\u001b[?25hCollecting sniffio>=1.1\n",
            "  Downloading sniffio-1.2.0-py3-none-any.whl (10 kB)\n",
            "Requirement already satisfied: typing-extensions in /usr/local/lib/python3.7/dist-packages (from anyio<4,>=3.1.0->jupyter-server<2.0.0,>=0.3.0->voila->geemap) (3.7.4.3)\n",
            "Requirement already satisfied: async-generator in /usr/local/lib/python3.7/dist-packages (from nbclient<0.6,>=0.4.0->voila->geemap) (1.10)\n",
            "Requirement already satisfied: nest-asyncio in /usr/local/lib/python3.7/dist-packages (from nbclient<0.6,>=0.4.0->voila->geemap) (1.5.1)\n",
            "Requirement already satisfied: jupyterlab-pygments in /usr/local/lib/python3.7/dist-packages (from nbconvert->notebook>=4.4.1->widgetsnbextension~=3.5.0->ipywidgets<8,>=7.6.0->ipyleaflet>=0.14.0->geemap) (0.1.2)\n",
            "Requirement already satisfied: cffi>=1.0.0 in /usr/local/lib/python3.7/dist-packages (from argon2-cffi->jupyter-server<2.0.0,>=0.3.0->voila->geemap) (1.14.6)\n",
            "Requirement already satisfied: pycparser in /usr/local/lib/python3.7/dist-packages (from cffi>=1.0.0->argon2-cffi->jupyter-server<2.0.0,>=0.3.0->voila->geemap) (2.20)\n",
            "Collecting whitebox\n",
            "  Downloading whitebox-1.5.1-py2.py3-none-any.whl (67 kB)\n",
            "\u001b[K     |████████████████████████████████| 67 kB 5.4 MB/s \n",
            "\u001b[?25hBuilding wheels for collected packages: pyshp, ipynb-py-convert, pycrs\n",
            "  Building wheel for pyshp (setup.py) ... \u001b[?25l\u001b[?25hdone\n",
            "  Created wheel for pyshp: filename=pyshp-2.1.3-py3-none-any.whl size=37324 sha256=6e0eb1913b41cc70911bc0117fd9094c091acffcfdb41fe60e6298add7bf37f8\n",
            "  Stored in directory: /root/.cache/pip/wheels/43/f8/87/53c8cd41545ba20e536ea29a8fcb5431b5f477ca50d5dffbbe\n",
            "  Building wheel for ipynb-py-convert (setup.py) ... \u001b[?25l\u001b[?25hdone\n",
            "  Created wheel for ipynb-py-convert: filename=ipynb_py_convert-0.4.6-py3-none-any.whl size=4640 sha256=22e3681994e4316c0557e23cbf4458ef49d0f49c497e5968abc6885924d97342\n",
            "  Stored in directory: /root/.cache/pip/wheels/af/31/a9/761b134adbbca3c92d491eff3bad785c0a0c0079695d6f0504\n",
            "  Building wheel for pycrs (setup.py) ... \u001b[?25l\u001b[?25hdone\n",
            "  Created wheel for pycrs: filename=PyCRS-1.0.2-py3-none-any.whl size=32702 sha256=495088588e36694dcef984afdbf1f773e0d50099e49ca4c434dce538948ff629\n",
            "  Stored in directory: /root/.cache/pip/wheels/3e/ce/32/1ec0aba6b9770681a423e82f0274c57d09ad2c20c2864901f9\n",
            "Successfully built pyshp ipynb-py-convert pycrs\n",
            "Installing collected packages: tornado, jupyter-client, nbconvert, sniffio, websocket-client, soupsieve, requests-unixsocket, anyio, whitebox, traittypes, ratelim, logzero, jupyter-server, ipytree, ipyfilechooser, beautifulsoup4, whiteboxgui, voila, sankee, python-box, pyshp, pycrs, mss, ipynb-py-convert, ipyleaflet, ipyevents, geojson, geocoder, geeadd, folium, ffmpeg-python, colour, bqplot, geemap\n",
            "  Attempting uninstall: tornado\n",
            "    Found existing installation: tornado 5.1.1\n",
            "    Uninstalling tornado-5.1.1:\n",
            "      Successfully uninstalled tornado-5.1.1\n",
            "  Attempting uninstall: jupyter-client\n",
            "    Found existing installation: jupyter-client 5.3.5\n",
            "    Uninstalling jupyter-client-5.3.5:\n",
            "      Successfully uninstalled jupyter-client-5.3.5\n",
            "  Attempting uninstall: nbconvert\n",
            "    Found existing installation: nbconvert 5.6.1\n",
            "    Uninstalling nbconvert-5.6.1:\n",
            "      Successfully uninstalled nbconvert-5.6.1\n",
            "  Attempting uninstall: beautifulsoup4\n",
            "    Found existing installation: beautifulsoup4 4.6.3\n",
            "    Uninstalling beautifulsoup4-4.6.3:\n",
            "      Successfully uninstalled beautifulsoup4-4.6.3\n",
            "  Attempting uninstall: folium\n",
            "    Found existing installation: folium 0.8.3\n",
            "    Uninstalling folium-0.8.3:\n",
            "      Successfully uninstalled folium-0.8.3\n",
            "\u001b[31mERROR: pip's dependency resolver does not currently take into account all the packages that are installed. This behaviour is the source of the following dependency conflicts.\n",
            "google-colab 1.0.0 requires tornado~=5.1.0; python_version >= \"3.0\", but you have tornado 6.1 which is incompatible.\n",
            "datascience 0.10.6 requires folium==0.2.1, but you have folium 0.12.1 which is incompatible.\u001b[0m\n",
            "Successfully installed anyio-3.3.0 beautifulsoup4-4.9.3 bqplot-0.12.30 colour-0.1.5 ffmpeg-python-0.2.0 folium-0.12.1 geeadd-0.5.5 geemap-0.8.18 geocoder-1.38.1 geojson-2.5.0 ipyevents-2.0.1 ipyfilechooser-0.4.4 ipyleaflet-0.14.0 ipynb-py-convert-0.4.6 ipytree-0.2.1 jupyter-client-6.1.12 jupyter-server-1.10.2 logzero-1.7.0 mss-6.1.0 nbconvert-6.1.0 pycrs-1.0.2 pyshp-2.1.3 python-box-5.3.0 ratelim-0.1.6 requests-unixsocket-0.2.0 sankee-0.0.5 sniffio-1.2.0 soupsieve-2.2.1 tornado-6.1 traittypes-0.2.1 voila-0.2.10 websocket-client-1.2.0 whitebox-1.5.1 whiteboxgui-0.3.0\n"
          ],
          "name": "stdout"
        },
        {
          "output_type": "display_data",
          "data": {
            "application/vnd.colab-display-data+json": {
              "pip_warning": {
                "packages": [
                  "jupyter_client",
                  "tornado"
                ]
              }
            }
          },
          "metadata": {
            "tags": []
          }
        }
      ]
    },
    {
      "cell_type": "code",
      "metadata": {
        "id": "TryztA6XXU5V"
      },
      "source": [
        "import geemap"
      ],
      "execution_count": null,
      "outputs": []
    },
    {
      "cell_type": "code",
      "metadata": {
        "id": "t_5cRQbaWdKA",
        "colab": {
          "base_uri": "https://localhost:8080/"
        },
        "outputId": "f5ca38da-9be4-4eab-d7c7-c3b4a95913a5"
      },
      "source": [
        "## Downloading images of the region :\n",
        "\n",
        "lat1 =  -5.323319733758855\n",
        "long1 = 41.40575983571157\n",
        "lat2 =  -5.3226424171725295\n",
        "long2 = 41.39042513007489 \n",
        "lat3 = -5.34185 \n",
        "long3 = 41.39001 \n",
        "lat4 =  -5.342346172411098\n",
        "long4 = 41.404466686988584\n",
        "\n",
        "\n",
        "aoi = ee.Geometry.Polygon([[[lat1, long1], [lat2, long2], [lat3, long3], [lat4, long4]]])\n",
        "\n",
        "CLOUD_FILTER = 60\n",
        "\n",
        "time_range=['2017-03-29', '2020-12-31']\n",
        "\n",
        "sentinel_filtered = (ee.ImageCollection('COPERNICUS/S2_SR').\n",
        "                         filterBounds(aoi).\n",
        "                         select(['B1','B2','B3','B4','B5','B6','B7','B8','B8A','B9','B11','B12']).\n",
        "                         filterDate(time_range[0], time_range[1]).\n",
        "                         filter(ee.Filter.lte('CLOUDY_PIXEL_PERCENTAGE', CLOUD_FILTER))\n",
        "                         )\n",
        "\n",
        "\n",
        "geemap.ee_export_image_collection_to_drive(sentinel_filtered, folder='Senti_Images-2017to2020_Area3', scale=10, region=aoi)\n"
      ],
      "execution_count": null,
      "outputs": [
        {
          "output_type": "stream",
          "text": [
            "Total number of images: 642\n",
            "\n",
            "Exporting 20170412T110621_20170412T111708_T30TUL ...\n",
            "Exporting 20170422T110651_20170422T111300_T29TQG ...\n",
            "Exporting 20170502T110621_20170502T110937_T29TQF ...\n",
            "Exporting 20170502T110621_20170502T110937_T29TQG ...\n",
            "Exporting 20170502T110621_20170502T110937_T30TTL ...\n",
            "Exporting 20170502T110621_20170502T110937_T30TUL ...\n",
            "Exporting 20170512T110651_20170512T111302_T29TQG ...\n",
            "Exporting 20170512T110651_20170512T111302_T30TTL ...\n",
            "Exporting 20170522T110621_20170522T110912_T29TQF ...\n",
            "Exporting 20170522T110621_20170522T110912_T29TQG ...\n",
            "Exporting 20170522T110621_20170522T110912_T30TTL ...\n",
            "Exporting 20170522T110621_20170522T110912_T30TUL ...\n",
            "Exporting 20170601T110651_20170601T111225_T29TQF ...\n",
            "Exporting 20170601T110651_20170601T111225_T29TQG ...\n",
            "Exporting 20170601T110651_20170601T111225_T30TTL ...\n",
            "Exporting 20170601T110651_20170601T111225_T30TUL ...\n",
            "Exporting 20170611T110621_20170611T111012_T29TQF ...\n",
            "Exporting 20170611T110621_20170611T111012_T29TQG ...\n",
            "Exporting 20170611T110621_20170611T111012_T30TTL ...\n",
            "Exporting 20170611T110621_20170611T111012_T30TUL ...\n",
            "Exporting 20170621T110651_20170621T111222_T29TQF ...\n",
            "Exporting 20170621T110651_20170621T111222_T29TQG ...\n",
            "Exporting 20170621T110651_20170621T111222_T30TTL ...\n",
            "Exporting 20170621T110651_20170621T111222_T30TUL ...\n",
            "Exporting 20170701T111051_20170701T111746_T29TQF ...\n",
            "Exporting 20170701T111051_20170701T111746_T30TTL ...\n",
            "Exporting 20170701T111051_20170701T111746_T30TUL ...\n",
            "Exporting 20170711T110651_20170711T111223_T29TQF ...\n",
            "Exporting 20170711T110651_20170711T111223_T29TQG ...\n",
            "Exporting 20170711T110651_20170711T111223_T30TTL ...\n",
            "Exporting 20170711T110651_20170711T111223_T30TUL ...\n",
            "Exporting 20170721T110621_20170721T110758_T29TQF ...\n",
            "Exporting 20170721T110621_20170721T110758_T29TQG ...\n",
            "Exporting 20170721T110621_20170721T110758_T30TTL ...\n",
            "Exporting 20170721T110621_20170721T110758_T30TUL ...\n",
            "Exporting 20170731T110651_20170731T111220_T29TQF ...\n",
            "Exporting 20170731T110651_20170731T111220_T30TTL ...\n",
            "Exporting 20170731T110651_20170731T111220_T30TUL ...\n",
            "Exporting 20170820T110651_20170820T111220_T29TQF ...\n",
            "Exporting 20170820T110651_20170820T111220_T29TQG ...\n",
            "Exporting 20170820T110651_20170820T111220_T30TTL ...\n",
            "Exporting 20170820T110651_20170820T111220_T30TUL ...\n",
            "Exporting 20170830T110621_20170830T110910_T29TQF ...\n",
            "Exporting 20170830T110621_20170830T110910_T30TTL ...\n",
            "Exporting 20170830T110621_20170830T110910_T30TUL ...\n",
            "Exporting 20170909T110651_20170909T111217_T29TQF ...\n",
            "Exporting 20170909T110651_20170909T111217_T29TQG ...\n",
            "Exporting 20170909T110651_20170909T111217_T30TTL ...\n",
            "Exporting 20170909T110651_20170909T111217_T30TUL ...\n",
            "Exporting 20170919T110721_20170919T111808_T29TQF ...\n",
            "Exporting 20170919T110721_20170919T111808_T29TQG ...\n",
            "Exporting 20170919T110721_20170919T111808_T30TTL ...\n",
            "Exporting 20170919T110721_20170919T111808_T30TUL ...\n",
            "Exporting 20170929T110841_20170929T111602_T29TQF ...\n",
            "Exporting 20170929T110841_20170929T111602_T29TQG ...\n",
            "Exporting 20170929T110841_20170929T111602_T30TTL ...\n",
            "Exporting 20170929T110841_20170929T111602_T30TUL ...\n",
            "Exporting 20171009T110951_20171009T111500_T29TQF ...\n",
            "Exporting 20171009T110951_20171009T111500_T29TQG ...\n",
            "Exporting 20171009T110951_20171009T111500_T30TTL ...\n",
            "Exporting 20171009T110951_20171009T111500_T30TUL ...\n",
            "Exporting 20171019T111051_20171019T111235_T30TUL ...\n",
            "Exporting 20171029T111201_20171029T111156_T29TQF ...\n",
            "Exporting 20171029T111201_20171029T111156_T29TQG ...\n",
            "Exporting 20171029T111201_20171029T111156_T30TTL ...\n",
            "Exporting 20171029T111201_20171029T111156_T30TUL ...\n",
            "Exporting 20171108T111251_20171108T111250_T29TQF ...\n",
            "Exporting 20171108T111251_20171108T111250_T29TQG ...\n",
            "Exporting 20171108T111251_20171108T111250_T30TTL ...\n",
            "Exporting 20171108T111251_20171108T111250_T30TUL ...\n",
            "Exporting 20171118T111341_20171118T111633_T29TQF ...\n",
            "Exporting 20171118T111341_20171118T111633_T30TTL ...\n",
            "Exporting 20171118T111341_20171118T111633_T30TUL ...\n",
            "Exporting 20171128T111411_20171128T111835_T29TQG ...\n",
            "Exporting 20171128T111411_20171128T111835_T30TUL ...\n",
            "Exporting 20171218T111451_20171218T111449_T29TQF ...\n",
            "Exporting 20171218T111451_20171218T111449_T29TQG ...\n",
            "Exporting 20171218T111451_20171218T111449_T30TTL ...\n",
            "Exporting 20171218T111451_20171218T111449_T30TUL ...\n",
            "Exporting 20171223T111449_20171223T111445_T29TQG ...\n",
            "Exporting 20171223T111449_20171223T111445_T30TUL ...\n",
            "Exporting 20171228T111451_20171228T111919_T29TQG ...\n",
            "Exporting 20180117T111401_20180117T111403_T29TQF ...\n",
            "Exporting 20180117T111401_20180117T111403_T29TQG ...\n",
            "Exporting 20180117T111401_20180117T111403_T30TTL ...\n",
            "Exporting 20180117T111401_20180117T111403_T30TUL ...\n",
            "Exporting 20180122T111339_20180122T111342_T29TQF ...\n",
            "Exporting 20180122T111339_20180122T111342_T30TTL ...\n",
            "Exporting 20180127T111321_20180127T111322_T29TQF ...\n",
            "Exporting 20180127T111321_20180127T111322_T29TQG ...\n",
            "Exporting 20180127T111321_20180127T111322_T30TTL ...\n",
            "Exporting 20180127T111321_20180127T111322_T30TUL ...\n",
            "Exporting 20180206T111231_20180206T111736_T29TQG ...\n",
            "Exporting 20180206T111231_20180206T111736_T30TTL ...\n",
            "Exporting 20180206T111231_20180206T111736_T30TUL ...\n",
            "Exporting 20180216T111131_20180216T111128_T29TQF ...\n",
            "Exporting 20180216T111131_20180216T111128_T30TTL ...\n",
            "Exporting 20180216T111131_20180216T111128_T30TUL ...\n",
            "Exporting 20180221T111049_20180221T111202_T29TQG ...\n",
            "Exporting 20180221T111049_20180221T111202_T30TUL ...\n",
            "Exporting 20180226T111011_20180226T111426_T29TQG ...\n",
            "Exporting 20180226T111011_20180226T111426_T30TUL ...\n",
            "Exporting 20180303T110939_20180303T111405_T30TUL ...\n",
            "Exporting 20180308T110911_20180308T111555_T30TUL ...\n",
            "Exporting 20180318T110801_20180318T111938_T29TQF ...\n",
            "Exporting 20180318T110801_20180318T111938_T29TQG ...\n",
            "Exporting 20180318T110801_20180318T111938_T30TTL ...\n",
            "Exporting 20180318T110801_20180318T111938_T30TUL ...\n",
            "Exporting 20180417T110651_20180417T110822_T29TQF ...\n",
            "Exporting 20180417T110651_20180417T110822_T29TQG ...\n",
            "Exporting 20180417T110651_20180417T110822_T30TTL ...\n",
            "Exporting 20180417T110651_20180417T110822_T30TUL ...\n",
            "Exporting 20180427T110621_20180427T111527_T29TQF ...\n",
            "Exporting 20180427T110621_20180427T111527_T29TQG ...\n",
            "Exporting 20180427T110621_20180427T111527_T30TTL ...\n",
            "Exporting 20180427T110621_20180427T111527_T30TUL ...\n",
            "Exporting 20180507T110621_20180507T110835_T29TQF ...\n",
            "Exporting 20180507T110621_20180507T110835_T29TQG ...\n",
            "Exporting 20180507T110621_20180507T110835_T30TTL ...\n",
            "Exporting 20180507T110621_20180507T110835_T30TUL ...\n",
            "Exporting 20180512T110619_20180512T111530_T29TQF ...\n",
            "Exporting 20180512T110619_20180512T111530_T29TQG ...\n",
            "Exporting 20180512T110619_20180512T111530_T30TTL ...\n",
            "Exporting 20180512T110619_20180512T111530_T30TUL ...\n",
            "Exporting 20180517T110621_20180517T111020_T29TQF ...\n",
            "Exporting 20180517T110621_20180517T111020_T29TQG ...\n",
            "Exporting 20180517T110621_20180517T111020_T30TTL ...\n",
            "Exporting 20180517T110621_20180517T111020_T30TUL ...\n",
            "Exporting 20180522T111049_20180522T111119_T29TQF ...\n",
            "Exporting 20180522T111049_20180522T111119_T29TQG ...\n",
            "Exporting 20180522T111049_20180522T111119_T30TTL ...\n",
            "Exporting 20180522T111049_20180522T111119_T30TUL ...\n",
            "Exporting 20180527T110651_20180527T111141_T29TQF ...\n",
            "Exporting 20180527T110651_20180527T111141_T29TQG ...\n",
            "Exporting 20180527T110651_20180527T111141_T30TTL ...\n",
            "Exporting 20180527T110651_20180527T111141_T30TUL ...\n",
            "Exporting 20180606T111051_20180606T111256_T29TQF ...\n",
            "Exporting 20180606T111051_20180606T111256_T30TTL ...\n",
            "Exporting 20180616T110621_20180616T111245_T29TQF ...\n",
            "Exporting 20180616T110621_20180616T111245_T29TQG ...\n",
            "Exporting 20180616T110621_20180616T111245_T30TTL ...\n",
            "Exporting 20180616T110621_20180616T111245_T30TUL ...\n",
            "Exporting 20180621T110619_20180621T111349_T29TQF ...\n",
            "Exporting 20180621T110619_20180621T111349_T29TQG ...\n",
            "Exporting 20180621T110619_20180621T111349_T30TTL ...\n",
            "Exporting 20180621T110619_20180621T111349_T30TUL ...\n",
            "Exporting 20180626T110621_20180626T111803_T29TQF ...\n",
            "Exporting 20180626T110621_20180626T111803_T29TQG ...\n",
            "Exporting 20180626T110621_20180626T111803_T30TTL ...\n",
            "Exporting 20180626T110621_20180626T111803_T30TUL ...\n",
            "Exporting 20180701T110619_20180701T111103_T29TQF ...\n",
            "Exporting 20180701T110619_20180701T111103_T29TQG ...\n",
            "Exporting 20180701T110619_20180701T111103_T30TTL ...\n",
            "Exporting 20180701T110619_20180701T111103_T30TUL ...\n",
            "Exporting 20180706T110621_20180706T110918_T29TQF ...\n",
            "Exporting 20180706T110621_20180706T110918_T29TQG ...\n",
            "Exporting 20180706T110621_20180706T110918_T30TTL ...\n",
            "Exporting 20180706T110621_20180706T110918_T30TUL ...\n",
            "Exporting 20180711T110619_20180711T111139_T29TQF ...\n",
            "Exporting 20180711T110619_20180711T111139_T30TTL ...\n",
            "Exporting 20180711T110619_20180711T111139_T30TUL ...\n",
            "Exporting 20180716T110621_20180716T111023_T29TQF ...\n",
            "Exporting 20180716T110621_20180716T111023_T29TQG ...\n",
            "Exporting 20180716T110621_20180716T111023_T30TTL ...\n",
            "Exporting 20180716T110621_20180716T111023_T30TUL ...\n",
            "Exporting 20180726T110621_20180726T111615_T29TQF ...\n",
            "Exporting 20180726T110621_20180726T111615_T29TQG ...\n",
            "Exporting 20180726T110621_20180726T111615_T30TTL ...\n",
            "Exporting 20180726T110621_20180726T111615_T30TUL ...\n",
            "Exporting 20180731T110619_20180731T111437_T29TQF ...\n",
            "Exporting 20180731T110619_20180731T111437_T29TQG ...\n",
            "Exporting 20180731T110619_20180731T111437_T30TTL ...\n",
            "Exporting 20180731T110619_20180731T111437_T30TUL ...\n",
            "Exporting 20180810T110649_20180810T111743_T29TQF ...\n",
            "Exporting 20180810T110649_20180810T111743_T29TQG ...\n",
            "Exporting 20180810T110649_20180810T111743_T30TTL ...\n",
            "Exporting 20180810T110649_20180810T111743_T30TUL ...\n",
            "Exporting 20180815T110651_20180815T111826_T29TQF ...\n",
            "Exporting 20180815T110651_20180815T111826_T29TQG ...\n",
            "Exporting 20180815T110651_20180815T111826_T30TTL ...\n",
            "Exporting 20180815T110651_20180815T111826_T30TUL ...\n",
            "Exporting 20180820T110609_20180820T111459_T29TQF ...\n",
            "Exporting 20180820T110609_20180820T111459_T29TQG ...\n",
            "Exporting 20180820T110609_20180820T111459_T30TTL ...\n",
            "Exporting 20180820T110609_20180820T111459_T30TUL ...\n",
            "Exporting 20180825T110621_20180825T111624_T29TQF ...\n",
            "Exporting 20180825T110621_20180825T111624_T29TQG ...\n",
            "Exporting 20180825T110621_20180825T111624_T30TTL ...\n",
            "Exporting 20180825T110621_20180825T111624_T30TUL ...\n",
            "Exporting 20180830T110609_20180830T111449_T29TQF ...\n",
            "Exporting 20180830T110609_20180830T111449_T29TQG ...\n",
            "Exporting 20180830T110609_20180830T111449_T30TTL ...\n",
            "Exporting 20180830T110609_20180830T111449_T30TUL ...\n",
            "Exporting 20180904T110621_20180904T110820_T29TQF ...\n",
            "Exporting 20180904T110621_20180904T110820_T29TQG ...\n",
            "Exporting 20180904T110621_20180904T110820_T30TTL ...\n",
            "Exporting 20180904T110621_20180904T110820_T30TUL ...\n",
            "Exporting 20180909T110609_20180909T111319_T29TQF ...\n",
            "Exporting 20180909T110609_20180909T111319_T29TQG ...\n",
            "Exporting 20180909T110609_20180909T111319_T30TTL ...\n",
            "Exporting 20180909T110609_20180909T111319_T30TUL ...\n",
            "Exporting 20180914T110651_20180914T111041_T29TQF ...\n",
            "Exporting 20180914T110651_20180914T111041_T29TQG ...\n",
            "Exporting 20180914T110651_20180914T111041_T30TTL ...\n",
            "Exporting 20180914T110651_20180914T111041_T30TUL ...\n",
            "Exporting 20180919T110719_20180919T111256_T29TQF ...\n",
            "Exporting 20180919T110719_20180919T111256_T29TQG ...\n",
            "Exporting 20180919T110719_20180919T111256_T30TTL ...\n",
            "Exporting 20180919T110719_20180919T111256_T30TUL ...\n",
            "Exporting 20180924T110801_20180924T111416_T29TQF ...\n",
            "Exporting 20180924T110801_20180924T111416_T29TQG ...\n",
            "Exporting 20180924T110801_20180924T111416_T30TTL ...\n",
            "Exporting 20180924T110801_20180924T111416_T30TUL ...\n",
            "Exporting 20180929T110829_20180929T111054_T29TQF ...\n",
            "Exporting 20180929T110829_20180929T111054_T29TQG ...\n",
            "Exporting 20180929T110829_20180929T111054_T30TTL ...\n",
            "Exporting 20180929T110829_20180929T111054_T30TUL ...\n",
            "Exporting 20181004T110911_20181004T111920_T29TQF ...\n",
            "Exporting 20181004T110911_20181004T111920_T29TQG ...\n",
            "Exporting 20181004T110911_20181004T111920_T30TTL ...\n",
            "Exporting 20181004T110911_20181004T111920_T30TUL ...\n",
            "Exporting 20181009T110939_20181009T111854_T29TQF ...\n",
            "Exporting 20181009T110939_20181009T111854_T29TQG ...\n",
            "Exporting 20181009T110939_20181009T111854_T30TTL ...\n",
            "Exporting 20181009T110939_20181009T111854_T30TUL ...\n",
            "Exporting 20181024T111121_20181024T111839_T29TQF ...\n",
            "Exporting 20181024T111121_20181024T111839_T29TQG ...\n",
            "Exporting 20181024T111121_20181024T111839_T30TTL ...\n",
            "Exporting 20181024T111121_20181024T111839_T30TUL ...\n",
            "Exporting 20181029T111149_20181029T111709_T29TQF ...\n",
            "Exporting 20181029T111149_20181029T111709_T29TQG ...\n",
            "Exporting 20181029T111149_20181029T111709_T30TTL ...\n",
            "Exporting 20181029T111149_20181029T111709_T30TUL ...\n",
            "Exporting 20181103T111221_20181103T111436_T29TQF ...\n",
            "Exporting 20181103T111221_20181103T111436_T29TQG ...\n",
            "Exporting 20181103T111221_20181103T111436_T30TTL ...\n",
            "Exporting 20181103T111221_20181103T111436_T30TUL ...\n",
            "Exporting 20181123T111351_20181123T111435_T29TQF ...\n",
            "Exporting 20181123T111351_20181123T111435_T29TQG ...\n",
            "Exporting 20181123T111351_20181123T111435_T30TTL ...\n",
            "Exporting 20181123T111351_20181123T111435_T30TUL ...\n",
            "Exporting 20181203T111421_20181203T111421_T29TQF ...\n",
            "Exporting 20181203T111421_20181203T111421_T30TTL ...\n",
            "Exporting 20181203T111421_20181203T111421_T30TUL ...\n",
            "Exporting 20181208T111439_20181208T111437_T30TUL ...\n",
            "Exporting 20181213T111441_20181213T111442_T29TQF ...\n",
            "Exporting 20181213T111441_20181213T111442_T29TQG ...\n",
            "Exporting 20181213T111441_20181213T111442_T30TTL ...\n",
            "Exporting 20181228T111449_20181228T111820_T29TQG ...\n",
            "Exporting 20190102T111441_20190102T111444_T29TQF ...\n",
            "Exporting 20190102T111441_20190102T111444_T29TQG ...\n",
            "Exporting 20190102T111441_20190102T111444_T30TTL ...\n",
            "Exporting 20190102T111441_20190102T111444_T30TUL ...\n",
            "Exporting 20190107T111439_20190107T111438_T29TQF ...\n",
            "Exporting 20190107T111439_20190107T111438_T29TQG ...\n",
            "Exporting 20190107T111439_20190107T111438_T30TTL ...\n",
            "Exporting 20190107T111439_20190107T111438_T30TUL ...\n",
            "Exporting 20190112T111421_20190112T111436_T29TQF ...\n",
            "Exporting 20190112T111421_20190112T111436_T29TQG ...\n",
            "Exporting 20190112T111421_20190112T111436_T30TTL ...\n",
            "Exporting 20190112T111421_20190112T111436_T30TUL ...\n",
            "Exporting 20190117T111409_20190117T111410_T29TQG ...\n",
            "Exporting 20190127T111329_20190127T111328_T29TQF ...\n",
            "Exporting 20190127T111329_20190127T111328_T29TQG ...\n",
            "Exporting 20190127T111329_20190127T111328_T30TTL ...\n",
            "Exporting 20190127T111329_20190127T111328_T30TUL ...\n",
            "Exporting 20190201T111301_20190201T111300_T29TQG ...\n",
            "Exporting 20190201T111301_20190201T111300_T30TUL ...\n",
            "Exporting 20190206T111239_20190206T111757_T29TQF ...\n",
            "Exporting 20190206T111239_20190206T111757_T29TQG ...\n",
            "Exporting 20190206T111239_20190206T111757_T30TTL ...\n",
            "Exporting 20190206T111239_20190206T111757_T30TUL ...\n",
            "Exporting 20190211T111201_20190211T111437_T29TQF ...\n",
            "Exporting 20190211T111201_20190211T111437_T29TQG ...\n",
            "Exporting 20190211T111201_20190211T111437_T30TTL ...\n",
            "Exporting 20190211T111201_20190211T111437_T30TUL ...\n",
            "Exporting 20190216T111129_20190216T111505_T29TQF ...\n",
            "Exporting 20190216T111129_20190216T111505_T29TQG ...\n",
            "Exporting 20190216T111129_20190216T111505_T30TTL ...\n",
            "Exporting 20190216T111129_20190216T111505_T30TUL ...\n",
            "Exporting 20190221T111101_20190221T111436_T29TQF ...\n",
            "Exporting 20190221T111101_20190221T111436_T29TQG ...\n",
            "Exporting 20190221T111101_20190221T111436_T30TTL ...\n",
            "Exporting 20190221T111101_20190221T111436_T30TUL ...\n",
            "Exporting 20190226T111049_20190226T111048_T29TQF ...\n",
            "Exporting 20190226T111049_20190226T111048_T29TQG ...\n",
            "Exporting 20190226T111049_20190226T111048_T30TTL ...\n",
            "Exporting 20190226T111049_20190226T111048_T30TUL ...\n",
            "Exporting 20190303T110951_20190303T111817_T30TUL ...\n",
            "Exporting 20190308T110909_20190308T111627_T29TQF ...\n",
            "Exporting 20190308T110909_20190308T111627_T30TTL ...\n",
            "Exporting 20190308T110909_20190308T111627_T30TUL ...\n",
            "Exporting 20190313T110831_20190313T111836_T29TQF ...\n",
            "Exporting 20190313T110831_20190313T111836_T29TQG ...\n",
            "Exporting 20190313T110831_20190313T111836_T30TTL ...\n",
            "Exporting 20190313T110831_20190313T111836_T30TUL ...\n",
            "Exporting 20190318T110759_20190318T110800_T29TQF ...\n",
            "Exporting 20190318T110759_20190318T110800_T29TQG ...\n",
            "Exporting 20190318T110759_20190318T110800_T30TTL ...\n",
            "Exporting 20190318T110759_20190318T110800_T30TUL ...\n",
            "Exporting 20190323T110721_20190323T110800_T29TQF ...\n",
            "Exporting 20190323T110721_20190323T110800_T29TQG ...\n",
            "Exporting 20190323T110721_20190323T110800_T30TTL ...\n",
            "Exporting 20190323T110721_20190323T110800_T30TUL ...\n",
            "Exporting 20190328T111049_20190328T111608_T29TQF ...\n",
            "Exporting 20190328T111049_20190328T111608_T29TQG ...\n",
            "Exporting 20190328T111049_20190328T111608_T30TTL ...\n",
            "Exporting 20190328T111049_20190328T111608_T30TUL ...\n",
            "Exporting 20190402T110621_20190402T110826_T29TQF ...\n",
            "Exporting 20190402T110621_20190402T110826_T29TQG ...\n",
            "Exporting 20190402T110621_20190402T110826_T30TTL ...\n",
            "Exporting 20190402T110621_20190402T110826_T30TUL ...\n",
            "Exporting 20190412T110621_20190412T111313_T29TQF ...\n",
            "Exporting 20190412T110621_20190412T111313_T29TQG ...\n",
            "Exporting 20190412T110621_20190412T111313_T30TTL ...\n",
            "Exporting 20190412T110621_20190412T111313_T30TUL ...\n",
            "Exporting 20190422T110621_20190422T111343_T29TQF ...\n",
            "Exporting 20190422T110621_20190422T111343_T29TQG ...\n",
            "Exporting 20190422T110621_20190422T111343_T30TTL ...\n",
            "Exporting 20190422T110621_20190422T111343_T30TUL ...\n",
            "Exporting 20190427T110629_20190427T111242_T29TQF ...\n",
            "Exporting 20190427T110629_20190427T111242_T29TQG ...\n",
            "Exporting 20190427T110629_20190427T111242_T30TTL ...\n",
            "Exporting 20190427T110629_20190427T111242_T30TUL ...\n",
            "Exporting 20190502T110621_20190502T111339_T29TQF ...\n",
            "Exporting 20190502T110621_20190502T111339_T29TQG ...\n",
            "Exporting 20190502T110621_20190502T111339_T30TTL ...\n",
            "Exporting 20190502T110621_20190502T111339_T30TUL ...\n",
            "Exporting 20190512T110621_20190512T111315_T29TQF ...\n",
            "Exporting 20190512T110621_20190512T111315_T29TQG ...\n",
            "Exporting 20190512T110621_20190512T111315_T30TTL ...\n",
            "Exporting 20190512T110621_20190512T111315_T30TUL ...\n",
            "Exporting 20190517T110629_20190517T111526_T29TQG ...\n",
            "Exporting 20190522T110621_20190522T111926_T29TQF ...\n",
            "Exporting 20190522T110621_20190522T111926_T29TQG ...\n",
            "Exporting 20190522T110621_20190522T111926_T30TTL ...\n",
            "Exporting 20190522T110621_20190522T111926_T30TUL ...\n",
            "Exporting 20190527T110629_20190527T111243_T29TQF ...\n",
            "Exporting 20190527T110629_20190527T111243_T29TQG ...\n",
            "Exporting 20190527T110629_20190527T111243_T30TTL ...\n",
            "Exporting 20190527T110629_20190527T111243_T30TUL ...\n",
            "Exporting 20190601T110621_20190601T111704_T29TQF ...\n",
            "Exporting 20190601T110621_20190601T111704_T29TQG ...\n",
            "Exporting 20190601T110621_20190601T111704_T30TTL ...\n",
            "Exporting 20190601T110621_20190601T111704_T30TUL ...\n",
            "Exporting 20190606T110629_20190606T111434_T29TQF ...\n",
            "Exporting 20190606T110629_20190606T111434_T30TTL ...\n",
            "Exporting 20190606T110629_20190606T111434_T30TUL ...\n",
            "Exporting 20190611T110621_20190611T110955_T29TQF ...\n",
            "Exporting 20190611T110621_20190611T110955_T29TQG ...\n",
            "Exporting 20190611T110621_20190611T110955_T30TTL ...\n",
            "Exporting 20190611T110621_20190611T110955_T30TUL ...\n",
            "Exporting 20190616T110629_20190616T111311_T29TQG ...\n",
            "Exporting 20190621T110621_20190621T111340_T29TQF ...\n",
            "Exporting 20190621T110621_20190621T111340_T29TQG ...\n",
            "Exporting 20190621T110621_20190621T111340_T30TTL ...\n",
            "Exporting 20190621T110621_20190621T111340_T30TUL ...\n",
            "Exporting 20190626T110629_20190626T111243_T29TQF ...\n",
            "Exporting 20190626T110629_20190626T111243_T29TQG ...\n",
            "Exporting 20190626T110629_20190626T111243_T30TTL ...\n",
            "Exporting 20190626T110629_20190626T111243_T30TUL ...\n",
            "Exporting 20190701T110621_20190701T111753_T29TQF ...\n",
            "Exporting 20190701T110621_20190701T111753_T29TQG ...\n",
            "Exporting 20190701T110621_20190701T111753_T30TTL ...\n",
            "Exporting 20190701T110621_20190701T111753_T30TUL ...\n",
            "Exporting 20190706T110629_20190706T111442_T29TQF ...\n",
            "Exporting 20190706T110629_20190706T111442_T29TQG ...\n",
            "Exporting 20190706T110629_20190706T111442_T30TTL ...\n",
            "Exporting 20190706T110629_20190706T111442_T30TUL ...\n",
            "Exporting 20190711T110631_20190711T111845_T29TQF ...\n",
            "Exporting 20190711T110631_20190711T111845_T29TQG ...\n",
            "Exporting 20190711T110631_20190711T111845_T30TTL ...\n",
            "Exporting 20190711T110631_20190711T111845_T30TUL ...\n",
            "Exporting 20190716T110629_20190716T111721_T29TQF ...\n",
            "Exporting 20190716T110629_20190716T111721_T29TQG ...\n",
            "Exporting 20190716T110629_20190716T111721_T30TTL ...\n",
            "Exporting 20190716T110629_20190716T111721_T30TUL ...\n",
            "Exporting 20190721T110631_20190721T111758_T29TQF ...\n",
            "Exporting 20190721T110631_20190721T111758_T29TQG ...\n",
            "Exporting 20190721T110631_20190721T111758_T30TTL ...\n",
            "Exporting 20190721T110631_20190721T111758_T30TUL ...\n",
            "Exporting 20190726T110629_20190726T111240_T29TQF ...\n",
            "Exporting 20190726T110629_20190726T111240_T29TQG ...\n",
            "Exporting 20190726T110629_20190726T111240_T30TTL ...\n",
            "Exporting 20190726T110629_20190726T111240_T30TUL ...\n",
            "Exporting 20190731T110621_20190731T111742_T30TUL ...\n",
            "Exporting 20190805T110629_20190805T111336_T29TQF ...\n",
            "Exporting 20190805T110629_20190805T111336_T29TQG ...\n",
            "Exporting 20190805T110629_20190805T111336_T30TTL ...\n",
            "Exporting 20190805T110629_20190805T111336_T30TUL ...\n",
            "Exporting 20190810T110621_20190810T110957_T29TQF ...\n",
            "Exporting 20190810T110621_20190810T110957_T29TQG ...\n",
            "Exporting 20190810T110621_20190810T110957_T30TTL ...\n",
            "Exporting 20190810T110621_20190810T110957_T30TUL ...\n",
            "Exporting 20190815T110629_20190815T111321_T29TQF ...\n",
            "Exporting 20190815T110629_20190815T111321_T29TQG ...\n",
            "Exporting 20190815T110629_20190815T111321_T30TTL ...\n",
            "Exporting 20190815T110629_20190815T111321_T30TUL ...\n",
            "Exporting 20190820T110621_20190820T111346_T29TQF ...\n",
            "Exporting 20190820T110621_20190820T111346_T29TQG ...\n",
            "Exporting 20190820T110621_20190820T111346_T30TTL ...\n",
            "Exporting 20190820T110621_20190820T111346_T30TUL ...\n",
            "Exporting 20190825T110629_20190825T111008_T30TUL ...\n",
            "Exporting 20190830T110621_20190830T111700_T29TQF ...\n",
            "Exporting 20190830T110621_20190830T111700_T29TQG ...\n",
            "Exporting 20190830T110621_20190830T111700_T30TTL ...\n",
            "Exporting 20190830T110621_20190830T111700_T30TUL ...\n",
            "Exporting 20190904T110619_20190904T110850_T29TQF ...\n",
            "Exporting 20190904T110619_20190904T110850_T29TQG ...\n",
            "Exporting 20190904T110619_20190904T110850_T30TTL ...\n",
            "Exporting 20190904T110619_20190904T110850_T30TUL ...\n",
            "Exporting 20190909T110621_20190909T111838_T29TQF ...\n",
            "Exporting 20190909T110621_20190909T111838_T30TTL ...\n",
            "Exporting 20190909T110621_20190909T111838_T30TUL ...\n",
            "Exporting 20190914T110649_20190914T110919_T29TQF ...\n",
            "Exporting 20190914T110649_20190914T110919_T29TQG ...\n",
            "Exporting 20190914T110649_20190914T110919_T30TTL ...\n",
            "Exporting 20190919T110721_20190919T111421_T29TQF ...\n",
            "Exporting 20190919T110721_20190919T111421_T29TQG ...\n",
            "Exporting 20190919T110721_20190919T111421_T30TTL ...\n",
            "Exporting 20190919T110721_20190919T111421_T30TUL ...\n",
            "Exporting 20190924T110759_20190924T111931_T29TQG ...\n",
            "Exporting 20190929T110841_20190929T111415_T29TQF ...\n",
            "Exporting 20190929T110841_20190929T111415_T29TQG ...\n",
            "Exporting 20190929T110841_20190929T111415_T30TTL ...\n",
            "Exporting 20190929T110841_20190929T111415_T30TUL ...\n",
            "Exporting 20191004T110909_20191004T111852_T29TQF ...\n",
            "Exporting 20191004T110909_20191004T111852_T29TQG ...\n",
            "Exporting 20191004T110909_20191004T111852_T30TTL ...\n",
            "Exporting 20191004T110909_20191004T111852_T30TUL ...\n",
            "Exporting 20191009T110951_20191009T110953_T29TQF ...\n",
            "Exporting 20191009T110951_20191009T110953_T29TQG ...\n",
            "Exporting 20191009T110951_20191009T110953_T30TTL ...\n",
            "Exporting 20191009T110951_20191009T110953_T30TUL ...\n",
            "Exporting 20191014T111019_20191014T111715_T30TUL ...\n",
            "Exporting 20191019T111101_20191019T111446_T30TUL ...\n",
            "Exporting 20191024T111049_20191024T111604_T29TQF ...\n",
            "Exporting 20191024T111049_20191024T111604_T30TTL ...\n",
            "Exporting 20191024T111049_20191024T111604_T30TUL ...\n",
            "Exporting 20191029T111201_20191029T111443_T29TQF ...\n",
            "Exporting 20191029T111201_20191029T111443_T29TQG ...\n",
            "Exporting 20191029T111201_20191029T111443_T30TTL ...\n",
            "Exporting 20191029T111201_20191029T111443_T30TUL ...\n",
            "Exporting 20191103T111129_20191103T111443_T29TQG ...\n",
            "Exporting 20191103T111129_20191103T111443_T30TUL ...\n",
            "Exporting 20191108T111251_20191108T111445_T29TQF ...\n",
            "Exporting 20191108T111251_20191108T111445_T29TQG ...\n",
            "Exporting 20191108T111251_20191108T111445_T30TTL ...\n",
            "Exporting 20191108T111251_20191108T111445_T30TUL ...\n",
            "Exporting 20191113T111219_20191113T111904_T29TQF ...\n",
            "Exporting 20191113T111219_20191113T111904_T29TQG ...\n",
            "Exporting 20191113T111219_20191113T111904_T30TTL ...\n",
            "Exporting 20191113T111219_20191113T111904_T30TUL ...\n",
            "Exporting 20191118T111341_20191118T111444_T29TQF ...\n",
            "Exporting 20191118T111341_20191118T111444_T29TQG ...\n",
            "Exporting 20191118T111341_20191118T111444_T30TTL ...\n",
            "Exporting 20191118T111341_20191118T111444_T30TUL ...\n",
            "Exporting 20191123T111259_20191123T111438_T29TQF ...\n",
            "Exporting 20191123T111259_20191123T111438_T29TQG ...\n",
            "Exporting 20191123T111259_20191123T111438_T30TTL ...\n",
            "Exporting 20191123T111259_20191123T111438_T30TUL ...\n",
            "Exporting 20191203T111329_20191203T111436_T29TQF ...\n",
            "Exporting 20191203T111329_20191203T111436_T29TQG ...\n",
            "Exporting 20191203T111329_20191203T111436_T30TTL ...\n",
            "Exporting 20191203T111329_20191203T111436_T30TUL ...\n",
            "Exporting 20191218T111451_20191218T111448_T30TUL ...\n",
            "Exporting 20191228T111451_20191228T111449_T29TQF ...\n",
            "Exporting 20191228T111451_20191228T111449_T29TQG ...\n",
            "Exporting 20191228T111451_20191228T111449_T30TTL ...\n",
            "Exporting 20191228T111451_20191228T111449_T30TUL ...\n",
            "Exporting 20200107T111431_20200107T111434_T30TUL ...\n",
            "Exporting 20200112T111329_20200112T111437_T29TQF ...\n",
            "Exporting 20200112T111329_20200112T111437_T30TTL ...\n",
            "Exporting 20200112T111329_20200112T111437_T30TUL ...\n",
            "Exporting 20200117T111411_20200117T111434_T29TQG ...\n",
            "Exporting 20200122T111249_20200122T111436_T29TQF ...\n",
            "Exporting 20200122T111249_20200122T111436_T29TQG ...\n",
            "Exporting 20200122T111249_20200122T111436_T30TTL ...\n",
            "Exporting 20200206T111231_20200206T111434_T29TQF ...\n",
            "Exporting 20200206T111231_20200206T111434_T29TQG ...\n",
            "Exporting 20200206T111231_20200206T111434_T30TTL ...\n",
            "Exporting 20200206T111231_20200206T111434_T30TUL ...\n",
            "Exporting 20200211T111109_20200211T111317_T29TQG ...\n",
            "Exporting 20200216T111131_20200216T111437_T29TQF ...\n",
            "Exporting 20200216T111131_20200216T111437_T30TTL ...\n",
            "Exporting 20200216T111131_20200216T111437_T30TUL ...\n",
            "Exporting 20200221T110959_20200221T111742_T29TQF ...\n",
            "Exporting 20200221T110959_20200221T111742_T29TQG ...\n",
            "Exporting 20200221T110959_20200221T111742_T30TTL ...\n",
            "Exporting 20200221T110959_20200221T111742_T30TUL ...\n",
            "Exporting 20200226T111051_20200226T111642_T29TQF ...\n",
            "Exporting 20200226T111051_20200226T111642_T29TQG ...\n",
            "Exporting 20200226T111051_20200226T111642_T30TTL ...\n",
            "Exporting 20200226T111051_20200226T111642_T30TUL ...\n",
            "Exporting 20200302T110849_20200302T111641_T29TQF ...\n",
            "Exporting 20200302T110849_20200302T111641_T29TQG ...\n",
            "Exporting 20200302T110849_20200302T111641_T30TTL ...\n",
            "Exporting 20200302T110849_20200302T111641_T30TUL ...\n",
            "Exporting 20200307T110911_20200307T111438_T29TQF ...\n",
            "Exporting 20200307T110911_20200307T111438_T30TTL ...\n",
            "Exporting 20200327T110651_20200327T111753_T29TQF ...\n",
            "Exporting 20200327T110651_20200327T111753_T29TQG ...\n",
            "Exporting 20200327T110651_20200327T111753_T30TTL ...\n",
            "Exporting 20200327T110651_20200327T111753_T30TUL ...\n",
            "Exporting 20200411T110619_20200411T111238_T30TTL ...\n",
            "Exporting 20200506T110621_20200506T110845_T29TQG ...\n",
            "Exporting 20200506T110621_20200506T110845_T30TUL ...\n",
            "Exporting 20200511T110619_20200511T111534_T29TQG ...\n",
            "Exporting 20200511T110619_20200511T111534_T30TUL ...\n",
            "Exporting 20200516T110631_20200516T111555_T29TQF ...\n",
            "Exporting 20200516T110631_20200516T111555_T29TQG ...\n",
            "Exporting 20200516T110631_20200516T111555_T30TTL ...\n",
            "Exporting 20200516T110631_20200516T111555_T30TUL ...\n",
            "Exporting 20200521T110619_20200521T111355_T29TQF ...\n",
            "Exporting 20200521T110619_20200521T111355_T29TQG ...\n",
            "Exporting 20200521T110619_20200521T111355_T30TTL ...\n",
            "Exporting 20200521T110619_20200521T111355_T30TUL ...\n",
            "Exporting 20200526T110631_20200526T111712_T29TQF ...\n",
            "Exporting 20200526T110631_20200526T111712_T29TQG ...\n",
            "Exporting 20200526T110631_20200526T111712_T30TTL ...\n",
            "Exporting 20200526T110631_20200526T111712_T30TUL ...\n",
            "Exporting 20200531T110619_20200531T111348_T29TQF ...\n",
            "Exporting 20200531T110619_20200531T111348_T30TTL ...\n",
            "Exporting 20200605T110631_20200605T111907_T29TQF ...\n",
            "Exporting 20200605T110631_20200605T111907_T29TQG ...\n",
            "Exporting 20200605T110631_20200605T111907_T30TTL ...\n",
            "Exporting 20200605T110631_20200605T111907_T30TUL ...\n",
            "Exporting 20200610T110619_20200610T111411_T29TQF ...\n",
            "Exporting 20200610T110619_20200610T111411_T29TQG ...\n",
            "Exporting 20200610T110619_20200610T111411_T30TTL ...\n",
            "Exporting 20200610T110619_20200610T111411_T30TUL ...\n",
            "Exporting 20200615T110631_20200615T111321_T29TQF ...\n",
            "Exporting 20200615T110631_20200615T111321_T30TTL ...\n",
            "Exporting 20200615T110631_20200615T111321_T30TUL ...\n",
            "Exporting 20200620T110619_20200620T111013_T29TQF ...\n",
            "Exporting 20200620T110619_20200620T111013_T29TQG ...\n",
            "Exporting 20200620T110619_20200620T111013_T30TTL ...\n",
            "Exporting 20200620T110619_20200620T111013_T30TUL ...\n",
            "Exporting 20200625T110631_20200625T111446_T29TQF ...\n",
            "Exporting 20200625T110631_20200625T111446_T29TQG ...\n",
            "Exporting 20200625T110631_20200625T111446_T30TTL ...\n",
            "Exporting 20200625T110631_20200625T111446_T30TUL ...\n",
            "Exporting 20200630T110619_20200630T110734_T29TQF ...\n",
            "Exporting 20200630T110619_20200630T110734_T29TQG ...\n",
            "Exporting 20200630T110619_20200630T110734_T30TTL ...\n",
            "Exporting 20200630T110619_20200630T110734_T30TUL ...\n",
            "Exporting 20200705T110621_20200705T111905_T29TQF ...\n",
            "Exporting 20200705T110621_20200705T111905_T29TQG ...\n",
            "Exporting 20200705T110621_20200705T111905_T30TTL ...\n",
            "Exporting 20200705T110621_20200705T111905_T30TUL ...\n",
            "Exporting 20200710T110619_20200710T111540_T29TQF ...\n",
            "Exporting 20200710T110619_20200710T111540_T29TQG ...\n",
            "Exporting 20200710T110619_20200710T111540_T30TTL ...\n",
            "Exporting 20200710T110619_20200710T111540_T30TUL ...\n",
            "Exporting 20200715T110621_20200715T110914_T29TQF ...\n",
            "Exporting 20200715T110621_20200715T110914_T29TQG ...\n",
            "Exporting 20200715T110621_20200715T110914_T30TTL ...\n",
            "Exporting 20200715T110621_20200715T110914_T30TUL ...\n",
            "Exporting 20200720T110619_20200720T111156_T29TQF ...\n",
            "Exporting 20200720T110619_20200720T111156_T29TQG ...\n",
            "Exporting 20200720T110619_20200720T111156_T30TTL ...\n",
            "Exporting 20200720T110619_20200720T111156_T30TUL ...\n",
            "Exporting 20200725T110631_20200725T111714_T29TQF ...\n",
            "Exporting 20200725T110631_20200725T111714_T29TQG ...\n",
            "Exporting 20200725T110631_20200725T111714_T30TTL ...\n",
            "Exporting 20200725T110631_20200725T111714_T30TUL ...\n",
            "Exporting 20200730T110619_20200730T111530_T29TQF ...\n",
            "Exporting 20200730T110619_20200730T111530_T29TQG ...\n",
            "Exporting 20200730T110619_20200730T111530_T30TTL ...\n",
            "Exporting 20200730T110619_20200730T111530_T30TUL ...\n",
            "Exporting 20200804T110631_20200804T111447_T29TQF ...\n",
            "Exporting 20200804T110631_20200804T111447_T29TQG ...\n",
            "Exporting 20200804T110631_20200804T111447_T30TTL ...\n",
            "Exporting 20200804T110631_20200804T111447_T30TUL ...\n",
            "Exporting 20200809T110629_20200809T111347_T29TQF ...\n",
            "Exporting 20200809T110629_20200809T111347_T29TQG ...\n",
            "Exporting 20200809T110629_20200809T111347_T30TTL ...\n",
            "Exporting 20200809T110629_20200809T111347_T30TUL ...\n",
            "Exporting 20200814T110631_20200814T111447_T29TQF ...\n",
            "Exporting 20200814T110631_20200814T111447_T29TQG ...\n",
            "Exporting 20200814T110631_20200814T111447_T30TTL ...\n",
            "Exporting 20200814T110631_20200814T111447_T30TUL ...\n",
            "Exporting 20200819T110629_20200819T110945_T29TQF ...\n",
            "Exporting 20200819T110629_20200819T110945_T29TQG ...\n",
            "Exporting 20200819T110629_20200819T110945_T30TTL ...\n",
            "Exporting 20200819T110629_20200819T110945_T30TUL ...\n",
            "Exporting 20200824T110631_20200824T111345_T29TQF ...\n",
            "Exporting 20200824T110631_20200824T111345_T29TQG ...\n",
            "Exporting 20200824T110631_20200824T111345_T30TTL ...\n",
            "Exporting 20200824T110631_20200824T111345_T30TUL ...\n",
            "Exporting 20200829T110629_20200829T110945_T29TQF ...\n",
            "Exporting 20200829T110629_20200829T110945_T30TTL ...\n",
            "Exporting 20200829T110629_20200829T110945_T30TUL ...\n",
            "Exporting 20200903T110621_20200903T111453_T29TQF ...\n",
            "Exporting 20200903T110621_20200903T111453_T29TQG ...\n",
            "Exporting 20200903T110621_20200903T111453_T30TTL ...\n",
            "Exporting 20200903T110621_20200903T111453_T30TUL ...\n",
            "Exporting 20200908T110619_20200908T111404_T29TQF ...\n",
            "Exporting 20200908T110619_20200908T111404_T30TTL ...\n",
            "Exporting 20200908T110619_20200908T111404_T30TUL ...\n",
            "Exporting 20200913T110701_20200913T111451_T29TQG ...\n",
            "Exporting 20200918T110639_20200918T110849_T29TQF ...\n",
            "Exporting 20200918T110639_20200918T110849_T29TQG ...\n",
            "Exporting 20200918T110639_20200918T110849_T30TTL ...\n",
            "Exporting 20200918T110639_20200918T110849_T30TUL ...\n",
            "Exporting 20200928T110739_20200928T110901_T29TQF ...\n",
            "Exporting 20200928T110739_20200928T110901_T29TQG ...\n",
            "Exporting 20200928T110739_20200928T110901_T30TTL ...\n",
            "Exporting 20200928T110739_20200928T110901_T30TUL ...\n",
            "Exporting 20201003T110911_20201003T111452_T29TQF ...\n",
            "Exporting 20201003T110911_20201003T111452_T29TQG ...\n",
            "Exporting 20201003T110911_20201003T111452_T30TTL ...\n",
            "Exporting 20201003T110911_20201003T111452_T30TUL ...\n",
            "Exporting 20201013T111021_20201013T111451_T29TQF ...\n",
            "Exporting 20201013T111021_20201013T111451_T29TQG ...\n",
            "Exporting 20201013T111021_20201013T111451_T30TTL ...\n",
            "Exporting 20201013T111021_20201013T111451_T30TUL ...\n",
            "Exporting 20201018T110959_20201018T111112_T29TQF ...\n",
            "Exporting 20201018T110959_20201018T111112_T29TQG ...\n",
            "Exporting 20201018T110959_20201018T111112_T30TTL ...\n",
            "Exporting 20201023T111131_20201023T111453_T29TQF ...\n",
            "Exporting 20201023T111131_20201023T111453_T29TQG ...\n",
            "Exporting 20201023T111131_20201023T111453_T30TTL ...\n",
            "Exporting 20201023T111131_20201023T111453_T30TUL ...\n",
            "Exporting 20201102T111231_20201102T111451_T29TQF ...\n",
            "Exporting 20201102T111231_20201102T111451_T29TQG ...\n",
            "Exporting 20201102T111231_20201102T111451_T30TTL ...\n",
            "Exporting 20201107T111249_20201107T111249_T29TQG ...\n",
            "Exporting 20201117T111339_20201117T111448_T29TQF ...\n",
            "Exporting 20201117T111339_20201117T111448_T29TQG ...\n",
            "Exporting 20201117T111339_20201117T111448_T30TTL ...\n",
            "Exporting 20201117T111339_20201117T111448_T30TUL ...\n",
            "Exporting 20201122T111401_20201122T111449_T29TQF ...\n",
            "Exporting 20201122T111401_20201122T111449_T29TQG ...\n",
            "Exporting 20201122T111401_20201122T111449_T30TTL ...\n",
            "Exporting 20201122T111401_20201122T111449_T30TUL ...\n",
            "Exporting 20201207T111439_20201207T111438_T29TQG ...\n",
            "Exporting 20201212T111451_20201212T111447_T29TQF ...\n",
            "Exporting 20201212T111451_20201212T111447_T29TQG ...\n",
            "Exporting 20201212T111451_20201212T111447_T30TTL ...\n",
            "Exporting 20201212T111451_20201212T111447_T30TUL ...\n",
            "Exporting 20201222T111501_20201222T111456_T30TUL ...\n"
          ],
          "name": "stdout"
        }
      ]
    },
    {
      "cell_type": "markdown",
      "metadata": {
        "id": "-gcauq57Rwx-"
      },
      "source": [
        "# 3- Dataset :\n",
        "Synchronize the field measurement with images dates"
      ]
    },
    {
      "cell_type": "code",
      "metadata": {
        "id": "QkDIEBhUR7XC"
      },
      "source": [
        "## Requirements :\n",
        "\n",
        "from osgeo import gdal\n",
        "import sys\n",
        "import os"
      ],
      "execution_count": null,
      "outputs": []
    },
    {
      "cell_type": "code",
      "metadata": {
        "id": "PK8G5INiSCwn"
      },
      "source": [
        "## Read the data from the 2 stations :\n",
        "\n",
        "df1 = pd.read_csv(\"/content/drive/MyDrive/soilMoisture/Datasets/SMC_dataset_2017to2020_Area1.csv\")\n",
        "df2 = pd.read_csv(\"/content/drive/MyDrive/soilMoisture/Datasets/SMC_dataset_2017to2020_Area2.csv\")\n",
        "df3 = pd.read_csv(\"/content/drive/MyDrive/soilMoisture/Datasets/SMC_dataset_2017to2020_Area3.csv\")"
      ],
      "execution_count": null,
      "outputs": []
    },
    {
      "cell_type": "code",
      "metadata": {
        "id": "Sf6BJfUfSHfL",
        "colab": {
          "base_uri": "https://localhost:8080/",
          "height": 228
        },
        "outputId": "e7c8dbbb-bf25-4c7f-8608-f1a13d592851"
      },
      "source": [
        "df3.head() "
      ],
      "execution_count": null,
      "outputs": [
        {
          "output_type": "execute_result",
          "data": {
            "text/html": [
              "<div>\n",
              "<style scoped>\n",
              "    .dataframe tbody tr th:only-of-type {\n",
              "        vertical-align: middle;\n",
              "    }\n",
              "\n",
              "    .dataframe tbody tr th {\n",
              "        vertical-align: top;\n",
              "    }\n",
              "\n",
              "    .dataframe thead th {\n",
              "        text-align: right;\n",
              "    }\n",
              "</style>\n",
              "<table border=\"1\" class=\"dataframe\">\n",
              "  <thead>\n",
              "    <tr style=\"text-align: right;\">\n",
              "      <th></th>\n",
              "      <th>date_time</th>\n",
              "      <th>soil_moisture_depth_0.050000</th>\n",
              "      <th>depth</th>\n",
              "    </tr>\n",
              "  </thead>\n",
              "  <tbody>\n",
              "    <tr>\n",
              "      <th>0</th>\n",
              "      <td>2017-03-01 00:00:00</td>\n",
              "      <td>0.156</td>\n",
              "      <td>0.05</td>\n",
              "    </tr>\n",
              "    <tr>\n",
              "      <th>1</th>\n",
              "      <td>2017-03-01 01:00:00</td>\n",
              "      <td>0.156</td>\n",
              "      <td>0.05</td>\n",
              "    </tr>\n",
              "    <tr>\n",
              "      <th>2</th>\n",
              "      <td>2017-03-01 02:00:00</td>\n",
              "      <td>0.156</td>\n",
              "      <td>0.05</td>\n",
              "    </tr>\n",
              "    <tr>\n",
              "      <th>3</th>\n",
              "      <td>2017-03-01 03:00:00</td>\n",
              "      <td>0.155</td>\n",
              "      <td>0.05</td>\n",
              "    </tr>\n",
              "    <tr>\n",
              "      <th>4</th>\n",
              "      <td>2017-03-01 04:00:00</td>\n",
              "      <td>0.155</td>\n",
              "      <td>0.05</td>\n",
              "    </tr>\n",
              "  </tbody>\n",
              "</table>\n",
              "</div>"
            ],
            "text/plain": [
              "             date_time  soil_moisture_depth_0.050000  depth\n",
              "0  2017-03-01 00:00:00                         0.156   0.05\n",
              "1  2017-03-01 01:00:00                         0.156   0.05\n",
              "2  2017-03-01 02:00:00                         0.156   0.05\n",
              "3  2017-03-01 03:00:00                         0.155   0.05\n",
              "4  2017-03-01 04:00:00                         0.155   0.05"
            ]
          },
          "metadata": {
            "tags": []
          },
          "execution_count": 5
        }
      ]
    },
    {
      "cell_type": "code",
      "metadata": {
        "id": "KdtZ5mIkSHOy",
        "colab": {
          "base_uri": "https://localhost:8080/"
        },
        "outputId": "4dbabba2-c5fe-43eb-f563-30b2519a31d2"
      },
      "source": [
        "df1.columns "
      ],
      "execution_count": null,
      "outputs": [
        {
          "output_type": "execute_result",
          "data": {
            "text/plain": [
              "Index(['date_time', 'soil_moisture_depth_0.050000', 'depth'], dtype='object')"
            ]
          },
          "metadata": {
            "tags": []
          },
          "execution_count": 60
        }
      ]
    },
    {
      "cell_type": "code",
      "metadata": {
        "id": "0Do6zMDTSQpu",
        "colab": {
          "base_uri": "https://localhost:8080/",
          "height": 323
        },
        "outputId": "2931e675-3d57-4f5b-9a1f-b929432a7a02"
      },
      "source": [
        "df1.describe()"
      ],
      "execution_count": null,
      "outputs": [
        {
          "output_type": "execute_result",
          "data": {
            "text/html": [
              "<div>\n",
              "<style scoped>\n",
              "    .dataframe tbody tr th:only-of-type {\n",
              "        vertical-align: middle;\n",
              "    }\n",
              "\n",
              "    .dataframe tbody tr th {\n",
              "        vertical-align: top;\n",
              "    }\n",
              "\n",
              "    .dataframe thead th {\n",
              "        text-align: right;\n",
              "    }\n",
              "</style>\n",
              "<table border=\"1\" class=\"dataframe\">\n",
              "  <thead>\n",
              "    <tr style=\"text-align: right;\">\n",
              "      <th></th>\n",
              "      <th>soil_moisture_depth_0.050000</th>\n",
              "      <th>depth</th>\n",
              "    </tr>\n",
              "  </thead>\n",
              "  <tbody>\n",
              "    <tr>\n",
              "      <th>count</th>\n",
              "      <td>33198.000000</td>\n",
              "      <td>3.319800e+04</td>\n",
              "    </tr>\n",
              "    <tr>\n",
              "      <th>mean</th>\n",
              "      <td>0.120527</td>\n",
              "      <td>5.000000e-02</td>\n",
              "    </tr>\n",
              "    <tr>\n",
              "      <th>std</th>\n",
              "      <td>0.051054</td>\n",
              "      <td>2.897726e-14</td>\n",
              "    </tr>\n",
              "    <tr>\n",
              "      <th>min</th>\n",
              "      <td>0.040000</td>\n",
              "      <td>5.000000e-02</td>\n",
              "    </tr>\n",
              "    <tr>\n",
              "      <th>25%</th>\n",
              "      <td>0.073000</td>\n",
              "      <td>5.000000e-02</td>\n",
              "    </tr>\n",
              "    <tr>\n",
              "      <th>50%</th>\n",
              "      <td>0.115000</td>\n",
              "      <td>5.000000e-02</td>\n",
              "    </tr>\n",
              "    <tr>\n",
              "      <th>75%</th>\n",
              "      <td>0.168000</td>\n",
              "      <td>5.000000e-02</td>\n",
              "    </tr>\n",
              "    <tr>\n",
              "      <th>max</th>\n",
              "      <td>0.271000</td>\n",
              "      <td>5.000000e-02</td>\n",
              "    </tr>\n",
              "  </tbody>\n",
              "</table>\n",
              "</div>"
            ],
            "text/plain": [
              "       soil_moisture_depth_0.050000         depth\n",
              "count                  33198.000000  3.319800e+04\n",
              "mean                       0.120527  5.000000e-02\n",
              "std                        0.051054  2.897726e-14\n",
              "min                        0.040000  5.000000e-02\n",
              "25%                        0.073000  5.000000e-02\n",
              "50%                        0.115000  5.000000e-02\n",
              "75%                        0.168000  5.000000e-02\n",
              "max                        0.271000  5.000000e-02"
            ]
          },
          "metadata": {
            "tags": []
          },
          "execution_count": 61
        }
      ]
    },
    {
      "cell_type": "code",
      "metadata": {
        "id": "WeNOlNjgSG_a",
        "colab": {
          "base_uri": "https://localhost:8080/"
        },
        "outputId": "3f7be982-ea04-45d5-a234-348cf48701d9"
      },
      "source": [
        "## split dates and hours :\n",
        "\n",
        "df1['date_time'][1].split(\" \") "
      ],
      "execution_count": null,
      "outputs": [
        {
          "output_type": "execute_result",
          "data": {
            "text/plain": [
              "['2017-03-01', '01:00:00']"
            ]
          },
          "metadata": {
            "tags": []
          },
          "execution_count": 62
        }
      ]
    },
    {
      "cell_type": "code",
      "metadata": {
        "id": "Z4SXYErUSGuW",
        "colab": {
          "base_uri": "https://localhost:8080/"
        },
        "outputId": "4d6daf75-1e95-4664-e7c3-afcb208a0b30"
      },
      "source": [
        "## Add hours column \n",
        "\n",
        "df1[\"hour\"] = \"\"\n",
        "df2[\"hour\"] = \"\"\n",
        "df3[\"hour\"] = \"\"\n",
        "\n",
        "for i in range (len(df1)):\n",
        "  df1[\"hour\"][i]=df1['date_time'][i].split(\" \")[1]\n",
        "  df1[\"date_time\"][i]=df1['date_time'][i].split(\" \")[0]\n",
        "\n",
        "for i in range (len(df2)):\n",
        "  df2[\"hour\"][i]=df2['date_time'][i].split(\" \")[1]\n",
        "  df2[\"date_time\"][i]=df2['date_time'][i].split(\" \")[0]\n",
        "  \n",
        "for i in range (len(df3)):\n",
        "  df3[\"hour\"][i]=df3['date_time'][i].split(\" \")[1]\n",
        "  df3[\"date_time\"][i]=df3['date_time'][i].split(\" \")[0]"
      ],
      "execution_count": null,
      "outputs": [
        {
          "output_type": "stream",
          "text": [
            "/usr/local/lib/python3.7/dist-packages/ipykernel_launcher.py:8: SettingWithCopyWarning: \n",
            "A value is trying to be set on a copy of a slice from a DataFrame\n",
            "\n",
            "See the caveats in the documentation: https://pandas.pydata.org/pandas-docs/stable/user_guide/indexing.html#returning-a-view-versus-a-copy\n",
            "  \n",
            "/usr/local/lib/python3.7/dist-packages/ipykernel_launcher.py:9: SettingWithCopyWarning: \n",
            "A value is trying to be set on a copy of a slice from a DataFrame\n",
            "\n",
            "See the caveats in the documentation: https://pandas.pydata.org/pandas-docs/stable/user_guide/indexing.html#returning-a-view-versus-a-copy\n",
            "  if __name__ == '__main__':\n",
            "/usr/local/lib/python3.7/dist-packages/ipykernel_launcher.py:12: SettingWithCopyWarning: \n",
            "A value is trying to be set on a copy of a slice from a DataFrame\n",
            "\n",
            "See the caveats in the documentation: https://pandas.pydata.org/pandas-docs/stable/user_guide/indexing.html#returning-a-view-versus-a-copy\n",
            "  if sys.path[0] == '':\n",
            "/usr/local/lib/python3.7/dist-packages/ipykernel_launcher.py:13: SettingWithCopyWarning: \n",
            "A value is trying to be set on a copy of a slice from a DataFrame\n",
            "\n",
            "See the caveats in the documentation: https://pandas.pydata.org/pandas-docs/stable/user_guide/indexing.html#returning-a-view-versus-a-copy\n",
            "  del sys.path[0]\n",
            "/usr/local/lib/python3.7/dist-packages/ipykernel_launcher.py:16: SettingWithCopyWarning: \n",
            "A value is trying to be set on a copy of a slice from a DataFrame\n",
            "\n",
            "See the caveats in the documentation: https://pandas.pydata.org/pandas-docs/stable/user_guide/indexing.html#returning-a-view-versus-a-copy\n",
            "  app.launch_new_instance()\n",
            "/usr/local/lib/python3.7/dist-packages/ipykernel_launcher.py:17: SettingWithCopyWarning: \n",
            "A value is trying to be set on a copy of a slice from a DataFrame\n",
            "\n",
            "See the caveats in the documentation: https://pandas.pydata.org/pandas-docs/stable/user_guide/indexing.html#returning-a-view-versus-a-copy\n"
          ],
          "name": "stderr"
        }
      ]
    },
    {
      "cell_type": "code",
      "metadata": {
        "id": "CMaXlVVySGii",
        "colab": {
          "base_uri": "https://localhost:8080/",
          "height": 228
        },
        "outputId": "79b0e3a8-28c3-4ca0-f13c-6eb06d98b01c"
      },
      "source": [
        "df1.head()"
      ],
      "execution_count": null,
      "outputs": [
        {
          "output_type": "execute_result",
          "data": {
            "text/html": [
              "<div>\n",
              "<style scoped>\n",
              "    .dataframe tbody tr th:only-of-type {\n",
              "        vertical-align: middle;\n",
              "    }\n",
              "\n",
              "    .dataframe tbody tr th {\n",
              "        vertical-align: top;\n",
              "    }\n",
              "\n",
              "    .dataframe thead th {\n",
              "        text-align: right;\n",
              "    }\n",
              "</style>\n",
              "<table border=\"1\" class=\"dataframe\">\n",
              "  <thead>\n",
              "    <tr style=\"text-align: right;\">\n",
              "      <th></th>\n",
              "      <th>date_time</th>\n",
              "      <th>soil_moisture_depth_0.050000</th>\n",
              "      <th>depth</th>\n",
              "      <th>hour</th>\n",
              "    </tr>\n",
              "  </thead>\n",
              "  <tbody>\n",
              "    <tr>\n",
              "      <th>0</th>\n",
              "      <td>2017-03-01</td>\n",
              "      <td>0.156</td>\n",
              "      <td>0.05</td>\n",
              "      <td>00:00:00</td>\n",
              "    </tr>\n",
              "    <tr>\n",
              "      <th>1</th>\n",
              "      <td>2017-03-01</td>\n",
              "      <td>0.156</td>\n",
              "      <td>0.05</td>\n",
              "      <td>01:00:00</td>\n",
              "    </tr>\n",
              "    <tr>\n",
              "      <th>2</th>\n",
              "      <td>2017-03-01</td>\n",
              "      <td>0.156</td>\n",
              "      <td>0.05</td>\n",
              "      <td>02:00:00</td>\n",
              "    </tr>\n",
              "    <tr>\n",
              "      <th>3</th>\n",
              "      <td>2017-03-01</td>\n",
              "      <td>0.155</td>\n",
              "      <td>0.05</td>\n",
              "      <td>03:00:00</td>\n",
              "    </tr>\n",
              "    <tr>\n",
              "      <th>4</th>\n",
              "      <td>2017-03-01</td>\n",
              "      <td>0.155</td>\n",
              "      <td>0.05</td>\n",
              "      <td>04:00:00</td>\n",
              "    </tr>\n",
              "  </tbody>\n",
              "</table>\n",
              "</div>"
            ],
            "text/plain": [
              "    date_time  soil_moisture_depth_0.050000  depth      hour\n",
              "0  2017-03-01                         0.156   0.05  00:00:00\n",
              "1  2017-03-01                         0.156   0.05  01:00:00\n",
              "2  2017-03-01                         0.156   0.05  02:00:00\n",
              "3  2017-03-01                         0.155   0.05  03:00:00\n",
              "4  2017-03-01                         0.155   0.05  04:00:00"
            ]
          },
          "metadata": {
            "tags": []
          },
          "execution_count": 64
        }
      ]
    },
    {
      "cell_type": "code",
      "metadata": {
        "id": "9gA57C8GSGUa"
      },
      "source": [
        "#Rdataset1 = pd.DataFrame(columns=['date_time', 'soil_moisture_depth_0.05','Image_name'])\n",
        "Rdataset1 = df1[df1['hour']=='11:00:00']\n",
        "Rdataset2 = df2[df2['hour']=='11:00:00']\n",
        "Rdataset3 = df3[df3['hour']=='11:00:00']"
      ],
      "execution_count": null,
      "outputs": []
    },
    {
      "cell_type": "code",
      "metadata": {
        "id": "7s_sd2p9z-0k"
      },
      "source": [
        "## Selection of the max value on the day for each image :\n",
        "\n",
        "L_max = []\n",
        "for e in df1['date_time'].unique() : \n",
        "  L_mid = list(df1[df1['date_time']==e]['soil_moisture_depth_0.050000'])\n",
        "  L_max.append(max(L_mid))\n",
        "L_date = df1['date_time'].unique()"
      ],
      "execution_count": null,
      "outputs": []
    },
    {
      "cell_type": "code",
      "metadata": {
        "id": "FUwwKXBySl-M",
        "colab": {
          "base_uri": "https://localhost:8080/",
          "height": 323
        },
        "outputId": "e148bf55-927a-47f3-841e-3104ef485a6f"
      },
      "source": [
        "Rdataset['date_time'] = L_date\n",
        "Rdataset['soil_moisture_depth_0.05'] = L_max\n",
        "Rdataset.describe()"
      ],
      "execution_count": null,
      "outputs": [
        {
          "output_type": "execute_result",
          "data": {
            "text/html": [
              "<div>\n",
              "<style scoped>\n",
              "    .dataframe tbody tr th:only-of-type {\n",
              "        vertical-align: middle;\n",
              "    }\n",
              "\n",
              "    .dataframe tbody tr th {\n",
              "        vertical-align: top;\n",
              "    }\n",
              "\n",
              "    .dataframe thead th {\n",
              "        text-align: right;\n",
              "    }\n",
              "</style>\n",
              "<table border=\"1\" class=\"dataframe\">\n",
              "  <thead>\n",
              "    <tr style=\"text-align: right;\">\n",
              "      <th></th>\n",
              "      <th>soil_moisture_depth_0.05</th>\n",
              "    </tr>\n",
              "  </thead>\n",
              "  <tbody>\n",
              "    <tr>\n",
              "      <th>count</th>\n",
              "      <td>1401.000000</td>\n",
              "    </tr>\n",
              "    <tr>\n",
              "      <th>mean</th>\n",
              "      <td>0.128318</td>\n",
              "    </tr>\n",
              "    <tr>\n",
              "      <th>std</th>\n",
              "      <td>0.051830</td>\n",
              "    </tr>\n",
              "    <tr>\n",
              "      <th>min</th>\n",
              "      <td>0.047000</td>\n",
              "    </tr>\n",
              "    <tr>\n",
              "      <th>25%</th>\n",
              "      <td>0.081000</td>\n",
              "    </tr>\n",
              "    <tr>\n",
              "      <th>50%</th>\n",
              "      <td>0.122000</td>\n",
              "    </tr>\n",
              "    <tr>\n",
              "      <th>75%</th>\n",
              "      <td>0.172000</td>\n",
              "    </tr>\n",
              "    <tr>\n",
              "      <th>max</th>\n",
              "      <td>0.271000</td>\n",
              "    </tr>\n",
              "  </tbody>\n",
              "</table>\n",
              "</div>"
            ],
            "text/plain": [
              "       soil_moisture_depth_0.05\n",
              "count               1401.000000\n",
              "mean                   0.128318\n",
              "std                    0.051830\n",
              "min                    0.047000\n",
              "25%                    0.081000\n",
              "50%                    0.122000\n",
              "75%                    0.172000\n",
              "max                    0.271000"
            ]
          },
          "metadata": {
            "tags": []
          },
          "execution_count": 68
        }
      ]
    },
    {
      "cell_type": "code",
      "metadata": {
        "colab": {
          "base_uri": "https://localhost:8080/",
          "height": 228
        },
        "id": "ZopgEQbRY3qp",
        "outputId": "268ab92c-2a0a-43ad-b5af-e97059d3bb57"
      },
      "source": [
        "Rdataset2.head()"
      ],
      "execution_count": null,
      "outputs": [
        {
          "output_type": "execute_result",
          "data": {
            "text/html": [
              "<div>\n",
              "<style scoped>\n",
              "    .dataframe tbody tr th:only-of-type {\n",
              "        vertical-align: middle;\n",
              "    }\n",
              "\n",
              "    .dataframe tbody tr th {\n",
              "        vertical-align: top;\n",
              "    }\n",
              "\n",
              "    .dataframe thead th {\n",
              "        text-align: right;\n",
              "    }\n",
              "</style>\n",
              "<table border=\"1\" class=\"dataframe\">\n",
              "  <thead>\n",
              "    <tr style=\"text-align: right;\">\n",
              "      <th></th>\n",
              "      <th>date_time</th>\n",
              "      <th>soil_moisture_depth_0.050000</th>\n",
              "      <th>depth</th>\n",
              "      <th>hour</th>\n",
              "    </tr>\n",
              "  </thead>\n",
              "  <tbody>\n",
              "    <tr>\n",
              "      <th>11</th>\n",
              "      <td>2017-03-01</td>\n",
              "      <td>0.195</td>\n",
              "      <td>0.05</td>\n",
              "      <td>11:00:00</td>\n",
              "    </tr>\n",
              "    <tr>\n",
              "      <th>35</th>\n",
              "      <td>2017-03-02</td>\n",
              "      <td>0.194</td>\n",
              "      <td>0.05</td>\n",
              "      <td>11:00:00</td>\n",
              "    </tr>\n",
              "    <tr>\n",
              "      <th>59</th>\n",
              "      <td>2017-03-03</td>\n",
              "      <td>0.192</td>\n",
              "      <td>0.05</td>\n",
              "      <td>11:00:00</td>\n",
              "    </tr>\n",
              "    <tr>\n",
              "      <th>83</th>\n",
              "      <td>2017-03-04</td>\n",
              "      <td>0.186</td>\n",
              "      <td>0.05</td>\n",
              "      <td>11:00:00</td>\n",
              "    </tr>\n",
              "    <tr>\n",
              "      <th>107</th>\n",
              "      <td>2017-03-05</td>\n",
              "      <td>0.189</td>\n",
              "      <td>0.05</td>\n",
              "      <td>11:00:00</td>\n",
              "    </tr>\n",
              "  </tbody>\n",
              "</table>\n",
              "</div>"
            ],
            "text/plain": [
              "      date_time  soil_moisture_depth_0.050000  depth      hour\n",
              "11   2017-03-01                         0.195   0.05  11:00:00\n",
              "35   2017-03-02                         0.194   0.05  11:00:00\n",
              "59   2017-03-03                         0.192   0.05  11:00:00\n",
              "83   2017-03-04                         0.186   0.05  11:00:00\n",
              "107  2017-03-05                         0.189   0.05  11:00:00"
            ]
          },
          "metadata": {
            "tags": []
          },
          "execution_count": 8
        }
      ]
    },
    {
      "cell_type": "code",
      "metadata": {
        "colab": {
          "base_uri": "https://localhost:8080/",
          "height": 563
        },
        "id": "TBIdqzKAZHFa",
        "outputId": "f40cf50c-3899-4d21-a373-40336bc3c91c"
      },
      "source": [
        "import plotly.figure_factory as ff\n",
        "\n",
        "np.random.seed(1)\n",
        "\n",
        "x1 = Rdataset1['soil_moisture_depth_0.050000']\n",
        "x2 = Rdataset2['soil_moisture_depth_0.050000']\n",
        "x3 = Rdataset3['soil_moisture_depth_0.050000']\n",
        "hist_data = [x1,x2,x3]\n",
        "group_labels = ['SMC1','SMC2','SMC3'] # name of the dataset\n",
        "\n",
        "fig = ff.create_distplot(hist_data, group_labels)\n",
        "fig.show()"
      ],
      "execution_count": null,
      "outputs": [
        {
          "output_type": "display_data",
          "data": {
            "text/html": [
              "<html>\n",
              "<head><meta charset=\"utf-8\" /></head>\n",
              "<body>\n",
              "    <div>\n",
              "            <script src=\"https://cdnjs.cloudflare.com/ajax/libs/mathjax/2.7.5/MathJax.js?config=TeX-AMS-MML_SVG\"></script><script type=\"text/javascript\">if (window.MathJax) {MathJax.Hub.Config({SVG: {font: \"STIX-Web\"}});}</script>\n",
              "                <script type=\"text/javascript\">window.PlotlyConfig = {MathJaxConfig: 'local'};</script>\n",
              "        <script src=\"https://cdn.plot.ly/plotly-latest.min.js\"></script>    \n",
              "            <div id=\"1e4be6f0-1c08-4cc4-90b7-9b81c2c5fe51\" class=\"plotly-graph-div\" style=\"height:525px; width:100%;\"></div>\n",
              "            <script type=\"text/javascript\">\n",
              "                \n",
              "                    window.PLOTLYENV=window.PLOTLYENV || {};\n",
              "                    \n",
              "                if (document.getElementById(\"1e4be6f0-1c08-4cc4-90b7-9b81c2c5fe51\")) {\n",
              "                    Plotly.newPlot(\n",
              "                        '1e4be6f0-1c08-4cc4-90b7-9b81c2c5fe51',\n",
              "                        [{\"autobinx\": false, \"histnorm\": \"probability density\", \"legendgroup\": \"SMC1\", \"marker\": {\"color\": \"rgb(31, 119, 180)\"}, \"name\": \"SMC1\", \"opacity\": 0.7, \"type\": \"histogram\", \"x\": [0.23600000000000002, 0.23399999999999999, 0.23199999999999998, 0.226, 0.23, 0.23199999999999998, 0.228, 0.225, 0.223, 0.223, 0.223, 0.217, 0.22899999999999998, 0.225, 0.22, 0.217, 0.214, 0.21100000000000002, 0.21, 0.20600000000000002, 0.203, 0.2, 0.191, 0.18899999999999997, 0.187, 0.187, 0.18899999999999997, 0.191, 0.19, 0.192, 0.193, 0.18600000000000003, 0.18100000000000002, 0.18, 0.17600000000000002, 0.174, 0.17, 0.168, 0.16699999999999998, 0.16699999999999998, 0.16399999999999998, 0.162, 0.159, 0.156, 0.153, 0.15, 0.147, 0.14400000000000002, 0.14400000000000002, 0.139, 0.136, 0.133, 0.131, 0.13, 0.129, 0.128, 0.124, 0.11699999999999999, 0.113, 0.11800000000000001, 0.114, 0.10800000000000001, 0.113, 0.115, 0.11800000000000001, 0.11800000000000001, 0.109, 0.111, 0.114, 0.11599999999999999, 0.114, 0.214, 0.207, 0.23199999999999998, 0.223, 0.22, 0.21899999999999997, 0.215, 0.252, 0.231, 0.225, 0.222, 0.21600000000000003, 0.212, 0.20600000000000002, 0.19899999999999998, 0.188, 0.18100000000000002, 0.17600000000000002, 0.168, 0.163, 0.162, 0.16, 0.157, 0.152, 0.14800000000000002, 0.14, 0.138, 0.13699999999999998, 0.13699999999999998, 0.134, 0.133, 0.133, 0.131, 0.13, 0.127, 0.125, 0.125, 0.12300000000000001, 0.12, 0.11900000000000001, 0.115, 0.115, 0.121, 0.121, 0.12300000000000001, 0.121, 0.12, 0.12, 0.121, 0.11800000000000001, 0.11800000000000001, 0.11900000000000001, 0.124, 0.13, 0.134, 0.135, 0.133, 0.31, 0.28300000000000003, 0.285, 0.267, 0.26, 0.256, 0.25, 0.243, 0.23399999999999999, 0.228, 0.223, 0.217, 0.21, 0.2, 0.193, 0.18600000000000003, 0.182, 0.17800000000000002, 0.172, 0.168, 0.16399999999999998, 0.16, 0.156, 0.151, 0.14400000000000002, 0.139, 0.13699999999999998, 0.13699999999999998, 0.135, 0.133, 0.128, 0.126, 0.121, 0.11800000000000001, 0.115, 0.11599999999999999, 0.11599999999999999, 0.11800000000000001, 0.11800000000000001, 0.11699999999999999, 0.115, 0.11599999999999999, 0.11599999999999999, 0.115, 0.11199999999999999, 0.11199999999999999, 0.11599999999999999, 0.114, 0.11199999999999999, 0.107, 0.10800000000000001, 0.107, 0.106, 0.105, 0.105, 0.105, 0.105, 0.107, 0.11199999999999999, 0.11599999999999999, 0.11800000000000001, 0.11900000000000001, 0.11599999999999999, 0.11599999999999999, 0.11699999999999999, 0.11, 0.113, 0.111, 0.11, 0.11, 0.105, 0.10099999999999999, 0.1, 0.102, 0.1, 0.1, 0.102, 0.1, 0.1, 0.102, 0.10099999999999999, 0.098, 0.098, 0.1, 0.10099999999999999, 0.10099999999999999, 0.099, 0.10099999999999999, 0.10099999999999999, 0.1, 0.10099999999999999, 0.099, 0.096, 0.094, 0.094, 0.09300000000000001, 0.09300000000000001, 0.09300000000000001, 0.095, 0.095, 0.099, 0.098, 0.09699999999999999, 0.09300000000000001, 0.08800000000000001, 0.092, 0.09300000000000001, 0.087, 0.087, 0.08800000000000001, 0.08900000000000001, 0.091, 0.091, 0.091, 0.08800000000000001, 0.08800000000000001, 0.085, 0.086, 0.092, 0.255, 0.248, 0.247, 0.23399999999999999, 0.228, 0.225, 0.217, 0.214, 0.213, 0.21100000000000002, 0.21, 0.204, 0.2, 0.198, 0.198, 0.19699999999999998, 0.19399999999999998, 0.191, 0.18899999999999997, 0.19, 0.19699999999999998, 0.19699999999999998, 0.196, 0.18600000000000003, 0.18, 0.17800000000000002, 0.17600000000000002, 0.174, 0.17300000000000001, 0.16899999999999998, 0.168, 0.16699999999999998, 0.166, 0.166, 0.166, 0.17300000000000001, 0.179, 0.18, 0.23600000000000002, 0.22699999999999998, 0.226, 0.23199999999999998, 0.228, 0.218, 0.213, 0.21100000000000002, 0.21100000000000002, 0.209, 0.209, 0.207, 0.20600000000000002, 0.204, 0.20199999999999999, 0.205, 0.207, 0.213, 0.218, 0.221, 0.218, 0.218, 0.221, 0.226, 0.225, 0.221, 0.26, 0.27699999999999997, 0.262, 0.255, 0.262, 0.255, 0.247, 0.248, 0.26, 0.251, 0.255, 0.252, 0.244, 0.242, 0.24100000000000002, 0.242, 0.24100000000000002, 0.23600000000000002, 0.235, 0.24100000000000002, 0.275, 0.262, 0.256, 0.253, 0.248, 0.244, 0.245, 0.237, 0.23399999999999999, 0.23800000000000002, 0.23399999999999999, 0.231, 0.228, 0.225, 0.226, 0.225, 0.231, 0.228, 0.223, 0.22699999999999998, 0.23, 0.23, 0.228, 0.21899999999999997, 0.22, 0.217, 0.213, 0.20600000000000002, 0.20199999999999999, 0.198, 0.19699999999999998, 0.198, 0.196, 0.261, 0.285, 0.27399999999999997, 0.278, 0.295, 0.292, 0.284, 0.26899999999999996, 0.27, 0.271, 0.307, 0.284, 0.27399999999999997, 0.28, 0.275, 0.295, 0.284, 0.298, 0.28, 0.272, 0.265, 0.26, 0.253, 0.256, 0.262, 0.257, 0.25, 0.25, 0.24600000000000002, 0.23800000000000002, 0.23, 0.239, 0.23800000000000002, 0.237, 0.233, 0.228, 0.22399999999999998, 0.222, 0.218, 0.213, 0.21899999999999997, 0.259, 0.28600000000000003, 0.275, 0.306, 0.297, 0.287, 0.304, 0.29, 0.281, 0.27, 0.256, 0.245, 0.237, 0.28, 0.268, 0.253, 0.237, 0.23199999999999998, 0.22399999999999998, 0.23, 0.22899999999999998, 0.223, 0.215, 0.21, 0.2, 0.196, 0.19399999999999998, 0.192, 0.187, 0.18100000000000002, 0.175, 0.168, 0.163, 0.154, 0.152, 0.15, 0.14800000000000002, 0.147, 0.192, 0.188, 0.177, 0.165, 0.159, 0.154, 0.14800000000000002, 0.153, 0.18, 0.174, 0.272, 0.263, 0.252, 0.23800000000000002, 0.226, 0.21600000000000003, 0.204, 0.19, 0.19699999999999998, 0.262, 0.24100000000000002, 0.29600000000000004, 0.261, 0.32, 0.29600000000000004, 0.27899999999999997, 0.264, 0.251, 0.24100000000000002, 0.228, 0.215, 0.20199999999999999, 0.191, 0.184, 0.177, 0.16899999999999998, 0.163, 0.159, 0.156, 0.152, 0.146, 0.14300000000000002, 0.141, 0.141, 0.139, 0.13699999999999998, 0.13699999999999998, 0.13699999999999998, 0.134, 0.134, 0.134, 0.133, 0.133, 0.131, 0.13, 0.126, 0.126, 0.12300000000000001, 0.12, 0.11800000000000001, 0.11800000000000001, 0.11599999999999999, 0.115, 0.113, 0.109, 0.109, 0.111, 0.11199999999999999, 0.111, 0.111, 0.109, 0.106, 0.105, 0.10400000000000001, 0.10400000000000001, 0.105, 0.106, 0.10800000000000001, 0.107, 0.105, 0.10400000000000001, 0.10099999999999999, 0.1, 0.098, 0.096, 0.09699999999999999, 0.099, 0.09699999999999999, 0.09699999999999999, 0.096, 0.09699999999999999, 0.096, 0.09300000000000001, 0.094, 0.096, 0.096, 0.09699999999999999, 0.09699999999999999, 0.096, 0.094, 0.094, 0.095, 0.09699999999999999, 0.094, 0.094, 0.094, 0.094, 0.095, 0.094, 0.111, 0.10800000000000001, 0.107, 0.107, 0.109, 0.10800000000000001, 0.11, 0.113, 0.114, 0.11599999999999999, 0.11599999999999999, 0.11699999999999999, 0.11699999999999999, 0.11699999999999999, 0.11599999999999999, 0.114, 0.113, 0.111, 0.10800000000000001, 0.107, 0.10800000000000001, 0.10099999999999999, 0.1, 0.10300000000000001, 0.102, 0.10099999999999999, 0.1, 0.09699999999999999, 0.09300000000000001, 0.092, 0.09300000000000001, 0.09300000000000001, 0.09300000000000001, 0.08900000000000001, 0.087, 0.087, 0.08800000000000001, 0.091, 0.09, 0.091, 0.08900000000000001, 0.087, 0.086, 0.087, 0.09, 0.092, 0.09300000000000001, 0.095, 0.096, 0.094, 0.09300000000000001, 0.09300000000000001, 0.09699999999999999, 0.09699999999999999, 0.08900000000000001, 0.087, 0.09, 0.08900000000000001, 0.08900000000000001, 0.094, 0.092, 0.091, 0.161, 0.188, 0.195, 0.19699999999999998, 0.195, 0.2, 0.201, 0.258, 0.249, 0.247, 0.249, 0.245, 0.24100000000000002, 0.23800000000000002, 0.23600000000000002, 0.24600000000000002, 0.242, 0.237, 0.267, 0.256, 0.257, 0.272, 0.257, 0.25, 0.244, 0.27399999999999997, 0.262, 0.257, 0.254, 0.254, 0.252, 0.253, 0.257, 0.255, 0.251, 0.24600000000000002, 0.243, 0.24, 0.267, 0.255, 0.255, 0.266, 0.255, 0.25, 0.25, 0.25, 0.249, 0.25, 0.244, 0.244, 0.24600000000000002, 0.245, 0.244, 0.245, 0.247, 0.245, 0.24100000000000002, 0.24, 0.23800000000000002, 0.23399999999999999, 0.23199999999999998, 0.23, 0.228, 0.226, 0.225, 0.225, 0.225, 0.222, 0.22, 0.21899999999999997, 0.21899999999999997, 0.21899999999999997, 0.218, 0.22399999999999998, 0.22, 0.221, 0.265, 0.253, 0.25, 0.251, 0.25, 0.245, 0.239, 0.23800000000000002, 0.23600000000000002, 0.233, 0.23, 0.23399999999999999, 0.264, 0.259, 0.251, 0.247, 0.24600000000000002, 0.24600000000000002, 0.243, 0.24100000000000002, 0.242, 0.242, 0.23600000000000002, 0.23199999999999998, 0.22899999999999998, 0.22899999999999998, 0.228, 0.22699999999999998, 0.226, 0.226, 0.22699999999999998, 0.225, 0.223, 0.222, 0.221, 0.22, 0.21899999999999997, 0.21899999999999997, 0.21899999999999997, 0.217, 0.215, 0.21600000000000003, 0.21600000000000003, 0.21600000000000003, 0.213, 0.24600000000000002, 0.243, 0.23800000000000002, 0.235, 0.237, 0.235, 0.231, 0.228, 0.223, 0.222, 0.222, 0.222, 0.217, 0.21600000000000003, 0.214, 0.21100000000000002, 0.212, 0.212, 0.213, 0.213, 0.209, 0.207, 0.20600000000000002, 0.20600000000000002, 0.207, 0.205, 0.204, 0.205, 0.201, 0.195, 0.193, 0.19, 0.18899999999999997, 0.19, 0.18899999999999997, 0.188, 0.188, 0.18899999999999997, 0.191, 0.196, 0.198, 0.193, 0.195, 0.193, 0.244, 0.233, 0.228, 0.223, 0.21899999999999997, 0.213, 0.237, 0.233, 0.231, 0.231, 0.231, 0.22899999999999998, 0.228, 0.223, 0.221, 0.218, 0.218, 0.21600000000000003, 0.217, 0.212, 0.212, 0.21100000000000002, 0.209, 0.20800000000000002, 0.20600000000000002, 0.20600000000000002, 0.207, 0.209, 0.2, 0.19399999999999998, 0.192, 0.193, 0.19399999999999998, 0.196, 0.198, 0.19399999999999998, 0.19, 0.18899999999999997, 0.18899999999999997, 0.18600000000000003, 0.18, 0.17800000000000002, 0.177, 0.174, 0.171, 0.166, 0.158, 0.14800000000000002, 0.14400000000000002, 0.138, 0.139, 0.139, 0.138, 0.13699999999999998, 0.133, 0.132, 0.13, 0.127, 0.128, 0.128, 0.126, 0.12300000000000001, 0.122, 0.11800000000000001, 0.12, 0.124, 0.127, 0.127, 0.132, 0.136, 0.139, 0.142, 0.14, 0.13699999999999998, 0.132, 0.13, 0.12300000000000001, 0.12300000000000001, 0.122, 0.11900000000000001, 0.11900000000000001, 0.113, 0.113, 0.114, 0.115, 0.114, 0.10800000000000001, 0.109, 0.10800000000000001, 0.10800000000000001, 0.106, 0.105, 0.106, 0.10400000000000001, 0.105, 0.102, 0.107, 0.111, 0.109, 0.106, 0.106, 0.106, 0.10400000000000001, 0.10400000000000001, 0.105, 0.105, 0.106, 0.106, 0.10400000000000001, 0.10400000000000001, 0.102, 0.102, 0.10099999999999999, 0.098, 0.096, 0.095, 0.095, 0.096, 0.099, 0.098, 0.098, 0.09699999999999999, 0.096, 0.094, 0.09300000000000001, 0.096, 0.094, 0.095, 0.096, 0.098, 0.122, 0.135, 0.14300000000000002, 0.149, 0.152, 0.153, 0.149, 0.147, 0.15, 0.14800000000000002, 0.14400000000000002, 0.141, 0.141, 0.141, 0.139, 0.138, 0.134, 0.138, 0.135, 0.139, 0.14, 0.14400000000000002, 0.14400000000000002, 0.14800000000000002, 0.15, 0.14800000000000002, 0.19699999999999998, 0.204, 0.204, 0.201, 0.20199999999999999, 0.19899999999999998, 0.198, 0.198, 0.19899999999999998, 0.19899999999999998, 0.193, 0.191, 0.19399999999999998, 0.191, 0.18899999999999997, 0.18899999999999997, 0.18899999999999997, 0.18899999999999997, 0.183, 0.182, 0.188, 0.183, 0.17800000000000002, 0.166, 0.165, 0.16699999999999998, 0.166, 0.162, 0.21899999999999997, 0.235, 0.226, 0.27899999999999997, 0.271, 0.259, 0.253, 0.251, 0.248, 0.247, 0.245, 0.244, 0.247, 0.24, 0.233, 0.23199999999999998, 0.22399999999999998, 0.221, 0.21899999999999997, 0.21100000000000002, 0.21100000000000002, 0.209, 0.21100000000000002, 0.209, 0.265, 0.257, 0.24600000000000002, 0.23800000000000002, 0.239, 0.23600000000000002, 0.233, 0.268, 0.26899999999999996, 0.263, 0.255, 0.249, 0.252, 0.251, 0.27899999999999997, 0.26899999999999996, 0.266, 0.29, 0.281, 0.27, 0.258, 0.252, 0.253, 0.249, 0.247, 0.248, 0.253, 0.24600000000000002, 0.251, 0.248, 0.252, 0.249, 0.24600000000000002, 0.244, 0.239, 0.235, 0.309, 0.299, 0.305, 0.287, 0.273, 0.267, 0.264, 0.262, 0.255, 0.251, 0.24600000000000002, 0.244, 0.243, 0.24100000000000002, 0.23800000000000002, 0.245, 0.24600000000000002, 0.244, 0.242, 0.24100000000000002, 0.239, 0.24, 0.239, 0.23600000000000002, 0.235, 0.23399999999999999, 0.23399999999999999, 0.248, 0.256, 0.26899999999999996, 0.261, 0.255, 0.244, 0.24, 0.24, 0.23800000000000002, 0.239, 0.262, 0.258, 0.257, 0.264, 0.271, 0.27399999999999997, 0.275, 0.275, 0.271, 0.262, 0.258, 0.252, 0.247, 0.248, 0.268, 0.261, 0.26, 0.254, 0.252, 0.252, 0.244, 0.24, 0.239, 0.242, 0.23199999999999998, 0.22699999999999998, 0.225, 0.22399999999999998, 0.22399999999999998, 0.223, 0.221, 0.223, 0.218, 0.218, 0.215, 0.217, 0.21600000000000003, 0.26, 0.252, 0.251, 0.24600000000000002, 0.23800000000000002, 0.23199999999999998, 0.23, 0.22699999999999998, 0.22699999999999998, 0.22699999999999998, 0.23, 0.225, 0.218, 0.215, 0.257, 0.28600000000000003, 0.272, 0.266, 0.262, 0.257, 0.262, 0.267, 0.262, 0.256, 0.248, 0.242, 0.23800000000000002, 0.237, 0.233, 0.226, 0.22699999999999998, 0.22699999999999998, 0.225, 0.225, 0.228, 0.29, 0.27899999999999997, 0.287, 0.278, 0.3, 0.28600000000000003, 0.27899999999999997, 0.27, 0.264, 0.262, 0.27699999999999997, 0.282, 0.292, 0.285, 0.273, 0.267, 0.304, 0.292, 0.284, 0.27699999999999997, 0.27, 0.262, 0.254, 0.249, 0.243, 0.24100000000000002, 0.235, 0.23, 0.223, 0.213, 0.20600000000000002, 0.2, 0.198, 0.2, 0.195, 0.191, 0.188, 0.249, 0.282, 0.261, 0.245, 0.233, 0.223, 0.215, 0.209, 0.201, 0.19699999999999998, 0.19, 0.18100000000000002, 0.177, 0.172, 0.168, 0.165, 0.16399999999999998, 0.163, 0.158, 0.156, 0.157, 0.157, 0.152, 0.149, 0.15, 0.14800000000000002, 0.163, 0.157, 0.151, 0.14800000000000002, 0.14, 0.13699999999999998, 0.13699999999999998, 0.138, 0.138, 0.13699999999999998, 0.13699999999999998, 0.13699999999999998, 0.138, 0.138, 0.138, 0.139, 0.138, 0.133, 0.133, 0.132, 0.133, 0.135, 0.14300000000000002, 0.171, 0.17300000000000001, 0.171, 0.17, 0.17300000000000001, 0.174, 0.16899999999999998, 0.172, 0.163, 0.165, 0.16699999999999998, 0.16899999999999998, 0.16699999999999998, 0.168, 0.165, 0.166, 0.166, 0.16399999999999998, 0.16699999999999998, 0.166, 0.165, 0.162, 0.166, 0.16399999999999998, 0.166, 0.16699999999999998, 0.17, 0.177, 0.171, 0.17, 0.16699999999999998, 0.16699999999999998, 0.16399999999999998, 0.16, 0.162, 0.16399999999999998, 0.2, 0.192, 0.18899999999999997, 0.185, 0.18100000000000002, 0.18100000000000002, 0.174, 0.17, 0.172, 0.174, 0.174, 0.17800000000000002, 0.179, 0.183, 0.184, 0.184, 0.179, 0.179, 0.18100000000000002, 0.183, 0.187, 0.191, 0.188, 0.187, 0.18, 0.18100000000000002, 0.184, 0.184, 0.179, 0.18, 0.18, 0.17600000000000002, 0.18100000000000002, 0.177, 0.17800000000000002, 0.184, 0.185, 0.18600000000000003, 0.185, 0.18600000000000003, 0.188, 0.188, 0.191, 0.188, 0.185, 0.21899999999999997, 0.29100000000000004, 0.308, 0.316, 0.316, 0.304, 0.301, 0.308, 0.306, 0.307, 0.31, 0.315, 0.312, 0.305, 0.267, 0.289, 0.315, 0.32299999999999995, 0.326, 0.31, 0.299, 0.313, 0.313, 0.317, 0.301, 0.318, 0.317, 0.32, 0.32, 0.318, 0.4, 0.462, 0.48700000000000004, 0.45899999999999996, 0.439, 0.43700000000000006, 0.424, 0.41700000000000004, 0.423, 0.423, 0.414, 0.41600000000000004, 0.42, 0.419, 0.41600000000000004, 0.4, 0.405, 0.47600000000000003, 0.503, 0.47100000000000003, 0.504, 0.473, 0.46799999999999997, 0.46, 0.46399999999999997, 0.46, 0.473, 0.475, 0.45299999999999996, 0.451, 0.452, 0.442, 0.42700000000000005, 0.42100000000000004, 0.42100000000000004, 0.41600000000000004, 0.42100000000000004, 0.433, 0.502, 0.478, 0.47100000000000003, 0.466, 0.452, 0.449, 0.43200000000000005, 0.449, 0.434, 0.428, 0.444, 0.434, 0.426, 0.444, 0.474, 0.46, 0.45799999999999996, 0.45899999999999996, 0.466, 0.461, 0.445, 0.44799999999999995, 0.47100000000000003, 0.47, 0.485, 0.488, 0.48, 0.473, 0.45399999999999996, 0.43799999999999994, 0.431, 0.479, 0.461, 0.44799999999999995, 0.449], \"xaxis\": \"x\", \"xbins\": {\"end\": 0.504, \"size\": 1.0, \"start\": 0.085}, \"yaxis\": \"y\"}, {\"autobinx\": false, \"histnorm\": \"probability density\", \"legendgroup\": \"SMC2\", \"marker\": {\"color\": \"rgb(255, 127, 14)\"}, \"name\": \"SMC2\", \"opacity\": 0.7, \"type\": \"histogram\", \"x\": [0.195, 0.19399999999999998, 0.192, 0.18600000000000003, 0.18899999999999997, 0.19, 0.188, 0.18600000000000003, 0.184, 0.183, 0.183, 0.177, 0.174, 0.177, 0.17600000000000002, 0.175, 0.172, 0.16899999999999998, 0.166, 0.16399999999999998, 0.159, 0.153, 0.14800000000000002, 0.146, 0.14400000000000002, 0.145, 0.14300000000000002, 0.14400000000000002, 0.141, 0.14, 0.13699999999999998, 0.132, 0.13, 0.11199999999999999, 0.11199999999999999, 0.109, 0.109, 0.107, 0.107, 0.10800000000000001, 0.10800000000000001, 0.107, 0.10300000000000001, 0.10099999999999999, 0.099, 0.10099999999999999, 0.098, 0.11199999999999999, 0.11199999999999999, 0.109, 0.109, 0.107, 0.107, 0.10800000000000001, 0.10800000000000001, 0.107, 0.10300000000000001, 0.10099999999999999, 0.099, 0.10099999999999999, 0.098, 0.099, 0.102, 0.10300000000000001, 0.10300000000000001, 0.10099999999999999, 0.099, 0.1, 0.102, 0.10300000000000001, 0.10099999999999999, 0.149, 0.146, 0.145, 0.14400000000000002, 0.142, 0.14300000000000002, 0.139, 0.132, 0.132, 0.132, 0.13, 0.132, 0.131, 0.13, 0.13, 0.124, 0.128, 0.127, 0.127, 0.129, 0.129, 0.13, 0.128, 0.12300000000000001, 0.11800000000000001, 0.11699999999999999, 0.11599999999999999, 0.11599999999999999, 0.11699999999999999, 0.113, 0.11199999999999999, 0.11199999999999999, 0.109, 0.106, 0.106, 0.105, 0.10300000000000001, 0.102, 0.1, 0.096, 0.094, 0.09699999999999999, 0.10099999999999999, 0.1, 0.09699999999999999, 0.09, 0.091, 0.09, 0.091, 0.094, 0.095, 0.096, 0.096, 0.09699999999999999, 0.09699999999999999, 0.096, 0.08800000000000001, 0.23800000000000002, 0.235, 0.22899999999999998, 0.221, 0.222, 0.221, 0.22, 0.215, 0.20800000000000002, 0.204, 0.203, 0.196, 0.188, 0.183, 0.17800000000000002, 0.17300000000000001, 0.16899999999999998, 0.166, 0.158, 0.156, 0.153, 0.14800000000000002, 0.14400000000000002, 0.14, 0.135, 0.132, 0.13, 0.128, 0.126, 0.124, 0.11900000000000001, 0.11900000000000001, 0.115, 0.11199999999999999, 0.109, 0.10800000000000001, 0.10800000000000001, 0.10800000000000001, 0.106, 0.10400000000000001, 0.10300000000000001, 0.10300000000000001, 0.10099999999999999, 0.098, 0.096, 0.095, 0.096, 0.09300000000000001, 0.09, 0.08900000000000001, 0.086, 0.083, 0.085, 0.087, 0.08900000000000001, 0.08900000000000001, 0.09, 0.091, 0.096, 0.098, 0.099, 0.098, 0.09300000000000001, 0.092, 0.08900000000000001, 0.086, 0.087, 0.086, 0.085, 0.085, 0.081, 0.08, 0.079, 0.078, 0.079, 0.077, 0.079, 0.078, 0.078, 0.078, 0.077, 0.075, 0.076, 0.076, 0.076, 0.075, 0.075, 0.076, 0.076, 0.075, 0.075, 0.073, 0.07, 0.07, 0.069, 0.068, 0.068, 0.068, 0.069, 0.069, 0.07200000000000001, 0.07, 0.068, 0.066, 0.066, 0.068, 0.071, 0.067, 0.068, 0.07, 0.071, 0.071, 0.07, 0.069, 0.067, 0.067, 0.065, 0.065, 0.068, 0.179, 0.18100000000000002, 0.18100000000000002, 0.174, 0.17, 0.168, 0.162, 0.161, 0.159, 0.158, 0.158, 0.152, 0.15, 0.149, 0.149, 0.147, 0.145, 0.14300000000000002, 0.142, 0.14300000000000002, 0.14800000000000002, 0.149, 0.149, 0.14, 0.135, 0.132, 0.134, 0.13, 0.129, 0.125, 0.125, 0.12300000000000001, 0.12300000000000001, 0.124, 0.124, 0.129, 0.134, 0.134, 0.177, 0.16699999999999998, 0.16699999999999998, 0.172, 0.171, 0.163, 0.16, 0.158, 0.159, 0.157, 0.156, 0.156, 0.155, 0.155, 0.154, 0.155, 0.157, 0.161, 0.16399999999999998, 0.16699999999999998, 0.166, 0.161, 0.163, 0.16699999999999998, 0.168, 0.166, 0.205, 0.221, 0.21, 0.20600000000000002, 0.20600000000000002, 0.20199999999999999, 0.19699999999999998, 0.21, 0.21100000000000002, 0.20199999999999999, 0.205, 0.201, 0.195, 0.19399999999999998, 0.19399999999999998, 0.195, 0.195, 0.191, 0.192, 0.191, 0.21600000000000003, 0.20600000000000002, 0.201, 0.19899999999999998, 0.195, 0.192, 0.19399999999999998, 0.188, 0.18600000000000003, 0.188, 0.188, 0.18600000000000003, 0.184, 0.182, 0.18100000000000002, 0.18100000000000002, 0.183, 0.182, 0.179, 0.182, 0.184, 0.184, 0.18100000000000002, 0.175, 0.175, 0.172, 0.168, 0.16399999999999998, 0.16, 0.157, 0.156, 0.155, 0.153, 0.218, 0.225, 0.214, 0.226, 0.231, 0.225, 0.217, 0.21, 0.21100000000000002, 0.21, 0.24600000000000002, 0.228, 0.218, 0.24100000000000002, 0.225, 0.235, 0.225, 0.23800000000000002, 0.22399999999999998, 0.214, 0.20800000000000002, 0.201, 0.195, 0.19399999999999998, 0.19, 0.187, 0.18100000000000002, 0.179, 0.17300000000000001, 0.168, 0.161, 0.157, 0.156, 0.154, 0.151, 0.14800000000000002, 0.145, 0.14300000000000002, 0.139, 0.18899999999999997, 0.222, 0.228, 0.23, 0.21899999999999997, 0.251, 0.244, 0.23399999999999999, 0.249, 0.235, 0.222, 0.20199999999999999, 0.18, 0.166, 0.162, 0.19899999999999998, 0.177, 0.161, 0.15, 0.147, 0.142, 0.166, 0.159, 0.152, 0.145, 0.141, 0.135, 0.133, 0.133, 0.131, 0.13, 0.128, 0.124, 0.12300000000000001, 0.12, 0.11599999999999999, 0.11599999999999999, 0.115, 0.114, 0.114, 0.115, 0.115, 0.11599999999999999, 0.11599999999999999, 0.115, 0.115, 0.114, 0.114, 0.115, 0.11699999999999999, 0.14300000000000002, 0.16, 0.16, 0.149, 0.136, 0.129, 0.124, 0.11900000000000001, 0.11699999999999999, 0.11599999999999999, 0.11800000000000001, 0.223, 0.2, 0.266, 0.23800000000000002, 0.225, 0.209, 0.192, 0.172, 0.154, 0.14, 0.132, 0.128, 0.126, 0.124, 0.12300000000000001, 0.121, 0.12, 0.12, 0.11900000000000001, 0.11599999999999999, 0.115, 0.11599999999999999, 0.11599999999999999, 0.11599999999999999, 0.115, 0.115, 0.115, 0.115, 0.114, 0.114, 0.114, 0.113, 0.113, 0.111, 0.11, 0.109, 0.109, 0.107, 0.10400000000000001, 0.10400000000000001, 0.102, 0.10099999999999999, 0.099, 0.17800000000000002, 0.172, 0.172, 0.171, 0.171, 0.16899999999999998, 0.16699999999999998, 0.162, 0.158, 0.153, 0.15, 0.146, 0.14300000000000002, 0.139, 0.135, 0.132, 0.128, 0.125, 0.121, 0.11699999999999999, 0.115, 0.114, 0.11199999999999999, 0.11, 0.109, 0.107, 0.106, 0.10400000000000001, 0.10099999999999999, 0.1, 0.099, 0.098, 0.098, 0.096, 0.095, 0.09300000000000001, 0.092, 0.092, 0.092, 0.09, 0.08900000000000001, 0.08900000000000001, 0.08800000000000001, 0.087, 0.086, 0.085, 0.087, 0.086, 0.087, 0.085, 0.085, 0.086, 0.087, 0.086, 0.085, 0.085, 0.084, 0.085, 0.084, 0.083, 0.08199999999999999, 0.081, 0.081, 0.079, 0.078, 0.079, 0.076, 0.076, 0.078, 0.076, 0.076, 0.076, 0.073, 0.071, 0.07200000000000001, 0.071, 0.071, 0.071, 0.069, 0.068, 0.068, 0.07, 0.07, 0.07, 0.071, 0.071, 0.077, 0.085, 0.086, 0.08800000000000001, 0.08900000000000001, 0.091, 0.09300000000000001, 0.09300000000000001, 0.092, 0.092, 0.091, 0.09300000000000001, 0.094, 0.08900000000000001, 0.087, 0.09, 0.08900000000000001, 0.08900000000000001, 0.092, 0.09, 0.09, 0.195, 0.193, 0.192, 0.191, 0.20199999999999999, 0.203, 0.205, 0.23600000000000002, 0.221, 0.21600000000000003, 0.213, 0.21, 0.207, 0.205, 0.205, 0.20600000000000002, 0.20600000000000002, 0.203, 0.233, 0.221, 0.24, 0.23800000000000002, 0.223, 0.215, 0.21100000000000002, 0.235, 0.223, 0.21899999999999997, 0.21600000000000003, 0.209, 0.207, 0.20600000000000002, 0.205, 0.205, 0.20199999999999999, 0.19899999999999998, 0.19699999999999998, 0.19699999999999998, 0.217, 0.212, 0.212, 0.223, 0.21600000000000003, 0.21100000000000002, 0.21, 0.21, 0.21, 0.21100000000000002, 0.205, 0.204, 0.204, 0.2, 0.198, 0.19899999999999998, 0.19699999999999998, 0.193, 0.184, 0.18100000000000002, 0.179, 0.177, 0.175, 0.17600000000000002, 0.18, 0.18, 0.17800000000000002, 0.17800000000000002, 0.17800000000000002, 0.17800000000000002, 0.17800000000000002, 0.18100000000000002, 0.179, 0.18, 0.239, 0.221, 0.217, 0.22, 0.218, 0.214, 0.21, 0.209, 0.20800000000000002, 0.205, 0.203, 0.20600000000000002, 0.221, 0.221, 0.215, 0.21, 0.21100000000000002, 0.209, 0.209, 0.20600000000000002, 0.20800000000000002, 0.207, 0.203, 0.2, 0.198, 0.19699999999999998, 0.196, 0.19399999999999998, 0.19399999999999998, 0.19399999999999998, 0.2, 0.22399999999999998, 0.218, 0.214, 0.212, 0.209, 0.207, 0.205, 0.20199999999999999, 0.2, 0.198, 0.19699999999999998, 0.196, 0.19399999999999998, 0.192, 0.192, 0.2, 0.2, 0.2, 0.201, 0.2, 0.198, 0.195, 0.192, 0.19, 0.188, 0.187, 0.182, 0.18100000000000002, 0.177, 0.174, 0.17300000000000001, 0.172, 0.171, 0.168, 0.16399999999999998, 0.161, 0.158, 0.158, 0.156, 0.153, 0.151, 0.149, 0.145, 0.141, 0.13699999999999998, 0.134, 0.135, 0.13699999999999998, 0.136, 0.13699999999999998, 0.141, 0.141, 0.14300000000000002, 0.14400000000000002, 0.14300000000000002, 0.139, 0.138, 0.134, 0.14400000000000002, 0.166, 0.16899999999999998, 0.17, 0.166, 0.19699999999999998, 0.217, 0.207, 0.20199999999999999, 0.19899999999999998, 0.195, 0.191, 0.185, 0.177, 0.168, 0.163, 0.156, 0.15, 0.14300000000000002, 0.138, 0.132, 0.13, 0.129, 0.125, 0.12, 0.11699999999999999, 0.11599999999999999, 0.113, 0.106, 0.106, 0.10400000000000001, 0.10400000000000001, 0.10300000000000001, 0.10300000000000001, 0.10099999999999999, 0.099, 0.09699999999999999, 0.09699999999999999, 0.09699999999999999, 0.094, 0.092, 0.091, 0.092, 0.091, 0.091, 0.087, 0.085, 0.079, 0.081, 0.078, 0.08, 0.081, 0.079, 0.078, 0.076, 0.077, 0.075, 0.07400000000000001, 0.07400000000000001, 0.075, 0.07200000000000001, 0.071, 0.071, 0.07, 0.07200000000000001, 0.071, 0.07, 0.071, 0.073, 0.073, 0.073, 0.073, 0.07200000000000001, 0.071, 0.069, 0.069, 0.062, 0.067, 0.066, 0.065, 0.064, 0.06, 0.062, 0.064, 0.063, 0.063, 0.062, 0.068, 0.071, 0.07, 0.068, 0.066, 0.065, 0.064, 0.063, 0.076, 0.08900000000000001, 0.095, 0.095, 0.091, 0.092, 0.092, 0.08900000000000001, 0.085, 0.085, 0.084, 0.08199999999999999, 0.079, 0.076, 0.073, 0.071, 0.07, 0.067, 0.067, 0.064, 0.066, 0.065, 0.064, 0.065, 0.065, 0.065, 0.061, 0.06, 0.06, 0.059000000000000004, 0.06, 0.06, 0.059000000000000004, 0.059000000000000004, 0.188, 0.207, 0.20199999999999999, 0.198, 0.193, 0.18899999999999997, 0.179, 0.172, 0.166, 0.161, 0.152, 0.14400000000000002, 0.138, 0.133, 0.13, 0.124, 0.12, 0.11800000000000001, 0.11599999999999999, 0.113, 0.11199999999999999, 0.111, 0.11199999999999999, 0.115, 0.11699999999999999, 0.11800000000000001, 0.11599999999999999, 0.152, 0.14800000000000002, 0.14800000000000002, 0.14800000000000002, 0.149, 0.147, 0.145, 0.14400000000000002, 0.142, 0.13699999999999998, 0.131, 0.126, 0.124, 0.122, 0.11699999999999999, 0.11599999999999999, 0.114, 0.11199999999999999, 0.107, 0.106, 0.106, 0.10400000000000001, 0.1, 0.095, 0.094, 0.096, 0.096, 0.095, 0.094, 0.145, 0.16399999999999998, 0.237, 0.221, 0.20800000000000002, 0.203, 0.19699999999999998, 0.19699999999999998, 0.195, 0.192, 0.193, 0.19399999999999998, 0.192, 0.185, 0.183, 0.177, 0.17300000000000001, 0.171, 0.165, 0.16399999999999998, 0.162, 0.16399999999999998, 0.161, 0.19899999999999998, 0.198, 0.191, 0.185, 0.185, 0.18600000000000003, 0.183, 0.20600000000000002, 0.217, 0.213, 0.20800000000000002, 0.20199999999999999, 0.204, 0.20199999999999999, 0.20600000000000002, 0.204, 0.203, 0.23, 0.226, 0.215, 0.207, 0.20199999999999999, 0.20199999999999999, 0.198, 0.195, 0.19699999999999998, 0.201, 0.196, 0.19899999999999998, 0.19899999999999998, 0.221, 0.21899999999999997, 0.218, 0.21600000000000003, 0.21600000000000003, 0.213, 0.295, 0.28, 0.27899999999999997, 0.259, 0.249, 0.243, 0.242, 0.239, 0.237, 0.233, 0.23, 0.228, 0.226, 0.225, 0.222, 0.228, 0.228, 0.226, 0.226, 0.226, 0.22399999999999998, 0.22399999999999998, 0.223, 0.218, 0.21899999999999997, 0.222, 0.222, 0.225, 0.23199999999999998, 0.23800000000000002, 0.23600000000000002, 0.231, 0.22, 0.21600000000000003, 0.215, 0.213, 0.21600000000000003, 0.243, 0.248, 0.242, 0.244, 0.25, 0.255, 0.255, 0.251, 0.249, 0.24100000000000002, 0.237, 0.23199999999999998, 0.22699999999999998, 0.226, 0.231, 0.242, 0.24100000000000002, 0.23399999999999999, 0.233, 0.23, 0.223, 0.218, 0.21600000000000003, 0.212, 0.205, 0.19899999999999998, 0.195, 0.191, 0.188, 0.185, 0.182, 0.17800000000000002, 0.174, 0.171, 0.168, 0.165, 0.163, 0.17300000000000001, 0.172, 0.174, 0.17, 0.16399999999999998, 0.161, 0.159, 0.159, 0.159, 0.156, 0.156, 0.154, 0.151, 0.14800000000000002, 0.14400000000000002, 0.29, 0.267, 0.256, 0.249, 0.245, 0.264, 0.27699999999999997, 0.26, 0.247, 0.23399999999999999, 0.21899999999999997, 0.20800000000000002, 0.19899999999999998, 0.184, 0.175, 0.17600000000000002, 0.174, 0.17300000000000001, 0.165, 0.159, 0.244, 0.23199999999999998, 0.217, 0.198, 0.292, 0.262, 0.23600000000000002, 0.215, 0.215, 0.289, 0.28300000000000003, 0.271, 0.247, 0.22899999999999998, 0.203, 0.195, 0.281, 0.24100000000000002, 0.19699999999999998, 0.17600000000000002, 0.172, 0.165, 0.16, 0.153, 0.149, 0.147, 0.14400000000000002, 0.14, 0.139, 0.135, 0.133, 0.131, 0.135, 0.131, 0.129, 0.128, 0.19899999999999998, 0.253, 0.22699999999999998, 0.217, 0.174, 0.153, 0.14300000000000002, 0.13699999999999998, 0.135, 0.133, 0.132, 0.131, 0.128, 0.128, 0.127, 0.128, 0.126, 0.126, 0.125, 0.122, 0.165, 0.13699999999999998, 0.132, 0.129, 0.126, 0.128, 0.125, 0.188, 0.156, 0.145, 0.14, 0.134, 0.133, 0.13, 0.131, 0.129, 0.128, 0.128, 0.127, 0.127, 0.127, 0.127, 0.126, 0.12300000000000001, 0.122, 0.121, 0.122, 0.122, 0.121, 0.121, 0.12, 0.11699999999999999, 0.114, 0.11199999999999999, 0.11199999999999999, 0.11199999999999999, 0.11, 0.11, 0.187, 0.177, 0.17, 0.165, 0.19699999999999998, 0.18600000000000003, 0.177, 0.17, 0.16399999999999998, 0.155, 0.15, 0.142, 0.134, 0.13, 0.128, 0.124, 0.12, 0.11800000000000001, 0.11599999999999999, 0.113, 0.111, 0.11, 0.10800000000000001, 0.106, 0.10300000000000001, 0.1, 0.1, 0.098, 0.099, 0.098, 0.09699999999999999, 0.096, 0.095, 0.195, 0.22899999999999998, 0.214, 0.20600000000000002, 0.201, 0.195, 0.191, 0.188, 0.183, 0.179, 0.174, 0.168, 0.166, 0.166, 0.166, 0.165, 0.163, 0.159, 0.152, 0.147, 0.142, 0.142, 0.14, 0.13699999999999998, 0.136, 0.134, 0.132, 0.129, 0.126, 0.125, 0.125, 0.12300000000000001, 0.122, 0.12, 0.12, 0.11800000000000001, 0.11699999999999999, 0.11800000000000001, 0.252, 0.304, 0.29, 0.256, 0.244, 0.23800000000000002, 0.231, 0.222, 0.21600000000000003, 0.213, 0.207, 0.205, 0.20199999999999999, 0.204, 0.166, 0.162, 0.16, 0.158, 0.157, 0.355, 0.28300000000000003, 0.271, 0.271, 0.258, 0.252, 0.248, 0.245, 0.245, 0.244, 0.24, 0.239, 0.23800000000000002, 0.23800000000000002, 0.244, 0.23800000000000002, 0.26899999999999996, 0.28800000000000003, 0.295, 0.272, 0.297, 0.273, 0.266, 0.259, 0.257, 0.254, 0.253, 0.252, 0.247, 0.244, 0.242, 0.23800000000000002, 0.23399999999999999, 0.231, 0.228, 0.22699999999999998, 0.226, 0.228, 0.29100000000000004, 0.26899999999999996, 0.262, 0.257, 0.251, 0.249, 0.243, 0.24600000000000002, 0.242, 0.239, 0.24, 0.256, 0.249, 0.25, 0.262, 0.255, 0.253, 0.252, 0.263, 0.257, 0.252, 0.252, 0.27699999999999997, 0.268, 0.27, 0.266, 0.261, 0.258, 0.25, 0.244, 0.242, 0.263, 0.254, 0.247, 0.245], \"xaxis\": \"x\", \"xbins\": {\"end\": 0.355, \"size\": 1.0, \"start\": 0.059000000000000004}, \"yaxis\": \"y\"}, {\"autobinx\": false, \"histnorm\": \"probability density\", \"legendgroup\": \"SMC3\", \"marker\": {\"color\": \"rgb(44, 160, 44)\"}, \"name\": \"SMC3\", \"opacity\": 0.7, \"type\": \"histogram\", \"x\": [0.155, 0.151, 0.145, 0.139, 0.142, 0.142, 0.134, 0.129, 0.126, 0.121, 0.115, 0.106, 0.1, 0.1, 0.09699999999999999, 0.094, 0.092, 0.091, 0.08900000000000001, 0.08900000000000001, 0.08800000000000001, 0.083, 0.08, 0.08, 0.08, 0.081, 0.08199999999999999, 0.083, 0.083, 0.085, 0.085, 0.08199999999999999, 0.08, 0.08, 0.081, 0.081, 0.08, 0.08, 0.08199999999999999, 0.085, 0.085, 0.084, 0.08199999999999999, 0.083, 0.08199999999999999, 0.078, 0.078, 0.078, 0.08, 0.078, 0.078, 0.076, 0.075, 0.076, 0.07400000000000001, 0.073, 0.069, 0.064, 0.063, 0.063, 0.061, 0.061, 0.069, 0.073, 0.075, 0.073, 0.067, 0.07, 0.075, 0.07400000000000001, 0.071, 0.064, 0.064, 0.065, 0.069, 0.075, 0.081, 0.08199999999999999, 0.075, 0.075, 0.08, 0.085, 0.087, 0.091, 0.094, 0.09699999999999999, 0.08900000000000001, 0.087, 0.087, 0.085, 0.087, 0.09, 0.091, 0.08900000000000001, 0.083, 0.079, 0.07400000000000001, 0.073, 0.073, 0.07200000000000001, 0.068, 0.069, 0.069, 0.068, 0.068, 0.068, 0.068, 0.067, 0.067, 0.065, 0.063, 0.059000000000000004, 0.064, 0.065, 0.062, 0.06, 0.057, 0.055, 0.057, 0.057, 0.055999999999999994, 0.055999999999999994, 0.06, 0.066, 0.073, 0.07, 0.065, 0.06, 0.22, 0.2, 0.20199999999999999, 0.187, 0.17800000000000002, 0.17300000000000001, 0.166, 0.158, 0.15, 0.145, 0.141, 0.133, 0.12300000000000001, 0.11699999999999999, 0.10800000000000001, 0.10099999999999999, 0.096, 0.091, 0.085, 0.081, 0.078, 0.073, 0.07, 0.068, 0.066, 0.065, 0.064, 0.064, 0.064, 0.064, 0.061, 0.06, 0.057999999999999996, 0.055999999999999994, 0.054000000000000006, 0.054000000000000006, 0.055, 0.055999999999999994, 0.055999999999999994, 0.055999999999999994, 0.055, 0.057, 0.057, 0.055999999999999994, 0.055, 0.055, 0.057999999999999996, 0.057, 0.055, 0.053, 0.052000000000000005, 0.05, 0.053, 0.053, 0.054000000000000006, 0.203, 0.16899999999999998, 0.156, 0.151, 0.146, 0.14300000000000002, 0.141, 0.135, 0.132, 0.132, 0.12300000000000001, 0.12300000000000001, 0.12, 0.11599999999999999, 0.11, 0.102, 0.094, 0.08800000000000001, 0.084, 0.078, 0.07400000000000001, 0.071, 0.066, 0.063, 0.062, 0.06, 0.057, 0.055, 0.055999999999999994, 0.055, 0.055, 0.053, 0.053, 0.054000000000000006, 0.052000000000000005, 0.052000000000000005, 0.052000000000000005, 0.048, 0.047, 0.046, 0.044000000000000004, 0.045, 0.044000000000000004, 0.045, 0.045, 0.05, 0.048, 0.048, 0.044000000000000004, 0.042, 0.046, 0.048, 0.045, 0.045, 0.046, 0.047, 0.049, 0.048, 0.046, 0.043, 0.044000000000000004, 0.040999999999999995, 0.040999999999999995, 0.046, 0.212, 0.20199999999999999, 0.192, 0.174, 0.165, 0.16, 0.153, 0.15, 0.14800000000000002, 0.14400000000000002, 0.14300000000000002, 0.138, 0.135, 0.133, 0.133, 0.132, 0.13, 0.128, 0.126, 0.127, 0.133, 0.131, 0.146, 0.136, 0.133, 0.13, 0.13, 0.126, 0.127, 0.121, 0.121, 0.11900000000000001, 0.11900000000000001, 0.12, 0.11900000000000001, 0.125, 0.128, 0.128, 0.188, 0.16899999999999998, 0.16699999999999998, 0.16899999999999998, 0.16399999999999998, 0.155, 0.151, 0.14800000000000002, 0.147, 0.14400000000000002, 0.142, 0.141, 0.14, 0.139, 0.135, 0.13699999999999998, 0.139, 0.145, 0.14800000000000002, 0.15, 0.147, 0.14800000000000002, 0.151, 0.155, 0.154, 0.149, 0.203, 0.20199999999999999, 0.192, 0.183, 0.18899999999999997, 0.182, 0.17600000000000002, 0.188, 0.196, 0.183, 0.18600000000000003, 0.18100000000000002, 0.17300000000000001, 0.171, 0.172, 0.17300000000000001, 0.172, 0.168, 0.168, 0.188, 0.204, 0.18899999999999997, 0.182, 0.179, 0.175, 0.172, 0.174, 0.16699999999999998, 0.165, 0.165, 0.163, 0.159, 0.157, 0.155, 0.155, 0.153, 0.158, 0.155, 0.151, 0.154, 0.156, 0.155, 0.152, 0.14300000000000002, 0.145, 0.141, 0.136, 0.13, 0.126, 0.122, 0.122, 0.121, 0.11699999999999999, 0.187, 0.20600000000000002, 0.192, 0.193, 0.212, 0.20800000000000002, 0.19899999999999998, 0.18899999999999997, 0.188, 0.188, 0.22, 0.2, 0.192, 0.209, 0.19899999999999998, 0.21, 0.19699999999999998, 0.19899999999999998, 0.193, 0.187, 0.18100000000000002, 0.177, 0.17300000000000001, 0.174, 0.168, 0.166, 0.161, 0.161, 0.154, 0.14800000000000002, 0.139, 0.134, 0.135, 0.131, 0.127, 0.122, 0.11800000000000001, 0.115, 0.111, 0.11, 0.109, 0.128, 0.203, 0.193, 0.221, 0.212, 0.20199999999999999, 0.21600000000000003, 0.204, 0.195, 0.18100000000000002, 0.161, 0.141, 0.132, 0.135, 0.133, 0.124, 0.113, 0.10400000000000001, 0.1, 0.094, 0.091, 0.09300000000000001, 0.092, 0.094, 0.091, 0.092, 0.092, 0.092, 0.091, 0.08900000000000001, 0.087, 0.085, 0.08199999999999999, 0.078, 0.078, 0.08, 0.081, 0.08, 0.08800000000000001, 0.179, 0.152, 0.126, 0.114, 0.105, 0.099, 0.096, 0.09699999999999999, 0.152, 0.213, 0.204, 0.19, 0.17600000000000002, 0.163, 0.152, 0.131, 0.11599999999999999, 0.10800000000000001, 0.205, 0.18600000000000003, 0.23199999999999998, 0.201, 0.239, 0.214, 0.203, 0.19399999999999998, 0.179, 0.158, 0.139, 0.126, 0.11699999999999999, 0.111, 0.109, 0.107, 0.105, 0.10300000000000001, 0.102, 0.10099999999999999, 0.1, 0.094, 0.096, 0.132, 0.12, 0.11199999999999999, 0.11, 0.109, 0.10800000000000001, 0.107, 0.107, 0.107, 0.105, 0.10300000000000001, 0.1, 0.094, 0.091, 0.087, 0.085, 0.079, 0.077, 0.077, 0.07200000000000001, 0.071, 0.07200000000000001, 0.069, 0.069, 0.07, 0.066, 0.065, 0.063, 0.062, 0.06, 0.059000000000000004, 0.057999999999999996, 0.061, 0.062, 0.062, 0.063, 0.062, 0.061, 0.06, 0.055999999999999994, 0.057999999999999996, 0.057, 0.055, 0.055, 0.057, 0.055, 0.055999999999999994, 0.054000000000000006, 0.055, 0.055, 0.052000000000000005, 0.053, 0.053, 0.053, 0.054000000000000006, 0.054000000000000006, 0.054000000000000006, 0.053, 0.052000000000000005, 0.053, 0.053, 0.053, 0.052000000000000005, 0.054000000000000006, 0.054000000000000006, 0.053, 0.053, 0.14, 0.129, 0.121, 0.11599999999999999, 0.113, 0.107, 0.107, 0.106, 0.106, 0.105, 0.10300000000000001, 0.09699999999999999, 0.08900000000000001, 0.08, 0.073, 0.067, 0.065, 0.06, 0.057999999999999996, 0.057, 0.055999999999999994, 0.053, 0.053, 0.055, 0.054000000000000006, 0.054000000000000006, 0.052000000000000005, 0.05, 0.046, 0.045, 0.046, 0.045, 0.046, 0.043, 0.042, 0.042, 0.043, 0.045, 0.044000000000000004, 0.045, 0.044000000000000004, 0.043, 0.102, 0.10800000000000001, 0.11199999999999999, 0.111, 0.111, 0.11199999999999999, 0.109, 0.106, 0.10400000000000001, 0.102, 0.105, 0.10300000000000001, 0.095, 0.092, 0.10300000000000001, 0.124, 0.125, 0.13, 0.124, 0.122, 0.185, 0.17, 0.17, 0.16399999999999998, 0.168, 0.17600000000000002, 0.179, 0.19399999999999998, 0.185, 0.18100000000000002, 0.17600000000000002, 0.17300000000000001, 0.16899999999999998, 0.165, 0.168, 0.175, 0.17300000000000001, 0.168, 0.196, 0.182, 0.18, 0.19699999999999998, 0.182, 0.17300000000000001, 0.16899999999999998, 0.193, 0.182, 0.17800000000000002, 0.17600000000000002, 0.17600000000000002, 0.172, 0.171, 0.175, 0.17300000000000001, 0.168, 0.16399999999999998, 0.161, 0.16, 0.193, 0.179, 0.18, 0.19899999999999998, 0.182, 0.17600000000000002, 0.175, 0.177, 0.17600000000000002, 0.177, 0.17, 0.17, 0.16899999999999998, 0.165, 0.166, 0.16699999999999998, 0.16399999999999998, 0.161, 0.159, 0.158, 0.156, 0.154, 0.152, 0.15, 0.149, 0.14800000000000002, 0.146, 0.147, 0.145, 0.14400000000000002, 0.14300000000000002, 0.142, 0.142, 0.14300000000000002, 0.142, 0.14800000000000002, 0.14400000000000002, 0.146, 0.18899999999999997, 0.17800000000000002, 0.175, 0.17600000000000002, 0.174, 0.16899999999999998, 0.16399999999999998, 0.16399999999999998, 0.161, 0.158, 0.155, 0.158, 0.187, 0.18, 0.17300000000000001, 0.16899999999999998, 0.16399999999999998, 0.161, 0.161, 0.159, 0.153, 0.149, 0.145, 0.14300000000000002, 0.138, 0.134, 0.129, 0.124, 0.125, 0.122, 0.11699999999999999, 0.113, 0.109, 0.106, 0.10300000000000001, 0.099, 0.095, 0.09300000000000001, 0.08900000000000001, 0.08800000000000001, 0.087, 0.087, 0.084, 0.086, 0.083, 0.086, 0.087, 0.09, 0.08900000000000001, 0.087, 0.086, 0.083, 0.08199999999999999, 0.08199999999999999, 0.08199999999999999, 0.079, 0.079, 0.078, 0.076, 0.076, 0.076, 0.078, 0.077, 0.075, 0.073, 0.073, 0.073, 0.075, 0.073, 0.073, 0.07400000000000001, 0.075, 0.07200000000000001, 0.07, 0.069, 0.071, 0.07400000000000001, 0.075, 0.079, 0.081, 0.08199999999999999, 0.086, 0.08900000000000001, 0.087, 0.084, 0.084, 0.08, 0.14400000000000002, 0.129, 0.11699999999999999, 0.11, 0.099, 0.157, 0.19, 0.17, 0.159, 0.14300000000000002, 0.126, 0.115, 0.10800000000000001, 0.099, 0.094, 0.09, 0.087, 0.086, 0.084, 0.078, 0.077, 0.079, 0.08199999999999999, 0.081, 0.08, 0.077, 0.077, 0.073, 0.066, 0.065, 0.065, 0.066, 0.066, 0.068, 0.067, 0.066, 0.063, 0.064, 0.067, 0.063, 0.063, 0.062, 0.064, 0.064, 0.062, 0.06, 0.055999999999999994, 0.053, 0.053, 0.049, 0.055, 0.057999999999999996, 0.055999999999999994, 0.055, 0.054000000000000006, 0.053, 0.052000000000000005, 0.052000000000000005, 0.055, 0.055, 0.055, 0.054000000000000006, 0.055, 0.16, 0.153, 0.145, 0.141, 0.135, 0.131, 0.126, 0.11699999999999999, 0.10400000000000001, 0.091, 0.083, 0.077, 0.07400000000000001, 0.067, 0.07, 0.069, 0.066, 0.065, 0.059000000000000004, 0.061, 0.062, 0.062, 0.061, 0.061, 0.068, 0.066, 0.062, 0.061, 0.061, 0.061, 0.06, 0.061, 0.057, 0.059000000000000004, 0.06, 0.055999999999999994, 0.052000000000000005, 0.054000000000000006, 0.054000000000000006, 0.053, 0.052000000000000005, 0.054000000000000006, 0.055, 0.055999999999999994, 0.057, 0.055999999999999994, 0.055, 0.054000000000000006, 0.055, 0.053, 0.053, 0.051, 0.051, 0.051, 0.052000000000000005, 0.054000000000000006, 0.054000000000000006, 0.055, 0.052000000000000005, 0.052000000000000005, 0.051, 0.051, 0.053, 0.052000000000000005, 0.053, 0.052000000000000005, 0.191, 0.175, 0.17, 0.16399999999999998, 0.159, 0.155, 0.147, 0.14, 0.135, 0.132, 0.124, 0.114, 0.107, 0.10099999999999999, 0.094, 0.087, 0.081, 0.079, 0.079, 0.073, 0.17800000000000002, 0.155, 0.146, 0.191, 0.16899999999999998, 0.157, 0.145, 0.19899999999999998, 0.175, 0.166, 0.157, 0.15, 0.14300000000000002, 0.139, 0.135, 0.133, 0.128, 0.12300000000000001, 0.11900000000000001, 0.11900000000000001, 0.114, 0.109, 0.106, 0.10400000000000001, 0.099, 0.091, 0.08900000000000001, 0.08900000000000001, 0.083, 0.079, 0.07, 0.07200000000000001, 0.11900000000000001, 0.19699999999999998, 0.16699999999999998, 0.24100000000000002, 0.2, 0.179, 0.228, 0.20800000000000002, 0.191, 0.183, 0.18, 0.177, 0.175, 0.17300000000000001, 0.17, 0.16899999999999998, 0.16399999999999998, 0.157, 0.155, 0.147, 0.14300000000000002, 0.14, 0.132, 0.131, 0.132, 0.134, 0.132, 0.183, 0.16899999999999998, 0.162, 0.154, 0.151, 0.14800000000000002, 0.14400000000000002, 0.21100000000000002, 0.203, 0.19399999999999998, 0.187, 0.17800000000000002, 0.179, 0.175, 0.207, 0.193, 0.188, 0.21600000000000003, 0.20800000000000002, 0.196, 0.184, 0.177, 0.177, 0.171, 0.17, 0.17, 0.172, 0.16699999999999998, 0.16899999999999998, 0.172, 0.174, 0.171, 0.166, 0.162, 0.156, 0.152, 0.239, 0.218, 0.225, 0.205, 0.192, 0.18600000000000003, 0.183, 0.182, 0.17600000000000002, 0.17300000000000001, 0.16899999999999998, 0.16899999999999998, 0.16699999999999998, 0.16899999999999998, 0.17, 0.174, 0.174, 0.17300000000000001, 0.171, 0.17, 0.16899999999999998, 0.17, 0.16699999999999998, 0.163, 0.163, 0.163, 0.163, 0.166, 0.188, 0.209, 0.19899999999999998, 0.191, 0.17800000000000002, 0.174, 0.171, 0.16699999999999998, 0.16699999999999998, 0.185, 0.19399999999999998, 0.192, 0.19699999999999998, 0.207, 0.20600000000000002, 0.204, 0.20199999999999999, 0.19699999999999998, 0.187, 0.18100000000000002, 0.174, 0.17, 0.17, 0.16699999999999998, 0.171, 0.171, 0.165, 0.165, 0.163, 0.155, 0.154, 0.151, 0.147, 0.138, 0.132, 0.13, 0.126, 0.124, 0.11900000000000001, 0.115, 0.11199999999999999, 0.106, 0.105, 0.10099999999999999, 0.1, 0.098, 0.17600000000000002, 0.172, 0.168, 0.16, 0.146, 0.139, 0.132, 0.127, 0.121, 0.115, 0.11199999999999999, 0.10800000000000001, 0.10099999999999999, 0.09699999999999999, 0.222, 0.2, 0.18899999999999997, 0.182, 0.174, 0.165, 0.17600000000000002, 0.185, 0.18, 0.16899999999999998, 0.155, 0.13699999999999998, 0.126, 0.11800000000000001, 0.106, 0.1, 0.102, 0.105, 0.10800000000000001, 0.105, 0.10400000000000001, 0.213, 0.20600000000000002, 0.207, 0.19899999999999998, 0.22, 0.217, 0.221, 0.20800000000000002, 0.2, 0.235, 0.223, 0.21899999999999997, 0.22, 0.213, 0.203, 0.196, 0.218, 0.21, 0.201, 0.2, 0.225, 0.21, 0.198, 0.18600000000000003, 0.175, 0.166, 0.156, 0.145, 0.132, 0.11900000000000001, 0.113, 0.11, 0.107, 0.18600000000000003, 0.163, 0.145, 0.134, 0.203, 0.18899999999999997, 0.188, 0.177, 0.163, 0.145, 0.13, 0.11699999999999999, 0.109, 0.105, 0.102, 0.099, 0.09699999999999999, 0.096, 0.094, 0.092, 0.092, 0.09, 0.085, 0.083, 0.08900000000000001, 0.09300000000000001, 0.09, 0.08900000000000001, 0.092, 0.091, 0.087, 0.086, 0.08900000000000001, 0.09, 0.083, 0.08199999999999999, 0.08199999999999999, 0.084, 0.081, 0.081, 0.081, 0.078, 0.076, 0.07400000000000001, 0.073, 0.071, 0.067, 0.066, 0.067, 0.071, 0.073, 0.07200000000000001, 0.071, 0.068, 0.065, 0.064, 0.063, 0.063, 0.064, 0.063, 0.063, 0.059000000000000004, 0.066, 0.067, 0.064, 0.064, 0.063, 0.061, 0.061, 0.06, 0.059000000000000004, 0.06, 0.06, 0.059000000000000004, 0.06, 0.062, 0.061, 0.059000000000000004, 0.059000000000000004, 0.059000000000000004, 0.059000000000000004, 0.061, 0.061, 0.059000000000000004, 0.057999999999999996, 0.059000000000000004, 0.059000000000000004, 0.057, 0.057, 0.057999999999999996, 0.057999999999999996, 0.059000000000000004, 0.059000000000000004, 0.057999999999999996, 0.055999999999999994, 0.055, 0.057, 0.063, 0.066, 0.063, 0.061, 0.061, 0.06, 0.06, 0.059000000000000004, 0.06, 0.06, 0.06, 0.06, 0.059000000000000004, 0.06, 0.057999999999999996, 0.055, 0.051, 0.051, 0.054000000000000006, 0.052000000000000005, 0.052000000000000005, 0.053, 0.053, 0.054000000000000006, 0.052000000000000005, 0.05, 0.051, 0.051, 0.051, 0.051, 0.052000000000000005, 0.053, 0.052000000000000005, 0.053, 0.055, 0.051, 0.151, 0.17, 0.165, 0.16, 0.157, 0.152, 0.14400000000000002, 0.14, 0.142, 0.136, 0.134, 0.133, 0.131, 0.152, 0.149, 0.147, 0.142, 0.14400000000000002, 0.138, 0.135, 0.13, 0.127, 0.12, 0.115, 0.11599999999999999, 0.109, 0.105, 0.10300000000000001, 0.102, 0.10099999999999999, 0.099, 0.163, 0.188, 0.21100000000000002, 0.192, 0.18, 0.177, 0.18, 0.175, 0.175, 0.174, 0.168, 0.165, 0.16399999999999998, 0.162, 0.158, 0.149, 0.151, 0.207, 0.215, 0.195, 0.217, 0.201, 0.19399999999999998, 0.18899999999999997, 0.187, 0.183, 0.18600000000000003, 0.185, 0.177, 0.17300000000000001, 0.172, 0.16699999999999998, 0.161, 0.159, 0.156, 0.155, 0.153, 0.157, 0.209, 0.196, 0.191, 0.187, 0.18, 0.179, 0.172, 0.17600000000000002, 0.171, 0.17, 0.17300000000000001, 0.16699999999999998, 0.16399999999999998, 0.16899999999999998, 0.18899999999999997, 0.179, 0.177, 0.175, 0.183, 0.179, 0.17600000000000002, 0.17800000000000002, 0.19899999999999998, 0.19399999999999998, 0.196, 0.195, 0.18899999999999997, 0.188, 0.18, 0.17300000000000001, 0.171, 0.201, 0.18899999999999997, 0.18100000000000002, 0.18], \"xaxis\": \"x\", \"xbins\": {\"end\": 0.24100000000000002, \"size\": 1.0, \"start\": 0.040999999999999995}, \"yaxis\": \"y\"}, {\"legendgroup\": \"SMC1\", \"marker\": {\"color\": \"rgb(31, 119, 180)\"}, \"mode\": \"lines\", \"name\": \"SMC1\", \"showlegend\": false, \"type\": \"scatter\", \"x\": [0.085, 0.08583800000000001, 0.086676, 0.08751400000000001, 0.088352, 0.08919, 0.09002800000000001, 0.090866, 0.09170400000000001, 0.09254200000000001, 0.09338, 0.09421800000000001, 0.095056, 0.09589400000000001, 0.09673200000000001, 0.09757, 0.09840800000000001, 0.099246, 0.100084, 0.10092200000000001, 0.10176, 0.10259800000000001, 0.103436, 0.104274, 0.10511200000000001, 0.10595, 0.10678800000000001, 0.107626, 0.108464, 0.10930200000000001, 0.11014, 0.11097800000000001, 0.111816, 0.112654, 0.11349200000000001, 0.11433, 0.115168, 0.116006, 0.116844, 0.11768200000000001, 0.11852, 0.119358, 0.120196, 0.121034, 0.12187200000000001, 0.12271000000000001, 0.123548, 0.124386, 0.125224, 0.126062, 0.1269, 0.12773800000000002, 0.12857600000000002, 0.129414, 0.130252, 0.13109, 0.131928, 0.132766, 0.133604, 0.134442, 0.13528, 0.13611800000000002, 0.136956, 0.137794, 0.138632, 0.13947, 0.14030800000000002, 0.141146, 0.141984, 0.142822, 0.14366, 0.14449800000000002, 0.14533600000000002, 0.146174, 0.147012, 0.14784999999999998, 0.148688, 0.149526, 0.150364, 0.151202, 0.15204, 0.15287800000000001, 0.15371600000000002, 0.15455400000000002, 0.155392, 0.15623, 0.15706799999999999, 0.157906, 0.158744, 0.159582, 0.16042, 0.161258, 0.16209600000000002, 0.16293400000000002, 0.163772, 0.16461, 0.16544799999999998, 0.166286, 0.167124, 0.167962, 0.1688, 0.169638, 0.17047600000000002, 0.171314, 0.17215200000000003, 0.17299, 0.173828, 0.174666, 0.175504, 0.176342, 0.17718, 0.178018, 0.17885600000000001, 0.17969400000000002, 0.180532, 0.18136999999999998, 0.182208, 0.183046, 0.183884, 0.184722, 0.18556, 0.186398, 0.187236, 0.18807400000000002, 0.188912, 0.18975, 0.19058799999999998, 0.191426, 0.192264, 0.193102, 0.19394, 0.194778, 0.195616, 0.19645400000000002, 0.19729200000000002, 0.19813, 0.19896799999999998, 0.19980599999999998, 0.200644, 0.201482, 0.20232, 0.203158, 0.203996, 0.204834, 0.20567200000000002, 0.20651, 0.207348, 0.20818599999999998, 0.209024, 0.209862, 0.2107, 0.211538, 0.212376, 0.21321400000000001, 0.21405200000000002, 0.21488999999999997, 0.21572800000000003, 0.21656600000000004, 0.217404, 0.218242, 0.21908, 0.219918, 0.220756, 0.221594, 0.22243200000000002, 0.22326999999999997, 0.22410800000000003, 0.22494599999999998, 0.22578399999999998, 0.226622, 0.22746, 0.228298, 0.229136, 0.229974, 0.23081200000000002, 0.23165000000000002, 0.23248800000000003, 0.23332599999999998, 0.23416399999999998, 0.235002, 0.23584, 0.236678, 0.237516, 0.238354, 0.23919200000000002, 0.24003000000000002, 0.24086800000000003, 0.24170599999999998, 0.24254399999999998, 0.243382, 0.24422, 0.245058, 0.245896, 0.246734, 0.24757200000000001, 0.24841000000000002, 0.24924799999999997, 0.250086, 0.25092400000000004, 0.251762, 0.2526, 0.253438, 0.254276, 0.255114, 0.255952, 0.25679, 0.25762799999999997, 0.258466, 0.25930400000000003, 0.260142, 0.26098, 0.261818, 0.262656, 0.263494, 0.264332, 0.26517, 0.26600799999999997, 0.266846, 0.267684, 0.268522, 0.26936, 0.270198, 0.271036, 0.271874, 0.272712, 0.27355, 0.274388, 0.275226, 0.276064, 0.276902, 0.27774, 0.278578, 0.279416, 0.280254, 0.281092, 0.28192999999999996, 0.282768, 0.283606, 0.284444, 0.285282, 0.28612, 0.286958, 0.287796, 0.288634, 0.289472, 0.29031, 0.291148, 0.291986, 0.292824, 0.293662, 0.2945, 0.295338, 0.296176, 0.297014, 0.297852, 0.29869, 0.299528, 0.30036599999999997, 0.30120399999999997, 0.30204200000000003, 0.30288, 0.303718, 0.304556, 0.305394, 0.306232, 0.30707, 0.307908, 0.30874599999999996, 0.309584, 0.310422, 0.31126, 0.312098, 0.312936, 0.313774, 0.314612, 0.31545, 0.316288, 0.317126, 0.317964, 0.318802, 0.31964, 0.320478, 0.321316, 0.322154, 0.322992, 0.32383, 0.32466799999999996, 0.325506, 0.326344, 0.327182, 0.32802, 0.328858, 0.329696, 0.330534, 0.331372, 0.33221, 0.333048, 0.333886, 0.334724, 0.335562, 0.3364, 0.33723800000000004, 0.338076, 0.338914, 0.339752, 0.34059, 0.341428, 0.34226599999999996, 0.343104, 0.343942, 0.34478, 0.34561800000000004, 0.34645600000000004, 0.347294, 0.34813200000000005, 0.34897, 0.349808, 0.350646, 0.351484, 0.352322, 0.35316, 0.35399800000000003, 0.35483600000000004, 0.355674, 0.356512, 0.35735, 0.358188, 0.359026, 0.359864, 0.360702, 0.36154, 0.36237800000000003, 0.36321600000000004, 0.364054, 0.364892, 0.36573, 0.366568, 0.367406, 0.368244, 0.369082, 0.36992, 0.370758, 0.37159600000000004, 0.372434, 0.373272, 0.37411000000000005, 0.374948, 0.375786, 0.376624, 0.377462, 0.3783, 0.379138, 0.37997600000000004, 0.380814, 0.381652, 0.38249000000000005, 0.383328, 0.384166, 0.38500399999999996, 0.385842, 0.38668, 0.387518, 0.38835600000000003, 0.389194, 0.390032, 0.39087000000000005, 0.391708, 0.392546, 0.393384, 0.394222, 0.39506, 0.39589799999999997, 0.39673600000000003, 0.39757400000000004, 0.398412, 0.39925, 0.400088, 0.400926, 0.401764, 0.402602, 0.40344, 0.40427799999999997, 0.40511600000000003, 0.40595400000000004, 0.406792, 0.40763, 0.408468, 0.409306, 0.410144, 0.410982, 0.41182, 0.412658, 0.413496, 0.41433400000000004, 0.415172, 0.41601, 0.41684800000000005, 0.417686, 0.418524, 0.419362, 0.4202, 0.421038, 0.421876, 0.42271400000000003, 0.423552, 0.42439, 0.42522800000000005, 0.426066, 0.426904, 0.42774199999999996, 0.42858, 0.429418, 0.43025599999999997, 0.43109400000000003, 0.431932, 0.43277, 0.43360800000000005, 0.434446, 0.435284, 0.436122, 0.43696, 0.437798, 0.43863599999999997, 0.43947400000000003, 0.44031200000000004, 0.44115, 0.441988, 0.442826, 0.443664, 0.444502, 0.44534, 0.446178, 0.44701599999999997, 0.44785400000000003, 0.44869200000000004, 0.44953, 0.450368, 0.451206, 0.452044, 0.452882, 0.45372, 0.454558, 0.45539599999999997, 0.456234, 0.45707200000000003, 0.45791, 0.458748, 0.45958600000000005, 0.460424, 0.461262, 0.4621, 0.462938, 0.463776, 0.46461399999999997, 0.46545200000000003, 0.46629, 0.467128, 0.46796600000000005, 0.468804, 0.469642, 0.47047999999999995, 0.471318, 0.472156, 0.47299399999999997, 0.47383200000000003, 0.47467, 0.475508, 0.47634600000000005, 0.477184, 0.478022, 0.47885999999999995, 0.479698, 0.480536, 0.48137399999999997, 0.48221200000000003, 0.48305000000000003, 0.483888, 0.48472600000000005, 0.485564, 0.486402, 0.48724, 0.488078, 0.488916, 0.48975399999999997, 0.49059200000000003, 0.49143000000000003, 0.492268, 0.493106, 0.493944, 0.494782, 0.49562, 0.496458, 0.497296, 0.49813399999999997, 0.498972, 0.49981000000000003, 0.500648, 0.501486, 0.502324, 0.503162], \"xaxis\": \"x\", \"y\": [2.6449789548728795, 2.7360511083085206, 2.8265200014553074, 2.916160913488833, 3.0047499354572853, 3.092065280571014, 3.1778885907700665, 3.2620062275807387, 3.344210535368626, 3.4243010653420276, 3.5020857490537245, 3.577382010685519, 3.650017808071795, 3.7198325932159952, 3.7866781839662527, 3.850419539530218, 3.9109354336099584, 3.9681190201095426, 4.021878287593819, 4.072136399939172, 4.118831921897534, 4.161918929575499, 4.201367007092748, 4.237161131910633, 4.269301452495581, 4.297802963087227, 4.322695081362897, 4.344021135715377, 4.361837769677833, 4.37621427172901, 4.387231839285274, 4.3949827861282955, 4.399569702824473, 4.401104579863142, 4.399707903276169, 4.395507732404282, 4.388638769250549, 4.379241428515534, 4.367460916950456, 4.353446330104426, 4.337349773891114, 4.31932551767205, 4.299529184761895, 4.278116985420092, 4.255244996518443, 4.231068491180543, 4.205741320792021, 4.179415350894918, 4.152239951619833, 4.124361542489087, 4.09592319065563, 4.067064260937058, 4.037920115371608, 4.008621859471781, 3.979296131887616, 3.9500649338205966, 3.921045494253225, 3.892350166879938, 3.8640863545408517, 3.8363564569686313, 3.8092578377558373, 3.78288280662971, 3.757318613375874, 3.7326474500733293, 3.708946458680648, 3.6862877414367423, 3.6647383719980606, 3.6443604057157977, 3.6252108879502543, 3.6073418598132987, 3.590800361212911, 3.575628431535489, 3.5618631087324113, 3.549536427968419, 3.53867542133331, 3.5293021204088695, 3.521433563714959, 3.515081811228791, 3.510253968277462, 3.506952221145251, 3.5051738867146107, 3.504911478375274, 3.5061527902926977, 3.50888100192938, 3.5130748044657416, 3.5187085504771454, 3.5257524278969177, 3.534172658938918, 3.543931724274541, 3.5549886123654373, 3.5672990934520055, 3.5808160172958945, 3.5954896333791724, 3.6112679318797585, 3.62809700337794, 3.6459214149075674, 3.6646845996522543, 3.684329257305737, 3.7047977618693864, 3.726032573451621, 3.7479766504654273, 3.7705738584928112, 3.793769371999723, 3.817510065042259, 3.841744887104668, 3.8664252202517693, 3.8915052138620716, 3.9169420933324206, 3.9426964393092816, 3.968732434204667, 3.9950180729946814, 4.0215253355743075, 4.048230318251407, 4.0751133223042615, 4.10215889789795, 4.129355842053094, 4.15669714978325, 4.184179917961408, 4.211805201938176, 4.239577825410483, 4.267506144525722, 4.295601767697502, 4.3238792331004205, 4.352355646297144, 4.3810502809255345, 4.4099841458307445, 4.439179522460499, 4.468659476745072, 4.498447350050019, 4.528566234113632, 4.559038435155916, 4.589884932566554, 4.621124837740318, 4.652774858725792, 4.684848776383399, 4.717356937709071, 4.750305771869172, 4.783697334310052, 4.817528884052851, 4.851792498963174, 4.886474733399317, 4.921556322196693, 4.957011934445826, 4.992809979973546, 5.0289124708501545, 5.065274939627642, 5.101846415375491, 5.138569457930557, 5.175380250126677, 5.21220874712796, 5.248978881367279, 5.285608820998136, 5.322011279212716, 5.358093871270139, 5.393759515623716, 5.428906875140789, 5.463430834078511, 5.497223006216863, 5.530172269359154, 5.562165321290087, 5.593087252232191, 5.622822128860359, 5.6512535850182175, 5.678265414424162, 5.703742160853604, 5.727569701530453, 5.749635819747705, 5.769830763056473, 5.788047783706487, 5.804183658380672, 5.818139184633944, 5.82981965181354, 5.8391352845979645, 5.8460016576371725, 5.8503400801019145, 5.8520779492505, 5.851149072392503, 5.847493956868397, 5.841060067870047, 5.831802054098816, 5.819681941396243, 5.804669294588301, 5.786741347860595, 5.765883104031686, 5.742087403118917, 5.715354960600053, 5.685694375769432, 5.653122110574147, 5.617662439298846, 5.579347369452026, 5.538216534196306, 5.494317056664889, 5.447703386518633, 5.398437109126994, 5.346586727802499, 5.2922274195845, 5.235440765153905, 5.1763144535660475, 5.114941962613017, 5.051422215767515, 4.98585921681526, 4.918361663449365, 4.849042541273546, 4.778018699838758, 4.7054104125147616, 4.631340922170376, 4.55593597479955, 4.479323343380554, 4.401632344388991, 4.322993349498147, 4.2435372950896095, 4.163395192260945, 4.082697640052431, 4.001574344621985, 3.9201536470741267, 3.8385620625963104, 3.756923833474483, 3.6753604984506185, 3.5939904807505534, 3.5129286969520996, 3.432286188685626, 3.352169778963214, 3.2726817547233247, 3.1939195769580597, 3.1159756195636614, 3.0389369378253135, 2.9628850672181524, 2.887895852980631, 2.814039310697297, 2.7413795179179776, 2.6699745366417025, 2.599876366308053, 2.5311309267675703, 2.463778070547043, 2.397851623585418, 2.3333794534919563, 2.2703835642692187, 2.2088802163494154, 2.1488800707118156, 2.0903883557806995, 2.033405055745867, 1.977925118899327, 1.923938684541367, 1.8714313269746867, 1.820384315075282, 1.7707748859021344, 1.7225765307830656, 1.675759292290652, 1.6302900704990315, 1.5861329368896222, 1.5432494542510167, 1.5015990008957798, 1.461139097495544, 1.421825734815886, 1.383613700615569, 1.3464569039618408, 1.3103086952061027, 1.275122179863998, 1.2408505246523043, 1.207447253953633, 1.1748665350103036, 1.143063450192224, 1.1119942547416346, 1.081616618470614, 1.0518898499766625, 1.0227751020473606, 0.9942355570472855, 0.9662365912187763, 0.9387459169819644, 0.9117337024878104, 0.8851726678590147, 0.8590381577462947, 0.8333081900288851, 0.8079634806965394, 0.7829874451626201, 0.7583661764716585, 0.734088401076808, 0.7101454130701761, 0.6865309879489724, 0.663241277189707, 0.6402746850788097, 0.617631729407979, 0.5953148877841682, 0.573328431425212, 0.5516782484106774, 0.5303716584324584, 0.5094172211396453, 0.4888245401966541, 0.46860406517251124, 0.4487668933523914, 0.4293245735109842, 0.4102889136118564, 0.39167179429898386, 0.3734849899281306, 0.3557399987484521, 0.33844788369106144, 0.3216191250539685, 0.30526348619420013, 0.28938989315113645, 0.2740063289328402, 0.2591197430022792, 0.24473597630583088, 0.2308597019948238, 0.21749438180480032, 0.2046422378791967, 0.1923042396560424, 0.18048010528047384, 0.16916831686361636, 0.1583661487812164, 0.14806970809442707, 0.13827398608092578, 0.1289729197877052, 0.12015946245747257, 0.11182566163840627, 0.10396274376188515, 0.09656120396375167, 0.08961089993107794, 0.08310114857710893, 0.07702082438079486, 0.07135845827286968, 0.06610233600619757, 0.061240595012710106, 0.05676131882109703, 0.052652628186920354, 0.04890276816862022, 0.04550019046733844, 0.04243363043436942, 0.03969217823601126, 0.03726534375045603, 0.035143114854127584, 0.03331600883460691, 0.03177511674322371, 0.030512140571942525, 0.029519423205825197, 0.028789971163814616, 0.028317470196645413, 0.02809629386128445, 0.028121505236508276, 0.028388851984180348, 0.028894754995768653, 0.029636290893972607, 0.030611168685411, 0.03181770088260451, 0.03325476943244294, 0.0349217868044711, 0.03681865260612254, 0.03894570610399461, 0.041303675040825716, 0.04389362114740337, 0.04671688275761113, 0.049775014943443725, 0.05306972759535808, 0.056602821881923664, 0.06037612553141113, 0.06439142738678293, 0.06865041169429187, 0.07315459259448964, 0.07790524929254514, 0.0829033623920103, 0.08814955188224462, 0.09364401727397631, 0.09938648037958882, 0.10537613123399582, 0.11161157764790491, 0.11809079887729892, 0.124811103880478, 0.13176909461655686, 0.1389606348164027, 0.14638082462818156, 0.15402398150477226, 0.16188362765897676, 0.16995248436467142, 0.17822247332789803, 0.18668472529146177, 0.19532959597036523, 0.20414668934372474, 0.21312488825242673, 0.22225239217145043, 0.23151676194246515, 0.24090497116704687, 0.25040346387494594, 0.25999821799644945, 0.26967481408450544, 0.27941850865229284, 0.289214311416826, 0.2990470656703969, 0.30890153094065786, 0.31876246704827443, 0.3286147186296046, 0.33844329916189086, 0.34823347351105594, 0.3579708380180613, 0.3676413971495646, 0.3772316357626963, 0.38672858607214255, 0.3961198884604315, 0.40539384533874656, 0.4145394673452596, 0.42354651125987086, 0.43240550911716125, 0.44110778811205514, 0.4496454810134184, 0.4580115269278674, 0.46619966238757005, 0.474204402869628, 0.4820210149888173, 0.4896454797377027, 0.4970744472765083, 0.5043051838973788, 0.5113355119019398, 0.5181637432354483, 0.5247886078136206, 0.5312091775579868, 0.5374247872209614, 0.5434349531318513, 0.549239291028823, 0.5548374341590085, 0.5602289528291943, 0.5654132765729416, 0.5703896200668755, 0.575156913879856, 0.5797137410745764, 0.5840582806029756, 0.5881882583458659, 0.5921009065448831, 0.5957929322627971, 0.5992604953880778, 0.6024991965732143, 0.6055040753654171, 0.6082696186548802, 0.6107897794315738, 0.6130580057083906, 0.6150672793381191, 0.616810164325822, 0.618278864118307, 0.6194652872399226, 0.6203611205401709, 0.6209579092247549, 0.6212471427586467, 0.6212203456584054, 0.6208691721319516, 0.6201855034778173, 0.6191615471228863, 0.6177899361579967, 0.6160638282245404, 0.6139770026122545, 0.6115239544485038, 0.6086999848921476, 0.6055012862900502, 0.6019250213108353, 0.5979693951378876, 0.5936337198810264, 0.588918470452852, 0.583825331250447, 0.5783572330848842, 0.5725183799086662, 0.5663142650036057, 0.5597516764075544, 0.5528386914763664, 0.5455846605963778, 0.5380001801810305, 0.5300970552017141, 0.5218882516161866, 0.5133878391665768, 0.5046109251218271, 0.4955735796351697, 0.4862927534746211, 0.4767861889626766, 0.46707232502902, 0.4571701973366966, 0.4470993344867939, 0.43687965133879014, 0.42653134050301017, 0.4160747630676984, 0.4055303396161841, 0.3949184425695614, 0.38425929085746413, 0.3735728478746837, 0.36287872362493206, 0.3521960818860966, 0.3415435531549373, 0.330939154044271, 0.32040021371396243, 0.3099433078196269, 0.2995842003614664, 0.28933779371172885, 0.27921808699433953, 0.2692381428860288, 0.25941006280627565, 0.24974497036500423, 0.24025300284382084, 0.23094331039975166, 0.2218240626011892, 0.2129024618351336, 0.20418476306350292, 0.19567629935512768, 0.18738151257929417, 0.17930398861678676, 0.1714464964252428, 0.16381103028718308], \"yaxis\": \"y\"}, {\"legendgroup\": \"SMC2\", \"marker\": {\"color\": \"rgb(255, 127, 14)\"}, \"mode\": \"lines\", \"name\": \"SMC2\", \"showlegend\": false, \"type\": \"scatter\", \"x\": [0.059000000000000004, 0.059592000000000006, 0.060184, 0.060776000000000004, 0.061368000000000006, 0.06196, 0.062552, 0.063144, 0.063736, 0.064328, 0.06492, 0.065512, 0.066104, 0.066696, 0.067288, 0.06788, 0.068472, 0.069064, 0.069656, 0.070248, 0.07084, 0.071432, 0.072024, 0.072616, 0.073208, 0.0738, 0.074392, 0.07498400000000001, 0.075576, 0.076168, 0.07676, 0.077352, 0.077944, 0.078536, 0.079128, 0.07972, 0.080312, 0.080904, 0.081496, 0.082088, 0.08268, 0.083272, 0.083864, 0.084456, 0.085048, 0.08564, 0.086232, 0.086824, 0.087416, 0.088008, 0.0886, 0.08919200000000001, 0.089784, 0.09037600000000001, 0.09096800000000001, 0.09156, 0.09215200000000001, 0.09274400000000001, 0.093336, 0.09392800000000001, 0.09451999999999999, 0.095112, 0.09570400000000001, 0.096296, 0.096888, 0.09748000000000001, 0.09807199999999999, 0.098664, 0.09925600000000001, 0.099848, 0.10044, 0.10103200000000001, 0.10162399999999999, 0.102216, 0.10280800000000001, 0.1034, 0.103992, 0.10458400000000001, 0.10517599999999999, 0.105768, 0.10636000000000001, 0.106952, 0.107544, 0.10813600000000001, 0.10872799999999999, 0.10932, 0.10991200000000001, 0.110504, 0.111096, 0.11168800000000001, 0.11227999999999999, 0.112872, 0.11346400000000001, 0.114056, 0.114648, 0.11524000000000001, 0.11583199999999999, 0.116424, 0.11701600000000001, 0.117608, 0.1182, 0.11879200000000001, 0.119384, 0.119976, 0.12056800000000001, 0.12116, 0.121752, 0.12234400000000001, 0.12293600000000002, 0.123528, 0.12411999999999998, 0.12471200000000002, 0.125304, 0.125896, 0.12648800000000002, 0.12708, 0.127672, 0.128264, 0.128856, 0.129448, 0.13004, 0.130632, 0.13122399999999998, 0.13181600000000002, 0.132408, 0.133, 0.13359200000000002, 0.134184, 0.134776, 0.135368, 0.13596, 0.136552, 0.137144, 0.137736, 0.138328, 0.13892000000000002, 0.139512, 0.140104, 0.14069600000000002, 0.141288, 0.14188, 0.142472, 0.143064, 0.143656, 0.144248, 0.14484, 0.145432, 0.14602400000000001, 0.146616, 0.147208, 0.14780000000000001, 0.148392, 0.148984, 0.149576, 0.150168, 0.15076, 0.151352, 0.151944, 0.152536, 0.15312800000000001, 0.15372, 0.154312, 0.15490400000000001, 0.155496, 0.156088, 0.15667999999999999, 0.157272, 0.157864, 0.15845599999999999, 0.159048, 0.15964, 0.160232, 0.160824, 0.161416, 0.162008, 0.1626, 0.163192, 0.16378399999999999, 0.164376, 0.164968, 0.16555999999999998, 0.166152, 0.166744, 0.167336, 0.167928, 0.16852, 0.169112, 0.169704, 0.170296, 0.17088799999999998, 0.17148, 0.172072, 0.17266399999999998, 0.173256, 0.173848, 0.17444, 0.175032, 0.175624, 0.176216, 0.176808, 0.1774, 0.17799199999999998, 0.178584, 0.179176, 0.179768, 0.18036, 0.180952, 0.181544, 0.182136, 0.182728, 0.18332, 0.183912, 0.184504, 0.18509599999999998, 0.185688, 0.18627999999999997, 0.186872, 0.187464, 0.18805599999999997, 0.18864799999999998, 0.18923999999999996, 0.189832, 0.190424, 0.191016, 0.191608, 0.19219999999999998, 0.192792, 0.19338399999999997, 0.193976, 0.194568, 0.19516, 0.19575199999999998, 0.196344, 0.196936, 0.19752799999999998, 0.19812, 0.198712, 0.199304, 0.199896, 0.200488, 0.20107999999999998, 0.201672, 0.20226399999999997, 0.20285599999999998, 0.20344799999999996, 0.20404, 0.204632, 0.205224, 0.205816, 0.20640799999999998, 0.207, 0.20759199999999997, 0.208184, 0.208776, 0.209368, 0.20995999999999998, 0.210552, 0.211144, 0.21173599999999998, 0.212328, 0.21292, 0.213512, 0.214104, 0.214696, 0.21528799999999998, 0.21588, 0.21647199999999997, 0.21706399999999998, 0.21765600000000002, 0.218248, 0.21884, 0.219432, 0.220024, 0.22061599999999998, 0.221208, 0.22179999999999997, 0.222392, 0.222984, 0.223576, 0.22416799999999998, 0.22476, 0.225352, 0.22594399999999998, 0.226536, 0.227128, 0.22772, 0.228312, 0.228904, 0.22949599999999998, 0.230088, 0.23067999999999997, 0.23127199999999998, 0.23186400000000001, 0.232456, 0.233048, 0.23364, 0.234232, 0.23482399999999998, 0.235416, 0.23600799999999997, 0.2366, 0.237192, 0.237784, 0.238376, 0.23896799999999999, 0.23956, 0.24015199999999998, 0.24074399999999999, 0.241336, 0.241928, 0.24251999999999999, 0.243112, 0.24370399999999998, 0.24429599999999999, 0.24488799999999997, 0.24547999999999998, 0.246072, 0.246664, 0.247256, 0.24784799999999998, 0.24844, 0.24903199999999998, 0.24962399999999998, 0.250216, 0.25080800000000003, 0.2514, 0.251992, 0.25258400000000003, 0.253176, 0.253768, 0.25436, 0.254952, 0.255544, 0.25613600000000003, 0.256728, 0.25732, 0.257912, 0.258504, 0.259096, 0.259688, 0.26028, 0.260872, 0.26146400000000003, 0.262056, 0.262648, 0.26324, 0.263832, 0.264424, 0.26501600000000003, 0.265608, 0.2662, 0.26679200000000003, 0.267384, 0.267976, 0.268568, 0.26916, 0.269752, 0.27034400000000003, 0.270936, 0.271528, 0.27212, 0.272712, 0.273304, 0.273896, 0.274488, 0.27508, 0.27567200000000003, 0.276264, 0.276856, 0.277448, 0.27804, 0.278632, 0.279224, 0.279816, 0.280408, 0.281, 0.281592, 0.282184, 0.28277599999999997, 0.283368, 0.28396, 0.284552, 0.285144, 0.285736, 0.28632799999999997, 0.28692, 0.287512, 0.28810399999999997, 0.288696, 0.289288, 0.28988, 0.290472, 0.291064, 0.29165599999999997, 0.292248, 0.29284, 0.293432, 0.294024, 0.294616, 0.295208, 0.2958, 0.296392, 0.29698399999999997, 0.297576, 0.298168, 0.29876, 0.299352, 0.299944, 0.300536, 0.301128, 0.30172, 0.30231199999999997, 0.302904, 0.303496, 0.304088, 0.30468, 0.305272, 0.30586399999999997, 0.306456, 0.307048, 0.30764, 0.308232, 0.308824, 0.30941599999999997, 0.310008, 0.3106, 0.31119199999999997, 0.311784, 0.312376, 0.31296799999999997, 0.31355999999999995, 0.314152, 0.314744, 0.315336, 0.315928, 0.31651999999999997, 0.31711199999999995, 0.317704, 0.31829599999999997, 0.31888799999999995, 0.31947999999999993, 0.320072, 0.320664, 0.321256, 0.321848, 0.32244, 0.323032, 0.32362399999999997, 0.324216, 0.324808, 0.32539999999999997, 0.32599199999999995, 0.326584, 0.32717599999999997, 0.32776799999999995, 0.32836, 0.328952, 0.329544, 0.330136, 0.330728, 0.33132, 0.331912, 0.33250399999999997, 0.333096, 0.333688, 0.33427999999999997, 0.334872, 0.335464, 0.33605599999999997, 0.33664799999999995, 0.33724, 0.33783199999999997, 0.338424, 0.339016, 0.339608, 0.3402, 0.340792, 0.34138399999999997, 0.341976, 0.342568, 0.34315999999999997, 0.343752, 0.344344, 0.34493599999999996, 0.34552799999999995, 0.34612, 0.34671199999999996, 0.34730399999999995, 0.3478959999999999, 0.348488, 0.34908, 0.349672, 0.350264, 0.350856, 0.351448, 0.35203999999999996, 0.352632, 0.353224, 0.35381599999999996, 0.35440799999999995], \"xaxis\": \"x\", \"y\": [2.273485398391161, 2.362421942557131, 2.4516962987338, 2.541136586569539, 2.630570880865202, 2.7198283663129286, 2.80874048852703, 2.8971420885254533, 2.9848725078563523, 3.071776651793068, 3.1577059984421934, 3.2425195422204056, 3.3260846609488306, 3.4082778967787135, 3.488985642285145, 3.568104724329255, 3.645542879673903, 3.7212191178207648, 3.795063968093472, 3.8670196095953644, 3.937039884294591, 4.005090195105261, 4.071147292413228, 4.135198954011366, 4.197243564835353, 4.257289604202245, 4.315355049427897, 4.371466705715709, 4.42565947305096, 4.4779755614891705, 4.528463666683148, 4.577178117746135, 4.624178009595514, 4.669526331765273, 4.713289105321613, 4.755534538974888, 4.796332214765759, 4.835752312830775, 4.873864883742187, 4.910739175790743, 4.946443023362222, 4.981042301274194, 5.0146004486149485, 5.047178064288208, 5.078832575141272, 5.109617976266058, 5.139584641835763, 5.168779203696771, 5.197244493895781, 5.2250195464025655, 5.252139652503867, 5.278636463703964, 5.304538135480254, 5.329869504911424, 5.354652295022269, 5.3789053386697745, 5.402644814924105, 5.4258844911662845, 5.4486359645202445, 5.470908896746427, 5.492711237331593, 5.5140494301973915, 5.534928600200156, 5.555352716387589, 5.575324729795014, 5.5948466843860905, 5.613919800552229, 5.632544531364284, 5.650720592503965, 5.668446967477121, 5.685721890314545, 5.7025428084887775, 5.718906329210111, 5.734808152606515, 5.75024299553786, 5.7652045099442635, 5.779685199683028, 5.793676339772714, 5.807167901841306, 5.8201484893758115, 5.832605286100874, 5.844524020483834, 5.855888948982938, 5.866682860234795, 5.876887101927352, 5.886481631636106, 5.89544509242437, 5.903754913532695, 5.911387436016941, 5.918318062747107, 5.92452143175666, 5.9299716115409025, 5.93464231654741, 5.938507140785618, 5.941539807208671, 5.9437144302902105, 5.945005789032517, 5.945389607499885, 5.944842839871432, 5.9433439569490245, 5.9408732310364405, 5.937413016123025, 5.932948020355876, 5.927465567866597, 5.920955847128528, 5.913412143155751, 5.904831051012917, 5.895212668282872, 5.884560764334408, 5.872882924443492, 5.8601906670455, 5.84649953263203, 5.831829143051634, 5.81620323022797, 5.799649633569895, 5.782200265614309, 5.7638910457126125, 5.744761801844146, 5.724856140912791, 5.704221288154961, 5.682907896555964, 5.6609698274357765, 5.63846390362221, 5.615449636877262, 5.591988931478986, 5.568145766084039, 5.543985856203294, 5.51957629981206, 5.4949852087857405, 5.470281328999245, 5.445533652052357, 5.4208110216823435, 5.396181737997898, 5.371713162714448, 5.347471328589118, 5.323520556244043, 5.299923081529413, 5.276738696512711, 5.25402440708903, 5.231834110089687, 5.2102182926240515, 5.1892237562237025, 5.168893368170226, 5.149265842180096, 5.130375550393487, 5.112252368370773, 5.094921554542544, 5.078403665288237, 5.062714506536813, 5.047865122492374, 5.033861821790024, 5.020706241084609, 5.008395445769298, 4.99692206721399, 4.9862744756074235, 4.976436987183533, 4.967390104313968, 4.95911078665698, 4.951572751269953, 4.944746799321029, 4.938601166776616, 4.933101896198197, 4.9282132265561795, 4.923897997762496, 4.920118066439706, 4.916834729284456, 4.914009150249482, 4.911602787662842, 4.909577817327576, 4.907897547601303, 4.9065268224447385, 4.90543240845212, 4.904583361936176, 4.90395137223612, 4.903511077549948, 4.90324034976197, 4.9031205449431265, 4.903136716444409, 4.903277787782185, 4.9035366828268, 4.903910411151298, 4.904400106773339, 4.905011018928267, 4.905752453941974, 4.90663766772606, 4.907683708891027, 4.908911212962631, 4.910344148687588, 4.912009517923631, 4.913937011120356, 4.9161586209067245, 4.918708216803026, 4.921621084564054, 4.9249334341306055, 4.928681880612032, 4.932902903137689, 4.9376322867935025, 4.942904553195498, 4.948752385539186, 4.955206054196317, 4.962292849103425, 4.970036525294707, 4.9784567679708465, 4.987568683461366, 4.997382322328349, 5.0079022406713944, 5.019127105426793, 5.031049349107721, 5.04365487900838, 5.05692284539539, 5.070825472638601, 5.085327956595526, 5.10038843086521, 5.115958003776357, 5.131980867179415, 5.148394477283301, 5.165129806925257, 5.18211166779868, 5.199259100301202, 5.216485827816341, 5.233700771420015, 5.250808620220818, 5.267710451813099, 5.284304396656653, 5.300486339607519, 5.316150651321498, 5.331190941844458, 5.345500828398912, 5.358974709180708, 5.371508534896932, 5.383000569808608, 5.393352134189405, 5.40246832037262, 5.41025867492908, 5.4166378399923625, 5.421526147317077, 5.424850159311203, 5.426543152013465, 5.426545535779012, 5.424805210277444, 5.421277851282301, 5.4159271276252445, 5.408724847586345, 5.3996510348789615, 5.388693935248968, 5.375849955529596, 5.361123537762005, 5.344526971696051, 5.326080149615524, 5.305810267978733, 5.283751480822109, 5.2599445102367985, 5.234436219493244, 5.207279154555962, 5.178531059801344, 5.148254373728858, 5.116515710345236, 5.083385331709354, 5.048936616860252, 5.013245532021887, 4.9763901065960106, 4.93844991903004, 4.899505596191632, 4.859638329407292, 4.818929409840348, 4.777459785404919, 4.735309640947611, 4.692558002986707, 4.649282369888283, 4.605558367986512, 4.561459433827483, 4.517056522435985, 4.4724178412751865, 4.427608609391731, 4.3826908411119385, 4.337723153577323, 4.292760597375736, 4.247854509533986, 4.20305238818261, 4.158397788278259, 4.113930237865534, 4.069685174472423, 4.025693901352517, 3.9819835634069647, 3.9385771427315563, 3.8954934738332523, 3.8527472786396286, 3.8103492214793575, 3.768305984237254, 3.726620361881041, 3.685291378516504, 3.644314424052454, 3.6036814114474103, 3.5633809543673975, 3.5233985649116257, 3.4837168708636876, 3.444315851704499, 3.4051730923851338, 3.366264053608464, 3.327562357114654, 3.289040084213243, 3.2506680855605943, 3.2124162999521917, 3.1742540796908627, 3.1361505199101285, 3.0980747890817044, 3.0599964578222694, 3.0218858230402814, 2.983714224431938, 2.9454543503478057, 2.907080530109316, 2.868569009956526, 2.829898209954887, 2.791048959376068, 2.752004708294426, 2.712751713401547, 2.6732791963327984, 2.6335794731165287, 2.5936480536931543, 2.5534837108019075, 2.513088517891559, 2.4724678560718347, 2.4316303904784995, 2.3905880167714075, 2.3493557788154877, 2.3079517589049634, 2.26639694217586, 2.2247150571077876, 2.182932394239027, 2.141077605406922, 2.099181485976477, 2.0572767426324887, 2.015397749384438, 1.9735802944686776, 1.9318613208306326, 1.8902786628318011, 1.8488707817553363, 1.8076765025819692, 1.7667347543786276, 1.726084316488771, 1.6857635725401103, 1.6458102740958431, 1.606261315574136, 1.5671525218514637, 1.5285184497522186, 1.4903922044141582, 1.4528052713097939, 1.4157873645014636, 1.3793662915151763, 1.3435678350381994, 1.308415651479405, 1.2739311862816947, 1.2401336057430232, 1.2070397449874912, 1.1746640716309857, 1.1430186646060567, 1.1121132075482103, 1.0819549960987365, 1.05254895844682, 1.023897688413785, 0.9960014903736052, 0.9688584353037383, 0.9424644272673369, 0.9168132796394646, 0.8918968004044827, 0.8677048858670133, 0.8442256221333508, 0.8214453937323455, 0.7993489987531663, 0.7779197698813294, 0.7571397007129893, 0.7369895767205465, 0.7174491102301064, 0.6984970787535345, 0.6801114659952371, 0.6622696048275202, 0.6449483214992322, 0.6281240803118948, 0.6117731279670927, 0.5958716367599967, 0.5803958457682975, 0.5653221991650001, 0.5506274807692102, 0.5362889439424433, 0.5222844359407185, 0.5085925158455575, 0.4951925652211623, 0.48206489068082736, 0.46919081759369213, 0.4565527742229835, 0.44413436565887354, 0.43192043699236715, 0.4198971252702453, 0.4080518998740894, 0.3963735910771922, 0.384852406650283, 0.3734799365085439, 0.3622491455165748, 0.35115435469259104, 0.3401912111763604, 0.3293566474449495, 0.318648830374376, 0.3080671008518222, 0.2976119047403413, 0.2872847160844224, 0.2770879535190055, 0.2670248909053942, 0.2570995632640626, 0.24731666910611505, 0.23768147028164968, 0.22819969046456307, 0.2188774133796277, 0.20972098184941976, 0.20073689869670952, 0.19193173048314688, 0.18331201499874436, 0.17488417334001533, 0.16665442732929397, 0.15862872293518968, 0.15081266025610462, 0.14321143052682164, 0.13582976050420054, 0.1286718644834684, 0.1217414040932289, 0.11504145591648618, 0.10857448688817158, 0.1023423373280456, 0.09634621138257599, 0.0905866745713329, 0.08506365806339718, 0.07977646924782976, 0.07472380810976627, 0.06990378888048321, 0.06531396639585739, 0.06095136657297441, 0.0568125203989991, 0.05289350081948045, 0.049189961914564505, 0.0456971797606282, 0.04241009439096526, 0.03932335229173752, 0.036431348897689744, 0.03372827058542299, 0.03120813569954085, 0.02886483418802936, 0.02669216546701409, 0.024683874180900737, 0.022833683571147827, 0.02113532621489812, 0.019582571942831133, 0.018169252793325374, 0.01688928490684772, 0.015736687309950727, 0.014705597581956881, 0.013790284438979766, 0.012985157309055615, 0.012284773008553957, 0.011683839663469642, 0.011177218049461873, 0.010759920551426466, 0.010427107966823649, 0.01017408439682089, 0.009996290485460907, 0.009889295279463726, 0.009848786989884548, 0.009870562941661424, 0.00995051899811396, 0.01008463874473656, 0.01026898271023899, 0.010499677892821992, 0.010772907846272358, 0.011084903563784245, 0.011431935377667832, 0.011810306070528279, 0.01221634536836804, 0.01264640595869056, 0.01309686114741939, 0.013564104237666817, 0.014044549681511085, 0.01453463602340293, 0.015030830621086165, 0.015529636097454712, 0.016027598445068382, 0.016521316674594864, 0.017007453869713595, 0.017482749484473908, 0.01794403269518006, 0.018388236597985115, 0.01881241302587432, 0.019213747744921725, 0.019589575779859633, 0.019937396613303796, 0.0202548890015406, 0.020539925152658536, 0.020790584019957745, 0.021005163474891824, 0.021182191139101855, 0.021320433674131462, 0.021418904349836114, 0.021476868737925182], \"yaxis\": \"y\"}, {\"legendgroup\": \"SMC3\", \"marker\": {\"color\": \"rgb(44, 160, 44)\"}, \"mode\": \"lines\", \"name\": \"SMC3\", \"showlegend\": false, \"type\": \"scatter\", \"x\": [0.040999999999999995, 0.04139999999999999, 0.0418, 0.042199999999999994, 0.04259999999999999, 0.043, 0.043399999999999994, 0.04379999999999999, 0.044199999999999996, 0.044599999999999994, 0.045, 0.045399999999999996, 0.045799999999999993, 0.04619999999999999, 0.046599999999999996, 0.04699999999999999, 0.0474, 0.047799999999999995, 0.04819999999999999, 0.0486, 0.048999999999999995, 0.0494, 0.0498, 0.050199999999999995, 0.05059999999999999, 0.051, 0.051399999999999994, 0.0518, 0.052199999999999996, 0.052599999999999994, 0.05299999999999999, 0.053399999999999996, 0.053799999999999994, 0.0542, 0.054599999999999996, 0.05499999999999999, 0.05539999999999999, 0.055799999999999995, 0.0562, 0.0566, 0.056999999999999995, 0.05739999999999999, 0.0578, 0.058199999999999995, 0.0586, 0.059, 0.059399999999999994, 0.05979999999999999, 0.0602, 0.0606, 0.061, 0.061399999999999996, 0.061799999999999994, 0.0622, 0.06259999999999999, 0.063, 0.0634, 0.0638, 0.0642, 0.06459999999999999, 0.065, 0.0654, 0.0658, 0.0662, 0.06659999999999999, 0.06699999999999999, 0.0674, 0.0678, 0.0682, 0.0686, 0.06899999999999999, 0.06939999999999999, 0.0698, 0.0702, 0.0706, 0.071, 0.07139999999999999, 0.0718, 0.0722, 0.0726, 0.073, 0.07339999999999999, 0.0738, 0.07419999999999999, 0.0746, 0.075, 0.0754, 0.0758, 0.07619999999999999, 0.0766, 0.07699999999999999, 0.0774, 0.07780000000000001, 0.07819999999999999, 0.0786, 0.07899999999999999, 0.0794, 0.0798, 0.0802, 0.0806, 0.08099999999999999, 0.0814, 0.0818, 0.0822, 0.08259999999999999, 0.08299999999999999, 0.0834, 0.0838, 0.0842, 0.0846, 0.08499999999999999, 0.0854, 0.0858, 0.0862, 0.0866, 0.087, 0.0874, 0.08779999999999999, 0.0882, 0.0886, 0.089, 0.08940000000000001, 0.08979999999999999, 0.0902, 0.09059999999999999, 0.091, 0.09140000000000001, 0.09179999999999999, 0.0922, 0.09259999999999999, 0.093, 0.09340000000000001, 0.0938, 0.0942, 0.09459999999999999, 0.095, 0.0954, 0.0958, 0.09620000000000001, 0.09659999999999999, 0.097, 0.0974, 0.0978, 0.0982, 0.0986, 0.099, 0.0994, 0.0998, 0.1002, 0.1006, 0.10099999999999999, 0.10139999999999999, 0.1018, 0.1022, 0.1026, 0.103, 0.10339999999999999, 0.1038, 0.1042, 0.1046, 0.105, 0.1054, 0.10579999999999999, 0.1062, 0.1066, 0.107, 0.1074, 0.10779999999999999, 0.1082, 0.1086, 0.109, 0.1094, 0.1098, 0.11019999999999999, 0.1106, 0.111, 0.1114, 0.1118, 0.1122, 0.1126, 0.11299999999999999, 0.1134, 0.1138, 0.1142, 0.11460000000000001, 0.11499999999999999, 0.1154, 0.11579999999999999, 0.1162, 0.11660000000000001, 0.11699999999999999, 0.1174, 0.1178, 0.1182, 0.1186, 0.119, 0.1194, 0.1198, 0.1202, 0.1206, 0.121, 0.1214, 0.1218, 0.1222, 0.1226, 0.123, 0.1234, 0.12380000000000001, 0.12419999999999999, 0.1246, 0.125, 0.1254, 0.12580000000000002, 0.12619999999999998, 0.1266, 0.127, 0.1274, 0.12780000000000002, 0.12819999999999998, 0.1286, 0.129, 0.12940000000000002, 0.12980000000000003, 0.13019999999999998, 0.1306, 0.131, 0.13140000000000002, 0.1318, 0.13219999999999998, 0.1326, 0.133, 0.13340000000000002, 0.1338, 0.13419999999999999, 0.1346, 0.135, 0.13540000000000002, 0.1358, 0.1362, 0.1366, 0.137, 0.1374, 0.1378, 0.1382, 0.1386, 0.139, 0.1394, 0.1398, 0.1402, 0.1406, 0.14100000000000001, 0.1414, 0.1418, 0.1422, 0.1426, 0.143, 0.1434, 0.1438, 0.1442, 0.1446, 0.145, 0.1454, 0.1458, 0.1462, 0.1466, 0.147, 0.1474, 0.1478, 0.1482, 0.1486, 0.149, 0.1494, 0.1498, 0.1502, 0.1506, 0.151, 0.1514, 0.1518, 0.1522, 0.1526, 0.153, 0.15339999999999998, 0.1538, 0.1542, 0.15460000000000002, 0.155, 0.15539999999999998, 0.1558, 0.1562, 0.15660000000000002, 0.157, 0.15739999999999998, 0.1578, 0.1582, 0.15860000000000002, 0.15899999999999997, 0.1594, 0.1598, 0.1602, 0.16060000000000002, 0.16099999999999998, 0.1614, 0.1618, 0.1622, 0.16260000000000002, 0.16299999999999998, 0.1634, 0.1638, 0.1642, 0.16460000000000002, 0.16499999999999998, 0.1654, 0.1658, 0.16620000000000001, 0.16660000000000003, 0.16699999999999998, 0.1674, 0.1678, 0.16820000000000002, 0.16860000000000003, 0.16899999999999998, 0.1694, 0.1698, 0.17020000000000002, 0.17059999999999997, 0.17099999999999999, 0.1714, 0.1718, 0.17220000000000002, 0.17259999999999998, 0.173, 0.1734, 0.1738, 0.17420000000000002, 0.17459999999999998, 0.175, 0.1754, 0.1758, 0.17620000000000002, 0.17659999999999998, 0.177, 0.1774, 0.1778, 0.17820000000000003, 0.17859999999999998, 0.179, 0.1794, 0.17980000000000002, 0.18020000000000003, 0.18059999999999998, 0.181, 0.1814, 0.18180000000000002, 0.18220000000000003, 0.18259999999999998, 0.183, 0.1834, 0.18380000000000002, 0.18420000000000003, 0.1846, 0.185, 0.1854, 0.18580000000000002, 0.18620000000000003, 0.1866, 0.187, 0.1874, 0.18780000000000002, 0.18820000000000003, 0.1886, 0.189, 0.1894, 0.18980000000000002, 0.19020000000000004, 0.1906, 0.191, 0.19140000000000001, 0.19180000000000003, 0.19220000000000004, 0.1926, 0.193, 0.19340000000000002, 0.19380000000000003, 0.19420000000000004, 0.1946, 0.195, 0.19540000000000002, 0.19580000000000003, 0.19619999999999999, 0.1966, 0.197, 0.19740000000000002, 0.19780000000000003, 0.1982, 0.1986, 0.199, 0.19940000000000002, 0.19980000000000003, 0.2002, 0.2006, 0.201, 0.20140000000000002, 0.20179999999999998, 0.2022, 0.2026, 0.203, 0.20340000000000003, 0.20379999999999998, 0.2042, 0.2046, 0.20500000000000002, 0.20540000000000003, 0.20579999999999998, 0.2062, 0.2066, 0.20700000000000002, 0.20739999999999997, 0.20779999999999998, 0.2082, 0.2086, 0.20900000000000002, 0.20939999999999998, 0.2098, 0.2102, 0.2106, 0.21100000000000002, 0.21139999999999998, 0.2118, 0.2122, 0.2126, 0.21299999999999997, 0.21339999999999998, 0.2138, 0.2142, 0.2146, 0.21499999999999997, 0.21539999999999998, 0.2158, 0.2162, 0.21660000000000001, 0.21699999999999997, 0.21739999999999998, 0.2178, 0.2182, 0.21860000000000002, 0.21899999999999997, 0.21939999999999998, 0.2198, 0.2202, 0.22060000000000002, 0.22099999999999997, 0.22139999999999999, 0.2218, 0.2222, 0.22260000000000002, 0.22299999999999998, 0.2234, 0.2238, 0.2242, 0.22460000000000002, 0.22499999999999998, 0.2254, 0.2258, 0.2262, 0.22660000000000002, 0.22699999999999998, 0.2274, 0.2278, 0.22820000000000001, 0.22860000000000003, 0.22899999999999998, 0.2294, 0.2298, 0.23020000000000002, 0.23060000000000003, 0.23099999999999998, 0.2314, 0.2318, 0.23220000000000002, 0.23260000000000003, 0.23299999999999998, 0.2334, 0.2338, 0.23420000000000002, 0.23460000000000003, 0.235, 0.2354, 0.2358, 0.23620000000000002, 0.23660000000000003, 0.237, 0.2374, 0.2378, 0.23820000000000002, 0.23860000000000003, 0.239, 0.2394, 0.2398, 0.24020000000000002, 0.24060000000000004], \"xaxis\": \"x\", \"y\": [3.7593992297593575, 3.8893241568418357, 4.020620910766918, 4.153139725799412, 4.2867243851107535, 4.421212585117053, 4.556436335912712, 4.6922223966878285, 4.828392744765253, 4.964765076642482, 5.101153339177041, 5.23736828881341, 5.373218076517265, 5.508508855860972, 5.643045411494762, 5.776631805043306, 5.909072035289044, 6.040170709343823, 6.169733721370903, 6.297568935301526, 6.423486867896058, 6.547301368430048, 6.668830291241515, 6.787896157358861, 6.904326801438799, 7.017956000281777, 7.128624079258517, 7.236178493075149, 7.340474377426222, 7.441375068233654, 7.538752585344616, 7.63248807776181, 7.722472227703597, 7.808605611038008, 7.8907990119016915, 7.968973689600493, 8.043061596190428, 8.11300554345382, 8.178759318313128, 8.240287746061536, 8.297566701132208, 8.350583065474348, 8.39933463495108, 8.443829974518692, 8.484088223286172, 8.520138850885514, 8.552021366903954, 8.57978498543673, 8.603488247110418, 8.623198601200045, 8.638991950715818, 8.650952163565234, 8.659170553101935, 8.663745331552073, 8.664781039961072, 8.662387958426947, 8.656681500480515, 8.64778159553654, 8.635812063373644, 8.62089998460372, 8.603175071064605, 8.582769040012884, 8.559814995907903, 8.5344468234642, 8.506798595509036, 8.4770039990158, 8.445195782494615, 8.41150522771014, 8.376061648465662, 8.338991918943938, 8.300420033831562, 8.260466702176972, 8.21924897664528, 8.176879919538434, 8.133468306649307, 8.089118369715804, 8.04392957793853, 7.997996458725555, 7.951408457532804, 7.90424983638079, 7.856599610350532, 7.808531521095184, 7.760114046151492, 7.711410442598525, 7.66247882339175, 7.6133722645001, 7.564138940793352, 7.514822288468245, 7.4654611916649465, 7.416090190811601, 7.366739710144278, 7.317436301782599, 7.268202903698235, 7.2190591088936795, 7.170021443112084, 7.121103648425022, 7.072316970092619, 7.0236704441593325, 6.975171183336862, 6.926824658832771, 6.878634975907213, 6.830605141079908, 6.782737319063068, 6.735033077661686, 6.6874936190589915, 6.640119996089675, 6.592913312295014, 6.545874904750505, 6.499006508855683, 6.4523104044761945, 6.405789543027361, 6.359447655285145, 6.313289339902527, 6.267320132795249, 6.221546557739075, 6.175976158689735, 6.130617514495034, 6.0854802368152425, 6.040574952201385, 5.9959132694009645, 5.951507733065562, 5.907371765124659, 5.863519595163989, 5.819966181204573, 5.776727122320378, 5.73381856455786, 5.6912571016302, 5.649059671852629, 5.607243452763839, 5.565825754842351, 5.524823915676786, 5.484255195886254, 5.444136678012186, 5.404485169517572, 5.365317110934244, 5.326648490095466, 5.288494763280568, 5.250870783982247, 5.21379073988691, 5.1772680985353245, 5.1413155620064455, 5.105945030843042, 5.0711675773147, 5.0369934279939645, 5.0034319555051905, 4.970491679195121, 4.93818027436992, 4.906504589646508, 4.875470671877764, 4.845083798031731, 4.815348513335673, 4.786268674936925, 4.757847500284296, 4.730087619396953, 4.702991130162098, 4.676559655788462, 4.650794403539724, 4.625696223879859, 4.601265669181098, 4.57750305117402, 4.55440849635755, 4.531981998634008, 4.510223468489582, 4.4891327781032215, 4.4687098018358, 4.448954451625578, 4.429866706894433, 4.411446638651035, 4.393694427560942, 4.376610375838506, 4.360194912900337, 4.3444485948039215, 4.329372097576809, 4.31496620462046, 4.301231788447786, 4.2881697870834214, 4.27578117552038, 4.264066932685113, 4.25302800441461, 4.242665262993566, 4.232979463836368, 4.223971199927478, 4.215640854654574, 4.207988553681376, 4.201014116511603, 4.194717008392019, 4.189096293191252, 4.184150587872479, 4.179878019152364, 4.176276182906436, 4.173342106842979, 4.171072216923948, 4.169462307963256, 4.16850751878063, 4.168202312233804, 4.168540460394026, 4.16951503507025, 4.1711184038269735, 4.173342231580057, 4.176177487794839, 4.179614459252157, 4.1836427682911355, 4.188251396383538, 4.1934287128434695, 4.19916250842906, 4.205440033549633, 4.212248040753383, 4.21957283113682, 4.227400304288671, 4.235716011357493, 4.244505210814176, 4.253752926467729, 4.263444007285129, 4.273563188563631, 4.284095154006233, 4.295024598258034, 4.30633628947251, 4.318015131491798, 4.330046225243774, 4.342414928980229, 4.355106917004604, 4.368108236563833, 4.381405362606446, 4.394985250137562, 4.408835383930458, 4.42294382538323, 4.437299256337455, 4.4518910197031065, 4.4667091567598955, 4.481744441029338, 4.496988408633876, 4.51243338507897, 4.528072508411127, 4.543899748719004, 4.559909923956153, 4.576098712072447, 4.592462659446853, 4.6089991856170816, 4.625706584301959, 4.642584020710178, 4.659631525124944, 4.676849982747944, 4.694241119778676, 4.71180748569663, 4.729552431704855, 4.747480085284125, 4.765595320798169, 4.783903726082342, 4.802411564941406, 4.821125735477149, 4.840053724163827, 4.859203555589429, 4.878583737783704, 4.898203203060319, 4.918071244310708, 4.938197446701175, 4.958591614743155, 4.979263694728961, 5.000223692552284, 5.021481586963794, 5.043047238347509, 5.064930293143087, 5.087140084082146, 5.10968552645352, 5.132575010661761, 5.155816291395572, 5.179416373776925, 5.203381396917384, 5.227716515364495, 5.252425778977617, 5.277512011828445, 5.302976690775832, 5.328819824416705, 5.355039833164094, 5.3816334312485505, 5.408595511480083, 5.435919033643056, 5.463594917425753, 5.491611940808933, 5.519956644852563, 5.5486132458272, 5.577563555634869, 5.606786911454049, 5.636260115523747, 5.6659573859525, 5.695850319399541, 5.725907866426907, 5.756096320263418, 5.786379319654188, 5.816717866392932, 5.847070358049441, 5.877392636311393, 5.9076380512592115, 5.937757541785299, 5.967699732255799, 5.997411045394822, 6.026835831248921, 6.055916511964418, 6.084593741983504, 6.112806583137332, 6.140492693987677, 6.167588532643616, 6.194029572157803, 6.219750527489465, 6.244685592909064, 6.268768688614559, 6.291933715231698, 6.314114814782449, 6.335246636627428, 6.355264606820541, 6.374105199258491, 6.391706206964452, 6.408007011815033, 6.422948851002995, 6.436475078525357, 6.448531419997841, 6.459066219122045, 6.4680306741712315, 6.475379062914083, 6.481068954462531, 6.485061406609821, 6.487321147317111, 6.4878167391108565, 6.4865207252678765, 6.48340975678931, 6.478464699297784, 6.471670719132557, 6.463017348064217, 6.452498526202136, 6.440112622823056, 6.425862435006591, 6.409755164121468, 6.391802370363679, 6.372019905703073, 6.3504278257466416, 6.327050281173758, 6.301915389539535, 6.2750550883759155, 6.246504970645335, 6.216304103717294, 6.184494833143425, 6.151122572600549, 6.116235581453117, 6.07988473145598, 6.042123264174763, 6.0030065407442965, 5.962591785615265, 5.920937825955175, 5.878104828372603, 5.834154034622943, 5.789147497930426, 5.743147821525295, 5.696217900946991, 5.648420671605344, 5.599818863022074, 5.550474761095773, 5.500449979645763, 5.449805242394361, 5.398600176445041, 5.346893118205782, 5.29474093259439, 5.242198846246667, 5.189320295329588, 5.136156788442343, 5.082757784967818, 5.029170589118196, 4.975440259801066, 4.921609536317629, 4.867718779794018, 4.813805930140012, 4.759906478228302, 4.706053452892138, 4.652277422250087, 4.598606508785047, 4.545066417529894, 4.4916804766456355, 4.438469689619232, 4.385452798257631, 4.332646355612644, 4.280064807937217, 4.227720584748183, 4.175624196053124, 4.123784335789282, 4.072207990520775, 4.020900552445792, 3.9698659357777646, 3.9191066955838023, 3.8686241481886094, 3.8184184922829645, 3.7684889299117295, 3.7188337865570134, 3.6694506295762883, 3.6203363843037026, 3.5714874471734737, 3.522899795277793, 3.4745690918266665, 3.426490787033566, 3.3786602140080815, 3.3310726792939622, 3.2837235477482696, 3.236608321513931, 3.1897227128930568, 3.143062710982571, 3.096624641985368, 3.050405223160231, 3.0044016104205884, 2.9586114396369148, 2.9130328617389165, 2.867664571751718, 2.8225058319353855, 2.777556489228359, 2.7328169872233126, 2.688288372928321, 2.64397229858682, 2.5998710188472396, 2.5559873835865288, 2.5123248267023373, 2.468887351195435, 2.4256795108677314, 2.3827063889620703, 2.339973574067917, 2.2974871336124445, 2.2552535852493945, 2.2132798664490636, 2.171573302581345, 2.1301415737711813, 2.088992680791532, 2.048134910243359, 2.0075767992561184, 1.9673270999250692, 1.927394743684409, 1.8877888057976737, 1.8485184701294706, 1.8095929943450921, 1.771021675668087, 1.732813817309506, 1.6949786956673347, 1.6575255283801418, 1.6204634433055898, 1.5838014484824303, 1.547548403123402, 1.511712989676896, 1.4763036869869248, 1.441328744573588, 1.406796158050715, 1.372713645692628, 1.3390886261587167, 1.305928197382214, 1.2732391166283397, 1.2410277817267876, 1.2093002134838673, 1.1780620392808836, 1.1473184778670797, 1.1170743253573716, 1.0873339424476398, 1.0581012428626437, 1.0293796830540898, 1.0011722531685665, 0.9734814693069354, 0.9463093670983719, 0.9196574966130481, 0.8935269186378555, 0.8679182023392354, 0.8428314243358388, 0.818266169201955, 0.794221531419682, 0.7706961187941845, 0.7476880573418028, 0.7251949976553655, 0.7032141227449842, 0.6817421573455782, 0.6607753786748928, 0.6403096286176836, 0.6203403273029977, 0.6008624880326913, 0.5818707335100185, 0.5633593133078884, 0.5453221225070762, 0.5277527214255364, 0.5106443563512053, 0.4939899811821778, 0.4777822798703409, 0.46201368955739364, 0.4466764242856784, 0.4317624991608639, 0.41726375483891687, 0.4031718822063825, 0.3894784471206384, 0.3761749150756181, 0.3632526756586048, 0.3507030666649017, 0.33851739773973794, 0.3266869734204992, 0.3152031154571916, 0.3040571842951576, 0.29324059961109356, 0.28274485980153147, 0.27256156033191276, 0.26268241086415506, 0.25309925109112447], \"yaxis\": \"y\"}, {\"legendgroup\": \"SMC1\", \"marker\": {\"color\": \"rgb(31, 119, 180)\", \"symbol\": \"line-ns-open\"}, \"mode\": \"markers\", \"name\": \"SMC1\", \"showlegend\": false, \"type\": \"scatter\", \"x\": [0.23600000000000002, 0.23399999999999999, 0.23199999999999998, 0.226, 0.23, 0.23199999999999998, 0.228, 0.225, 0.223, 0.223, 0.223, 0.217, 0.22899999999999998, 0.225, 0.22, 0.217, 0.214, 0.21100000000000002, 0.21, 0.20600000000000002, 0.203, 0.2, 0.191, 0.18899999999999997, 0.187, 0.187, 0.18899999999999997, 0.191, 0.19, 0.192, 0.193, 0.18600000000000003, 0.18100000000000002, 0.18, 0.17600000000000002, 0.174, 0.17, 0.168, 0.16699999999999998, 0.16699999999999998, 0.16399999999999998, 0.162, 0.159, 0.156, 0.153, 0.15, 0.147, 0.14400000000000002, 0.14400000000000002, 0.139, 0.136, 0.133, 0.131, 0.13, 0.129, 0.128, 0.124, 0.11699999999999999, 0.113, 0.11800000000000001, 0.114, 0.10800000000000001, 0.113, 0.115, 0.11800000000000001, 0.11800000000000001, 0.109, 0.111, 0.114, 0.11599999999999999, 0.114, 0.214, 0.207, 0.23199999999999998, 0.223, 0.22, 0.21899999999999997, 0.215, 0.252, 0.231, 0.225, 0.222, 0.21600000000000003, 0.212, 0.20600000000000002, 0.19899999999999998, 0.188, 0.18100000000000002, 0.17600000000000002, 0.168, 0.163, 0.162, 0.16, 0.157, 0.152, 0.14800000000000002, 0.14, 0.138, 0.13699999999999998, 0.13699999999999998, 0.134, 0.133, 0.133, 0.131, 0.13, 0.127, 0.125, 0.125, 0.12300000000000001, 0.12, 0.11900000000000001, 0.115, 0.115, 0.121, 0.121, 0.12300000000000001, 0.121, 0.12, 0.12, 0.121, 0.11800000000000001, 0.11800000000000001, 0.11900000000000001, 0.124, 0.13, 0.134, 0.135, 0.133, 0.31, 0.28300000000000003, 0.285, 0.267, 0.26, 0.256, 0.25, 0.243, 0.23399999999999999, 0.228, 0.223, 0.217, 0.21, 0.2, 0.193, 0.18600000000000003, 0.182, 0.17800000000000002, 0.172, 0.168, 0.16399999999999998, 0.16, 0.156, 0.151, 0.14400000000000002, 0.139, 0.13699999999999998, 0.13699999999999998, 0.135, 0.133, 0.128, 0.126, 0.121, 0.11800000000000001, 0.115, 0.11599999999999999, 0.11599999999999999, 0.11800000000000001, 0.11800000000000001, 0.11699999999999999, 0.115, 0.11599999999999999, 0.11599999999999999, 0.115, 0.11199999999999999, 0.11199999999999999, 0.11599999999999999, 0.114, 0.11199999999999999, 0.107, 0.10800000000000001, 0.107, 0.106, 0.105, 0.105, 0.105, 0.105, 0.107, 0.11199999999999999, 0.11599999999999999, 0.11800000000000001, 0.11900000000000001, 0.11599999999999999, 0.11599999999999999, 0.11699999999999999, 0.11, 0.113, 0.111, 0.11, 0.11, 0.105, 0.10099999999999999, 0.1, 0.102, 0.1, 0.1, 0.102, 0.1, 0.1, 0.102, 0.10099999999999999, 0.098, 0.098, 0.1, 0.10099999999999999, 0.10099999999999999, 0.099, 0.10099999999999999, 0.10099999999999999, 0.1, 0.10099999999999999, 0.099, 0.096, 0.094, 0.094, 0.09300000000000001, 0.09300000000000001, 0.09300000000000001, 0.095, 0.095, 0.099, 0.098, 0.09699999999999999, 0.09300000000000001, 0.08800000000000001, 0.092, 0.09300000000000001, 0.087, 0.087, 0.08800000000000001, 0.08900000000000001, 0.091, 0.091, 0.091, 0.08800000000000001, 0.08800000000000001, 0.085, 0.086, 0.092, 0.255, 0.248, 0.247, 0.23399999999999999, 0.228, 0.225, 0.217, 0.214, 0.213, 0.21100000000000002, 0.21, 0.204, 0.2, 0.198, 0.198, 0.19699999999999998, 0.19399999999999998, 0.191, 0.18899999999999997, 0.19, 0.19699999999999998, 0.19699999999999998, 0.196, 0.18600000000000003, 0.18, 0.17800000000000002, 0.17600000000000002, 0.174, 0.17300000000000001, 0.16899999999999998, 0.168, 0.16699999999999998, 0.166, 0.166, 0.166, 0.17300000000000001, 0.179, 0.18, 0.23600000000000002, 0.22699999999999998, 0.226, 0.23199999999999998, 0.228, 0.218, 0.213, 0.21100000000000002, 0.21100000000000002, 0.209, 0.209, 0.207, 0.20600000000000002, 0.204, 0.20199999999999999, 0.205, 0.207, 0.213, 0.218, 0.221, 0.218, 0.218, 0.221, 0.226, 0.225, 0.221, 0.26, 0.27699999999999997, 0.262, 0.255, 0.262, 0.255, 0.247, 0.248, 0.26, 0.251, 0.255, 0.252, 0.244, 0.242, 0.24100000000000002, 0.242, 0.24100000000000002, 0.23600000000000002, 0.235, 0.24100000000000002, 0.275, 0.262, 0.256, 0.253, 0.248, 0.244, 0.245, 0.237, 0.23399999999999999, 0.23800000000000002, 0.23399999999999999, 0.231, 0.228, 0.225, 0.226, 0.225, 0.231, 0.228, 0.223, 0.22699999999999998, 0.23, 0.23, 0.228, 0.21899999999999997, 0.22, 0.217, 0.213, 0.20600000000000002, 0.20199999999999999, 0.198, 0.19699999999999998, 0.198, 0.196, 0.261, 0.285, 0.27399999999999997, 0.278, 0.295, 0.292, 0.284, 0.26899999999999996, 0.27, 0.271, 0.307, 0.284, 0.27399999999999997, 0.28, 0.275, 0.295, 0.284, 0.298, 0.28, 0.272, 0.265, 0.26, 0.253, 0.256, 0.262, 0.257, 0.25, 0.25, 0.24600000000000002, 0.23800000000000002, 0.23, 0.239, 0.23800000000000002, 0.237, 0.233, 0.228, 0.22399999999999998, 0.222, 0.218, 0.213, 0.21899999999999997, 0.259, 0.28600000000000003, 0.275, 0.306, 0.297, 0.287, 0.304, 0.29, 0.281, 0.27, 0.256, 0.245, 0.237, 0.28, 0.268, 0.253, 0.237, 0.23199999999999998, 0.22399999999999998, 0.23, 0.22899999999999998, 0.223, 0.215, 0.21, 0.2, 0.196, 0.19399999999999998, 0.192, 0.187, 0.18100000000000002, 0.175, 0.168, 0.163, 0.154, 0.152, 0.15, 0.14800000000000002, 0.147, 0.192, 0.188, 0.177, 0.165, 0.159, 0.154, 0.14800000000000002, 0.153, 0.18, 0.174, 0.272, 0.263, 0.252, 0.23800000000000002, 0.226, 0.21600000000000003, 0.204, 0.19, 0.19699999999999998, 0.262, 0.24100000000000002, 0.29600000000000004, 0.261, 0.32, 0.29600000000000004, 0.27899999999999997, 0.264, 0.251, 0.24100000000000002, 0.228, 0.215, 0.20199999999999999, 0.191, 0.184, 0.177, 0.16899999999999998, 0.163, 0.159, 0.156, 0.152, 0.146, 0.14300000000000002, 0.141, 0.141, 0.139, 0.13699999999999998, 0.13699999999999998, 0.13699999999999998, 0.134, 0.134, 0.134, 0.133, 0.133, 0.131, 0.13, 0.126, 0.126, 0.12300000000000001, 0.12, 0.11800000000000001, 0.11800000000000001, 0.11599999999999999, 0.115, 0.113, 0.109, 0.109, 0.111, 0.11199999999999999, 0.111, 0.111, 0.109, 0.106, 0.105, 0.10400000000000001, 0.10400000000000001, 0.105, 0.106, 0.10800000000000001, 0.107, 0.105, 0.10400000000000001, 0.10099999999999999, 0.1, 0.098, 0.096, 0.09699999999999999, 0.099, 0.09699999999999999, 0.09699999999999999, 0.096, 0.09699999999999999, 0.096, 0.09300000000000001, 0.094, 0.096, 0.096, 0.09699999999999999, 0.09699999999999999, 0.096, 0.094, 0.094, 0.095, 0.09699999999999999, 0.094, 0.094, 0.094, 0.094, 0.095, 0.094, 0.111, 0.10800000000000001, 0.107, 0.107, 0.109, 0.10800000000000001, 0.11, 0.113, 0.114, 0.11599999999999999, 0.11599999999999999, 0.11699999999999999, 0.11699999999999999, 0.11699999999999999, 0.11599999999999999, 0.114, 0.113, 0.111, 0.10800000000000001, 0.107, 0.10800000000000001, 0.10099999999999999, 0.1, 0.10300000000000001, 0.102, 0.10099999999999999, 0.1, 0.09699999999999999, 0.09300000000000001, 0.092, 0.09300000000000001, 0.09300000000000001, 0.09300000000000001, 0.08900000000000001, 0.087, 0.087, 0.08800000000000001, 0.091, 0.09, 0.091, 0.08900000000000001, 0.087, 0.086, 0.087, 0.09, 0.092, 0.09300000000000001, 0.095, 0.096, 0.094, 0.09300000000000001, 0.09300000000000001, 0.09699999999999999, 0.09699999999999999, 0.08900000000000001, 0.087, 0.09, 0.08900000000000001, 0.08900000000000001, 0.094, 0.092, 0.091, 0.161, 0.188, 0.195, 0.19699999999999998, 0.195, 0.2, 0.201, 0.258, 0.249, 0.247, 0.249, 0.245, 0.24100000000000002, 0.23800000000000002, 0.23600000000000002, 0.24600000000000002, 0.242, 0.237, 0.267, 0.256, 0.257, 0.272, 0.257, 0.25, 0.244, 0.27399999999999997, 0.262, 0.257, 0.254, 0.254, 0.252, 0.253, 0.257, 0.255, 0.251, 0.24600000000000002, 0.243, 0.24, 0.267, 0.255, 0.255, 0.266, 0.255, 0.25, 0.25, 0.25, 0.249, 0.25, 0.244, 0.244, 0.24600000000000002, 0.245, 0.244, 0.245, 0.247, 0.245, 0.24100000000000002, 0.24, 0.23800000000000002, 0.23399999999999999, 0.23199999999999998, 0.23, 0.228, 0.226, 0.225, 0.225, 0.225, 0.222, 0.22, 0.21899999999999997, 0.21899999999999997, 0.21899999999999997, 0.218, 0.22399999999999998, 0.22, 0.221, 0.265, 0.253, 0.25, 0.251, 0.25, 0.245, 0.239, 0.23800000000000002, 0.23600000000000002, 0.233, 0.23, 0.23399999999999999, 0.264, 0.259, 0.251, 0.247, 0.24600000000000002, 0.24600000000000002, 0.243, 0.24100000000000002, 0.242, 0.242, 0.23600000000000002, 0.23199999999999998, 0.22899999999999998, 0.22899999999999998, 0.228, 0.22699999999999998, 0.226, 0.226, 0.22699999999999998, 0.225, 0.223, 0.222, 0.221, 0.22, 0.21899999999999997, 0.21899999999999997, 0.21899999999999997, 0.217, 0.215, 0.21600000000000003, 0.21600000000000003, 0.21600000000000003, 0.213, 0.24600000000000002, 0.243, 0.23800000000000002, 0.235, 0.237, 0.235, 0.231, 0.228, 0.223, 0.222, 0.222, 0.222, 0.217, 0.21600000000000003, 0.214, 0.21100000000000002, 0.212, 0.212, 0.213, 0.213, 0.209, 0.207, 0.20600000000000002, 0.20600000000000002, 0.207, 0.205, 0.204, 0.205, 0.201, 0.195, 0.193, 0.19, 0.18899999999999997, 0.19, 0.18899999999999997, 0.188, 0.188, 0.18899999999999997, 0.191, 0.196, 0.198, 0.193, 0.195, 0.193, 0.244, 0.233, 0.228, 0.223, 0.21899999999999997, 0.213, 0.237, 0.233, 0.231, 0.231, 0.231, 0.22899999999999998, 0.228, 0.223, 0.221, 0.218, 0.218, 0.21600000000000003, 0.217, 0.212, 0.212, 0.21100000000000002, 0.209, 0.20800000000000002, 0.20600000000000002, 0.20600000000000002, 0.207, 0.209, 0.2, 0.19399999999999998, 0.192, 0.193, 0.19399999999999998, 0.196, 0.198, 0.19399999999999998, 0.19, 0.18899999999999997, 0.18899999999999997, 0.18600000000000003, 0.18, 0.17800000000000002, 0.177, 0.174, 0.171, 0.166, 0.158, 0.14800000000000002, 0.14400000000000002, 0.138, 0.139, 0.139, 0.138, 0.13699999999999998, 0.133, 0.132, 0.13, 0.127, 0.128, 0.128, 0.126, 0.12300000000000001, 0.122, 0.11800000000000001, 0.12, 0.124, 0.127, 0.127, 0.132, 0.136, 0.139, 0.142, 0.14, 0.13699999999999998, 0.132, 0.13, 0.12300000000000001, 0.12300000000000001, 0.122, 0.11900000000000001, 0.11900000000000001, 0.113, 0.113, 0.114, 0.115, 0.114, 0.10800000000000001, 0.109, 0.10800000000000001, 0.10800000000000001, 0.106, 0.105, 0.106, 0.10400000000000001, 0.105, 0.102, 0.107, 0.111, 0.109, 0.106, 0.106, 0.106, 0.10400000000000001, 0.10400000000000001, 0.105, 0.105, 0.106, 0.106, 0.10400000000000001, 0.10400000000000001, 0.102, 0.102, 0.10099999999999999, 0.098, 0.096, 0.095, 0.095, 0.096, 0.099, 0.098, 0.098, 0.09699999999999999, 0.096, 0.094, 0.09300000000000001, 0.096, 0.094, 0.095, 0.096, 0.098, 0.122, 0.135, 0.14300000000000002, 0.149, 0.152, 0.153, 0.149, 0.147, 0.15, 0.14800000000000002, 0.14400000000000002, 0.141, 0.141, 0.141, 0.139, 0.138, 0.134, 0.138, 0.135, 0.139, 0.14, 0.14400000000000002, 0.14400000000000002, 0.14800000000000002, 0.15, 0.14800000000000002, 0.19699999999999998, 0.204, 0.204, 0.201, 0.20199999999999999, 0.19899999999999998, 0.198, 0.198, 0.19899999999999998, 0.19899999999999998, 0.193, 0.191, 0.19399999999999998, 0.191, 0.18899999999999997, 0.18899999999999997, 0.18899999999999997, 0.18899999999999997, 0.183, 0.182, 0.188, 0.183, 0.17800000000000002, 0.166, 0.165, 0.16699999999999998, 0.166, 0.162, 0.21899999999999997, 0.235, 0.226, 0.27899999999999997, 0.271, 0.259, 0.253, 0.251, 0.248, 0.247, 0.245, 0.244, 0.247, 0.24, 0.233, 0.23199999999999998, 0.22399999999999998, 0.221, 0.21899999999999997, 0.21100000000000002, 0.21100000000000002, 0.209, 0.21100000000000002, 0.209, 0.265, 0.257, 0.24600000000000002, 0.23800000000000002, 0.239, 0.23600000000000002, 0.233, 0.268, 0.26899999999999996, 0.263, 0.255, 0.249, 0.252, 0.251, 0.27899999999999997, 0.26899999999999996, 0.266, 0.29, 0.281, 0.27, 0.258, 0.252, 0.253, 0.249, 0.247, 0.248, 0.253, 0.24600000000000002, 0.251, 0.248, 0.252, 0.249, 0.24600000000000002, 0.244, 0.239, 0.235, 0.309, 0.299, 0.305, 0.287, 0.273, 0.267, 0.264, 0.262, 0.255, 0.251, 0.24600000000000002, 0.244, 0.243, 0.24100000000000002, 0.23800000000000002, 0.245, 0.24600000000000002, 0.244, 0.242, 0.24100000000000002, 0.239, 0.24, 0.239, 0.23600000000000002, 0.235, 0.23399999999999999, 0.23399999999999999, 0.248, 0.256, 0.26899999999999996, 0.261, 0.255, 0.244, 0.24, 0.24, 0.23800000000000002, 0.239, 0.262, 0.258, 0.257, 0.264, 0.271, 0.27399999999999997, 0.275, 0.275, 0.271, 0.262, 0.258, 0.252, 0.247, 0.248, 0.268, 0.261, 0.26, 0.254, 0.252, 0.252, 0.244, 0.24, 0.239, 0.242, 0.23199999999999998, 0.22699999999999998, 0.225, 0.22399999999999998, 0.22399999999999998, 0.223, 0.221, 0.223, 0.218, 0.218, 0.215, 0.217, 0.21600000000000003, 0.26, 0.252, 0.251, 0.24600000000000002, 0.23800000000000002, 0.23199999999999998, 0.23, 0.22699999999999998, 0.22699999999999998, 0.22699999999999998, 0.23, 0.225, 0.218, 0.215, 0.257, 0.28600000000000003, 0.272, 0.266, 0.262, 0.257, 0.262, 0.267, 0.262, 0.256, 0.248, 0.242, 0.23800000000000002, 0.237, 0.233, 0.226, 0.22699999999999998, 0.22699999999999998, 0.225, 0.225, 0.228, 0.29, 0.27899999999999997, 0.287, 0.278, 0.3, 0.28600000000000003, 0.27899999999999997, 0.27, 0.264, 0.262, 0.27699999999999997, 0.282, 0.292, 0.285, 0.273, 0.267, 0.304, 0.292, 0.284, 0.27699999999999997, 0.27, 0.262, 0.254, 0.249, 0.243, 0.24100000000000002, 0.235, 0.23, 0.223, 0.213, 0.20600000000000002, 0.2, 0.198, 0.2, 0.195, 0.191, 0.188, 0.249, 0.282, 0.261, 0.245, 0.233, 0.223, 0.215, 0.209, 0.201, 0.19699999999999998, 0.19, 0.18100000000000002, 0.177, 0.172, 0.168, 0.165, 0.16399999999999998, 0.163, 0.158, 0.156, 0.157, 0.157, 0.152, 0.149, 0.15, 0.14800000000000002, 0.163, 0.157, 0.151, 0.14800000000000002, 0.14, 0.13699999999999998, 0.13699999999999998, 0.138, 0.138, 0.13699999999999998, 0.13699999999999998, 0.13699999999999998, 0.138, 0.138, 0.138, 0.139, 0.138, 0.133, 0.133, 0.132, 0.133, 0.135, 0.14300000000000002, 0.171, 0.17300000000000001, 0.171, 0.17, 0.17300000000000001, 0.174, 0.16899999999999998, 0.172, 0.163, 0.165, 0.16699999999999998, 0.16899999999999998, 0.16699999999999998, 0.168, 0.165, 0.166, 0.166, 0.16399999999999998, 0.16699999999999998, 0.166, 0.165, 0.162, 0.166, 0.16399999999999998, 0.166, 0.16699999999999998, 0.17, 0.177, 0.171, 0.17, 0.16699999999999998, 0.16699999999999998, 0.16399999999999998, 0.16, 0.162, 0.16399999999999998, 0.2, 0.192, 0.18899999999999997, 0.185, 0.18100000000000002, 0.18100000000000002, 0.174, 0.17, 0.172, 0.174, 0.174, 0.17800000000000002, 0.179, 0.183, 0.184, 0.184, 0.179, 0.179, 0.18100000000000002, 0.183, 0.187, 0.191, 0.188, 0.187, 0.18, 0.18100000000000002, 0.184, 0.184, 0.179, 0.18, 0.18, 0.17600000000000002, 0.18100000000000002, 0.177, 0.17800000000000002, 0.184, 0.185, 0.18600000000000003, 0.185, 0.18600000000000003, 0.188, 0.188, 0.191, 0.188, 0.185, 0.21899999999999997, 0.29100000000000004, 0.308, 0.316, 0.316, 0.304, 0.301, 0.308, 0.306, 0.307, 0.31, 0.315, 0.312, 0.305, 0.267, 0.289, 0.315, 0.32299999999999995, 0.326, 0.31, 0.299, 0.313, 0.313, 0.317, 0.301, 0.318, 0.317, 0.32, 0.32, 0.318, 0.4, 0.462, 0.48700000000000004, 0.45899999999999996, 0.439, 0.43700000000000006, 0.424, 0.41700000000000004, 0.423, 0.423, 0.414, 0.41600000000000004, 0.42, 0.419, 0.41600000000000004, 0.4, 0.405, 0.47600000000000003, 0.503, 0.47100000000000003, 0.504, 0.473, 0.46799999999999997, 0.46, 0.46399999999999997, 0.46, 0.473, 0.475, 0.45299999999999996, 0.451, 0.452, 0.442, 0.42700000000000005, 0.42100000000000004, 0.42100000000000004, 0.41600000000000004, 0.42100000000000004, 0.433, 0.502, 0.478, 0.47100000000000003, 0.466, 0.452, 0.449, 0.43200000000000005, 0.449, 0.434, 0.428, 0.444, 0.434, 0.426, 0.444, 0.474, 0.46, 0.45799999999999996, 0.45899999999999996, 0.466, 0.461, 0.445, 0.44799999999999995, 0.47100000000000003, 0.47, 0.485, 0.488, 0.48, 0.473, 0.45399999999999996, 0.43799999999999994, 0.431, 0.479, 0.461, 0.44799999999999995, 0.449], \"xaxis\": \"x\", \"y\": [\"SMC1\", \"SMC1\", \"SMC1\", \"SMC1\", \"SMC1\", \"SMC1\", \"SMC1\", \"SMC1\", \"SMC1\", \"SMC1\", \"SMC1\", \"SMC1\", \"SMC1\", \"SMC1\", \"SMC1\", \"SMC1\", \"SMC1\", \"SMC1\", \"SMC1\", \"SMC1\", \"SMC1\", \"SMC1\", \"SMC1\", \"SMC1\", \"SMC1\", \"SMC1\", \"SMC1\", \"SMC1\", \"SMC1\", \"SMC1\", \"SMC1\", \"SMC1\", \"SMC1\", \"SMC1\", \"SMC1\", \"SMC1\", \"SMC1\", \"SMC1\", \"SMC1\", \"SMC1\", \"SMC1\", \"SMC1\", \"SMC1\", \"SMC1\", \"SMC1\", \"SMC1\", \"SMC1\", \"SMC1\", \"SMC1\", \"SMC1\", \"SMC1\", \"SMC1\", \"SMC1\", \"SMC1\", \"SMC1\", \"SMC1\", \"SMC1\", \"SMC1\", \"SMC1\", \"SMC1\", \"SMC1\", \"SMC1\", \"SMC1\", \"SMC1\", \"SMC1\", \"SMC1\", \"SMC1\", \"SMC1\", \"SMC1\", \"SMC1\", \"SMC1\", \"SMC1\", \"SMC1\", \"SMC1\", \"SMC1\", \"SMC1\", \"SMC1\", \"SMC1\", \"SMC1\", \"SMC1\", \"SMC1\", \"SMC1\", \"SMC1\", \"SMC1\", \"SMC1\", \"SMC1\", \"SMC1\", \"SMC1\", \"SMC1\", \"SMC1\", \"SMC1\", \"SMC1\", \"SMC1\", \"SMC1\", \"SMC1\", \"SMC1\", \"SMC1\", \"SMC1\", \"SMC1\", \"SMC1\", \"SMC1\", \"SMC1\", \"SMC1\", \"SMC1\", \"SMC1\", \"SMC1\", \"SMC1\", \"SMC1\", \"SMC1\", \"SMC1\", \"SMC1\", \"SMC1\", \"SMC1\", \"SMC1\", \"SMC1\", \"SMC1\", \"SMC1\", \"SMC1\", \"SMC1\", \"SMC1\", \"SMC1\", \"SMC1\", \"SMC1\", \"SMC1\", \"SMC1\", \"SMC1\", \"SMC1\", \"SMC1\", \"SMC1\", \"SMC1\", \"SMC1\", \"SMC1\", \"SMC1\", \"SMC1\", \"SMC1\", \"SMC1\", \"SMC1\", \"SMC1\", \"SMC1\", \"SMC1\", \"SMC1\", \"SMC1\", \"SMC1\", \"SMC1\", \"SMC1\", \"SMC1\", \"SMC1\", \"SMC1\", \"SMC1\", \"SMC1\", \"SMC1\", \"SMC1\", \"SMC1\", \"SMC1\", \"SMC1\", \"SMC1\", \"SMC1\", \"SMC1\", \"SMC1\", \"SMC1\", \"SMC1\", \"SMC1\", \"SMC1\", \"SMC1\", \"SMC1\", \"SMC1\", \"SMC1\", \"SMC1\", \"SMC1\", \"SMC1\", \"SMC1\", \"SMC1\", \"SMC1\", \"SMC1\", \"SMC1\", \"SMC1\", \"SMC1\", \"SMC1\", \"SMC1\", \"SMC1\", \"SMC1\", \"SMC1\", \"SMC1\", \"SMC1\", \"SMC1\", \"SMC1\", \"SMC1\", \"SMC1\", \"SMC1\", \"SMC1\", \"SMC1\", \"SMC1\", \"SMC1\", \"SMC1\", \"SMC1\", \"SMC1\", \"SMC1\", \"SMC1\", \"SMC1\", \"SMC1\", \"SMC1\", \"SMC1\", \"SMC1\", \"SMC1\", \"SMC1\", \"SMC1\", \"SMC1\", \"SMC1\", \"SMC1\", \"SMC1\", \"SMC1\", \"SMC1\", \"SMC1\", \"SMC1\", \"SMC1\", \"SMC1\", \"SMC1\", \"SMC1\", \"SMC1\", \"SMC1\", \"SMC1\", \"SMC1\", \"SMC1\", \"SMC1\", \"SMC1\", \"SMC1\", \"SMC1\", \"SMC1\", \"SMC1\", \"SMC1\", \"SMC1\", \"SMC1\", \"SMC1\", \"SMC1\", \"SMC1\", \"SMC1\", \"SMC1\", \"SMC1\", \"SMC1\", \"SMC1\", \"SMC1\", \"SMC1\", \"SMC1\", \"SMC1\", \"SMC1\", \"SMC1\", \"SMC1\", \"SMC1\", \"SMC1\", \"SMC1\", \"SMC1\", \"SMC1\", \"SMC1\", \"SMC1\", \"SMC1\", \"SMC1\", \"SMC1\", \"SMC1\", \"SMC1\", \"SMC1\", \"SMC1\", \"SMC1\", \"SMC1\", \"SMC1\", \"SMC1\", \"SMC1\", \"SMC1\", \"SMC1\", \"SMC1\", \"SMC1\", \"SMC1\", \"SMC1\", \"SMC1\", \"SMC1\", \"SMC1\", \"SMC1\", \"SMC1\", \"SMC1\", \"SMC1\", \"SMC1\", \"SMC1\", \"SMC1\", \"SMC1\", \"SMC1\", \"SMC1\", \"SMC1\", \"SMC1\", \"SMC1\", \"SMC1\", \"SMC1\", \"SMC1\", \"SMC1\", \"SMC1\", \"SMC1\", \"SMC1\", \"SMC1\", \"SMC1\", \"SMC1\", \"SMC1\", \"SMC1\", \"SMC1\", \"SMC1\", \"SMC1\", \"SMC1\", \"SMC1\", \"SMC1\", \"SMC1\", \"SMC1\", \"SMC1\", \"SMC1\", \"SMC1\", \"SMC1\", \"SMC1\", \"SMC1\", \"SMC1\", \"SMC1\", \"SMC1\", \"SMC1\", \"SMC1\", \"SMC1\", \"SMC1\", \"SMC1\", \"SMC1\", \"SMC1\", \"SMC1\", \"SMC1\", \"SMC1\", \"SMC1\", \"SMC1\", \"SMC1\", \"SMC1\", \"SMC1\", \"SMC1\", \"SMC1\", \"SMC1\", \"SMC1\", \"SMC1\", \"SMC1\", \"SMC1\", \"SMC1\", \"SMC1\", \"SMC1\", \"SMC1\", \"SMC1\", \"SMC1\", \"SMC1\", \"SMC1\", \"SMC1\", \"SMC1\", \"SMC1\", \"SMC1\", \"SMC1\", \"SMC1\", \"SMC1\", \"SMC1\", \"SMC1\", \"SMC1\", \"SMC1\", \"SMC1\", \"SMC1\", \"SMC1\", \"SMC1\", \"SMC1\", \"SMC1\", \"SMC1\", \"SMC1\", \"SMC1\", \"SMC1\", \"SMC1\", \"SMC1\", \"SMC1\", \"SMC1\", \"SMC1\", \"SMC1\", \"SMC1\", \"SMC1\", \"SMC1\", \"SMC1\", \"SMC1\", \"SMC1\", \"SMC1\", \"SMC1\", \"SMC1\", \"SMC1\", \"SMC1\", \"SMC1\", \"SMC1\", \"SMC1\", \"SMC1\", \"SMC1\", \"SMC1\", \"SMC1\", \"SMC1\", \"SMC1\", \"SMC1\", \"SMC1\", \"SMC1\", \"SMC1\", \"SMC1\", \"SMC1\", \"SMC1\", \"SMC1\", \"SMC1\", \"SMC1\", \"SMC1\", \"SMC1\", \"SMC1\", \"SMC1\", \"SMC1\", \"SMC1\", \"SMC1\", \"SMC1\", \"SMC1\", \"SMC1\", \"SMC1\", \"SMC1\", \"SMC1\", \"SMC1\", \"SMC1\", \"SMC1\", \"SMC1\", \"SMC1\", \"SMC1\", \"SMC1\", \"SMC1\", \"SMC1\", \"SMC1\", \"SMC1\", \"SMC1\", \"SMC1\", \"SMC1\", \"SMC1\", \"SMC1\", \"SMC1\", \"SMC1\", \"SMC1\", \"SMC1\", \"SMC1\", \"SMC1\", \"SMC1\", \"SMC1\", \"SMC1\", \"SMC1\", \"SMC1\", \"SMC1\", \"SMC1\", \"SMC1\", \"SMC1\", \"SMC1\", \"SMC1\", \"SMC1\", \"SMC1\", \"SMC1\", \"SMC1\", \"SMC1\", \"SMC1\", \"SMC1\", \"SMC1\", \"SMC1\", \"SMC1\", \"SMC1\", \"SMC1\", \"SMC1\", \"SMC1\", \"SMC1\", \"SMC1\", \"SMC1\", \"SMC1\", \"SMC1\", \"SMC1\", \"SMC1\", \"SMC1\", \"SMC1\", \"SMC1\", \"SMC1\", \"SMC1\", \"SMC1\", \"SMC1\", \"SMC1\", \"SMC1\", \"SMC1\", \"SMC1\", \"SMC1\", \"SMC1\", \"SMC1\", \"SMC1\", \"SMC1\", \"SMC1\", \"SMC1\", \"SMC1\", \"SMC1\", \"SMC1\", \"SMC1\", \"SMC1\", \"SMC1\", \"SMC1\", \"SMC1\", \"SMC1\", \"SMC1\", \"SMC1\", \"SMC1\", \"SMC1\", \"SMC1\", \"SMC1\", \"SMC1\", \"SMC1\", \"SMC1\", \"SMC1\", \"SMC1\", \"SMC1\", \"SMC1\", \"SMC1\", \"SMC1\", \"SMC1\", \"SMC1\", \"SMC1\", \"SMC1\", \"SMC1\", \"SMC1\", \"SMC1\", \"SMC1\", \"SMC1\", \"SMC1\", \"SMC1\", \"SMC1\", \"SMC1\", \"SMC1\", \"SMC1\", \"SMC1\", \"SMC1\", \"SMC1\", \"SMC1\", \"SMC1\", \"SMC1\", \"SMC1\", \"SMC1\", \"SMC1\", \"SMC1\", \"SMC1\", \"SMC1\", \"SMC1\", \"SMC1\", \"SMC1\", \"SMC1\", \"SMC1\", \"SMC1\", \"SMC1\", \"SMC1\", \"SMC1\", \"SMC1\", \"SMC1\", \"SMC1\", \"SMC1\", \"SMC1\", \"SMC1\", \"SMC1\", \"SMC1\", \"SMC1\", \"SMC1\", \"SMC1\", \"SMC1\", \"SMC1\", \"SMC1\", \"SMC1\", \"SMC1\", \"SMC1\", \"SMC1\", \"SMC1\", \"SMC1\", \"SMC1\", \"SMC1\", \"SMC1\", \"SMC1\", \"SMC1\", \"SMC1\", \"SMC1\", \"SMC1\", \"SMC1\", \"SMC1\", \"SMC1\", \"SMC1\", \"SMC1\", \"SMC1\", \"SMC1\", \"SMC1\", \"SMC1\", \"SMC1\", \"SMC1\", \"SMC1\", \"SMC1\", \"SMC1\", \"SMC1\", \"SMC1\", \"SMC1\", \"SMC1\", \"SMC1\", \"SMC1\", \"SMC1\", \"SMC1\", \"SMC1\", \"SMC1\", \"SMC1\", \"SMC1\", \"SMC1\", \"SMC1\", \"SMC1\", \"SMC1\", \"SMC1\", \"SMC1\", \"SMC1\", \"SMC1\", \"SMC1\", \"SMC1\", \"SMC1\", \"SMC1\", \"SMC1\", \"SMC1\", \"SMC1\", \"SMC1\", \"SMC1\", \"SMC1\", \"SMC1\", \"SMC1\", \"SMC1\", \"SMC1\", \"SMC1\", \"SMC1\", \"SMC1\", \"SMC1\", \"SMC1\", \"SMC1\", \"SMC1\", \"SMC1\", \"SMC1\", \"SMC1\", \"SMC1\", \"SMC1\", \"SMC1\", \"SMC1\", \"SMC1\", \"SMC1\", \"SMC1\", \"SMC1\", \"SMC1\", \"SMC1\", \"SMC1\", \"SMC1\", \"SMC1\", \"SMC1\", \"SMC1\", \"SMC1\", \"SMC1\", \"SMC1\", \"SMC1\", \"SMC1\", \"SMC1\", \"SMC1\", \"SMC1\", \"SMC1\", \"SMC1\", \"SMC1\", \"SMC1\", \"SMC1\", \"SMC1\", \"SMC1\", \"SMC1\", \"SMC1\", \"SMC1\", \"SMC1\", \"SMC1\", \"SMC1\", \"SMC1\", \"SMC1\", \"SMC1\", \"SMC1\", \"SMC1\", \"SMC1\", \"SMC1\", \"SMC1\", \"SMC1\", \"SMC1\", \"SMC1\", \"SMC1\", \"SMC1\", \"SMC1\", \"SMC1\", \"SMC1\", \"SMC1\", \"SMC1\", \"SMC1\", \"SMC1\", \"SMC1\", \"SMC1\", \"SMC1\", \"SMC1\", \"SMC1\", \"SMC1\", \"SMC1\", \"SMC1\", \"SMC1\", \"SMC1\", \"SMC1\", \"SMC1\", \"SMC1\", \"SMC1\", \"SMC1\", \"SMC1\", \"SMC1\", \"SMC1\", \"SMC1\", \"SMC1\", \"SMC1\", \"SMC1\", \"SMC1\", \"SMC1\", \"SMC1\", \"SMC1\", \"SMC1\", \"SMC1\", \"SMC1\", \"SMC1\", \"SMC1\", \"SMC1\", \"SMC1\", \"SMC1\", \"SMC1\", \"SMC1\", \"SMC1\", \"SMC1\", \"SMC1\", \"SMC1\", \"SMC1\", \"SMC1\", \"SMC1\", \"SMC1\", \"SMC1\", \"SMC1\", \"SMC1\", \"SMC1\", \"SMC1\", \"SMC1\", \"SMC1\", \"SMC1\", \"SMC1\", \"SMC1\", \"SMC1\", \"SMC1\", \"SMC1\", \"SMC1\", \"SMC1\", \"SMC1\", \"SMC1\", \"SMC1\", \"SMC1\", \"SMC1\", \"SMC1\", \"SMC1\", \"SMC1\", \"SMC1\", \"SMC1\", \"SMC1\", \"SMC1\", \"SMC1\", \"SMC1\", \"SMC1\", \"SMC1\", \"SMC1\", \"SMC1\", \"SMC1\", \"SMC1\", \"SMC1\", \"SMC1\", \"SMC1\", \"SMC1\", \"SMC1\", \"SMC1\", \"SMC1\", \"SMC1\", \"SMC1\", \"SMC1\", \"SMC1\", \"SMC1\", \"SMC1\", \"SMC1\", \"SMC1\", \"SMC1\", \"SMC1\", \"SMC1\", \"SMC1\", \"SMC1\", \"SMC1\", \"SMC1\", \"SMC1\", \"SMC1\", \"SMC1\", \"SMC1\", \"SMC1\", \"SMC1\", \"SMC1\", \"SMC1\", \"SMC1\", \"SMC1\", \"SMC1\", \"SMC1\", \"SMC1\", \"SMC1\", \"SMC1\", \"SMC1\", \"SMC1\", \"SMC1\", \"SMC1\", \"SMC1\", \"SMC1\", \"SMC1\", \"SMC1\", \"SMC1\", \"SMC1\", \"SMC1\", \"SMC1\", \"SMC1\", \"SMC1\", \"SMC1\", \"SMC1\", \"SMC1\", \"SMC1\", \"SMC1\", \"SMC1\", \"SMC1\", \"SMC1\", \"SMC1\", \"SMC1\", \"SMC1\", \"SMC1\", \"SMC1\", \"SMC1\", \"SMC1\", \"SMC1\", \"SMC1\", \"SMC1\", \"SMC1\", \"SMC1\", \"SMC1\", \"SMC1\", \"SMC1\", \"SMC1\", \"SMC1\", \"SMC1\", \"SMC1\", \"SMC1\", \"SMC1\", \"SMC1\", \"SMC1\", \"SMC1\", \"SMC1\", \"SMC1\", \"SMC1\", \"SMC1\", \"SMC1\", \"SMC1\", \"SMC1\", \"SMC1\", \"SMC1\", \"SMC1\", \"SMC1\", \"SMC1\", \"SMC1\", \"SMC1\", \"SMC1\", \"SMC1\", \"SMC1\", \"SMC1\", \"SMC1\", \"SMC1\", \"SMC1\", \"SMC1\", \"SMC1\", \"SMC1\", \"SMC1\", \"SMC1\", \"SMC1\", \"SMC1\", \"SMC1\", \"SMC1\", \"SMC1\", \"SMC1\", \"SMC1\", \"SMC1\", \"SMC1\", \"SMC1\", \"SMC1\", \"SMC1\", \"SMC1\", \"SMC1\", \"SMC1\", \"SMC1\", \"SMC1\", \"SMC1\", \"SMC1\", \"SMC1\", \"SMC1\", \"SMC1\", \"SMC1\", \"SMC1\", \"SMC1\", \"SMC1\", \"SMC1\", \"SMC1\", \"SMC1\", \"SMC1\", \"SMC1\", \"SMC1\", \"SMC1\", \"SMC1\", \"SMC1\", \"SMC1\", \"SMC1\", \"SMC1\", \"SMC1\", \"SMC1\", \"SMC1\", \"SMC1\", \"SMC1\", \"SMC1\", \"SMC1\", \"SMC1\", \"SMC1\", \"SMC1\", \"SMC1\", \"SMC1\", \"SMC1\", \"SMC1\", \"SMC1\", \"SMC1\", \"SMC1\", \"SMC1\", \"SMC1\", \"SMC1\", \"SMC1\", \"SMC1\", \"SMC1\", \"SMC1\", \"SMC1\", \"SMC1\", \"SMC1\", \"SMC1\", \"SMC1\", \"SMC1\", \"SMC1\", \"SMC1\", \"SMC1\", \"SMC1\", \"SMC1\", \"SMC1\", \"SMC1\", \"SMC1\", \"SMC1\", \"SMC1\", \"SMC1\", \"SMC1\", \"SMC1\", \"SMC1\", \"SMC1\", \"SMC1\", \"SMC1\", \"SMC1\", \"SMC1\", \"SMC1\", \"SMC1\", \"SMC1\", \"SMC1\", \"SMC1\", \"SMC1\", \"SMC1\", \"SMC1\", \"SMC1\", \"SMC1\", \"SMC1\", \"SMC1\", \"SMC1\", \"SMC1\", \"SMC1\", \"SMC1\", \"SMC1\", \"SMC1\", \"SMC1\", \"SMC1\", \"SMC1\", \"SMC1\", \"SMC1\", \"SMC1\", \"SMC1\", \"SMC1\", \"SMC1\", \"SMC1\", \"SMC1\", \"SMC1\", \"SMC1\", \"SMC1\", \"SMC1\", \"SMC1\", \"SMC1\", \"SMC1\", \"SMC1\", \"SMC1\", \"SMC1\", \"SMC1\", \"SMC1\", \"SMC1\", \"SMC1\", \"SMC1\", \"SMC1\", \"SMC1\", \"SMC1\", \"SMC1\", \"SMC1\", \"SMC1\", \"SMC1\", \"SMC1\", \"SMC1\", \"SMC1\", \"SMC1\", \"SMC1\", \"SMC1\", \"SMC1\", \"SMC1\", \"SMC1\", \"SMC1\", \"SMC1\", \"SMC1\", \"SMC1\", \"SMC1\", \"SMC1\", \"SMC1\", \"SMC1\", \"SMC1\", \"SMC1\", \"SMC1\", \"SMC1\", \"SMC1\", \"SMC1\", \"SMC1\", \"SMC1\", \"SMC1\", \"SMC1\", \"SMC1\", \"SMC1\", \"SMC1\", \"SMC1\", \"SMC1\", \"SMC1\", \"SMC1\", \"SMC1\", \"SMC1\", \"SMC1\", \"SMC1\", \"SMC1\", \"SMC1\", \"SMC1\", \"SMC1\", \"SMC1\", \"SMC1\", \"SMC1\", \"SMC1\", \"SMC1\", \"SMC1\", \"SMC1\", \"SMC1\", \"SMC1\", \"SMC1\", \"SMC1\", \"SMC1\", \"SMC1\", \"SMC1\", \"SMC1\", \"SMC1\", \"SMC1\", \"SMC1\", \"SMC1\", \"SMC1\", \"SMC1\", \"SMC1\", \"SMC1\", \"SMC1\", \"SMC1\", \"SMC1\", \"SMC1\", \"SMC1\", \"SMC1\", \"SMC1\", \"SMC1\", \"SMC1\", \"SMC1\", \"SMC1\", \"SMC1\", \"SMC1\", \"SMC1\", \"SMC1\", \"SMC1\", \"SMC1\", \"SMC1\", \"SMC1\", \"SMC1\", \"SMC1\", \"SMC1\", \"SMC1\", \"SMC1\", \"SMC1\", \"SMC1\", \"SMC1\", \"SMC1\", \"SMC1\", \"SMC1\", \"SMC1\", \"SMC1\", \"SMC1\", \"SMC1\", \"SMC1\", \"SMC1\", \"SMC1\", \"SMC1\", \"SMC1\", \"SMC1\", \"SMC1\", \"SMC1\", \"SMC1\", \"SMC1\", \"SMC1\", \"SMC1\", \"SMC1\", \"SMC1\", \"SMC1\", \"SMC1\", \"SMC1\", \"SMC1\", \"SMC1\", \"SMC1\", \"SMC1\", \"SMC1\", \"SMC1\", \"SMC1\", \"SMC1\", \"SMC1\", \"SMC1\", \"SMC1\", \"SMC1\", \"SMC1\", \"SMC1\", \"SMC1\", \"SMC1\", \"SMC1\", \"SMC1\", \"SMC1\", \"SMC1\", \"SMC1\", \"SMC1\", \"SMC1\", \"SMC1\", \"SMC1\", \"SMC1\", \"SMC1\", \"SMC1\", \"SMC1\", \"SMC1\", \"SMC1\", \"SMC1\", \"SMC1\", \"SMC1\", \"SMC1\", \"SMC1\", \"SMC1\", \"SMC1\", \"SMC1\", \"SMC1\", \"SMC1\", \"SMC1\", \"SMC1\", \"SMC1\", \"SMC1\", \"SMC1\", \"SMC1\", \"SMC1\", \"SMC1\", \"SMC1\", \"SMC1\", \"SMC1\", \"SMC1\", \"SMC1\", \"SMC1\", \"SMC1\", \"SMC1\", \"SMC1\", \"SMC1\", \"SMC1\", \"SMC1\", \"SMC1\", \"SMC1\", \"SMC1\", \"SMC1\", \"SMC1\", \"SMC1\", \"SMC1\", \"SMC1\", \"SMC1\", \"SMC1\", \"SMC1\", \"SMC1\", \"SMC1\", \"SMC1\", \"SMC1\", \"SMC1\", \"SMC1\", \"SMC1\", \"SMC1\", \"SMC1\", \"SMC1\", \"SMC1\", \"SMC1\", \"SMC1\", \"SMC1\", \"SMC1\", \"SMC1\", \"SMC1\", \"SMC1\", \"SMC1\", \"SMC1\", \"SMC1\", \"SMC1\", \"SMC1\", \"SMC1\", \"SMC1\", \"SMC1\", \"SMC1\", \"SMC1\", \"SMC1\", \"SMC1\", \"SMC1\", \"SMC1\", \"SMC1\", \"SMC1\", \"SMC1\", \"SMC1\", \"SMC1\", \"SMC1\", \"SMC1\", \"SMC1\", \"SMC1\", \"SMC1\", \"SMC1\", \"SMC1\", \"SMC1\", \"SMC1\", \"SMC1\", \"SMC1\", \"SMC1\", \"SMC1\", \"SMC1\", \"SMC1\", \"SMC1\", \"SMC1\", \"SMC1\", \"SMC1\", \"SMC1\", \"SMC1\", \"SMC1\", \"SMC1\", \"SMC1\", \"SMC1\", \"SMC1\", \"SMC1\", \"SMC1\", \"SMC1\", \"SMC1\", \"SMC1\", \"SMC1\", \"SMC1\", \"SMC1\", \"SMC1\", \"SMC1\", \"SMC1\", \"SMC1\", \"SMC1\", \"SMC1\", \"SMC1\", \"SMC1\", \"SMC1\", \"SMC1\", \"SMC1\", \"SMC1\", \"SMC1\", \"SMC1\", \"SMC1\", \"SMC1\", \"SMC1\", \"SMC1\", \"SMC1\", \"SMC1\", \"SMC1\", \"SMC1\", \"SMC1\", \"SMC1\", \"SMC1\", \"SMC1\", \"SMC1\", \"SMC1\", \"SMC1\", \"SMC1\", \"SMC1\", \"SMC1\", \"SMC1\", \"SMC1\", \"SMC1\", \"SMC1\", \"SMC1\", \"SMC1\", \"SMC1\", \"SMC1\", \"SMC1\", \"SMC1\", \"SMC1\", \"SMC1\", \"SMC1\", \"SMC1\", \"SMC1\", \"SMC1\", \"SMC1\", \"SMC1\", \"SMC1\", \"SMC1\", \"SMC1\", \"SMC1\", \"SMC1\", \"SMC1\", \"SMC1\", \"SMC1\", \"SMC1\", \"SMC1\", \"SMC1\", \"SMC1\", \"SMC1\", \"SMC1\", \"SMC1\", \"SMC1\", \"SMC1\", \"SMC1\", \"SMC1\", \"SMC1\", \"SMC1\", \"SMC1\", \"SMC1\", \"SMC1\", \"SMC1\", \"SMC1\", \"SMC1\", \"SMC1\", \"SMC1\", \"SMC1\", \"SMC1\", \"SMC1\", \"SMC1\", \"SMC1\", \"SMC1\", \"SMC1\", \"SMC1\", \"SMC1\", \"SMC1\", \"SMC1\", \"SMC1\", \"SMC1\", \"SMC1\", \"SMC1\", \"SMC1\", \"SMC1\", \"SMC1\", \"SMC1\", \"SMC1\", \"SMC1\", \"SMC1\", \"SMC1\", \"SMC1\", \"SMC1\", \"SMC1\", \"SMC1\", \"SMC1\", \"SMC1\", \"SMC1\", \"SMC1\", \"SMC1\", \"SMC1\", \"SMC1\", \"SMC1\", \"SMC1\", \"SMC1\", \"SMC1\", \"SMC1\", \"SMC1\", \"SMC1\", \"SMC1\", \"SMC1\", \"SMC1\", \"SMC1\", \"SMC1\", \"SMC1\"], \"yaxis\": \"y2\"}, {\"legendgroup\": \"SMC2\", \"marker\": {\"color\": \"rgb(255, 127, 14)\", \"symbol\": \"line-ns-open\"}, \"mode\": \"markers\", \"name\": \"SMC2\", \"showlegend\": false, \"type\": \"scatter\", \"x\": [0.195, 0.19399999999999998, 0.192, 0.18600000000000003, 0.18899999999999997, 0.19, 0.188, 0.18600000000000003, 0.184, 0.183, 0.183, 0.177, 0.174, 0.177, 0.17600000000000002, 0.175, 0.172, 0.16899999999999998, 0.166, 0.16399999999999998, 0.159, 0.153, 0.14800000000000002, 0.146, 0.14400000000000002, 0.145, 0.14300000000000002, 0.14400000000000002, 0.141, 0.14, 0.13699999999999998, 0.132, 0.13, 0.11199999999999999, 0.11199999999999999, 0.109, 0.109, 0.107, 0.107, 0.10800000000000001, 0.10800000000000001, 0.107, 0.10300000000000001, 0.10099999999999999, 0.099, 0.10099999999999999, 0.098, 0.11199999999999999, 0.11199999999999999, 0.109, 0.109, 0.107, 0.107, 0.10800000000000001, 0.10800000000000001, 0.107, 0.10300000000000001, 0.10099999999999999, 0.099, 0.10099999999999999, 0.098, 0.099, 0.102, 0.10300000000000001, 0.10300000000000001, 0.10099999999999999, 0.099, 0.1, 0.102, 0.10300000000000001, 0.10099999999999999, 0.149, 0.146, 0.145, 0.14400000000000002, 0.142, 0.14300000000000002, 0.139, 0.132, 0.132, 0.132, 0.13, 0.132, 0.131, 0.13, 0.13, 0.124, 0.128, 0.127, 0.127, 0.129, 0.129, 0.13, 0.128, 0.12300000000000001, 0.11800000000000001, 0.11699999999999999, 0.11599999999999999, 0.11599999999999999, 0.11699999999999999, 0.113, 0.11199999999999999, 0.11199999999999999, 0.109, 0.106, 0.106, 0.105, 0.10300000000000001, 0.102, 0.1, 0.096, 0.094, 0.09699999999999999, 0.10099999999999999, 0.1, 0.09699999999999999, 0.09, 0.091, 0.09, 0.091, 0.094, 0.095, 0.096, 0.096, 0.09699999999999999, 0.09699999999999999, 0.096, 0.08800000000000001, 0.23800000000000002, 0.235, 0.22899999999999998, 0.221, 0.222, 0.221, 0.22, 0.215, 0.20800000000000002, 0.204, 0.203, 0.196, 0.188, 0.183, 0.17800000000000002, 0.17300000000000001, 0.16899999999999998, 0.166, 0.158, 0.156, 0.153, 0.14800000000000002, 0.14400000000000002, 0.14, 0.135, 0.132, 0.13, 0.128, 0.126, 0.124, 0.11900000000000001, 0.11900000000000001, 0.115, 0.11199999999999999, 0.109, 0.10800000000000001, 0.10800000000000001, 0.10800000000000001, 0.106, 0.10400000000000001, 0.10300000000000001, 0.10300000000000001, 0.10099999999999999, 0.098, 0.096, 0.095, 0.096, 0.09300000000000001, 0.09, 0.08900000000000001, 0.086, 0.083, 0.085, 0.087, 0.08900000000000001, 0.08900000000000001, 0.09, 0.091, 0.096, 0.098, 0.099, 0.098, 0.09300000000000001, 0.092, 0.08900000000000001, 0.086, 0.087, 0.086, 0.085, 0.085, 0.081, 0.08, 0.079, 0.078, 0.079, 0.077, 0.079, 0.078, 0.078, 0.078, 0.077, 0.075, 0.076, 0.076, 0.076, 0.075, 0.075, 0.076, 0.076, 0.075, 0.075, 0.073, 0.07, 0.07, 0.069, 0.068, 0.068, 0.068, 0.069, 0.069, 0.07200000000000001, 0.07, 0.068, 0.066, 0.066, 0.068, 0.071, 0.067, 0.068, 0.07, 0.071, 0.071, 0.07, 0.069, 0.067, 0.067, 0.065, 0.065, 0.068, 0.179, 0.18100000000000002, 0.18100000000000002, 0.174, 0.17, 0.168, 0.162, 0.161, 0.159, 0.158, 0.158, 0.152, 0.15, 0.149, 0.149, 0.147, 0.145, 0.14300000000000002, 0.142, 0.14300000000000002, 0.14800000000000002, 0.149, 0.149, 0.14, 0.135, 0.132, 0.134, 0.13, 0.129, 0.125, 0.125, 0.12300000000000001, 0.12300000000000001, 0.124, 0.124, 0.129, 0.134, 0.134, 0.177, 0.16699999999999998, 0.16699999999999998, 0.172, 0.171, 0.163, 0.16, 0.158, 0.159, 0.157, 0.156, 0.156, 0.155, 0.155, 0.154, 0.155, 0.157, 0.161, 0.16399999999999998, 0.16699999999999998, 0.166, 0.161, 0.163, 0.16699999999999998, 0.168, 0.166, 0.205, 0.221, 0.21, 0.20600000000000002, 0.20600000000000002, 0.20199999999999999, 0.19699999999999998, 0.21, 0.21100000000000002, 0.20199999999999999, 0.205, 0.201, 0.195, 0.19399999999999998, 0.19399999999999998, 0.195, 0.195, 0.191, 0.192, 0.191, 0.21600000000000003, 0.20600000000000002, 0.201, 0.19899999999999998, 0.195, 0.192, 0.19399999999999998, 0.188, 0.18600000000000003, 0.188, 0.188, 0.18600000000000003, 0.184, 0.182, 0.18100000000000002, 0.18100000000000002, 0.183, 0.182, 0.179, 0.182, 0.184, 0.184, 0.18100000000000002, 0.175, 0.175, 0.172, 0.168, 0.16399999999999998, 0.16, 0.157, 0.156, 0.155, 0.153, 0.218, 0.225, 0.214, 0.226, 0.231, 0.225, 0.217, 0.21, 0.21100000000000002, 0.21, 0.24600000000000002, 0.228, 0.218, 0.24100000000000002, 0.225, 0.235, 0.225, 0.23800000000000002, 0.22399999999999998, 0.214, 0.20800000000000002, 0.201, 0.195, 0.19399999999999998, 0.19, 0.187, 0.18100000000000002, 0.179, 0.17300000000000001, 0.168, 0.161, 0.157, 0.156, 0.154, 0.151, 0.14800000000000002, 0.145, 0.14300000000000002, 0.139, 0.18899999999999997, 0.222, 0.228, 0.23, 0.21899999999999997, 0.251, 0.244, 0.23399999999999999, 0.249, 0.235, 0.222, 0.20199999999999999, 0.18, 0.166, 0.162, 0.19899999999999998, 0.177, 0.161, 0.15, 0.147, 0.142, 0.166, 0.159, 0.152, 0.145, 0.141, 0.135, 0.133, 0.133, 0.131, 0.13, 0.128, 0.124, 0.12300000000000001, 0.12, 0.11599999999999999, 0.11599999999999999, 0.115, 0.114, 0.114, 0.115, 0.115, 0.11599999999999999, 0.11599999999999999, 0.115, 0.115, 0.114, 0.114, 0.115, 0.11699999999999999, 0.14300000000000002, 0.16, 0.16, 0.149, 0.136, 0.129, 0.124, 0.11900000000000001, 0.11699999999999999, 0.11599999999999999, 0.11800000000000001, 0.223, 0.2, 0.266, 0.23800000000000002, 0.225, 0.209, 0.192, 0.172, 0.154, 0.14, 0.132, 0.128, 0.126, 0.124, 0.12300000000000001, 0.121, 0.12, 0.12, 0.11900000000000001, 0.11599999999999999, 0.115, 0.11599999999999999, 0.11599999999999999, 0.11599999999999999, 0.115, 0.115, 0.115, 0.115, 0.114, 0.114, 0.114, 0.113, 0.113, 0.111, 0.11, 0.109, 0.109, 0.107, 0.10400000000000001, 0.10400000000000001, 0.102, 0.10099999999999999, 0.099, 0.17800000000000002, 0.172, 0.172, 0.171, 0.171, 0.16899999999999998, 0.16699999999999998, 0.162, 0.158, 0.153, 0.15, 0.146, 0.14300000000000002, 0.139, 0.135, 0.132, 0.128, 0.125, 0.121, 0.11699999999999999, 0.115, 0.114, 0.11199999999999999, 0.11, 0.109, 0.107, 0.106, 0.10400000000000001, 0.10099999999999999, 0.1, 0.099, 0.098, 0.098, 0.096, 0.095, 0.09300000000000001, 0.092, 0.092, 0.092, 0.09, 0.08900000000000001, 0.08900000000000001, 0.08800000000000001, 0.087, 0.086, 0.085, 0.087, 0.086, 0.087, 0.085, 0.085, 0.086, 0.087, 0.086, 0.085, 0.085, 0.084, 0.085, 0.084, 0.083, 0.08199999999999999, 0.081, 0.081, 0.079, 0.078, 0.079, 0.076, 0.076, 0.078, 0.076, 0.076, 0.076, 0.073, 0.071, 0.07200000000000001, 0.071, 0.071, 0.071, 0.069, 0.068, 0.068, 0.07, 0.07, 0.07, 0.071, 0.071, 0.077, 0.085, 0.086, 0.08800000000000001, 0.08900000000000001, 0.091, 0.09300000000000001, 0.09300000000000001, 0.092, 0.092, 0.091, 0.09300000000000001, 0.094, 0.08900000000000001, 0.087, 0.09, 0.08900000000000001, 0.08900000000000001, 0.092, 0.09, 0.09, 0.195, 0.193, 0.192, 0.191, 0.20199999999999999, 0.203, 0.205, 0.23600000000000002, 0.221, 0.21600000000000003, 0.213, 0.21, 0.207, 0.205, 0.205, 0.20600000000000002, 0.20600000000000002, 0.203, 0.233, 0.221, 0.24, 0.23800000000000002, 0.223, 0.215, 0.21100000000000002, 0.235, 0.223, 0.21899999999999997, 0.21600000000000003, 0.209, 0.207, 0.20600000000000002, 0.205, 0.205, 0.20199999999999999, 0.19899999999999998, 0.19699999999999998, 0.19699999999999998, 0.217, 0.212, 0.212, 0.223, 0.21600000000000003, 0.21100000000000002, 0.21, 0.21, 0.21, 0.21100000000000002, 0.205, 0.204, 0.204, 0.2, 0.198, 0.19899999999999998, 0.19699999999999998, 0.193, 0.184, 0.18100000000000002, 0.179, 0.177, 0.175, 0.17600000000000002, 0.18, 0.18, 0.17800000000000002, 0.17800000000000002, 0.17800000000000002, 0.17800000000000002, 0.17800000000000002, 0.18100000000000002, 0.179, 0.18, 0.239, 0.221, 0.217, 0.22, 0.218, 0.214, 0.21, 0.209, 0.20800000000000002, 0.205, 0.203, 0.20600000000000002, 0.221, 0.221, 0.215, 0.21, 0.21100000000000002, 0.209, 0.209, 0.20600000000000002, 0.20800000000000002, 0.207, 0.203, 0.2, 0.198, 0.19699999999999998, 0.196, 0.19399999999999998, 0.19399999999999998, 0.19399999999999998, 0.2, 0.22399999999999998, 0.218, 0.214, 0.212, 0.209, 0.207, 0.205, 0.20199999999999999, 0.2, 0.198, 0.19699999999999998, 0.196, 0.19399999999999998, 0.192, 0.192, 0.2, 0.2, 0.2, 0.201, 0.2, 0.198, 0.195, 0.192, 0.19, 0.188, 0.187, 0.182, 0.18100000000000002, 0.177, 0.174, 0.17300000000000001, 0.172, 0.171, 0.168, 0.16399999999999998, 0.161, 0.158, 0.158, 0.156, 0.153, 0.151, 0.149, 0.145, 0.141, 0.13699999999999998, 0.134, 0.135, 0.13699999999999998, 0.136, 0.13699999999999998, 0.141, 0.141, 0.14300000000000002, 0.14400000000000002, 0.14300000000000002, 0.139, 0.138, 0.134, 0.14400000000000002, 0.166, 0.16899999999999998, 0.17, 0.166, 0.19699999999999998, 0.217, 0.207, 0.20199999999999999, 0.19899999999999998, 0.195, 0.191, 0.185, 0.177, 0.168, 0.163, 0.156, 0.15, 0.14300000000000002, 0.138, 0.132, 0.13, 0.129, 0.125, 0.12, 0.11699999999999999, 0.11599999999999999, 0.113, 0.106, 0.106, 0.10400000000000001, 0.10400000000000001, 0.10300000000000001, 0.10300000000000001, 0.10099999999999999, 0.099, 0.09699999999999999, 0.09699999999999999, 0.09699999999999999, 0.094, 0.092, 0.091, 0.092, 0.091, 0.091, 0.087, 0.085, 0.079, 0.081, 0.078, 0.08, 0.081, 0.079, 0.078, 0.076, 0.077, 0.075, 0.07400000000000001, 0.07400000000000001, 0.075, 0.07200000000000001, 0.071, 0.071, 0.07, 0.07200000000000001, 0.071, 0.07, 0.071, 0.073, 0.073, 0.073, 0.073, 0.07200000000000001, 0.071, 0.069, 0.069, 0.062, 0.067, 0.066, 0.065, 0.064, 0.06, 0.062, 0.064, 0.063, 0.063, 0.062, 0.068, 0.071, 0.07, 0.068, 0.066, 0.065, 0.064, 0.063, 0.076, 0.08900000000000001, 0.095, 0.095, 0.091, 0.092, 0.092, 0.08900000000000001, 0.085, 0.085, 0.084, 0.08199999999999999, 0.079, 0.076, 0.073, 0.071, 0.07, 0.067, 0.067, 0.064, 0.066, 0.065, 0.064, 0.065, 0.065, 0.065, 0.061, 0.06, 0.06, 0.059000000000000004, 0.06, 0.06, 0.059000000000000004, 0.059000000000000004, 0.188, 0.207, 0.20199999999999999, 0.198, 0.193, 0.18899999999999997, 0.179, 0.172, 0.166, 0.161, 0.152, 0.14400000000000002, 0.138, 0.133, 0.13, 0.124, 0.12, 0.11800000000000001, 0.11599999999999999, 0.113, 0.11199999999999999, 0.111, 0.11199999999999999, 0.115, 0.11699999999999999, 0.11800000000000001, 0.11599999999999999, 0.152, 0.14800000000000002, 0.14800000000000002, 0.14800000000000002, 0.149, 0.147, 0.145, 0.14400000000000002, 0.142, 0.13699999999999998, 0.131, 0.126, 0.124, 0.122, 0.11699999999999999, 0.11599999999999999, 0.114, 0.11199999999999999, 0.107, 0.106, 0.106, 0.10400000000000001, 0.1, 0.095, 0.094, 0.096, 0.096, 0.095, 0.094, 0.145, 0.16399999999999998, 0.237, 0.221, 0.20800000000000002, 0.203, 0.19699999999999998, 0.19699999999999998, 0.195, 0.192, 0.193, 0.19399999999999998, 0.192, 0.185, 0.183, 0.177, 0.17300000000000001, 0.171, 0.165, 0.16399999999999998, 0.162, 0.16399999999999998, 0.161, 0.19899999999999998, 0.198, 0.191, 0.185, 0.185, 0.18600000000000003, 0.183, 0.20600000000000002, 0.217, 0.213, 0.20800000000000002, 0.20199999999999999, 0.204, 0.20199999999999999, 0.20600000000000002, 0.204, 0.203, 0.23, 0.226, 0.215, 0.207, 0.20199999999999999, 0.20199999999999999, 0.198, 0.195, 0.19699999999999998, 0.201, 0.196, 0.19899999999999998, 0.19899999999999998, 0.221, 0.21899999999999997, 0.218, 0.21600000000000003, 0.21600000000000003, 0.213, 0.295, 0.28, 0.27899999999999997, 0.259, 0.249, 0.243, 0.242, 0.239, 0.237, 0.233, 0.23, 0.228, 0.226, 0.225, 0.222, 0.228, 0.228, 0.226, 0.226, 0.226, 0.22399999999999998, 0.22399999999999998, 0.223, 0.218, 0.21899999999999997, 0.222, 0.222, 0.225, 0.23199999999999998, 0.23800000000000002, 0.23600000000000002, 0.231, 0.22, 0.21600000000000003, 0.215, 0.213, 0.21600000000000003, 0.243, 0.248, 0.242, 0.244, 0.25, 0.255, 0.255, 0.251, 0.249, 0.24100000000000002, 0.237, 0.23199999999999998, 0.22699999999999998, 0.226, 0.231, 0.242, 0.24100000000000002, 0.23399999999999999, 0.233, 0.23, 0.223, 0.218, 0.21600000000000003, 0.212, 0.205, 0.19899999999999998, 0.195, 0.191, 0.188, 0.185, 0.182, 0.17800000000000002, 0.174, 0.171, 0.168, 0.165, 0.163, 0.17300000000000001, 0.172, 0.174, 0.17, 0.16399999999999998, 0.161, 0.159, 0.159, 0.159, 0.156, 0.156, 0.154, 0.151, 0.14800000000000002, 0.14400000000000002, 0.29, 0.267, 0.256, 0.249, 0.245, 0.264, 0.27699999999999997, 0.26, 0.247, 0.23399999999999999, 0.21899999999999997, 0.20800000000000002, 0.19899999999999998, 0.184, 0.175, 0.17600000000000002, 0.174, 0.17300000000000001, 0.165, 0.159, 0.244, 0.23199999999999998, 0.217, 0.198, 0.292, 0.262, 0.23600000000000002, 0.215, 0.215, 0.289, 0.28300000000000003, 0.271, 0.247, 0.22899999999999998, 0.203, 0.195, 0.281, 0.24100000000000002, 0.19699999999999998, 0.17600000000000002, 0.172, 0.165, 0.16, 0.153, 0.149, 0.147, 0.14400000000000002, 0.14, 0.139, 0.135, 0.133, 0.131, 0.135, 0.131, 0.129, 0.128, 0.19899999999999998, 0.253, 0.22699999999999998, 0.217, 0.174, 0.153, 0.14300000000000002, 0.13699999999999998, 0.135, 0.133, 0.132, 0.131, 0.128, 0.128, 0.127, 0.128, 0.126, 0.126, 0.125, 0.122, 0.165, 0.13699999999999998, 0.132, 0.129, 0.126, 0.128, 0.125, 0.188, 0.156, 0.145, 0.14, 0.134, 0.133, 0.13, 0.131, 0.129, 0.128, 0.128, 0.127, 0.127, 0.127, 0.127, 0.126, 0.12300000000000001, 0.122, 0.121, 0.122, 0.122, 0.121, 0.121, 0.12, 0.11699999999999999, 0.114, 0.11199999999999999, 0.11199999999999999, 0.11199999999999999, 0.11, 0.11, 0.187, 0.177, 0.17, 0.165, 0.19699999999999998, 0.18600000000000003, 0.177, 0.17, 0.16399999999999998, 0.155, 0.15, 0.142, 0.134, 0.13, 0.128, 0.124, 0.12, 0.11800000000000001, 0.11599999999999999, 0.113, 0.111, 0.11, 0.10800000000000001, 0.106, 0.10300000000000001, 0.1, 0.1, 0.098, 0.099, 0.098, 0.09699999999999999, 0.096, 0.095, 0.195, 0.22899999999999998, 0.214, 0.20600000000000002, 0.201, 0.195, 0.191, 0.188, 0.183, 0.179, 0.174, 0.168, 0.166, 0.166, 0.166, 0.165, 0.163, 0.159, 0.152, 0.147, 0.142, 0.142, 0.14, 0.13699999999999998, 0.136, 0.134, 0.132, 0.129, 0.126, 0.125, 0.125, 0.12300000000000001, 0.122, 0.12, 0.12, 0.11800000000000001, 0.11699999999999999, 0.11800000000000001, 0.252, 0.304, 0.29, 0.256, 0.244, 0.23800000000000002, 0.231, 0.222, 0.21600000000000003, 0.213, 0.207, 0.205, 0.20199999999999999, 0.204, 0.166, 0.162, 0.16, 0.158, 0.157, 0.355, 0.28300000000000003, 0.271, 0.271, 0.258, 0.252, 0.248, 0.245, 0.245, 0.244, 0.24, 0.239, 0.23800000000000002, 0.23800000000000002, 0.244, 0.23800000000000002, 0.26899999999999996, 0.28800000000000003, 0.295, 0.272, 0.297, 0.273, 0.266, 0.259, 0.257, 0.254, 0.253, 0.252, 0.247, 0.244, 0.242, 0.23800000000000002, 0.23399999999999999, 0.231, 0.228, 0.22699999999999998, 0.226, 0.228, 0.29100000000000004, 0.26899999999999996, 0.262, 0.257, 0.251, 0.249, 0.243, 0.24600000000000002, 0.242, 0.239, 0.24, 0.256, 0.249, 0.25, 0.262, 0.255, 0.253, 0.252, 0.263, 0.257, 0.252, 0.252, 0.27699999999999997, 0.268, 0.27, 0.266, 0.261, 0.258, 0.25, 0.244, 0.242, 0.263, 0.254, 0.247, 0.245], \"xaxis\": \"x\", \"y\": [\"SMC2\", \"SMC2\", \"SMC2\", \"SMC2\", \"SMC2\", \"SMC2\", \"SMC2\", \"SMC2\", \"SMC2\", \"SMC2\", \"SMC2\", \"SMC2\", \"SMC2\", \"SMC2\", \"SMC2\", \"SMC2\", \"SMC2\", \"SMC2\", \"SMC2\", \"SMC2\", \"SMC2\", \"SMC2\", \"SMC2\", \"SMC2\", \"SMC2\", \"SMC2\", \"SMC2\", \"SMC2\", \"SMC2\", \"SMC2\", \"SMC2\", \"SMC2\", \"SMC2\", \"SMC2\", \"SMC2\", \"SMC2\", \"SMC2\", \"SMC2\", \"SMC2\", \"SMC2\", \"SMC2\", \"SMC2\", \"SMC2\", \"SMC2\", \"SMC2\", \"SMC2\", \"SMC2\", \"SMC2\", \"SMC2\", \"SMC2\", \"SMC2\", \"SMC2\", \"SMC2\", \"SMC2\", \"SMC2\", \"SMC2\", \"SMC2\", \"SMC2\", \"SMC2\", \"SMC2\", \"SMC2\", \"SMC2\", \"SMC2\", \"SMC2\", \"SMC2\", \"SMC2\", \"SMC2\", \"SMC2\", \"SMC2\", \"SMC2\", \"SMC2\", \"SMC2\", \"SMC2\", \"SMC2\", \"SMC2\", \"SMC2\", \"SMC2\", \"SMC2\", \"SMC2\", \"SMC2\", \"SMC2\", \"SMC2\", \"SMC2\", \"SMC2\", \"SMC2\", \"SMC2\", \"SMC2\", \"SMC2\", \"SMC2\", \"SMC2\", \"SMC2\", \"SMC2\", \"SMC2\", \"SMC2\", \"SMC2\", \"SMC2\", \"SMC2\", \"SMC2\", \"SMC2\", \"SMC2\", \"SMC2\", \"SMC2\", \"SMC2\", \"SMC2\", \"SMC2\", \"SMC2\", \"SMC2\", \"SMC2\", \"SMC2\", \"SMC2\", \"SMC2\", \"SMC2\", \"SMC2\", \"SMC2\", \"SMC2\", \"SMC2\", \"SMC2\", \"SMC2\", \"SMC2\", \"SMC2\", \"SMC2\", \"SMC2\", \"SMC2\", \"SMC2\", \"SMC2\", \"SMC2\", \"SMC2\", \"SMC2\", \"SMC2\", \"SMC2\", \"SMC2\", \"SMC2\", \"SMC2\", \"SMC2\", \"SMC2\", \"SMC2\", \"SMC2\", \"SMC2\", \"SMC2\", \"SMC2\", \"SMC2\", \"SMC2\", \"SMC2\", \"SMC2\", \"SMC2\", \"SMC2\", \"SMC2\", \"SMC2\", \"SMC2\", \"SMC2\", \"SMC2\", \"SMC2\", \"SMC2\", \"SMC2\", \"SMC2\", \"SMC2\", \"SMC2\", \"SMC2\", \"SMC2\", \"SMC2\", \"SMC2\", \"SMC2\", \"SMC2\", \"SMC2\", \"SMC2\", \"SMC2\", \"SMC2\", \"SMC2\", \"SMC2\", \"SMC2\", \"SMC2\", \"SMC2\", \"SMC2\", \"SMC2\", \"SMC2\", \"SMC2\", \"SMC2\", \"SMC2\", \"SMC2\", \"SMC2\", \"SMC2\", \"SMC2\", \"SMC2\", \"SMC2\", \"SMC2\", \"SMC2\", \"SMC2\", \"SMC2\", \"SMC2\", \"SMC2\", \"SMC2\", \"SMC2\", \"SMC2\", \"SMC2\", \"SMC2\", \"SMC2\", \"SMC2\", \"SMC2\", \"SMC2\", \"SMC2\", \"SMC2\", \"SMC2\", \"SMC2\", \"SMC2\", \"SMC2\", \"SMC2\", \"SMC2\", \"SMC2\", \"SMC2\", \"SMC2\", \"SMC2\", \"SMC2\", \"SMC2\", \"SMC2\", \"SMC2\", \"SMC2\", \"SMC2\", \"SMC2\", \"SMC2\", \"SMC2\", \"SMC2\", \"SMC2\", \"SMC2\", \"SMC2\", \"SMC2\", \"SMC2\", \"SMC2\", \"SMC2\", \"SMC2\", \"SMC2\", \"SMC2\", \"SMC2\", \"SMC2\", \"SMC2\", \"SMC2\", \"SMC2\", \"SMC2\", \"SMC2\", \"SMC2\", \"SMC2\", \"SMC2\", \"SMC2\", \"SMC2\", \"SMC2\", \"SMC2\", \"SMC2\", \"SMC2\", \"SMC2\", \"SMC2\", \"SMC2\", \"SMC2\", \"SMC2\", \"SMC2\", \"SMC2\", \"SMC2\", \"SMC2\", \"SMC2\", \"SMC2\", \"SMC2\", \"SMC2\", \"SMC2\", \"SMC2\", \"SMC2\", \"SMC2\", \"SMC2\", \"SMC2\", \"SMC2\", \"SMC2\", \"SMC2\", \"SMC2\", \"SMC2\", \"SMC2\", \"SMC2\", \"SMC2\", \"SMC2\", \"SMC2\", \"SMC2\", \"SMC2\", \"SMC2\", \"SMC2\", \"SMC2\", \"SMC2\", \"SMC2\", \"SMC2\", \"SMC2\", \"SMC2\", \"SMC2\", \"SMC2\", \"SMC2\", \"SMC2\", \"SMC2\", \"SMC2\", \"SMC2\", \"SMC2\", \"SMC2\", \"SMC2\", \"SMC2\", \"SMC2\", \"SMC2\", \"SMC2\", \"SMC2\", \"SMC2\", \"SMC2\", \"SMC2\", \"SMC2\", \"SMC2\", \"SMC2\", \"SMC2\", \"SMC2\", \"SMC2\", \"SMC2\", \"SMC2\", \"SMC2\", \"SMC2\", \"SMC2\", \"SMC2\", \"SMC2\", \"SMC2\", \"SMC2\", \"SMC2\", \"SMC2\", \"SMC2\", \"SMC2\", \"SMC2\", \"SMC2\", \"SMC2\", \"SMC2\", \"SMC2\", \"SMC2\", \"SMC2\", \"SMC2\", \"SMC2\", \"SMC2\", \"SMC2\", \"SMC2\", \"SMC2\", \"SMC2\", \"SMC2\", \"SMC2\", \"SMC2\", \"SMC2\", \"SMC2\", \"SMC2\", \"SMC2\", \"SMC2\", \"SMC2\", \"SMC2\", \"SMC2\", \"SMC2\", \"SMC2\", \"SMC2\", \"SMC2\", \"SMC2\", \"SMC2\", \"SMC2\", \"SMC2\", \"SMC2\", \"SMC2\", \"SMC2\", \"SMC2\", \"SMC2\", \"SMC2\", \"SMC2\", \"SMC2\", \"SMC2\", \"SMC2\", \"SMC2\", \"SMC2\", \"SMC2\", \"SMC2\", \"SMC2\", \"SMC2\", \"SMC2\", \"SMC2\", \"SMC2\", \"SMC2\", \"SMC2\", \"SMC2\", \"SMC2\", \"SMC2\", \"SMC2\", \"SMC2\", \"SMC2\", \"SMC2\", \"SMC2\", \"SMC2\", \"SMC2\", \"SMC2\", \"SMC2\", \"SMC2\", \"SMC2\", \"SMC2\", \"SMC2\", \"SMC2\", \"SMC2\", \"SMC2\", \"SMC2\", \"SMC2\", \"SMC2\", \"SMC2\", \"SMC2\", \"SMC2\", \"SMC2\", \"SMC2\", \"SMC2\", \"SMC2\", \"SMC2\", \"SMC2\", \"SMC2\", \"SMC2\", \"SMC2\", \"SMC2\", \"SMC2\", \"SMC2\", \"SMC2\", \"SMC2\", \"SMC2\", \"SMC2\", \"SMC2\", \"SMC2\", \"SMC2\", \"SMC2\", \"SMC2\", \"SMC2\", \"SMC2\", \"SMC2\", \"SMC2\", \"SMC2\", \"SMC2\", \"SMC2\", \"SMC2\", \"SMC2\", \"SMC2\", \"SMC2\", \"SMC2\", \"SMC2\", \"SMC2\", \"SMC2\", \"SMC2\", \"SMC2\", \"SMC2\", \"SMC2\", \"SMC2\", \"SMC2\", \"SMC2\", \"SMC2\", \"SMC2\", \"SMC2\", \"SMC2\", \"SMC2\", \"SMC2\", \"SMC2\", \"SMC2\", \"SMC2\", \"SMC2\", \"SMC2\", \"SMC2\", \"SMC2\", \"SMC2\", \"SMC2\", \"SMC2\", \"SMC2\", \"SMC2\", \"SMC2\", \"SMC2\", \"SMC2\", \"SMC2\", \"SMC2\", \"SMC2\", \"SMC2\", \"SMC2\", \"SMC2\", \"SMC2\", \"SMC2\", \"SMC2\", \"SMC2\", \"SMC2\", \"SMC2\", \"SMC2\", \"SMC2\", \"SMC2\", \"SMC2\", \"SMC2\", \"SMC2\", \"SMC2\", \"SMC2\", \"SMC2\", \"SMC2\", \"SMC2\", \"SMC2\", \"SMC2\", \"SMC2\", \"SMC2\", \"SMC2\", \"SMC2\", \"SMC2\", \"SMC2\", \"SMC2\", \"SMC2\", \"SMC2\", \"SMC2\", \"SMC2\", \"SMC2\", \"SMC2\", \"SMC2\", \"SMC2\", \"SMC2\", \"SMC2\", \"SMC2\", \"SMC2\", \"SMC2\", \"SMC2\", \"SMC2\", \"SMC2\", \"SMC2\", \"SMC2\", \"SMC2\", \"SMC2\", \"SMC2\", \"SMC2\", \"SMC2\", \"SMC2\", \"SMC2\", \"SMC2\", \"SMC2\", \"SMC2\", \"SMC2\", \"SMC2\", \"SMC2\", \"SMC2\", \"SMC2\", \"SMC2\", \"SMC2\", \"SMC2\", \"SMC2\", \"SMC2\", \"SMC2\", \"SMC2\", \"SMC2\", \"SMC2\", \"SMC2\", \"SMC2\", \"SMC2\", \"SMC2\", \"SMC2\", \"SMC2\", \"SMC2\", \"SMC2\", \"SMC2\", \"SMC2\", \"SMC2\", \"SMC2\", \"SMC2\", \"SMC2\", \"SMC2\", \"SMC2\", \"SMC2\", \"SMC2\", \"SMC2\", \"SMC2\", \"SMC2\", \"SMC2\", \"SMC2\", \"SMC2\", \"SMC2\", \"SMC2\", \"SMC2\", \"SMC2\", \"SMC2\", \"SMC2\", \"SMC2\", \"SMC2\", \"SMC2\", \"SMC2\", \"SMC2\", \"SMC2\", \"SMC2\", \"SMC2\", \"SMC2\", \"SMC2\", \"SMC2\", \"SMC2\", \"SMC2\", \"SMC2\", \"SMC2\", \"SMC2\", \"SMC2\", \"SMC2\", \"SMC2\", \"SMC2\", \"SMC2\", \"SMC2\", \"SMC2\", \"SMC2\", \"SMC2\", \"SMC2\", \"SMC2\", \"SMC2\", \"SMC2\", \"SMC2\", \"SMC2\", \"SMC2\", \"SMC2\", \"SMC2\", \"SMC2\", \"SMC2\", \"SMC2\", \"SMC2\", \"SMC2\", \"SMC2\", \"SMC2\", \"SMC2\", \"SMC2\", \"SMC2\", \"SMC2\", \"SMC2\", \"SMC2\", \"SMC2\", \"SMC2\", \"SMC2\", \"SMC2\", \"SMC2\", \"SMC2\", \"SMC2\", \"SMC2\", \"SMC2\", \"SMC2\", \"SMC2\", \"SMC2\", \"SMC2\", \"SMC2\", \"SMC2\", \"SMC2\", \"SMC2\", \"SMC2\", \"SMC2\", \"SMC2\", \"SMC2\", \"SMC2\", \"SMC2\", \"SMC2\", \"SMC2\", \"SMC2\", \"SMC2\", \"SMC2\", \"SMC2\", \"SMC2\", \"SMC2\", \"SMC2\", \"SMC2\", \"SMC2\", \"SMC2\", \"SMC2\", \"SMC2\", \"SMC2\", \"SMC2\", \"SMC2\", \"SMC2\", \"SMC2\", \"SMC2\", \"SMC2\", \"SMC2\", \"SMC2\", \"SMC2\", \"SMC2\", \"SMC2\", \"SMC2\", \"SMC2\", \"SMC2\", \"SMC2\", \"SMC2\", \"SMC2\", \"SMC2\", \"SMC2\", \"SMC2\", \"SMC2\", \"SMC2\", \"SMC2\", \"SMC2\", \"SMC2\", \"SMC2\", \"SMC2\", \"SMC2\", \"SMC2\", \"SMC2\", \"SMC2\", \"SMC2\", \"SMC2\", \"SMC2\", \"SMC2\", \"SMC2\", \"SMC2\", \"SMC2\", \"SMC2\", \"SMC2\", \"SMC2\", \"SMC2\", \"SMC2\", \"SMC2\", \"SMC2\", \"SMC2\", \"SMC2\", \"SMC2\", \"SMC2\", \"SMC2\", \"SMC2\", \"SMC2\", \"SMC2\", \"SMC2\", \"SMC2\", \"SMC2\", \"SMC2\", \"SMC2\", \"SMC2\", \"SMC2\", \"SMC2\", \"SMC2\", \"SMC2\", \"SMC2\", \"SMC2\", \"SMC2\", \"SMC2\", \"SMC2\", \"SMC2\", \"SMC2\", \"SMC2\", \"SMC2\", \"SMC2\", \"SMC2\", \"SMC2\", \"SMC2\", \"SMC2\", \"SMC2\", \"SMC2\", \"SMC2\", \"SMC2\", \"SMC2\", \"SMC2\", \"SMC2\", \"SMC2\", \"SMC2\", \"SMC2\", \"SMC2\", \"SMC2\", \"SMC2\", \"SMC2\", \"SMC2\", \"SMC2\", \"SMC2\", \"SMC2\", \"SMC2\", \"SMC2\", \"SMC2\", \"SMC2\", \"SMC2\", \"SMC2\", \"SMC2\", \"SMC2\", \"SMC2\", \"SMC2\", \"SMC2\", \"SMC2\", \"SMC2\", \"SMC2\", \"SMC2\", \"SMC2\", \"SMC2\", \"SMC2\", \"SMC2\", \"SMC2\", \"SMC2\", \"SMC2\", \"SMC2\", \"SMC2\", \"SMC2\", \"SMC2\", \"SMC2\", \"SMC2\", \"SMC2\", \"SMC2\", \"SMC2\", \"SMC2\", \"SMC2\", \"SMC2\", \"SMC2\", \"SMC2\", \"SMC2\", \"SMC2\", \"SMC2\", \"SMC2\", \"SMC2\", \"SMC2\", \"SMC2\", \"SMC2\", \"SMC2\", \"SMC2\", \"SMC2\", \"SMC2\", \"SMC2\", \"SMC2\", \"SMC2\", \"SMC2\", \"SMC2\", \"SMC2\", \"SMC2\", \"SMC2\", \"SMC2\", \"SMC2\", \"SMC2\", \"SMC2\", \"SMC2\", \"SMC2\", \"SMC2\", \"SMC2\", \"SMC2\", \"SMC2\", \"SMC2\", \"SMC2\", \"SMC2\", \"SMC2\", \"SMC2\", \"SMC2\", \"SMC2\", \"SMC2\", \"SMC2\", \"SMC2\", \"SMC2\", \"SMC2\", \"SMC2\", \"SMC2\", \"SMC2\", \"SMC2\", \"SMC2\", \"SMC2\", \"SMC2\", \"SMC2\", \"SMC2\", \"SMC2\", \"SMC2\", \"SMC2\", \"SMC2\", \"SMC2\", \"SMC2\", \"SMC2\", \"SMC2\", \"SMC2\", \"SMC2\", \"SMC2\", \"SMC2\", \"SMC2\", \"SMC2\", \"SMC2\", \"SMC2\", \"SMC2\", \"SMC2\", \"SMC2\", \"SMC2\", \"SMC2\", \"SMC2\", \"SMC2\", \"SMC2\", \"SMC2\", \"SMC2\", \"SMC2\", \"SMC2\", \"SMC2\", \"SMC2\", \"SMC2\", \"SMC2\", \"SMC2\", \"SMC2\", \"SMC2\", \"SMC2\", \"SMC2\", \"SMC2\", \"SMC2\", \"SMC2\", \"SMC2\", \"SMC2\", \"SMC2\", \"SMC2\", \"SMC2\", \"SMC2\", \"SMC2\", \"SMC2\", \"SMC2\", \"SMC2\", \"SMC2\", \"SMC2\", \"SMC2\", \"SMC2\", \"SMC2\", \"SMC2\", \"SMC2\", \"SMC2\", \"SMC2\", \"SMC2\", \"SMC2\", \"SMC2\", \"SMC2\", \"SMC2\", \"SMC2\", \"SMC2\", \"SMC2\", \"SMC2\", \"SMC2\", \"SMC2\", \"SMC2\", \"SMC2\", \"SMC2\", \"SMC2\", \"SMC2\", \"SMC2\", \"SMC2\", \"SMC2\", \"SMC2\", \"SMC2\", \"SMC2\", \"SMC2\", \"SMC2\", \"SMC2\", \"SMC2\", \"SMC2\", \"SMC2\", \"SMC2\", \"SMC2\", \"SMC2\", \"SMC2\", \"SMC2\", \"SMC2\", \"SMC2\", \"SMC2\", \"SMC2\", \"SMC2\", \"SMC2\", \"SMC2\", \"SMC2\", \"SMC2\", \"SMC2\", \"SMC2\", \"SMC2\", \"SMC2\", \"SMC2\", \"SMC2\", \"SMC2\", \"SMC2\", \"SMC2\", \"SMC2\", \"SMC2\", \"SMC2\", \"SMC2\", \"SMC2\", \"SMC2\", \"SMC2\", \"SMC2\", \"SMC2\", \"SMC2\", \"SMC2\", \"SMC2\", \"SMC2\", \"SMC2\", \"SMC2\", \"SMC2\", \"SMC2\", \"SMC2\", \"SMC2\", \"SMC2\", \"SMC2\", \"SMC2\", \"SMC2\", \"SMC2\", \"SMC2\", \"SMC2\", \"SMC2\", \"SMC2\", \"SMC2\", \"SMC2\", \"SMC2\", \"SMC2\", \"SMC2\", \"SMC2\", \"SMC2\", \"SMC2\", \"SMC2\", \"SMC2\", \"SMC2\", \"SMC2\", \"SMC2\", \"SMC2\", \"SMC2\", \"SMC2\", \"SMC2\", \"SMC2\", \"SMC2\", \"SMC2\", \"SMC2\", \"SMC2\", \"SMC2\", \"SMC2\", \"SMC2\", \"SMC2\", \"SMC2\", \"SMC2\", \"SMC2\", \"SMC2\", \"SMC2\", \"SMC2\", \"SMC2\", \"SMC2\", \"SMC2\", \"SMC2\", \"SMC2\", \"SMC2\", \"SMC2\", \"SMC2\", \"SMC2\", \"SMC2\", \"SMC2\", \"SMC2\", \"SMC2\", \"SMC2\", \"SMC2\", \"SMC2\", \"SMC2\", \"SMC2\", \"SMC2\", \"SMC2\", \"SMC2\", \"SMC2\", \"SMC2\", \"SMC2\", \"SMC2\", \"SMC2\", \"SMC2\", \"SMC2\", \"SMC2\", \"SMC2\", \"SMC2\", \"SMC2\", \"SMC2\", \"SMC2\", \"SMC2\", \"SMC2\", \"SMC2\", \"SMC2\", \"SMC2\", \"SMC2\", \"SMC2\", \"SMC2\", \"SMC2\", \"SMC2\", \"SMC2\", \"SMC2\", \"SMC2\", \"SMC2\", \"SMC2\", \"SMC2\", \"SMC2\", \"SMC2\", \"SMC2\", \"SMC2\", \"SMC2\", \"SMC2\", \"SMC2\", \"SMC2\", \"SMC2\", \"SMC2\", \"SMC2\", \"SMC2\", \"SMC2\", \"SMC2\", \"SMC2\", \"SMC2\", \"SMC2\", \"SMC2\", \"SMC2\", \"SMC2\", \"SMC2\", \"SMC2\", \"SMC2\", \"SMC2\", \"SMC2\", \"SMC2\", \"SMC2\", \"SMC2\", \"SMC2\", \"SMC2\", \"SMC2\", \"SMC2\", \"SMC2\", \"SMC2\", \"SMC2\", \"SMC2\", \"SMC2\", \"SMC2\", \"SMC2\", \"SMC2\", \"SMC2\", \"SMC2\", \"SMC2\", \"SMC2\", \"SMC2\", \"SMC2\", \"SMC2\", \"SMC2\", \"SMC2\", \"SMC2\", \"SMC2\", \"SMC2\", \"SMC2\", \"SMC2\", \"SMC2\", \"SMC2\", \"SMC2\", \"SMC2\", \"SMC2\", \"SMC2\", \"SMC2\", \"SMC2\", \"SMC2\", \"SMC2\", \"SMC2\", \"SMC2\", \"SMC2\", \"SMC2\", \"SMC2\", \"SMC2\", \"SMC2\", \"SMC2\", \"SMC2\", \"SMC2\", \"SMC2\", \"SMC2\", \"SMC2\", \"SMC2\", \"SMC2\", \"SMC2\", \"SMC2\", \"SMC2\", \"SMC2\", \"SMC2\", \"SMC2\", \"SMC2\", \"SMC2\", \"SMC2\", \"SMC2\", \"SMC2\", \"SMC2\", \"SMC2\", \"SMC2\", \"SMC2\", \"SMC2\", \"SMC2\", \"SMC2\", \"SMC2\", \"SMC2\", \"SMC2\", \"SMC2\", \"SMC2\", \"SMC2\", \"SMC2\", \"SMC2\", \"SMC2\", \"SMC2\", \"SMC2\", \"SMC2\", \"SMC2\", \"SMC2\", \"SMC2\", \"SMC2\", \"SMC2\", \"SMC2\", \"SMC2\", \"SMC2\", \"SMC2\", \"SMC2\", \"SMC2\", \"SMC2\", \"SMC2\", \"SMC2\", \"SMC2\", \"SMC2\", \"SMC2\", \"SMC2\", \"SMC2\", \"SMC2\", \"SMC2\", \"SMC2\", \"SMC2\", \"SMC2\", \"SMC2\", \"SMC2\", \"SMC2\", \"SMC2\", \"SMC2\", \"SMC2\", \"SMC2\", \"SMC2\", \"SMC2\", \"SMC2\", \"SMC2\", \"SMC2\", \"SMC2\", \"SMC2\", \"SMC2\", \"SMC2\", \"SMC2\", \"SMC2\", \"SMC2\", \"SMC2\", \"SMC2\", \"SMC2\", \"SMC2\", \"SMC2\", \"SMC2\", \"SMC2\", \"SMC2\", \"SMC2\", \"SMC2\", \"SMC2\", \"SMC2\", \"SMC2\", \"SMC2\", \"SMC2\", \"SMC2\", \"SMC2\", \"SMC2\", \"SMC2\", \"SMC2\", \"SMC2\", \"SMC2\", \"SMC2\", \"SMC2\", \"SMC2\", \"SMC2\", \"SMC2\", \"SMC2\", \"SMC2\", \"SMC2\", \"SMC2\", \"SMC2\", \"SMC2\", \"SMC2\", \"SMC2\", \"SMC2\", \"SMC2\", \"SMC2\", \"SMC2\", \"SMC2\", \"SMC2\", \"SMC2\", \"SMC2\", \"SMC2\", \"SMC2\", \"SMC2\", \"SMC2\", \"SMC2\", \"SMC2\", \"SMC2\", \"SMC2\", \"SMC2\", \"SMC2\", \"SMC2\", \"SMC2\", \"SMC2\", \"SMC2\", \"SMC2\", \"SMC2\", \"SMC2\", \"SMC2\", \"SMC2\", \"SMC2\", \"SMC2\", \"SMC2\", \"SMC2\", \"SMC2\", \"SMC2\", \"SMC2\", \"SMC2\", \"SMC2\", \"SMC2\", \"SMC2\", \"SMC2\", \"SMC2\", \"SMC2\", \"SMC2\", \"SMC2\", \"SMC2\", \"SMC2\", \"SMC2\", \"SMC2\", \"SMC2\", \"SMC2\", \"SMC2\", \"SMC2\", \"SMC2\", \"SMC2\", \"SMC2\", \"SMC2\", \"SMC2\", \"SMC2\", \"SMC2\", \"SMC2\", \"SMC2\", \"SMC2\", \"SMC2\", \"SMC2\", \"SMC2\", \"SMC2\", \"SMC2\", \"SMC2\", \"SMC2\", \"SMC2\", \"SMC2\", \"SMC2\", \"SMC2\", \"SMC2\", \"SMC2\", \"SMC2\", \"SMC2\", \"SMC2\", \"SMC2\", \"SMC2\", \"SMC2\", \"SMC2\", \"SMC2\", \"SMC2\", \"SMC2\", \"SMC2\", \"SMC2\", \"SMC2\", \"SMC2\", \"SMC2\", \"SMC2\", \"SMC2\", \"SMC2\", \"SMC2\", \"SMC2\", \"SMC2\", \"SMC2\", \"SMC2\", \"SMC2\", \"SMC2\", \"SMC2\", \"SMC2\", \"SMC2\", \"SMC2\", \"SMC2\", \"SMC2\", \"SMC2\", \"SMC2\", \"SMC2\", \"SMC2\", \"SMC2\", \"SMC2\", \"SMC2\", \"SMC2\", \"SMC2\", \"SMC2\", \"SMC2\", \"SMC2\", \"SMC2\", \"SMC2\", \"SMC2\", \"SMC2\", \"SMC2\", \"SMC2\", \"SMC2\", \"SMC2\", \"SMC2\", \"SMC2\", \"SMC2\", \"SMC2\", \"SMC2\", \"SMC2\", \"SMC2\", \"SMC2\", \"SMC2\", \"SMC2\", \"SMC2\", \"SMC2\", \"SMC2\", \"SMC2\", \"SMC2\", \"SMC2\"], \"yaxis\": \"y2\"}, {\"legendgroup\": \"SMC3\", \"marker\": {\"color\": \"rgb(44, 160, 44)\", \"symbol\": \"line-ns-open\"}, \"mode\": \"markers\", \"name\": \"SMC3\", \"showlegend\": false, \"type\": \"scatter\", \"x\": [0.155, 0.151, 0.145, 0.139, 0.142, 0.142, 0.134, 0.129, 0.126, 0.121, 0.115, 0.106, 0.1, 0.1, 0.09699999999999999, 0.094, 0.092, 0.091, 0.08900000000000001, 0.08900000000000001, 0.08800000000000001, 0.083, 0.08, 0.08, 0.08, 0.081, 0.08199999999999999, 0.083, 0.083, 0.085, 0.085, 0.08199999999999999, 0.08, 0.08, 0.081, 0.081, 0.08, 0.08, 0.08199999999999999, 0.085, 0.085, 0.084, 0.08199999999999999, 0.083, 0.08199999999999999, 0.078, 0.078, 0.078, 0.08, 0.078, 0.078, 0.076, 0.075, 0.076, 0.07400000000000001, 0.073, 0.069, 0.064, 0.063, 0.063, 0.061, 0.061, 0.069, 0.073, 0.075, 0.073, 0.067, 0.07, 0.075, 0.07400000000000001, 0.071, 0.064, 0.064, 0.065, 0.069, 0.075, 0.081, 0.08199999999999999, 0.075, 0.075, 0.08, 0.085, 0.087, 0.091, 0.094, 0.09699999999999999, 0.08900000000000001, 0.087, 0.087, 0.085, 0.087, 0.09, 0.091, 0.08900000000000001, 0.083, 0.079, 0.07400000000000001, 0.073, 0.073, 0.07200000000000001, 0.068, 0.069, 0.069, 0.068, 0.068, 0.068, 0.068, 0.067, 0.067, 0.065, 0.063, 0.059000000000000004, 0.064, 0.065, 0.062, 0.06, 0.057, 0.055, 0.057, 0.057, 0.055999999999999994, 0.055999999999999994, 0.06, 0.066, 0.073, 0.07, 0.065, 0.06, 0.22, 0.2, 0.20199999999999999, 0.187, 0.17800000000000002, 0.17300000000000001, 0.166, 0.158, 0.15, 0.145, 0.141, 0.133, 0.12300000000000001, 0.11699999999999999, 0.10800000000000001, 0.10099999999999999, 0.096, 0.091, 0.085, 0.081, 0.078, 0.073, 0.07, 0.068, 0.066, 0.065, 0.064, 0.064, 0.064, 0.064, 0.061, 0.06, 0.057999999999999996, 0.055999999999999994, 0.054000000000000006, 0.054000000000000006, 0.055, 0.055999999999999994, 0.055999999999999994, 0.055999999999999994, 0.055, 0.057, 0.057, 0.055999999999999994, 0.055, 0.055, 0.057999999999999996, 0.057, 0.055, 0.053, 0.052000000000000005, 0.05, 0.053, 0.053, 0.054000000000000006, 0.203, 0.16899999999999998, 0.156, 0.151, 0.146, 0.14300000000000002, 0.141, 0.135, 0.132, 0.132, 0.12300000000000001, 0.12300000000000001, 0.12, 0.11599999999999999, 0.11, 0.102, 0.094, 0.08800000000000001, 0.084, 0.078, 0.07400000000000001, 0.071, 0.066, 0.063, 0.062, 0.06, 0.057, 0.055, 0.055999999999999994, 0.055, 0.055, 0.053, 0.053, 0.054000000000000006, 0.052000000000000005, 0.052000000000000005, 0.052000000000000005, 0.048, 0.047, 0.046, 0.044000000000000004, 0.045, 0.044000000000000004, 0.045, 0.045, 0.05, 0.048, 0.048, 0.044000000000000004, 0.042, 0.046, 0.048, 0.045, 0.045, 0.046, 0.047, 0.049, 0.048, 0.046, 0.043, 0.044000000000000004, 0.040999999999999995, 0.040999999999999995, 0.046, 0.212, 0.20199999999999999, 0.192, 0.174, 0.165, 0.16, 0.153, 0.15, 0.14800000000000002, 0.14400000000000002, 0.14300000000000002, 0.138, 0.135, 0.133, 0.133, 0.132, 0.13, 0.128, 0.126, 0.127, 0.133, 0.131, 0.146, 0.136, 0.133, 0.13, 0.13, 0.126, 0.127, 0.121, 0.121, 0.11900000000000001, 0.11900000000000001, 0.12, 0.11900000000000001, 0.125, 0.128, 0.128, 0.188, 0.16899999999999998, 0.16699999999999998, 0.16899999999999998, 0.16399999999999998, 0.155, 0.151, 0.14800000000000002, 0.147, 0.14400000000000002, 0.142, 0.141, 0.14, 0.139, 0.135, 0.13699999999999998, 0.139, 0.145, 0.14800000000000002, 0.15, 0.147, 0.14800000000000002, 0.151, 0.155, 0.154, 0.149, 0.203, 0.20199999999999999, 0.192, 0.183, 0.18899999999999997, 0.182, 0.17600000000000002, 0.188, 0.196, 0.183, 0.18600000000000003, 0.18100000000000002, 0.17300000000000001, 0.171, 0.172, 0.17300000000000001, 0.172, 0.168, 0.168, 0.188, 0.204, 0.18899999999999997, 0.182, 0.179, 0.175, 0.172, 0.174, 0.16699999999999998, 0.165, 0.165, 0.163, 0.159, 0.157, 0.155, 0.155, 0.153, 0.158, 0.155, 0.151, 0.154, 0.156, 0.155, 0.152, 0.14300000000000002, 0.145, 0.141, 0.136, 0.13, 0.126, 0.122, 0.122, 0.121, 0.11699999999999999, 0.187, 0.20600000000000002, 0.192, 0.193, 0.212, 0.20800000000000002, 0.19899999999999998, 0.18899999999999997, 0.188, 0.188, 0.22, 0.2, 0.192, 0.209, 0.19899999999999998, 0.21, 0.19699999999999998, 0.19899999999999998, 0.193, 0.187, 0.18100000000000002, 0.177, 0.17300000000000001, 0.174, 0.168, 0.166, 0.161, 0.161, 0.154, 0.14800000000000002, 0.139, 0.134, 0.135, 0.131, 0.127, 0.122, 0.11800000000000001, 0.115, 0.111, 0.11, 0.109, 0.128, 0.203, 0.193, 0.221, 0.212, 0.20199999999999999, 0.21600000000000003, 0.204, 0.195, 0.18100000000000002, 0.161, 0.141, 0.132, 0.135, 0.133, 0.124, 0.113, 0.10400000000000001, 0.1, 0.094, 0.091, 0.09300000000000001, 0.092, 0.094, 0.091, 0.092, 0.092, 0.092, 0.091, 0.08900000000000001, 0.087, 0.085, 0.08199999999999999, 0.078, 0.078, 0.08, 0.081, 0.08, 0.08800000000000001, 0.179, 0.152, 0.126, 0.114, 0.105, 0.099, 0.096, 0.09699999999999999, 0.152, 0.213, 0.204, 0.19, 0.17600000000000002, 0.163, 0.152, 0.131, 0.11599999999999999, 0.10800000000000001, 0.205, 0.18600000000000003, 0.23199999999999998, 0.201, 0.239, 0.214, 0.203, 0.19399999999999998, 0.179, 0.158, 0.139, 0.126, 0.11699999999999999, 0.111, 0.109, 0.107, 0.105, 0.10300000000000001, 0.102, 0.10099999999999999, 0.1, 0.094, 0.096, 0.132, 0.12, 0.11199999999999999, 0.11, 0.109, 0.10800000000000001, 0.107, 0.107, 0.107, 0.105, 0.10300000000000001, 0.1, 0.094, 0.091, 0.087, 0.085, 0.079, 0.077, 0.077, 0.07200000000000001, 0.071, 0.07200000000000001, 0.069, 0.069, 0.07, 0.066, 0.065, 0.063, 0.062, 0.06, 0.059000000000000004, 0.057999999999999996, 0.061, 0.062, 0.062, 0.063, 0.062, 0.061, 0.06, 0.055999999999999994, 0.057999999999999996, 0.057, 0.055, 0.055, 0.057, 0.055, 0.055999999999999994, 0.054000000000000006, 0.055, 0.055, 0.052000000000000005, 0.053, 0.053, 0.053, 0.054000000000000006, 0.054000000000000006, 0.054000000000000006, 0.053, 0.052000000000000005, 0.053, 0.053, 0.053, 0.052000000000000005, 0.054000000000000006, 0.054000000000000006, 0.053, 0.053, 0.14, 0.129, 0.121, 0.11599999999999999, 0.113, 0.107, 0.107, 0.106, 0.106, 0.105, 0.10300000000000001, 0.09699999999999999, 0.08900000000000001, 0.08, 0.073, 0.067, 0.065, 0.06, 0.057999999999999996, 0.057, 0.055999999999999994, 0.053, 0.053, 0.055, 0.054000000000000006, 0.054000000000000006, 0.052000000000000005, 0.05, 0.046, 0.045, 0.046, 0.045, 0.046, 0.043, 0.042, 0.042, 0.043, 0.045, 0.044000000000000004, 0.045, 0.044000000000000004, 0.043, 0.102, 0.10800000000000001, 0.11199999999999999, 0.111, 0.111, 0.11199999999999999, 0.109, 0.106, 0.10400000000000001, 0.102, 0.105, 0.10300000000000001, 0.095, 0.092, 0.10300000000000001, 0.124, 0.125, 0.13, 0.124, 0.122, 0.185, 0.17, 0.17, 0.16399999999999998, 0.168, 0.17600000000000002, 0.179, 0.19399999999999998, 0.185, 0.18100000000000002, 0.17600000000000002, 0.17300000000000001, 0.16899999999999998, 0.165, 0.168, 0.175, 0.17300000000000001, 0.168, 0.196, 0.182, 0.18, 0.19699999999999998, 0.182, 0.17300000000000001, 0.16899999999999998, 0.193, 0.182, 0.17800000000000002, 0.17600000000000002, 0.17600000000000002, 0.172, 0.171, 0.175, 0.17300000000000001, 0.168, 0.16399999999999998, 0.161, 0.16, 0.193, 0.179, 0.18, 0.19899999999999998, 0.182, 0.17600000000000002, 0.175, 0.177, 0.17600000000000002, 0.177, 0.17, 0.17, 0.16899999999999998, 0.165, 0.166, 0.16699999999999998, 0.16399999999999998, 0.161, 0.159, 0.158, 0.156, 0.154, 0.152, 0.15, 0.149, 0.14800000000000002, 0.146, 0.147, 0.145, 0.14400000000000002, 0.14300000000000002, 0.142, 0.142, 0.14300000000000002, 0.142, 0.14800000000000002, 0.14400000000000002, 0.146, 0.18899999999999997, 0.17800000000000002, 0.175, 0.17600000000000002, 0.174, 0.16899999999999998, 0.16399999999999998, 0.16399999999999998, 0.161, 0.158, 0.155, 0.158, 0.187, 0.18, 0.17300000000000001, 0.16899999999999998, 0.16399999999999998, 0.161, 0.161, 0.159, 0.153, 0.149, 0.145, 0.14300000000000002, 0.138, 0.134, 0.129, 0.124, 0.125, 0.122, 0.11699999999999999, 0.113, 0.109, 0.106, 0.10300000000000001, 0.099, 0.095, 0.09300000000000001, 0.08900000000000001, 0.08800000000000001, 0.087, 0.087, 0.084, 0.086, 0.083, 0.086, 0.087, 0.09, 0.08900000000000001, 0.087, 0.086, 0.083, 0.08199999999999999, 0.08199999999999999, 0.08199999999999999, 0.079, 0.079, 0.078, 0.076, 0.076, 0.076, 0.078, 0.077, 0.075, 0.073, 0.073, 0.073, 0.075, 0.073, 0.073, 0.07400000000000001, 0.075, 0.07200000000000001, 0.07, 0.069, 0.071, 0.07400000000000001, 0.075, 0.079, 0.081, 0.08199999999999999, 0.086, 0.08900000000000001, 0.087, 0.084, 0.084, 0.08, 0.14400000000000002, 0.129, 0.11699999999999999, 0.11, 0.099, 0.157, 0.19, 0.17, 0.159, 0.14300000000000002, 0.126, 0.115, 0.10800000000000001, 0.099, 0.094, 0.09, 0.087, 0.086, 0.084, 0.078, 0.077, 0.079, 0.08199999999999999, 0.081, 0.08, 0.077, 0.077, 0.073, 0.066, 0.065, 0.065, 0.066, 0.066, 0.068, 0.067, 0.066, 0.063, 0.064, 0.067, 0.063, 0.063, 0.062, 0.064, 0.064, 0.062, 0.06, 0.055999999999999994, 0.053, 0.053, 0.049, 0.055, 0.057999999999999996, 0.055999999999999994, 0.055, 0.054000000000000006, 0.053, 0.052000000000000005, 0.052000000000000005, 0.055, 0.055, 0.055, 0.054000000000000006, 0.055, 0.16, 0.153, 0.145, 0.141, 0.135, 0.131, 0.126, 0.11699999999999999, 0.10400000000000001, 0.091, 0.083, 0.077, 0.07400000000000001, 0.067, 0.07, 0.069, 0.066, 0.065, 0.059000000000000004, 0.061, 0.062, 0.062, 0.061, 0.061, 0.068, 0.066, 0.062, 0.061, 0.061, 0.061, 0.06, 0.061, 0.057, 0.059000000000000004, 0.06, 0.055999999999999994, 0.052000000000000005, 0.054000000000000006, 0.054000000000000006, 0.053, 0.052000000000000005, 0.054000000000000006, 0.055, 0.055999999999999994, 0.057, 0.055999999999999994, 0.055, 0.054000000000000006, 0.055, 0.053, 0.053, 0.051, 0.051, 0.051, 0.052000000000000005, 0.054000000000000006, 0.054000000000000006, 0.055, 0.052000000000000005, 0.052000000000000005, 0.051, 0.051, 0.053, 0.052000000000000005, 0.053, 0.052000000000000005, 0.191, 0.175, 0.17, 0.16399999999999998, 0.159, 0.155, 0.147, 0.14, 0.135, 0.132, 0.124, 0.114, 0.107, 0.10099999999999999, 0.094, 0.087, 0.081, 0.079, 0.079, 0.073, 0.17800000000000002, 0.155, 0.146, 0.191, 0.16899999999999998, 0.157, 0.145, 0.19899999999999998, 0.175, 0.166, 0.157, 0.15, 0.14300000000000002, 0.139, 0.135, 0.133, 0.128, 0.12300000000000001, 0.11900000000000001, 0.11900000000000001, 0.114, 0.109, 0.106, 0.10400000000000001, 0.099, 0.091, 0.08900000000000001, 0.08900000000000001, 0.083, 0.079, 0.07, 0.07200000000000001, 0.11900000000000001, 0.19699999999999998, 0.16699999999999998, 0.24100000000000002, 0.2, 0.179, 0.228, 0.20800000000000002, 0.191, 0.183, 0.18, 0.177, 0.175, 0.17300000000000001, 0.17, 0.16899999999999998, 0.16399999999999998, 0.157, 0.155, 0.147, 0.14300000000000002, 0.14, 0.132, 0.131, 0.132, 0.134, 0.132, 0.183, 0.16899999999999998, 0.162, 0.154, 0.151, 0.14800000000000002, 0.14400000000000002, 0.21100000000000002, 0.203, 0.19399999999999998, 0.187, 0.17800000000000002, 0.179, 0.175, 0.207, 0.193, 0.188, 0.21600000000000003, 0.20800000000000002, 0.196, 0.184, 0.177, 0.177, 0.171, 0.17, 0.17, 0.172, 0.16699999999999998, 0.16899999999999998, 0.172, 0.174, 0.171, 0.166, 0.162, 0.156, 0.152, 0.239, 0.218, 0.225, 0.205, 0.192, 0.18600000000000003, 0.183, 0.182, 0.17600000000000002, 0.17300000000000001, 0.16899999999999998, 0.16899999999999998, 0.16699999999999998, 0.16899999999999998, 0.17, 0.174, 0.174, 0.17300000000000001, 0.171, 0.17, 0.16899999999999998, 0.17, 0.16699999999999998, 0.163, 0.163, 0.163, 0.163, 0.166, 0.188, 0.209, 0.19899999999999998, 0.191, 0.17800000000000002, 0.174, 0.171, 0.16699999999999998, 0.16699999999999998, 0.185, 0.19399999999999998, 0.192, 0.19699999999999998, 0.207, 0.20600000000000002, 0.204, 0.20199999999999999, 0.19699999999999998, 0.187, 0.18100000000000002, 0.174, 0.17, 0.17, 0.16699999999999998, 0.171, 0.171, 0.165, 0.165, 0.163, 0.155, 0.154, 0.151, 0.147, 0.138, 0.132, 0.13, 0.126, 0.124, 0.11900000000000001, 0.115, 0.11199999999999999, 0.106, 0.105, 0.10099999999999999, 0.1, 0.098, 0.17600000000000002, 0.172, 0.168, 0.16, 0.146, 0.139, 0.132, 0.127, 0.121, 0.115, 0.11199999999999999, 0.10800000000000001, 0.10099999999999999, 0.09699999999999999, 0.222, 0.2, 0.18899999999999997, 0.182, 0.174, 0.165, 0.17600000000000002, 0.185, 0.18, 0.16899999999999998, 0.155, 0.13699999999999998, 0.126, 0.11800000000000001, 0.106, 0.1, 0.102, 0.105, 0.10800000000000001, 0.105, 0.10400000000000001, 0.213, 0.20600000000000002, 0.207, 0.19899999999999998, 0.22, 0.217, 0.221, 0.20800000000000002, 0.2, 0.235, 0.223, 0.21899999999999997, 0.22, 0.213, 0.203, 0.196, 0.218, 0.21, 0.201, 0.2, 0.225, 0.21, 0.198, 0.18600000000000003, 0.175, 0.166, 0.156, 0.145, 0.132, 0.11900000000000001, 0.113, 0.11, 0.107, 0.18600000000000003, 0.163, 0.145, 0.134, 0.203, 0.18899999999999997, 0.188, 0.177, 0.163, 0.145, 0.13, 0.11699999999999999, 0.109, 0.105, 0.102, 0.099, 0.09699999999999999, 0.096, 0.094, 0.092, 0.092, 0.09, 0.085, 0.083, 0.08900000000000001, 0.09300000000000001, 0.09, 0.08900000000000001, 0.092, 0.091, 0.087, 0.086, 0.08900000000000001, 0.09, 0.083, 0.08199999999999999, 0.08199999999999999, 0.084, 0.081, 0.081, 0.081, 0.078, 0.076, 0.07400000000000001, 0.073, 0.071, 0.067, 0.066, 0.067, 0.071, 0.073, 0.07200000000000001, 0.071, 0.068, 0.065, 0.064, 0.063, 0.063, 0.064, 0.063, 0.063, 0.059000000000000004, 0.066, 0.067, 0.064, 0.064, 0.063, 0.061, 0.061, 0.06, 0.059000000000000004, 0.06, 0.06, 0.059000000000000004, 0.06, 0.062, 0.061, 0.059000000000000004, 0.059000000000000004, 0.059000000000000004, 0.059000000000000004, 0.061, 0.061, 0.059000000000000004, 0.057999999999999996, 0.059000000000000004, 0.059000000000000004, 0.057, 0.057, 0.057999999999999996, 0.057999999999999996, 0.059000000000000004, 0.059000000000000004, 0.057999999999999996, 0.055999999999999994, 0.055, 0.057, 0.063, 0.066, 0.063, 0.061, 0.061, 0.06, 0.06, 0.059000000000000004, 0.06, 0.06, 0.06, 0.06, 0.059000000000000004, 0.06, 0.057999999999999996, 0.055, 0.051, 0.051, 0.054000000000000006, 0.052000000000000005, 0.052000000000000005, 0.053, 0.053, 0.054000000000000006, 0.052000000000000005, 0.05, 0.051, 0.051, 0.051, 0.051, 0.052000000000000005, 0.053, 0.052000000000000005, 0.053, 0.055, 0.051, 0.151, 0.17, 0.165, 0.16, 0.157, 0.152, 0.14400000000000002, 0.14, 0.142, 0.136, 0.134, 0.133, 0.131, 0.152, 0.149, 0.147, 0.142, 0.14400000000000002, 0.138, 0.135, 0.13, 0.127, 0.12, 0.115, 0.11599999999999999, 0.109, 0.105, 0.10300000000000001, 0.102, 0.10099999999999999, 0.099, 0.163, 0.188, 0.21100000000000002, 0.192, 0.18, 0.177, 0.18, 0.175, 0.175, 0.174, 0.168, 0.165, 0.16399999999999998, 0.162, 0.158, 0.149, 0.151, 0.207, 0.215, 0.195, 0.217, 0.201, 0.19399999999999998, 0.18899999999999997, 0.187, 0.183, 0.18600000000000003, 0.185, 0.177, 0.17300000000000001, 0.172, 0.16699999999999998, 0.161, 0.159, 0.156, 0.155, 0.153, 0.157, 0.209, 0.196, 0.191, 0.187, 0.18, 0.179, 0.172, 0.17600000000000002, 0.171, 0.17, 0.17300000000000001, 0.16699999999999998, 0.16399999999999998, 0.16899999999999998, 0.18899999999999997, 0.179, 0.177, 0.175, 0.183, 0.179, 0.17600000000000002, 0.17800000000000002, 0.19899999999999998, 0.19399999999999998, 0.196, 0.195, 0.18899999999999997, 0.188, 0.18, 0.17300000000000001, 0.171, 0.201, 0.18899999999999997, 0.18100000000000002, 0.18], \"xaxis\": \"x\", \"y\": [\"SMC3\", \"SMC3\", \"SMC3\", \"SMC3\", \"SMC3\", \"SMC3\", \"SMC3\", \"SMC3\", \"SMC3\", \"SMC3\", \"SMC3\", \"SMC3\", \"SMC3\", \"SMC3\", \"SMC3\", \"SMC3\", \"SMC3\", \"SMC3\", \"SMC3\", \"SMC3\", \"SMC3\", \"SMC3\", \"SMC3\", \"SMC3\", \"SMC3\", \"SMC3\", \"SMC3\", \"SMC3\", \"SMC3\", \"SMC3\", \"SMC3\", \"SMC3\", \"SMC3\", \"SMC3\", \"SMC3\", \"SMC3\", \"SMC3\", \"SMC3\", \"SMC3\", \"SMC3\", \"SMC3\", \"SMC3\", \"SMC3\", \"SMC3\", \"SMC3\", \"SMC3\", \"SMC3\", \"SMC3\", \"SMC3\", \"SMC3\", \"SMC3\", \"SMC3\", \"SMC3\", \"SMC3\", \"SMC3\", \"SMC3\", \"SMC3\", \"SMC3\", \"SMC3\", \"SMC3\", \"SMC3\", \"SMC3\", \"SMC3\", \"SMC3\", \"SMC3\", \"SMC3\", \"SMC3\", \"SMC3\", \"SMC3\", \"SMC3\", \"SMC3\", \"SMC3\", \"SMC3\", \"SMC3\", \"SMC3\", \"SMC3\", \"SMC3\", \"SMC3\", \"SMC3\", \"SMC3\", \"SMC3\", \"SMC3\", \"SMC3\", \"SMC3\", \"SMC3\", \"SMC3\", \"SMC3\", \"SMC3\", \"SMC3\", \"SMC3\", \"SMC3\", \"SMC3\", \"SMC3\", \"SMC3\", \"SMC3\", \"SMC3\", \"SMC3\", \"SMC3\", \"SMC3\", \"SMC3\", \"SMC3\", \"SMC3\", \"SMC3\", \"SMC3\", \"SMC3\", \"SMC3\", \"SMC3\", \"SMC3\", \"SMC3\", \"SMC3\", \"SMC3\", \"SMC3\", \"SMC3\", \"SMC3\", \"SMC3\", \"SMC3\", \"SMC3\", \"SMC3\", \"SMC3\", \"SMC3\", \"SMC3\", \"SMC3\", \"SMC3\", \"SMC3\", \"SMC3\", \"SMC3\", \"SMC3\", \"SMC3\", \"SMC3\", \"SMC3\", \"SMC3\", \"SMC3\", \"SMC3\", \"SMC3\", \"SMC3\", \"SMC3\", \"SMC3\", \"SMC3\", \"SMC3\", \"SMC3\", \"SMC3\", \"SMC3\", \"SMC3\", \"SMC3\", \"SMC3\", \"SMC3\", \"SMC3\", \"SMC3\", \"SMC3\", \"SMC3\", \"SMC3\", \"SMC3\", \"SMC3\", \"SMC3\", \"SMC3\", \"SMC3\", \"SMC3\", \"SMC3\", \"SMC3\", \"SMC3\", \"SMC3\", \"SMC3\", \"SMC3\", \"SMC3\", \"SMC3\", \"SMC3\", \"SMC3\", \"SMC3\", \"SMC3\", \"SMC3\", \"SMC3\", \"SMC3\", \"SMC3\", \"SMC3\", \"SMC3\", \"SMC3\", \"SMC3\", \"SMC3\", \"SMC3\", \"SMC3\", \"SMC3\", \"SMC3\", \"SMC3\", \"SMC3\", \"SMC3\", \"SMC3\", \"SMC3\", \"SMC3\", \"SMC3\", \"SMC3\", \"SMC3\", \"SMC3\", \"SMC3\", \"SMC3\", \"SMC3\", \"SMC3\", \"SMC3\", \"SMC3\", \"SMC3\", \"SMC3\", \"SMC3\", \"SMC3\", \"SMC3\", \"SMC3\", \"SMC3\", \"SMC3\", \"SMC3\", \"SMC3\", \"SMC3\", \"SMC3\", \"SMC3\", \"SMC3\", \"SMC3\", \"SMC3\", \"SMC3\", \"SMC3\", \"SMC3\", \"SMC3\", \"SMC3\", \"SMC3\", \"SMC3\", \"SMC3\", \"SMC3\", \"SMC3\", \"SMC3\", \"SMC3\", \"SMC3\", \"SMC3\", \"SMC3\", \"SMC3\", \"SMC3\", \"SMC3\", \"SMC3\", \"SMC3\", \"SMC3\", \"SMC3\", \"SMC3\", \"SMC3\", \"SMC3\", \"SMC3\", \"SMC3\", \"SMC3\", \"SMC3\", \"SMC3\", \"SMC3\", \"SMC3\", \"SMC3\", \"SMC3\", \"SMC3\", \"SMC3\", \"SMC3\", \"SMC3\", \"SMC3\", \"SMC3\", \"SMC3\", \"SMC3\", \"SMC3\", \"SMC3\", \"SMC3\", \"SMC3\", \"SMC3\", \"SMC3\", \"SMC3\", \"SMC3\", \"SMC3\", \"SMC3\", \"SMC3\", \"SMC3\", \"SMC3\", \"SMC3\", \"SMC3\", \"SMC3\", \"SMC3\", \"SMC3\", \"SMC3\", \"SMC3\", \"SMC3\", \"SMC3\", \"SMC3\", \"SMC3\", \"SMC3\", \"SMC3\", \"SMC3\", \"SMC3\", \"SMC3\", \"SMC3\", \"SMC3\", \"SMC3\", \"SMC3\", \"SMC3\", \"SMC3\", \"SMC3\", \"SMC3\", \"SMC3\", \"SMC3\", \"SMC3\", \"SMC3\", \"SMC3\", \"SMC3\", \"SMC3\", \"SMC3\", \"SMC3\", \"SMC3\", \"SMC3\", \"SMC3\", \"SMC3\", \"SMC3\", \"SMC3\", \"SMC3\", \"SMC3\", \"SMC3\", \"SMC3\", \"SMC3\", \"SMC3\", \"SMC3\", \"SMC3\", \"SMC3\", \"SMC3\", \"SMC3\", \"SMC3\", \"SMC3\", \"SMC3\", \"SMC3\", \"SMC3\", \"SMC3\", \"SMC3\", \"SMC3\", \"SMC3\", \"SMC3\", \"SMC3\", \"SMC3\", \"SMC3\", \"SMC3\", \"SMC3\", \"SMC3\", \"SMC3\", \"SMC3\", \"SMC3\", \"SMC3\", \"SMC3\", \"SMC3\", \"SMC3\", \"SMC3\", \"SMC3\", \"SMC3\", \"SMC3\", \"SMC3\", \"SMC3\", \"SMC3\", \"SMC3\", \"SMC3\", \"SMC3\", \"SMC3\", \"SMC3\", \"SMC3\", \"SMC3\", \"SMC3\", \"SMC3\", \"SMC3\", \"SMC3\", \"SMC3\", \"SMC3\", \"SMC3\", \"SMC3\", \"SMC3\", \"SMC3\", \"SMC3\", \"SMC3\", \"SMC3\", \"SMC3\", \"SMC3\", \"SMC3\", \"SMC3\", \"SMC3\", \"SMC3\", \"SMC3\", \"SMC3\", \"SMC3\", \"SMC3\", \"SMC3\", \"SMC3\", \"SMC3\", \"SMC3\", \"SMC3\", \"SMC3\", \"SMC3\", \"SMC3\", \"SMC3\", \"SMC3\", \"SMC3\", \"SMC3\", \"SMC3\", \"SMC3\", \"SMC3\", \"SMC3\", \"SMC3\", \"SMC3\", \"SMC3\", \"SMC3\", \"SMC3\", \"SMC3\", \"SMC3\", \"SMC3\", \"SMC3\", \"SMC3\", \"SMC3\", \"SMC3\", \"SMC3\", \"SMC3\", \"SMC3\", \"SMC3\", \"SMC3\", \"SMC3\", \"SMC3\", \"SMC3\", \"SMC3\", \"SMC3\", \"SMC3\", \"SMC3\", \"SMC3\", \"SMC3\", \"SMC3\", \"SMC3\", \"SMC3\", \"SMC3\", \"SMC3\", \"SMC3\", \"SMC3\", \"SMC3\", \"SMC3\", \"SMC3\", \"SMC3\", \"SMC3\", \"SMC3\", \"SMC3\", \"SMC3\", \"SMC3\", \"SMC3\", \"SMC3\", \"SMC3\", \"SMC3\", \"SMC3\", \"SMC3\", \"SMC3\", \"SMC3\", \"SMC3\", \"SMC3\", \"SMC3\", \"SMC3\", \"SMC3\", \"SMC3\", \"SMC3\", \"SMC3\", \"SMC3\", \"SMC3\", \"SMC3\", \"SMC3\", \"SMC3\", \"SMC3\", \"SMC3\", \"SMC3\", \"SMC3\", \"SMC3\", \"SMC3\", \"SMC3\", \"SMC3\", \"SMC3\", \"SMC3\", \"SMC3\", \"SMC3\", \"SMC3\", \"SMC3\", \"SMC3\", \"SMC3\", \"SMC3\", \"SMC3\", \"SMC3\", \"SMC3\", \"SMC3\", \"SMC3\", \"SMC3\", \"SMC3\", \"SMC3\", \"SMC3\", \"SMC3\", \"SMC3\", \"SMC3\", \"SMC3\", \"SMC3\", \"SMC3\", \"SMC3\", \"SMC3\", \"SMC3\", \"SMC3\", \"SMC3\", \"SMC3\", \"SMC3\", \"SMC3\", \"SMC3\", \"SMC3\", \"SMC3\", \"SMC3\", \"SMC3\", \"SMC3\", \"SMC3\", \"SMC3\", \"SMC3\", \"SMC3\", \"SMC3\", \"SMC3\", \"SMC3\", \"SMC3\", \"SMC3\", \"SMC3\", \"SMC3\", \"SMC3\", \"SMC3\", \"SMC3\", \"SMC3\", \"SMC3\", \"SMC3\", \"SMC3\", \"SMC3\", \"SMC3\", \"SMC3\", \"SMC3\", \"SMC3\", \"SMC3\", \"SMC3\", \"SMC3\", \"SMC3\", \"SMC3\", \"SMC3\", \"SMC3\", \"SMC3\", \"SMC3\", \"SMC3\", \"SMC3\", \"SMC3\", \"SMC3\", \"SMC3\", \"SMC3\", \"SMC3\", \"SMC3\", \"SMC3\", \"SMC3\", \"SMC3\", \"SMC3\", \"SMC3\", \"SMC3\", \"SMC3\", \"SMC3\", \"SMC3\", \"SMC3\", \"SMC3\", \"SMC3\", \"SMC3\", \"SMC3\", \"SMC3\", \"SMC3\", \"SMC3\", \"SMC3\", \"SMC3\", \"SMC3\", \"SMC3\", \"SMC3\", \"SMC3\", \"SMC3\", \"SMC3\", \"SMC3\", \"SMC3\", \"SMC3\", \"SMC3\", \"SMC3\", \"SMC3\", \"SMC3\", \"SMC3\", \"SMC3\", \"SMC3\", \"SMC3\", \"SMC3\", \"SMC3\", \"SMC3\", \"SMC3\", \"SMC3\", \"SMC3\", \"SMC3\", \"SMC3\", \"SMC3\", \"SMC3\", \"SMC3\", \"SMC3\", \"SMC3\", \"SMC3\", \"SMC3\", \"SMC3\", \"SMC3\", \"SMC3\", \"SMC3\", \"SMC3\", \"SMC3\", \"SMC3\", \"SMC3\", \"SMC3\", \"SMC3\", \"SMC3\", \"SMC3\", \"SMC3\", \"SMC3\", \"SMC3\", \"SMC3\", \"SMC3\", \"SMC3\", \"SMC3\", \"SMC3\", \"SMC3\", \"SMC3\", \"SMC3\", \"SMC3\", \"SMC3\", \"SMC3\", \"SMC3\", \"SMC3\", \"SMC3\", \"SMC3\", \"SMC3\", \"SMC3\", \"SMC3\", \"SMC3\", \"SMC3\", \"SMC3\", \"SMC3\", \"SMC3\", \"SMC3\", \"SMC3\", \"SMC3\", \"SMC3\", \"SMC3\", \"SMC3\", \"SMC3\", \"SMC3\", \"SMC3\", \"SMC3\", \"SMC3\", \"SMC3\", \"SMC3\", \"SMC3\", \"SMC3\", \"SMC3\", \"SMC3\", \"SMC3\", \"SMC3\", \"SMC3\", \"SMC3\", \"SMC3\", \"SMC3\", \"SMC3\", \"SMC3\", \"SMC3\", \"SMC3\", \"SMC3\", \"SMC3\", \"SMC3\", \"SMC3\", \"SMC3\", \"SMC3\", \"SMC3\", \"SMC3\", \"SMC3\", \"SMC3\", \"SMC3\", \"SMC3\", \"SMC3\", \"SMC3\", \"SMC3\", \"SMC3\", \"SMC3\", \"SMC3\", \"SMC3\", \"SMC3\", \"SMC3\", \"SMC3\", \"SMC3\", \"SMC3\", \"SMC3\", \"SMC3\", \"SMC3\", \"SMC3\", \"SMC3\", \"SMC3\", \"SMC3\", \"SMC3\", \"SMC3\", \"SMC3\", \"SMC3\", \"SMC3\", \"SMC3\", \"SMC3\", \"SMC3\", \"SMC3\", \"SMC3\", \"SMC3\", \"SMC3\", \"SMC3\", \"SMC3\", \"SMC3\", \"SMC3\", \"SMC3\", \"SMC3\", \"SMC3\", \"SMC3\", \"SMC3\", \"SMC3\", \"SMC3\", \"SMC3\", \"SMC3\", \"SMC3\", \"SMC3\", \"SMC3\", \"SMC3\", \"SMC3\", \"SMC3\", \"SMC3\", \"SMC3\", \"SMC3\", \"SMC3\", \"SMC3\", \"SMC3\", \"SMC3\", \"SMC3\", \"SMC3\", \"SMC3\", \"SMC3\", \"SMC3\", \"SMC3\", \"SMC3\", \"SMC3\", \"SMC3\", \"SMC3\", \"SMC3\", \"SMC3\", \"SMC3\", \"SMC3\", \"SMC3\", \"SMC3\", \"SMC3\", \"SMC3\", \"SMC3\", \"SMC3\", \"SMC3\", \"SMC3\", \"SMC3\", \"SMC3\", \"SMC3\", \"SMC3\", \"SMC3\", \"SMC3\", \"SMC3\", \"SMC3\", \"SMC3\", \"SMC3\", \"SMC3\", \"SMC3\", \"SMC3\", \"SMC3\", \"SMC3\", \"SMC3\", \"SMC3\", \"SMC3\", \"SMC3\", \"SMC3\", \"SMC3\", \"SMC3\", \"SMC3\", \"SMC3\", \"SMC3\", \"SMC3\", \"SMC3\", \"SMC3\", \"SMC3\", \"SMC3\", \"SMC3\", \"SMC3\", \"SMC3\", \"SMC3\", \"SMC3\", \"SMC3\", \"SMC3\", \"SMC3\", \"SMC3\", \"SMC3\", \"SMC3\", \"SMC3\", \"SMC3\", \"SMC3\", \"SMC3\", \"SMC3\", \"SMC3\", \"SMC3\", \"SMC3\", \"SMC3\", \"SMC3\", \"SMC3\", \"SMC3\", \"SMC3\", \"SMC3\", \"SMC3\", \"SMC3\", \"SMC3\", \"SMC3\", \"SMC3\", \"SMC3\", \"SMC3\", \"SMC3\", \"SMC3\", \"SMC3\", \"SMC3\", \"SMC3\", \"SMC3\", \"SMC3\", \"SMC3\", \"SMC3\", \"SMC3\", \"SMC3\", \"SMC3\", \"SMC3\", \"SMC3\", \"SMC3\", \"SMC3\", \"SMC3\", \"SMC3\", \"SMC3\", \"SMC3\", \"SMC3\", \"SMC3\", \"SMC3\", \"SMC3\", \"SMC3\", \"SMC3\", \"SMC3\", \"SMC3\", \"SMC3\", \"SMC3\", \"SMC3\", \"SMC3\", \"SMC3\", \"SMC3\", \"SMC3\", \"SMC3\", \"SMC3\", \"SMC3\", \"SMC3\", \"SMC3\", \"SMC3\", \"SMC3\", \"SMC3\", \"SMC3\", \"SMC3\", \"SMC3\", \"SMC3\", \"SMC3\", \"SMC3\", \"SMC3\", \"SMC3\", \"SMC3\", \"SMC3\", \"SMC3\", \"SMC3\", \"SMC3\", \"SMC3\", \"SMC3\", \"SMC3\", \"SMC3\", \"SMC3\", \"SMC3\", \"SMC3\", \"SMC3\", \"SMC3\", \"SMC3\", \"SMC3\", \"SMC3\", \"SMC3\", \"SMC3\", \"SMC3\", \"SMC3\", \"SMC3\", \"SMC3\", \"SMC3\", \"SMC3\", \"SMC3\", \"SMC3\", \"SMC3\", \"SMC3\", \"SMC3\", \"SMC3\", \"SMC3\", \"SMC3\", \"SMC3\", \"SMC3\", \"SMC3\", \"SMC3\", \"SMC3\", \"SMC3\", \"SMC3\", \"SMC3\", \"SMC3\", \"SMC3\", \"SMC3\", \"SMC3\", \"SMC3\", \"SMC3\", \"SMC3\", \"SMC3\", \"SMC3\", \"SMC3\", \"SMC3\", \"SMC3\", \"SMC3\", \"SMC3\", \"SMC3\", \"SMC3\", \"SMC3\", \"SMC3\", \"SMC3\", \"SMC3\", \"SMC3\", \"SMC3\", \"SMC3\", \"SMC3\", \"SMC3\", \"SMC3\", \"SMC3\", \"SMC3\", \"SMC3\", \"SMC3\", \"SMC3\", \"SMC3\", \"SMC3\", \"SMC3\", \"SMC3\", \"SMC3\", \"SMC3\", \"SMC3\", \"SMC3\", \"SMC3\", \"SMC3\", \"SMC3\", \"SMC3\", \"SMC3\", \"SMC3\", \"SMC3\", \"SMC3\", \"SMC3\", \"SMC3\", \"SMC3\", \"SMC3\", \"SMC3\", \"SMC3\", \"SMC3\", \"SMC3\", \"SMC3\", \"SMC3\", \"SMC3\", \"SMC3\", \"SMC3\", \"SMC3\", \"SMC3\", \"SMC3\", \"SMC3\", \"SMC3\", \"SMC3\", \"SMC3\", \"SMC3\", \"SMC3\", \"SMC3\", \"SMC3\", \"SMC3\", \"SMC3\", \"SMC3\", \"SMC3\", \"SMC3\", \"SMC3\", \"SMC3\", \"SMC3\", \"SMC3\", \"SMC3\", \"SMC3\", \"SMC3\", \"SMC3\", \"SMC3\", \"SMC3\", \"SMC3\", \"SMC3\", \"SMC3\", \"SMC3\", \"SMC3\", \"SMC3\", \"SMC3\", \"SMC3\", \"SMC3\", \"SMC3\", \"SMC3\", \"SMC3\", \"SMC3\", \"SMC3\", \"SMC3\", \"SMC3\", \"SMC3\", \"SMC3\", \"SMC3\", \"SMC3\", \"SMC3\", \"SMC3\", \"SMC3\", \"SMC3\", \"SMC3\", \"SMC3\", \"SMC3\", \"SMC3\", \"SMC3\", \"SMC3\", \"SMC3\", \"SMC3\", \"SMC3\", \"SMC3\", \"SMC3\", \"SMC3\", \"SMC3\", \"SMC3\", \"SMC3\", \"SMC3\", \"SMC3\", \"SMC3\", \"SMC3\", \"SMC3\", \"SMC3\", \"SMC3\", \"SMC3\", \"SMC3\", \"SMC3\", \"SMC3\", \"SMC3\", \"SMC3\", \"SMC3\", \"SMC3\", \"SMC3\", \"SMC3\", \"SMC3\", \"SMC3\", \"SMC3\", \"SMC3\", \"SMC3\", \"SMC3\", \"SMC3\", \"SMC3\", \"SMC3\", \"SMC3\", \"SMC3\", \"SMC3\", \"SMC3\", \"SMC3\", \"SMC3\", \"SMC3\", \"SMC3\", \"SMC3\", \"SMC3\", \"SMC3\", \"SMC3\", \"SMC3\", \"SMC3\", \"SMC3\", \"SMC3\", \"SMC3\", \"SMC3\", \"SMC3\", \"SMC3\", \"SMC3\", \"SMC3\", \"SMC3\", \"SMC3\", \"SMC3\", \"SMC3\", \"SMC3\", \"SMC3\", \"SMC3\", \"SMC3\", \"SMC3\", \"SMC3\", \"SMC3\", \"SMC3\", \"SMC3\", \"SMC3\", \"SMC3\", \"SMC3\", \"SMC3\", \"SMC3\", \"SMC3\", \"SMC3\", \"SMC3\", \"SMC3\", \"SMC3\", \"SMC3\", \"SMC3\", \"SMC3\", \"SMC3\", \"SMC3\", \"SMC3\", \"SMC3\", \"SMC3\", \"SMC3\", \"SMC3\", \"SMC3\", \"SMC3\", \"SMC3\", \"SMC3\", \"SMC3\", \"SMC3\", \"SMC3\", \"SMC3\", \"SMC3\", \"SMC3\", \"SMC3\", \"SMC3\", \"SMC3\", \"SMC3\", \"SMC3\", \"SMC3\", \"SMC3\", \"SMC3\", \"SMC3\", \"SMC3\", \"SMC3\", \"SMC3\", \"SMC3\", \"SMC3\", \"SMC3\", \"SMC3\", \"SMC3\", \"SMC3\", \"SMC3\", \"SMC3\", \"SMC3\", \"SMC3\", \"SMC3\", \"SMC3\", \"SMC3\", \"SMC3\", \"SMC3\", \"SMC3\", \"SMC3\", \"SMC3\", \"SMC3\", \"SMC3\", \"SMC3\", \"SMC3\", \"SMC3\", \"SMC3\", \"SMC3\", \"SMC3\", \"SMC3\", \"SMC3\", \"SMC3\", \"SMC3\", \"SMC3\", \"SMC3\", \"SMC3\", \"SMC3\", \"SMC3\", \"SMC3\", \"SMC3\", \"SMC3\", \"SMC3\", \"SMC3\", \"SMC3\", \"SMC3\", \"SMC3\", \"SMC3\", \"SMC3\", \"SMC3\", \"SMC3\", \"SMC3\", \"SMC3\", \"SMC3\", \"SMC3\", \"SMC3\", \"SMC3\", \"SMC3\", \"SMC3\", \"SMC3\", \"SMC3\", \"SMC3\", \"SMC3\", \"SMC3\", \"SMC3\", \"SMC3\", \"SMC3\", \"SMC3\", \"SMC3\", \"SMC3\", \"SMC3\", \"SMC3\", \"SMC3\", \"SMC3\", \"SMC3\", \"SMC3\", \"SMC3\", \"SMC3\", \"SMC3\", \"SMC3\", \"SMC3\", \"SMC3\", \"SMC3\", \"SMC3\", \"SMC3\", \"SMC3\", \"SMC3\", \"SMC3\", \"SMC3\", \"SMC3\", \"SMC3\", \"SMC3\", \"SMC3\", \"SMC3\", \"SMC3\", \"SMC3\", \"SMC3\", \"SMC3\", \"SMC3\", \"SMC3\", \"SMC3\", \"SMC3\", \"SMC3\", \"SMC3\", \"SMC3\", \"SMC3\", \"SMC3\", \"SMC3\", \"SMC3\", \"SMC3\", \"SMC3\", \"SMC3\", \"SMC3\", \"SMC3\", \"SMC3\", \"SMC3\", \"SMC3\", \"SMC3\", \"SMC3\", \"SMC3\", \"SMC3\", \"SMC3\", \"SMC3\", \"SMC3\", \"SMC3\", \"SMC3\", \"SMC3\", \"SMC3\", \"SMC3\", \"SMC3\", \"SMC3\", \"SMC3\", \"SMC3\", \"SMC3\", \"SMC3\", \"SMC3\", \"SMC3\", \"SMC3\", \"SMC3\", \"SMC3\", \"SMC3\", \"SMC3\", \"SMC3\", \"SMC3\", \"SMC3\", \"SMC3\", \"SMC3\", \"SMC3\", \"SMC3\", \"SMC3\", \"SMC3\", \"SMC3\", \"SMC3\", \"SMC3\", \"SMC3\", \"SMC3\", \"SMC3\", \"SMC3\", \"SMC3\", \"SMC3\", \"SMC3\", \"SMC3\", \"SMC3\", \"SMC3\", \"SMC3\", \"SMC3\", \"SMC3\", \"SMC3\", \"SMC3\", \"SMC3\", \"SMC3\", \"SMC3\", \"SMC3\", \"SMC3\", \"SMC3\", \"SMC3\", \"SMC3\", \"SMC3\", \"SMC3\", \"SMC3\", \"SMC3\", \"SMC3\", \"SMC3\", \"SMC3\", \"SMC3\", \"SMC3\", \"SMC3\", \"SMC3\", \"SMC3\", \"SMC3\", \"SMC3\", \"SMC3\", \"SMC3\", \"SMC3\", \"SMC3\", \"SMC3\", \"SMC3\", \"SMC3\", \"SMC3\", \"SMC3\", \"SMC3\", \"SMC3\", \"SMC3\", \"SMC3\", \"SMC3\", \"SMC3\", \"SMC3\", \"SMC3\", \"SMC3\", \"SMC3\", \"SMC3\", \"SMC3\", \"SMC3\", \"SMC3\", \"SMC3\", \"SMC3\", \"SMC3\", \"SMC3\", \"SMC3\", \"SMC3\", \"SMC3\", \"SMC3\", \"SMC3\", \"SMC3\", \"SMC3\", \"SMC3\", \"SMC3\", \"SMC3\", \"SMC3\", \"SMC3\", \"SMC3\", \"SMC3\", \"SMC3\", \"SMC3\", \"SMC3\", \"SMC3\", \"SMC3\", \"SMC3\", \"SMC3\", \"SMC3\", \"SMC3\", \"SMC3\", \"SMC3\", \"SMC3\", \"SMC3\", \"SMC3\", \"SMC3\", \"SMC3\", \"SMC3\", \"SMC3\", \"SMC3\", \"SMC3\", \"SMC3\", \"SMC3\", \"SMC3\", \"SMC3\", \"SMC3\", \"SMC3\", \"SMC3\", \"SMC3\", \"SMC3\", \"SMC3\", \"SMC3\", \"SMC3\", \"SMC3\", \"SMC3\", \"SMC3\", \"SMC3\", \"SMC3\", \"SMC3\", \"SMC3\"], \"yaxis\": \"y2\"}],\n",
              "                        {\"barmode\": \"overlay\", \"hovermode\": \"closest\", \"legend\": {\"traceorder\": \"reversed\"}, \"template\": {\"data\": {\"bar\": [{\"error_x\": {\"color\": \"#2a3f5f\"}, \"error_y\": {\"color\": \"#2a3f5f\"}, \"marker\": {\"line\": {\"color\": \"#E5ECF6\", \"width\": 0.5}}, \"type\": \"bar\"}], \"barpolar\": [{\"marker\": {\"line\": {\"color\": \"#E5ECF6\", \"width\": 0.5}}, \"type\": \"barpolar\"}], \"carpet\": [{\"aaxis\": {\"endlinecolor\": \"#2a3f5f\", \"gridcolor\": \"white\", \"linecolor\": \"white\", \"minorgridcolor\": \"white\", \"startlinecolor\": \"#2a3f5f\"}, \"baxis\": {\"endlinecolor\": \"#2a3f5f\", \"gridcolor\": \"white\", \"linecolor\": \"white\", \"minorgridcolor\": \"white\", \"startlinecolor\": \"#2a3f5f\"}, \"type\": \"carpet\"}], \"choropleth\": [{\"colorbar\": {\"outlinewidth\": 0, \"ticks\": \"\"}, \"type\": \"choropleth\"}], \"contour\": [{\"colorbar\": {\"outlinewidth\": 0, \"ticks\": \"\"}, \"colorscale\": [[0.0, \"#0d0887\"], [0.1111111111111111, \"#46039f\"], [0.2222222222222222, \"#7201a8\"], [0.3333333333333333, \"#9c179e\"], [0.4444444444444444, \"#bd3786\"], [0.5555555555555556, \"#d8576b\"], [0.6666666666666666, \"#ed7953\"], [0.7777777777777778, \"#fb9f3a\"], [0.8888888888888888, \"#fdca26\"], [1.0, \"#f0f921\"]], \"type\": \"contour\"}], \"contourcarpet\": [{\"colorbar\": {\"outlinewidth\": 0, \"ticks\": \"\"}, \"type\": \"contourcarpet\"}], \"heatmap\": [{\"colorbar\": {\"outlinewidth\": 0, \"ticks\": \"\"}, \"colorscale\": [[0.0, \"#0d0887\"], [0.1111111111111111, \"#46039f\"], [0.2222222222222222, \"#7201a8\"], [0.3333333333333333, \"#9c179e\"], [0.4444444444444444, \"#bd3786\"], [0.5555555555555556, \"#d8576b\"], [0.6666666666666666, \"#ed7953\"], [0.7777777777777778, \"#fb9f3a\"], [0.8888888888888888, \"#fdca26\"], [1.0, \"#f0f921\"]], \"type\": \"heatmap\"}], \"heatmapgl\": [{\"colorbar\": {\"outlinewidth\": 0, \"ticks\": \"\"}, \"colorscale\": [[0.0, \"#0d0887\"], [0.1111111111111111, \"#46039f\"], [0.2222222222222222, \"#7201a8\"], [0.3333333333333333, \"#9c179e\"], [0.4444444444444444, \"#bd3786\"], [0.5555555555555556, \"#d8576b\"], [0.6666666666666666, \"#ed7953\"], [0.7777777777777778, \"#fb9f3a\"], [0.8888888888888888, \"#fdca26\"], [1.0, \"#f0f921\"]], \"type\": \"heatmapgl\"}], \"histogram\": [{\"marker\": {\"colorbar\": {\"outlinewidth\": 0, \"ticks\": \"\"}}, \"type\": \"histogram\"}], \"histogram2d\": [{\"colorbar\": {\"outlinewidth\": 0, \"ticks\": \"\"}, \"colorscale\": [[0.0, \"#0d0887\"], [0.1111111111111111, \"#46039f\"], [0.2222222222222222, \"#7201a8\"], [0.3333333333333333, \"#9c179e\"], [0.4444444444444444, \"#bd3786\"], [0.5555555555555556, \"#d8576b\"], [0.6666666666666666, \"#ed7953\"], [0.7777777777777778, \"#fb9f3a\"], [0.8888888888888888, \"#fdca26\"], [1.0, \"#f0f921\"]], \"type\": \"histogram2d\"}], \"histogram2dcontour\": [{\"colorbar\": {\"outlinewidth\": 0, \"ticks\": \"\"}, \"colorscale\": [[0.0, \"#0d0887\"], [0.1111111111111111, \"#46039f\"], [0.2222222222222222, \"#7201a8\"], [0.3333333333333333, \"#9c179e\"], [0.4444444444444444, \"#bd3786\"], [0.5555555555555556, \"#d8576b\"], [0.6666666666666666, \"#ed7953\"], [0.7777777777777778, \"#fb9f3a\"], [0.8888888888888888, \"#fdca26\"], [1.0, \"#f0f921\"]], \"type\": \"histogram2dcontour\"}], \"mesh3d\": [{\"colorbar\": {\"outlinewidth\": 0, \"ticks\": \"\"}, \"type\": \"mesh3d\"}], \"parcoords\": [{\"line\": {\"colorbar\": {\"outlinewidth\": 0, \"ticks\": \"\"}}, \"type\": \"parcoords\"}], \"pie\": [{\"automargin\": true, \"type\": \"pie\"}], \"scatter\": [{\"marker\": {\"colorbar\": {\"outlinewidth\": 0, \"ticks\": \"\"}}, \"type\": \"scatter\"}], \"scatter3d\": [{\"line\": {\"colorbar\": {\"outlinewidth\": 0, \"ticks\": \"\"}}, \"marker\": {\"colorbar\": {\"outlinewidth\": 0, \"ticks\": \"\"}}, \"type\": \"scatter3d\"}], \"scattercarpet\": [{\"marker\": {\"colorbar\": {\"outlinewidth\": 0, \"ticks\": \"\"}}, \"type\": \"scattercarpet\"}], \"scattergeo\": [{\"marker\": {\"colorbar\": {\"outlinewidth\": 0, \"ticks\": \"\"}}, \"type\": \"scattergeo\"}], \"scattergl\": [{\"marker\": {\"colorbar\": {\"outlinewidth\": 0, \"ticks\": \"\"}}, \"type\": \"scattergl\"}], \"scattermapbox\": [{\"marker\": {\"colorbar\": {\"outlinewidth\": 0, \"ticks\": \"\"}}, \"type\": \"scattermapbox\"}], \"scatterpolar\": [{\"marker\": {\"colorbar\": {\"outlinewidth\": 0, \"ticks\": \"\"}}, \"type\": \"scatterpolar\"}], \"scatterpolargl\": [{\"marker\": {\"colorbar\": {\"outlinewidth\": 0, \"ticks\": \"\"}}, \"type\": \"scatterpolargl\"}], \"scatterternary\": [{\"marker\": {\"colorbar\": {\"outlinewidth\": 0, \"ticks\": \"\"}}, \"type\": \"scatterternary\"}], \"surface\": [{\"colorbar\": {\"outlinewidth\": 0, \"ticks\": \"\"}, \"colorscale\": [[0.0, \"#0d0887\"], [0.1111111111111111, \"#46039f\"], [0.2222222222222222, \"#7201a8\"], [0.3333333333333333, \"#9c179e\"], [0.4444444444444444, \"#bd3786\"], [0.5555555555555556, \"#d8576b\"], [0.6666666666666666, \"#ed7953\"], [0.7777777777777778, \"#fb9f3a\"], [0.8888888888888888, \"#fdca26\"], [1.0, \"#f0f921\"]], \"type\": \"surface\"}], \"table\": [{\"cells\": {\"fill\": {\"color\": \"#EBF0F8\"}, \"line\": {\"color\": \"white\"}}, \"header\": {\"fill\": {\"color\": \"#C8D4E3\"}, \"line\": {\"color\": \"white\"}}, \"type\": \"table\"}]}, \"layout\": {\"annotationdefaults\": {\"arrowcolor\": \"#2a3f5f\", \"arrowhead\": 0, \"arrowwidth\": 1}, \"coloraxis\": {\"colorbar\": {\"outlinewidth\": 0, \"ticks\": \"\"}}, \"colorscale\": {\"diverging\": [[0, \"#8e0152\"], [0.1, \"#c51b7d\"], [0.2, \"#de77ae\"], [0.3, \"#f1b6da\"], [0.4, \"#fde0ef\"], [0.5, \"#f7f7f7\"], [0.6, \"#e6f5d0\"], [0.7, \"#b8e186\"], [0.8, \"#7fbc41\"], [0.9, \"#4d9221\"], [1, \"#276419\"]], \"sequential\": [[0.0, \"#0d0887\"], [0.1111111111111111, \"#46039f\"], [0.2222222222222222, \"#7201a8\"], [0.3333333333333333, \"#9c179e\"], [0.4444444444444444, \"#bd3786\"], [0.5555555555555556, \"#d8576b\"], [0.6666666666666666, \"#ed7953\"], [0.7777777777777778, \"#fb9f3a\"], [0.8888888888888888, \"#fdca26\"], [1.0, \"#f0f921\"]], \"sequentialminus\": [[0.0, \"#0d0887\"], [0.1111111111111111, \"#46039f\"], [0.2222222222222222, \"#7201a8\"], [0.3333333333333333, \"#9c179e\"], [0.4444444444444444, \"#bd3786\"], [0.5555555555555556, \"#d8576b\"], [0.6666666666666666, \"#ed7953\"], [0.7777777777777778, \"#fb9f3a\"], [0.8888888888888888, \"#fdca26\"], [1.0, \"#f0f921\"]]}, \"colorway\": [\"#636efa\", \"#EF553B\", \"#00cc96\", \"#ab63fa\", \"#FFA15A\", \"#19d3f3\", \"#FF6692\", \"#B6E880\", \"#FF97FF\", \"#FECB52\"], \"font\": {\"color\": \"#2a3f5f\"}, \"geo\": {\"bgcolor\": \"white\", \"lakecolor\": \"white\", \"landcolor\": \"#E5ECF6\", \"showlakes\": true, \"showland\": true, \"subunitcolor\": \"white\"}, \"hoverlabel\": {\"align\": \"left\"}, \"hovermode\": \"closest\", \"mapbox\": {\"style\": \"light\"}, \"paper_bgcolor\": \"white\", \"plot_bgcolor\": \"#E5ECF6\", \"polar\": {\"angularaxis\": {\"gridcolor\": \"white\", \"linecolor\": \"white\", \"ticks\": \"\"}, \"bgcolor\": \"#E5ECF6\", \"radialaxis\": {\"gridcolor\": \"white\", \"linecolor\": \"white\", \"ticks\": \"\"}}, \"scene\": {\"xaxis\": {\"backgroundcolor\": \"#E5ECF6\", \"gridcolor\": \"white\", \"gridwidth\": 2, \"linecolor\": \"white\", \"showbackground\": true, \"ticks\": \"\", \"zerolinecolor\": \"white\"}, \"yaxis\": {\"backgroundcolor\": \"#E5ECF6\", \"gridcolor\": \"white\", \"gridwidth\": 2, \"linecolor\": \"white\", \"showbackground\": true, \"ticks\": \"\", \"zerolinecolor\": \"white\"}, \"zaxis\": {\"backgroundcolor\": \"#E5ECF6\", \"gridcolor\": \"white\", \"gridwidth\": 2, \"linecolor\": \"white\", \"showbackground\": true, \"ticks\": \"\", \"zerolinecolor\": \"white\"}}, \"shapedefaults\": {\"line\": {\"color\": \"#2a3f5f\"}}, \"ternary\": {\"aaxis\": {\"gridcolor\": \"white\", \"linecolor\": \"white\", \"ticks\": \"\"}, \"baxis\": {\"gridcolor\": \"white\", \"linecolor\": \"white\", \"ticks\": \"\"}, \"bgcolor\": \"#E5ECF6\", \"caxis\": {\"gridcolor\": \"white\", \"linecolor\": \"white\", \"ticks\": \"\"}}, \"title\": {\"x\": 0.05}, \"xaxis\": {\"automargin\": true, \"gridcolor\": \"white\", \"linecolor\": \"white\", \"ticks\": \"\", \"title\": {\"standoff\": 15}, \"zerolinecolor\": \"white\", \"zerolinewidth\": 2}, \"yaxis\": {\"automargin\": true, \"gridcolor\": \"white\", \"linecolor\": \"white\", \"ticks\": \"\", \"title\": {\"standoff\": 15}, \"zerolinecolor\": \"white\", \"zerolinewidth\": 2}}}, \"xaxis\": {\"anchor\": \"y2\", \"domain\": [0.0, 1.0], \"zeroline\": false}, \"yaxis\": {\"anchor\": \"free\", \"domain\": [0.35, 1], \"position\": 0.0}, \"yaxis2\": {\"anchor\": \"x\", \"domain\": [0, 0.25], \"dtick\": 1, \"showticklabels\": false}},\n",
              "                        {\"responsive\": true}\n",
              "                    ).then(function(){\n",
              "                            \n",
              "var gd = document.getElementById('1e4be6f0-1c08-4cc4-90b7-9b81c2c5fe51');\n",
              "var x = new MutationObserver(function (mutations, observer) {{\n",
              "        var display = window.getComputedStyle(gd).display;\n",
              "        if (!display || display === 'none') {{\n",
              "            console.log([gd, 'removed!']);\n",
              "            Plotly.purge(gd);\n",
              "            observer.disconnect();\n",
              "        }}\n",
              "}});\n",
              "\n",
              "// Listen for the removal of the full notebook cells\n",
              "var notebookContainer = gd.closest('#notebook-container');\n",
              "if (notebookContainer) {{\n",
              "    x.observe(notebookContainer, {childList: true});\n",
              "}}\n",
              "\n",
              "// Listen for the clearing of the current output cell\n",
              "var outputEl = gd.closest('.output');\n",
              "if (outputEl) {{\n",
              "    x.observe(outputEl, {childList: true});\n",
              "}}\n",
              "\n",
              "                        })\n",
              "                };\n",
              "                \n",
              "            </script>\n",
              "        </div>\n",
              "</body>\n",
              "</html>"
            ]
          },
          "metadata": {
            "tags": []
          }
        }
      ]
    },
    {
      "cell_type": "markdown",
      "metadata": {
        "id": "hcQKXiGBGM83"
      },
      "source": [
        "### As you may notice during the downloading process, we have for the same date 3 different extentions for the same image (QF.tif, UL.tif, TL.tif), but the problem it's not the case for all the images. Soo we. have to pick the the extentions that appear for almost all the images, because with don't want to train our model with different inputs.\n",
        "### P.S: it might not be the case for you, you can only 1 extention or maybe 2, but just make attention to it."
      ]
    },
    {
      "cell_type": "code",
      "metadata": {
        "id": "H5yo3KSQ0jLx"
      },
      "source": [
        "\n",
        "directory = '/content/drive/MyDrive/soilMoisture/Datasets/SMC_dataset_2017to2020_Area2.csv'\n",
        "\n",
        "a, b, c,  d = 0, 0, 0, 0\n",
        "for filename in os.listdir(directory):\n",
        "    if filename.endswith(\"TL.tif\"):\n",
        "      a+=1\n",
        "    if filename.endswith(\"UL.tif\"):\n",
        "      b+=1\n",
        "    if filename.endswith(\"QF.tif\"):\n",
        "      c+=1\n",
        "    if filename.endswith(\"QF.tif\"):\n",
        "      d+=1"
      ],
      "execution_count": null,
      "outputs": []
    },
    {
      "cell_type": "code",
      "metadata": {
        "colab": {
          "base_uri": "https://localhost:8080/"
        },
        "id": "NQiljxak09SK",
        "outputId": "cba2190d-48a1-4620-ae8d-6766c6b72407"
      },
      "source": [
        "a,b,c, d"
      ],
      "execution_count": null,
      "outputs": [
        {
          "output_type": "execute_result",
          "data": {
            "text/plain": [
              "(159, 169, 156, 156)"
            ]
          },
          "metadata": {
            "tags": []
          },
          "execution_count": 72
        }
      ]
    },
    {
      "cell_type": "code",
      "metadata": {
        "id": "9Lc3LQaI1JZ2"
      },
      "source": [
        "## Get a list of the dates from image name :\n",
        "\n",
        "data_list =[]\n",
        "Vals = []\n",
        "\n",
        "for filename in os.listdir(directory):\n",
        "    if filename.endswith(\".tif\"):\n",
        "\n",
        "      im_date = filename[0:4]+\"-\"+filename[4:6]+\"-\"+filename[6:8]\n",
        "      data_list.append(im_date)"
      ],
      "execution_count": null,
      "outputs": []
    },
    {
      "cell_type": "code",
      "metadata": {
        "id": "pJWLbOlu1S54"
      },
      "source": [
        "## Check unique dates:\n",
        "\n",
        "myset = set(data_list)"
      ],
      "execution_count": null,
      "outputs": []
    },
    {
      "cell_type": "code",
      "metadata": {
        "colab": {
          "base_uri": "https://localhost:8080/"
        },
        "id": "b8Xxf5q62qsL",
        "outputId": "2f582332-33b5-4744-a738-776a1a4c5610"
      },
      "source": [
        "len(data_list)"
      ],
      "execution_count": null,
      "outputs": [
        {
          "output_type": "execute_result",
          "data": {
            "text/plain": [
              "642"
            ]
          },
          "metadata": {
            "tags": []
          },
          "execution_count": 75
        }
      ]
    },
    {
      "cell_type": "code",
      "metadata": {
        "colab": {
          "base_uri": "https://localhost:8080/"
        },
        "id": "WITcN49_2pC8",
        "outputId": "1780c7df-bf6b-41b1-8d2a-6ddd073d062e"
      },
      "source": [
        "len(myset)"
      ],
      "execution_count": null,
      "outputs": [
        {
          "output_type": "execute_result",
          "data": {
            "text/plain": [
              "192"
            ]
          },
          "metadata": {
            "tags": []
          },
          "execution_count": 76
        }
      ]
    },
    {
      "cell_type": "code",
      "metadata": {
        "id": "tfEHOLVYSnvs",
        "colab": {
          "base_uri": "https://localhost:8080/",
          "height": 228
        },
        "outputId": "dded2e54-3059-4522-9130-d4297b2c5667"
      },
      "source": [
        "## Selection of the only useful days and add images names :\n",
        "\n",
        "\n",
        "directory1 = '/content/drive/MyDrive/soilMoisture/Senti_Images-2017to2020_Area1'\n",
        "directory2 = '/content/drive/MyDrive/soilMoisture/Senti_Images-2017to2020_Area2'\n",
        "directory3 = '/content/drive/MyDrive/soilMoisture/Senti_Images-2017to2020_Area3'\n",
        "\n",
        "data_list =[]\n",
        "Vals = []\n",
        "\n",
        "for filename in os.listdir(directory1):\n",
        "    if filename.endswith(\"UL.tif\"):\n",
        "\n",
        "      im_date = filename[0:4]+\"-\"+filename[4:6]+\"-\"+filename[6:8]\n",
        "\n",
        "      if im_date in Rdataset1[\"date_time\"].values : \n",
        "          index_date= np.where(Rdataset1[\"date_time\"]==im_date )\n",
        "          rdata = Rdataset1.iloc[index_date]\n",
        "          data_list.append(rdata)\n",
        "          dataset1 = pd.concat(data_list)\n",
        "          Vals.append(filename)\n",
        "dataset1['Image_name']= Vals\n",
        "\n",
        "data_list =[]\n",
        "Vals = []\n",
        "for filename in os.listdir(directory2):\n",
        "    if filename.endswith(\"UL.tif\"):\n",
        "\n",
        "      im_date = filename[0:4]+\"-\"+filename[4:6]+\"-\"+filename[6:8]\n",
        "\n",
        "      if im_date in Rdataset2[\"date_time\"].values : \n",
        "          index_date= np.where(Rdataset2[\"date_time\"]==im_date )\n",
        "          rdata = Rdataset2.iloc[index_date]\n",
        "          data_list.append(rdata)\n",
        "          dataset2 = pd.concat(data_list)\n",
        "          Vals.append(filename)\n",
        "dataset2['Image_name']= Vals\n",
        "\n",
        "data_list =[]\n",
        "Vals = []\n",
        "for filename in os.listdir(directory3):\n",
        "    if filename.endswith(\"UL.tif\"):\n",
        "\n",
        "      im_date = filename[0:4]+\"-\"+filename[4:6]+\"-\"+filename[6:8]\n",
        "\n",
        "      if im_date in Rdataset3[\"date_time\"].values : \n",
        "          index_date= np.where(Rdataset3[\"date_time\"]==im_date )\n",
        "          rdata = Rdataset3.iloc[index_date]\n",
        "          data_list.append(rdata)\n",
        "          dataset3 = pd.concat(data_list)\n",
        "          Vals.append(filename)\n",
        "\n",
        "dataset3['Image_name']= Vals\n",
        "dataset3.head()\n",
        "      "
      ],
      "execution_count": null,
      "outputs": [
        {
          "output_type": "execute_result",
          "data": {
            "text/html": [
              "<div>\n",
              "<style scoped>\n",
              "    .dataframe tbody tr th:only-of-type {\n",
              "        vertical-align: middle;\n",
              "    }\n",
              "\n",
              "    .dataframe tbody tr th {\n",
              "        vertical-align: top;\n",
              "    }\n",
              "\n",
              "    .dataframe thead th {\n",
              "        text-align: right;\n",
              "    }\n",
              "</style>\n",
              "<table border=\"1\" class=\"dataframe\">\n",
              "  <thead>\n",
              "    <tr style=\"text-align: right;\">\n",
              "      <th></th>\n",
              "      <th>date_time</th>\n",
              "      <th>soil_moisture_depth_0.050000</th>\n",
              "      <th>depth</th>\n",
              "      <th>hour</th>\n",
              "      <th>Image_name</th>\n",
              "    </tr>\n",
              "  </thead>\n",
              "  <tbody>\n",
              "    <tr>\n",
              "      <th>1019</th>\n",
              "      <td>2017-04-12</td>\n",
              "      <td>0.082</td>\n",
              "      <td>0.05</td>\n",
              "      <td>11:00:00</td>\n",
              "      <td>20170412T110621_20170412T111708_T30TUL.tif</td>\n",
              "    </tr>\n",
              "    <tr>\n",
              "      <th>1499</th>\n",
              "      <td>2017-05-02</td>\n",
              "      <td>0.069</td>\n",
              "      <td>0.05</td>\n",
              "      <td>11:00:00</td>\n",
              "      <td>20170502T110621_20170502T110937_T30TUL.tif</td>\n",
              "    </tr>\n",
              "    <tr>\n",
              "      <th>1949</th>\n",
              "      <td>2017-05-22</td>\n",
              "      <td>0.087</td>\n",
              "      <td>0.05</td>\n",
              "      <td>11:00:00</td>\n",
              "      <td>20170522T110621_20170522T110912_T30TUL.tif</td>\n",
              "    </tr>\n",
              "    <tr>\n",
              "      <th>2188</th>\n",
              "      <td>2017-06-01</td>\n",
              "      <td>0.091</td>\n",
              "      <td>0.05</td>\n",
              "      <td>11:00:00</td>\n",
              "      <td>20170601T110651_20170601T111225_T30TUL.tif</td>\n",
              "    </tr>\n",
              "    <tr>\n",
              "      <th>2428</th>\n",
              "      <td>2017-06-11</td>\n",
              "      <td>0.069</td>\n",
              "      <td>0.05</td>\n",
              "      <td>11:00:00</td>\n",
              "      <td>20170611T110621_20170611T111012_T30TUL.tif</td>\n",
              "    </tr>\n",
              "  </tbody>\n",
              "</table>\n",
              "</div>"
            ],
            "text/plain": [
              "       date_time  ...                                  Image_name\n",
              "1019  2017-04-12  ...  20170412T110621_20170412T111708_T30TUL.tif\n",
              "1499  2017-05-02  ...  20170502T110621_20170502T110937_T30TUL.tif\n",
              "1949  2017-05-22  ...  20170522T110621_20170522T110912_T30TUL.tif\n",
              "2188  2017-06-01  ...  20170601T110651_20170601T111225_T30TUL.tif\n",
              "2428  2017-06-11  ...  20170611T110621_20170611T111012_T30TUL.tif\n",
              "\n",
              "[5 rows x 5 columns]"
            ]
          },
          "metadata": {
            "tags": []
          },
          "execution_count": 12
        }
      ]
    },
    {
      "cell_type": "code",
      "metadata": {
        "colab": {
          "base_uri": "https://localhost:8080/"
        },
        "id": "FEtnZsko5_pn",
        "outputId": "bc0579f0-21ab-4b48-e641-558f267f7597"
      },
      "source": [
        "print(len(dataset3))"
      ],
      "execution_count": null,
      "outputs": [
        {
          "output_type": "stream",
          "text": [
            "168\n"
          ],
          "name": "stdout"
        }
      ]
    },
    {
      "cell_type": "code",
      "metadata": {
        "id": "32c-j-yAS09w"
      },
      "source": [
        "## Save dataset :\n",
        "\n",
        "dataset1.to_csv ('Dataset_2017to2020_Area1.csv', header=True, index=False)\n",
        "dataset2.to_csv ('Dataset_2017to2020_Area2.csv', header=True, index=False)\n",
        "dataset3.to_csv ('Dataset_2017to2020_Area3.csv', header=True, index=False)"
      ],
      "execution_count": null,
      "outputs": []
    },
    {
      "cell_type": "code",
      "metadata": {
        "id": "06PPMFoyC6IU"
      },
      "source": [
        "df1 = pd.read_csv('/content/Dataset_2017to2020_Area1.csv')\n",
        "df2 = pd.read_csv('/content/Dataset_2017to2020_Area2.csv')\n",
        "df3 = pd.read_csv('/content/Dataset_2017to2020_Area3.csv')"
      ],
      "execution_count": null,
      "outputs": []
    },
    {
      "cell_type": "code",
      "metadata": {
        "id": "wsgHN4_NFRGo"
      },
      "source": [
        "frames = [df1,df2,df3]"
      ],
      "execution_count": null,
      "outputs": []
    },
    {
      "cell_type": "code",
      "metadata": {
        "id": "_IhS-Jw3FUd7"
      },
      "source": [
        "big_df = pd.concat(frames)"
      ],
      "execution_count": null,
      "outputs": []
    },
    {
      "cell_type": "code",
      "metadata": {
        "colab": {
          "base_uri": "https://localhost:8080/",
          "height": 323
        },
        "id": "2OegkaWzFYth",
        "outputId": "9f2d2490-bc4b-40a7-a027-828e91ed2eba"
      },
      "source": [
        "big_df.describe()"
      ],
      "execution_count": null,
      "outputs": [
        {
          "output_type": "execute_result",
          "data": {
            "text/html": [
              "<div>\n",
              "<style scoped>\n",
              "    .dataframe tbody tr th:only-of-type {\n",
              "        vertical-align: middle;\n",
              "    }\n",
              "\n",
              "    .dataframe tbody tr th {\n",
              "        vertical-align: top;\n",
              "    }\n",
              "\n",
              "    .dataframe thead th {\n",
              "        text-align: right;\n",
              "    }\n",
              "</style>\n",
              "<table border=\"1\" class=\"dataframe\">\n",
              "  <thead>\n",
              "    <tr style=\"text-align: right;\">\n",
              "      <th></th>\n",
              "      <th>soil_moisture_depth_0.050000</th>\n",
              "      <th>depth</th>\n",
              "    </tr>\n",
              "  </thead>\n",
              "  <tbody>\n",
              "    <tr>\n",
              "      <th>count</th>\n",
              "      <td>503.000000</td>\n",
              "      <td>5.030000e+02</td>\n",
              "    </tr>\n",
              "    <tr>\n",
              "      <th>mean</th>\n",
              "      <td>0.146402</td>\n",
              "      <td>5.000000e-02</td>\n",
              "    </tr>\n",
              "    <tr>\n",
              "      <th>std</th>\n",
              "      <td>0.067994</td>\n",
              "      <td>4.375855e-16</td>\n",
              "    </tr>\n",
              "    <tr>\n",
              "      <th>min</th>\n",
              "      <td>0.042000</td>\n",
              "      <td>5.000000e-02</td>\n",
              "    </tr>\n",
              "    <tr>\n",
              "      <th>25%</th>\n",
              "      <td>0.094000</td>\n",
              "      <td>5.000000e-02</td>\n",
              "    </tr>\n",
              "    <tr>\n",
              "      <th>50%</th>\n",
              "      <td>0.137000</td>\n",
              "      <td>5.000000e-02</td>\n",
              "    </tr>\n",
              "    <tr>\n",
              "      <th>75%</th>\n",
              "      <td>0.191000</td>\n",
              "      <td>5.000000e-02</td>\n",
              "    </tr>\n",
              "    <tr>\n",
              "      <th>max</th>\n",
              "      <td>0.488000</td>\n",
              "      <td>5.000000e-02</td>\n",
              "    </tr>\n",
              "  </tbody>\n",
              "</table>\n",
              "</div>"
            ],
            "text/plain": [
              "       soil_moisture_depth_0.050000         depth\n",
              "count                    503.000000  5.030000e+02\n",
              "mean                       0.146402  5.000000e-02\n",
              "std                        0.067994  4.375855e-16\n",
              "min                        0.042000  5.000000e-02\n",
              "25%                        0.094000  5.000000e-02\n",
              "50%                        0.137000  5.000000e-02\n",
              "75%                        0.191000  5.000000e-02\n",
              "max                        0.488000  5.000000e-02"
            ]
          },
          "metadata": {
            "tags": []
          },
          "execution_count": 20
        }
      ]
    },
    {
      "cell_type": "code",
      "metadata": {
        "colab": {
          "base_uri": "https://localhost:8080/",
          "height": 563
        },
        "id": "5eN-mF1gFbCT",
        "outputId": "0cdc0169-fb2c-4311-d070-0ddaa7a2ba63"
      },
      "source": [
        "import plotly.figure_factory as ff\n",
        "\n",
        "np.random.seed(1)\n",
        "\n",
        "x = big_df['soil_moisture_depth_0.050000']\n",
        "hist_data = [x]\n",
        "group_labels = ['distplot'] # name of the dataset\n",
        "\n",
        "fig = ff.create_distplot(hist_data, group_labels)\n",
        "fig.show()"
      ],
      "execution_count": null,
      "outputs": [
        {
          "output_type": "display_data",
          "data": {
            "text/html": [
              "<html>\n",
              "<head><meta charset=\"utf-8\" /></head>\n",
              "<body>\n",
              "    <div>\n",
              "            <script src=\"https://cdnjs.cloudflare.com/ajax/libs/mathjax/2.7.5/MathJax.js?config=TeX-AMS-MML_SVG\"></script><script type=\"text/javascript\">if (window.MathJax) {MathJax.Hub.Config({SVG: {font: \"STIX-Web\"}});}</script>\n",
              "                <script type=\"text/javascript\">window.PlotlyConfig = {MathJaxConfig: 'local'};</script>\n",
              "        <script src=\"https://cdn.plot.ly/plotly-latest.min.js\"></script>    \n",
              "            <div id=\"4166c2b5-005e-46b2-83e4-1128559415f4\" class=\"plotly-graph-div\" style=\"height:525px; width:100%;\"></div>\n",
              "            <script type=\"text/javascript\">\n",
              "                \n",
              "                    window.PLOTLYENV=window.PLOTLYENV || {};\n",
              "                    \n",
              "                if (document.getElementById(\"4166c2b5-005e-46b2-83e4-1128559415f4\")) {\n",
              "                    Plotly.newPlot(\n",
              "                        '4166c2b5-005e-46b2-83e4-1128559415f4',\n",
              "                        [{\"autobinx\": false, \"histnorm\": \"probability density\", \"legendgroup\": \"distplot\", \"marker\": {\"color\": \"rgb(31, 119, 180)\"}, \"name\": \"distplot\", \"opacity\": 0.7, \"type\": \"histogram\", \"x\": [0.159, 0.113, 0.21600000000000005, 0.16, 0.133, 0.115, 0.119, 0.26, 0.193, 0.14400000000000002, 0.112, 0.105, 0.117, 0.1, 0.101, 0.094, 0.08800000000000001, 0.08800000000000001, 0.225, 0.197, 0.17800000000000002, 0.211, 0.206, 0.252, 0.262, 0.231, 0.23, 0.213, 0.198, 0.278, 0.27, 0.28, 0.29, 0.232, 0.192, 0.163, 0.147, 0.159, 0.174, 0.228, 0.177, 0.152, 0.139, 0.134, 0.13, 0.118, 0.111, 0.104, 0.096, 0.096, 0.096, 0.094, 0.094, 0.111, 0.108, 0.116, 0.114, 0.108, 0.101, 0.093, 0.087, 0.093, 0.087, 0.092, 0.267, 0.254, 0.255, 0.238, 0.226, 0.22, 0.238, 0.264, 0.246, 0.236, 0.227, 0.223, 0.219, 0.21600000000000005, 0.238, 0.228, 0.217, 0.212, 0.206, 0.205, 0.189, 0.223, 0.231, 0.223, 0.208, 0.196, 0.189, 0.174, 0.14400000000000002, 0.13699999999999998, 0.118, 0.132, 0.13699999999999998, 0.122, 0.114, 0.108, 0.104, 0.109, 0.104, 0.104, 0.098, 0.099, 0.094, 0.096, 0.149, 0.15, 0.141, 0.14800000000000002, 0.198, 0.194, 0.189, 0.17800000000000002, 0.162, 0.271, 0.247, 0.233, 0.211, 0.265, 0.236, 0.255, 0.258, 0.235, 0.251, 0.241, 0.235, 0.247, 0.239, 0.224, 0.218, 0.26, 0.242, 0.206, 0.191, 0.245, 0.201, 0.172, 0.149, 0.151, 0.138, 0.138, 0.133, 0.14300000000000002, 0.173, 0.165, 0.165, 0.166, 0.166, 0.17, 0.162, 0.185, 0.172, 0.183, 0.181, 0.187, 0.179, 0.177, 0.188, 0.306, 0.305, 0.317, 0.459, 0.453, 0.421, 0.46, 0.488, 0.103, 0.102, 0.132, 0.13, 0.112, 0.097, 0.096, 0.222, 0.17800000000000002, 0.135, 0.096, 0.08900000000000001, 0.08900000000000001, 0.079, 0.076, 0.069, 0.066, 0.067, 0.168, 0.147, 0.132, 0.158, 0.155, 0.201, 0.206, 0.18600000000000005, 0.184, 0.168, 0.155, 0.226, 0.211, 0.235, 0.224, 0.147, 0.131, 0.12, 0.114, 0.115, 0.117, 0.154, 0.124, 0.119, 0.116, 0.114, 0.111, 0.104, 0.16899999999999998, 0.15, 0.115, 0.107, 0.099, 0.093, 0.08900000000000001, 0.085, 0.085, 0.085, 0.08199999999999999, 0.079, 0.076, 0.071, 0.068, 0.092, 0.087, 0.09, 0.233, 0.21600000000000005, 0.205, 0.177, 0.17800000000000002, 0.209, 0.221, 0.209, 0.203, 0.194, 0.218, 0.196, 0.205, 0.2, 0.195, 0.182, 0.172, 0.158, 0.149, 0.141, 0.17, 0.202, 0.177, 0.125, 0.103, 0.097, 0.091, 0.081, 0.078, 0.07, 0.073, 0.071, 0.066, 0.064, 0.071, 0.064, 0.095, 0.085, 0.076, 0.067, 0.065, 0.06, 0.059, 0.193, 0.161, 0.13, 0.117, 0.14400000000000002, 0.124, 0.112, 0.1, 0.095, 0.221, 0.195, 0.185, 0.165, 0.199, 0.18600000000000005, 0.208, 0.207, 0.213, 0.233, 0.226, 0.219, 0.227, 0.21600000000000005, 0.191, 0.174, 0.173, 0.219, 0.133, 0.128, 0.174, 0.133, 0.127, 0.126, 0.145, 0.131, 0.127, 0.122, 0.121, 0.112, 0.177, 0.177, 0.142, 0.12, 0.11, 0.1, 0.096, 0.206, 0.183, 0.166, 0.152, 0.13699999999999998, 0.126, 0.252, 0.207, 0.271, 0.247, 0.231, 0.255, 0.266, 0.08199999999999999, 0.069, 0.087, 0.091, 0.069, 0.064, 0.06, 0.17800000000000002, 0.108, 0.066, 0.055, 0.054000000000000006, 0.132, 0.078, 0.055, 0.046, 0.042, 0.043, 0.16, 0.132, 0.13, 0.14800000000000002, 0.14, 0.181, 0.189, 0.159, 0.155, 0.136, 0.121, 0.193, 0.188, 0.193, 0.204, 0.104, 0.092, 0.08199999999999999, 0.08, 0.114, 0.152, 0.139, 0.107, 0.1, 0.112, 0.107, 0.094, 0.077, 0.063, 0.061, 0.055, 0.054000000000000006, 0.053, 0.053, 0.052000000000000005, 0.14, 0.107, 0.103, 0.067, 0.056, 0.054000000000000006, 0.046, 0.042, 0.104, 0.092, 0.124, 0.196, 0.17600000000000002, 0.173, 0.156, 0.14800000000000002, 0.14300000000000002, 0.16399999999999998, 0.187, 0.153, 0.134, 0.117, 0.099, 0.087, 0.086, 0.086, 0.079, 0.076, 0.073, 0.07400000000000001, 0.08199999999999999, 0.11, 0.159, 0.099, 0.081, 0.068, 0.067, 0.064, 0.053, 0.055, 0.16, 0.131, 0.083, 0.069, 0.062, 0.066, 0.06, 0.056, 0.052000000000000005, 0.056, 0.053, 0.054000000000000006, 0.051, 0.052000000000000005, 0.159, 0.132, 0.094, 0.16899999999999998, 0.135, 0.119, 0.099, 0.079, 0.16699999999999998, 0.208, 0.175, 0.157, 0.132, 0.183, 0.14800000000000002, 0.187, 0.152, 0.184, 0.173, 0.17, 0.163, 0.17, 0.151, 0.126, 0.106, 0.17600000000000002, 0.13699999999999998, 0.113, 0.145, 0.177, 0.109, 0.096, 0.08900000000000001, 0.08900000000000001, 0.084, 0.076, 0.066, 0.071, 0.063, 0.066, 0.061, 0.06, 0.059, 0.061, 0.057, 0.059, 0.063, 0.06, 0.06, 0.055, 0.052000000000000005, 0.05, 0.051, 0.136, 0.149, 0.116, 0.192, 0.177, 0.159, 0.179, 0.195], \"xaxis\": \"x\", \"xbins\": {\"end\": 0.488, \"size\": 1.0, \"start\": 0.042}, \"yaxis\": \"y\"}, {\"legendgroup\": \"distplot\", \"marker\": {\"color\": \"rgb(31, 119, 180)\"}, \"mode\": \"lines\", \"name\": \"distplot\", \"showlegend\": false, \"type\": \"scatter\", \"x\": [0.042, 0.042892, 0.043784000000000003, 0.044676, 0.045568000000000004, 0.04646, 0.047352000000000005, 0.048244, 0.049136, 0.050028, 0.05092, 0.051812000000000004, 0.052704, 0.053596000000000005, 0.054488, 0.055380000000000006, 0.056272, 0.057164000000000006, 0.058056, 0.058948, 0.059840000000000004, 0.060732, 0.061624, 0.062516, 0.063408, 0.0643, 0.065192, 0.066084, 0.06697600000000001, 0.06786800000000001, 0.06876, 0.069652, 0.070544, 0.071436, 0.072328, 0.07322000000000001, 0.07411200000000001, 0.075004, 0.075896, 0.07678800000000001, 0.07768, 0.078572, 0.079464, 0.08035600000000001, 0.081248, 0.08214, 0.08303200000000001, 0.083924, 0.084816, 0.085708, 0.08660000000000001, 0.087492, 0.088384, 0.08927600000000001, 0.090168, 0.09106, 0.091952, 0.09284400000000001, 0.09373600000000001, 0.094628, 0.09552000000000001, 0.096412, 0.097304, 0.098196, 0.09908800000000001, 0.09998000000000001, 0.100872, 0.10176400000000001, 0.102656, 0.103548, 0.10444, 0.10533200000000001, 0.10622400000000001, 0.10711599999999999, 0.10800799999999999, 0.1089, 0.109792, 0.110684, 0.11157600000000001, 0.11246800000000001, 0.11335999999999999, 0.11425199999999999, 0.115144, 0.116036, 0.116928, 0.11782000000000001, 0.11871200000000001, 0.11960399999999999, 0.12049599999999999, 0.121388, 0.12228, 0.123172, 0.12406400000000001, 0.12495600000000001, 0.12584800000000002, 0.12674, 0.127632, 0.128524, 0.129416, 0.130308, 0.1312, 0.13209200000000001, 0.132984, 0.133876, 0.134768, 0.13566, 0.136552, 0.137444, 0.13833600000000001, 0.13922800000000002, 0.14012, 0.141012, 0.141904, 0.142796, 0.143688, 0.14458000000000001, 0.14547200000000002, 0.146364, 0.147256, 0.148148, 0.14904, 0.149932, 0.150824, 0.15171600000000002, 0.152608, 0.1535, 0.154392, 0.155284, 0.156176, 0.157068, 0.15796000000000002, 0.158852, 0.159744, 0.160636, 0.161528, 0.16242, 0.163312, 0.16420400000000002, 0.165096, 0.165988, 0.16688, 0.167772, 0.168664, 0.169556, 0.17044800000000002, 0.17134000000000002, 0.172232, 0.173124, 0.174016, 0.17490800000000004, 0.1758, 0.17669200000000002, 0.17758400000000002, 0.178476, 0.179368, 0.18026, 0.18115200000000004, 0.182044, 0.18293600000000002, 0.18382800000000002, 0.18472, 0.185612, 0.186504, 0.18739600000000003, 0.188288, 0.18918000000000001, 0.19007200000000002, 0.190964, 0.191856, 0.192748, 0.19364000000000003, 0.194532, 0.19542400000000001, 0.19631600000000002, 0.197208, 0.1981, 0.198992, 0.19988400000000003, 0.200776, 0.20166800000000001, 0.20256000000000002, 0.203452, 0.204344, 0.205236, 0.20612800000000003, 0.20702, 0.207912, 0.20880400000000002, 0.20969600000000002, 0.210588, 0.21148, 0.21237200000000003, 0.213264, 0.214156, 0.21504800000000002, 0.21594000000000002, 0.216832, 0.217724, 0.21861600000000003, 0.219508, 0.2204, 0.22129200000000002, 0.22218400000000002, 0.223076, 0.223968, 0.22486000000000003, 0.225752, 0.226644, 0.22753600000000002, 0.22842800000000002, 0.22932, 0.230212, 0.23110400000000003, 0.231996, 0.232888, 0.23378000000000002, 0.23467200000000002, 0.235564, 0.23645600000000003, 0.23734800000000003, 0.23824, 0.239132, 0.24002400000000002, 0.24091600000000002, 0.241808, 0.24270000000000003, 0.24359200000000003, 0.244484, 0.245376, 0.24626800000000001, 0.24716000000000002, 0.248052, 0.24894400000000003, 0.24983600000000003, 0.250728, 0.25162, 0.252512, 0.253404, 0.25429599999999997, 0.255188, 0.25608000000000003, 0.256972, 0.257864, 0.258756, 0.259648, 0.26054, 0.261432, 0.262324, 0.263216, 0.264108, 0.265, 0.265892, 0.26678399999999997, 0.267676, 0.26856800000000003, 0.26946, 0.270352, 0.271244, 0.272136, 0.273028, 0.27392, 0.274812, 0.275704, 0.276596, 0.277488, 0.27838, 0.27927199999999996, 0.280164, 0.28105600000000003, 0.281948, 0.28284, 0.283732, 0.284624, 0.285516, 0.286408, 0.2873, 0.288192, 0.289084, 0.289976, 0.290868, 0.29175999999999996, 0.292652, 0.29354399999999997, 0.294436, 0.295328, 0.29622, 0.297112, 0.298004, 0.298896, 0.299788, 0.30068, 0.301572, 0.30246399999999996, 0.30335599999999996, 0.30424799999999996, 0.30513999999999997, 0.30603199999999997, 0.306924, 0.30781600000000003, 0.308708, 0.3096, 0.310492, 0.311384, 0.312276, 0.313168, 0.31406, 0.31495199999999995, 0.31584399999999996, 0.31673599999999996, 0.31762799999999997, 0.31851999999999997, 0.319412, 0.32030400000000003, 0.321196, 0.322088, 0.32298, 0.323872, 0.324764, 0.325656, 0.326548, 0.32743999999999995, 0.32833199999999996, 0.32922399999999996, 0.33011599999999997, 0.33100799999999997, 0.3319, 0.33279200000000003, 0.333684, 0.334576, 0.335468, 0.33636, 0.337252, 0.338144, 0.339036, 0.33992799999999995, 0.34081999999999996, 0.34171199999999996, 0.34260399999999996, 0.34349599999999997, 0.34438799999999997, 0.34528000000000003, 0.346172, 0.347064, 0.347956, 0.348848, 0.34974, 0.350632, 0.351524, 0.35241599999999995, 0.35330799999999996, 0.35419999999999996, 0.35509199999999996, 0.35598399999999997, 0.356876, 0.35776800000000003, 0.35866000000000003, 0.359552, 0.360444, 0.361336, 0.362228, 0.36312, 0.364012, 0.36490399999999995, 0.36579599999999995, 0.36668799999999996, 0.36757999999999996, 0.36847199999999997, 0.369364, 0.37025600000000003, 0.37114800000000003, 0.37204, 0.372932, 0.373824, 0.374716, 0.375608, 0.3765, 0.377392, 0.37828399999999995, 0.37917599999999996, 0.38006799999999996, 0.38095999999999997, 0.381852, 0.38274400000000003, 0.38363600000000003, 0.384528, 0.38542, 0.386312, 0.387204, 0.388096, 0.388988, 0.38988, 0.39077199999999995, 0.39166399999999996, 0.39255599999999996, 0.39344799999999996, 0.39434, 0.395232, 0.39612400000000003, 0.397016, 0.397908, 0.3988, 0.399692, 0.400584, 0.401476, 0.402368, 0.40325999999999995, 0.40415199999999996, 0.40504399999999996, 0.40593599999999996, 0.406828, 0.40772, 0.40861200000000003, 0.409504, 0.410396, 0.411288, 0.41218, 0.413072, 0.413964, 0.414856, 0.41574799999999995, 0.41663999999999995, 0.41753199999999996, 0.41842399999999996, 0.419316, 0.420208, 0.42110000000000003, 0.421992, 0.422884, 0.423776, 0.424668, 0.42556, 0.426452, 0.427344, 0.42823599999999995, 0.42912799999999995, 0.43001999999999996, 0.430912, 0.431804, 0.432696, 0.43358800000000003, 0.43448, 0.435372, 0.436264, 0.437156, 0.438048, 0.43894, 0.439832, 0.44072399999999995, 0.44161599999999995, 0.44250799999999996, 0.4434, 0.444292, 0.445184, 0.44607600000000003, 0.446968, 0.44786, 0.448752, 0.449644, 0.450536, 0.451428, 0.45232, 0.45321199999999995, 0.45410399999999995, 0.45499599999999996, 0.455888, 0.45678, 0.457672, 0.458564, 0.459456, 0.460348, 0.46124, 0.462132, 0.463024, 0.463916, 0.464808, 0.46569999999999995, 0.46659199999999995, 0.46748399999999996, 0.468376, 0.469268, 0.47016, 0.471052, 0.471944, 0.472836, 0.473728, 0.47462, 0.475512, 0.476404, 0.477296, 0.47818799999999995, 0.47907999999999995, 0.47997199999999995, 0.480864, 0.481756, 0.482648, 0.48354, 0.484432, 0.485324, 0.486216, 0.487108], \"xaxis\": \"x\", \"y\": [2.1556700328669818, 2.249083761198397, 2.34333094956867, 2.4382296804781864, 2.533595236093544, 2.629241365548751, 2.7249815748773565, 2.820630424433455, 2.9160048182582683, 3.010925269684433, 3.105217127551398, 3.1987117477371356, 3.2912475952934646, 3.3826712633000415, 3.4728383956156432, 3.561614501990474, 3.648875655490868, 3.734509063854827, 3.8184135082162487, 3.9004996445772644, 3.980690165438464, 4.058919821081026, 4.135135302095921, 4.209294986836286, 4.281368559492486, 4.351336506418795, 4.419189500141454, 4.484927682117411, 4.54855985676223, 4.610102610498322, 4.669579370569583, 4.72701941910843, 4.782456878414296, 4.8359296836019805, 4.887478558702348, 4.937146011950532, 4.9849753653870685, 5.0310098330392234, 5.075291660861721, 5.1178613403210615, 5.158756906031976, 5.19801332622796, 5.23566199310224, 5.271730318224618, 5.306241436358276, 5.339214019103753, 5.370662197919651, 5.400595594244561, 5.429019452704191, 5.455934871760755, 5.481339124675283, 5.505226062330284, 5.527586588320008, 5.548409195773346, 5.567680554641981, 5.585386137670057, 5.601510872964601, 5.6160398110063925, 5.6289587940734, 5.640255116384179, 5.649918163793747, 5.657940022573795, 5.664316047664073, 5.669045381771639, 5.672131417797181, 5.673582198258874, 5.673410746640082, 5.671635326882883, 5.668279628560514, 5.663372876564638, 5.656949865415213, 5.649050919520325, 5.6397217818613825, 5.629013434638009, 5.616981856361695, 5.603687720725332, 5.589196043286787, 5.573575782581563, 5.556899402717482, 5.539242404801238, 5.520682834703146, 5.5013007746855385, 5.481177826307495, 5.460396591781408, 5.439040160604928, 5.41719160783636, 5.3949335098353, 5.37234748266713, 5.349513747684871, 5.326510728070275, 5.303414679353578, 5.28029935615417, 5.257235716607878, 5.234291665185888, 5.211531833879648, 5.18901740103886, 5.16680594651777, 5.144951341218933, 5.123503668632604, 5.102509175560866, 5.082010248894162, 5.062045415077289, 5.0426493587638115, 5.023852957111695, 5.005683326216602, 4.988163876308347, 4.971314372544892, 4.955150998519303, 4.93968641993972, 4.924929846340437, 4.910887089122794, 4.897560614695956, 4.884949591977763, 4.873049934012036, 4.861854333948968, 4.851352296107108, 4.8415301632777235, 4.832371141834118, 4.823855326560018, 4.815959727404141, 4.808658300595036, 4.801921986705924, 4.795718758339424, 4.790013680104479, 4.78476898348199, 4.779944159022852, 4.77549606809522, 4.771379076101481, 4.767545208725862, 4.76394433235813, 4.760524359376769, 4.7572314784755605, 4.754010409692042, 4.750804683255665, 4.747556940829645, 4.744209257185203, 4.740703479831741, 4.736981583643057, 4.732986037078197, 4.7286601762064135, 4.723948582417101, 4.718797459435583, 4.713155005080013, 4.706971773088318, 4.700201020319919, 4.692799034696391, 4.684725439387956, 4.6759434689766985, 4.666420213629237, 4.656126827686021, 4.6450386995151405, 4.633135579977674, 4.620401667400456, 4.606825647540961, 4.592400687647539, 4.577124384355544, 4.560998665805067, 4.54402964900799, 4.526227454119876, 4.507605977875832, 4.48818262901852, 4.4679780290725954, 4.4470156822943, 4.425321619041154, 4.402924017158559, 4.379852806262856, 4.356139260010904, 4.331815581581923, 4.306914487657699, 4.281468796172227, 4.255511023013199, 4.229072992697806, 4.202185467817681, 4.174877801756927, 4.147177618838187, 4.11911052565048, 4.0906998568654425, 4.061966458362495, 4.032928509965388, 4.003601389549985, 3.97399757972333, 3.9441266177045664, 3.913995088466542, 3.8836066606300843, 3.85296216404815, 3.822059707481077, 3.7908948342534567, 3.7594607133039593, 3.7277483625973282, 3.6957469014681754, 3.6634438281139574, 3.6308253181537573, 3.597876539924217, 3.56458198199706, 3.5309257882768645, 3.4968920959747476, 3.4624653717545133, 3.4276307414131297, 3.392374308586397, 3.356683458162226, 3.320547140335949, 3.283956131551358, 3.2469032689339503, 3.2093836552343955, 3.1713948317549185, 3.132936917222809, 3.0940127110965028, 3.0546277603329894, 3.0147903892024743, 2.9745116922984973, 2.933805491450267, 2.89268825778985, 2.8511790007507614, 2.8092991262679874, 2.7670722669037326, 2.7245240870307983, 2.6816820665586394, 2.6385752669802973, 2.595234083745617, 2.5516899891237026, 2.507975269802422, 2.4641227634834437, 2.4201655986677033, 2.3761369416893294, 2.3320697548491682, 2.2879965692254602, 2.243949275404964, 2.199958934988896, 2.156055615292444, 2.1122682491826974, 2.0686245214967314, 2.0251507829594795, 1.9818719919896164, 1.9388116842515744, 1.8959919692929588, 1.85343355310908, 1.8111557850092033, 1.7691767267312741, 1.7275132413709782, 1.6861810993636663, 1.645195098489756, 1.6045691946694953, 1.564316640175073, 1.5244501258178385, 1.484981923666481, 1.4459240269171756, 1.4072882836661262, 1.369086521525308, 1.3313306602682093, 1.2940328099885177, 1.2572053525938531, 1.2208610048317232, 1.1850128614475586, 1.1496744174968823, 1.114859569266823, 1.0805825936974525, 1.0468581066232066, 1.0137010005700484, 0.9811263632381442, 0.9491493781656186, 0.9177852093999935, 0.8870488722952518, 0.8569550927992905, 0.8275181577956852, 0.7987517592123796, 0.7706688347070011, 0.7432814077831469, 0.7166004301850393, 0.6906356293605574, 0.6653953636772179, 0.6408864879253704, 0.617114231451335, 0.5940820910349017, 0.5717917403655394, 0.5502429576850596, 0.5294335728569357, 0.5093594347999496, 0.49001439989200973, 0.47139034161486676, 0.4534771813776919, 0.43626294013254957, 0.41973381008298877, 0.403874245492984, 0.38866707133164674, 0.3740936082434975, 0.36013381211760903, 0.3467664263446612, 0.33396914470065103, 0.32171878268134424, 0.30999145503320225, 0.2987627571847848, 0.28800794827697995, 0.2777021335199815, 0.26782044366805374, 0.2583382094978936, 0.24923112930020094, 0.2404754275441343, 0.2320480030473849, 0.22392656517716228, 0.2160897568158292, 0.2085172630453201, 0.20118990473311069, 0.194089716435274, 0.18720000826547162, 0.18050541160873368, 0.17399190878214552, 0.16764684695783866, 0.16145893686394744, 0.15541823696387103, 0.14951612398090436, 0.14374525078227934, 0.13809949276228717, 0.13257388396747447, 0.1271645442871787, 0.12186859908971098, 0.11668409271845251, 0.11160989727353496, 0.10664561809456395, 0.10179149732921637, 0.0970483169230045, 0.09241730229886035, 0.0879000279133571, 0.08349832578153456, 0.07921419795662267, 0.07504973383679941, 0.07100703305078829, 0.06708813454989153, 0.06329495240821857, 0.059629218707527375, 0.056092433760263134, 0.05268582380586099, 0.049410306202855074, 0.04626646203421065, 0.0432545159467808, 0.040374322958885364, 0.03762536189342198, 0.035006735028182724, 0.032517173500417586, 0.030155047959226605, 0.027918383926924337, 0.025804881308753892, 0.02381193747874477, 0.021936673367425028, 0.02017596198378026, 0.01852645881836425, 0.0169846335959165, 0.015546802873177409, 0.01420916300982142, 0.012967823076495653, 0.011818837302853057, 0.010758236709228992, 0.00978205960728961, 0.008886380696748953, 0.00806733852631129, 0.0073211611266808954, 0.006644189661202367, 0.006032899974973966, 0.0054839219557399985, 0.0049940566492513395, 0.004560291097920106, 0.004179810894426699, 0.0038500104614956868, 0.003568501085459823, 0.0033331167446784596, 0.0031419177846304714, 0.0029931924998868593, 0.0028854566895503866, 0.0028174512575287894, 0.0027881379326047204, 0.0027966931861054646, 0.0028425004274815055, 0.0029251405606768015, 0.0030443809871898327, 0.0032001631455150278, 0.0033925886814993294, 0.003621904350268805, 0.0038884857579263073, 0.004192820060268158, 0.0045354877463129216, 0.004917143646386987, 0.005338497317701628, 0.005800292974523249, 0.006303289144847593, 0.006848238250528286, 0.00743586632259322, 0.008066853077476536, 0.008741812592507748, 0.009461274829616976, 0.010225668264198101, 0.01103530388078821, 0.011890360798050868, 0.012790873781921399, 0.013736722897158616, 0.014727625533513576, 0.015763131022932846, 0.0168426180384259, 0.01796529493336779, 0.019130203142122156, 0.020336223719180396, 0.02158208704490552, 0.02286638567200104, 0.024187590228729638, 0.02554406823358337, 0.02693410561262307, 0.028355930646261806, 0.029807740008209436, 0.03128772649705262, 0.03279410800203766, 0.03432515719061251, 0.03587923135772044, 0.03745480183727227, 0.03905048234610278, 0.04066505561138728, 0.04229749762516602, 0.0439469988752617, 0.04561298192127774, 0.047295114717999645, 0.04899331913660357, 0.050707774196486644, 0.05243891359679876, 0.054187417226091134, 0.05595419642973197, 0.05774037292639591, 0.05954725138518462, 0.06137628580166914, 0.06322903994199155, 0.06510714225650598, 0.06701223579554291, 0.0689459237868282, 0.07090971165399272, 0.07290494636553142, 0.07493275410071146, 0.07699397730063161, 0.07908911223645669, 0.08121824827068527, 0.0833810100093674, 0.08557650354214005, 0.08780326794189237, 0.09005923314644311, 0.09234168527094387, 0.09464724030254437, 0.09697182700938145, 0.09931067975599783, 0.10165834175916069, 0.10400867914448823, 0.10635490597854583, 0.1086896202566654, 0.11100485062755641, 0.11329211343585001, 0.11554247946722282, 0.11774664959187854, 0.11989503832501947, 0.12197786416145787, 0.12398524539933675, 0.12590730004837083, 0.12773424832388314, 0.12945651616154616, 0.13106483815086128, 0.13255035827910547, 0.1339047269021913, 0.13512019241433412, 0.13618968617366864, 0.13710689935437265, 0.13786635053517823, 0.13846344299653446, 0.13889451088074625, 0.13915685356734114, 0.13924875782552165, 0.13916950752241483, 0.1389193808853459, 0.13849963553390326, 0.1379124817085747, 0.1371610443228289, 0.13624931465059192, 0.13518209262740083, 0.13396492088784523, 0.13260401178151102, 0.13110616870239383, 0.12947870313117282, 0.12772934882502074, 0.1258661745956335, 0.12389749709344008, 0.12183179496568575, 0.1196776256800588, 0.11744354620610394, 0.11513803862665294, 0.11276944161413152, 0.11034588855542322, 0.10787525294772102, 0.105365101520382, 0.10282265536808655, 0.10025475921245412, 0.09766785874629616, 0.09506798586033689, 0.0924607514095522, 0.08985134504796298, 0.08724454154900325, 0.08464471293521815, 0.08205584566727842, 0.07948156208883941], \"yaxis\": \"y\"}, {\"legendgroup\": \"distplot\", \"marker\": {\"color\": \"rgb(31, 119, 180)\", \"symbol\": \"line-ns-open\"}, \"mode\": \"markers\", \"name\": \"distplot\", \"showlegend\": false, \"type\": \"scatter\", \"x\": [0.159, 0.113, 0.21600000000000005, 0.16, 0.133, 0.115, 0.119, 0.26, 0.193, 0.14400000000000002, 0.112, 0.105, 0.117, 0.1, 0.101, 0.094, 0.08800000000000001, 0.08800000000000001, 0.225, 0.197, 0.17800000000000002, 0.211, 0.206, 0.252, 0.262, 0.231, 0.23, 0.213, 0.198, 0.278, 0.27, 0.28, 0.29, 0.232, 0.192, 0.163, 0.147, 0.159, 0.174, 0.228, 0.177, 0.152, 0.139, 0.134, 0.13, 0.118, 0.111, 0.104, 0.096, 0.096, 0.096, 0.094, 0.094, 0.111, 0.108, 0.116, 0.114, 0.108, 0.101, 0.093, 0.087, 0.093, 0.087, 0.092, 0.267, 0.254, 0.255, 0.238, 0.226, 0.22, 0.238, 0.264, 0.246, 0.236, 0.227, 0.223, 0.219, 0.21600000000000005, 0.238, 0.228, 0.217, 0.212, 0.206, 0.205, 0.189, 0.223, 0.231, 0.223, 0.208, 0.196, 0.189, 0.174, 0.14400000000000002, 0.13699999999999998, 0.118, 0.132, 0.13699999999999998, 0.122, 0.114, 0.108, 0.104, 0.109, 0.104, 0.104, 0.098, 0.099, 0.094, 0.096, 0.149, 0.15, 0.141, 0.14800000000000002, 0.198, 0.194, 0.189, 0.17800000000000002, 0.162, 0.271, 0.247, 0.233, 0.211, 0.265, 0.236, 0.255, 0.258, 0.235, 0.251, 0.241, 0.235, 0.247, 0.239, 0.224, 0.218, 0.26, 0.242, 0.206, 0.191, 0.245, 0.201, 0.172, 0.149, 0.151, 0.138, 0.138, 0.133, 0.14300000000000002, 0.173, 0.165, 0.165, 0.166, 0.166, 0.17, 0.162, 0.185, 0.172, 0.183, 0.181, 0.187, 0.179, 0.177, 0.188, 0.306, 0.305, 0.317, 0.459, 0.453, 0.421, 0.46, 0.488, 0.103, 0.102, 0.132, 0.13, 0.112, 0.097, 0.096, 0.222, 0.17800000000000002, 0.135, 0.096, 0.08900000000000001, 0.08900000000000001, 0.079, 0.076, 0.069, 0.066, 0.067, 0.168, 0.147, 0.132, 0.158, 0.155, 0.201, 0.206, 0.18600000000000005, 0.184, 0.168, 0.155, 0.226, 0.211, 0.235, 0.224, 0.147, 0.131, 0.12, 0.114, 0.115, 0.117, 0.154, 0.124, 0.119, 0.116, 0.114, 0.111, 0.104, 0.16899999999999998, 0.15, 0.115, 0.107, 0.099, 0.093, 0.08900000000000001, 0.085, 0.085, 0.085, 0.08199999999999999, 0.079, 0.076, 0.071, 0.068, 0.092, 0.087, 0.09, 0.233, 0.21600000000000005, 0.205, 0.177, 0.17800000000000002, 0.209, 0.221, 0.209, 0.203, 0.194, 0.218, 0.196, 0.205, 0.2, 0.195, 0.182, 0.172, 0.158, 0.149, 0.141, 0.17, 0.202, 0.177, 0.125, 0.103, 0.097, 0.091, 0.081, 0.078, 0.07, 0.073, 0.071, 0.066, 0.064, 0.071, 0.064, 0.095, 0.085, 0.076, 0.067, 0.065, 0.06, 0.059, 0.193, 0.161, 0.13, 0.117, 0.14400000000000002, 0.124, 0.112, 0.1, 0.095, 0.221, 0.195, 0.185, 0.165, 0.199, 0.18600000000000005, 0.208, 0.207, 0.213, 0.233, 0.226, 0.219, 0.227, 0.21600000000000005, 0.191, 0.174, 0.173, 0.219, 0.133, 0.128, 0.174, 0.133, 0.127, 0.126, 0.145, 0.131, 0.127, 0.122, 0.121, 0.112, 0.177, 0.177, 0.142, 0.12, 0.11, 0.1, 0.096, 0.206, 0.183, 0.166, 0.152, 0.13699999999999998, 0.126, 0.252, 0.207, 0.271, 0.247, 0.231, 0.255, 0.266, 0.08199999999999999, 0.069, 0.087, 0.091, 0.069, 0.064, 0.06, 0.17800000000000002, 0.108, 0.066, 0.055, 0.054000000000000006, 0.132, 0.078, 0.055, 0.046, 0.042, 0.043, 0.16, 0.132, 0.13, 0.14800000000000002, 0.14, 0.181, 0.189, 0.159, 0.155, 0.136, 0.121, 0.193, 0.188, 0.193, 0.204, 0.104, 0.092, 0.08199999999999999, 0.08, 0.114, 0.152, 0.139, 0.107, 0.1, 0.112, 0.107, 0.094, 0.077, 0.063, 0.061, 0.055, 0.054000000000000006, 0.053, 0.053, 0.052000000000000005, 0.14, 0.107, 0.103, 0.067, 0.056, 0.054000000000000006, 0.046, 0.042, 0.104, 0.092, 0.124, 0.196, 0.17600000000000002, 0.173, 0.156, 0.14800000000000002, 0.14300000000000002, 0.16399999999999998, 0.187, 0.153, 0.134, 0.117, 0.099, 0.087, 0.086, 0.086, 0.079, 0.076, 0.073, 0.07400000000000001, 0.08199999999999999, 0.11, 0.159, 0.099, 0.081, 0.068, 0.067, 0.064, 0.053, 0.055, 0.16, 0.131, 0.083, 0.069, 0.062, 0.066, 0.06, 0.056, 0.052000000000000005, 0.056, 0.053, 0.054000000000000006, 0.051, 0.052000000000000005, 0.159, 0.132, 0.094, 0.16899999999999998, 0.135, 0.119, 0.099, 0.079, 0.16699999999999998, 0.208, 0.175, 0.157, 0.132, 0.183, 0.14800000000000002, 0.187, 0.152, 0.184, 0.173, 0.17, 0.163, 0.17, 0.151, 0.126, 0.106, 0.17600000000000002, 0.13699999999999998, 0.113, 0.145, 0.177, 0.109, 0.096, 0.08900000000000001, 0.08900000000000001, 0.084, 0.076, 0.066, 0.071, 0.063, 0.066, 0.061, 0.06, 0.059, 0.061, 0.057, 0.059, 0.063, 0.06, 0.06, 0.055, 0.052000000000000005, 0.05, 0.051, 0.136, 0.149, 0.116, 0.192, 0.177, 0.159, 0.179, 0.195], \"xaxis\": \"x\", \"y\": [\"distplot\", \"distplot\", \"distplot\", \"distplot\", \"distplot\", \"distplot\", \"distplot\", \"distplot\", \"distplot\", \"distplot\", \"distplot\", \"distplot\", \"distplot\", \"distplot\", \"distplot\", \"distplot\", \"distplot\", \"distplot\", \"distplot\", \"distplot\", \"distplot\", \"distplot\", \"distplot\", \"distplot\", \"distplot\", \"distplot\", \"distplot\", \"distplot\", \"distplot\", \"distplot\", \"distplot\", \"distplot\", \"distplot\", \"distplot\", \"distplot\", \"distplot\", \"distplot\", \"distplot\", \"distplot\", \"distplot\", \"distplot\", \"distplot\", \"distplot\", \"distplot\", \"distplot\", \"distplot\", \"distplot\", \"distplot\", \"distplot\", \"distplot\", \"distplot\", \"distplot\", \"distplot\", \"distplot\", \"distplot\", \"distplot\", \"distplot\", \"distplot\", \"distplot\", \"distplot\", \"distplot\", \"distplot\", \"distplot\", \"distplot\", \"distplot\", \"distplot\", \"distplot\", \"distplot\", \"distplot\", \"distplot\", \"distplot\", \"distplot\", \"distplot\", \"distplot\", \"distplot\", \"distplot\", \"distplot\", \"distplot\", \"distplot\", \"distplot\", \"distplot\", \"distplot\", \"distplot\", \"distplot\", \"distplot\", \"distplot\", \"distplot\", \"distplot\", \"distplot\", \"distplot\", \"distplot\", \"distplot\", \"distplot\", \"distplot\", \"distplot\", \"distplot\", \"distplot\", \"distplot\", \"distplot\", \"distplot\", \"distplot\", \"distplot\", \"distplot\", \"distplot\", \"distplot\", \"distplot\", \"distplot\", \"distplot\", \"distplot\", \"distplot\", \"distplot\", \"distplot\", \"distplot\", \"distplot\", \"distplot\", \"distplot\", \"distplot\", \"distplot\", \"distplot\", \"distplot\", \"distplot\", \"distplot\", \"distplot\", \"distplot\", \"distplot\", \"distplot\", \"distplot\", \"distplot\", \"distplot\", \"distplot\", \"distplot\", \"distplot\", \"distplot\", \"distplot\", \"distplot\", \"distplot\", \"distplot\", \"distplot\", \"distplot\", \"distplot\", \"distplot\", \"distplot\", \"distplot\", \"distplot\", \"distplot\", \"distplot\", \"distplot\", \"distplot\", \"distplot\", \"distplot\", \"distplot\", \"distplot\", \"distplot\", \"distplot\", \"distplot\", \"distplot\", \"distplot\", \"distplot\", \"distplot\", \"distplot\", \"distplot\", \"distplot\", \"distplot\", \"distplot\", \"distplot\", \"distplot\", \"distplot\", \"distplot\", \"distplot\", \"distplot\", \"distplot\", \"distplot\", \"distplot\", \"distplot\", \"distplot\", \"distplot\", \"distplot\", \"distplot\", \"distplot\", \"distplot\", \"distplot\", \"distplot\", \"distplot\", \"distplot\", \"distplot\", \"distplot\", \"distplot\", \"distplot\", \"distplot\", \"distplot\", \"distplot\", \"distplot\", \"distplot\", \"distplot\", \"distplot\", \"distplot\", \"distplot\", \"distplot\", \"distplot\", \"distplot\", \"distplot\", \"distplot\", \"distplot\", \"distplot\", \"distplot\", \"distplot\", \"distplot\", \"distplot\", \"distplot\", \"distplot\", \"distplot\", \"distplot\", \"distplot\", \"distplot\", \"distplot\", \"distplot\", \"distplot\", \"distplot\", \"distplot\", \"distplot\", \"distplot\", \"distplot\", \"distplot\", \"distplot\", \"distplot\", \"distplot\", \"distplot\", \"distplot\", \"distplot\", \"distplot\", \"distplot\", \"distplot\", \"distplot\", \"distplot\", \"distplot\", \"distplot\", \"distplot\", \"distplot\", \"distplot\", \"distplot\", \"distplot\", \"distplot\", \"distplot\", \"distplot\", \"distplot\", \"distplot\", \"distplot\", \"distplot\", \"distplot\", \"distplot\", \"distplot\", \"distplot\", \"distplot\", \"distplot\", \"distplot\", \"distplot\", \"distplot\", \"distplot\", \"distplot\", \"distplot\", \"distplot\", \"distplot\", \"distplot\", \"distplot\", \"distplot\", \"distplot\", \"distplot\", \"distplot\", \"distplot\", \"distplot\", \"distplot\", \"distplot\", \"distplot\", \"distplot\", \"distplot\", \"distplot\", \"distplot\", \"distplot\", \"distplot\", \"distplot\", \"distplot\", \"distplot\", \"distplot\", \"distplot\", \"distplot\", \"distplot\", \"distplot\", \"distplot\", \"distplot\", \"distplot\", \"distplot\", \"distplot\", \"distplot\", \"distplot\", \"distplot\", \"distplot\", \"distplot\", \"distplot\", \"distplot\", \"distplot\", \"distplot\", \"distplot\", \"distplot\", \"distplot\", \"distplot\", \"distplot\", \"distplot\", \"distplot\", \"distplot\", \"distplot\", \"distplot\", \"distplot\", \"distplot\", \"distplot\", \"distplot\", \"distplot\", \"distplot\", \"distplot\", \"distplot\", \"distplot\", \"distplot\", \"distplot\", \"distplot\", \"distplot\", \"distplot\", \"distplot\", \"distplot\", \"distplot\", \"distplot\", \"distplot\", \"distplot\", \"distplot\", \"distplot\", \"distplot\", \"distplot\", \"distplot\", \"distplot\", \"distplot\", \"distplot\", \"distplot\", \"distplot\", \"distplot\", \"distplot\", \"distplot\", \"distplot\", \"distplot\", \"distplot\", \"distplot\", \"distplot\", \"distplot\", \"distplot\", \"distplot\", \"distplot\", \"distplot\", \"distplot\", \"distplot\", \"distplot\", \"distplot\", \"distplot\", \"distplot\", \"distplot\", \"distplot\", \"distplot\", \"distplot\", \"distplot\", \"distplot\", \"distplot\", \"distplot\", \"distplot\", \"distplot\", \"distplot\", \"distplot\", \"distplot\", \"distplot\", \"distplot\", \"distplot\", \"distplot\", \"distplot\", \"distplot\", \"distplot\", \"distplot\", \"distplot\", \"distplot\", \"distplot\", \"distplot\", \"distplot\", \"distplot\", \"distplot\", \"distplot\", \"distplot\", \"distplot\", \"distplot\", \"distplot\", \"distplot\", \"distplot\", \"distplot\", \"distplot\", \"distplot\", \"distplot\", \"distplot\", \"distplot\", \"distplot\", \"distplot\", \"distplot\", \"distplot\", \"distplot\", \"distplot\", \"distplot\", \"distplot\", \"distplot\", \"distplot\", \"distplot\", \"distplot\", \"distplot\", \"distplot\", \"distplot\", \"distplot\", \"distplot\", \"distplot\", \"distplot\", \"distplot\", \"distplot\", \"distplot\", \"distplot\", \"distplot\", \"distplot\", \"distplot\", \"distplot\", \"distplot\", \"distplot\", \"distplot\", \"distplot\", \"distplot\", \"distplot\", \"distplot\", \"distplot\", \"distplot\", \"distplot\", \"distplot\", \"distplot\", \"distplot\", \"distplot\", \"distplot\", \"distplot\", \"distplot\", \"distplot\", \"distplot\", \"distplot\", \"distplot\", \"distplot\", \"distplot\", \"distplot\", \"distplot\", \"distplot\", \"distplot\", \"distplot\", \"distplot\", \"distplot\", \"distplot\", \"distplot\", \"distplot\", \"distplot\", \"distplot\", \"distplot\", \"distplot\", \"distplot\", \"distplot\", \"distplot\", \"distplot\", \"distplot\", \"distplot\", \"distplot\", \"distplot\", \"distplot\", \"distplot\", \"distplot\", \"distplot\", \"distplot\", \"distplot\", \"distplot\", \"distplot\", \"distplot\", \"distplot\", \"distplot\", \"distplot\", \"distplot\", \"distplot\", \"distplot\", \"distplot\", \"distplot\", \"distplot\", \"distplot\", \"distplot\", \"distplot\", \"distplot\", \"distplot\", \"distplot\", \"distplot\", \"distplot\", \"distplot\", \"distplot\", \"distplot\", \"distplot\"], \"yaxis\": \"y2\"}],\n",
              "                        {\"barmode\": \"overlay\", \"hovermode\": \"closest\", \"legend\": {\"traceorder\": \"reversed\"}, \"template\": {\"data\": {\"bar\": [{\"error_x\": {\"color\": \"#2a3f5f\"}, \"error_y\": {\"color\": \"#2a3f5f\"}, \"marker\": {\"line\": {\"color\": \"#E5ECF6\", \"width\": 0.5}}, \"type\": \"bar\"}], \"barpolar\": [{\"marker\": {\"line\": {\"color\": \"#E5ECF6\", \"width\": 0.5}}, \"type\": \"barpolar\"}], \"carpet\": [{\"aaxis\": {\"endlinecolor\": \"#2a3f5f\", \"gridcolor\": \"white\", \"linecolor\": \"white\", \"minorgridcolor\": \"white\", \"startlinecolor\": \"#2a3f5f\"}, \"baxis\": {\"endlinecolor\": \"#2a3f5f\", \"gridcolor\": \"white\", \"linecolor\": \"white\", \"minorgridcolor\": \"white\", \"startlinecolor\": \"#2a3f5f\"}, \"type\": \"carpet\"}], \"choropleth\": [{\"colorbar\": {\"outlinewidth\": 0, \"ticks\": \"\"}, \"type\": \"choropleth\"}], \"contour\": [{\"colorbar\": {\"outlinewidth\": 0, \"ticks\": \"\"}, \"colorscale\": [[0.0, \"#0d0887\"], [0.1111111111111111, \"#46039f\"], [0.2222222222222222, \"#7201a8\"], [0.3333333333333333, \"#9c179e\"], [0.4444444444444444, \"#bd3786\"], [0.5555555555555556, \"#d8576b\"], [0.6666666666666666, \"#ed7953\"], [0.7777777777777778, \"#fb9f3a\"], [0.8888888888888888, \"#fdca26\"], [1.0, \"#f0f921\"]], \"type\": \"contour\"}], \"contourcarpet\": [{\"colorbar\": {\"outlinewidth\": 0, \"ticks\": \"\"}, \"type\": \"contourcarpet\"}], \"heatmap\": [{\"colorbar\": {\"outlinewidth\": 0, \"ticks\": \"\"}, \"colorscale\": [[0.0, \"#0d0887\"], [0.1111111111111111, \"#46039f\"], [0.2222222222222222, \"#7201a8\"], [0.3333333333333333, \"#9c179e\"], [0.4444444444444444, \"#bd3786\"], [0.5555555555555556, \"#d8576b\"], [0.6666666666666666, \"#ed7953\"], [0.7777777777777778, \"#fb9f3a\"], [0.8888888888888888, \"#fdca26\"], [1.0, \"#f0f921\"]], \"type\": \"heatmap\"}], \"heatmapgl\": [{\"colorbar\": {\"outlinewidth\": 0, \"ticks\": \"\"}, \"colorscale\": [[0.0, \"#0d0887\"], [0.1111111111111111, \"#46039f\"], [0.2222222222222222, \"#7201a8\"], [0.3333333333333333, \"#9c179e\"], [0.4444444444444444, \"#bd3786\"], [0.5555555555555556, \"#d8576b\"], [0.6666666666666666, \"#ed7953\"], [0.7777777777777778, \"#fb9f3a\"], [0.8888888888888888, \"#fdca26\"], [1.0, \"#f0f921\"]], \"type\": \"heatmapgl\"}], \"histogram\": [{\"marker\": {\"colorbar\": {\"outlinewidth\": 0, \"ticks\": \"\"}}, \"type\": \"histogram\"}], \"histogram2d\": [{\"colorbar\": {\"outlinewidth\": 0, \"ticks\": \"\"}, \"colorscale\": [[0.0, \"#0d0887\"], [0.1111111111111111, \"#46039f\"], [0.2222222222222222, \"#7201a8\"], [0.3333333333333333, \"#9c179e\"], [0.4444444444444444, \"#bd3786\"], [0.5555555555555556, \"#d8576b\"], [0.6666666666666666, \"#ed7953\"], [0.7777777777777778, \"#fb9f3a\"], [0.8888888888888888, \"#fdca26\"], [1.0, \"#f0f921\"]], \"type\": \"histogram2d\"}], \"histogram2dcontour\": [{\"colorbar\": {\"outlinewidth\": 0, \"ticks\": \"\"}, \"colorscale\": [[0.0, \"#0d0887\"], [0.1111111111111111, \"#46039f\"], [0.2222222222222222, \"#7201a8\"], [0.3333333333333333, \"#9c179e\"], [0.4444444444444444, \"#bd3786\"], [0.5555555555555556, \"#d8576b\"], [0.6666666666666666, \"#ed7953\"], [0.7777777777777778, \"#fb9f3a\"], [0.8888888888888888, \"#fdca26\"], [1.0, \"#f0f921\"]], \"type\": \"histogram2dcontour\"}], \"mesh3d\": [{\"colorbar\": {\"outlinewidth\": 0, \"ticks\": \"\"}, \"type\": \"mesh3d\"}], \"parcoords\": [{\"line\": {\"colorbar\": {\"outlinewidth\": 0, \"ticks\": \"\"}}, \"type\": \"parcoords\"}], \"pie\": [{\"automargin\": true, \"type\": \"pie\"}], \"scatter\": [{\"marker\": {\"colorbar\": {\"outlinewidth\": 0, \"ticks\": \"\"}}, \"type\": \"scatter\"}], \"scatter3d\": [{\"line\": {\"colorbar\": {\"outlinewidth\": 0, \"ticks\": \"\"}}, \"marker\": {\"colorbar\": {\"outlinewidth\": 0, \"ticks\": \"\"}}, \"type\": \"scatter3d\"}], \"scattercarpet\": [{\"marker\": {\"colorbar\": {\"outlinewidth\": 0, \"ticks\": \"\"}}, \"type\": \"scattercarpet\"}], \"scattergeo\": [{\"marker\": {\"colorbar\": {\"outlinewidth\": 0, \"ticks\": \"\"}}, \"type\": \"scattergeo\"}], \"scattergl\": [{\"marker\": {\"colorbar\": {\"outlinewidth\": 0, \"ticks\": \"\"}}, \"type\": \"scattergl\"}], \"scattermapbox\": [{\"marker\": {\"colorbar\": {\"outlinewidth\": 0, \"ticks\": \"\"}}, \"type\": \"scattermapbox\"}], \"scatterpolar\": [{\"marker\": {\"colorbar\": {\"outlinewidth\": 0, \"ticks\": \"\"}}, \"type\": \"scatterpolar\"}], \"scatterpolargl\": [{\"marker\": {\"colorbar\": {\"outlinewidth\": 0, \"ticks\": \"\"}}, \"type\": \"scatterpolargl\"}], \"scatterternary\": [{\"marker\": {\"colorbar\": {\"outlinewidth\": 0, \"ticks\": \"\"}}, \"type\": \"scatterternary\"}], \"surface\": [{\"colorbar\": {\"outlinewidth\": 0, \"ticks\": \"\"}, \"colorscale\": [[0.0, \"#0d0887\"], [0.1111111111111111, \"#46039f\"], [0.2222222222222222, \"#7201a8\"], [0.3333333333333333, \"#9c179e\"], [0.4444444444444444, \"#bd3786\"], [0.5555555555555556, \"#d8576b\"], [0.6666666666666666, \"#ed7953\"], [0.7777777777777778, \"#fb9f3a\"], [0.8888888888888888, \"#fdca26\"], [1.0, \"#f0f921\"]], \"type\": \"surface\"}], \"table\": [{\"cells\": {\"fill\": {\"color\": \"#EBF0F8\"}, \"line\": {\"color\": \"white\"}}, \"header\": {\"fill\": {\"color\": \"#C8D4E3\"}, \"line\": {\"color\": \"white\"}}, \"type\": \"table\"}]}, \"layout\": {\"annotationdefaults\": {\"arrowcolor\": \"#2a3f5f\", \"arrowhead\": 0, \"arrowwidth\": 1}, \"coloraxis\": {\"colorbar\": {\"outlinewidth\": 0, \"ticks\": \"\"}}, \"colorscale\": {\"diverging\": [[0, \"#8e0152\"], [0.1, \"#c51b7d\"], [0.2, \"#de77ae\"], [0.3, \"#f1b6da\"], [0.4, \"#fde0ef\"], [0.5, \"#f7f7f7\"], [0.6, \"#e6f5d0\"], [0.7, \"#b8e186\"], [0.8, \"#7fbc41\"], [0.9, \"#4d9221\"], [1, \"#276419\"]], \"sequential\": [[0.0, \"#0d0887\"], [0.1111111111111111, \"#46039f\"], [0.2222222222222222, \"#7201a8\"], [0.3333333333333333, \"#9c179e\"], [0.4444444444444444, \"#bd3786\"], [0.5555555555555556, \"#d8576b\"], [0.6666666666666666, \"#ed7953\"], [0.7777777777777778, \"#fb9f3a\"], [0.8888888888888888, \"#fdca26\"], [1.0, \"#f0f921\"]], \"sequentialminus\": [[0.0, \"#0d0887\"], [0.1111111111111111, \"#46039f\"], [0.2222222222222222, \"#7201a8\"], [0.3333333333333333, \"#9c179e\"], [0.4444444444444444, \"#bd3786\"], [0.5555555555555556, \"#d8576b\"], [0.6666666666666666, \"#ed7953\"], [0.7777777777777778, \"#fb9f3a\"], [0.8888888888888888, \"#fdca26\"], [1.0, \"#f0f921\"]]}, \"colorway\": [\"#636efa\", \"#EF553B\", \"#00cc96\", \"#ab63fa\", \"#FFA15A\", \"#19d3f3\", \"#FF6692\", \"#B6E880\", \"#FF97FF\", \"#FECB52\"], \"font\": {\"color\": \"#2a3f5f\"}, \"geo\": {\"bgcolor\": \"white\", \"lakecolor\": \"white\", \"landcolor\": \"#E5ECF6\", \"showlakes\": true, \"showland\": true, \"subunitcolor\": \"white\"}, \"hoverlabel\": {\"align\": \"left\"}, \"hovermode\": \"closest\", \"mapbox\": {\"style\": \"light\"}, \"paper_bgcolor\": \"white\", \"plot_bgcolor\": \"#E5ECF6\", \"polar\": {\"angularaxis\": {\"gridcolor\": \"white\", \"linecolor\": \"white\", \"ticks\": \"\"}, \"bgcolor\": \"#E5ECF6\", \"radialaxis\": {\"gridcolor\": \"white\", \"linecolor\": \"white\", \"ticks\": \"\"}}, \"scene\": {\"xaxis\": {\"backgroundcolor\": \"#E5ECF6\", \"gridcolor\": \"white\", \"gridwidth\": 2, \"linecolor\": \"white\", \"showbackground\": true, \"ticks\": \"\", \"zerolinecolor\": \"white\"}, \"yaxis\": {\"backgroundcolor\": \"#E5ECF6\", \"gridcolor\": \"white\", \"gridwidth\": 2, \"linecolor\": \"white\", \"showbackground\": true, \"ticks\": \"\", \"zerolinecolor\": \"white\"}, \"zaxis\": {\"backgroundcolor\": \"#E5ECF6\", \"gridcolor\": \"white\", \"gridwidth\": 2, \"linecolor\": \"white\", \"showbackground\": true, \"ticks\": \"\", \"zerolinecolor\": \"white\"}}, \"shapedefaults\": {\"line\": {\"color\": \"#2a3f5f\"}}, \"ternary\": {\"aaxis\": {\"gridcolor\": \"white\", \"linecolor\": \"white\", \"ticks\": \"\"}, \"baxis\": {\"gridcolor\": \"white\", \"linecolor\": \"white\", \"ticks\": \"\"}, \"bgcolor\": \"#E5ECF6\", \"caxis\": {\"gridcolor\": \"white\", \"linecolor\": \"white\", \"ticks\": \"\"}}, \"title\": {\"x\": 0.05}, \"xaxis\": {\"automargin\": true, \"gridcolor\": \"white\", \"linecolor\": \"white\", \"ticks\": \"\", \"title\": {\"standoff\": 15}, \"zerolinecolor\": \"white\", \"zerolinewidth\": 2}, \"yaxis\": {\"automargin\": true, \"gridcolor\": \"white\", \"linecolor\": \"white\", \"ticks\": \"\", \"title\": {\"standoff\": 15}, \"zerolinecolor\": \"white\", \"zerolinewidth\": 2}}}, \"xaxis\": {\"anchor\": \"y2\", \"domain\": [0.0, 1.0], \"zeroline\": false}, \"yaxis\": {\"anchor\": \"free\", \"domain\": [0.35, 1], \"position\": 0.0}, \"yaxis2\": {\"anchor\": \"x\", \"domain\": [0, 0.25], \"dtick\": 1, \"showticklabels\": false}},\n",
              "                        {\"responsive\": true}\n",
              "                    ).then(function(){\n",
              "                            \n",
              "var gd = document.getElementById('4166c2b5-005e-46b2-83e4-1128559415f4');\n",
              "var x = new MutationObserver(function (mutations, observer) {{\n",
              "        var display = window.getComputedStyle(gd).display;\n",
              "        if (!display || display === 'none') {{\n",
              "            console.log([gd, 'removed!']);\n",
              "            Plotly.purge(gd);\n",
              "            observer.disconnect();\n",
              "        }}\n",
              "}});\n",
              "\n",
              "// Listen for the removal of the full notebook cells\n",
              "var notebookContainer = gd.closest('#notebook-container');\n",
              "if (notebookContainer) {{\n",
              "    x.observe(notebookContainer, {childList: true});\n",
              "}}\n",
              "\n",
              "// Listen for the clearing of the current output cell\n",
              "var outputEl = gd.closest('.output');\n",
              "if (outputEl) {{\n",
              "    x.observe(outputEl, {childList: true});\n",
              "}}\n",
              "\n",
              "                        })\n",
              "                };\n",
              "                \n",
              "            </script>\n",
              "        </div>\n",
              "</body>\n",
              "</html>"
            ]
          },
          "metadata": {
            "tags": []
          }
        }
      ]
    },
    {
      "cell_type": "code",
      "metadata": {
        "id": "xxohMNfnFx67"
      },
      "source": [
        "## Save dataset :\n",
        "\n",
        "big_df.to_csv ('Dataset_3_Areas.csv', header=True, index=False)"
      ],
      "execution_count": null,
      "outputs": []
    }
  ]
}
