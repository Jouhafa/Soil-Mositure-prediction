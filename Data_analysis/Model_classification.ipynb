{
  "nbformat": 4,
  "nbformat_minor": 0,
  "metadata": {
    "colab": {
      "name": "Model_classification.ipynb",
      "provenance": [],
      "collapsed_sections": []
    },
    "kernelspec": {
      "display_name": "Python 3",
      "name": "python3"
    },
    "language_info": {
      "name": "python"
    },
    "accelerator": "GPU"
  },
  "cells": [
    {
      "cell_type": "code",
      "metadata": {
        "colab": {
          "base_uri": "https://localhost:8080/"
        },
        "id": "8W0hGzZP7M3d",
        "outputId": "152ccae7-259d-419c-eda7-6a187a7fba43"
      },
      "source": [
        "from google.colab import drive\n",
        "drive.mount('/content/drive')"
      ],
      "execution_count": null,
      "outputs": [
        {
          "output_type": "stream",
          "text": [
            "Mounted at /content/drive\n"
          ],
          "name": "stdout"
        }
      ]
    },
    {
      "cell_type": "code",
      "metadata": {
        "id": "E9GY-bHmUePZ"
      },
      "source": [
        "## Requirements : \n",
        "\n",
        "import matplotlib.pyplot as plt\n",
        "import numpy as np\n",
        "import pandas as pd\n",
        "from osgeo import gdal\n",
        "import sys\n",
        "import os\n",
        "from skimage.transform import resize\n",
        "from sklearn.metrics import r2_score\n",
        "from sklearn.decomposition import PCA\n",
        "%matplotlib inline\n",
        "%config InlineBackend.figure_format = 'retina'\n",
        "import torch\n",
        "from torchvision import datasets, transforms\n",
        "import helper\n",
        "from __future__ import print_function, division\n",
        "import natsort \n",
        "from skimage import io, transform\n",
        "from torch.utils.data import Dataset, DataLoader\n",
        "from torchvision import utils\n",
        "import torch.nn as nn\n",
        "import torch.nn.functional as F\n",
        "from torch.autograd import Variable\n",
        "# Ignore warnings\n",
        "import warnings\n",
        "warnings.filterwarnings(\"ignore\")\n",
        "plt.ion()   # interactive mode"
      ],
      "execution_count": null,
      "outputs": []
    },
    {
      "cell_type": "code",
      "metadata": {
        "id": "8J752G8tEq47"
      },
      "source": [
        "df = pd.read_csv('/content/drive/MyDrive/soilMoisture/Datasets/Dataset_4clusters_Area1')"
      ],
      "execution_count": null,
      "outputs": []
    },
    {
      "cell_type": "markdown",
      "metadata": {
        "id": "vkQOoDhkAgDz"
      },
      "source": [
        "## Utilities : "
      ]
    },
    {
      "cell_type": "code",
      "metadata": {
        "id": "BSM5MeftUyTt"
      },
      "source": [
        "## read tif image as Array : \n",
        "\n",
        "def tif_to_matrix(path):\n",
        "    src_ds = gdal.Open(path)\n",
        "    data = src_ds.ReadAsArray()\n",
        "    return data "
      ],
      "execution_count": null,
      "outputs": []
    },
    {
      "cell_type": "code",
      "metadata": {
        "id": "cXo69VDLcllG"
      },
      "source": [
        "# Normalize bands into 0.0 - 1.0 scale\n",
        "def normalize(array):\n",
        "    array_min, array_max = array.min(), array.max()\n",
        "    return (array - array_min) / (array_max - array_min)"
      ],
      "execution_count": null,
      "outputs": []
    },
    {
      "cell_type": "code",
      "metadata": {
        "id": "JJIxXJuwyIKf"
      },
      "source": [
        "def extract_pixels(X):\n",
        "  q = X.reshape(-1, X.shape[0])\n",
        "  df_pix = pd.DataFrame(data = q)\n",
        "  df_pix.columns= [f'band{i}' for i in range(1, 1+X.shape[0])]\n",
        "  df_pix.to_csv('Dataset.csv')\n",
        "  return df_pix"
      ],
      "execution_count": null,
      "outputs": []
    },
    {
      "cell_type": "code",
      "metadata": {
        "id": "RF1i5LW4xSX4"
      },
      "source": [
        "def image_reduction (path):\n",
        "  X = tif_to_matrix(path)\n",
        "  df_pix = extract_pixels(X)\n",
        "  pca = PCA(n_components = 1)\n",
        "  dt = pca.fit_transform(df_pix.values)\n",
        "  q_col = pd.DataFrame(data = dt)\n",
        "  q_col.columns = ['PC-1']\n",
        "  q_mat = dt.reshape(140, 155)\n",
        "  return [q_mat]"
      ],
      "execution_count": null,
      "outputs": []
    },
    {
      "cell_type": "code",
      "metadata": {
        "id": "dT-qFvSZBMeR"
      },
      "source": [
        "@torch.no_grad()\n",
        "def get_all_preds(model, loader):\n",
        "    all_preds = torch.tensor([])\n",
        "    all_preds = all_preds.to(device)\n",
        "    for batch in loader:\n",
        "        images, labels = batch['image'], batch['soilreadings']\n",
        "        images = images.to(device)\n",
        "        labels = labels.to(device)\n",
        "        preds = model(images)\n",
        "        #preds = preds[2]\n",
        "        all_preds = torch.cat(\n",
        "            (all_preds, preds)\n",
        "            ,dim=0\n",
        "        )\n",
        "        \n",
        "    return all_preds"
      ],
      "execution_count": null,
      "outputs": []
    },
    {
      "cell_type": "code",
      "metadata": {
        "id": "CDyE4dpiBTAi"
      },
      "source": [
        "def get_num_correct(preds, labels):\n",
        "    return preds.argmax(dim=1).eq(labels).sum().item()"
      ],
      "execution_count": null,
      "outputs": []
    },
    {
      "cell_type": "markdown",
      "metadata": {
        "id": "k7fsm5ceAsMM"
      },
      "source": [
        "## Preparing Dataset : "
      ]
    },
    {
      "cell_type": "code",
      "metadata": {
        "id": "cgD78LYZ8wa5"
      },
      "source": [
        "class2idx = {\n",
        "    'cluster_1':0,\n",
        "    'cluster_2':1,\n",
        "    'cluster_3':2,\n",
        "    'cluster_4':3,\n",
        "    #'cluster_5':4,\n",
        "    #'cluster_6':5\n",
        "}\n",
        "\n",
        "idx2class = {v: k for k, v in class2idx.items()}\n",
        "\n",
        "df['cluster'].replace(class2idx, inplace=True)"
      ],
      "execution_count": null,
      "outputs": []
    },
    {
      "cell_type": "code",
      "metadata": {
        "id": "vqWGKJidADIq"
      },
      "source": [
        "df.to_csv('Dataset_testing', index=False, header=True)"
      ],
      "execution_count": null,
      "outputs": []
    },
    {
      "cell_type": "code",
      "metadata": {
        "id": "o8pQ6nmH9rOm"
      },
      "source": [
        "dff=pd.read_csv('/content/Dataset_testing')"
      ],
      "execution_count": null,
      "outputs": []
    },
    {
      "cell_type": "code",
      "metadata": {
        "colab": {
          "base_uri": "https://localhost:8080/",
          "height": 228
        },
        "id": "S-k6XCynkgSD",
        "outputId": "6b6a8bf5-3a5d-4dd0-f308-de432cb3c4a8"
      },
      "source": [
        "dff.head()"
      ],
      "execution_count": null,
      "outputs": [
        {
          "output_type": "execute_result",
          "data": {
            "text/html": [
              "<div>\n",
              "<style scoped>\n",
              "    .dataframe tbody tr th:only-of-type {\n",
              "        vertical-align: middle;\n",
              "    }\n",
              "\n",
              "    .dataframe tbody tr th {\n",
              "        vertical-align: top;\n",
              "    }\n",
              "\n",
              "    .dataframe thead th {\n",
              "        text-align: right;\n",
              "    }\n",
              "</style>\n",
              "<table border=\"1\" class=\"dataframe\">\n",
              "  <thead>\n",
              "    <tr style=\"text-align: right;\">\n",
              "      <th></th>\n",
              "      <th>date_time</th>\n",
              "      <th>soil_moisture_depth_0.050000</th>\n",
              "      <th>depth</th>\n",
              "      <th>hour</th>\n",
              "      <th>Image_name</th>\n",
              "      <th>cluster</th>\n",
              "    </tr>\n",
              "  </thead>\n",
              "  <tbody>\n",
              "    <tr>\n",
              "      <th>0</th>\n",
              "      <td>2017-04-12</td>\n",
              "      <td>0.159</td>\n",
              "      <td>0.05</td>\n",
              "      <td>11:00:00</td>\n",
              "      <td>20170412T110621_20170412T111708_T30TUL.tif</td>\n",
              "      <td>0</td>\n",
              "    </tr>\n",
              "    <tr>\n",
              "      <th>1</th>\n",
              "      <td>2017-05-02</td>\n",
              "      <td>0.113</td>\n",
              "      <td>0.05</td>\n",
              "      <td>11:00:00</td>\n",
              "      <td>20170502T110621_20170502T110937_T30TUL.tif</td>\n",
              "      <td>2</td>\n",
              "    </tr>\n",
              "    <tr>\n",
              "      <th>2</th>\n",
              "      <td>2017-05-22</td>\n",
              "      <td>0.216</td>\n",
              "      <td>0.05</td>\n",
              "      <td>11:00:00</td>\n",
              "      <td>20170522T110621_20170522T110912_T30TUL.tif</td>\n",
              "      <td>3</td>\n",
              "    </tr>\n",
              "    <tr>\n",
              "      <th>3</th>\n",
              "      <td>2017-06-01</td>\n",
              "      <td>0.160</td>\n",
              "      <td>0.05</td>\n",
              "      <td>11:00:00</td>\n",
              "      <td>20170601T110651_20170601T111225_T30TUL.tif</td>\n",
              "      <td>0</td>\n",
              "    </tr>\n",
              "    <tr>\n",
              "      <th>4</th>\n",
              "      <td>2017-06-11</td>\n",
              "      <td>0.133</td>\n",
              "      <td>0.05</td>\n",
              "      <td>11:00:00</td>\n",
              "      <td>20170611T110621_20170611T111012_T30TUL.tif</td>\n",
              "      <td>2</td>\n",
              "    </tr>\n",
              "  </tbody>\n",
              "</table>\n",
              "</div>"
            ],
            "text/plain": [
              "    date_time  ...  cluster\n",
              "0  2017-04-12  ...        0\n",
              "1  2017-05-02  ...        2\n",
              "2  2017-05-22  ...        3\n",
              "3  2017-06-01  ...        0\n",
              "4  2017-06-11  ...        2\n",
              "\n",
              "[5 rows x 6 columns]"
            ]
          },
          "metadata": {
            "tags": []
          },
          "execution_count": 13
        }
      ]
    },
    {
      "cell_type": "code",
      "metadata": {
        "colab": {
          "base_uri": "https://localhost:8080/",
          "height": 308
        },
        "id": "OFMUCzNHCQ-B",
        "outputId": "c552d26a-2f9f-4e65-bd28-59ff87e3c4a9"
      },
      "source": [
        "import seaborn as sns\n",
        "\n",
        "\n",
        "\n",
        "# Draw a nested boxplot to show bills by day and time\n",
        "sns.boxplot(x=\"cluster\", y=\"soil_moisture_depth_0.050000\",\n",
        "            data=dff)\n",
        "sns.despine(offset=10, trim=True)"
      ],
      "execution_count": null,
      "outputs": [
        {
          "output_type": "display_data",
          "data": {
            "image/png": "[encoded data removed]",
            "text/plain": [
              "<Figure size 432x288 with 1 Axes>"
            ]
          },
          "metadata": {
            "tags": [],
            "image/png": {
              "width": 402,
              "height": 271
            },
            "needs_background": "light"
          }
        }
      ]
    },
    {
      "cell_type": "code",
      "metadata": {
        "id": "d9dfjt75U2hj"
      },
      "source": [
        "## Create a Customized dataset class for Pytorch : \n",
        "\n",
        "class CustomDataSet(Dataset):\n",
        "    def __init__(self, csv_file,root_dir, transform=None):\n",
        "        \"\"\"\n",
        "        Args:\n",
        "            csv_file (string): Path to the csv file with annotations.\n",
        "            root_dir (string): Directory with all the images.\n",
        "            transform (callable, optional): Optional transform to be applied\n",
        "                on a sample.\n",
        "        \"\"\"\n",
        "        self.landmarks_frame = pd.read_csv(csv_file)\n",
        "        self.root_dir = root_dir\n",
        "        self.transform = transform\n",
        "\n",
        "        \n",
        "    def __len__(self):\n",
        "        return len(self.landmarks_frame)\n",
        "        \n",
        "\n",
        "    def __getitem__(self, idx):\n",
        "\n",
        "      if torch.is_tensor(idx):\n",
        "        idx = idx.tolist()\n",
        "\n",
        "      img_name = self.landmarks_frame.iloc[idx, -2]\n",
        "      img_name = os.path.join(self.root_dir,\n",
        "                                self.landmarks_frame.iloc[idx, -2])\n",
        "      image = tif_to_matrix(img_name).astype(float)\n",
        "\n",
        "      soilreadings = self.landmarks_frame.iloc[idx, -1]\n",
        "      sample = {'image': image, 'soilreadings': soilreadings}\n",
        "      if self.transform:\n",
        "          sample = self.transform(sample)\n",
        "\n",
        "      return sample"
      ],
      "execution_count": null,
      "outputs": []
    },
    {
      "cell_type": "code",
      "metadata": {
        "id": "NykWNPBAU7cF"
      },
      "source": [
        "## Transofrm functions : \n",
        "\n",
        "class Rescale(object):\n",
        "    \"\"\"Rescale the image in a sample to a given size.\n",
        "\n",
        "    Args:\n",
        "        output_size (tuple or int): Desired output size. If tuple, output is\n",
        "            matched to output_size. If int, smaller of image edges is matched\n",
        "            to output_size keeping aspect ratio the same.\n",
        "    \"\"\"\n",
        "\n",
        "    def __init__(self, output_size):\n",
        "        assert isinstance(output_size, (int, tuple))\n",
        "        self.output_size = output_size\n",
        "\n",
        "    def __call__(self, sample):\n",
        "        image, soilreadings = sample['image'], sample['soilreadings']\n",
        "\n",
        "        h, w = image[0], image[0][0]\n",
        "        \n",
        "        if isinstance(self.output_size, int):\n",
        "            if h > w:\n",
        "                new_h, new_w = self.output_size * h / w, self.output_size\n",
        "            else:\n",
        "                new_h, new_w = self.output_size, self.output_size * w / h\n",
        "        else:\n",
        "            new_h, new_w = self.output_size\n",
        "\n",
        "        new_h, new_w = int(new_h), int(new_w)\n",
        "        image = np.array(image)\n",
        "        image = image.transpose((1, 2, 0))\n",
        "        img = resize(image, (new_h, new_w))\n",
        "        \n",
        "        # h and w are swapped for soilreadings because for images,\n",
        "        # x and y axes are axis 1 and 0 respectively\n",
        "        #soilreadings = soilreadings * [new_w / w, new_h / h]\n",
        "\n",
        "        return {'image': img, 'soilreadings': soilreadings}\n",
        "\n",
        "\n",
        "class ToTensor(object):\n",
        "    \"\"\"Convert ndarrays in sample to Tensors.\"\"\"\n",
        "\n",
        "    def __call__(self, sample):\n",
        "        image, soilreadings = sample['image'], sample['soilreadings']\n",
        "\n",
        "        # swap color axis because\n",
        "        # numpy image: H x W x C\n",
        "        # torch image: C X H X W\n",
        "        image = image.transpose((2, 0, 1))\n",
        "        return {'image': torch.tensor(image).float(),\n",
        "                'soilreadings': torch.tensor(soilreadings)}"
      ],
      "execution_count": null,
      "outputs": []
    },
    {
      "cell_type": "markdown",
      "metadata": {
        "id": "Lt2NfH77AVR4"
      },
      "source": [
        "## Dataloaders : "
      ]
    },
    {
      "cell_type": "code",
      "metadata": {
        "id": "30tG7EJOVA4v"
      },
      "source": [
        "## Read the Customized dataset as tensors :\n",
        "transformed_dataset = CustomDataSet(csv_file='/content/Dataset_testing', \n",
        "                                    root_dir='/content/drive/MyDrive/soilMoisture/Senti_Images-2017to2020_Area1',\n",
        "                                           transform=transforms.Compose([ Rescale((224,224)),ToTensor()]))"
      ],
      "execution_count": null,
      "outputs": []
    },
    {
      "cell_type": "code",
      "metadata": {
        "id": "WRCVF1ikVJ7Q"
      },
      "source": [
        "## Split the dataloader to train and validation loaders :\n",
        "\n",
        "batch_size = 20\n",
        "validation_split = .2\n",
        "shuffle_dataset = True\n",
        "random_seed= 42\n",
        "\n",
        "# Creating data indices for training and validation splits:\n",
        "dataset_size = len(transformed_dataset)\n",
        "indices = list(range(dataset_size))\n",
        "split = int(np.floor(validation_split * dataset_size))\n",
        "if shuffle_dataset :\n",
        "    np.random.seed(random_seed)\n",
        "    np.random.shuffle(indices)\n",
        "train_indices, val_indices = indices[split:], indices[:split]\n",
        "\n",
        "# Creating PT data samplers and loaders:\n",
        "train_sampler = torch.utils.data.SubsetRandomSampler(train_indices)\n",
        "valid_sampler = torch.utils.data.SubsetRandomSampler(val_indices)\n",
        "\n",
        "train_loader = torch.utils.data.DataLoader(transformed_dataset, batch_size=17,drop_last=True , \n",
        "                                           sampler=train_sampler)\n",
        "validation_loader = torch.utils.data.DataLoader(transformed_dataset, batch_size=10,drop_last=True ,\n",
        "                                                sampler=valid_sampler)"
      ],
      "execution_count": null,
      "outputs": []
    },
    {
      "cell_type": "code",
      "metadata": {
        "colab": {
          "base_uri": "https://localhost:8080/"
        },
        "id": "pTXus-I_VQ0Q",
        "outputId": "9bf51e0e-f990-43e2-9a66-d998f328f20b"
      },
      "source": [
        "## Switch the work to the GPU : \n",
        "\n",
        "device = torch.device('cuda:0' if torch.cuda.is_available() else 'cpu')\n",
        "device"
      ],
      "execution_count": null,
      "outputs": [
        {
          "output_type": "execute_result",
          "data": {
            "text/plain": [
              "device(type='cuda', index=0)"
            ]
          },
          "metadata": {
            "tags": []
          },
          "execution_count": 20
        }
      ]
    },
    {
      "cell_type": "code",
      "metadata": {
        "id": "XktA7XFyV1rz"
      },
      "source": [
        "## Running time parameters : \n",
        "\n",
        "num_epochs = 30\n",
        "learning_rate = 0.001"
      ],
      "execution_count": null,
      "outputs": []
    },
    {
      "cell_type": "markdown",
      "metadata": {
        "id": "bbQA2WeTAKLM"
      },
      "source": [
        "## Model_101 :"
      ]
    },
    {
      "cell_type": "code",
      "metadata": {
        "id": "iReZmyUiVWHY",
        "colab": {
          "base_uri": "https://localhost:8080/"
        },
        "outputId": "e301ef53-0e2b-48a4-de41-76734841a022"
      },
      "source": [
        "## Model Architecture : \n",
        "\n",
        "class CNN(nn.Module): \n",
        "    def __init__(self, in_channels=12, num_classes = 6):\n",
        "        super(CNN, self).__init__()\n",
        "        self.conv1 = nn.Conv2d(in_channels=12, out_channels=12, kernel_size=(3,3), stride=(1,1), padding=(1,1) )\n",
        "        self.conv2 = nn.Conv2d(12, 24, kernel_size=(3,3), stride=(1,1), padding=(1,1))\n",
        "        self.conv3 = nn.Conv2d(24, 48, kernel_size=(3,3))\n",
        "        self.conv2_drop = nn.Dropout2d(p=0.4)\n",
        "        self.conv3_drop = nn.Dropout2d()\n",
        "        self.batchnorm1 = nn.BatchNorm2d(12)\n",
        "        self.batchnorm2 = nn.BatchNorm2d(24)\n",
        "        self.batchnorm3 = nn.BatchNorm2d(48)\n",
        "        self.tanh = nn.Tanh() \n",
        "        self.softmax = nn.Softmax()\n",
        "        \n",
        "        self.fc1 = nn.Linear(13824 , 2304)\n",
        "        self.fc2 = nn.Linear(2304 , num_classes)\n",
        "\n",
        "    def forward(self, x):\n",
        "        x = F.relu(F.max_pool2d(self.batchnorm1(self.conv1(x)), 2))\n",
        "        x = F.relu(F.max_pool2d(self.conv2_drop(self.batchnorm2(self.conv2(x))), 2))\n",
        "        x = F.relu(F.max_pool2d(self.conv3_drop(self.batchnorm3(self.conv3(x))), 2))\n",
        "        x = x.view(x.size()[0],-1)\n",
        "        x = F.relu(self.fc1(x))  ## relu\n",
        "        x = self.fc2(x)\n",
        "        x = self.softmax(x)\n",
        "      \n",
        "        return x\n",
        "\n",
        "if __name__ == \"__main__\":\n",
        "    # N = 3 (Mini batch size)\n",
        "    x = torch.randn(20, 12, 140, 155)\n",
        "    model = CNN(12,num_classes=6)\n",
        "    print(model(x)[2].shape)"
      ],
      "execution_count": null,
      "outputs": [
        {
          "output_type": "stream",
          "text": [
            "torch.Size([6])\n"
          ],
          "name": "stdout"
        }
      ]
    },
    {
      "cell_type": "code",
      "metadata": {
        "id": "bLgntYepVkrV"
      },
      "source": [
        "## Model to GPU :\n",
        "\n",
        "model = CNN()\n",
        "model = CNN(12,num_classes=6).to(device)"
      ],
      "execution_count": null,
      "outputs": []
    },
    {
      "cell_type": "code",
      "metadata": {
        "id": "A8YCuwthV1k0"
      },
      "source": [
        "## Optimizer : \n",
        "\n",
        "optimizer = torch.optim.Adam(model.parameters(),lr = learning_rate)"
      ],
      "execution_count": null,
      "outputs": []
    },
    {
      "cell_type": "code",
      "metadata": {
        "id": "2vEv9jK_V9UJ"
      },
      "source": [
        "## Train the Model : \n",
        "\n",
        "%%time\n",
        "# keeping-track-of-losses \n",
        "train_losses = []\n",
        "valid_losses = []\n",
        "pred_Val = []\n",
        "target_Val = []\n",
        "l_mean = []\n",
        "\n",
        "criterion = nn.CrossEntropyLoss()\n",
        "\n",
        "for epoch in range(1, num_epochs + 1):\n",
        "    # keep-track-of-training-and-validation-loss\n",
        "    train_loss = 0.0\n",
        "    valid_loss = 0.0\n",
        "    \n",
        "    # training-the-model\n",
        "    model.train()\n",
        "    for data, target in enumerate(train_loader):\n",
        "        # move-tensors-to-GPU \n",
        "        #print(target)\n",
        "        data = target['image']\n",
        "        target = target['soilreadings']\n",
        "        data = normalize(data)\n",
        "        data = data.float()\n",
        "        data = data.to(device)\n",
        "        #target = target.long()\n",
        "        target = target.to(device)\n",
        "        # clear-the-gradients-of-all-optimized-variables\n",
        "        optimizer.zero_grad()\n",
        "        # forward-pass: compute-predicted-outputs-by-passing-inputs-to-the-model\n",
        "        output = model(data)\n",
        "        # calculate-the-batch-loss\n",
        "        loss = criterion(output, target)\n",
        "        optimizer.zero_grad()\n",
        "        # backward-pass: compute-gradient-of-the-loss-wrt-model-parameters\n",
        "        loss.backward()\n",
        "        # perform-a-ingle-optimization-step (parameter-update)\n",
        "        optimizer.step()\n",
        "        # update-training-loss\n",
        "        train_loss += loss.item() * data.size(0)\n",
        "        pred_Val.append(output)\n",
        "        target_Val.append(target)\n",
        "      \n",
        "\n",
        "    # validate-the-model\n",
        "    model.eval()\n",
        "    for data, target in enumerate(validation_loader):\n",
        "        data = target['image']\n",
        "        target = target['soilreadings']\n",
        "        data = normalize(data)      \n",
        "        data = data.float()\n",
        "        data = data.to(device)\n",
        "        #target = target.long()\n",
        "        target = target.to(device)\n",
        "        output = model(data)\n",
        "        loss = criterion(output, target)\n",
        "        data.size()\n",
        "        # update-average-validation-loss \n",
        "        valid_loss += loss.item() * data.size(0)\n",
        "  \n",
        "    # calculate-average-losses\n",
        "    train_loss = train_loss/len(train_loader.sampler)\n",
        "    valid_loss = valid_loss/len(validation_loader.sampler)\n",
        "    train_losses.append(train_loss)\n",
        "    valid_losses.append(valid_loss)\n",
        "        \n",
        "    # print-training/validation-statistics \n",
        "    print('Epoch: {} \\tTraining Loss: {:.6f} \\tValidation Loss: {:.6f}'.format(\n",
        "        epoch, train_loss, valid_loss))"
      ],
      "execution_count": null,
      "outputs": []
    },
    {
      "cell_type": "markdown",
      "metadata": {
        "id": "_cIndqyYAOQP"
      },
      "source": [
        "## Inception_Model :"
      ]
    },
    {
      "cell_type": "code",
      "metadata": {
        "colab": {
          "base_uri": "https://localhost:8080/"
        },
        "id": "gby-mRtEkYfY",
        "outputId": "ab67e932-75b4-44a5-8ef3-57958b36d0a4"
      },
      "source": [
        "class GoogLeNet(nn.Module):\n",
        "\n",
        "    def __init__(self, aux_logits=True, num_classes=4):\n",
        "        super(GoogLeNet, self).__init__()\n",
        "        assert aux_logits == True or aux_logits == False\n",
        "        self.aux_logits = aux_logits\n",
        "\n",
        "        # Write in_channels, etc, all explicit in self.conv1, rest will write to\n",
        "        # make everything as compact as possible, kernel_size=3 instead of (3,3)\n",
        "        self.conv1 = conv_block(\n",
        "            in_channels=12,\n",
        "            out_channels=64,\n",
        "            kernel_size=(7, 7),\n",
        "            stride=(2, 2),\n",
        "            padding=(3, 3),\n",
        "        )\n",
        "\n",
        "        self.maxpool1 = nn.MaxPool2d(kernel_size=3, stride=2, padding=1)\n",
        "        self.conv2 = conv_block(64, 192, kernel_size=3, stride=1, padding=1)\n",
        "        self.maxpool2 = nn.MaxPool2d(kernel_size=3, stride=2, padding=1)\n",
        "\n",
        "        # In this order: in_channels, out_1x1, red_3x3, out_3x3, red_5x5, out_5x5, out_1x1pool\n",
        "        self.inception3a = Inception_block(192, 64, 96, 128, 16, 32, 32)\n",
        "        self.inception3b = Inception_block(256, 128, 128, 192, 32, 96, 64)\n",
        "        self.maxpool3 = nn.MaxPool2d(kernel_size=(3, 3), stride=2, padding=1)\n",
        "\n",
        "        self.inception4a = Inception_block(480, 192, 96, 208, 16, 48, 64)\n",
        "        self.inception4b = Inception_block(512, 160, 112, 224, 24, 64, 64)\n",
        "        self.inception4c = Inception_block(512, 128, 128, 256, 24, 64, 64)\n",
        "        self.inception4d = Inception_block(512, 112, 144, 288, 32, 64, 64)\n",
        "        self.inception4e = Inception_block(528, 256, 160, 320, 32, 128, 128)\n",
        "        self.maxpool4 = nn.MaxPool2d(kernel_size=3, stride=2, padding=1)\n",
        "\n",
        "        self.inception5a = Inception_block(832, 256, 160, 320, 32, 128, 128)\n",
        "        self.inception5b = Inception_block(832, 384, 192, 384, 48, 128, 128)\n",
        "\n",
        "        self.avgpool = nn.AvgPool2d(kernel_size=7, stride=1)\n",
        "        self.dropout = nn.Dropout(p=0.4)\n",
        "        self.fc1 = nn.Linear(1024, num_classes)\n",
        "        self.sigmoid=nn.Sigmoid()\n",
        "        self.tanh = nn.Tanh()\n",
        "        self.softmax = nn.Softmax() \n",
        "\n",
        "        if self.aux_logits:\n",
        "            self.aux1 = InceptionAux(512, num_classes)\n",
        "            self.aux2 = InceptionAux(528, num_classes)\n",
        "        else:\n",
        "            self.aux1 = self.aux2 = None\n",
        "        \n",
        "\n",
        "    def forward(self, x):\n",
        "        x = self.conv1(x)\n",
        "        x = self.maxpool1(x)\n",
        "        x = self.conv2(x)\n",
        "        # x = self.conv3(x)\n",
        "        x = self.maxpool2(x)\n",
        "\n",
        "        x = self.inception3a(x)\n",
        "        x = self.inception3b(x)\n",
        "        x = self.maxpool3(x)\n",
        "\n",
        "        x = self.inception4a(x)\n",
        "\n",
        "        # Auxiliary Softmax classifier 1\n",
        "        if self.aux_logits and self.training:\n",
        "            aux1 = self.aux1(x)\n",
        "\n",
        "        x = self.inception4b(x)\n",
        "        x = self.inception4c(x)\n",
        "        x = self.inception4d(x)\n",
        "\n",
        "        # Auxiliary Softmax classifier 2\n",
        "        if self.aux_logits and self.training:\n",
        "            aux2 = self.aux2(x)\n",
        "\n",
        "        x = self.inception4e(x)\n",
        "        x = self.maxpool4(x)\n",
        "        x = self.inception5a(x)\n",
        "        x = self.inception5b(x)\n",
        "        x = self.avgpool(x)\n",
        "        x = x.reshape(x.shape[0], -1)\n",
        "        x = self.dropout(x)\n",
        "        x = self.fc1(x)\n",
        "        x = self.softmax(x)\n",
        "\n",
        "        \n",
        "\n",
        "        if self.aux_logits and self.training:\n",
        "            return aux1, aux2, x\n",
        "        else:\n",
        "            return x\n",
        "\n",
        "\n",
        "class Inception_block(nn.Module):\n",
        "    def __init__(\n",
        "        self, in_channels, out_1x1, red_3x3, out_3x3, red_5x5, out_5x5, out_1x1pool\n",
        "    ):\n",
        "        super(Inception_block, self).__init__()\n",
        "        self.branch1 = conv_block(in_channels, out_1x1, kernel_size=(1, 1))\n",
        "\n",
        "        self.branch2 = nn.Sequential(\n",
        "            conv_block(in_channels, red_3x3, kernel_size=(1, 1)),\n",
        "            conv_block(red_3x3, out_3x3, kernel_size=(3, 3), padding=(1, 1)),\n",
        "        )\n",
        "\n",
        "        self.branch3 = nn.Sequential(\n",
        "            conv_block(in_channels, red_5x5, kernel_size=(1, 1)),\n",
        "            conv_block(red_5x5, out_5x5, kernel_size=(5, 5), padding=(2, 2)),\n",
        "        )\n",
        "\n",
        "        self.branch4 = nn.Sequential(\n",
        "            nn.MaxPool2d(kernel_size=(3, 3), stride=(1, 1), padding=(1, 1)),\n",
        "            conv_block(in_channels, out_1x1pool, kernel_size=(1, 1)),\n",
        "        )\n",
        "\n",
        "    def forward(self, x):\n",
        "        return torch.cat(\n",
        "            [self.branch1(x), self.branch2(x), self.branch3(x), self.branch4(x)], 1\n",
        "        )\n",
        "\n",
        "\n",
        "class InceptionAux(nn.Module):\n",
        "    def __init__(self, in_channels, num_classes):\n",
        "        super(InceptionAux, self).__init__()\n",
        "        self.relu = nn.ReLU()\n",
        "        self.dropout = nn.Dropout(p=0.7)\n",
        "        self.pool = nn.AvgPool2d(kernel_size=5, stride=3)\n",
        "        self.conv = conv_block(in_channels, 128, kernel_size=1)\n",
        "        self.fc1 = nn.Linear(2048, 1024)\n",
        "        self.fc2 = nn.Linear(1024, num_classes)\n",
        "\n",
        "    def forward(self, x):\n",
        "        x = self.pool(x)\n",
        "        x = self.conv(x)\n",
        "        x = x.reshape(x.shape[0], -1)\n",
        "        x = self.relu(self.fc1(x))\n",
        "        x = self.dropout(x)\n",
        "        x = self.fc2(x)\n",
        "\n",
        "        return x\n",
        "\n",
        "\n",
        "class conv_block(nn.Module):\n",
        "    def __init__(self, in_channels, out_channels, **kwargs):\n",
        "        super(conv_block, self).__init__()\n",
        "        self.relu = nn.ReLU()\n",
        "        self.conv = nn.Conv2d(in_channels, out_channels, **kwargs)\n",
        "        self.batchnorm = nn.BatchNorm2d(out_channels)\n",
        "\n",
        "    def forward(self, x):\n",
        "        return self.relu(self.batchnorm(self.conv(x)))\n",
        "\n",
        "\n",
        "if __name__ == \"__main__\":\n",
        "    # N = 3 (Mini batch size)\n",
        "    x = torch.randn(6, 12, 224, 224)\n",
        "    model = GoogLeNet(aux_logits=True, num_classes=4)\n",
        "    print(model(x)[2].shape)"
      ],
      "execution_count": null,
      "outputs": [
        {
          "output_type": "stream",
          "text": [
            "torch.Size([6, 4])\n"
          ],
          "name": "stdout"
        }
      ]
    },
    {
      "cell_type": "code",
      "metadata": {
        "id": "vNbDJa-Nndyg"
      },
      "source": [
        "model = GoogLeNet(aux_logits=True, num_classes=4)\n",
        "model = GoogLeNet(aux_logits=True, num_classes=4).to(device)\n"
      ],
      "execution_count": null,
      "outputs": []
    },
    {
      "cell_type": "code",
      "metadata": {
        "id": "SXQfsatv2DSU"
      },
      "source": [
        "optimizer = torch.optim.Adam(model.parameters(),lr = learning_rate)"
      ],
      "execution_count": null,
      "outputs": []
    },
    {
      "cell_type": "code",
      "metadata": {
        "colab": {
          "base_uri": "https://localhost:8080/"
        },
        "id": "jKBparCflZH8",
        "outputId": "29e1d29f-ae75-4e66-adb7-aae507fdc4bc"
      },
      "source": [
        "## Train the Model : \n",
        "\n",
        "%%time\n",
        "\n",
        "# keeping-track-of-losses \n",
        "train_losses = []\n",
        "valid_losses = []\n",
        "pred_Val, target_Val,l_mean = [],[],[]\n",
        "pred_Val_test,target_Val_test, l_mean_test  = [], [],[]\n",
        "\n",
        "criterion = nn.CrossEntropyLoss()\n",
        "\n",
        "for epoch in range(1, num_epochs + 1):\n",
        "    # keep-track-of-training-and-validation-loss\n",
        "    train_loss = 0.0\n",
        "    valid_loss = 0.0\n",
        "    \n",
        "    # training-the-model\n",
        "    model.train()\n",
        "    for data, target in enumerate(train_loader):\n",
        "        # move-tensors-to-GPU \n",
        "        #print(target)\n",
        "        data = target['image']\n",
        "        target = target['soilreadings']\n",
        "        data = normalize(data)\n",
        "        data = data.float()\n",
        "        data = data.to(device)\n",
        "        #target = target.long()\n",
        "        target = target.to(device)\n",
        "        # clear-the-gradients-of-all-optimized-variables\n",
        "        optimizer.zero_grad()\n",
        "        # forward-pass: compute-predicted-outputs-by-passing-inputs-to-the-model\n",
        "        output = model(data)\n",
        "        output = output[2]\n",
        "        # calculate-the-batch-loss\n",
        "        loss = criterion(output, target)\n",
        "        optimizer.zero_grad()\n",
        "        # backward-pass: compute-gradient-of-the-loss-wrt-model-parameters\n",
        "        loss.backward()\n",
        "        # perform-a-ingle-optimization-step (parameter-update)\n",
        "        optimizer.step()\n",
        "        # update-training-loss\n",
        "        train_loss += loss.item() * data.size(0)\n",
        "        pred_Val.append(output)\n",
        "        target_Val.append(target)\n",
        "\n",
        "    correct = 0\n",
        "    total = 0\n",
        "    # validate-the-model\n",
        "    model.eval()\n",
        "    for data, target in enumerate(validation_loader):\n",
        "        data = target['image']\n",
        "        target = target['soilreadings']\n",
        "        data = normalize(data)      \n",
        "        data = data.float()\n",
        "        data = data.to(device)\n",
        "        #target = target.long()\n",
        "        target = target.to(device)\n",
        "        output = model(data)\n",
        "        loss = criterion(output, target)\n",
        "        # update-average-validation-loss \n",
        "        valid_loss += loss.item() * data.size(0)\n",
        "        _, predicted = torch.max(output.data, 1)\n",
        "        total += target.size(0)\n",
        "        correct += (predicted == target).sum().item()\n",
        "\n",
        "    \n",
        "    # calculate-average-losses\n",
        "    train_loss = train_loss/len(train_loader.sampler)\n",
        "    valid_loss = valid_loss/len(validation_loader.sampler)\n",
        "    train_losses.append(train_loss)\n",
        "    valid_losses.append(valid_loss)\n",
        "        \n",
        "    # print-training/validation-statistics \n",
        "    print('Epoch: {} \\tTraining Loss: {:.6f} \\tValidation Loss: {:.6f}'.format(\n",
        "        epoch, train_loss, valid_loss))\n",
        "    print('Accuracy of the network on the test images: %d %%' % (\n",
        "    100 * correct / total))"
      ],
      "execution_count": null,
      "outputs": [
        {
          "output_type": "stream",
          "text": [
            "Epoch: 1 \tTraining Loss: 1.318536 \tValidation Loss: 1.261302\n",
            "Accuracy of the network on the test images: 20 %\n",
            "Epoch: 2 \tTraining Loss: 1.213998 \tValidation Loss: 1.230608\n",
            "Accuracy of the network on the test images: 36 %\n",
            "Epoch: 3 \tTraining Loss: 1.253560 \tValidation Loss: 1.194616\n",
            "Accuracy of the network on the test images: 43 %\n",
            "Epoch: 4 \tTraining Loss: 1.244152 \tValidation Loss: 1.220716\n",
            "Accuracy of the network on the test images: 40 %\n",
            "Epoch: 5 \tTraining Loss: 1.225217 \tValidation Loss: 1.279835\n",
            "Accuracy of the network on the test images: 33 %\n",
            "Epoch: 6 \tTraining Loss: 1.192842 \tValidation Loss: 1.088529\n",
            "Accuracy of the network on the test images: 50 %\n",
            "Epoch: 7 \tTraining Loss: 1.168337 \tValidation Loss: 1.217167\n",
            "Accuracy of the network on the test images: 43 %\n",
            "Epoch: 8 \tTraining Loss: 1.166477 \tValidation Loss: 1.172149\n",
            "Accuracy of the network on the test images: 43 %\n",
            "Epoch: 9 \tTraining Loss: 1.168056 \tValidation Loss: 1.127705\n",
            "Accuracy of the network on the test images: 50 %\n",
            "Epoch: 10 \tTraining Loss: 1.255145 \tValidation Loss: 1.178937\n",
            "Accuracy of the network on the test images: 43 %\n",
            "Epoch: 11 \tTraining Loss: 1.204596 \tValidation Loss: 1.271133\n",
            "Accuracy of the network on the test images: 33 %\n",
            "Epoch: 12 \tTraining Loss: 1.178310 \tValidation Loss: 1.129246\n",
            "Accuracy of the network on the test images: 50 %\n",
            "Epoch: 13 \tTraining Loss: 1.140886 \tValidation Loss: 1.197124\n",
            "Accuracy of the network on the test images: 43 %\n",
            "Epoch: 14 \tTraining Loss: 1.153400 \tValidation Loss: 1.162851\n",
            "Accuracy of the network on the test images: 43 %\n",
            "Epoch: 15 \tTraining Loss: 1.157517 \tValidation Loss: 1.166414\n",
            "Accuracy of the network on the test images: 46 %\n",
            "Epoch: 16 \tTraining Loss: 1.147924 \tValidation Loss: 1.190305\n",
            "Accuracy of the network on the test images: 40 %\n",
            "Epoch: 17 \tTraining Loss: 1.150905 \tValidation Loss: 1.089989\n",
            "Accuracy of the network on the test images: 53 %\n",
            "Epoch: 18 \tTraining Loss: 1.129057 \tValidation Loss: 1.017302\n",
            "Accuracy of the network on the test images: 63 %\n",
            "Epoch: 19 \tTraining Loss: 1.193919 \tValidation Loss: 1.029651\n",
            "Accuracy of the network on the test images: 63 %\n",
            "Epoch: 20 \tTraining Loss: 1.104888 \tValidation Loss: 1.045955\n",
            "Accuracy of the network on the test images: 60 %\n",
            "Epoch: 21 \tTraining Loss: 1.185801 \tValidation Loss: 1.097781\n",
            "Accuracy of the network on the test images: 50 %\n",
            "Epoch: 22 \tTraining Loss: 1.157188 \tValidation Loss: 1.048120\n",
            "Accuracy of the network on the test images: 56 %\n",
            "Epoch: 23 \tTraining Loss: 1.124265 \tValidation Loss: 1.116834\n",
            "Accuracy of the network on the test images: 50 %\n",
            "Epoch: 24 \tTraining Loss: 1.135468 \tValidation Loss: 1.023969\n",
            "Accuracy of the network on the test images: 60 %\n",
            "Epoch: 25 \tTraining Loss: 1.101860 \tValidation Loss: 1.032844\n",
            "Accuracy of the network on the test images: 60 %\n",
            "Epoch: 26 \tTraining Loss: 1.116367 \tValidation Loss: 1.053083\n",
            "Accuracy of the network on the test images: 56 %\n",
            "Epoch: 27 \tTraining Loss: 1.193910 \tValidation Loss: 1.134333\n",
            "Accuracy of the network on the test images: 50 %\n",
            "Epoch: 28 \tTraining Loss: 1.165427 \tValidation Loss: 1.131015\n",
            "Accuracy of the network on the test images: 50 %\n",
            "Epoch: 29 \tTraining Loss: 1.134619 \tValidation Loss: 1.006977\n",
            "Accuracy of the network on the test images: 63 %\n",
            "Epoch: 30 \tTraining Loss: 1.121741 \tValidation Loss: 1.149972\n",
            "Accuracy of the network on the test images: 40 %\n",
            "CPU times: user 4min 57s, sys: 4min 16s, total: 9min 14s\n",
            "Wall time: 7min 9s\n"
          ],
          "name": "stdout"
        }
      ]
    },
    {
      "cell_type": "markdown",
      "metadata": {
        "id": "WkrpyQ8vn5Rb"
      },
      "source": [
        "## Evaluating the Model :\n"
      ]
    },
    {
      "cell_type": "code",
      "metadata": {
        "id": "_9EzlTnSrohn"
      },
      "source": [
        "L = []\n",
        "for i in train_sampler.indices :\n",
        "  L.append(dff['cluster'].iloc[i])"
      ],
      "execution_count": null,
      "outputs": []
    },
    {
      "cell_type": "code",
      "metadata": {
        "id": "oXQ8JwEOqk-R"
      },
      "source": [
        "train_target = torch.Tensor(L)\n",
        "train_target = train_target.to(device)"
      ],
      "execution_count": null,
      "outputs": []
    },
    {
      "cell_type": "code",
      "metadata": {
        "id": "YWzeO98YsHwZ"
      },
      "source": [
        "train_preds = get_all_preds(model, train_loader)"
      ],
      "execution_count": null,
      "outputs": []
    },
    {
      "cell_type": "code",
      "metadata": {
        "colab": {
          "base_uri": "https://localhost:8080/"
        },
        "id": "2Lmfbf99uDDC",
        "outputId": "125b71fd-d42d-4a19-8318-0060c5f44bed"
      },
      "source": [
        "print(len(train_target), len(train_preds)) # change batch_size if not equal "
      ],
      "execution_count": null,
      "outputs": [
        {
          "output_type": "stream",
          "text": [
            "136 136\n"
          ],
          "name": "stdout"
        }
      ]
    },
    {
      "cell_type": "code",
      "metadata": {
        "colab": {
          "base_uri": "https://localhost:8080/"
        },
        "id": "HJ6RVXl0qM5_",
        "outputId": "3364af00-a75c-4329-b451-16e218581bcb"
      },
      "source": [
        "preds_correct = get_num_correct(train_preds, train_target)\n",
        "print('total correct:', preds_correct)\n",
        "print('accuracy:', preds_correct / len(train_target))\n"
      ],
      "execution_count": null,
      "outputs": [
        {
          "output_type": "stream",
          "text": [
            "total correct: 43\n",
            "accuracy: 0.3161764705882353\n"
          ],
          "name": "stdout"
        }
      ]
    },
    {
      "cell_type": "code",
      "metadata": {
        "colab": {
          "base_uri": "https://localhost:8080/"
        },
        "id": "XHH-dhcf70El",
        "outputId": "0d2bc1a1-e536-4141-8c5a-9302ffebb27c"
      },
      "source": [
        "stacked = torch.stack((train_target,train_preds.argmax(dim=1)),dim=1)\n",
        "print(stacked.shape)\n",
        "print(stacked[0].tolist())"
      ],
      "execution_count": null,
      "outputs": [
        {
          "output_type": "stream",
          "text": [
            "torch.Size([136, 2])\n",
            "[0.0, 3.0]\n"
          ],
          "name": "stdout"
        }
      ]
    },
    {
      "cell_type": "code",
      "metadata": {
        "id": "M2A2wnsy8fbs"
      },
      "source": [
        "cmt = torch.zeros(4,4, dtype=torch.int64)"
      ],
      "execution_count": null,
      "outputs": []
    },
    {
      "cell_type": "code",
      "metadata": {
        "id": "0EtCo8R_8h3Z"
      },
      "source": [
        "for p in stacked:\n",
        "    tl, pl = p.tolist()\n",
        "    tl, pl = int(tl), int(pl)\n",
        "    cmt[tl, pl] = cmt[tl, pl] + 1"
      ],
      "execution_count": null,
      "outputs": []
    },
    {
      "cell_type": "code",
      "metadata": {
        "colab": {
          "base_uri": "https://localhost:8080/"
        },
        "id": "90JgKjoY8zDG",
        "outputId": "e85a5630-8d23-4b34-c2ed-978c3fa05295"
      },
      "source": [
        "cmt"
      ],
      "execution_count": null,
      "outputs": [
        {
          "output_type": "execute_result",
          "data": {
            "text/plain": [
              "tensor([[ 0,  0,  0, 46],\n",
              "        [ 0,  0,  0,  4],\n",
              "        [ 0,  0,  0, 43],\n",
              "        [ 0,  0,  0, 43]])"
            ]
          },
          "metadata": {
            "tags": []
          },
          "execution_count": 39
        }
      ]
    },
    {
      "cell_type": "code",
      "metadata": {
        "id": "JQPmPXFS9Lh0"
      },
      "source": [
        "from sklearn.metrics import confusion_matrix\n",
        "\n",
        "cm = confusion_matrix(train_target.cpu(), train_preds.argmax(dim=1).cpu())"
      ],
      "execution_count": null,
      "outputs": []
    },
    {
      "cell_type": "code",
      "metadata": {
        "colab": {
          "base_uri": "https://localhost:8080/"
        },
        "id": "lengpDWW-BIw",
        "outputId": "65307cfa-7727-4de4-f976-446dd5f702b1"
      },
      "source": [
        "cm"
      ],
      "execution_count": null,
      "outputs": [
        {
          "output_type": "execute_result",
          "data": {
            "text/plain": [
              "array([[ 0,  0,  0, 46],\n",
              "       [ 0,  0,  0,  4],\n",
              "       [ 0,  0,  0, 43],\n",
              "       [ 0,  0,  0, 43]])"
            ]
          },
          "metadata": {
            "tags": []
          },
          "execution_count": 41
        }
      ]
    },
    {
      "cell_type": "code",
      "metadata": {
        "id": "FlX245Dm-Pjz"
      },
      "source": [
        "import itertools\n",
        "import numpy as np\n",
        "import matplotlib.pyplot as plt\n",
        "\n",
        "def plot_confusion_matrix(cm, classes, normalize=False, title='Confusion matrix', cmap=plt.cm.Blues):\n",
        "    if normalize:\n",
        "        cm = cm.astype('float') / cm.sum(axis=1)[:, np.newaxis]\n",
        "        print(\"Normalized confusion matrix\")\n",
        "    else:\n",
        "        print('Confusion matrix, without normalization')\n",
        "\n",
        "    print(cm)\n",
        "    plt.imshow(cm, interpolation='nearest', cmap=cmap)\n",
        "    plt.title(title)\n",
        "    plt.colorbar()\n",
        "    tick_marks = np.arange(len(classes))\n",
        "    plt.xticks(tick_marks, classes, rotation=45)\n",
        "    plt.yticks(tick_marks, classes)\n",
        "\n",
        "    fmt = '.2f' if normalize else 'd'\n",
        "    thresh = cm.max() / 2.\n",
        "    for i, j in itertools.product(range(cm.shape[0]), range(cm.shape[1])):\n",
        "        plt.text(j, i, format(cm[i, j], fmt), horizontalalignment=\"center\", color=\"white\" if cm[i, j] > thresh else \"black\")\n",
        "\n",
        "    plt.tight_layout()\n",
        "    plt.ylabel('True label')\n",
        "    plt.xlabel('Predicted label')"
      ],
      "execution_count": null,
      "outputs": []
    },
    {
      "cell_type": "code",
      "metadata": {
        "id": "QY8-vVOS-qaW"
      },
      "source": [
        "classes = {0:'cluster_1',\n",
        "    1:'cluster_2',\n",
        "    2:'cluster_3',\n",
        "    3:'cluster_4',\n",
        "    #4:'cluster_5',\n",
        "    #5:'cluster_6'\n",
        "    }\n",
        "    "
      ],
      "execution_count": null,
      "outputs": []
    },
    {
      "cell_type": "code",
      "metadata": {
        "colab": {
          "base_uri": "https://localhost:8080/",
          "height": 405
        },
        "id": "5SHVgpht-nER",
        "outputId": "86f075f5-04ef-40ab-8c1a-912513067a04"
      },
      "source": [
        "plt.figure(figsize=(4,4))\n",
        "plot_confusion_matrix(cm, classes)"
      ],
      "execution_count": null,
      "outputs": [
        {
          "output_type": "stream",
          "text": [
            "Confusion matrix, without normalization\n",
            "[[ 0  0  0 46]\n",
            " [ 0  0  0  4]\n",
            " [ 0  0  0 43]\n",
            " [ 0  0  0 43]]\n"
          ],
          "name": "stdout"
        },
        {
          "output_type": "display_data",
          "data": {
            "image/png": "[encoded data removed]",
            "text/plain": [
              "<Figure size 288x288 with 2 Axes>"
            ]
          },
          "metadata": {
            "tags": [],
            "image/png": {
              "width": 289,
              "height": 280
            },
            "needs_background": "light"
          }
        }
      ]
    },
    {
      "cell_type": "code",
      "metadata": {
        "colab": {
          "base_uri": "https://localhost:8080/",
          "height": 316
        },
        "id": "-PFfgqObWPbZ",
        "outputId": "3166b8da-830c-4471-81cb-7b4a69c38d19"
      },
      "source": [
        "## Visualize the Train & validation losses :\n",
        "%matplotlib inline\n",
        "%config InlineBackend.figure_format = 'retina'\n",
        "plt.plot(train_losses, label='Training loss')\n",
        "plt.plot(valid_losses, label='Validation loss')\n",
        "plt.xlabel(\"Epochs\")\n",
        "plt.ylabel(\"Loss\")\n",
        "plt.legend(frameon=False)"
      ],
      "execution_count": null,
      "outputs": [
        {
          "output_type": "execute_result",
          "data": {
            "text/plain": [
              "<matplotlib.legend.Legend at 0x7f653c045f10>"
            ]
          },
          "metadata": {
            "tags": []
          },
          "execution_count": 45
        },
        {
          "output_type": "display_data",
          "data": {
            "image/png": "[encoded data removed]",
            "text/plain": [
              "<Figure size 432x288 with 1 Axes>"
            ]
          },
          "metadata": {
            "tags": [],
            "image/png": {
              "width": 393,
              "height": 261
            },
            "needs_background": "light"
          }
        }
      ]
    }
  ]
}