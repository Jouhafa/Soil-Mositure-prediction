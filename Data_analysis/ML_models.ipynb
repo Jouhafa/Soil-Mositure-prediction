{
  "cells": [
    {
      "cell_type": "code",
      "execution_count": 3,
      "metadata": {
        "colab": {
          "base_uri": "https://localhost:8080/"
        },
        "id": "XGNzcAjJu8if",
        "outputId": "cfbb7f49-b82a-4f5c-dcae-3569d5cfb629"
      },
      "outputs": [
        {
          "name": "stdout",
          "output_type": "stream",
          "text": [
            "Collecting earthpy\n",
            "  Downloading earthpy-0.9.2.tar.gz (1.4 MB)\n",
            "\u001b[?25l\r\u001b[K     |▎                               | 10 kB 22.0 MB/s eta 0:00:01\r\u001b[K     |▌                               | 20 kB 27.6 MB/s eta 0:00:01\r\u001b[K     |▊                               | 30 kB 13.7 MB/s eta 0:00:01\r\u001b[K     |█                               | 40 kB 10.0 MB/s eta 0:00:01\r\u001b[K     |█▏                              | 51 kB 5.2 MB/s eta 0:00:01\r\u001b[K     |█▍                              | 61 kB 5.2 MB/s eta 0:00:01\r\u001b[K     |█▊                              | 71 kB 5.8 MB/s eta 0:00:01\r\u001b[K     |██                              | 81 kB 6.5 MB/s eta 0:00:01\r\u001b[K     |██▏                             | 92 kB 6.8 MB/s eta 0:00:01\r\u001b[K     |██▍                             | 102 kB 5.3 MB/s eta 0:00:01\r\u001b[K     |██▋                             | 112 kB 5.3 MB/s eta 0:00:01\r\u001b[K     |██▉                             | 122 kB 5.3 MB/s eta 0:00:01\r\u001b[K     |███▏                            | 133 kB 5.3 MB/s eta 0:00:01\r\u001b[K     |███▍                            | 143 kB 5.3 MB/s eta 0:00:01\r\u001b[K     |███▋                            | 153 kB 5.3 MB/s eta 0:00:01\r\u001b[K     |███▉                            | 163 kB 5.3 MB/s eta 0:00:01\r\u001b[K     |████                            | 174 kB 5.3 MB/s eta 0:00:01\r\u001b[K     |████▎                           | 184 kB 5.3 MB/s eta 0:00:01\r\u001b[K     |████▋                           | 194 kB 5.3 MB/s eta 0:00:01\r\u001b[K     |████▉                           | 204 kB 5.3 MB/s eta 0:00:01\r\u001b[K     |█████                           | 215 kB 5.3 MB/s eta 0:00:01\r\u001b[K     |█████▎                          | 225 kB 5.3 MB/s eta 0:00:01\r\u001b[K     |█████▌                          | 235 kB 5.3 MB/s eta 0:00:01\r\u001b[K     |█████▊                          | 245 kB 5.3 MB/s eta 0:00:01\r\u001b[K     |██████                          | 256 kB 5.3 MB/s eta 0:00:01\r\u001b[K     |██████▎                         | 266 kB 5.3 MB/s eta 0:00:01\r\u001b[K     |██████▌                         | 276 kB 5.3 MB/s eta 0:00:01\r\u001b[K     |██████▊                         | 286 kB 5.3 MB/s eta 0:00:01\r\u001b[K     |███████                         | 296 kB 5.3 MB/s eta 0:00:01\r\u001b[K     |███████▏                        | 307 kB 5.3 MB/s eta 0:00:01\r\u001b[K     |███████▌                        | 317 kB 5.3 MB/s eta 0:00:01\r\u001b[K     |███████▊                        | 327 kB 5.3 MB/s eta 0:00:01\r\u001b[K     |████████                        | 337 kB 5.3 MB/s eta 0:00:01\r\u001b[K     |████████▏                       | 348 kB 5.3 MB/s eta 0:00:01\r\u001b[K     |████████▍                       | 358 kB 5.3 MB/s eta 0:00:01\r\u001b[K     |████████▋                       | 368 kB 5.3 MB/s eta 0:00:01\r\u001b[K     |█████████                       | 378 kB 5.3 MB/s eta 0:00:01\r\u001b[K     |█████████▏                      | 389 kB 5.3 MB/s eta 0:00:01\r\u001b[K     |█████████▍                      | 399 kB 5.3 MB/s eta 0:00:01\r\u001b[K     |█████████▋                      | 409 kB 5.3 MB/s eta 0:00:01\r\u001b[K     |█████████▉                      | 419 kB 5.3 MB/s eta 0:00:01\r\u001b[K     |██████████                      | 430 kB 5.3 MB/s eta 0:00:01\r\u001b[K     |██████████▎                     | 440 kB 5.3 MB/s eta 0:00:01\r\u001b[K     |██████████▋                     | 450 kB 5.3 MB/s eta 0:00:01\r\u001b[K     |██████████▉                     | 460 kB 5.3 MB/s eta 0:00:01\r\u001b[K     |███████████                     | 471 kB 5.3 MB/s eta 0:00:01\r\u001b[K     |███████████▎                    | 481 kB 5.3 MB/s eta 0:00:01\r\u001b[K     |███████████▌                    | 491 kB 5.3 MB/s eta 0:00:01\r\u001b[K     |███████████▊                    | 501 kB 5.3 MB/s eta 0:00:01\r\u001b[K     |████████████                    | 512 kB 5.3 MB/s eta 0:00:01\r\u001b[K     |████████████▎                   | 522 kB 5.3 MB/s eta 0:00:01\r\u001b[K     |████████████▌                   | 532 kB 5.3 MB/s eta 0:00:01\r\u001b[K     |████████████▊                   | 542 kB 5.3 MB/s eta 0:00:01\r\u001b[K     |█████████████                   | 552 kB 5.3 MB/s eta 0:00:01\r\u001b[K     |█████████████▏                  | 563 kB 5.3 MB/s eta 0:00:01\r\u001b[K     |█████████████▌                  | 573 kB 5.3 MB/s eta 0:00:01\r\u001b[K     |█████████████▊                  | 583 kB 5.3 MB/s eta 0:00:01\r\u001b[K     |██████████████                  | 593 kB 5.3 MB/s eta 0:00:01\r\u001b[K     |██████████████▏                 | 604 kB 5.3 MB/s eta 0:00:01\r\u001b[K     |██████████████▍                 | 614 kB 5.3 MB/s eta 0:00:01\r\u001b[K     |██████████████▋                 | 624 kB 5.3 MB/s eta 0:00:01\r\u001b[K     |███████████████                 | 634 kB 5.3 MB/s eta 0:00:01\r\u001b[K     |███████████████▏                | 645 kB 5.3 MB/s eta 0:00:01\r\u001b[K     |███████████████▍                | 655 kB 5.3 MB/s eta 0:00:01\r\u001b[K     |███████████████▋                | 665 kB 5.3 MB/s eta 0:00:01\r\u001b[K     |███████████████▉                | 675 kB 5.3 MB/s eta 0:00:01\r\u001b[K     |████████████████                | 686 kB 5.3 MB/s eta 0:00:01\r\u001b[K     |████████████████▍               | 696 kB 5.3 MB/s eta 0:00:01\r\u001b[K     |████████████████▋               | 706 kB 5.3 MB/s eta 0:00:01\r\u001b[K     |████████████████▉               | 716 kB 5.3 MB/s eta 0:00:01\r\u001b[K     |█████████████████               | 727 kB 5.3 MB/s eta 0:00:01\r\u001b[K     |█████████████████▎              | 737 kB 5.3 MB/s eta 0:00:01\r\u001b[K     |█████████████████▌              | 747 kB 5.3 MB/s eta 0:00:01\r\u001b[K     |█████████████████▉              | 757 kB 5.3 MB/s eta 0:00:01\r\u001b[K     |██████████████████              | 768 kB 5.3 MB/s eta 0:00:01\r\u001b[K     |██████████████████▎             | 778 kB 5.3 MB/s eta 0:00:01\r\u001b[K     |██████████████████▌             | 788 kB 5.3 MB/s eta 0:00:01\r\u001b[K     |██████████████████▊             | 798 kB 5.3 MB/s eta 0:00:01\r\u001b[K     |███████████████████             | 808 kB 5.3 MB/s eta 0:00:01\r\u001b[K     |███████████████████▎            | 819 kB 5.3 MB/s eta 0:00:01\r\u001b[K     |███████████████████▌            | 829 kB 5.3 MB/s eta 0:00:01\r\u001b[K     |███████████████████▊            | 839 kB 5.3 MB/s eta 0:00:01\r\u001b[K     |████████████████████            | 849 kB 5.3 MB/s eta 0:00:01\r\u001b[K     |████████████████████▏           | 860 kB 5.3 MB/s eta 0:00:01\r\u001b[K     |████████████████████▍           | 870 kB 5.3 MB/s eta 0:00:01\r\u001b[K     |████████████████████▋           | 880 kB 5.3 MB/s eta 0:00:01\r\u001b[K     |█████████████████████           | 890 kB 5.3 MB/s eta 0:00:01\r\u001b[K     |█████████████████████▏          | 901 kB 5.3 MB/s eta 0:00:01\r\u001b[K     |█████████████████████▍          | 911 kB 5.3 MB/s eta 0:00:01\r\u001b[K     |█████████████████████▋          | 921 kB 5.3 MB/s eta 0:00:01\r\u001b[K     |█████████████████████▉          | 931 kB 5.3 MB/s eta 0:00:01\r\u001b[K     |██████████████████████          | 942 kB 5.3 MB/s eta 0:00:01\r\u001b[K     |██████████████████████▍         | 952 kB 5.3 MB/s eta 0:00:01\r\u001b[K     |██████████████████████▋         | 962 kB 5.3 MB/s eta 0:00:01\r\u001b[K     |██████████████████████▉         | 972 kB 5.3 MB/s eta 0:00:01\r\u001b[K     |███████████████████████         | 983 kB 5.3 MB/s eta 0:00:01\r\u001b[K     |███████████████████████▎        | 993 kB 5.3 MB/s eta 0:00:01\r\u001b[K     |███████████████████████▌        | 1.0 MB 5.3 MB/s eta 0:00:01\r\u001b[K     |███████████████████████▉        | 1.0 MB 5.3 MB/s eta 0:00:01\r\u001b[K     |████████████████████████        | 1.0 MB 5.3 MB/s eta 0:00:01\r\u001b[K     |████████████████████████▎       | 1.0 MB 5.3 MB/s eta 0:00:01\r\u001b[K     |████████████████████████▌       | 1.0 MB 5.3 MB/s eta 0:00:01\r\u001b[K     |████████████████████████▊       | 1.1 MB 5.3 MB/s eta 0:00:01\r\u001b[K     |█████████████████████████       | 1.1 MB 5.3 MB/s eta 0:00:01\r\u001b[K     |█████████████████████████▎      | 1.1 MB 5.3 MB/s eta 0:00:01\r\u001b[K     |█████████████████████████▌      | 1.1 MB 5.3 MB/s eta 0:00:01\r\u001b[K     |█████████████████████████▊      | 1.1 MB 5.3 MB/s eta 0:00:01\r\u001b[K     |██████████████████████████      | 1.1 MB 5.3 MB/s eta 0:00:01\r\u001b[K     |██████████████████████████▏     | 1.1 MB 5.3 MB/s eta 0:00:01\r\u001b[K     |██████████████████████████▍     | 1.1 MB 5.3 MB/s eta 0:00:01\r\u001b[K     |██████████████████████████▊     | 1.1 MB 5.3 MB/s eta 0:00:01\r\u001b[K     |███████████████████████████     | 1.1 MB 5.3 MB/s eta 0:00:01\r\u001b[K     |███████████████████████████▏    | 1.2 MB 5.3 MB/s eta 0:00:01\r\u001b[K     |███████████████████████████▍    | 1.2 MB 5.3 MB/s eta 0:00:01\r\u001b[K     |███████████████████████████▋    | 1.2 MB 5.3 MB/s eta 0:00:01\r\u001b[K     |███████████████████████████▉    | 1.2 MB 5.3 MB/s eta 0:00:01\r\u001b[K     |████████████████████████████▏   | 1.2 MB 5.3 MB/s eta 0:00:01\r\u001b[K     |████████████████████████████▍   | 1.2 MB 5.3 MB/s eta 0:00:01\r\u001b[K     |████████████████████████████▋   | 1.2 MB 5.3 MB/s eta 0:00:01\r\u001b[K     |████████████████████████████▉   | 1.2 MB 5.3 MB/s eta 0:00:01\r\u001b[K     |█████████████████████████████   | 1.2 MB 5.3 MB/s eta 0:00:01\r\u001b[K     |█████████████████████████████▎  | 1.2 MB 5.3 MB/s eta 0:00:01\r\u001b[K     |█████████████████████████████▋  | 1.3 MB 5.3 MB/s eta 0:00:01\r\u001b[K     |█████████████████████████████▉  | 1.3 MB 5.3 MB/s eta 0:00:01\r\u001b[K     |██████████████████████████████  | 1.3 MB 5.3 MB/s eta 0:00:01\r\u001b[K     |██████████████████████████████▎ | 1.3 MB 5.3 MB/s eta 0:00:01\r\u001b[K     |██████████████████████████████▌ | 1.3 MB 5.3 MB/s eta 0:00:01\r\u001b[K     |██████████████████████████████▊ | 1.3 MB 5.3 MB/s eta 0:00:01\r\u001b[K     |███████████████████████████████ | 1.3 MB 5.3 MB/s eta 0:00:01\r\u001b[K     |███████████████████████████████▎| 1.3 MB 5.3 MB/s eta 0:00:01\r\u001b[K     |███████████████████████████████▌| 1.3 MB 5.3 MB/s eta 0:00:01\r\u001b[K     |███████████████████████████████▊| 1.4 MB 5.3 MB/s eta 0:00:01\r\u001b[K     |████████████████████████████████| 1.4 MB 5.3 MB/s eta 0:00:01\r\u001b[K     |████████████████████████████████| 1.4 MB 5.3 MB/s \n",
            "\u001b[?25h  Installing build dependencies ... \u001b[?25l\u001b[?25hdone\n",
            "  Getting requirements to build wheel ... \u001b[?25l\u001b[?25hdone\n",
            "    Preparing wheel metadata ... \u001b[?25l\u001b[?25hdone\n",
            "Requirement already satisfied: numpy>=1.14.0 in /usr/local/lib/python3.7/dist-packages (from earthpy) (1.19.1)\n",
            "Collecting rasterio\n",
            "  Downloading rasterio-1.2.6-cp37-cp37m-manylinux1_x86_64.whl (19.3 MB)\n",
            "\u001b[K     |████████████████████████████████| 19.3 MB 76.6 MB/s \n",
            "\u001b[?25hRequirement already satisfied: requests in /usr/local/lib/python3.7/dist-packages (from earthpy) (2.23.0)\n",
            "Requirement already satisfied: matplotlib>=2.0.0 in /usr/local/lib/python3.7/dist-packages (from earthpy) (3.2.2)\n",
            "Collecting geopandas\n",
            "  Downloading geopandas-0.9.0-py2.py3-none-any.whl (994 kB)\n",
            "\u001b[K     |████████████████████████████████| 994 kB 72.0 MB/s \n",
            "\u001b[?25hRequirement already satisfied: scikit-image in /usr/local/lib/python3.7/dist-packages (from earthpy) (0.16.2)\n",
            "Requirement already satisfied: kiwisolver>=1.0.1 in /usr/local/lib/python3.7/dist-packages (from matplotlib>=2.0.0->earthpy) (1.3.1)\n",
            "Requirement already satisfied: cycler>=0.10 in /usr/local/lib/python3.7/dist-packages (from matplotlib>=2.0.0->earthpy) (0.10.0)\n",
            "Requirement already satisfied: python-dateutil>=2.1 in /usr/local/lib/python3.7/dist-packages (from matplotlib>=2.0.0->earthpy) (2.8.1)\n",
            "Requirement already satisfied: pyparsing!=2.0.4,!=2.1.2,!=2.1.6,>=2.0.1 in /usr/local/lib/python3.7/dist-packages (from matplotlib>=2.0.0->earthpy) (2.4.7)\n",
            "Requirement already satisfied: six in /usr/local/lib/python3.7/dist-packages (from cycler>=0.10->matplotlib>=2.0.0->earthpy) (1.15.0)\n",
            "Requirement already satisfied: shapely>=1.6 in /usr/local/lib/python3.7/dist-packages (from geopandas->earthpy) (1.7.1)\n",
            "Requirement already satisfied: pandas>=0.24.0 in /usr/local/lib/python3.7/dist-packages (from geopandas->earthpy) (1.0.5)\n",
            "Collecting fiona>=1.8\n",
            "  Downloading Fiona-1.8.20-cp37-cp37m-manylinux1_x86_64.whl (15.4 MB)\n",
            "\u001b[K     |████████████████████████████████| 15.4 MB 37 kB/s \n",
            "\u001b[?25hCollecting pyproj>=2.2.0\n",
            "  Downloading pyproj-3.1.0-cp37-cp37m-manylinux2010_x86_64.whl (6.6 MB)\n",
            "\u001b[K     |████████████████████████████████| 6.6 MB 15.0 MB/s \n",
            "\u001b[?25hRequirement already satisfied: click>=4.0 in /usr/local/lib/python3.7/dist-packages (from fiona>=1.8->geopandas->earthpy) (7.1.2)\n",
            "Requirement already satisfied: certifi in /usr/local/lib/python3.7/dist-packages (from fiona>=1.8->geopandas->earthpy) (2021.5.30)\n",
            "Collecting cligj>=0.5\n",
            "  Downloading cligj-0.7.2-py3-none-any.whl (7.1 kB)\n",
            "Requirement already satisfied: setuptools in /usr/local/lib/python3.7/dist-packages (from fiona>=1.8->geopandas->earthpy) (57.2.0)\n",
            "Collecting click-plugins>=1.0\n",
            "  Downloading click_plugins-1.1.1-py2.py3-none-any.whl (7.5 kB)\n",
            "Collecting munch\n",
            "  Downloading munch-2.5.0-py2.py3-none-any.whl (10 kB)\n",
            "Requirement already satisfied: attrs>=17 in /usr/local/lib/python3.7/dist-packages (from fiona>=1.8->geopandas->earthpy) (21.2.0)\n",
            "Requirement already satisfied: pytz>=2017.2 in /usr/local/lib/python3.7/dist-packages (from pandas>=0.24.0->geopandas->earthpy) (2018.9)\n",
            "Collecting affine\n",
            "  Downloading affine-2.3.0-py2.py3-none-any.whl (15 kB)\n",
            "Collecting snuggs>=1.4.1\n",
            "  Downloading snuggs-1.4.7-py3-none-any.whl (5.4 kB)\n",
            "Requirement already satisfied: chardet<4,>=3.0.2 in /usr/local/lib/python3.7/dist-packages (from requests->earthpy) (3.0.4)\n",
            "Requirement already satisfied: urllib3!=1.25.0,!=1.25.1,<1.26,>=1.21.1 in /usr/local/lib/python3.7/dist-packages (from requests->earthpy) (1.24.3)\n",
            "Requirement already satisfied: idna<3,>=2.5 in /usr/local/lib/python3.7/dist-packages (from requests->earthpy) (2.10)\n",
            "Requirement already satisfied: networkx>=2.0 in /usr/local/lib/python3.7/dist-packages (from scikit-image->earthpy) (2.5.1)\n",
            "Requirement already satisfied: scipy>=0.19.0 in /usr/local/lib/python3.7/dist-packages (from scikit-image->earthpy) (1.5.4)\n",
            "Requirement already satisfied: imageio>=2.3.0 in /usr/local/lib/python3.7/dist-packages (from scikit-image->earthpy) (2.4.1)\n",
            "Requirement already satisfied: pillow>=4.3.0 in /usr/local/lib/python3.7/dist-packages (from scikit-image->earthpy) (7.1.2)\n",
            "Requirement already satisfied: PyWavelets>=0.4.0 in /usr/local/lib/python3.7/dist-packages (from scikit-image->earthpy) (1.1.1)\n",
            "Requirement already satisfied: decorator<5,>=4.3 in /usr/local/lib/python3.7/dist-packages (from networkx>=2.0->scikit-image->earthpy) (4.4.2)\n",
            "Building wheels for collected packages: earthpy\n",
            "  Building wheel for earthpy (PEP 517) ... \u001b[?25l\u001b[?25hdone\n",
            "  Created wheel for earthpy: filename=earthpy-0.9.2-py3-none-any.whl size=1365096 sha256=c818050f65b44cf7b2277ba52dbb19548072b1cd89c0512eadb81741d317e146\n",
            "  Stored in directory: /root/.cache/pip/wheels/80/4d/12/9d924aa338ecb211c35e6fff47330e3f6d14b8c74971c527ca\n",
            "Successfully built earthpy\n",
            "Installing collected packages: munch, cligj, click-plugins, snuggs, pyproj, fiona, affine, rasterio, geopandas, earthpy\n",
            "Successfully installed affine-2.3.0 click-plugins-1.1.1 cligj-0.7.2 earthpy-0.9.2 fiona-1.8.20 geopandas-0.9.0 munch-2.5.0 pyproj-3.1.0 rasterio-1.2.6 snuggs-1.4.7\n"
          ]
        }
      ],
      "source": [
        "pip install earthpy"
      ]
    },
    {
      "cell_type": "code",
      "execution_count": 4,
      "metadata": {
        "id": "dJMHPXGxNa1c"
      },
      "outputs": [],
      "source": [
        "import matplotlib.pyplot as plt\n",
        "import numpy as np\n",
        "import pandas as pd\n",
        "from osgeo import gdal\n",
        "import sys\n",
        "import os\n",
        "from glob import glob\n",
        "import earthpy.spatial as es"
      ]
    },
    {
      "cell_type": "code",
      "execution_count": 5,
      "metadata": {
        "id": "MHtExp8kNJxt"
      },
      "outputs": [],
      "source": [
        "df = pd.read_csv('/content/drive/MyDrive/Datasets/Dataset_2017to2020_Area1.csv')"
      ]
    },
    {
      "cell_type": "code",
      "execution_count": 6,
      "metadata": {
        "id": "xLA8LjqwO464"
      },
      "outputs": [],
      "source": [
        "S_sentinel_bands = glob(\"/content/drive/MyDrive/Senti_Images-2017to2020_Area1/*UL.tif\")"
      ]
    },
    {
      "cell_type": "code",
      "execution_count": 7,
      "metadata": {
        "id": "meOLCyF6tamc"
      },
      "outputs": [],
      "source": [
        "## Read tif image as Array :\n",
        "\n",
        "def tif_to_matrix(path):\n",
        "  src_ds = gdal.Open(path)\n",
        "  data = src_ds.ReadAsArray()\n",
        "  return data "
      ]
    },
    {
      "cell_type": "code",
      "execution_count": 8,
      "metadata": {
        "id": "g7c_wx_fu5WK"
      },
      "outputs": [],
      "source": [
        "## Normalize bands into 0.0 - 1.0 scale :\n",
        "def normalize(array):\n",
        "    array_min, array_max = array.min(), array.max()\n",
        "    return (array - array_min) / (array_max - array_min)"
      ]
    },
    {
      "cell_type": "code",
      "execution_count": 58,
      "metadata": {
        "id": "4wMAFKp1tdZk"
      },
      "outputs": [],
      "source": [
        "## Create a dataset of images bands means :\n",
        "import os\n",
        "List_images = []\n",
        "L = 0.5\n",
        "directory = r'/content/drive/MyDrive/Senti_Images-2017to2020_Area1'\n",
        "for filename in os.listdir(directory):\n",
        "    if filename.endswith(\"UL.tif\") :\n",
        "        image = tif_to_matrix(os.path.join(directory, filename))\n",
        "        list_bands=[]\n",
        "        for i in range (12) :\n",
        "          band = normalize(image[i])\n",
        "          list_bands.append(band.mean())\n",
        "        ndmi = es.normalized_diff(image[7], image[10])\n",
        "        ndvi = es.normalized_diff(image[7], image[3])\n",
        "        savi = ((image[7] - image[3]) / (image[7] + image[3] + L)) * (1 + L)\n",
        "        mndwi = es.normalized_diff(image[2], image[10])\n",
        "        mndwi = normalize(mndwi)\n",
        "        list_bands.append(ndmi.mean())\n",
        "        list_bands.append(ndvi.mean())\n",
        "        list_bands.append(savi.mean())\n",
        "        list_bands.append(mndwi.mean())\n",
        "        List_images.append(list_bands)"
      ]
    },
    {
      "cell_type": "code",
      "execution_count": 59,
      "metadata": {
        "id": "svKeTOoKulfQ"
      },
      "outputs": [],
      "source": [
        "List_images = np.array(List_images)"
      ]
    },
    {
      "cell_type": "code",
      "execution_count": 60,
      "metadata": {
        "id": "sEcXsF_DtvCN"
      },
      "outputs": [],
      "source": [
        "df_bands = pd.DataFrame(List_images,columns=['B1','B2','B3','B4','B5','B6','B7','B8','B8A','B9','B10','B11','ndmi','ndvi','savi','mndwi'])"
      ]
    },
    {
      "cell_type": "code",
      "execution_count": 61,
      "metadata": {
        "colab": {
          "base_uri": "https://localhost:8080/",
          "height": 228
        },
        "id": "4wUeVpVjtQBU",
        "outputId": "89dddeb6-fdef-4d4f-f35a-51bda4d27dea"
      },
      "outputs": [
        {
          "data": {
            "text/html": [
              "<div>\n",
              "<style scoped>\n",
              "    .dataframe tbody tr th:only-of-type {\n",
              "        vertical-align: middle;\n",
              "    }\n",
              "\n",
              "    .dataframe tbody tr th {\n",
              "        vertical-align: top;\n",
              "    }\n",
              "\n",
              "    .dataframe thead th {\n",
              "        text-align: right;\n",
              "    }\n",
              "</style>\n",
              "<table border=\"1\" class=\"dataframe\">\n",
              "  <thead>\n",
              "    <tr style=\"text-align: right;\">\n",
              "      <th></th>\n",
              "      <th>B1</th>\n",
              "      <th>B2</th>\n",
              "      <th>B3</th>\n",
              "      <th>B4</th>\n",
              "      <th>B5</th>\n",
              "      <th>B6</th>\n",
              "      <th>B7</th>\n",
              "      <th>B8</th>\n",
              "      <th>B8A</th>\n",
              "      <th>B9</th>\n",
              "      <th>B10</th>\n",
              "      <th>B11</th>\n",
              "      <th>ndmi</th>\n",
              "      <th>ndvi</th>\n",
              "      <th>savi</th>\n",
              "      <th>mndwi</th>\n",
              "    </tr>\n",
              "  </thead>\n",
              "  <tbody>\n",
              "    <tr>\n",
              "      <th>0</th>\n",
              "      <td>0.29</td>\n",
              "      <td>0.19</td>\n",
              "      <td>0.21</td>\n",
              "      <td>0.28</td>\n",
              "      <td>0.27</td>\n",
              "      <td>0.35</td>\n",
              "      <td>0.40</td>\n",
              "      <td>0.40</td>\n",
              "      <td>0.43</td>\n",
              "      <td>0.53</td>\n",
              "      <td>0.39</td>\n",
              "      <td>0.44</td>\n",
              "      <td>6.51</td>\n",
              "      <td>0.36</td>\n",
              "      <td>0.55</td>\n",
              "      <td>0.37</td>\n",
              "    </tr>\n",
              "    <tr>\n",
              "      <th>1</th>\n",
              "      <td>0.24</td>\n",
              "      <td>0.23</td>\n",
              "      <td>0.22</td>\n",
              "      <td>0.31</td>\n",
              "      <td>0.27</td>\n",
              "      <td>0.35</td>\n",
              "      <td>0.38</td>\n",
              "      <td>0.38</td>\n",
              "      <td>0.40</td>\n",
              "      <td>0.51</td>\n",
              "      <td>0.40</td>\n",
              "      <td>0.43</td>\n",
              "      <td>7.05</td>\n",
              "      <td>0.28</td>\n",
              "      <td>0.42</td>\n",
              "      <td>0.40</td>\n",
              "    </tr>\n",
              "    <tr>\n",
              "      <th>2</th>\n",
              "      <td>0.31</td>\n",
              "      <td>0.23</td>\n",
              "      <td>0.26</td>\n",
              "      <td>0.32</td>\n",
              "      <td>0.35</td>\n",
              "      <td>0.36</td>\n",
              "      <td>0.38</td>\n",
              "      <td>0.41</td>\n",
              "      <td>0.42</td>\n",
              "      <td>0.56</td>\n",
              "      <td>0.54</td>\n",
              "      <td>0.53</td>\n",
              "      <td>8.28</td>\n",
              "      <td>0.22</td>\n",
              "      <td>0.33</td>\n",
              "      <td>0.24</td>\n",
              "    </tr>\n",
              "    <tr>\n",
              "      <th>3</th>\n",
              "      <td>0.44</td>\n",
              "      <td>0.29</td>\n",
              "      <td>0.25</td>\n",
              "      <td>0.43</td>\n",
              "      <td>0.35</td>\n",
              "      <td>0.26</td>\n",
              "      <td>0.22</td>\n",
              "      <td>0.24</td>\n",
              "      <td>0.23</td>\n",
              "      <td>0.29</td>\n",
              "      <td>0.52</td>\n",
              "      <td>0.58</td>\n",
              "      <td>8.32</td>\n",
              "      <td>0.18</td>\n",
              "      <td>0.27</td>\n",
              "      <td>0.31</td>\n",
              "    </tr>\n",
              "    <tr>\n",
              "      <th>4</th>\n",
              "      <td>0.40</td>\n",
              "      <td>0.35</td>\n",
              "      <td>0.30</td>\n",
              "      <td>0.44</td>\n",
              "      <td>0.37</td>\n",
              "      <td>0.38</td>\n",
              "      <td>0.38</td>\n",
              "      <td>0.36</td>\n",
              "      <td>0.42</td>\n",
              "      <td>0.37</td>\n",
              "      <td>0.41</td>\n",
              "      <td>0.45</td>\n",
              "      <td>7.76</td>\n",
              "      <td>0.09</td>\n",
              "      <td>0.13</td>\n",
              "      <td>0.48</td>\n",
              "    </tr>\n",
              "  </tbody>\n",
              "</table>\n",
              "</div>"
            ],
            "text/plain": [
              "    B1   B2   B3   B4   B5   B6   B7  ...   B9  B10  B11  ndmi  ndvi  savi  mndwi\n",
              "0 0.29 0.19 0.21 0.28 0.27 0.35 0.40  ... 0.53 0.39 0.44  6.51  0.36  0.55   0.37\n",
              "1 0.24 0.23 0.22 0.31 0.27 0.35 0.38  ... 0.51 0.40 0.43  7.05  0.28  0.42   0.40\n",
              "2 0.31 0.23 0.26 0.32 0.35 0.36 0.38  ... 0.56 0.54 0.53  8.28  0.22  0.33   0.24\n",
              "3 0.44 0.29 0.25 0.43 0.35 0.26 0.22  ... 0.29 0.52 0.58  8.32  0.18  0.27   0.31\n",
              "4 0.40 0.35 0.30 0.44 0.37 0.38 0.38  ... 0.37 0.41 0.45  7.76  0.09  0.13   0.48\n",
              "\n",
              "[5 rows x 16 columns]"
            ]
          },
          "execution_count": 61,
          "metadata": {
            "tags": []
          },
          "output_type": "execute_result"
        }
      ],
      "source": [
        "df_bands.head()"
      ]
    },
    {
      "cell_type": "code",
      "execution_count": 26,
      "metadata": {
        "id": "oVb9L3VBtxX4"
      },
      "outputs": [],
      "source": [
        "df_bands['soil_moisture'] = df[\"soil_moisture_depth_0.05\"]"
      ]
    },
    {
      "cell_type": "code",
      "execution_count": null,
      "metadata": {
        "colab": {
          "base_uri": "https://localhost:8080/"
        },
        "id": "kwjGInvNxJtU",
        "outputId": "9b72bcd4-c10a-4f0e-9d3c-d4556be0b07e"
      },
      "outputs": [
        {
          "name": "stdout",
          "output_type": "stream",
          "text": [
            "<class 'pandas.core.frame.DataFrame'>\n",
            "RangeIndex: 169 entries, 0 to 168\n",
            "Data columns (total 17 columns):\n",
            " #   Column         Non-Null Count  Dtype  \n",
            "---  ------         --------------  -----  \n",
            " 0   B1             169 non-null    float64\n",
            " 1   B2             169 non-null    float64\n",
            " 2   B3             169 non-null    float64\n",
            " 3   B4             169 non-null    float64\n",
            " 4   B5             169 non-null    float64\n",
            " 5   B6             169 non-null    float64\n",
            " 6   B7             169 non-null    float64\n",
            " 7   B8             169 non-null    float64\n",
            " 8   B8A            169 non-null    float64\n",
            " 9   B9             169 non-null    float64\n",
            " 10  B10            169 non-null    float64\n",
            " 11  B11            169 non-null    float64\n",
            " 12  ndmi           169 non-null    float64\n",
            " 13  ndvi           169 non-null    float64\n",
            " 14  savi           169 non-null    float64\n",
            " 15  mndwi          169 non-null    float64\n",
            " 16  soil_moisture  169 non-null    float64\n",
            "dtypes: float64(17)\n",
            "memory usage: 22.6 KB\n"
          ]
        }
      ],
      "source": [
        "df_bands.info()"
      ]
    },
    {
      "cell_type": "code",
      "execution_count": null,
      "metadata": {
        "colab": {
          "base_uri": "https://localhost:8080/",
          "height": 313
        },
        "id": "kIvVj_bquQqV",
        "outputId": "87973c5e-ca7f-45cd-bbb9-31243cb43a2d"
      },
      "outputs": [
        {
          "data": {
            "text/html": [
              "<div>\n",
              "<style scoped>\n",
              "    .dataframe tbody tr th:only-of-type {\n",
              "        vertical-align: middle;\n",
              "    }\n",
              "\n",
              "    .dataframe tbody tr th {\n",
              "        vertical-align: top;\n",
              "    }\n",
              "\n",
              "    .dataframe thead th {\n",
              "        text-align: right;\n",
              "    }\n",
              "</style>\n",
              "<table border=\"1\" class=\"dataframe\">\n",
              "  <thead>\n",
              "    <tr style=\"text-align: right;\">\n",
              "      <th></th>\n",
              "      <th>B1</th>\n",
              "      <th>B2</th>\n",
              "      <th>B3</th>\n",
              "      <th>B4</th>\n",
              "      <th>B5</th>\n",
              "      <th>B6</th>\n",
              "      <th>B7</th>\n",
              "      <th>B8</th>\n",
              "      <th>B8A</th>\n",
              "      <th>B9</th>\n",
              "      <th>B10</th>\n",
              "      <th>B11</th>\n",
              "      <th>ndmi</th>\n",
              "      <th>ndvi</th>\n",
              "      <th>savi</th>\n",
              "      <th>mndwi</th>\n",
              "      <th>soil_moisture</th>\n",
              "    </tr>\n",
              "  </thead>\n",
              "  <tbody>\n",
              "    <tr>\n",
              "      <th>count</th>\n",
              "      <td>169.000000</td>\n",
              "      <td>169.000000</td>\n",
              "      <td>169.000000</td>\n",
              "      <td>169.000000</td>\n",
              "      <td>169.000000</td>\n",
              "      <td>169.000000</td>\n",
              "      <td>169.000000</td>\n",
              "      <td>169.000000</td>\n",
              "      <td>169.000000</td>\n",
              "      <td>169.000000</td>\n",
              "      <td>169.000000</td>\n",
              "      <td>169.000000</td>\n",
              "      <td>169.000000</td>\n",
              "      <td>169.000000</td>\n",
              "      <td>169.000000</td>\n",
              "      <td>169.000000</td>\n",
              "      <td>169.000000</td>\n",
              "    </tr>\n",
              "    <tr>\n",
              "      <th>mean</th>\n",
              "      <td>0.363538</td>\n",
              "      <td>0.289854</td>\n",
              "      <td>0.307451</td>\n",
              "      <td>0.363138</td>\n",
              "      <td>0.370084</td>\n",
              "      <td>0.391633</td>\n",
              "      <td>0.406083</td>\n",
              "      <td>0.403277</td>\n",
              "      <td>0.422102</td>\n",
              "      <td>0.458841</td>\n",
              "      <td>0.491053</td>\n",
              "      <td>0.474000</td>\n",
              "      <td>7.986945</td>\n",
              "      <td>0.310643</td>\n",
              "      <td>0.465920</td>\n",
              "      <td>0.303123</td>\n",
              "      <td>0.194497</td>\n",
              "    </tr>\n",
              "    <tr>\n",
              "      <th>std</th>\n",
              "      <td>0.105235</td>\n",
              "      <td>0.099629</td>\n",
              "      <td>0.094567</td>\n",
              "      <td>0.100463</td>\n",
              "      <td>0.096198</td>\n",
              "      <td>0.079254</td>\n",
              "      <td>0.079755</td>\n",
              "      <td>0.077626</td>\n",
              "      <td>0.078993</td>\n",
              "      <td>0.084755</td>\n",
              "      <td>0.107840</td>\n",
              "      <td>0.099612</td>\n",
              "      <td>3.550404</td>\n",
              "      <td>0.391836</td>\n",
              "      <td>0.587729</td>\n",
              "      <td>0.144034</td>\n",
              "      <td>0.075803</td>\n",
              "    </tr>\n",
              "    <tr>\n",
              "      <th>min</th>\n",
              "      <td>0.090712</td>\n",
              "      <td>0.124272</td>\n",
              "      <td>0.154271</td>\n",
              "      <td>0.168255</td>\n",
              "      <td>0.195582</td>\n",
              "      <td>0.251808</td>\n",
              "      <td>0.219970</td>\n",
              "      <td>0.239281</td>\n",
              "      <td>0.232008</td>\n",
              "      <td>0.233180</td>\n",
              "      <td>0.289871</td>\n",
              "      <td>0.244044</td>\n",
              "      <td>0.100317</td>\n",
              "      <td>0.038461</td>\n",
              "      <td>0.057689</td>\n",
              "      <td>0.017775</td>\n",
              "      <td>0.090000</td>\n",
              "    </tr>\n",
              "    <tr>\n",
              "      <th>25%</th>\n",
              "      <td>0.292281</td>\n",
              "      <td>0.214696</td>\n",
              "      <td>0.228207</td>\n",
              "      <td>0.272604</td>\n",
              "      <td>0.275271</td>\n",
              "      <td>0.331541</td>\n",
              "      <td>0.355375</td>\n",
              "      <td>0.343737</td>\n",
              "      <td>0.369539</td>\n",
              "      <td>0.408752</td>\n",
              "      <td>0.405769</td>\n",
              "      <td>0.399919</td>\n",
              "      <td>6.309197</td>\n",
              "      <td>0.147572</td>\n",
              "      <td>0.221334</td>\n",
              "      <td>0.173808</td>\n",
              "      <td>0.135000</td>\n",
              "    </tr>\n",
              "    <tr>\n",
              "      <th>50%</th>\n",
              "      <td>0.365877</td>\n",
              "      <td>0.281173</td>\n",
              "      <td>0.297920</td>\n",
              "      <td>0.352340</td>\n",
              "      <td>0.359778</td>\n",
              "      <td>0.383881</td>\n",
              "      <td>0.404939</td>\n",
              "      <td>0.396740</td>\n",
              "      <td>0.422334</td>\n",
              "      <td>0.465771</td>\n",
              "      <td>0.480319</td>\n",
              "      <td>0.467511</td>\n",
              "      <td>8.200265</td>\n",
              "      <td>0.199597</td>\n",
              "      <td>0.299367</td>\n",
              "      <td>0.305356</td>\n",
              "      <td>0.192000</td>\n",
              "    </tr>\n",
              "    <tr>\n",
              "      <th>75%</th>\n",
              "      <td>0.432944</td>\n",
              "      <td>0.319826</td>\n",
              "      <td>0.345895</td>\n",
              "      <td>0.440771</td>\n",
              "      <td>0.439667</td>\n",
              "      <td>0.442956</td>\n",
              "      <td>0.463699</td>\n",
              "      <td>0.454318</td>\n",
              "      <td>0.480589</td>\n",
              "      <td>0.511832</td>\n",
              "      <td>0.571512</td>\n",
              "      <td>0.564643</td>\n",
              "      <td>9.693261</td>\n",
              "      <td>0.335832</td>\n",
              "      <td>0.503697</td>\n",
              "      <td>0.392437</td>\n",
              "      <td>0.235000</td>\n",
              "    </tr>\n",
              "    <tr>\n",
              "      <th>max</th>\n",
              "      <td>0.655022</td>\n",
              "      <td>0.650449</td>\n",
              "      <td>0.635402</td>\n",
              "      <td>0.633443</td>\n",
              "      <td>0.638579</td>\n",
              "      <td>0.647961</td>\n",
              "      <td>0.647582</td>\n",
              "      <td>0.612454</td>\n",
              "      <td>0.632681</td>\n",
              "      <td>0.680377</td>\n",
              "      <td>0.730756</td>\n",
              "      <td>0.715309</td>\n",
              "      <td>17.358795</td>\n",
              "      <td>2.812481</td>\n",
              "      <td>4.218595</td>\n",
              "      <td>0.708905</td>\n",
              "      <td>0.502000</td>\n",
              "    </tr>\n",
              "  </tbody>\n",
              "</table>\n",
              "</div>"
            ],
            "text/plain": [
              "               B1          B2  ...       mndwi  soil_moisture\n",
              "count  169.000000  169.000000  ...  169.000000     169.000000\n",
              "mean     0.363538    0.289854  ...    0.303123       0.194497\n",
              "std      0.105235    0.099629  ...    0.144034       0.075803\n",
              "min      0.090712    0.124272  ...    0.017775       0.090000\n",
              "25%      0.292281    0.214696  ...    0.173808       0.135000\n",
              "50%      0.365877    0.281173  ...    0.305356       0.192000\n",
              "75%      0.432944    0.319826  ...    0.392437       0.235000\n",
              "max      0.655022    0.650449  ...    0.708905       0.502000\n",
              "\n",
              "[8 rows x 17 columns]"
            ]
          },
          "execution_count": 17,
          "metadata": {
            "tags": []
          },
          "output_type": "execute_result"
        }
      ],
      "source": [
        "df_bands.describe()"
      ]
    },
    {
      "cell_type": "code",
      "execution_count": 73,
      "metadata": {
        "colab": {
          "base_uri": "https://localhost:8080/",
          "height": 576
        },
        "id": "yTdzF7XMS9MD",
        "outputId": "f1cf0110-7ea2-40a8-8e6f-41212031f92e"
      },
      "outputs": [
        {
          "data": {
            "text/html": [
              "<div>\n",
              "<style scoped>\n",
              "    .dataframe tbody tr th:only-of-type {\n",
              "        vertical-align: middle;\n",
              "    }\n",
              "\n",
              "    .dataframe tbody tr th {\n",
              "        vertical-align: top;\n",
              "    }\n",
              "\n",
              "    .dataframe thead th {\n",
              "        text-align: right;\n",
              "    }\n",
              "</style>\n",
              "<table border=\"1\" class=\"dataframe\">\n",
              "  <thead>\n",
              "    <tr style=\"text-align: right;\">\n",
              "      <th></th>\n",
              "      <th>B1</th>\n",
              "      <th>B2</th>\n",
              "      <th>B3</th>\n",
              "      <th>B4</th>\n",
              "      <th>B5</th>\n",
              "      <th>B6</th>\n",
              "      <th>B7</th>\n",
              "      <th>B8</th>\n",
              "      <th>B8A</th>\n",
              "      <th>B9</th>\n",
              "      <th>B10</th>\n",
              "      <th>B11</th>\n",
              "      <th>ndmi</th>\n",
              "      <th>ndvi</th>\n",
              "      <th>savi</th>\n",
              "      <th>mndwi</th>\n",
              "    </tr>\n",
              "  </thead>\n",
              "  <tbody>\n",
              "    <tr>\n",
              "      <th>B1</th>\n",
              "      <td>1.00</td>\n",
              "      <td>0.77</td>\n",
              "      <td>0.72</td>\n",
              "      <td>0.68</td>\n",
              "      <td>0.67</td>\n",
              "      <td>0.44</td>\n",
              "      <td>0.33</td>\n",
              "      <td>0.30</td>\n",
              "      <td>0.27</td>\n",
              "      <td>0.43</td>\n",
              "      <td>0.47</td>\n",
              "      <td>0.59</td>\n",
              "      <td>-0.25</td>\n",
              "      <td>0.17</td>\n",
              "      <td>0.17</td>\n",
              "      <td>-0.17</td>\n",
              "    </tr>\n",
              "    <tr>\n",
              "      <th>B2</th>\n",
              "      <td>0.77</td>\n",
              "      <td>1.00</td>\n",
              "      <td>0.98</td>\n",
              "      <td>0.88</td>\n",
              "      <td>0.86</td>\n",
              "      <td>0.69</td>\n",
              "      <td>0.58</td>\n",
              "      <td>0.58</td>\n",
              "      <td>0.51</td>\n",
              "      <td>0.44</td>\n",
              "      <td>0.52</td>\n",
              "      <td>0.59</td>\n",
              "      <td>-0.45</td>\n",
              "      <td>0.28</td>\n",
              "      <td>0.28</td>\n",
              "      <td>-0.21</td>\n",
              "    </tr>\n",
              "    <tr>\n",
              "      <th>B3</th>\n",
              "      <td>0.72</td>\n",
              "      <td>0.98</td>\n",
              "      <td>1.00</td>\n",
              "      <td>0.89</td>\n",
              "      <td>0.92</td>\n",
              "      <td>0.76</td>\n",
              "      <td>0.66</td>\n",
              "      <td>0.66</td>\n",
              "      <td>0.60</td>\n",
              "      <td>0.48</td>\n",
              "      <td>0.57</td>\n",
              "      <td>0.59</td>\n",
              "      <td>-0.43</td>\n",
              "      <td>0.27</td>\n",
              "      <td>0.27</td>\n",
              "      <td>-0.26</td>\n",
              "    </tr>\n",
              "    <tr>\n",
              "      <th>B4</th>\n",
              "      <td>0.68</td>\n",
              "      <td>0.88</td>\n",
              "      <td>0.89</td>\n",
              "      <td>1.00</td>\n",
              "      <td>0.95</td>\n",
              "      <td>0.66</td>\n",
              "      <td>0.56</td>\n",
              "      <td>0.59</td>\n",
              "      <td>0.54</td>\n",
              "      <td>0.38</td>\n",
              "      <td>0.79</td>\n",
              "      <td>0.80</td>\n",
              "      <td>-0.33</td>\n",
              "      <td>0.11</td>\n",
              "      <td>0.11</td>\n",
              "      <td>-0.37</td>\n",
              "    </tr>\n",
              "    <tr>\n",
              "      <th>B5</th>\n",
              "      <td>0.67</td>\n",
              "      <td>0.86</td>\n",
              "      <td>0.92</td>\n",
              "      <td>0.95</td>\n",
              "      <td>1.00</td>\n",
              "      <td>0.77</td>\n",
              "      <td>0.69</td>\n",
              "      <td>0.69</td>\n",
              "      <td>0.67</td>\n",
              "      <td>0.49</td>\n",
              "      <td>0.78</td>\n",
              "      <td>0.73</td>\n",
              "      <td>-0.31</td>\n",
              "      <td>0.15</td>\n",
              "      <td>0.15</td>\n",
              "      <td>-0.43</td>\n",
              "    </tr>\n",
              "    <tr>\n",
              "      <th>B6</th>\n",
              "      <td>0.44</td>\n",
              "      <td>0.69</td>\n",
              "      <td>0.76</td>\n",
              "      <td>0.66</td>\n",
              "      <td>0.77</td>\n",
              "      <td>1.00</td>\n",
              "      <td>0.97</td>\n",
              "      <td>0.94</td>\n",
              "      <td>0.93</td>\n",
              "      <td>0.67</td>\n",
              "      <td>0.47</td>\n",
              "      <td>0.38</td>\n",
              "      <td>-0.52</td>\n",
              "      <td>0.27</td>\n",
              "      <td>0.27</td>\n",
              "      <td>-0.26</td>\n",
              "    </tr>\n",
              "    <tr>\n",
              "      <th>B7</th>\n",
              "      <td>0.33</td>\n",
              "      <td>0.58</td>\n",
              "      <td>0.66</td>\n",
              "      <td>0.56</td>\n",
              "      <td>0.69</td>\n",
              "      <td>0.97</td>\n",
              "      <td>1.00</td>\n",
              "      <td>0.97</td>\n",
              "      <td>0.98</td>\n",
              "      <td>0.71</td>\n",
              "      <td>0.42</td>\n",
              "      <td>0.31</td>\n",
              "      <td>-0.54</td>\n",
              "      <td>0.24</td>\n",
              "      <td>0.24</td>\n",
              "      <td>-0.25</td>\n",
              "    </tr>\n",
              "    <tr>\n",
              "      <th>B8</th>\n",
              "      <td>0.30</td>\n",
              "      <td>0.58</td>\n",
              "      <td>0.66</td>\n",
              "      <td>0.59</td>\n",
              "      <td>0.69</td>\n",
              "      <td>0.94</td>\n",
              "      <td>0.97</td>\n",
              "      <td>1.00</td>\n",
              "      <td>0.97</td>\n",
              "      <td>0.70</td>\n",
              "      <td>0.46</td>\n",
              "      <td>0.34</td>\n",
              "      <td>-0.55</td>\n",
              "      <td>0.24</td>\n",
              "      <td>0.24</td>\n",
              "      <td>-0.28</td>\n",
              "    </tr>\n",
              "    <tr>\n",
              "      <th>B8A</th>\n",
              "      <td>0.27</td>\n",
              "      <td>0.51</td>\n",
              "      <td>0.60</td>\n",
              "      <td>0.54</td>\n",
              "      <td>0.67</td>\n",
              "      <td>0.93</td>\n",
              "      <td>0.98</td>\n",
              "      <td>0.97</td>\n",
              "      <td>1.00</td>\n",
              "      <td>0.72</td>\n",
              "      <td>0.44</td>\n",
              "      <td>0.31</td>\n",
              "      <td>-0.49</td>\n",
              "      <td>0.21</td>\n",
              "      <td>0.21</td>\n",
              "      <td>-0.29</td>\n",
              "    </tr>\n",
              "    <tr>\n",
              "      <th>B9</th>\n",
              "      <td>0.43</td>\n",
              "      <td>0.44</td>\n",
              "      <td>0.48</td>\n",
              "      <td>0.38</td>\n",
              "      <td>0.49</td>\n",
              "      <td>0.67</td>\n",
              "      <td>0.71</td>\n",
              "      <td>0.70</td>\n",
              "      <td>0.72</td>\n",
              "      <td>1.00</td>\n",
              "      <td>0.32</td>\n",
              "      <td>0.26</td>\n",
              "      <td>-0.35</td>\n",
              "      <td>0.22</td>\n",
              "      <td>0.22</td>\n",
              "      <td>-0.23</td>\n",
              "    </tr>\n",
              "    <tr>\n",
              "      <th>B10</th>\n",
              "      <td>0.47</td>\n",
              "      <td>0.52</td>\n",
              "      <td>0.57</td>\n",
              "      <td>0.79</td>\n",
              "      <td>0.78</td>\n",
              "      <td>0.47</td>\n",
              "      <td>0.42</td>\n",
              "      <td>0.46</td>\n",
              "      <td>0.44</td>\n",
              "      <td>0.32</td>\n",
              "      <td>1.00</td>\n",
              "      <td>0.91</td>\n",
              "      <td>-0.03</td>\n",
              "      <td>-0.07</td>\n",
              "      <td>-0.07</td>\n",
              "      <td>-0.63</td>\n",
              "    </tr>\n",
              "    <tr>\n",
              "      <th>B11</th>\n",
              "      <td>0.59</td>\n",
              "      <td>0.59</td>\n",
              "      <td>0.59</td>\n",
              "      <td>0.80</td>\n",
              "      <td>0.73</td>\n",
              "      <td>0.38</td>\n",
              "      <td>0.31</td>\n",
              "      <td>0.34</td>\n",
              "      <td>0.31</td>\n",
              "      <td>0.26</td>\n",
              "      <td>0.91</td>\n",
              "      <td>1.00</td>\n",
              "      <td>-0.11</td>\n",
              "      <td>-0.03</td>\n",
              "      <td>-0.03</td>\n",
              "      <td>-0.52</td>\n",
              "    </tr>\n",
              "    <tr>\n",
              "      <th>ndmi</th>\n",
              "      <td>-0.25</td>\n",
              "      <td>-0.45</td>\n",
              "      <td>-0.43</td>\n",
              "      <td>-0.33</td>\n",
              "      <td>-0.31</td>\n",
              "      <td>-0.52</td>\n",
              "      <td>-0.54</td>\n",
              "      <td>-0.55</td>\n",
              "      <td>-0.49</td>\n",
              "      <td>-0.35</td>\n",
              "      <td>-0.03</td>\n",
              "      <td>-0.11</td>\n",
              "      <td>1.00</td>\n",
              "      <td>-0.45</td>\n",
              "      <td>-0.45</td>\n",
              "      <td>-0.05</td>\n",
              "    </tr>\n",
              "    <tr>\n",
              "      <th>ndvi</th>\n",
              "      <td>0.17</td>\n",
              "      <td>0.28</td>\n",
              "      <td>0.27</td>\n",
              "      <td>0.11</td>\n",
              "      <td>0.15</td>\n",
              "      <td>0.27</td>\n",
              "      <td>0.24</td>\n",
              "      <td>0.24</td>\n",
              "      <td>0.21</td>\n",
              "      <td>0.22</td>\n",
              "      <td>-0.07</td>\n",
              "      <td>-0.03</td>\n",
              "      <td>-0.45</td>\n",
              "      <td>1.00</td>\n",
              "      <td>1.00</td>\n",
              "      <td>-0.10</td>\n",
              "    </tr>\n",
              "    <tr>\n",
              "      <th>savi</th>\n",
              "      <td>0.17</td>\n",
              "      <td>0.28</td>\n",
              "      <td>0.27</td>\n",
              "      <td>0.11</td>\n",
              "      <td>0.15</td>\n",
              "      <td>0.27</td>\n",
              "      <td>0.24</td>\n",
              "      <td>0.24</td>\n",
              "      <td>0.21</td>\n",
              "      <td>0.22</td>\n",
              "      <td>-0.07</td>\n",
              "      <td>-0.03</td>\n",
              "      <td>-0.45</td>\n",
              "      <td>1.00</td>\n",
              "      <td>1.00</td>\n",
              "      <td>-0.10</td>\n",
              "    </tr>\n",
              "    <tr>\n",
              "      <th>mndwi</th>\n",
              "      <td>-0.17</td>\n",
              "      <td>-0.21</td>\n",
              "      <td>-0.26</td>\n",
              "      <td>-0.37</td>\n",
              "      <td>-0.43</td>\n",
              "      <td>-0.26</td>\n",
              "      <td>-0.25</td>\n",
              "      <td>-0.28</td>\n",
              "      <td>-0.29</td>\n",
              "      <td>-0.23</td>\n",
              "      <td>-0.63</td>\n",
              "      <td>-0.52</td>\n",
              "      <td>-0.05</td>\n",
              "      <td>-0.10</td>\n",
              "      <td>-0.10</td>\n",
              "      <td>1.00</td>\n",
              "    </tr>\n",
              "  </tbody>\n",
              "</table>\n",
              "</div>"
            ],
            "text/plain": [
              "         B1    B2    B3    B4    B5    B6  ...   B10   B11  ndmi  ndvi  savi  mndwi\n",
              "B1     1.00  0.77  0.72  0.68  0.67  0.44  ...  0.47  0.59 -0.25  0.17  0.17  -0.17\n",
              "B2     0.77  1.00  0.98  0.88  0.86  0.69  ...  0.52  0.59 -0.45  0.28  0.28  -0.21\n",
              "B3     0.72  0.98  1.00  0.89  0.92  0.76  ...  0.57  0.59 -0.43  0.27  0.27  -0.26\n",
              "B4     0.68  0.88  0.89  1.00  0.95  0.66  ...  0.79  0.80 -0.33  0.11  0.11  -0.37\n",
              "B5     0.67  0.86  0.92  0.95  1.00  0.77  ...  0.78  0.73 -0.31  0.15  0.15  -0.43\n",
              "B6     0.44  0.69  0.76  0.66  0.77  1.00  ...  0.47  0.38 -0.52  0.27  0.27  -0.26\n",
              "B7     0.33  0.58  0.66  0.56  0.69  0.97  ...  0.42  0.31 -0.54  0.24  0.24  -0.25\n",
              "B8     0.30  0.58  0.66  0.59  0.69  0.94  ...  0.46  0.34 -0.55  0.24  0.24  -0.28\n",
              "B8A    0.27  0.51  0.60  0.54  0.67  0.93  ...  0.44  0.31 -0.49  0.21  0.21  -0.29\n",
              "B9     0.43  0.44  0.48  0.38  0.49  0.67  ...  0.32  0.26 -0.35  0.22  0.22  -0.23\n",
              "B10    0.47  0.52  0.57  0.79  0.78  0.47  ...  1.00  0.91 -0.03 -0.07 -0.07  -0.63\n",
              "B11    0.59  0.59  0.59  0.80  0.73  0.38  ...  0.91  1.00 -0.11 -0.03 -0.03  -0.52\n",
              "ndmi  -0.25 -0.45 -0.43 -0.33 -0.31 -0.52  ... -0.03 -0.11  1.00 -0.45 -0.45  -0.05\n",
              "ndvi   0.17  0.28  0.27  0.11  0.15  0.27  ... -0.07 -0.03 -0.45  1.00  1.00  -0.10\n",
              "savi   0.17  0.28  0.27  0.11  0.15  0.27  ... -0.07 -0.03 -0.45  1.00  1.00  -0.10\n",
              "mndwi -0.17 -0.21 -0.26 -0.37 -0.43 -0.26  ... -0.63 -0.52 -0.05 -0.10 -0.10   1.00\n",
              "\n",
              "[16 rows x 16 columns]"
            ]
          },
          "execution_count": 73,
          "metadata": {
            "tags": []
          },
          "output_type": "execute_result"
        }
      ],
      "source": [
        "df_bands.corr()"
      ]
    },
    {
      "cell_type": "code",
      "execution_count": null,
      "metadata": {
        "id": "ncK_HLUtUYJu"
      },
      "outputs": [],
      "source": [
        "import os\n",
        "List_images = []\n",
        "L = 0.5\n",
        "directory = r'/content/drive/MyDrive/Senti_Images-2017to2020_Area1'\n",
        "for filename in os.listdir(directory):\n",
        "    if filename.endswith(\"UL.tif\") :\n",
        "        image = tif_to_matrix(os.path.join(directory, filename))\n",
        "        list_bands=[]\n",
        "        for i in range (12) :\n",
        "          if i==3 or i==4 or i ==11 or i == 10: \n",
        "            band = normalize(image[i])\n",
        "            list_bands.append(band.mean())\n",
        "        ndmi = es.normalized_diff(image[7], image[10])\n",
        "        ndvi = es.normalized_diff(image[7], image[3])\n",
        "        savi = ((image[7] - image[3]) / (image[7] + image[3] + L)) * (1 + L)\n",
        "        mndwi = es.normalized_diff(image[2], image[10])\n",
        "        list_bands.append(ndvi.mean())\n",
        "        list_bands.append(savi.mean())\n",
        "        list_bands.append(mndwi.mean())\n",
        "        List_images.append(list_bands)"
      ]
    },
    {
      "cell_type": "code",
      "execution_count": null,
      "metadata": {
        "id": "LLKl8mM1U5_2"
      },
      "outputs": [],
      "source": [
        "List_images = np.array(List_images)"
      ]
    },
    {
      "cell_type": "code",
      "execution_count": null,
      "metadata": {
        "id": "Yx-XL2-iU9Sb"
      },
      "outputs": [],
      "source": [
        "df_5_bands = pd.DataFrame(List_images,columns=['B4','B5','B10','B11','ndvi','savi','mndwi'])"
      ]
    },
    {
      "cell_type": "code",
      "execution_count": null,
      "metadata": {
        "id": "6vS9tdhCV4EX"
      },
      "outputs": [],
      "source": [
        "df_5_bands['soil_moisture'] = df[\"soil_moisture_depth_0.05\"]"
      ]
    },
    {
      "cell_type": "code",
      "execution_count": null,
      "metadata": {
        "colab": {
          "base_uri": "https://localhost:8080/",
          "height": 323
        },
        "id": "DsqhY741V6Ta",
        "outputId": "9e2a2407-6769-490d-a845-6d85cd764ff5"
      },
      "outputs": [
        {
          "data": {
            "text/html": [
              "<div>\n",
              "<style scoped>\n",
              "    .dataframe tbody tr th:only-of-type {\n",
              "        vertical-align: middle;\n",
              "    }\n",
              "\n",
              "    .dataframe tbody tr th {\n",
              "        vertical-align: top;\n",
              "    }\n",
              "\n",
              "    .dataframe thead th {\n",
              "        text-align: right;\n",
              "    }\n",
              "</style>\n",
              "<table border=\"1\" class=\"dataframe\">\n",
              "  <thead>\n",
              "    <tr style=\"text-align: right;\">\n",
              "      <th></th>\n",
              "      <th>B1</th>\n",
              "      <th>B2</th>\n",
              "      <th>B4</th>\n",
              "      <th>B8</th>\n",
              "      <th>B10</th>\n",
              "      <th>ndmi</th>\n",
              "      <th>ndvi</th>\n",
              "      <th>savi</th>\n",
              "      <th>soil_moisture</th>\n",
              "    </tr>\n",
              "  </thead>\n",
              "  <tbody>\n",
              "    <tr>\n",
              "      <th>B1</th>\n",
              "      <td>1.000000</td>\n",
              "      <td>0.774352</td>\n",
              "      <td>0.683294</td>\n",
              "      <td>0.295461</td>\n",
              "      <td>0.474341</td>\n",
              "      <td>-0.245458</td>\n",
              "      <td>0.174858</td>\n",
              "      <td>0.174874</td>\n",
              "      <td>0.000297</td>\n",
              "    </tr>\n",
              "    <tr>\n",
              "      <th>B2</th>\n",
              "      <td>0.774352</td>\n",
              "      <td>1.000000</td>\n",
              "      <td>0.875965</td>\n",
              "      <td>0.579845</td>\n",
              "      <td>0.524502</td>\n",
              "      <td>-0.454406</td>\n",
              "      <td>0.281908</td>\n",
              "      <td>0.281928</td>\n",
              "      <td>-0.036750</td>\n",
              "    </tr>\n",
              "    <tr>\n",
              "      <th>B4</th>\n",
              "      <td>0.683294</td>\n",
              "      <td>0.875965</td>\n",
              "      <td>1.000000</td>\n",
              "      <td>0.588068</td>\n",
              "      <td>0.793035</td>\n",
              "      <td>-0.327065</td>\n",
              "      <td>0.110745</td>\n",
              "      <td>0.110766</td>\n",
              "      <td>-0.284337</td>\n",
              "    </tr>\n",
              "    <tr>\n",
              "      <th>B8</th>\n",
              "      <td>0.295461</td>\n",
              "      <td>0.579845</td>\n",
              "      <td>0.588068</td>\n",
              "      <td>1.000000</td>\n",
              "      <td>0.459356</td>\n",
              "      <td>-0.553286</td>\n",
              "      <td>0.240222</td>\n",
              "      <td>0.240229</td>\n",
              "      <td>-0.122135</td>\n",
              "    </tr>\n",
              "    <tr>\n",
              "      <th>B10</th>\n",
              "      <td>0.474341</td>\n",
              "      <td>0.524502</td>\n",
              "      <td>0.793035</td>\n",
              "      <td>0.459356</td>\n",
              "      <td>1.000000</td>\n",
              "      <td>-0.031460</td>\n",
              "      <td>-0.074007</td>\n",
              "      <td>-0.073994</td>\n",
              "      <td>-0.372533</td>\n",
              "    </tr>\n",
              "    <tr>\n",
              "      <th>ndmi</th>\n",
              "      <td>-0.245458</td>\n",
              "      <td>-0.454406</td>\n",
              "      <td>-0.327065</td>\n",
              "      <td>-0.553286</td>\n",
              "      <td>-0.031460</td>\n",
              "      <td>1.000000</td>\n",
              "      <td>-0.452421</td>\n",
              "      <td>-0.452431</td>\n",
              "      <td>0.028500</td>\n",
              "    </tr>\n",
              "    <tr>\n",
              "      <th>ndvi</th>\n",
              "      <td>0.174858</td>\n",
              "      <td>0.281908</td>\n",
              "      <td>0.110745</td>\n",
              "      <td>0.240222</td>\n",
              "      <td>-0.074007</td>\n",
              "      <td>-0.452421</td>\n",
              "      <td>1.000000</td>\n",
              "      <td>1.000000</td>\n",
              "      <td>0.172052</td>\n",
              "    </tr>\n",
              "    <tr>\n",
              "      <th>savi</th>\n",
              "      <td>0.174874</td>\n",
              "      <td>0.281928</td>\n",
              "      <td>0.110766</td>\n",
              "      <td>0.240229</td>\n",
              "      <td>-0.073994</td>\n",
              "      <td>-0.452431</td>\n",
              "      <td>1.000000</td>\n",
              "      <td>1.000000</td>\n",
              "      <td>0.172043</td>\n",
              "    </tr>\n",
              "    <tr>\n",
              "      <th>soil_moisture</th>\n",
              "      <td>0.000297</td>\n",
              "      <td>-0.036750</td>\n",
              "      <td>-0.284337</td>\n",
              "      <td>-0.122135</td>\n",
              "      <td>-0.372533</td>\n",
              "      <td>0.028500</td>\n",
              "      <td>0.172052</td>\n",
              "      <td>0.172043</td>\n",
              "      <td>1.000000</td>\n",
              "    </tr>\n",
              "  </tbody>\n",
              "</table>\n",
              "</div>"
            ],
            "text/plain": [
              "                     B1        B2        B4  ...      ndvi      savi  soil_moisture\n",
              "B1             1.000000  0.774352  0.683294  ...  0.174858  0.174874       0.000297\n",
              "B2             0.774352  1.000000  0.875965  ...  0.281908  0.281928      -0.036750\n",
              "B4             0.683294  0.875965  1.000000  ...  0.110745  0.110766      -0.284337\n",
              "B8             0.295461  0.579845  0.588068  ...  0.240222  0.240229      -0.122135\n",
              "B10            0.474341  0.524502  0.793035  ... -0.074007 -0.073994      -0.372533\n",
              "ndmi          -0.245458 -0.454406 -0.327065  ... -0.452421 -0.452431       0.028500\n",
              "ndvi           0.174858  0.281908  0.110745  ...  1.000000  1.000000       0.172052\n",
              "savi           0.174874  0.281928  0.110766  ...  1.000000  1.000000       0.172043\n",
              "soil_moisture  0.000297 -0.036750 -0.284337  ...  0.172052  0.172043       1.000000\n",
              "\n",
              "[9 rows x 9 columns]"
            ]
          },
          "execution_count": 221,
          "metadata": {
            "tags": []
          },
          "output_type": "execute_result"
        }
      ],
      "source": [
        "df_4_bands.corr()"
      ]
    },
    {
      "cell_type": "code",
      "execution_count": null,
      "metadata": {
        "colab": {
          "base_uri": "https://localhost:8080/",
          "height": 313
        },
        "id": "A9I_FnQBUnNX",
        "outputId": "71cab80b-3b75-4add-ddc0-369f07d31ee0"
      },
      "outputs": [
        {
          "data": {
            "text/html": [
              "<div>\n",
              "<style scoped>\n",
              "    .dataframe tbody tr th:only-of-type {\n",
              "        vertical-align: middle;\n",
              "    }\n",
              "\n",
              "    .dataframe tbody tr th {\n",
              "        vertical-align: top;\n",
              "    }\n",
              "\n",
              "    .dataframe thead th {\n",
              "        text-align: right;\n",
              "    }\n",
              "</style>\n",
              "<table border=\"1\" class=\"dataframe\">\n",
              "  <thead>\n",
              "    <tr style=\"text-align: right;\">\n",
              "      <th></th>\n",
              "      <th>B4</th>\n",
              "      <th>B5</th>\n",
              "      <th>B10</th>\n",
              "      <th>B11</th>\n",
              "      <th>ndvi</th>\n",
              "      <th>savi</th>\n",
              "      <th>mndwi</th>\n",
              "      <th>soil_moisture</th>\n",
              "    </tr>\n",
              "  </thead>\n",
              "  <tbody>\n",
              "    <tr>\n",
              "      <th>B4</th>\n",
              "      <td>1.000000</td>\n",
              "      <td>0.950794</td>\n",
              "      <td>0.793035</td>\n",
              "      <td>0.797771</td>\n",
              "      <td>0.110745</td>\n",
              "      <td>0.110766</td>\n",
              "      <td>-0.663182</td>\n",
              "      <td>-0.284337</td>\n",
              "    </tr>\n",
              "    <tr>\n",
              "      <th>B5</th>\n",
              "      <td>0.950794</td>\n",
              "      <td>1.000000</td>\n",
              "      <td>0.778894</td>\n",
              "      <td>0.732059</td>\n",
              "      <td>0.150424</td>\n",
              "      <td>0.150441</td>\n",
              "      <td>-0.606711</td>\n",
              "      <td>-0.190049</td>\n",
              "    </tr>\n",
              "    <tr>\n",
              "      <th>B10</th>\n",
              "      <td>0.793035</td>\n",
              "      <td>0.778894</td>\n",
              "      <td>1.000000</td>\n",
              "      <td>0.914505</td>\n",
              "      <td>-0.074007</td>\n",
              "      <td>-0.073994</td>\n",
              "      <td>-0.391505</td>\n",
              "      <td>-0.372533</td>\n",
              "    </tr>\n",
              "    <tr>\n",
              "      <th>B11</th>\n",
              "      <td>0.797771</td>\n",
              "      <td>0.732059</td>\n",
              "      <td>0.914505</td>\n",
              "      <td>1.000000</td>\n",
              "      <td>-0.032902</td>\n",
              "      <td>-0.032885</td>\n",
              "      <td>-0.477063</td>\n",
              "      <td>-0.387460</td>\n",
              "    </tr>\n",
              "    <tr>\n",
              "      <th>ndvi</th>\n",
              "      <td>0.110745</td>\n",
              "      <td>0.150424</td>\n",
              "      <td>-0.074007</td>\n",
              "      <td>-0.032902</td>\n",
              "      <td>1.000000</td>\n",
              "      <td>1.000000</td>\n",
              "      <td>-0.347480</td>\n",
              "      <td>0.172052</td>\n",
              "    </tr>\n",
              "    <tr>\n",
              "      <th>savi</th>\n",
              "      <td>0.110766</td>\n",
              "      <td>0.150441</td>\n",
              "      <td>-0.073994</td>\n",
              "      <td>-0.032885</td>\n",
              "      <td>1.000000</td>\n",
              "      <td>1.000000</td>\n",
              "      <td>-0.347502</td>\n",
              "      <td>0.172043</td>\n",
              "    </tr>\n",
              "    <tr>\n",
              "      <th>mndwi</th>\n",
              "      <td>-0.663182</td>\n",
              "      <td>-0.606711</td>\n",
              "      <td>-0.391505</td>\n",
              "      <td>-0.477063</td>\n",
              "      <td>-0.347480</td>\n",
              "      <td>-0.347502</td>\n",
              "      <td>1.000000</td>\n",
              "      <td>0.131162</td>\n",
              "    </tr>\n",
              "    <tr>\n",
              "      <th>soil_moisture</th>\n",
              "      <td>-0.284337</td>\n",
              "      <td>-0.190049</td>\n",
              "      <td>-0.372533</td>\n",
              "      <td>-0.387460</td>\n",
              "      <td>0.172052</td>\n",
              "      <td>0.172043</td>\n",
              "      <td>0.131162</td>\n",
              "      <td>1.000000</td>\n",
              "    </tr>\n",
              "  </tbody>\n",
              "</table>\n",
              "</div>"
            ],
            "text/plain": [
              "                     B4        B5       B10  ...      savi     mndwi  soil_moisture\n",
              "B4             1.000000  0.950794  0.793035  ...  0.110766 -0.663182      -0.284337\n",
              "B5             0.950794  1.000000  0.778894  ...  0.150441 -0.606711      -0.190049\n",
              "B10            0.793035  0.778894  1.000000  ... -0.073994 -0.391505      -0.372533\n",
              "B11            0.797771  0.732059  0.914505  ... -0.032885 -0.477063      -0.387460\n",
              "ndvi           0.110745  0.150424 -0.074007  ...  1.000000 -0.347480       0.172052\n",
              "savi           0.110766  0.150441 -0.073994  ...  1.000000 -0.347502       0.172043\n",
              "mndwi         -0.663182 -0.606711 -0.391505  ... -0.347502  1.000000       0.131162\n",
              "soil_moisture -0.284337 -0.190049 -0.372533  ...  0.172043  0.131162       1.000000\n",
              "\n",
              "[8 rows x 8 columns]"
            ]
          },
          "execution_count": 13,
          "metadata": {
            "tags": []
          },
          "output_type": "execute_result"
        }
      ],
      "source": [
        "df_5_bands.corr()"
      ]
    },
    {
      "cell_type": "code",
      "execution_count": null,
      "metadata": {
        "colab": {
          "base_uri": "https://localhost:8080/",
          "height": 293
        },
        "id": "MXlOALNQXVR_",
        "outputId": "6f7f76ab-c201-47f1-a67d-e905cb4c7553"
      },
      "outputs": [
        {
          "data": {
            "text/html": [
              "<div>\n",
              "<style scoped>\n",
              "    .dataframe tbody tr th:only-of-type {\n",
              "        vertical-align: middle;\n",
              "    }\n",
              "\n",
              "    .dataframe tbody tr th {\n",
              "        vertical-align: top;\n",
              "    }\n",
              "\n",
              "    .dataframe thead th {\n",
              "        text-align: right;\n",
              "    }\n",
              "</style>\n",
              "<table border=\"1\" class=\"dataframe\">\n",
              "  <thead>\n",
              "    <tr style=\"text-align: right;\">\n",
              "      <th></th>\n",
              "      <th>B1</th>\n",
              "      <th>B2</th>\n",
              "      <th>B4</th>\n",
              "      <th>B8</th>\n",
              "      <th>B10</th>\n",
              "      <th>ndmi</th>\n",
              "      <th>ndvi</th>\n",
              "      <th>savi</th>\n",
              "      <th>soil_moisture</th>\n",
              "    </tr>\n",
              "  </thead>\n",
              "  <tbody>\n",
              "    <tr>\n",
              "      <th>count</th>\n",
              "      <td>169.000000</td>\n",
              "      <td>169.000000</td>\n",
              "      <td>169.000000</td>\n",
              "      <td>169.000000</td>\n",
              "      <td>169.000000</td>\n",
              "      <td>169.000000</td>\n",
              "      <td>169.000000</td>\n",
              "      <td>169.000000</td>\n",
              "      <td>169.000000</td>\n",
              "    </tr>\n",
              "    <tr>\n",
              "      <th>mean</th>\n",
              "      <td>0.363538</td>\n",
              "      <td>0.289854</td>\n",
              "      <td>0.363138</td>\n",
              "      <td>0.403277</td>\n",
              "      <td>0.491053</td>\n",
              "      <td>7.986945</td>\n",
              "      <td>0.310643</td>\n",
              "      <td>0.465920</td>\n",
              "      <td>0.194497</td>\n",
              "    </tr>\n",
              "    <tr>\n",
              "      <th>std</th>\n",
              "      <td>0.105235</td>\n",
              "      <td>0.099629</td>\n",
              "      <td>0.100463</td>\n",
              "      <td>0.077626</td>\n",
              "      <td>0.107840</td>\n",
              "      <td>3.550404</td>\n",
              "      <td>0.391836</td>\n",
              "      <td>0.587729</td>\n",
              "      <td>0.075803</td>\n",
              "    </tr>\n",
              "    <tr>\n",
              "      <th>min</th>\n",
              "      <td>0.090712</td>\n",
              "      <td>0.124272</td>\n",
              "      <td>0.168255</td>\n",
              "      <td>0.239281</td>\n",
              "      <td>0.289871</td>\n",
              "      <td>0.100317</td>\n",
              "      <td>0.038461</td>\n",
              "      <td>0.057689</td>\n",
              "      <td>0.090000</td>\n",
              "    </tr>\n",
              "    <tr>\n",
              "      <th>25%</th>\n",
              "      <td>0.292281</td>\n",
              "      <td>0.214696</td>\n",
              "      <td>0.272604</td>\n",
              "      <td>0.343737</td>\n",
              "      <td>0.405769</td>\n",
              "      <td>6.309197</td>\n",
              "      <td>0.147572</td>\n",
              "      <td>0.221334</td>\n",
              "      <td>0.135000</td>\n",
              "    </tr>\n",
              "    <tr>\n",
              "      <th>50%</th>\n",
              "      <td>0.365877</td>\n",
              "      <td>0.281173</td>\n",
              "      <td>0.352340</td>\n",
              "      <td>0.396740</td>\n",
              "      <td>0.480319</td>\n",
              "      <td>8.200265</td>\n",
              "      <td>0.199597</td>\n",
              "      <td>0.299367</td>\n",
              "      <td>0.192000</td>\n",
              "    </tr>\n",
              "    <tr>\n",
              "      <th>75%</th>\n",
              "      <td>0.432944</td>\n",
              "      <td>0.319826</td>\n",
              "      <td>0.440771</td>\n",
              "      <td>0.454318</td>\n",
              "      <td>0.571512</td>\n",
              "      <td>9.693261</td>\n",
              "      <td>0.335832</td>\n",
              "      <td>0.503697</td>\n",
              "      <td>0.235000</td>\n",
              "    </tr>\n",
              "    <tr>\n",
              "      <th>max</th>\n",
              "      <td>0.655022</td>\n",
              "      <td>0.650449</td>\n",
              "      <td>0.633443</td>\n",
              "      <td>0.612454</td>\n",
              "      <td>0.730756</td>\n",
              "      <td>17.358795</td>\n",
              "      <td>2.812481</td>\n",
              "      <td>4.218595</td>\n",
              "      <td>0.502000</td>\n",
              "    </tr>\n",
              "  </tbody>\n",
              "</table>\n",
              "</div>"
            ],
            "text/plain": [
              "               B1          B2  ...        savi  soil_moisture\n",
              "count  169.000000  169.000000  ...  169.000000     169.000000\n",
              "mean     0.363538    0.289854  ...    0.465920       0.194497\n",
              "std      0.105235    0.099629  ...    0.587729       0.075803\n",
              "min      0.090712    0.124272  ...    0.057689       0.090000\n",
              "25%      0.292281    0.214696  ...    0.221334       0.135000\n",
              "50%      0.365877    0.281173  ...    0.299367       0.192000\n",
              "75%      0.432944    0.319826  ...    0.503697       0.235000\n",
              "max      0.655022    0.650449  ...    4.218595       0.502000\n",
              "\n",
              "[8 rows x 9 columns]"
            ]
          },
          "execution_count": 222,
          "metadata": {
            "tags": []
          },
          "output_type": "execute_result"
        }
      ],
      "source": [
        "df_4_bands.describe()"
      ]
    },
    {
      "cell_type": "markdown",
      "metadata": {
        "id": "hCVaxGfGwKdC"
      },
      "source": [
        "# PCA :\n"
      ]
    },
    {
      "cell_type": "code",
      "execution_count": null,
      "metadata": {
        "id": "bcmjbNeRvxj4"
      },
      "outputs": [],
      "source": [
        "from sklearn.preprocessing import StandardScaler\n",
        "features = ['B1','B2','B3','B4','B5','B6','B7','B8','B8A','B9','B10','B11','ndmi','ndvi','savi','mndwi']\n",
        "# Separating out the features\n",
        "x = df_bands.loc[:, features].values\n",
        "# Separating out the target\n",
        "y = df_bands.loc[:,['soil_moisture']].values"
      ]
    },
    {
      "cell_type": "code",
      "execution_count": null,
      "metadata": {
        "id": "x9gfdQVb1zEG"
      },
      "outputs": [],
      "source": [
        "# Standardizing the features\n",
        "x = StandardScaler().fit_transform(x)"
      ]
    },
    {
      "cell_type": "code",
      "execution_count": null,
      "metadata": {
        "id": "U9d84uRTwemn"
      },
      "outputs": [],
      "source": [
        "from sklearn.decomposition import PCA\n",
        "pca = PCA(n_components=3)\n",
        "principalComponents = pca.fit_transform(x)\n",
        "principalDf = pd.DataFrame(data = principalComponents\n",
        "             , columns = ['pc1', 'pc2', 'pc3'])"
      ]
    },
    {
      "cell_type": "code",
      "execution_count": null,
      "metadata": {
        "id": "PBHKpwxXwktU"
      },
      "outputs": [],
      "source": [
        "finalDf = pd.concat([principalDf, df_bands[['soil_moisture']]], axis = 1)"
      ]
    },
    {
      "cell_type": "code",
      "execution_count": null,
      "metadata": {
        "colab": {
          "base_uri": "https://localhost:8080/"
        },
        "id": "wwc9m5f3y4k9",
        "outputId": "231f7e04-0b7e-44f4-8472-5e9005bfd750"
      },
      "outputs": [
        {
          "data": {
            "text/plain": [
              "array([0.53694437, 0.16438808, 0.10885462])"
            ]
          },
          "execution_count": 129,
          "metadata": {
            "tags": []
          },
          "output_type": "execute_result"
        }
      ],
      "source": [
        "pca.explained_variance_ratio_"
      ]
    },
    {
      "cell_type": "markdown",
      "metadata": {
        "id": "vaT4HmAtlvMS"
      },
      "source": [
        "# Linear Regressiion MODEL :"
      ]
    },
    {
      "cell_type": "code",
      "execution_count": null,
      "metadata": {
        "id": "4BUe7QUchYqD"
      },
      "outputs": [],
      "source": [
        "X, y = finalDf.iloc[:,:-1],finalDf.iloc[:,-1]"
      ]
    },
    {
      "cell_type": "code",
      "execution_count": null,
      "metadata": {
        "colab": {
          "base_uri": "https://localhost:8080/",
          "height": 480
        },
        "id": "M2UQY14LhSVx",
        "outputId": "d26c704d-1771-44ba-d02b-ca50a5d8d607"
      },
      "outputs": [
        {
          "name": "stdout",
          "output_type": "stream",
          "text": [
            "Coefficients:  [-1.16259926e-01  5.56061815e-02  2.42066570e-03  2.58498034e+00\n",
            " -1.91474547e+01  3.54362973e+00 -5.86296897e-04 -1.59321860e+00\n",
            "  3.16227116e-01 -1.20965602e-02 -9.20798781e-01  8.75217941e-03\n",
            " -5.18191990e-01]\n",
            "Variance score: 0.7786386580298951\n",
            "MAE score: 3.7456376770292286\n"
          ]
        },
        {
          "data": {
            "image/png": "[encoded data removed]",
            "text/plain": [
              "<Figure size 360x360 with 1 Axes>"
            ]
          },
          "metadata": {
            "tags": []
          },
          "output_type": "display_data"
        }
      ],
      "source": [
        "import matplotlib.pyplot as plt\n",
        "import numpy as np\n",
        "from sklearn import datasets, linear_model, metrics\n",
        "\n",
        "# load the boston dataset\n",
        "boston = datasets.load_boston(return_X_y=False)\n",
        "\n",
        "# defining feature matrix(X) and response vector(y)\n",
        "X = boston.data\n",
        "y = boston.target\n",
        "\n",
        "# splitting X and y into training and testing sets\n",
        "from sklearn.model_selection import train_test_split\n",
        "X_train, X_test, y_train, y_test = train_test_split(X, y, test_size=0.1,\n",
        "\t\t\t\t\t\t\t\t\t\t\t\t\trandom_state=1)\n",
        "\n",
        "# create linear regression object\n",
        "reg = linear_model.LinearRegression()\n",
        "\n",
        "# train the model using the training sets\n",
        "reg.fit(X_train, y_train)\n",
        "\n",
        "# regression coefficients\n",
        "print('Coefficients: ', reg.coef_)\n",
        "\n",
        "# variance score: 1 means perfect prediction\n",
        "print('Variance score: {}'.format(reg.score(X_test, y_test)))\n",
        "\n",
        "# plot for residual error\n",
        "mae = mean_absolute_error(y_test, reg.predict(X_test))\n",
        "print('MAE score: {}'.format(mae))\n",
        "## setting plot style\n",
        "plt.style.use('fivethirtyeight')\n",
        "\n",
        "## plotting residual errors in training data\n",
        "plt.scatter(reg.predict(X_train), reg.predict(X_train) - y_train,\n",
        "\t\t\tcolor = \"green\", s = 10, label = 'Train data')\n",
        "\n",
        "## plotting residual errors in test data\n",
        "plt.scatter(reg.predict(X_test), reg.predict(X_test) - y_test,\n",
        "\t\t\tcolor = \"blue\", s = 10, label = 'Test data')\n",
        "\n",
        "## plotting line for zero residual error\n",
        "plt.hlines(y = 0, xmin = 0, xmax = 50, linewidth = 2)\n",
        "\n",
        "## plotting legend\n",
        "plt.legend(loc = 'upper right')\n",
        "\n",
        "## plot title\n",
        "plt.title(\"Residual errors\")\n",
        "\n",
        "## method call for showing the plot\n",
        "plt.show()\n",
        "\n"
      ]
    },
    {
      "cell_type": "markdown",
      "metadata": {
        "id": "KUHU-wWhl18N"
      },
      "source": [
        "# SVM MODEL :\n"
      ]
    },
    {
      "cell_type": "code",
      "execution_count": null,
      "metadata": {
        "id": "q5ujWv7DoCxf"
      },
      "outputs": [],
      "source": [
        "X = finalDf.iloc[:, :1].values\n",
        "y = finalDf.iloc[:, -1].values"
      ]
    },
    {
      "cell_type": "code",
      "execution_count": null,
      "metadata": {
        "colab": {
          "base_uri": "https://localhost:8080/"
        },
        "id": "c2PoXwDVqCJ6",
        "outputId": "965b3f29-ada4-42ca-8306-d911e79ec9fc"
      },
      "outputs": [
        {
          "data": {
            "text/plain": [
              "(169, 1)"
            ]
          },
          "execution_count": 133,
          "metadata": {
            "tags": []
          },
          "output_type": "execute_result"
        }
      ],
      "source": [
        "X.shape"
      ]
    },
    {
      "cell_type": "code",
      "execution_count": null,
      "metadata": {
        "colab": {
          "base_uri": "https://localhost:8080/"
        },
        "id": "eDV8iU4jl1LV",
        "outputId": "03bd63b6-854b-47dd-a126-5e291c726290"
      },
      "outputs": [
        {
          "name": "stderr",
          "output_type": "stream",
          "text": [
            "/usr/local/lib/python3.7/dist-packages/sklearn/utils/validation.py:760: DataConversionWarning: A column-vector y was passed when a 1d array was expected. Please change the shape of y to (n_samples, ), for example using ravel().\n",
            "  y = column_or_1d(y, warn=True)\n"
          ]
        }
      ],
      "source": [
        "#3 Feature Scaling\n",
        "from sklearn.preprocessing import StandardScaler\n",
        "sc_X = StandardScaler()\n",
        "sc_y = StandardScaler()\n",
        "X = X.reshape(-1, 1)\n",
        "y = y.reshape(-1, 1)\n",
        "X = sc_X.fit_transform(X)\n",
        "y = sc_y.fit_transform(y)\n",
        "\n",
        "X_train, X_test, y_train, y_test = train_test_split(X, y, test_size=0.2,\n",
        "\t\t\t\t\t\t\t\t\t\t\t\t\trandom_state=1)\n",
        "#4 Fitting the Support Vector Regression Model to the dataset\n",
        "# Create your support vector regressor here\n",
        "from sklearn.svm import SVR\n",
        "# most important SVR parameter is Kernel type. It can be #linear,polynomial or gaussian SVR. We have a non-linear condition #so we can select polynomial or gaussian but here we select RBF(a #gaussian type) kernel.\n",
        "regressor = SVR(kernel='rbf')\n",
        "regressor.fit(X,y)\n",
        "#5 Predicting a new result\n",
        "y_pred = regressor.predict(X_test)\n",
        "y_pred = sc_y.inverse_transform(y_pred) \n"
      ]
    },
    {
      "cell_type": "code",
      "execution_count": null,
      "metadata": {
        "colab": {
          "base_uri": "https://localhost:8080/"
        },
        "id": "o3Y7Han7pECQ",
        "outputId": "7b4897af-9613-49e3-ea74-d5b1bf4d4160"
      },
      "outputs": [
        {
          "data": {
            "text/plain": [
              "array([0.15174972, 0.15735182, 0.20245391, 0.23428842, 0.23371852,\n",
              "       0.22100468, 0.15593107, 0.17453264, 0.17172262, 0.17303784,\n",
              "       0.17462973, 0.17433286, 0.22854131, 0.15976765, 0.17649577,\n",
              "       0.23483338, 0.17316324, 0.15514976, 0.22564809, 0.16699321,\n",
              "       0.16696364, 0.17770853, 0.2328529 , 0.2324256 , 0.23283339,\n",
              "       0.17467028, 0.23202225, 0.15914179, 0.15497444, 0.15480263,\n",
              "       0.17443372, 0.16774067, 0.19760983, 0.16964428])"
            ]
          },
          "execution_count": 135,
          "metadata": {
            "tags": []
          },
          "output_type": "execute_result"
        }
      ],
      "source": [
        "y_pred"
      ]
    },
    {
      "cell_type": "code",
      "execution_count": null,
      "metadata": {
        "colab": {
          "base_uri": "https://localhost:8080/"
        },
        "id": "BG9jmezfpWln",
        "outputId": "6d951dc5-b1e2-49b1-8e1f-9ee5b603b92f"
      },
      "outputs": [
        {
          "data": {
            "text/plain": [
              "0.7547687940062805"
            ]
          },
          "execution_count": 136,
          "metadata": {
            "tags": []
          },
          "output_type": "execute_result"
        }
      ],
      "source": [
        "mean_absolute_error(y_test, y_pred)"
      ]
    },
    {
      "cell_type": "code",
      "execution_count": null,
      "metadata": {
        "colab": {
          "base_uri": "https://localhost:8080/",
          "height": 403
        },
        "id": "tgaDOkAMooWL",
        "outputId": "247e0164-0c24-404d-d65d-2c0e2fd63be8"
      },
      "outputs": [
        {
          "data": {
            "image/png": "[encoded data removed]",
            "text/plain": [
              "<Figure size 360x360 with 1 Axes>"
            ]
          },
          "metadata": {
            "tags": []
          },
          "output_type": "display_data"
        }
      ],
      "source": [
        "X_grid = np.arange(min(X), max(X), 0.01) #this step required because data is feature scaled.\n",
        "X_grid = X_grid.reshape((len(X_grid), 1))\n",
        "plt.scatter(X, y, color = 'red')\n",
        "plt.plot(X_grid, regressor.predict(X_grid), color = 'blue')\n",
        "plt.title('Truth or Bluff (SVR)')\n",
        "plt.xlabel('B10')\n",
        "plt.ylabel('Soil_moisture')\n",
        "plt.show()"
      ]
    },
    {
      "cell_type": "markdown",
      "metadata": {
        "id": "MjBvxu1Lli3q"
      },
      "source": [
        "# XGB MODEL :\n"
      ]
    },
    {
      "cell_type": "code",
      "execution_count": null,
      "metadata": {
        "id": "0YAfhS-QxBMk"
      },
      "outputs": [],
      "source": [
        "# evaluate an xgboost regression model on the housing dataset\n",
        "import xgboost as xgb\n",
        "from sklearn.metrics import mean_squared_error\n",
        "from sklearn.metrics import mean_absolute_error\n",
        "\n",
        "X, y = finalDf.iloc[:,:-1],finalDf.iloc[:,-1]"
      ]
    },
    {
      "cell_type": "code",
      "execution_count": null,
      "metadata": {
        "id": "jTi1mfW3ywGu"
      },
      "outputs": [],
      "source": [
        "data_dmatrix = xgb.DMatrix(data=X,label=y)"
      ]
    },
    {
      "cell_type": "code",
      "execution_count": null,
      "metadata": {
        "id": "4UEj9ddwy6LQ"
      },
      "outputs": [],
      "source": [
        "from sklearn.model_selection import train_test_split\n",
        "\n",
        "X_train, X_test, y_train, y_test = train_test_split(X, y, test_size=0.1, random_state=123)"
      ]
    },
    {
      "cell_type": "code",
      "execution_count": null,
      "metadata": {
        "id": "J3bqrSEV61xh"
      },
      "outputs": [],
      "source": [
        "dtrain = xgb.DMatrix(X_train, label=y_train)\n",
        "dtest = xgb.DMatrix(X_test, label=y_test)"
      ]
    },
    {
      "cell_type": "code",
      "execution_count": null,
      "metadata": {
        "colab": {
          "base_uri": "https://localhost:8080/"
        },
        "id": "P61UxciA5lwV",
        "outputId": "43cd50f5-d9e5-4706-823b-2675dd0428f1"
      },
      "outputs": [
        {
          "name": "stdout",
          "output_type": "stream",
          "text": [
            "Baseline MAE is 0.04\n"
          ]
        }
      ],
      "source": [
        "import numpy as np\n",
        "# \"Learn\" the mean from the training data\n",
        "mean_train = np.mean(y_train)\n",
        "# Get predictions on the test set\n",
        "baseline_predictions = np.ones(y_test.shape) * mean_train\n",
        "# Compute MAE\n",
        "mae_baseline = mean_absolute_error(y_test, baseline_predictions)\n",
        "print(\"Baseline MAE is {:.2f}\".format(mae_baseline))"
      ]
    },
    {
      "cell_type": "code",
      "execution_count": null,
      "metadata": {
        "id": "EQaCnQu66UQK"
      },
      "outputs": [],
      "source": [
        "params['eval_metric'] = \"mae\""
      ]
    },
    {
      "cell_type": "code",
      "execution_count": null,
      "metadata": {
        "id": "17xKvOo06me1"
      },
      "outputs": [],
      "source": [
        "num_boost_round = 999"
      ]
    },
    {
      "cell_type": "code",
      "execution_count": null,
      "metadata": {
        "colab": {
          "base_uri": "https://localhost:8080/"
        },
        "id": "FK8MYRpU6mDn",
        "outputId": "f9993e41-142e-42d2-c8f4-0ef624f08a23"
      },
      "outputs": [
        {
          "name": "stdout",
          "output_type": "stream",
          "text": [
            "[22:50:51] WARNING: /workspace/src/objective/regression_obj.cu:152: reg:linear is now deprecated in favor of reg:squarederror.\n",
            "[0]\tTest-mae:0.273573\n",
            "Will train until Test-mae hasn't improved in 10 rounds.\n",
            "[1]\tTest-mae:0.246804\n",
            "[2]\tTest-mae:0.222525\n",
            "[3]\tTest-mae:0.200796\n",
            "[4]\tTest-mae:0.181087\n",
            "[5]\tTest-mae:0.163449\n",
            "[6]\tTest-mae:0.14745\n",
            "[7]\tTest-mae:0.133132\n",
            "[8]\tTest-mae:0.120237\n",
            "[9]\tTest-mae:0.108531\n",
            "[10]\tTest-mae:0.098562\n",
            "[11]\tTest-mae:0.089009\n",
            "[12]\tTest-mae:0.080386\n",
            "[13]\tTest-mae:0.073072\n",
            "[14]\tTest-mae:0.066037\n",
            "[15]\tTest-mae:0.059709\n",
            "[16]\tTest-mae:0.055157\n",
            "[17]\tTest-mae:0.052173\n",
            "[18]\tTest-mae:0.050567\n",
            "[19]\tTest-mae:0.049435\n",
            "[20]\tTest-mae:0.048635\n",
            "[21]\tTest-mae:0.047471\n",
            "[22]\tTest-mae:0.046541\n",
            "[23]\tTest-mae:0.045642\n",
            "[24]\tTest-mae:0.044889\n",
            "[25]\tTest-mae:0.044371\n",
            "[26]\tTest-mae:0.043757\n",
            "[27]\tTest-mae:0.04304\n",
            "[28]\tTest-mae:0.042544\n",
            "[29]\tTest-mae:0.041933\n",
            "[30]\tTest-mae:0.041535\n",
            "[31]\tTest-mae:0.041135\n",
            "[32]\tTest-mae:0.040917\n",
            "[33]\tTest-mae:0.040827\n",
            "[34]\tTest-mae:0.040827\n",
            "[35]\tTest-mae:0.040751\n",
            "[36]\tTest-mae:0.040958\n",
            "[37]\tTest-mae:0.040958\n",
            "[38]\tTest-mae:0.040958\n",
            "[39]\tTest-mae:0.040958\n",
            "[40]\tTest-mae:0.041114\n",
            "[41]\tTest-mae:0.041061\n",
            "[42]\tTest-mae:0.041061\n",
            "[43]\tTest-mae:0.041061\n",
            "[44]\tTest-mae:0.041179\n",
            "[45]\tTest-mae:0.04122\n",
            "Stopping. Best iteration:\n",
            "[35]\tTest-mae:0.040751\n",
            "\n"
          ]
        }
      ],
      "source": [
        "model = xgb.train(\n",
        "    params,\n",
        "    dtrain,\n",
        "    num_boost_round=num_boost_round,\n",
        "    evals=[(dtest, \"Test\")],\n",
        "    early_stopping_rounds=10\n",
        ")"
      ]
    },
    {
      "cell_type": "code",
      "execution_count": null,
      "metadata": {
        "colab": {
          "base_uri": "https://localhost:8080/"
        },
        "id": "5xo5y7xU6--w",
        "outputId": "3dbe34ca-5166-4c1b-a4dd-49977c686e15"
      },
      "outputs": [
        {
          "name": "stdout",
          "output_type": "stream",
          "text": [
            "Best MAE: 0.04 with 36 rounds\n"
          ]
        }
      ],
      "source": [
        "print(\"Best MAE: {:.2f} with {} rounds\".format(\n",
        "                 model.best_score,\n",
        "                 model.best_iteration+1))"
      ]
    },
    {
      "cell_type": "code",
      "execution_count": null,
      "metadata": {
        "colab": {
          "base_uri": "https://localhost:8080/",
          "height": 515
        },
        "id": "19xZ0Gap7gWH",
        "outputId": "11324b61-c7bb-4002-d371-c2ade2db1828"
      },
      "outputs": [
        {
          "name": "stdout",
          "output_type": "stream",
          "text": [
            "[22:50:58] WARNING: /workspace/src/objective/regression_obj.cu:152: reg:linear is now deprecated in favor of reg:squarederror.\n",
            "[22:50:58] WARNING: /workspace/src/objective/regression_obj.cu:152: reg:linear is now deprecated in favor of reg:squarederror.\n",
            "[22:50:58] WARNING: /workspace/src/objective/regression_obj.cu:152: reg:linear is now deprecated in favor of reg:squarederror.\n",
            "[22:50:58] WARNING: /workspace/src/objective/regression_obj.cu:152: reg:linear is now deprecated in favor of reg:squarederror.\n",
            "[22:50:58] WARNING: /workspace/src/objective/regression_obj.cu:152: reg:linear is now deprecated in favor of reg:squarederror.\n"
          ]
        },
        {
          "data": {
            "text/html": [
              "<div>\n",
              "<style scoped>\n",
              "    .dataframe tbody tr th:only-of-type {\n",
              "        vertical-align: middle;\n",
              "    }\n",
              "\n",
              "    .dataframe tbody tr th {\n",
              "        vertical-align: top;\n",
              "    }\n",
              "\n",
              "    .dataframe thead th {\n",
              "        text-align: right;\n",
              "    }\n",
              "</style>\n",
              "<table border=\"1\" class=\"dataframe\">\n",
              "  <thead>\n",
              "    <tr style=\"text-align: right;\">\n",
              "      <th></th>\n",
              "      <th>train-mae-mean</th>\n",
              "      <th>train-mae-std</th>\n",
              "      <th>test-mae-mean</th>\n",
              "      <th>test-mae-std</th>\n",
              "    </tr>\n",
              "  </thead>\n",
              "  <tbody>\n",
              "    <tr>\n",
              "      <th>0</th>\n",
              "      <td>0.276688</td>\n",
              "      <td>0.002362</td>\n",
              "      <td>0.276950</td>\n",
              "      <td>0.010460</td>\n",
              "    </tr>\n",
              "    <tr>\n",
              "      <th>1</th>\n",
              "      <td>0.251371</td>\n",
              "      <td>0.002037</td>\n",
              "      <td>0.251829</td>\n",
              "      <td>0.010381</td>\n",
              "    </tr>\n",
              "    <tr>\n",
              "      <th>2</th>\n",
              "      <td>0.228807</td>\n",
              "      <td>0.001713</td>\n",
              "      <td>0.229632</td>\n",
              "      <td>0.010218</td>\n",
              "    </tr>\n",
              "    <tr>\n",
              "      <th>3</th>\n",
              "      <td>0.208466</td>\n",
              "      <td>0.001402</td>\n",
              "      <td>0.209610</td>\n",
              "      <td>0.010044</td>\n",
              "    </tr>\n",
              "    <tr>\n",
              "      <th>4</th>\n",
              "      <td>0.190176</td>\n",
              "      <td>0.001146</td>\n",
              "      <td>0.191603</td>\n",
              "      <td>0.009918</td>\n",
              "    </tr>\n",
              "    <tr>\n",
              "      <th>...</th>\n",
              "      <td>...</td>\n",
              "      <td>...</td>\n",
              "      <td>...</td>\n",
              "      <td>...</td>\n",
              "    </tr>\n",
              "    <tr>\n",
              "      <th>104</th>\n",
              "      <td>0.048839</td>\n",
              "      <td>0.002088</td>\n",
              "      <td>0.056796</td>\n",
              "      <td>0.006085</td>\n",
              "    </tr>\n",
              "    <tr>\n",
              "      <th>105</th>\n",
              "      <td>0.048837</td>\n",
              "      <td>0.002089</td>\n",
              "      <td>0.056795</td>\n",
              "      <td>0.006086</td>\n",
              "    </tr>\n",
              "    <tr>\n",
              "      <th>106</th>\n",
              "      <td>0.048835</td>\n",
              "      <td>0.002090</td>\n",
              "      <td>0.056794</td>\n",
              "      <td>0.006085</td>\n",
              "    </tr>\n",
              "    <tr>\n",
              "      <th>107</th>\n",
              "      <td>0.048835</td>\n",
              "      <td>0.002090</td>\n",
              "      <td>0.056792</td>\n",
              "      <td>0.006085</td>\n",
              "    </tr>\n",
              "    <tr>\n",
              "      <th>108</th>\n",
              "      <td>0.048834</td>\n",
              "      <td>0.002090</td>\n",
              "      <td>0.056792</td>\n",
              "      <td>0.006084</td>\n",
              "    </tr>\n",
              "  </tbody>\n",
              "</table>\n",
              "<p>109 rows × 4 columns</p>\n",
              "</div>"
            ],
            "text/plain": [
              "     train-mae-mean  train-mae-std  test-mae-mean  test-mae-std\n",
              "0          0.276688       0.002362       0.276950      0.010460\n",
              "1          0.251371       0.002037       0.251829      0.010381\n",
              "2          0.228807       0.001713       0.229632      0.010218\n",
              "3          0.208466       0.001402       0.209610      0.010044\n",
              "4          0.190176       0.001146       0.191603      0.009918\n",
              "..              ...            ...            ...           ...\n",
              "104        0.048839       0.002088       0.056796      0.006085\n",
              "105        0.048837       0.002089       0.056795      0.006086\n",
              "106        0.048835       0.002090       0.056794      0.006085\n",
              "107        0.048835       0.002090       0.056792      0.006085\n",
              "108        0.048834       0.002090       0.056792      0.006084\n",
              "\n",
              "[109 rows x 4 columns]"
            ]
          },
          "execution_count": 98,
          "metadata": {
            "tags": []
          },
          "output_type": "execute_result"
        }
      ],
      "source": [
        "cv_results = xgb.cv(\n",
        "    params,\n",
        "    dtrain,\n",
        "    num_boost_round=num_boost_round,\n",
        "    seed=42,\n",
        "    nfold=5,\n",
        "    metrics={'mae'},\n",
        "    early_stopping_rounds=10\n",
        ")\n",
        "cv_results"
      ]
    },
    {
      "cell_type": "code",
      "execution_count": null,
      "metadata": {
        "colab": {
          "base_uri": "https://localhost:8080/"
        },
        "id": "q9vwL4fd7zCM",
        "outputId": "f08e6a8a-9580-4c99-c462-76d211f4b292"
      },
      "outputs": [
        {
          "data": {
            "text/plain": [
              "0.056791999999999995"
            ]
          },
          "execution_count": 99,
          "metadata": {
            "tags": []
          },
          "output_type": "execute_result"
        }
      ],
      "source": [
        "cv_results['test-mae-mean'].min()"
      ]
    },
    {
      "cell_type": "code",
      "execution_count": null,
      "metadata": {
        "id": "iy_wayNl8Udk"
      },
      "outputs": [],
      "source": [
        "gridsearch_params = [\n",
        "    (max_depth, min_child_weight)\n",
        "    for max_depth in range(1,12)\n",
        "    for min_child_weight in range(5,9)\n",
        "]"
      ]
    },
    {
      "cell_type": "code",
      "execution_count": null,
      "metadata": {
        "colab": {
          "base_uri": "https://localhost:8080/"
        },
        "id": "maDSubXu8Zzv",
        "outputId": "06412c7a-24c9-4bbe-e299-1b271b9f7b9d"
      },
      "outputs": [
        {
          "name": "stdout",
          "output_type": "stream",
          "text": [
            "CV with max_depth=1, min_child_weight=5\n",
            "[22:51:08] WARNING: /workspace/src/objective/regression_obj.cu:152: reg:linear is now deprecated in favor of reg:squarederror.\n",
            "[22:51:08] WARNING: /workspace/src/objective/regression_obj.cu:152: reg:linear is now deprecated in favor of reg:squarederror.\n",
            "[22:51:08] WARNING: /workspace/src/objective/regression_obj.cu:152: reg:linear is now deprecated in favor of reg:squarederror.\n",
            "[22:51:08] WARNING: /workspace/src/objective/regression_obj.cu:152: reg:linear is now deprecated in favor of reg:squarederror.\n",
            "[22:51:08] WARNING: /workspace/src/objective/regression_obj.cu:152: reg:linear is now deprecated in favor of reg:squarederror.\n",
            "\tMAE 0.0554088 for 108 rounds\n",
            "CV with max_depth=1, min_child_weight=6\n",
            "[22:51:08] WARNING: /workspace/src/objective/regression_obj.cu:152: reg:linear is now deprecated in favor of reg:squarederror.\n",
            "[22:51:08] WARNING: /workspace/src/objective/regression_obj.cu:152: reg:linear is now deprecated in favor of reg:squarederror.\n",
            "[22:51:08] WARNING: /workspace/src/objective/regression_obj.cu:152: reg:linear is now deprecated in favor of reg:squarederror.\n",
            "[22:51:08] WARNING: /workspace/src/objective/regression_obj.cu:152: reg:linear is now deprecated in favor of reg:squarederror.\n",
            "[22:51:08] WARNING: /workspace/src/objective/regression_obj.cu:152: reg:linear is now deprecated in favor of reg:squarederror.\n",
            "\tMAE 0.055045199999999996 for 109 rounds\n",
            "CV with max_depth=1, min_child_weight=7\n",
            "[22:51:09] WARNING: /workspace/src/objective/regression_obj.cu:152: reg:linear is now deprecated in favor of reg:squarederror.\n",
            "[22:51:09] WARNING: /workspace/src/objective/regression_obj.cu:152: reg:linear is now deprecated in favor of reg:squarederror.\n",
            "[22:51:09] WARNING: /workspace/src/objective/regression_obj.cu:152: reg:linear is now deprecated in favor of reg:squarederror.\n",
            "[22:51:09] WARNING: /workspace/src/objective/regression_obj.cu:152: reg:linear is now deprecated in favor of reg:squarederror.\n",
            "[22:51:09] WARNING: /workspace/src/objective/regression_obj.cu:152: reg:linear is now deprecated in favor of reg:squarederror.\n",
            "\tMAE 0.0548914 for 109 rounds\n",
            "CV with max_depth=1, min_child_weight=8\n",
            "[22:51:10] WARNING: /workspace/src/objective/regression_obj.cu:152: reg:linear is now deprecated in favor of reg:squarederror.\n",
            "[22:51:10] WARNING: /workspace/src/objective/regression_obj.cu:152: reg:linear is now deprecated in favor of reg:squarederror.\n",
            "[22:51:10] WARNING: /workspace/src/objective/regression_obj.cu:152: reg:linear is now deprecated in favor of reg:squarederror.\n",
            "[22:51:10] WARNING: /workspace/src/objective/regression_obj.cu:152: reg:linear is now deprecated in favor of reg:squarederror.\n",
            "[22:51:10] WARNING: /workspace/src/objective/regression_obj.cu:152: reg:linear is now deprecated in favor of reg:squarederror.\n",
            "\tMAE 0.054705199999999995 for 109 rounds\n",
            "CV with max_depth=2, min_child_weight=5\n",
            "[22:51:10] WARNING: /workspace/src/objective/regression_obj.cu:152: reg:linear is now deprecated in favor of reg:squarederror.\n",
            "[22:51:10] WARNING: /workspace/src/objective/regression_obj.cu:152: reg:linear is now deprecated in favor of reg:squarederror.\n",
            "[22:51:10] WARNING: /workspace/src/objective/regression_obj.cu:152: reg:linear is now deprecated in favor of reg:squarederror.\n",
            "[22:51:10] WARNING: /workspace/src/objective/regression_obj.cu:152: reg:linear is now deprecated in favor of reg:squarederror.\n",
            "[22:51:10] WARNING: /workspace/src/objective/regression_obj.cu:152: reg:linear is now deprecated in favor of reg:squarederror.\n",
            "\tMAE 0.05607379999999999 for 86 rounds\n",
            "CV with max_depth=2, min_child_weight=6\n",
            "[22:51:11] WARNING: /workspace/src/objective/regression_obj.cu:152: reg:linear is now deprecated in favor of reg:squarederror.\n",
            "[22:51:11] WARNING: /workspace/src/objective/regression_obj.cu:152: reg:linear is now deprecated in favor of reg:squarederror.\n",
            "[22:51:11] WARNING: /workspace/src/objective/regression_obj.cu:152: reg:linear is now deprecated in favor of reg:squarederror.\n",
            "[22:51:11] WARNING: /workspace/src/objective/regression_obj.cu:152: reg:linear is now deprecated in favor of reg:squarederror.\n",
            "[22:51:11] WARNING: /workspace/src/objective/regression_obj.cu:152: reg:linear is now deprecated in favor of reg:squarederror.\n",
            "\tMAE 0.0558122 for 86 rounds\n",
            "CV with max_depth=2, min_child_weight=7\n",
            "[22:51:12] WARNING: /workspace/src/objective/regression_obj.cu:152: reg:linear is now deprecated in favor of reg:squarederror.\n",
            "[22:51:12] WARNING: /workspace/src/objective/regression_obj.cu:152: reg:linear is now deprecated in favor of reg:squarederror.\n",
            "[22:51:12] WARNING: /workspace/src/objective/regression_obj.cu:152: reg:linear is now deprecated in favor of reg:squarederror.\n",
            "[22:51:12] WARNING: /workspace/src/objective/regression_obj.cu:152: reg:linear is now deprecated in favor of reg:squarederror.\n",
            "[22:51:12] WARNING: /workspace/src/objective/regression_obj.cu:152: reg:linear is now deprecated in favor of reg:squarederror.\n",
            "\tMAE 0.055708 for 87 rounds\n",
            "CV with max_depth=2, min_child_weight=8\n",
            "[22:51:12] WARNING: /workspace/src/objective/regression_obj.cu:152: reg:linear is now deprecated in favor of reg:squarederror.\n",
            "[22:51:12] WARNING: /workspace/src/objective/regression_obj.cu:152: reg:linear is now deprecated in favor of reg:squarederror.\n",
            "[22:51:12] WARNING: /workspace/src/objective/regression_obj.cu:152: reg:linear is now deprecated in favor of reg:squarederror.\n",
            "[22:51:12] WARNING: /workspace/src/objective/regression_obj.cu:152: reg:linear is now deprecated in favor of reg:squarederror.\n",
            "[22:51:12] WARNING: /workspace/src/objective/regression_obj.cu:152: reg:linear is now deprecated in favor of reg:squarederror.\n",
            "\tMAE 0.0558978 for 86 rounds\n",
            "CV with max_depth=3, min_child_weight=5\n",
            "[22:51:13] WARNING: /workspace/src/objective/regression_obj.cu:152: reg:linear is now deprecated in favor of reg:squarederror.\n",
            "[22:51:13] WARNING: /workspace/src/objective/regression_obj.cu:152: reg:linear is now deprecated in favor of reg:squarederror.\n",
            "[22:51:13] WARNING: /workspace/src/objective/regression_obj.cu:152: reg:linear is now deprecated in favor of reg:squarederror.\n",
            "[22:51:13] WARNING: /workspace/src/objective/regression_obj.cu:152: reg:linear is now deprecated in favor of reg:squarederror.\n",
            "[22:51:13] WARNING: /workspace/src/objective/regression_obj.cu:152: reg:linear is now deprecated in favor of reg:squarederror.\n",
            "\tMAE 0.056303599999999995 for 87 rounds\n",
            "CV with max_depth=3, min_child_weight=6\n",
            "[22:51:13] WARNING: /workspace/src/objective/regression_obj.cu:152: reg:linear is now deprecated in favor of reg:squarederror.\n",
            "[22:51:13] WARNING: /workspace/src/objective/regression_obj.cu:152: reg:linear is now deprecated in favor of reg:squarederror.\n",
            "[22:51:13] WARNING: /workspace/src/objective/regression_obj.cu:152: reg:linear is now deprecated in favor of reg:squarederror.\n",
            "[22:51:13] WARNING: /workspace/src/objective/regression_obj.cu:152: reg:linear is now deprecated in favor of reg:squarederror.\n",
            "[22:51:13] WARNING: /workspace/src/objective/regression_obj.cu:152: reg:linear is now deprecated in favor of reg:squarederror.\n",
            "\tMAE 0.05616139999999999 for 106 rounds\n",
            "CV with max_depth=3, min_child_weight=7\n",
            "[22:51:14] WARNING: /workspace/src/objective/regression_obj.cu:152: reg:linear is now deprecated in favor of reg:squarederror.\n",
            "[22:51:14] WARNING: /workspace/src/objective/regression_obj.cu:152: reg:linear is now deprecated in favor of reg:squarederror.\n",
            "[22:51:14] WARNING: /workspace/src/objective/regression_obj.cu:152: reg:linear is now deprecated in favor of reg:squarederror.\n",
            "[22:51:14] WARNING: /workspace/src/objective/regression_obj.cu:152: reg:linear is now deprecated in favor of reg:squarederror.\n",
            "[22:51:14] WARNING: /workspace/src/objective/regression_obj.cu:152: reg:linear is now deprecated in favor of reg:squarederror.\n",
            "\tMAE 0.056414 for 87 rounds\n",
            "CV with max_depth=3, min_child_weight=8\n",
            "[22:51:15] WARNING: /workspace/src/objective/regression_obj.cu:152: reg:linear is now deprecated in favor of reg:squarederror.\n",
            "[22:51:15] WARNING: /workspace/src/objective/regression_obj.cu:152: reg:linear is now deprecated in favor of reg:squarederror.\n",
            "[22:51:15] WARNING: /workspace/src/objective/regression_obj.cu:152: reg:linear is now deprecated in favor of reg:squarederror.\n",
            "[22:51:15] WARNING: /workspace/src/objective/regression_obj.cu:152: reg:linear is now deprecated in favor of reg:squarederror.\n",
            "[22:51:15] WARNING: /workspace/src/objective/regression_obj.cu:152: reg:linear is now deprecated in favor of reg:squarederror.\n",
            "\tMAE 0.0560708 for 88 rounds\n",
            "CV with max_depth=4, min_child_weight=5\n",
            "[22:51:15] WARNING: /workspace/src/objective/regression_obj.cu:152: reg:linear is now deprecated in favor of reg:squarederror.\n",
            "[22:51:15] WARNING: /workspace/src/objective/regression_obj.cu:152: reg:linear is now deprecated in favor of reg:squarederror.\n",
            "[22:51:15] WARNING: /workspace/src/objective/regression_obj.cu:152: reg:linear is now deprecated in favor of reg:squarederror.\n",
            "[22:51:15] WARNING: /workspace/src/objective/regression_obj.cu:152: reg:linear is now deprecated in favor of reg:squarederror.\n",
            "[22:51:15] WARNING: /workspace/src/objective/regression_obj.cu:152: reg:linear is now deprecated in favor of reg:squarederror.\n",
            "\tMAE 0.056462 for 94 rounds\n",
            "CV with max_depth=4, min_child_weight=6\n",
            "[22:51:16] WARNING: /workspace/src/objective/regression_obj.cu:152: reg:linear is now deprecated in favor of reg:squarederror.\n",
            "[22:51:16] WARNING: /workspace/src/objective/regression_obj.cu:152: reg:linear is now deprecated in favor of reg:squarederror.\n",
            "[22:51:16] WARNING: /workspace/src/objective/regression_obj.cu:152: reg:linear is now deprecated in favor of reg:squarederror.\n",
            "[22:51:16] WARNING: /workspace/src/objective/regression_obj.cu:152: reg:linear is now deprecated in favor of reg:squarederror.\n",
            "[22:51:16] WARNING: /workspace/src/objective/regression_obj.cu:152: reg:linear is now deprecated in favor of reg:squarederror.\n",
            "\tMAE 0.05618019999999999 for 83 rounds\n",
            "CV with max_depth=4, min_child_weight=7\n",
            "[22:51:17] WARNING: /workspace/src/objective/regression_obj.cu:152: reg:linear is now deprecated in favor of reg:squarederror.\n",
            "[22:51:17] WARNING: /workspace/src/objective/regression_obj.cu:152: reg:linear is now deprecated in favor of reg:squarederror.\n",
            "[22:51:17] WARNING: /workspace/src/objective/regression_obj.cu:152: reg:linear is now deprecated in favor of reg:squarederror.\n",
            "[22:51:17] WARNING: /workspace/src/objective/regression_obj.cu:152: reg:linear is now deprecated in favor of reg:squarederror.\n",
            "[22:51:17] WARNING: /workspace/src/objective/regression_obj.cu:152: reg:linear is now deprecated in favor of reg:squarederror.\n",
            "\tMAE 0.056192599999999995 for 87 rounds\n",
            "CV with max_depth=4, min_child_weight=8\n",
            "[22:51:17] WARNING: /workspace/src/objective/regression_obj.cu:152: reg:linear is now deprecated in favor of reg:squarederror.\n",
            "[22:51:17] WARNING: /workspace/src/objective/regression_obj.cu:152: reg:linear is now deprecated in favor of reg:squarederror.\n",
            "[22:51:17] WARNING: /workspace/src/objective/regression_obj.cu:152: reg:linear is now deprecated in favor of reg:squarederror.\n",
            "[22:51:17] WARNING: /workspace/src/objective/regression_obj.cu:152: reg:linear is now deprecated in favor of reg:squarederror.\n",
            "[22:51:17] WARNING: /workspace/src/objective/regression_obj.cu:152: reg:linear is now deprecated in favor of reg:squarederror.\n",
            "\tMAE 0.05593060000000001 for 87 rounds\n",
            "CV with max_depth=5, min_child_weight=5\n",
            "[22:51:18] WARNING: /workspace/src/objective/regression_obj.cu:152: reg:linear is now deprecated in favor of reg:squarederror.\n",
            "[22:51:18] WARNING: /workspace/src/objective/regression_obj.cu:152: reg:linear is now deprecated in favor of reg:squarederror.\n",
            "[22:51:18] WARNING: /workspace/src/objective/regression_obj.cu:152: reg:linear is now deprecated in favor of reg:squarederror.\n",
            "[22:51:18] WARNING: /workspace/src/objective/regression_obj.cu:152: reg:linear is now deprecated in favor of reg:squarederror.\n",
            "[22:51:18] WARNING: /workspace/src/objective/regression_obj.cu:152: reg:linear is now deprecated in favor of reg:squarederror.\n",
            "\tMAE 0.056417800000000004 for 94 rounds\n",
            "CV with max_depth=5, min_child_weight=6\n",
            "[22:51:18] WARNING: /workspace/src/objective/regression_obj.cu:152: reg:linear is now deprecated in favor of reg:squarederror.\n",
            "[22:51:18] WARNING: /workspace/src/objective/regression_obj.cu:152: reg:linear is now deprecated in favor of reg:squarederror.\n",
            "[22:51:18] WARNING: /workspace/src/objective/regression_obj.cu:152: reg:linear is now deprecated in favor of reg:squarederror.\n",
            "[22:51:18] WARNING: /workspace/src/objective/regression_obj.cu:152: reg:linear is now deprecated in favor of reg:squarederror.\n",
            "[22:51:18] WARNING: /workspace/src/objective/regression_obj.cu:152: reg:linear is now deprecated in favor of reg:squarederror.\n",
            "\tMAE 0.05616399999999999 for 102 rounds\n",
            "CV with max_depth=5, min_child_weight=7\n",
            "[22:51:19] WARNING: /workspace/src/objective/regression_obj.cu:152: reg:linear is now deprecated in favor of reg:squarederror.\n",
            "[22:51:19] WARNING: /workspace/src/objective/regression_obj.cu:152: reg:linear is now deprecated in favor of reg:squarederror.\n",
            "[22:51:19] WARNING: /workspace/src/objective/regression_obj.cu:152: reg:linear is now deprecated in favor of reg:squarederror.\n",
            "[22:51:19] WARNING: /workspace/src/objective/regression_obj.cu:152: reg:linear is now deprecated in favor of reg:squarederror.\n",
            "[22:51:19] WARNING: /workspace/src/objective/regression_obj.cu:152: reg:linear is now deprecated in favor of reg:squarederror.\n",
            "\tMAE 0.0562196 for 85 rounds\n",
            "CV with max_depth=5, min_child_weight=8\n",
            "[22:51:20] WARNING: /workspace/src/objective/regression_obj.cu:152: reg:linear is now deprecated in favor of reg:squarederror.\n",
            "[22:51:20] WARNING: /workspace/src/objective/regression_obj.cu:152: reg:linear is now deprecated in favor of reg:squarederror.\n",
            "[22:51:20] WARNING: /workspace/src/objective/regression_obj.cu:152: reg:linear is now deprecated in favor of reg:squarederror.\n",
            "[22:51:20] WARNING: /workspace/src/objective/regression_obj.cu:152: reg:linear is now deprecated in favor of reg:squarederror.\n",
            "[22:51:20] WARNING: /workspace/src/objective/regression_obj.cu:152: reg:linear is now deprecated in favor of reg:squarederror.\n",
            "\tMAE 0.0559456 for 90 rounds\n",
            "CV with max_depth=6, min_child_weight=5\n",
            "[22:51:20] WARNING: /workspace/src/objective/regression_obj.cu:152: reg:linear is now deprecated in favor of reg:squarederror.\n",
            "[22:51:20] WARNING: /workspace/src/objective/regression_obj.cu:152: reg:linear is now deprecated in favor of reg:squarederror.\n",
            "[22:51:20] WARNING: /workspace/src/objective/regression_obj.cu:152: reg:linear is now deprecated in favor of reg:squarederror.\n",
            "[22:51:20] WARNING: /workspace/src/objective/regression_obj.cu:152: reg:linear is now deprecated in favor of reg:squarederror.\n",
            "[22:51:20] WARNING: /workspace/src/objective/regression_obj.cu:152: reg:linear is now deprecated in favor of reg:squarederror.\n",
            "\tMAE 0.056417800000000004 for 94 rounds\n",
            "CV with max_depth=6, min_child_weight=6\n",
            "[22:51:21] WARNING: /workspace/src/objective/regression_obj.cu:152: reg:linear is now deprecated in favor of reg:squarederror.\n",
            "[22:51:21] WARNING: /workspace/src/objective/regression_obj.cu:152: reg:linear is now deprecated in favor of reg:squarederror.\n",
            "[22:51:21] WARNING: /workspace/src/objective/regression_obj.cu:152: reg:linear is now deprecated in favor of reg:squarederror.\n",
            "[22:51:21] WARNING: /workspace/src/objective/regression_obj.cu:152: reg:linear is now deprecated in favor of reg:squarederror.\n",
            "[22:51:21] WARNING: /workspace/src/objective/regression_obj.cu:152: reg:linear is now deprecated in favor of reg:squarederror.\n",
            "\tMAE 0.05616399999999999 for 102 rounds\n",
            "CV with max_depth=6, min_child_weight=7\n",
            "[22:51:22] WARNING: /workspace/src/objective/regression_obj.cu:152: reg:linear is now deprecated in favor of reg:squarederror.\n",
            "[22:51:22] WARNING: /workspace/src/objective/regression_obj.cu:152: reg:linear is now deprecated in favor of reg:squarederror.\n",
            "[22:51:22] WARNING: /workspace/src/objective/regression_obj.cu:152: reg:linear is now deprecated in favor of reg:squarederror.\n",
            "[22:51:22] WARNING: /workspace/src/objective/regression_obj.cu:152: reg:linear is now deprecated in favor of reg:squarederror.\n",
            "[22:51:22] WARNING: /workspace/src/objective/regression_obj.cu:152: reg:linear is now deprecated in favor of reg:squarederror.\n",
            "\tMAE 0.0562196 for 85 rounds\n",
            "CV with max_depth=6, min_child_weight=8\n",
            "[22:51:22] WARNING: /workspace/src/objective/regression_obj.cu:152: reg:linear is now deprecated in favor of reg:squarederror.\n",
            "[22:51:22] WARNING: /workspace/src/objective/regression_obj.cu:152: reg:linear is now deprecated in favor of reg:squarederror.\n",
            "[22:51:22] WARNING: /workspace/src/objective/regression_obj.cu:152: reg:linear is now deprecated in favor of reg:squarederror.\n",
            "[22:51:22] WARNING: /workspace/src/objective/regression_obj.cu:152: reg:linear is now deprecated in favor of reg:squarederror.\n",
            "[22:51:22] WARNING: /workspace/src/objective/regression_obj.cu:152: reg:linear is now deprecated in favor of reg:squarederror.\n",
            "\tMAE 0.0559456 for 90 rounds\n",
            "CV with max_depth=7, min_child_weight=5\n",
            "[22:51:23] WARNING: /workspace/src/objective/regression_obj.cu:152: reg:linear is now deprecated in favor of reg:squarederror.\n",
            "[22:51:23] WARNING: /workspace/src/objective/regression_obj.cu:152: reg:linear is now deprecated in favor of reg:squarederror.\n",
            "[22:51:23] WARNING: /workspace/src/objective/regression_obj.cu:152: reg:linear is now deprecated in favor of reg:squarederror.\n",
            "[22:51:23] WARNING: /workspace/src/objective/regression_obj.cu:152: reg:linear is now deprecated in favor of reg:squarederror.\n",
            "[22:51:23] WARNING: /workspace/src/objective/regression_obj.cu:152: reg:linear is now deprecated in favor of reg:squarederror.\n",
            "\tMAE 0.056417800000000004 for 94 rounds\n",
            "CV with max_depth=7, min_child_weight=6\n",
            "[22:51:23] WARNING: /workspace/src/objective/regression_obj.cu:152: reg:linear is now deprecated in favor of reg:squarederror.\n",
            "[22:51:23] WARNING: /workspace/src/objective/regression_obj.cu:152: reg:linear is now deprecated in favor of reg:squarederror.\n",
            "[22:51:23] WARNING: /workspace/src/objective/regression_obj.cu:152: reg:linear is now deprecated in favor of reg:squarederror.\n",
            "[22:51:23] WARNING: /workspace/src/objective/regression_obj.cu:152: reg:linear is now deprecated in favor of reg:squarederror.\n",
            "[22:51:23] WARNING: /workspace/src/objective/regression_obj.cu:152: reg:linear is now deprecated in favor of reg:squarederror.\n",
            "\tMAE 0.05616399999999999 for 102 rounds\n",
            "CV with max_depth=7, min_child_weight=7\n",
            "[22:51:24] WARNING: /workspace/src/objective/regression_obj.cu:152: reg:linear is now deprecated in favor of reg:squarederror.\n",
            "[22:51:24] WARNING: /workspace/src/objective/regression_obj.cu:152: reg:linear is now deprecated in favor of reg:squarederror.\n",
            "[22:51:24] WARNING: /workspace/src/objective/regression_obj.cu:152: reg:linear is now deprecated in favor of reg:squarederror.\n",
            "[22:51:24] WARNING: /workspace/src/objective/regression_obj.cu:152: reg:linear is now deprecated in favor of reg:squarederror.\n",
            "[22:51:24] WARNING: /workspace/src/objective/regression_obj.cu:152: reg:linear is now deprecated in favor of reg:squarederror.\n",
            "\tMAE 0.0562196 for 85 rounds\n",
            "CV with max_depth=7, min_child_weight=8\n",
            "[22:51:25] WARNING: /workspace/src/objective/regression_obj.cu:152: reg:linear is now deprecated in favor of reg:squarederror.\n",
            "[22:51:25] WARNING: /workspace/src/objective/regression_obj.cu:152: reg:linear is now deprecated in favor of reg:squarederror.\n",
            "[22:51:25] WARNING: /workspace/src/objective/regression_obj.cu:152: reg:linear is now deprecated in favor of reg:squarederror.\n",
            "[22:51:25] WARNING: /workspace/src/objective/regression_obj.cu:152: reg:linear is now deprecated in favor of reg:squarederror.\n",
            "[22:51:25] WARNING: /workspace/src/objective/regression_obj.cu:152: reg:linear is now deprecated in favor of reg:squarederror.\n",
            "\tMAE 0.0559456 for 90 rounds\n",
            "CV with max_depth=8, min_child_weight=5\n",
            "[22:51:25] WARNING: /workspace/src/objective/regression_obj.cu:152: reg:linear is now deprecated in favor of reg:squarederror.\n",
            "[22:51:25] WARNING: /workspace/src/objective/regression_obj.cu:152: reg:linear is now deprecated in favor of reg:squarederror.\n",
            "[22:51:25] WARNING: /workspace/src/objective/regression_obj.cu:152: reg:linear is now deprecated in favor of reg:squarederror.\n",
            "[22:51:25] WARNING: /workspace/src/objective/regression_obj.cu:152: reg:linear is now deprecated in favor of reg:squarederror.\n",
            "[22:51:25] WARNING: /workspace/src/objective/regression_obj.cu:152: reg:linear is now deprecated in favor of reg:squarederror.\n",
            "\tMAE 0.056417800000000004 for 94 rounds\n",
            "CV with max_depth=8, min_child_weight=6\n",
            "[22:51:26] WARNING: /workspace/src/objective/regression_obj.cu:152: reg:linear is now deprecated in favor of reg:squarederror.\n",
            "[22:51:26] WARNING: /workspace/src/objective/regression_obj.cu:152: reg:linear is now deprecated in favor of reg:squarederror.\n",
            "[22:51:26] WARNING: /workspace/src/objective/regression_obj.cu:152: reg:linear is now deprecated in favor of reg:squarederror.\n",
            "[22:51:26] WARNING: /workspace/src/objective/regression_obj.cu:152: reg:linear is now deprecated in favor of reg:squarederror.\n",
            "[22:51:26] WARNING: /workspace/src/objective/regression_obj.cu:152: reg:linear is now deprecated in favor of reg:squarederror.\n",
            "\tMAE 0.05616399999999999 for 102 rounds\n",
            "CV with max_depth=8, min_child_weight=7\n",
            "[22:51:27] WARNING: /workspace/src/objective/regression_obj.cu:152: reg:linear is now deprecated in favor of reg:squarederror.\n",
            "[22:51:27] WARNING: /workspace/src/objective/regression_obj.cu:152: reg:linear is now deprecated in favor of reg:squarederror.\n",
            "[22:51:27] WARNING: /workspace/src/objective/regression_obj.cu:152: reg:linear is now deprecated in favor of reg:squarederror.\n",
            "[22:51:27] WARNING: /workspace/src/objective/regression_obj.cu:152: reg:linear is now deprecated in favor of reg:squarederror.\n",
            "[22:51:27] WARNING: /workspace/src/objective/regression_obj.cu:152: reg:linear is now deprecated in favor of reg:squarederror.\n",
            "\tMAE 0.0562196 for 85 rounds\n",
            "CV with max_depth=8, min_child_weight=8\n",
            "[22:51:27] WARNING: /workspace/src/objective/regression_obj.cu:152: reg:linear is now deprecated in favor of reg:squarederror.\n",
            "[22:51:27] WARNING: /workspace/src/objective/regression_obj.cu:152: reg:linear is now deprecated in favor of reg:squarederror.\n",
            "[22:51:27] WARNING: /workspace/src/objective/regression_obj.cu:152: reg:linear is now deprecated in favor of reg:squarederror.\n",
            "[22:51:27] WARNING: /workspace/src/objective/regression_obj.cu:152: reg:linear is now deprecated in favor of reg:squarederror.\n",
            "[22:51:27] WARNING: /workspace/src/objective/regression_obj.cu:152: reg:linear is now deprecated in favor of reg:squarederror.\n",
            "\tMAE 0.0559456 for 90 rounds\n",
            "CV with max_depth=9, min_child_weight=5\n",
            "[22:51:28] WARNING: /workspace/src/objective/regression_obj.cu:152: reg:linear is now deprecated in favor of reg:squarederror.\n",
            "[22:51:28] WARNING: /workspace/src/objective/regression_obj.cu:152: reg:linear is now deprecated in favor of reg:squarederror.\n",
            "[22:51:28] WARNING: /workspace/src/objective/regression_obj.cu:152: reg:linear is now deprecated in favor of reg:squarederror.\n",
            "[22:51:28] WARNING: /workspace/src/objective/regression_obj.cu:152: reg:linear is now deprecated in favor of reg:squarederror.\n",
            "[22:51:28] WARNING: /workspace/src/objective/regression_obj.cu:152: reg:linear is now deprecated in favor of reg:squarederror.\n",
            "\tMAE 0.056417800000000004 for 94 rounds\n",
            "CV with max_depth=9, min_child_weight=6\n",
            "[22:51:28] WARNING: /workspace/src/objective/regression_obj.cu:152: reg:linear is now deprecated in favor of reg:squarederror.\n",
            "[22:51:28] WARNING: /workspace/src/objective/regression_obj.cu:152: reg:linear is now deprecated in favor of reg:squarederror.\n",
            "[22:51:28] WARNING: /workspace/src/objective/regression_obj.cu:152: reg:linear is now deprecated in favor of reg:squarederror.\n",
            "[22:51:28] WARNING: /workspace/src/objective/regression_obj.cu:152: reg:linear is now deprecated in favor of reg:squarederror.\n",
            "[22:51:28] WARNING: /workspace/src/objective/regression_obj.cu:152: reg:linear is now deprecated in favor of reg:squarederror.\n",
            "\tMAE 0.05616399999999999 for 102 rounds\n",
            "CV with max_depth=9, min_child_weight=7\n",
            "[22:51:29] WARNING: /workspace/src/objective/regression_obj.cu:152: reg:linear is now deprecated in favor of reg:squarederror.\n",
            "[22:51:29] WARNING: /workspace/src/objective/regression_obj.cu:152: reg:linear is now deprecated in favor of reg:squarederror.\n",
            "[22:51:29] WARNING: /workspace/src/objective/regression_obj.cu:152: reg:linear is now deprecated in favor of reg:squarederror.\n",
            "[22:51:29] WARNING: /workspace/src/objective/regression_obj.cu:152: reg:linear is now deprecated in favor of reg:squarederror.\n",
            "[22:51:29] WARNING: /workspace/src/objective/regression_obj.cu:152: reg:linear is now deprecated in favor of reg:squarederror.\n",
            "\tMAE 0.0562196 for 85 rounds\n",
            "CV with max_depth=9, min_child_weight=8\n",
            "[22:51:30] WARNING: /workspace/src/objective/regression_obj.cu:152: reg:linear is now deprecated in favor of reg:squarederror.\n",
            "[22:51:30] WARNING: /workspace/src/objective/regression_obj.cu:152: reg:linear is now deprecated in favor of reg:squarederror.\n",
            "[22:51:30] WARNING: /workspace/src/objective/regression_obj.cu:152: reg:linear is now deprecated in favor of reg:squarederror.\n",
            "[22:51:30] WARNING: /workspace/src/objective/regression_obj.cu:152: reg:linear is now deprecated in favor of reg:squarederror.\n",
            "[22:51:30] WARNING: /workspace/src/objective/regression_obj.cu:152: reg:linear is now deprecated in favor of reg:squarederror.\n",
            "\tMAE 0.0559456 for 90 rounds\n",
            "CV with max_depth=10, min_child_weight=5\n",
            "[22:51:30] WARNING: /workspace/src/objective/regression_obj.cu:152: reg:linear is now deprecated in favor of reg:squarederror.\n",
            "[22:51:30] WARNING: /workspace/src/objective/regression_obj.cu:152: reg:linear is now deprecated in favor of reg:squarederror.\n",
            "[22:51:30] WARNING: /workspace/src/objective/regression_obj.cu:152: reg:linear is now deprecated in favor of reg:squarederror.\n",
            "[22:51:30] WARNING: /workspace/src/objective/regression_obj.cu:152: reg:linear is now deprecated in favor of reg:squarederror.\n",
            "[22:51:30] WARNING: /workspace/src/objective/regression_obj.cu:152: reg:linear is now deprecated in favor of reg:squarederror.\n",
            "\tMAE 0.056417800000000004 for 94 rounds\n",
            "CV with max_depth=10, min_child_weight=6\n",
            "[22:51:31] WARNING: /workspace/src/objective/regression_obj.cu:152: reg:linear is now deprecated in favor of reg:squarederror.\n",
            "[22:51:31] WARNING: /workspace/src/objective/regression_obj.cu:152: reg:linear is now deprecated in favor of reg:squarederror.\n",
            "[22:51:31] WARNING: /workspace/src/objective/regression_obj.cu:152: reg:linear is now deprecated in favor of reg:squarederror.\n",
            "[22:51:31] WARNING: /workspace/src/objective/regression_obj.cu:152: reg:linear is now deprecated in favor of reg:squarederror.\n",
            "[22:51:31] WARNING: /workspace/src/objective/regression_obj.cu:152: reg:linear is now deprecated in favor of reg:squarederror.\n",
            "\tMAE 0.05616399999999999 for 102 rounds\n",
            "CV with max_depth=10, min_child_weight=7\n",
            "[22:51:32] WARNING: /workspace/src/objective/regression_obj.cu:152: reg:linear is now deprecated in favor of reg:squarederror.\n",
            "[22:51:32] WARNING: /workspace/src/objective/regression_obj.cu:152: reg:linear is now deprecated in favor of reg:squarederror.\n",
            "[22:51:32] WARNING: /workspace/src/objective/regression_obj.cu:152: reg:linear is now deprecated in favor of reg:squarederror.\n",
            "[22:51:32] WARNING: /workspace/src/objective/regression_obj.cu:152: reg:linear is now deprecated in favor of reg:squarederror.\n",
            "[22:51:32] WARNING: /workspace/src/objective/regression_obj.cu:152: reg:linear is now deprecated in favor of reg:squarederror.\n",
            "\tMAE 0.0562196 for 85 rounds\n",
            "CV with max_depth=10, min_child_weight=8\n",
            "[22:51:32] WARNING: /workspace/src/objective/regression_obj.cu:152: reg:linear is now deprecated in favor of reg:squarederror.\n",
            "[22:51:32] WARNING: /workspace/src/objective/regression_obj.cu:152: reg:linear is now deprecated in favor of reg:squarederror.\n",
            "[22:51:32] WARNING: /workspace/src/objective/regression_obj.cu:152: reg:linear is now deprecated in favor of reg:squarederror.\n",
            "[22:51:32] WARNING: /workspace/src/objective/regression_obj.cu:152: reg:linear is now deprecated in favor of reg:squarederror.\n",
            "[22:51:32] WARNING: /workspace/src/objective/regression_obj.cu:152: reg:linear is now deprecated in favor of reg:squarederror.\n",
            "\tMAE 0.0559456 for 90 rounds\n",
            "CV with max_depth=11, min_child_weight=5\n",
            "[22:51:33] WARNING: /workspace/src/objective/regression_obj.cu:152: reg:linear is now deprecated in favor of reg:squarederror.\n",
            "[22:51:33] WARNING: /workspace/src/objective/regression_obj.cu:152: reg:linear is now deprecated in favor of reg:squarederror.\n",
            "[22:51:33] WARNING: /workspace/src/objective/regression_obj.cu:152: reg:linear is now deprecated in favor of reg:squarederror.\n",
            "[22:51:33] WARNING: /workspace/src/objective/regression_obj.cu:152: reg:linear is now deprecated in favor of reg:squarederror.\n",
            "[22:51:33] WARNING: /workspace/src/objective/regression_obj.cu:152: reg:linear is now deprecated in favor of reg:squarederror.\n",
            "\tMAE 0.056417800000000004 for 94 rounds\n",
            "CV with max_depth=11, min_child_weight=6\n",
            "[22:51:33] WARNING: /workspace/src/objective/regression_obj.cu:152: reg:linear is now deprecated in favor of reg:squarederror.\n",
            "[22:51:33] WARNING: /workspace/src/objective/regression_obj.cu:152: reg:linear is now deprecated in favor of reg:squarederror.\n",
            "[22:51:33] WARNING: /workspace/src/objective/regression_obj.cu:152: reg:linear is now deprecated in favor of reg:squarederror.\n",
            "[22:51:33] WARNING: /workspace/src/objective/regression_obj.cu:152: reg:linear is now deprecated in favor of reg:squarederror.\n",
            "[22:51:33] WARNING: /workspace/src/objective/regression_obj.cu:152: reg:linear is now deprecated in favor of reg:squarederror.\n",
            "\tMAE 0.05616399999999999 for 102 rounds\n",
            "CV with max_depth=11, min_child_weight=7\n",
            "[22:51:34] WARNING: /workspace/src/objective/regression_obj.cu:152: reg:linear is now deprecated in favor of reg:squarederror.\n",
            "[22:51:34] WARNING: /workspace/src/objective/regression_obj.cu:152: reg:linear is now deprecated in favor of reg:squarederror.\n",
            "[22:51:34] WARNING: /workspace/src/objective/regression_obj.cu:152: reg:linear is now deprecated in favor of reg:squarederror.\n",
            "[22:51:34] WARNING: /workspace/src/objective/regression_obj.cu:152: reg:linear is now deprecated in favor of reg:squarederror.\n",
            "[22:51:34] WARNING: /workspace/src/objective/regression_obj.cu:152: reg:linear is now deprecated in favor of reg:squarederror.\n",
            "\tMAE 0.0562196 for 85 rounds\n",
            "CV with max_depth=11, min_child_weight=8\n",
            "[22:51:35] WARNING: /workspace/src/objective/regression_obj.cu:152: reg:linear is now deprecated in favor of reg:squarederror.\n",
            "[22:51:35] WARNING: /workspace/src/objective/regression_obj.cu:152: reg:linear is now deprecated in favor of reg:squarederror.\n",
            "[22:51:35] WARNING: /workspace/src/objective/regression_obj.cu:152: reg:linear is now deprecated in favor of reg:squarederror.\n",
            "[22:51:35] WARNING: /workspace/src/objective/regression_obj.cu:152: reg:linear is now deprecated in favor of reg:squarederror.\n",
            "[22:51:35] WARNING: /workspace/src/objective/regression_obj.cu:152: reg:linear is now deprecated in favor of reg:squarederror.\n",
            "\tMAE 0.0559456 for 90 rounds\n",
            "Best params: 1, 8, MAE: 0.054705199999999995\n"
          ]
        }
      ],
      "source": [
        "# Define initial best params and MAE\n",
        "min_mae = float(\"Inf\")\n",
        "best_params = None\n",
        "for max_depth, min_child_weight in gridsearch_params:\n",
        "    print(\"CV with max_depth={}, min_child_weight={}\".format(\n",
        "                             max_depth,\n",
        "                             min_child_weight))\n",
        "    # Update our parameters\n",
        "    params['max_depth'] = max_depth\n",
        "    params['min_child_weight'] = min_child_weight\n",
        "    # Run CV\n",
        "    cv_results = xgb.cv(\n",
        "        params,\n",
        "        dtrain,\n",
        "        num_boost_round=num_boost_round,\n",
        "        seed=42,\n",
        "        nfold=5,\n",
        "        metrics={'mae'},\n",
        "        early_stopping_rounds=10\n",
        "    )\n",
        "    # Update best MAE\n",
        "    mean_mae = cv_results['test-mae-mean'].min()\n",
        "    boost_rounds = cv_results['test-mae-mean'].argmin()\n",
        "    print(\"\\tMAE {} for {} rounds\".format(mean_mae, boost_rounds))\n",
        "    if mean_mae < min_mae:\n",
        "        min_mae = mean_mae\n",
        "        best_params = (max_depth,min_child_weight)\n",
        "print(\"Best params: {}, {}, MAE: {}\".format(best_params[0], best_params[1], min_mae))"
      ]
    },
    {
      "cell_type": "code",
      "execution_count": null,
      "metadata": {
        "id": "zD2SoXFJ9JG2"
      },
      "outputs": [],
      "source": [
        "params['max_depth'] = 1\n",
        "params['min_child_weight'] = 8"
      ]
    },
    {
      "cell_type": "code",
      "execution_count": null,
      "metadata": {
        "id": "yhfdPPOr9muP"
      },
      "outputs": [],
      "source": [
        "gridsearch_params = [\n",
        "    (subsample, colsample)\n",
        "    for subsample in [i/10. for i in range(7,11)]\n",
        "    for colsample in [i/10. for i in range(7,11)]\n",
        "]"
      ]
    },
    {
      "cell_type": "code",
      "execution_count": null,
      "metadata": {
        "colab": {
          "base_uri": "https://localhost:8080/"
        },
        "id": "DO_6kNQz9n8k",
        "outputId": "73481f30-d445-4d6b-8fff-58d6cf05bf4b"
      },
      "outputs": [
        {
          "name": "stdout",
          "output_type": "stream",
          "text": [
            "CV with subsample=1.0, colsample=1.0\n",
            "[22:51:42] WARNING: /workspace/src/objective/regression_obj.cu:152: reg:linear is now deprecated in favor of reg:squarederror.\n",
            "[22:51:42] WARNING: /workspace/src/objective/regression_obj.cu:152: reg:linear is now deprecated in favor of reg:squarederror.\n",
            "[22:51:42] WARNING: /workspace/src/objective/regression_obj.cu:152: reg:linear is now deprecated in favor of reg:squarederror.\n",
            "[22:51:42] WARNING: /workspace/src/objective/regression_obj.cu:152: reg:linear is now deprecated in favor of reg:squarederror.\n",
            "[22:51:42] WARNING: /workspace/src/objective/regression_obj.cu:152: reg:linear is now deprecated in favor of reg:squarederror.\n",
            "\tMAE 0.05472900000000001 for 107 rounds\n",
            "CV with subsample=1.0, colsample=0.9\n",
            "[22:51:43] WARNING: /workspace/src/objective/regression_obj.cu:152: reg:linear is now deprecated in favor of reg:squarederror.\n",
            "[22:51:43] WARNING: /workspace/src/objective/regression_obj.cu:152: reg:linear is now deprecated in favor of reg:squarederror.\n",
            "[22:51:43] WARNING: /workspace/src/objective/regression_obj.cu:152: reg:linear is now deprecated in favor of reg:squarederror.\n",
            "[22:51:43] WARNING: /workspace/src/objective/regression_obj.cu:152: reg:linear is now deprecated in favor of reg:squarederror.\n",
            "[22:51:43] WARNING: /workspace/src/objective/regression_obj.cu:152: reg:linear is now deprecated in favor of reg:squarederror.\n",
            "\tMAE 0.054705199999999995 for 109 rounds\n",
            "CV with subsample=1.0, colsample=0.8\n",
            "[22:51:43] WARNING: /workspace/src/objective/regression_obj.cu:152: reg:linear is now deprecated in favor of reg:squarederror.\n",
            "[22:51:43] WARNING: /workspace/src/objective/regression_obj.cu:152: reg:linear is now deprecated in favor of reg:squarederror.\n",
            "[22:51:43] WARNING: /workspace/src/objective/regression_obj.cu:152: reg:linear is now deprecated in favor of reg:squarederror.\n",
            "[22:51:43] WARNING: /workspace/src/objective/regression_obj.cu:152: reg:linear is now deprecated in favor of reg:squarederror.\n",
            "[22:51:43] WARNING: /workspace/src/objective/regression_obj.cu:152: reg:linear is now deprecated in favor of reg:squarederror.\n",
            "\tMAE 0.054705199999999995 for 109 rounds\n",
            "CV with subsample=1.0, colsample=0.7\n",
            "[22:51:44] WARNING: /workspace/src/objective/regression_obj.cu:152: reg:linear is now deprecated in favor of reg:squarederror.\n",
            "[22:51:44] WARNING: /workspace/src/objective/regression_obj.cu:152: reg:linear is now deprecated in favor of reg:squarederror.\n",
            "[22:51:44] WARNING: /workspace/src/objective/regression_obj.cu:152: reg:linear is now deprecated in favor of reg:squarederror.\n",
            "[22:51:44] WARNING: /workspace/src/objective/regression_obj.cu:152: reg:linear is now deprecated in favor of reg:squarederror.\n",
            "[22:51:44] WARNING: /workspace/src/objective/regression_obj.cu:152: reg:linear is now deprecated in favor of reg:squarederror.\n",
            "\tMAE 0.0544914 for 124 rounds\n",
            "CV with subsample=0.9, colsample=1.0\n",
            "[22:51:45] WARNING: /workspace/src/objective/regression_obj.cu:152: reg:linear is now deprecated in favor of reg:squarederror.\n",
            "[22:51:45] WARNING: /workspace/src/objective/regression_obj.cu:152: reg:linear is now deprecated in favor of reg:squarederror.\n",
            "[22:51:45] WARNING: /workspace/src/objective/regression_obj.cu:152: reg:linear is now deprecated in favor of reg:squarederror.\n",
            "[22:51:45] WARNING: /workspace/src/objective/regression_obj.cu:152: reg:linear is now deprecated in favor of reg:squarederror.\n",
            "[22:51:45] WARNING: /workspace/src/objective/regression_obj.cu:152: reg:linear is now deprecated in favor of reg:squarederror.\n",
            "\tMAE 0.0547802 for 162 rounds\n",
            "CV with subsample=0.9, colsample=0.9\n",
            "[22:51:46] WARNING: /workspace/src/objective/regression_obj.cu:152: reg:linear is now deprecated in favor of reg:squarederror.\n",
            "[22:51:46] WARNING: /workspace/src/objective/regression_obj.cu:152: reg:linear is now deprecated in favor of reg:squarederror.\n",
            "[22:51:46] WARNING: /workspace/src/objective/regression_obj.cu:152: reg:linear is now deprecated in favor of reg:squarederror.\n",
            "[22:51:46] WARNING: /workspace/src/objective/regression_obj.cu:152: reg:linear is now deprecated in favor of reg:squarederror.\n",
            "[22:51:46] WARNING: /workspace/src/objective/regression_obj.cu:152: reg:linear is now deprecated in favor of reg:squarederror.\n",
            "\tMAE 0.054626799999999996 for 180 rounds\n",
            "CV with subsample=0.9, colsample=0.8\n",
            "[22:51:47] WARNING: /workspace/src/objective/regression_obj.cu:152: reg:linear is now deprecated in favor of reg:squarederror.\n",
            "[22:51:47] WARNING: /workspace/src/objective/regression_obj.cu:152: reg:linear is now deprecated in favor of reg:squarederror.\n",
            "[22:51:47] WARNING: /workspace/src/objective/regression_obj.cu:152: reg:linear is now deprecated in favor of reg:squarederror.\n",
            "[22:51:47] WARNING: /workspace/src/objective/regression_obj.cu:152: reg:linear is now deprecated in favor of reg:squarederror.\n",
            "[22:51:47] WARNING: /workspace/src/objective/regression_obj.cu:152: reg:linear is now deprecated in favor of reg:squarederror.\n",
            "\tMAE 0.054626799999999996 for 180 rounds\n",
            "CV with subsample=0.9, colsample=0.7\n",
            "[22:51:48] WARNING: /workspace/src/objective/regression_obj.cu:152: reg:linear is now deprecated in favor of reg:squarederror.\n",
            "[22:51:48] WARNING: /workspace/src/objective/regression_obj.cu:152: reg:linear is now deprecated in favor of reg:squarederror.\n",
            "[22:51:48] WARNING: /workspace/src/objective/regression_obj.cu:152: reg:linear is now deprecated in favor of reg:squarederror.\n",
            "[22:51:48] WARNING: /workspace/src/objective/regression_obj.cu:152: reg:linear is now deprecated in favor of reg:squarederror.\n",
            "[22:51:48] WARNING: /workspace/src/objective/regression_obj.cu:152: reg:linear is now deprecated in favor of reg:squarederror.\n",
            "\tMAE 0.0548806 for 170 rounds\n",
            "CV with subsample=0.8, colsample=1.0\n",
            "[22:51:49] WARNING: /workspace/src/objective/regression_obj.cu:152: reg:linear is now deprecated in favor of reg:squarederror.\n",
            "[22:51:49] WARNING: /workspace/src/objective/regression_obj.cu:152: reg:linear is now deprecated in favor of reg:squarederror.\n",
            "[22:51:49] WARNING: /workspace/src/objective/regression_obj.cu:152: reg:linear is now deprecated in favor of reg:squarederror.\n",
            "[22:51:49] WARNING: /workspace/src/objective/regression_obj.cu:152: reg:linear is now deprecated in favor of reg:squarederror.\n",
            "[22:51:49] WARNING: /workspace/src/objective/regression_obj.cu:152: reg:linear is now deprecated in favor of reg:squarederror.\n",
            "\tMAE 0.0545496 for 184 rounds\n",
            "CV with subsample=0.8, colsample=0.9\n",
            "[22:51:50] WARNING: /workspace/src/objective/regression_obj.cu:152: reg:linear is now deprecated in favor of reg:squarederror.\n",
            "[22:51:50] WARNING: /workspace/src/objective/regression_obj.cu:152: reg:linear is now deprecated in favor of reg:squarederror.\n",
            "[22:51:50] WARNING: /workspace/src/objective/regression_obj.cu:152: reg:linear is now deprecated in favor of reg:squarederror.\n",
            "[22:51:50] WARNING: /workspace/src/objective/regression_obj.cu:152: reg:linear is now deprecated in favor of reg:squarederror.\n",
            "[22:51:50] WARNING: /workspace/src/objective/regression_obj.cu:152: reg:linear is now deprecated in favor of reg:squarederror.\n",
            "\tMAE 0.05456799999999999 for 184 rounds\n",
            "CV with subsample=0.8, colsample=0.8\n",
            "[22:51:51] WARNING: /workspace/src/objective/regression_obj.cu:152: reg:linear is now deprecated in favor of reg:squarederror.\n",
            "[22:51:51] WARNING: /workspace/src/objective/regression_obj.cu:152: reg:linear is now deprecated in favor of reg:squarederror.\n",
            "[22:51:51] WARNING: /workspace/src/objective/regression_obj.cu:152: reg:linear is now deprecated in favor of reg:squarederror.\n",
            "[22:51:51] WARNING: /workspace/src/objective/regression_obj.cu:152: reg:linear is now deprecated in favor of reg:squarederror.\n",
            "[22:51:51] WARNING: /workspace/src/objective/regression_obj.cu:152: reg:linear is now deprecated in favor of reg:squarederror.\n",
            "\tMAE 0.05456799999999999 for 184 rounds\n",
            "CV with subsample=0.8, colsample=0.7\n",
            "[22:51:53] WARNING: /workspace/src/objective/regression_obj.cu:152: reg:linear is now deprecated in favor of reg:squarederror.\n",
            "[22:51:53] WARNING: /workspace/src/objective/regression_obj.cu:152: reg:linear is now deprecated in favor of reg:squarederror.\n",
            "[22:51:53] WARNING: /workspace/src/objective/regression_obj.cu:152: reg:linear is now deprecated in favor of reg:squarederror.\n",
            "[22:51:53] WARNING: /workspace/src/objective/regression_obj.cu:152: reg:linear is now deprecated in favor of reg:squarederror.\n",
            "[22:51:53] WARNING: /workspace/src/objective/regression_obj.cu:152: reg:linear is now deprecated in favor of reg:squarederror.\n",
            "\tMAE 0.054828 for 151 rounds\n",
            "CV with subsample=0.7, colsample=1.0\n",
            "[22:51:53] WARNING: /workspace/src/objective/regression_obj.cu:152: reg:linear is now deprecated in favor of reg:squarederror.\n",
            "[22:51:53] WARNING: /workspace/src/objective/regression_obj.cu:152: reg:linear is now deprecated in favor of reg:squarederror.\n",
            "[22:51:53] WARNING: /workspace/src/objective/regression_obj.cu:152: reg:linear is now deprecated in favor of reg:squarederror.\n",
            "[22:51:53] WARNING: /workspace/src/objective/regression_obj.cu:152: reg:linear is now deprecated in favor of reg:squarederror.\n",
            "[22:51:53] WARNING: /workspace/src/objective/regression_obj.cu:152: reg:linear is now deprecated in favor of reg:squarederror.\n",
            "\tMAE 0.055233599999999994 for 113 rounds\n",
            "CV with subsample=0.7, colsample=0.9\n",
            "[22:51:54] WARNING: /workspace/src/objective/regression_obj.cu:152: reg:linear is now deprecated in favor of reg:squarederror.\n",
            "[22:51:54] WARNING: /workspace/src/objective/regression_obj.cu:152: reg:linear is now deprecated in favor of reg:squarederror.\n",
            "[22:51:54] WARNING: /workspace/src/objective/regression_obj.cu:152: reg:linear is now deprecated in favor of reg:squarederror.\n",
            "[22:51:54] WARNING: /workspace/src/objective/regression_obj.cu:152: reg:linear is now deprecated in favor of reg:squarederror.\n",
            "[22:51:54] WARNING: /workspace/src/objective/regression_obj.cu:152: reg:linear is now deprecated in favor of reg:squarederror.\n",
            "\tMAE 0.055113800000000004 for 113 rounds\n",
            "CV with subsample=0.7, colsample=0.8\n",
            "[22:51:55] WARNING: /workspace/src/objective/regression_obj.cu:152: reg:linear is now deprecated in favor of reg:squarederror.\n",
            "[22:51:55] WARNING: /workspace/src/objective/regression_obj.cu:152: reg:linear is now deprecated in favor of reg:squarederror.\n",
            "[22:51:55] WARNING: /workspace/src/objective/regression_obj.cu:152: reg:linear is now deprecated in favor of reg:squarederror.\n",
            "[22:51:55] WARNING: /workspace/src/objective/regression_obj.cu:152: reg:linear is now deprecated in favor of reg:squarederror.\n",
            "[22:51:55] WARNING: /workspace/src/objective/regression_obj.cu:152: reg:linear is now deprecated in favor of reg:squarederror.\n",
            "\tMAE 0.055113800000000004 for 113 rounds\n",
            "CV with subsample=0.7, colsample=0.7\n",
            "[22:51:56] WARNING: /workspace/src/objective/regression_obj.cu:152: reg:linear is now deprecated in favor of reg:squarederror.\n",
            "[22:51:56] WARNING: /workspace/src/objective/regression_obj.cu:152: reg:linear is now deprecated in favor of reg:squarederror.\n",
            "[22:51:56] WARNING: /workspace/src/objective/regression_obj.cu:152: reg:linear is now deprecated in favor of reg:squarederror.\n",
            "[22:51:56] WARNING: /workspace/src/objective/regression_obj.cu:152: reg:linear is now deprecated in favor of reg:squarederror.\n",
            "[22:51:56] WARNING: /workspace/src/objective/regression_obj.cu:152: reg:linear is now deprecated in favor of reg:squarederror.\n",
            "\tMAE 0.0552622 for 151 rounds\n",
            "Best params: 1.0, 0.7, MAE: 0.0544914\n"
          ]
        }
      ],
      "source": [
        "min_mae = float(\"Inf\")\n",
        "best_params = None\n",
        "# We start by the largest values and go down to the smallest\n",
        "for subsample, colsample in reversed(gridsearch_params):\n",
        "    print(\"CV with subsample={}, colsample={}\".format(\n",
        "                             subsample,\n",
        "                             colsample))\n",
        "    # We update our parameters\n",
        "    params['subsample'] = subsample\n",
        "    params['colsample_bytree'] = colsample\n",
        "    # Run CV\n",
        "    cv_results = xgb.cv(\n",
        "        params,\n",
        "        dtrain,\n",
        "        num_boost_round=num_boost_round,\n",
        "        seed=42,\n",
        "        nfold=5,\n",
        "        metrics={'mae'},\n",
        "        early_stopping_rounds=10\n",
        "    )\n",
        "    # Update best score\n",
        "    mean_mae = cv_results['test-mae-mean'].min()\n",
        "    boost_rounds = cv_results['test-mae-mean'].argmin()\n",
        "    print(\"\\tMAE {} for {} rounds\".format(mean_mae, boost_rounds))\n",
        "    if mean_mae < min_mae:\n",
        "        min_mae = mean_mae\n",
        "        best_params = (subsample,colsample)\n",
        "print(\"Best params: {}, {}, MAE: {}\".format(best_params[0], best_params[1], min_mae))\n"
      ]
    },
    {
      "cell_type": "code",
      "execution_count": null,
      "metadata": {
        "id": "gkw5E44O9e3Z"
      },
      "outputs": [],
      "source": [
        "params['subsample'] = 1.\n",
        "params['colsample_bytree'] = .7"
      ]
    },
    {
      "cell_type": "code",
      "execution_count": null,
      "metadata": {
        "colab": {
          "base_uri": "https://localhost:8080/"
        },
        "id": "1rIbeVnw-YPD",
        "outputId": "b42e1741-2db1-43ed-ba3a-aacb81f14423"
      },
      "outputs": [
        {
          "name": "stdout",
          "output_type": "stream",
          "text": [
            "CPU times: user 4 µs, sys: 0 ns, total: 4 µs\n",
            "Wall time: 7.39 µs\n",
            "CV with eta=0.3\n",
            "CPU times: user 2 µs, sys: 0 ns, total: 2 µs\n",
            "Wall time: 4.29 µs\n",
            "[22:52:16] WARNING: /workspace/src/objective/regression_obj.cu:152: reg:linear is now deprecated in favor of reg:squarederror.\n",
            "[22:52:16] WARNING: /workspace/src/objective/regression_obj.cu:152: reg:linear is now deprecated in favor of reg:squarederror.\n",
            "[22:52:16] WARNING: /workspace/src/objective/regression_obj.cu:152: reg:linear is now deprecated in favor of reg:squarederror.\n",
            "[22:52:16] WARNING: /workspace/src/objective/regression_obj.cu:152: reg:linear is now deprecated in favor of reg:squarederror.\n",
            "[22:52:16] WARNING: /workspace/src/objective/regression_obj.cu:152: reg:linear is now deprecated in favor of reg:squarederror.\n",
            "\tMAE 0.0544914 for 124 rounds\n",
            "\n",
            "CV with eta=0.2\n",
            "CPU times: user 2 µs, sys: 0 ns, total: 2 µs\n",
            "Wall time: 4.53 µs\n",
            "[22:52:16] WARNING: /workspace/src/objective/regression_obj.cu:152: reg:linear is now deprecated in favor of reg:squarederror.\n",
            "[22:52:16] WARNING: /workspace/src/objective/regression_obj.cu:152: reg:linear is now deprecated in favor of reg:squarederror.\n",
            "[22:52:16] WARNING: /workspace/src/objective/regression_obj.cu:152: reg:linear is now deprecated in favor of reg:squarederror.\n",
            "[22:52:16] WARNING: /workspace/src/objective/regression_obj.cu:152: reg:linear is now deprecated in favor of reg:squarederror.\n",
            "[22:52:16] WARNING: /workspace/src/objective/regression_obj.cu:152: reg:linear is now deprecated in favor of reg:squarederror.\n",
            "\tMAE 0.0544914 for 124 rounds\n",
            "\n",
            "CV with eta=0.1\n",
            "CPU times: user 2 µs, sys: 0 ns, total: 2 µs\n",
            "Wall time: 4.29 µs\n",
            "[22:52:17] WARNING: /workspace/src/objective/regression_obj.cu:152: reg:linear is now deprecated in favor of reg:squarederror.\n",
            "[22:52:17] WARNING: /workspace/src/objective/regression_obj.cu:152: reg:linear is now deprecated in favor of reg:squarederror.\n",
            "[22:52:17] WARNING: /workspace/src/objective/regression_obj.cu:152: reg:linear is now deprecated in favor of reg:squarederror.\n",
            "[22:52:17] WARNING: /workspace/src/objective/regression_obj.cu:152: reg:linear is now deprecated in favor of reg:squarederror.\n",
            "[22:52:17] WARNING: /workspace/src/objective/regression_obj.cu:152: reg:linear is now deprecated in favor of reg:squarederror.\n",
            "\tMAE 0.0544914 for 124 rounds\n",
            "\n",
            "CV with eta=0.05\n",
            "CPU times: user 1e+03 ns, sys: 1 µs, total: 2 µs\n",
            "Wall time: 4.29 µs\n",
            "[22:52:18] WARNING: /workspace/src/objective/regression_obj.cu:152: reg:linear is now deprecated in favor of reg:squarederror.\n",
            "[22:52:18] WARNING: /workspace/src/objective/regression_obj.cu:152: reg:linear is now deprecated in favor of reg:squarederror.\n",
            "[22:52:18] WARNING: /workspace/src/objective/regression_obj.cu:152: reg:linear is now deprecated in favor of reg:squarederror.\n",
            "[22:52:18] WARNING: /workspace/src/objective/regression_obj.cu:152: reg:linear is now deprecated in favor of reg:squarederror.\n",
            "[22:52:18] WARNING: /workspace/src/objective/regression_obj.cu:152: reg:linear is now deprecated in favor of reg:squarederror.\n",
            "\tMAE 0.0544914 for 124 rounds\n",
            "\n",
            "CV with eta=0.01\n",
            "CPU times: user 2 µs, sys: 0 ns, total: 2 µs\n",
            "Wall time: 4.53 µs\n",
            "[22:52:19] WARNING: /workspace/src/objective/regression_obj.cu:152: reg:linear is now deprecated in favor of reg:squarederror.\n",
            "[22:52:19] WARNING: /workspace/src/objective/regression_obj.cu:152: reg:linear is now deprecated in favor of reg:squarederror.\n",
            "[22:52:19] WARNING: /workspace/src/objective/regression_obj.cu:152: reg:linear is now deprecated in favor of reg:squarederror.\n",
            "[22:52:19] WARNING: /workspace/src/objective/regression_obj.cu:152: reg:linear is now deprecated in favor of reg:squarederror.\n",
            "[22:52:19] WARNING: /workspace/src/objective/regression_obj.cu:152: reg:linear is now deprecated in favor of reg:squarederror.\n",
            "\tMAE 0.0544914 for 124 rounds\n",
            "\n",
            "CV with eta=0.005\n",
            "CPU times: user 2 µs, sys: 0 ns, total: 2 µs\n",
            "Wall time: 4.53 µs\n",
            "[22:52:20] WARNING: /workspace/src/objective/regression_obj.cu:152: reg:linear is now deprecated in favor of reg:squarederror.\n",
            "[22:52:20] WARNING: /workspace/src/objective/regression_obj.cu:152: reg:linear is now deprecated in favor of reg:squarederror.\n",
            "[22:52:20] WARNING: /workspace/src/objective/regression_obj.cu:152: reg:linear is now deprecated in favor of reg:squarederror.\n",
            "[22:52:20] WARNING: /workspace/src/objective/regression_obj.cu:152: reg:linear is now deprecated in favor of reg:squarederror.\n",
            "[22:52:20] WARNING: /workspace/src/objective/regression_obj.cu:152: reg:linear is now deprecated in favor of reg:squarederror.\n",
            "\tMAE 0.0544914 for 124 rounds\n",
            "\n",
            "Best params: 0.3, MAE: 0.0544914\n"
          ]
        }
      ],
      "source": [
        "%time\n",
        "# This can take some time…\n",
        "min_mae = float(\"Inf\")\n",
        "best_params = None\n",
        "for eta in [.3, .2, .1, .05, .01, .005]:\n",
        "    print(\"CV with eta={}\".format(eta))\n",
        "    # We update our parameters\n",
        "    params['eta'] = eta\n",
        "    # Run and time CV\n",
        "    %time \n",
        "    cv_results = xgb.cv(\n",
        "            params,\n",
        "            dtrain,\n",
        "            num_boost_round=num_boost_round,\n",
        "            seed=42,\n",
        "            nfold=5,\n",
        "            metrics=['mae'],\n",
        "            early_stopping_rounds=10\n",
        "          )\n",
        "    # Update best score\n",
        "    mean_mae = cv_results['test-mae-mean'].min()\n",
        "    boost_rounds = cv_results['test-mae-mean'].argmin()\n",
        "    print(\"\\tMAE {} for {} rounds\\n\".format(mean_mae, boost_rounds))\n",
        "    if mean_mae < min_mae:\n",
        "        min_mae = mean_mae\n",
        "        best_params = eta\n",
        "print(\"Best params: {}, MAE: {}\".format(best_params, min_mae))"
      ]
    },
    {
      "cell_type": "code",
      "execution_count": null,
      "metadata": {
        "id": "KTMKYTar-u_y"
      },
      "outputs": [],
      "source": [
        "params['eta'] = .3"
      ]
    },
    {
      "cell_type": "code",
      "execution_count": null,
      "metadata": {
        "colab": {
          "base_uri": "https://localhost:8080/"
        },
        "id": "U9SmVQyD-59t",
        "outputId": "61fb10c7-aa96-4fb2-db04-95a0b034c38c"
      },
      "outputs": [
        {
          "name": "stdout",
          "output_type": "stream",
          "text": [
            "[22:52:28] WARNING: /workspace/src/objective/regression_obj.cu:152: reg:linear is now deprecated in favor of reg:squarederror.\n",
            "[0]\tTest-mae:0.273573\n",
            "Will train until Test-mae hasn't improved in 10 rounds.\n",
            "[1]\tTest-mae:0.246804\n",
            "[2]\tTest-mae:0.222694\n",
            "[3]\tTest-mae:0.20098\n",
            "[4]\tTest-mae:0.181423\n",
            "[5]\tTest-mae:0.163809\n",
            "[6]\tTest-mae:0.147945\n",
            "[7]\tTest-mae:0.133657\n",
            "[8]\tTest-mae:0.120788\n",
            "[9]\tTest-mae:0.109198\n",
            "[10]\tTest-mae:0.098759\n",
            "[11]\tTest-mae:0.089357\n",
            "[12]\tTest-mae:0.080889\n",
            "[13]\tTest-mae:0.073263\n",
            "[14]\tTest-mae:0.067649\n",
            "[15]\tTest-mae:0.062076\n",
            "[16]\tTest-mae:0.056162\n",
            "[17]\tTest-mae:0.05253\n",
            "[18]\tTest-mae:0.050267\n",
            "[19]\tTest-mae:0.048775\n",
            "[20]\tTest-mae:0.047536\n",
            "[21]\tTest-mae:0.046513\n",
            "[22]\tTest-mae:0.04583\n",
            "[23]\tTest-mae:0.045214\n",
            "[24]\tTest-mae:0.044457\n",
            "[25]\tTest-mae:0.043978\n",
            "[26]\tTest-mae:0.043366\n",
            "[27]\tTest-mae:0.042839\n",
            "[28]\tTest-mae:0.042348\n",
            "[29]\tTest-mae:0.041714\n",
            "[30]\tTest-mae:0.041142\n",
            "[31]\tTest-mae:0.040774\n",
            "[32]\tTest-mae:0.040454\n",
            "[33]\tTest-mae:0.040189\n",
            "[34]\tTest-mae:0.040185\n",
            "[35]\tTest-mae:0.040185\n",
            "[36]\tTest-mae:0.040185\n",
            "[37]\tTest-mae:0.040185\n",
            "[38]\tTest-mae:0.040122\n",
            "[39]\tTest-mae:0.040122\n",
            "[40]\tTest-mae:0.040069\n",
            "[41]\tTest-mae:0.040019\n",
            "[42]\tTest-mae:0.040144\n",
            "[43]\tTest-mae:0.040144\n",
            "[44]\tTest-mae:0.040144\n",
            "[45]\tTest-mae:0.040144\n",
            "[46]\tTest-mae:0.040144\n",
            "[47]\tTest-mae:0.04011\n",
            "[48]\tTest-mae:0.04011\n",
            "[49]\tTest-mae:0.040184\n",
            "[50]\tTest-mae:0.040184\n",
            "[51]\tTest-mae:0.040158\n",
            "Stopping. Best iteration:\n",
            "[41]\tTest-mae:0.040019\n",
            "\n"
          ]
        }
      ],
      "source": [
        "model = xgb.train(\n",
        "    params,\n",
        "    dtrain,\n",
        "    num_boost_round=num_boost_round,\n",
        "    evals=[(dtest, \"Test\")],\n",
        "    early_stopping_rounds=10\n",
        ")"
      ]
    },
    {
      "cell_type": "code",
      "execution_count": null,
      "metadata": {
        "colab": {
          "base_uri": "https://localhost:8080/"
        },
        "id": "nHNUQbjQ_YBM",
        "outputId": "ca7ea85c-ab96-4161-f9d8-9ff924a4e3c4"
      },
      "outputs": [
        {
          "name": "stdout",
          "output_type": "stream",
          "text": [
            "[22:52:33] WARNING: /workspace/src/objective/regression_obj.cu:152: reg:linear is now deprecated in favor of reg:squarederror.\n",
            "[0]\tTest-mae:0.273573\n",
            "[1]\tTest-mae:0.246804\n",
            "[2]\tTest-mae:0.222694\n",
            "[3]\tTest-mae:0.20098\n",
            "[4]\tTest-mae:0.181423\n",
            "[5]\tTest-mae:0.163809\n",
            "[6]\tTest-mae:0.147945\n",
            "[7]\tTest-mae:0.133657\n",
            "[8]\tTest-mae:0.120788\n",
            "[9]\tTest-mae:0.109198\n",
            "[10]\tTest-mae:0.098759\n",
            "[11]\tTest-mae:0.089357\n",
            "[12]\tTest-mae:0.080889\n",
            "[13]\tTest-mae:0.073263\n",
            "[14]\tTest-mae:0.067649\n",
            "[15]\tTest-mae:0.062076\n",
            "[16]\tTest-mae:0.056162\n",
            "[17]\tTest-mae:0.05253\n",
            "[18]\tTest-mae:0.050267\n",
            "[19]\tTest-mae:0.048775\n",
            "[20]\tTest-mae:0.047536\n",
            "[21]\tTest-mae:0.046513\n",
            "[22]\tTest-mae:0.04583\n",
            "[23]\tTest-mae:0.045214\n",
            "[24]\tTest-mae:0.044457\n",
            "[25]\tTest-mae:0.043978\n",
            "[26]\tTest-mae:0.043366\n",
            "[27]\tTest-mae:0.042839\n",
            "[28]\tTest-mae:0.042348\n",
            "[29]\tTest-mae:0.041714\n",
            "[30]\tTest-mae:0.041142\n",
            "[31]\tTest-mae:0.040774\n",
            "[32]\tTest-mae:0.040454\n",
            "[33]\tTest-mae:0.040189\n",
            "[34]\tTest-mae:0.040185\n",
            "[35]\tTest-mae:0.040185\n",
            "[36]\tTest-mae:0.040185\n",
            "[37]\tTest-mae:0.040185\n",
            "[38]\tTest-mae:0.040122\n",
            "[39]\tTest-mae:0.040122\n",
            "[40]\tTest-mae:0.040069\n",
            "[41]\tTest-mae:0.040019\n"
          ]
        }
      ],
      "source": [
        "num_boost_round = model.best_iteration + 1\n",
        "best_model = xgb.train(\n",
        "    params,\n",
        "    dtrain,\n",
        "    num_boost_round=num_boost_round,\n",
        "    evals=[(dtest, \"Test\")]\n",
        ")"
      ]
    },
    {
      "cell_type": "code",
      "execution_count": null,
      "metadata": {
        "colab": {
          "base_uri": "https://localhost:8080/"
        },
        "id": "IJfSZSX4_ZgC",
        "outputId": "aea18df4-4029-48ea-f662-5e570674137c"
      },
      "outputs": [
        {
          "data": {
            "text/plain": [
              "0.04001937573797563"
            ]
          },
          "execution_count": 110,
          "metadata": {
            "tags": []
          },
          "output_type": "execute_result"
        }
      ],
      "source": [
        "mean_absolute_error(best_model.predict(dtest), y_test)"
      ]
    },
    {
      "cell_type": "markdown",
      "metadata": {
        "id": "3i5h7Tj-_w5D"
      },
      "source": [
        "## Without tuning :"
      ]
    },
    {
      "cell_type": "code",
      "execution_count": null,
      "metadata": {
        "id": "h1TNKx41zBw1"
      },
      "outputs": [],
      "source": [
        "xg_reg = xgb.XGBRegressor(objective ='reg:linear', colsample_bytree = 0.7, learning_rate = 0.1,\n",
        "                max_depth = 1, alpha = 1, n_estimators = 1000)"
      ]
    },
    {
      "cell_type": "code",
      "execution_count": null,
      "metadata": {
        "colab": {
          "base_uri": "https://localhost:8080/"
        },
        "id": "zM30b76-054r",
        "outputId": "d460cf5e-ff86-40ec-8e37-5da913c57e4a"
      },
      "outputs": [
        {
          "name": "stdout",
          "output_type": "stream",
          "text": [
            "[23:07:39] WARNING: /workspace/src/objective/regression_obj.cu:152: reg:linear is now deprecated in favor of reg:squarederror.\n"
          ]
        }
      ],
      "source": [
        "xg_reg.fit(X_train,y_train)\n",
        "\n",
        "preds = xg_reg.predict(X_test)"
      ]
    },
    {
      "cell_type": "code",
      "execution_count": null,
      "metadata": {
        "colab": {
          "base_uri": "https://localhost:8080/"
        },
        "id": "sfddltFOzdCq",
        "outputId": "a0fc2f2d-d7ff-4c27-cb34-b610342c6cfd"
      },
      "outputs": [
        {
          "name": "stdout",
          "output_type": "stream",
          "text": [
            "RMSE: 0.081718\n"
          ]
        }
      ],
      "source": [
        "rmse = np.sqrt(mean_squared_error(y_test, preds))\n",
        "print(\"RMSE: %f\" % (rmse))"
      ]
    },
    {
      "cell_type": "code",
      "execution_count": null,
      "metadata": {
        "colab": {
          "base_uri": "https://localhost:8080/"
        },
        "id": "RJ5iFFYt_588",
        "outputId": "b5289131-b196-4d5c-b2a1-8f3365257279"
      },
      "outputs": [
        {
          "data": {
            "text/plain": [
              "0.0580097531414032"
            ]
          },
          "execution_count": 183,
          "metadata": {
            "tags": []
          },
          "output_type": "execute_result"
        }
      ],
      "source": [
        "mean_absolute_error(y_test, preds)"
      ]
    },
    {
      "cell_type": "code",
      "execution_count": null,
      "metadata": {
        "colab": {
          "base_uri": "https://localhost:8080/"
        },
        "id": "GZ8hcQYq1gq0",
        "outputId": "8c9263e6-370c-433e-d1a0-956808a4e95a"
      },
      "outputs": [
        {
          "name": "stdout",
          "output_type": "stream",
          "text": [
            "[23:07:45] WARNING: /workspace/src/objective/regression_obj.cu:152: reg:linear is now deprecated in favor of reg:squarederror.\n",
            "[23:07:45] WARNING: /workspace/src/objective/regression_obj.cu:152: reg:linear is now deprecated in favor of reg:squarederror.\n",
            "[23:07:45] WARNING: /workspace/src/objective/regression_obj.cu:152: reg:linear is now deprecated in favor of reg:squarederror.\n"
          ]
        }
      ],
      "source": [
        "params = {\"objective\":\"reg:linear\",'colsample_bytree': 0.9,'learning_rate': 0.1,\n",
        "                'max_depth': 4, 'alpha': 1}\n",
        "\n",
        "cv_results = xgb.cv(dtrain=data_dmatrix, params=params, nfold=3,\n",
        "                    num_boost_round=999,early_stopping_rounds=10,metrics=\"mae\", as_pandas=True, seed=123)"
      ]
    },
    {
      "cell_type": "code",
      "execution_count": null,
      "metadata": {
        "colab": {
          "base_uri": "https://localhost:8080/",
          "height": 221
        },
        "id": "sLxKalPVzyhM",
        "outputId": "b5e73e11-21fe-454b-ec42-6f9f2cc6f288"
      },
      "outputs": [
        {
          "data": {
            "text/html": [
              "<div>\n",
              "<style scoped>\n",
              "    .dataframe tbody tr th:only-of-type {\n",
              "        vertical-align: middle;\n",
              "    }\n",
              "\n",
              "    .dataframe tbody tr th {\n",
              "        vertical-align: top;\n",
              "    }\n",
              "\n",
              "    .dataframe thead th {\n",
              "        text-align: right;\n",
              "    }\n",
              "</style>\n",
              "<table border=\"1\" class=\"dataframe\">\n",
              "  <thead>\n",
              "    <tr style=\"text-align: right;\">\n",
              "      <th></th>\n",
              "      <th>train-mae-mean</th>\n",
              "      <th>train-mae-std</th>\n",
              "      <th>test-mae-mean</th>\n",
              "      <th>test-mae-std</th>\n",
              "    </tr>\n",
              "  </thead>\n",
              "  <tbody>\n",
              "    <tr>\n",
              "      <th>0</th>\n",
              "      <td>0.276498</td>\n",
              "      <td>0.002189</td>\n",
              "      <td>0.276517</td>\n",
              "      <td>0.004982</td>\n",
              "    </tr>\n",
              "    <tr>\n",
              "      <th>1</th>\n",
              "      <td>0.251211</td>\n",
              "      <td>0.002561</td>\n",
              "      <td>0.251213</td>\n",
              "      <td>0.006248</td>\n",
              "    </tr>\n",
              "    <tr>\n",
              "      <th>2</th>\n",
              "      <td>0.228662</td>\n",
              "      <td>0.002885</td>\n",
              "      <td>0.229006</td>\n",
              "      <td>0.007078</td>\n",
              "    </tr>\n",
              "    <tr>\n",
              "      <th>3</th>\n",
              "      <td>0.208362</td>\n",
              "      <td>0.003185</td>\n",
              "      <td>0.208702</td>\n",
              "      <td>0.008152</td>\n",
              "    </tr>\n",
              "    <tr>\n",
              "      <th>4</th>\n",
              "      <td>0.190048</td>\n",
              "      <td>0.003438</td>\n",
              "      <td>0.190665</td>\n",
              "      <td>0.008836</td>\n",
              "    </tr>\n",
              "  </tbody>\n",
              "</table>\n",
              "</div>"
            ],
            "text/plain": [
              "   train-mae-mean  train-mae-std  test-mae-mean  test-mae-std\n",
              "0        0.276498       0.002189       0.276517      0.004982\n",
              "1        0.251211       0.002561       0.251213      0.006248\n",
              "2        0.228662       0.002885       0.229006      0.007078\n",
              "3        0.208362       0.003185       0.208702      0.008152\n",
              "4        0.190048       0.003438       0.190665      0.008836"
            ]
          },
          "execution_count": 185,
          "metadata": {
            "tags": []
          },
          "output_type": "execute_result"
        }
      ],
      "source": [
        "cv_results.head()"
      ]
    },
    {
      "cell_type": "code",
      "execution_count": null,
      "metadata": {
        "colab": {
          "base_uri": "https://localhost:8080/"
        },
        "id": "9ZqmwwZl1l5O",
        "outputId": "82b393e6-c06c-463e-9fc1-6ec0dacc245c"
      },
      "outputs": [
        {
          "name": "stdout",
          "output_type": "stream",
          "text": [
            "117    0.056901\n",
            "Name: test-mae-mean, dtype: float64\n"
          ]
        }
      ],
      "source": [
        "print((cv_results[\"test-mae-mean\"]).tail(1))"
      ]
    },
    {
      "cell_type": "code",
      "execution_count": null,
      "metadata": {
        "colab": {
          "base_uri": "https://localhost:8080/"
        },
        "id": "kJMzJqd4vpRG",
        "outputId": "5e10322b-fcd1-489b-8ffa-532a620aaab8"
      },
      "outputs": [
        {
          "name": "stdout",
          "output_type": "stream",
          "text": [
            "[23:07:56] WARNING: /workspace/src/objective/regression_obj.cu:152: reg:linear is now deprecated in favor of reg:squarederror.\n"
          ]
        }
      ],
      "source": [
        "xg_reg = xgb.train(params=params, dtrain=data_dmatrix, num_boost_round=999)"
      ]
    },
    {
      "cell_type": "code",
      "execution_count": null,
      "metadata": {
        "colab": {
          "base_uri": "https://localhost:8080/",
          "height": 130
        },
        "id": "oua-0OX8z2nK",
        "outputId": "b440f2d0-9032-46f6-824e-f0e262904ee0"
      },
      "outputs": [
        {
          "data": {
            "image/png": "[encoded data removed]",
            "text/plain": [
              "<Figure size 360x360 with 1 Axes>"
            ]
          },
          "metadata": {
            "tags": []
          },
          "output_type": "display_data"
        }
      ],
      "source": [
        "import matplotlib.pyplot as plt\n",
        "\n",
        "xgb.plot_tree(xg_reg,num_trees=0)\n",
        "plt.rcParams['figure.figsize'] = [50, 10]\n",
        "plt.show()"
      ]
    },
    {
      "cell_type": "code",
      "execution_count": null,
      "metadata": {
        "colab": {
          "base_uri": "https://localhost:8080/",
          "height": 270
        },
        "id": "CW83u6cXv0W1",
        "outputId": "717874fe-e9dd-4e87-9ca2-a1797fa2f5a2"
      },
      "outputs": [
        {
          "data": {
            "image/png": "[encoded data removed]",
            "text/plain": [
              "<Figure size 3600x720 with 1 Axes>"
            ]
          },
          "metadata": {
            "tags": []
          },
          "output_type": "display_data"
        }
      ],
      "source": [
        "xgb.plot_importance(xg_reg)\n",
        "plt.rcParams['figure.figsize'] = [5, 5]\n",
        "plt.show()"
      ]
    },
    {
      "cell_type": "code",
      "execution_count": null,
      "metadata": {
        "id": "AmSDhMwMv4mb"
      },
      "outputs": [],
      "source": []
    },
    {
      "cell_type": "markdown",
      "metadata": {
        "id": "Ev-X4pFE6uF-"
      },
      "source": [
        "# Lazy Predict :"
      ]
    },
    {
      "cell_type": "code",
      "execution_count": 2,
      "metadata": {
        "colab": {
          "base_uri": "https://localhost:8080/",
          "height": 1000
        },
        "id": "jMaqvrVQ60QB",
        "outputId": "f9dc0122-c2b5-4ce7-d6f2-4e40a67f22ac"
      },
      "outputs": [
        {
          "name": "stdout",
          "output_type": "stream",
          "text": [
            "Collecting lazypredict\n",
            "  Downloading lazypredict-0.2.9-py2.py3-none-any.whl (12 kB)\n",
            "Requirement already satisfied: six==1.15.0 in /usr/local/lib/python3.7/dist-packages (from lazypredict) (1.15.0)\n",
            "Collecting tqdm==4.56.0\n",
            "  Downloading tqdm-4.56.0-py2.py3-none-any.whl (72 kB)\n",
            "\u001b[K     |████████████████████████████████| 72 kB 697 kB/s \n",
            "\u001b[?25hCollecting PyYAML==5.3.1\n",
            "  Downloading PyYAML-5.3.1.tar.gz (269 kB)\n",
            "\u001b[K     |████████████████████████████████| 269 kB 12.2 MB/s \n",
            "\u001b[?25hCollecting pytest==5.4.3\n",
            "  Downloading pytest-5.4.3-py3-none-any.whl (248 kB)\n",
            "\u001b[K     |████████████████████████████████| 248 kB 49.7 MB/s \n",
            "\u001b[?25hCollecting xgboost==1.1.1\n",
            "  Downloading xgboost-1.1.1-py3-none-manylinux2010_x86_64.whl (127.6 MB)\n",
            "\u001b[K     |████████████████████████████████| 127.6 MB 20 kB/s \n",
            "\u001b[?25hCollecting scikit-learn==0.23.1\n",
            "  Downloading scikit_learn-0.23.1-cp37-cp37m-manylinux1_x86_64.whl (6.8 MB)\n",
            "\u001b[K     |████████████████████████████████| 6.8 MB 49.6 MB/s \n",
            "\u001b[?25hRequirement already satisfied: click==7.1.2 in /usr/local/lib/python3.7/dist-packages (from lazypredict) (7.1.2)\n",
            "Collecting pandas==1.0.5\n",
            "  Downloading pandas-1.0.5-cp37-cp37m-manylinux1_x86_64.whl (10.1 MB)\n",
            "\u001b[K     |████████████████████████████████| 10.1 MB 48.6 MB/s \n",
            "\u001b[?25hCollecting scipy==1.5.4\n",
            "  Downloading scipy-1.5.4-cp37-cp37m-manylinux1_x86_64.whl (25.9 MB)\n",
            "\u001b[K     |████████████████████████████████| 25.9 MB 1.0 kB/s \n",
            "\u001b[?25hCollecting joblib==1.0.0\n",
            "  Downloading joblib-1.0.0-py3-none-any.whl (302 kB)\n",
            "\u001b[K     |████████████████████████████████| 302 kB 49.0 MB/s \n",
            "\u001b[?25hCollecting lightgbm==2.3.1\n",
            "  Downloading lightgbm-2.3.1-py2.py3-none-manylinux1_x86_64.whl (1.2 MB)\n",
            "\u001b[K     |████████████████████████████████| 1.2 MB 43.9 MB/s \n",
            "\u001b[?25hCollecting numpy==1.19.1\n",
            "  Downloading numpy-1.19.1-cp37-cp37m-manylinux2010_x86_64.whl (14.5 MB)\n",
            "\u001b[K     |████████████████████████████████| 14.5 MB 6.5 kB/s \n",
            "\u001b[?25hRequirement already satisfied: pytz>=2017.2 in /usr/local/lib/python3.7/dist-packages (from pandas==1.0.5->lazypredict) (2018.9)\n",
            "Requirement already satisfied: python-dateutil>=2.6.1 in /usr/local/lib/python3.7/dist-packages (from pandas==1.0.5->lazypredict) (2.8.1)\n",
            "Collecting pluggy<1.0,>=0.12\n",
            "  Downloading pluggy-0.13.1-py2.py3-none-any.whl (18 kB)\n",
            "Requirement already satisfied: wcwidth in /usr/local/lib/python3.7/dist-packages (from pytest==5.4.3->lazypredict) (0.2.5)\n",
            "Requirement already satisfied: more-itertools>=4.0.0 in /usr/local/lib/python3.7/dist-packages (from pytest==5.4.3->lazypredict) (8.8.0)\n",
            "Requirement already satisfied: importlib-metadata>=0.12 in /usr/local/lib/python3.7/dist-packages (from pytest==5.4.3->lazypredict) (4.6.1)\n",
            "Requirement already satisfied: packaging in /usr/local/lib/python3.7/dist-packages (from pytest==5.4.3->lazypredict) (21.0)\n",
            "Requirement already satisfied: py>=1.5.0 in /usr/local/lib/python3.7/dist-packages (from pytest==5.4.3->lazypredict) (1.10.0)\n",
            "Requirement already satisfied: attrs>=17.4.0 in /usr/local/lib/python3.7/dist-packages (from pytest==5.4.3->lazypredict) (21.2.0)\n",
            "Collecting threadpoolctl>=2.0.0\n",
            "  Downloading threadpoolctl-2.2.0-py3-none-any.whl (12 kB)\n",
            "Requirement already satisfied: zipp>=0.5 in /usr/local/lib/python3.7/dist-packages (from importlib-metadata>=0.12->pytest==5.4.3->lazypredict) (3.5.0)\n",
            "Requirement already satisfied: typing-extensions>=3.6.4 in /usr/local/lib/python3.7/dist-packages (from importlib-metadata>=0.12->pytest==5.4.3->lazypredict) (3.7.4.3)\n",
            "Requirement already satisfied: pyparsing>=2.0.2 in /usr/local/lib/python3.7/dist-packages (from packaging->pytest==5.4.3->lazypredict) (2.4.7)\n",
            "Building wheels for collected packages: PyYAML\n",
            "  Building wheel for PyYAML (setup.py) ... \u001b[?25l\u001b[?25hdone\n",
            "  Created wheel for PyYAML: filename=PyYAML-5.3.1-cp37-cp37m-linux_x86_64.whl size=44636 sha256=d5c2486e6baa6d79abdf8c361786f45eda0c6afe9c131494bd1e55ae37afa0f0\n",
            "  Stored in directory: /root/.cache/pip/wheels/5e/03/1e/e1e954795d6f35dfc7b637fe2277bff021303bd9570ecea653\n",
            "Successfully built PyYAML\n",
            "Installing collected packages: numpy, threadpoolctl, scipy, joblib, scikit-learn, pluggy, xgboost, tqdm, PyYAML, pytest, pandas, lightgbm, lazypredict\n",
            "  Attempting uninstall: numpy\n",
            "    Found existing installation: numpy 1.19.5\n",
            "    Uninstalling numpy-1.19.5:\n",
            "      Successfully uninstalled numpy-1.19.5\n",
            "  Attempting uninstall: scipy\n",
            "    Found existing installation: scipy 1.4.1\n",
            "    Uninstalling scipy-1.4.1:\n",
            "      Successfully uninstalled scipy-1.4.1\n",
            "  Attempting uninstall: joblib\n",
            "    Found existing installation: joblib 1.0.1\n",
            "    Uninstalling joblib-1.0.1:\n",
            "      Successfully uninstalled joblib-1.0.1\n",
            "  Attempting uninstall: scikit-learn\n",
            "    Found existing installation: scikit-learn 0.22.2.post1\n",
            "    Uninstalling scikit-learn-0.22.2.post1:\n",
            "      Successfully uninstalled scikit-learn-0.22.2.post1\n",
            "  Attempting uninstall: pluggy\n",
            "    Found existing installation: pluggy 0.7.1\n",
            "    Uninstalling pluggy-0.7.1:\n",
            "      Successfully uninstalled pluggy-0.7.1\n",
            "  Attempting uninstall: xgboost\n",
            "    Found existing installation: xgboost 0.90\n",
            "    Uninstalling xgboost-0.90:\n",
            "      Successfully uninstalled xgboost-0.90\n",
            "  Attempting uninstall: tqdm\n",
            "    Found existing installation: tqdm 4.41.1\n",
            "    Uninstalling tqdm-4.41.1:\n",
            "      Successfully uninstalled tqdm-4.41.1\n",
            "  Attempting uninstall: PyYAML\n",
            "    Found existing installation: PyYAML 3.13\n",
            "    Uninstalling PyYAML-3.13:\n",
            "      Successfully uninstalled PyYAML-3.13\n",
            "  Attempting uninstall: pytest\n",
            "    Found existing installation: pytest 3.6.4\n",
            "    Uninstalling pytest-3.6.4:\n",
            "      Successfully uninstalled pytest-3.6.4\n",
            "  Attempting uninstall: pandas\n",
            "    Found existing installation: pandas 1.1.5\n",
            "    Uninstalling pandas-1.1.5:\n",
            "      Successfully uninstalled pandas-1.1.5\n",
            "  Attempting uninstall: lightgbm\n",
            "    Found existing installation: lightgbm 2.2.3\n",
            "    Uninstalling lightgbm-2.2.3:\n",
            "      Successfully uninstalled lightgbm-2.2.3\n",
            "\u001b[31mERROR: pip's dependency resolver does not currently take into account all the packages that are installed. This behaviour is the source of the following dependency conflicts.\n",
            "tensorflow 2.5.0 requires numpy~=1.19.2, but you have numpy 1.19.1 which is incompatible.\n",
            "google-colab 1.0.0 requires pandas~=1.1.0; python_version >= \"3.0\", but you have pandas 1.0.5 which is incompatible.\n",
            "datascience 0.10.6 requires folium==0.2.1, but you have folium 0.8.3 which is incompatible.\n",
            "albumentations 0.1.12 requires imgaug<0.2.7,>=0.2.5, but you have imgaug 0.2.9 which is incompatible.\u001b[0m\n",
            "Successfully installed PyYAML-5.3.1 joblib-1.0.0 lazypredict-0.2.9 lightgbm-2.3.1 numpy-1.19.1 pandas-1.0.5 pluggy-0.13.1 pytest-5.4.3 scikit-learn-0.23.1 scipy-1.5.4 threadpoolctl-2.2.0 tqdm-4.56.0 xgboost-1.1.1\n"
          ]
        },
        {
          "data": {
            "application/vnd.colab-display-data+json": {
              "pip_warning": {
                "packages": [
                  "numpy",
                  "pandas"
                ]
              }
            }
          },
          "metadata": {
            "tags": []
          },
          "output_type": "display_data"
        }
      ],
      "source": [
        "pip install lazypredict"
      ]
    },
    {
      "cell_type": "code",
      "execution_count": 62,
      "metadata": {
        "id": "DEjdc6TK6qdU"
      },
      "outputs": [],
      "source": [
        "import lazypredict\n",
        "### Importing LazyRegressor\n",
        "from lazypredict.Supervised import LazyRegressor\n",
        "### Importing dataset available in sklearn\n",
        "from sklearn import datasets\n",
        "from sklearn.utils import shuffle\n",
        "import numpy as np"
      ]
    },
    {
      "cell_type": "code",
      "execution_count": 67,
      "metadata": {
        "id": "tk1gHTpO78oG"
      },
      "outputs": [],
      "source": [
        "X, y = df_bands.iloc[:,:-1],df_bands.iloc[:,-1]"
      ]
    },
    {
      "cell_type": "code",
      "execution_count": 68,
      "metadata": {
        "id": "ZcOys7Ki-A2W"
      },
      "outputs": [],
      "source": [
        "X = X.astype(float)\n",
        "y = y.astype(float)"
      ]
    },
    {
      "cell_type": "code",
      "execution_count": 69,
      "metadata": {
        "id": "HuzKKbFe7_Kj"
      },
      "outputs": [],
      "source": [
        "from sklearn.model_selection import train_test_split\n",
        "\n",
        "X_train, X_test, y_train, y_test = train_test_split(X, y, test_size=0.1, random_state=123)"
      ]
    },
    {
      "cell_type": "code",
      "execution_count": 70,
      "metadata": {
        "colab": {
          "base_uri": "https://localhost:8080/",
          "height": 607
        },
        "id": "XTkB5n-3-XgD",
        "outputId": "232b8a5e-7cea-4de5-8243-6b12d5c4f232"
      },
      "outputs": [
        {
          "data": {
            "text/html": [
              "<div>\n",
              "<style scoped>\n",
              "    .dataframe tbody tr th:only-of-type {\n",
              "        vertical-align: middle;\n",
              "    }\n",
              "\n",
              "    .dataframe tbody tr th {\n",
              "        vertical-align: top;\n",
              "    }\n",
              "\n",
              "    .dataframe thead th {\n",
              "        text-align: right;\n",
              "    }\n",
              "</style>\n",
              "<table border=\"1\" class=\"dataframe\">\n",
              "  <thead>\n",
              "    <tr style=\"text-align: right;\">\n",
              "      <th></th>\n",
              "      <th>B1</th>\n",
              "      <th>B2</th>\n",
              "      <th>B3</th>\n",
              "      <th>B4</th>\n",
              "      <th>B5</th>\n",
              "      <th>B6</th>\n",
              "      <th>B7</th>\n",
              "      <th>B8</th>\n",
              "      <th>B8A</th>\n",
              "      <th>B9</th>\n",
              "      <th>B10</th>\n",
              "      <th>B11</th>\n",
              "      <th>ndmi</th>\n",
              "      <th>ndvi</th>\n",
              "      <th>savi</th>\n",
              "    </tr>\n",
              "  </thead>\n",
              "  <tbody>\n",
              "    <tr>\n",
              "      <th>91</th>\n",
              "      <td>0.31</td>\n",
              "      <td>0.19</td>\n",
              "      <td>0.21</td>\n",
              "      <td>0.28</td>\n",
              "      <td>0.31</td>\n",
              "      <td>0.30</td>\n",
              "      <td>0.34</td>\n",
              "      <td>0.33</td>\n",
              "      <td>0.37</td>\n",
              "      <td>0.41</td>\n",
              "      <td>0.42</td>\n",
              "      <td>0.40</td>\n",
              "      <td>8.72</td>\n",
              "      <td>0.21</td>\n",
              "      <td>0.31</td>\n",
              "    </tr>\n",
              "    <tr>\n",
              "      <th>72</th>\n",
              "      <td>0.35</td>\n",
              "      <td>0.22</td>\n",
              "      <td>0.22</td>\n",
              "      <td>0.25</td>\n",
              "      <td>0.27</td>\n",
              "      <td>0.31</td>\n",
              "      <td>0.32</td>\n",
              "      <td>0.33</td>\n",
              "      <td>0.33</td>\n",
              "      <td>0.42</td>\n",
              "      <td>0.42</td>\n",
              "      <td>0.45</td>\n",
              "      <td>11.99</td>\n",
              "      <td>0.26</td>\n",
              "      <td>0.39</td>\n",
              "    </tr>\n",
              "    <tr>\n",
              "      <th>138</th>\n",
              "      <td>0.28</td>\n",
              "      <td>0.18</td>\n",
              "      <td>0.20</td>\n",
              "      <td>0.23</td>\n",
              "      <td>0.24</td>\n",
              "      <td>0.37</td>\n",
              "      <td>0.43</td>\n",
              "      <td>0.44</td>\n",
              "      <td>0.47</td>\n",
              "      <td>0.51</td>\n",
              "      <td>0.32</td>\n",
              "      <td>0.32</td>\n",
              "      <td>3.68</td>\n",
              "      <td>0.41</td>\n",
              "      <td>0.62</td>\n",
              "    </tr>\n",
              "    <tr>\n",
              "      <th>53</th>\n",
              "      <td>0.42</td>\n",
              "      <td>0.35</td>\n",
              "      <td>0.30</td>\n",
              "      <td>0.35</td>\n",
              "      <td>0.33</td>\n",
              "      <td>0.32</td>\n",
              "      <td>0.34</td>\n",
              "      <td>0.33</td>\n",
              "      <td>0.36</td>\n",
              "      <td>0.48</td>\n",
              "      <td>0.38</td>\n",
              "      <td>0.37</td>\n",
              "      <td>14.06</td>\n",
              "      <td>0.18</td>\n",
              "      <td>0.27</td>\n",
              "    </tr>\n",
              "    <tr>\n",
              "      <th>146</th>\n",
              "      <td>0.51</td>\n",
              "      <td>0.33</td>\n",
              "      <td>0.36</td>\n",
              "      <td>0.48</td>\n",
              "      <td>0.45</td>\n",
              "      <td>0.47</td>\n",
              "      <td>0.48</td>\n",
              "      <td>0.46</td>\n",
              "      <td>0.48</td>\n",
              "      <td>0.46</td>\n",
              "      <td>0.66</td>\n",
              "      <td>0.56</td>\n",
              "      <td>8.07</td>\n",
              "      <td>0.17</td>\n",
              "      <td>0.25</td>\n",
              "    </tr>\n",
              "    <tr>\n",
              "      <th>87</th>\n",
              "      <td>0.30</td>\n",
              "      <td>0.17</td>\n",
              "      <td>0.19</td>\n",
              "      <td>0.22</td>\n",
              "      <td>0.26</td>\n",
              "      <td>0.30</td>\n",
              "      <td>0.35</td>\n",
              "      <td>0.33</td>\n",
              "      <td>0.37</td>\n",
              "      <td>0.47</td>\n",
              "      <td>0.38</td>\n",
              "      <td>0.36</td>\n",
              "      <td>5.37</td>\n",
              "      <td>0.40</td>\n",
              "      <td>0.59</td>\n",
              "    </tr>\n",
              "    <tr>\n",
              "      <th>127</th>\n",
              "      <td>0.55</td>\n",
              "      <td>0.57</td>\n",
              "      <td>0.56</td>\n",
              "      <td>0.56</td>\n",
              "      <td>0.55</td>\n",
              "      <td>0.56</td>\n",
              "      <td>0.56</td>\n",
              "      <td>0.56</td>\n",
              "      <td>0.56</td>\n",
              "      <td>0.52</td>\n",
              "      <td>0.55</td>\n",
              "      <td>0.57</td>\n",
              "      <td>0.51</td>\n",
              "      <td>0.05</td>\n",
              "      <td>0.08</td>\n",
              "    </tr>\n",
              "    <tr>\n",
              "      <th>129</th>\n",
              "      <td>0.37</td>\n",
              "      <td>0.25</td>\n",
              "      <td>0.30</td>\n",
              "      <td>0.31</td>\n",
              "      <td>0.35</td>\n",
              "      <td>0.42</td>\n",
              "      <td>0.43</td>\n",
              "      <td>0.42</td>\n",
              "      <td>0.44</td>\n",
              "      <td>0.59</td>\n",
              "      <td>0.44</td>\n",
              "      <td>0.35</td>\n",
              "      <td>7.26</td>\n",
              "      <td>0.36</td>\n",
              "      <td>0.54</td>\n",
              "    </tr>\n",
              "    <tr>\n",
              "      <th>136</th>\n",
              "      <td>0.12</td>\n",
              "      <td>0.12</td>\n",
              "      <td>0.15</td>\n",
              "      <td>0.17</td>\n",
              "      <td>0.20</td>\n",
              "      <td>0.27</td>\n",
              "      <td>0.30</td>\n",
              "      <td>0.30</td>\n",
              "      <td>0.32</td>\n",
              "      <td>0.27</td>\n",
              "      <td>0.29</td>\n",
              "      <td>0.24</td>\n",
              "      <td>4.15</td>\n",
              "      <td>0.46</td>\n",
              "      <td>0.68</td>\n",
              "    </tr>\n",
              "    <tr>\n",
              "      <th>79</th>\n",
              "      <td>0.37</td>\n",
              "      <td>0.21</td>\n",
              "      <td>0.22</td>\n",
              "      <td>0.26</td>\n",
              "      <td>0.28</td>\n",
              "      <td>0.35</td>\n",
              "      <td>0.40</td>\n",
              "      <td>0.39</td>\n",
              "      <td>0.40</td>\n",
              "      <td>0.44</td>\n",
              "      <td>0.46</td>\n",
              "      <td>0.48</td>\n",
              "      <td>7.23</td>\n",
              "      <td>0.39</td>\n",
              "      <td>0.59</td>\n",
              "    </tr>\n",
              "    <tr>\n",
              "      <th>42</th>\n",
              "      <td>0.20</td>\n",
              "      <td>0.22</td>\n",
              "      <td>0.27</td>\n",
              "      <td>0.31</td>\n",
              "      <td>0.36</td>\n",
              "      <td>0.41</td>\n",
              "      <td>0.43</td>\n",
              "      <td>0.43</td>\n",
              "      <td>0.47</td>\n",
              "      <td>0.53</td>\n",
              "      <td>0.46</td>\n",
              "      <td>0.41</td>\n",
              "      <td>12.47</td>\n",
              "      <td>0.26</td>\n",
              "      <td>0.39</td>\n",
              "    </tr>\n",
              "    <tr>\n",
              "      <th>152</th>\n",
              "      <td>0.36</td>\n",
              "      <td>0.33</td>\n",
              "      <td>0.37</td>\n",
              "      <td>0.48</td>\n",
              "      <td>0.49</td>\n",
              "      <td>0.51</td>\n",
              "      <td>0.51</td>\n",
              "      <td>0.52</td>\n",
              "      <td>0.52</td>\n",
              "      <td>0.51</td>\n",
              "      <td>0.67</td>\n",
              "      <td>0.58</td>\n",
              "      <td>7.79</td>\n",
              "      <td>0.15</td>\n",
              "      <td>0.22</td>\n",
              "    </tr>\n",
              "    <tr>\n",
              "      <th>59</th>\n",
              "      <td>0.36</td>\n",
              "      <td>0.30</td>\n",
              "      <td>0.28</td>\n",
              "      <td>0.41</td>\n",
              "      <td>0.34</td>\n",
              "      <td>0.36</td>\n",
              "      <td>0.39</td>\n",
              "      <td>0.40</td>\n",
              "      <td>0.42</td>\n",
              "      <td>0.48</td>\n",
              "      <td>0.60</td>\n",
              "      <td>0.56</td>\n",
              "      <td>8.74</td>\n",
              "      <td>0.18</td>\n",
              "      <td>0.28</td>\n",
              "    </tr>\n",
              "    <tr>\n",
              "      <th>110</th>\n",
              "      <td>0.38</td>\n",
              "      <td>0.28</td>\n",
              "      <td>0.33</td>\n",
              "      <td>0.36</td>\n",
              "      <td>0.39</td>\n",
              "      <td>0.39</td>\n",
              "      <td>0.41</td>\n",
              "      <td>0.37</td>\n",
              "      <td>0.41</td>\n",
              "      <td>0.45</td>\n",
              "      <td>0.41</td>\n",
              "      <td>0.46</td>\n",
              "      <td>8.86</td>\n",
              "      <td>0.12</td>\n",
              "      <td>0.18</td>\n",
              "    </tr>\n",
              "    <tr>\n",
              "      <th>130</th>\n",
              "      <td>0.47</td>\n",
              "      <td>0.49</td>\n",
              "      <td>0.47</td>\n",
              "      <td>0.49</td>\n",
              "      <td>0.48</td>\n",
              "      <td>0.48</td>\n",
              "      <td>0.50</td>\n",
              "      <td>0.53</td>\n",
              "      <td>0.51</td>\n",
              "      <td>0.48</td>\n",
              "      <td>0.54</td>\n",
              "      <td>0.56</td>\n",
              "      <td>6.04</td>\n",
              "      <td>0.18</td>\n",
              "      <td>0.27</td>\n",
              "    </tr>\n",
              "    <tr>\n",
              "      <th>134</th>\n",
              "      <td>0.30</td>\n",
              "      <td>0.18</td>\n",
              "      <td>0.19</td>\n",
              "      <td>0.27</td>\n",
              "      <td>0.29</td>\n",
              "      <td>0.46</td>\n",
              "      <td>0.49</td>\n",
              "      <td>0.47</td>\n",
              "      <td>0.50</td>\n",
              "      <td>0.55</td>\n",
              "      <td>0.40</td>\n",
              "      <td>0.34</td>\n",
              "      <td>4.08</td>\n",
              "      <td>0.51</td>\n",
              "      <td>0.76</td>\n",
              "    </tr>\n",
              "    <tr>\n",
              "      <th>36</th>\n",
              "      <td>0.29</td>\n",
              "      <td>0.21</td>\n",
              "      <td>0.21</td>\n",
              "      <td>0.25</td>\n",
              "      <td>0.26</td>\n",
              "      <td>0.43</td>\n",
              "      <td>0.46</td>\n",
              "      <td>0.43</td>\n",
              "      <td>0.47</td>\n",
              "      <td>0.47</td>\n",
              "      <td>0.35</td>\n",
              "      <td>0.33</td>\n",
              "      <td>3.25</td>\n",
              "      <td>0.45</td>\n",
              "      <td>0.68</td>\n",
              "    </tr>\n",
              "  </tbody>\n",
              "</table>\n",
              "</div>"
            ],
            "text/plain": [
              "      B1   B2   B3   B4   B5   B6   B7  ...  B8A   B9  B10  B11  ndmi  ndvi  savi\n",
              "91  0.31 0.19 0.21 0.28 0.31 0.30 0.34  ... 0.37 0.41 0.42 0.40  8.72  0.21  0.31\n",
              "72  0.35 0.22 0.22 0.25 0.27 0.31 0.32  ... 0.33 0.42 0.42 0.45 11.99  0.26  0.39\n",
              "138 0.28 0.18 0.20 0.23 0.24 0.37 0.43  ... 0.47 0.51 0.32 0.32  3.68  0.41  0.62\n",
              "53  0.42 0.35 0.30 0.35 0.33 0.32 0.34  ... 0.36 0.48 0.38 0.37 14.06  0.18  0.27\n",
              "146 0.51 0.33 0.36 0.48 0.45 0.47 0.48  ... 0.48 0.46 0.66 0.56  8.07  0.17  0.25\n",
              "87  0.30 0.17 0.19 0.22 0.26 0.30 0.35  ... 0.37 0.47 0.38 0.36  5.37  0.40  0.59\n",
              "127 0.55 0.57 0.56 0.56 0.55 0.56 0.56  ... 0.56 0.52 0.55 0.57  0.51  0.05  0.08\n",
              "129 0.37 0.25 0.30 0.31 0.35 0.42 0.43  ... 0.44 0.59 0.44 0.35  7.26  0.36  0.54\n",
              "136 0.12 0.12 0.15 0.17 0.20 0.27 0.30  ... 0.32 0.27 0.29 0.24  4.15  0.46  0.68\n",
              "79  0.37 0.21 0.22 0.26 0.28 0.35 0.40  ... 0.40 0.44 0.46 0.48  7.23  0.39  0.59\n",
              "42  0.20 0.22 0.27 0.31 0.36 0.41 0.43  ... 0.47 0.53 0.46 0.41 12.47  0.26  0.39\n",
              "152 0.36 0.33 0.37 0.48 0.49 0.51 0.51  ... 0.52 0.51 0.67 0.58  7.79  0.15  0.22\n",
              "59  0.36 0.30 0.28 0.41 0.34 0.36 0.39  ... 0.42 0.48 0.60 0.56  8.74  0.18  0.28\n",
              "110 0.38 0.28 0.33 0.36 0.39 0.39 0.41  ... 0.41 0.45 0.41 0.46  8.86  0.12  0.18\n",
              "130 0.47 0.49 0.47 0.49 0.48 0.48 0.50  ... 0.51 0.48 0.54 0.56  6.04  0.18  0.27\n",
              "134 0.30 0.18 0.19 0.27 0.29 0.46 0.49  ... 0.50 0.55 0.40 0.34  4.08  0.51  0.76\n",
              "36  0.29 0.21 0.21 0.25 0.26 0.43 0.46  ... 0.47 0.47 0.35 0.33  3.25  0.45  0.68\n",
              "\n",
              "[17 rows x 15 columns]"
            ]
          },
          "execution_count": 70,
          "metadata": {
            "tags": []
          },
          "output_type": "execute_result"
        }
      ],
      "source": [
        "X_test"
      ]
    },
    {
      "cell_type": "code",
      "execution_count": 71,
      "metadata": {
        "id": "gzOG_L-Q8NHp"
      },
      "outputs": [],
      "source": [
        "### fitting data in LazyRegressor because here we are solving Regression use case. \n",
        "reg = LazyRegressor(verbose=0, ignore_warnings=False, custom_metric=None)"
      ]
    },
    {
      "cell_type": "code",
      "execution_count": 72,
      "metadata": {
        "colab": {
          "base_uri": "https://localhost:8080/"
        },
        "id": "qVmmk_7w8JEh",
        "outputId": "fb587c6b-a60c-48d0-c5c3-bd882be85090"
      },
      "outputs": [
        {
          "name": "stderr",
          "output_type": "stream",
          "text": [
            "100%|██████████| 42/42 [00:02<00:00, 18.71it/s]"
          ]
        },
        {
          "name": "stdout",
          "output_type": "stream",
          "text": [
            "                               Adjusted R-Squared  R-Squared  RMSE  Time Taken\n",
            "Model                                                                         \n",
            "NuSVR                                       -4.87       0.63  0.06        0.05\n",
            "SVR                                         -5.13       0.62  0.07        0.02\n",
            "KNeighborsRegressor                         -5.22       0.61  0.07        0.01\n",
            "ExtraTreesRegressor                         -7.05       0.50  0.08        0.16\n",
            "TransformedTargetRegressor                  -8.28       0.42  0.08        0.01\n",
            "LinearRegression                            -8.28       0.42  0.08        0.01\n",
            "HistGradientBoostingRegressor               -8.31       0.42  0.08        0.12\n",
            "LassoLarsCV                                 -8.72       0.39  0.08        0.04\n",
            "LarsCV                                      -8.72       0.39  0.08        0.07\n",
            "ElasticNetCV                                -8.81       0.39  0.08        0.11\n",
            "LassoCV                                     -8.85       0.38  0.08        0.12\n",
            "GeneralizedLinearRegressor                  -9.57       0.34  0.09        0.02\n",
            "TweedieRegressor                            -9.57       0.34  0.09        0.02\n",
            "LGBMRegressor                               -9.87       0.32  0.09        0.08\n",
            "PassiveAggressiveRegressor                 -10.17       0.30  0.09        0.01\n",
            "OrthogonalMatchingPursuit                  -10.20       0.30  0.09        0.02\n",
            "OrthogonalMatchingPursuitCV                -10.20       0.30  0.09        0.04\n",
            "AdaBoostRegressor                          -10.40       0.29  0.09        0.13\n",
            "PoissonRegressor                           -10.52       0.28  0.09        0.02\n",
            "LassoLarsIC                                -10.75       0.27  0.09        0.02\n",
            "GammaRegressor                             -10.78       0.26  0.09        0.01\n",
            "Ridge                                      -10.82       0.26  0.09        0.02\n",
            "RidgeCV                                    -10.82       0.26  0.09        0.01\n",
            "BayesianRidge                              -11.02       0.25  0.09        0.02\n",
            "SGDRegressor                               -11.49       0.22  0.09        0.02\n",
            "RandomForestRegressor                      -11.51       0.22  0.09        0.30\n",
            "BaggingRegressor                           -11.63       0.21  0.09        0.05\n",
            "DecisionTreeRegressor                      -12.41       0.16  0.10        0.02\n",
            "GradientBoostingRegressor                  -12.42       0.16  0.10        0.13\n",
            "MLPRegressor                               -13.53       0.09  0.10        0.15\n",
            "HuberRegressor                             -13.53       0.09  0.10        0.04\n",
            "LinearSVR                                  -14.23       0.05  0.10        0.02\n",
            "XGBRegressor                               -14.37       0.04  0.10        0.07\n",
            "DummyRegressor                             -15.41      -0.03  0.11        0.01\n",
            "ElasticNet                                 -15.41      -0.03  0.11        0.01\n",
            "LassoLars                                  -15.41      -0.03  0.11        0.02\n",
            "Lasso                                      -15.41      -0.03  0.11        0.02\n",
            "GaussianProcessRegressor                   -16.51      -0.09  0.11        0.03\n",
            "RANSACRegressor                            -18.55      -0.22  0.12        0.10\n",
            "ExtraTreeRegressor                         -21.15      -0.38  0.12        0.01\n",
            "KernelRidge                               -122.73      -6.73  0.29        0.04\n",
            "Lars                                    -37925.51   -2369.41  5.16        0.05\n"
          ]
        },
        {
          "name": "stderr",
          "output_type": "stream",
          "text": [
            "\n"
          ]
        }
      ],
      "source": [
        "### fitting data in LazyClassifier\n",
        "models, predictions = reg.fit(X_train, X_test, y_train, y_test)\n",
        "### lets check which model did better on Breast Cancer Dataset\n",
        "print(models)"
      ]
    }
  ],
  "metadata": {
    "colab": {
      "name": "ML_models.ipynb",
      "provenance": []
    },
    "interpreter": {
      "hash": "aee8b7b246df8f9039afb4144a1f6fd8d2ca17a180786b69acc140d282b71a49"
    },
    "kernelspec": {
      "display_name": "Python 3.8.3 64-bit",
      "name": "python3"
    },
    "language_info": {
      "name": "python",
      "version": ""
    }
  },
  "nbformat": 4,
  "nbformat_minor": 0
}