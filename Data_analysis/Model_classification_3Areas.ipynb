{
  "cells": [
    {
      "cell_type": "code",
      "execution_count": null,
      "metadata": {
        "colab": {
          "base_uri": "https://localhost:8080/"
        },
        "id": "8W0hGzZP7M3d",
        "outputId": "9ee899f9-0aae-45ca-8646-a2a0ada584e7"
      },
      "outputs": [
        {
          "name": "stdout",
          "output_type": "stream",
          "text": [
            "Mounted at /content/drive\n"
          ]
        }
      ],
      "source": [
        "from google.colab import drive\n",
        "drive.mount('/content/drive')"
      ]
    },
    {
      "cell_type": "code",
      "execution_count": null,
      "metadata": {
        "id": "E9GY-bHmUePZ"
      },
      "outputs": [],
      "source": [
        "## Requirements : \n",
        "\n",
        "import matplotlib.pyplot as plt\n",
        "import numpy as np\n",
        "import pandas as pd\n",
        "from osgeo import gdal\n",
        "import sys\n",
        "import os\n",
        "from skimage.transform import resize\n",
        "from sklearn.metrics import r2_score\n",
        "from sklearn.decomposition import PCA\n",
        "%matplotlib inline\n",
        "%config InlineBackend.figure_format = 'retina'\n",
        "import torch\n",
        "from torchvision import datasets, transforms\n",
        "import helper\n",
        "from __future__ import print_function, division\n",
        "import natsort \n",
        "from skimage import io, transform\n",
        "from torch.utils.data import Dataset, DataLoader\n",
        "from torchvision import utils\n",
        "import torch.nn as nn\n",
        "import torch.nn.functional as F\n",
        "from torch.autograd import Variable\n",
        "# Ignore warnings\n",
        "import warnings\n",
        "warnings.filterwarnings(\"ignore\")\n",
        "plt.ion()   # interactive mode"
      ]
    },
    {
      "cell_type": "code",
      "execution_count": null,
      "metadata": {
        "id": "8J752G8tEq47"
      },
      "outputs": [],
      "source": [
        "df = pd.read_csv('/content/drive/MyDrive/soilMoisture/Datasets/Dataset_4clusters_3_Areas')"
      ]
    },
    {
      "cell_type": "markdown",
      "metadata": {
        "id": "YR5StEUuL2Co"
      },
      "source": [
        "## Utilities :"
      ]
    },
    {
      "cell_type": "code",
      "execution_count": null,
      "metadata": {
        "id": "BSM5MeftUyTt"
      },
      "outputs": [],
      "source": [
        "## read tif image as Array : \n",
        "\n",
        "def tif_to_matrix(path):\n",
        "    src_ds = gdal.Open(path)\n",
        "    data = src_ds.ReadAsArray()\n",
        "    return data "
      ]
    },
    {
      "cell_type": "code",
      "execution_count": null,
      "metadata": {
        "id": "cXo69VDLcllG"
      },
      "outputs": [],
      "source": [
        "# Normalize bands into 0.0 - 1.0 scale\n",
        "def normalize(array):\n",
        "    array_min, array_max = array.min(), array.max()\n",
        "    return (array - array_min) / (array_max - array_min)"
      ]
    },
    {
      "cell_type": "code",
      "execution_count": null,
      "metadata": {
        "id": "JJIxXJuwyIKf"
      },
      "outputs": [],
      "source": [
        "def extract_pixels(X):\n",
        "  q = X.reshape(-1, X.shape[0])\n",
        "  df_pix = pd.DataFrame(data = q)\n",
        "  df_pix.columns= [f'band{i}' for i in range(1, 1+X.shape[0])]\n",
        "  df_pix.to_csv('Dataset.csv')\n",
        "  return df_pix"
      ]
    },
    {
      "cell_type": "code",
      "execution_count": null,
      "metadata": {
        "id": "RF1i5LW4xSX4"
      },
      "outputs": [],
      "source": [
        "def image_reduction (path):\n",
        "  X = tif_to_matrix(path)\n",
        "  df_pix = extract_pixels(X)\n",
        "  pca = PCA(n_components = 1)\n",
        "  dt = pca.fit_transform(df_pix.values)\n",
        "  q_col = pd.DataFrame(data = dt)\n",
        "  q_col.columns = ['PC-1']\n",
        "  q_mat = dt.reshape(140, 155)\n",
        "  return [q_mat]"
      ]
    },
    {
      "cell_type": "code",
      "execution_count": null,
      "metadata": {
        "id": "QygTKyNxR_yi"
      },
      "outputs": [],
      "source": [
        "@torch.no_grad()\n",
        "def get_all_preds(model, loader):\n",
        "    all_preds = torch.tensor([])\n",
        "    all_preds = all_preds.to(device)\n",
        "    for batch in loader:\n",
        "        images, labels = batch['image'], batch['soilreadings']\n",
        "        images = images.to(device)\n",
        "        labels = labels.to(device)\n",
        "        preds = model(images)\n",
        "        all_preds = torch.cat(\n",
        "            (all_preds, preds)\n",
        "            ,dim=0\n",
        "        )\n",
        "        \n",
        "    return all_preds"
      ]
    },
    {
      "cell_type": "code",
      "execution_count": null,
      "metadata": {
        "id": "Svselo7aSA4_"
      },
      "outputs": [],
      "source": [
        "def get_num_correct(preds, labels):\n",
        "    return preds.argmax(dim=1).eq(labels).sum().item()"
      ]
    },
    {
      "cell_type": "markdown",
      "metadata": {
        "id": "yOMQCLvhMRNQ"
      },
      "source": [
        "## Preparing Data :"
      ]
    },
    {
      "cell_type": "code",
      "execution_count": null,
      "metadata": {
        "id": "cgD78LYZ8wa5"
      },
      "outputs": [],
      "source": [
        "class2idx = {\n",
        "    'cluster_1':0,\n",
        "    'cluster_2':1,\n",
        "    'cluster_3':2,\n",
        "    'cluster_4':3,\n",
        "    #'cluster_5':4,\n",
        "    #'cluster_6':5\n",
        "}\n",
        "\n",
        "idx2class = {v: k for k, v in class2idx.items()}\n",
        "\n",
        "df['cluster'].replace(class2idx, inplace=True)"
      ]
    },
    {
      "cell_type": "code",
      "execution_count": null,
      "metadata": {
        "id": "vqWGKJidADIq"
      },
      "outputs": [],
      "source": [
        "df.to_csv('Dataset_testing', index=False, header=True)"
      ]
    },
    {
      "cell_type": "code",
      "execution_count": null,
      "metadata": {
        "id": "o8pQ6nmH9rOm"
      },
      "outputs": [],
      "source": [
        "dff=pd.read_csv('/content/Dataset_testing')"
      ]
    },
    {
      "cell_type": "code",
      "execution_count": null,
      "metadata": {
        "id": "CexGteeXKJP6"
      },
      "outputs": [],
      "source": [
        "dff['Area']=''"
      ]
    },
    {
      "cell_type": "code",
      "execution_count": null,
      "metadata": {
        "colab": {
          "base_uri": "https://localhost:8080/"
        },
        "id": "8W-vEtmICnez",
        "outputId": "b0c967ff-8fde-48a7-e96e-b1f624b23455"
      },
      "outputs": [
        {
          "data": {
            "text/plain": [
              "date_time                                                       2017-04-12\n",
              "soil_moisture_depth_0.050000                                         0.082\n",
              "depth                                                                 0.05\n",
              "hour                                                              11:00:00\n",
              "Image_name                      20170412T110621_20170412T111708_T30TUL.tif\n",
              "cluster                                                                  0\n",
              "Area                                                                      \n",
              "Name: 335, dtype: object"
            ]
          },
          "execution_count": 20,
          "metadata": {
            "tags": []
          },
          "output_type": "execute_result"
        }
      ],
      "source": [
        "dff.iloc[335]"
      ]
    },
    {
      "cell_type": "code",
      "execution_count": null,
      "metadata": {
        "id": "iQmoLR4AKUPG"
      },
      "outputs": [],
      "source": [
        "for i in range(len(dff)) :\n",
        "  if i < 169:\n",
        "    dff['Area'].iloc[i]='Area1'\n",
        "  elif i < 335:\n",
        "    dff['Area'].iloc[i]='Area2'\n",
        "  else :\n",
        "    dff['Area'].iloc[i]='Area3'"
      ]
    },
    {
      "cell_type": "code",
      "execution_count": null,
      "metadata": {
        "colab": {
          "base_uri": "https://localhost:8080/",
          "height": 228
        },
        "id": "TJlQ8m7691vI",
        "outputId": "f433a9b6-663c-48ac-a36e-f963edf851b1"
      },
      "outputs": [
        {
          "data": {
            "text/html": [
              "<div>\n",
              "<style scoped>\n",
              "    .dataframe tbody tr th:only-of-type {\n",
              "        vertical-align: middle;\n",
              "    }\n",
              "\n",
              "    .dataframe tbody tr th {\n",
              "        vertical-align: top;\n",
              "    }\n",
              "\n",
              "    .dataframe thead th {\n",
              "        text-align: right;\n",
              "    }\n",
              "</style>\n",
              "<table border=\"1\" class=\"dataframe\">\n",
              "  <thead>\n",
              "    <tr style=\"text-align: right;\">\n",
              "      <th></th>\n",
              "      <th>date_time</th>\n",
              "      <th>soil_moisture_depth_0.050000</th>\n",
              "      <th>depth</th>\n",
              "      <th>hour</th>\n",
              "      <th>Image_name</th>\n",
              "      <th>cluster</th>\n",
              "      <th>Area</th>\n",
              "    </tr>\n",
              "  </thead>\n",
              "  <tbody>\n",
              "    <tr>\n",
              "      <th>0</th>\n",
              "      <td>2017-04-12</td>\n",
              "      <td>0.159</td>\n",
              "      <td>0.05</td>\n",
              "      <td>11:00:00</td>\n",
              "      <td>20170412T110621_20170412T111708_T30TUL.tif</td>\n",
              "      <td>2</td>\n",
              "      <td>Area1</td>\n",
              "    </tr>\n",
              "    <tr>\n",
              "      <th>1</th>\n",
              "      <td>2017-05-02</td>\n",
              "      <td>0.113</td>\n",
              "      <td>0.05</td>\n",
              "      <td>11:00:00</td>\n",
              "      <td>20170502T110621_20170502T110937_T30TUL.tif</td>\n",
              "      <td>0</td>\n",
              "      <td>Area1</td>\n",
              "    </tr>\n",
              "    <tr>\n",
              "      <th>2</th>\n",
              "      <td>2017-05-22</td>\n",
              "      <td>0.216</td>\n",
              "      <td>0.05</td>\n",
              "      <td>11:00:00</td>\n",
              "      <td>20170522T110621_20170522T110912_T30TUL.tif</td>\n",
              "      <td>1</td>\n",
              "      <td>Area1</td>\n",
              "    </tr>\n",
              "    <tr>\n",
              "      <th>3</th>\n",
              "      <td>2017-06-01</td>\n",
              "      <td>0.160</td>\n",
              "      <td>0.05</td>\n",
              "      <td>11:00:00</td>\n",
              "      <td>20170601T110651_20170601T111225_T30TUL.tif</td>\n",
              "      <td>2</td>\n",
              "      <td>Area1</td>\n",
              "    </tr>\n",
              "    <tr>\n",
              "      <th>4</th>\n",
              "      <td>2017-06-11</td>\n",
              "      <td>0.133</td>\n",
              "      <td>0.05</td>\n",
              "      <td>11:00:00</td>\n",
              "      <td>20170611T110621_20170611T111012_T30TUL.tif</td>\n",
              "      <td>2</td>\n",
              "      <td>Area1</td>\n",
              "    </tr>\n",
              "  </tbody>\n",
              "</table>\n",
              "</div>"
            ],
            "text/plain": [
              "    date_time  soil_moisture_depth_0.050000  ...  cluster   Area\n",
              "0  2017-04-12                         0.159  ...        2  Area1\n",
              "1  2017-05-02                         0.113  ...        0  Area1\n",
              "2  2017-05-22                         0.216  ...        1  Area1\n",
              "3  2017-06-01                         0.160  ...        2  Area1\n",
              "4  2017-06-11                         0.133  ...        2  Area1\n",
              "\n",
              "[5 rows x 7 columns]"
            ]
          },
          "execution_count": 22,
          "metadata": {
            "tags": []
          },
          "output_type": "execute_result"
        }
      ],
      "source": [
        "dff.head()"
      ]
    },
    {
      "cell_type": "code",
      "execution_count": null,
      "metadata": {
        "id": "GuvriCeRPCGx"
      },
      "outputs": [],
      "source": [
        "dff.to_csv('Dataset_withAreas', index=False, header=True)"
      ]
    },
    {
      "cell_type": "code",
      "execution_count": null,
      "metadata": {
        "id": "d9dfjt75U2hj"
      },
      "outputs": [],
      "source": [
        "## Create a Customized dataset class for Pytorch : \n",
        "\n",
        "class CustomDataSet(Dataset):\n",
        "    def __init__(self, csv_file,root_dir1,root_dir2,root_dir3, transform=None):\n",
        "        \"\"\"\n",
        "        Args:\n",
        "            csv_file (string): Path to the csv file with annotations.\n",
        "            root_dir (string): Directory with all the images.\n",
        "            transform (callable, optional): Optional transform to be applied\n",
        "                on a sample.\n",
        "        \"\"\"\n",
        "        self.landmarks_frame = pd.read_csv(csv_file)\n",
        "        self.root_dir1 = root_dir1\n",
        "        self.root_dir2 = root_dir2\n",
        "        self.root_dir3 = root_dir3\n",
        "        self.transform = transform\n",
        "\n",
        "        \n",
        "    def __len__(self):\n",
        "        return len(self.landmarks_frame)\n",
        "        \n",
        "\n",
        "    def __getitem__(self, idx):\n",
        "\n",
        "      if torch.is_tensor(idx):\n",
        "        idx = idx.tolist()\n",
        "      img_area = self.landmarks_frame.iloc[idx, -1]\n",
        "      if img_area == 'Area1':\n",
        "        img_name = os.path.join(self.root_dir1,\n",
        "                                  self.landmarks_frame.iloc[idx, -3])\n",
        "      if img_area == 'Area2':\n",
        "        img_name = os.path.join(self.root_dir2,\n",
        "                                  self.landmarks_frame.iloc[idx, -3])\n",
        "      if img_area == 'Area3':\n",
        "        img_name = os.path.join(self.root_dir3,\n",
        "                                  self.landmarks_frame.iloc[idx, -3])\n",
        "      image = tif_to_matrix(img_name).astype(float)\n",
        "      soilreadings = self.landmarks_frame.iloc[idx, -2]\n",
        "      \n",
        "      #soilreadings = cluster_to_proba(soilreadings)\n",
        "      sample = {'image': image, 'soilreadings': soilreadings}\n",
        "      #print(sample['image'].shape)\n",
        "      if self.transform:\n",
        "          sample = self.transform(sample)\n",
        "\n",
        "      return sample"
      ]
    },
    {
      "cell_type": "code",
      "execution_count": null,
      "metadata": {
        "id": "NykWNPBAU7cF"
      },
      "outputs": [],
      "source": [
        "## Transofrm functions : \n",
        "\n",
        "class Rescale(object):\n",
        "    \"\"\"Rescale the image in a sample to a given size.\n",
        "\n",
        "    Args:\n",
        "        output_size (tuple or int): Desired output size. If tuple, output is\n",
        "            matched to output_size. If int, smaller of image edges is matched\n",
        "            to output_size keeping aspect ratio the same.\n",
        "    \"\"\"\n",
        "\n",
        "    def __init__(self, output_size):\n",
        "        assert isinstance(output_size, (int, tuple))\n",
        "        self.output_size = output_size\n",
        "\n",
        "    def __call__(self, sample):\n",
        "        image, soilreadings = sample['image'], sample['soilreadings']\n",
        "\n",
        "        h, w = image[0], image[0][0]\n",
        "        \n",
        "        if isinstance(self.output_size, int):\n",
        "            if h > w:\n",
        "                new_h, new_w = self.output_size * h / w, self.output_size\n",
        "            else:\n",
        "                new_h, new_w = self.output_size, self.output_size * w / h\n",
        "        else:\n",
        "            new_h, new_w = self.output_size\n",
        "\n",
        "        new_h, new_w = int(new_h), int(new_w)\n",
        "        image = np.array(image)\n",
        "        image = image.transpose((1, 2, 0))\n",
        "        img = resize(image, (new_h, new_w))\n",
        "        \n",
        "        # h and w are swapped for soilreadings because for images,\n",
        "        # x and y axes are axis 1 and 0 respectively\n",
        "        #soilreadings = soilreadings * [new_w / w, new_h / h]\n",
        "\n",
        "        return {'image': img, 'soilreadings': soilreadings}\n",
        "\n",
        "\n",
        "class ToTensor(object):\n",
        "    \"\"\"Convert ndarrays in sample to Tensors.\"\"\"\n",
        "\n",
        "    def __call__(self, sample):\n",
        "        image, soilreadings = sample['image'], sample['soilreadings']\n",
        "\n",
        "        # swap color axis because\n",
        "        # numpy image: H x W x C\n",
        "        # torch image: C X H X W\n",
        "        image = image.transpose((2, 0, 1))\n",
        "        return {'image': torch.tensor(image).float(),\n",
        "                'soilreadings': torch.tensor(soilreadings)}"
      ]
    },
    {
      "cell_type": "markdown",
      "metadata": {
        "id": "CQrcrbWhMVDc"
      },
      "source": [
        "## Dataloaders :\n"
      ]
    },
    {
      "cell_type": "code",
      "execution_count": null,
      "metadata": {
        "id": "30tG7EJOVA4v"
      },
      "outputs": [],
      "source": [
        "## Read the Customized dataset as tensors :\n",
        "transformed_dataset = CustomDataSet(csv_file='/content/Dataset_withAreas', \n",
        "                                    root_dir1='/content/drive/MyDrive/soilMoisture/Senti_Images-2017to2020_Area1',\n",
        "                                    root_dir2='/content/drive/MyDrive/soilMoisture/Senti_Images-2017to2020_Area2',\n",
        "                                    root_dir3='/content/drive/MyDrive/soilMoisture/Senti_Images-2017to2020_Area1',\n",
        "                                           transform=transforms.Compose([ Rescale((224,224)),ToTensor()]))"
      ]
    },
    {
      "cell_type": "code",
      "execution_count": null,
      "metadata": {
        "id": "WRCVF1ikVJ7Q"
      },
      "outputs": [],
      "source": [
        "## Split the dataloader to train and validation loaders :\n",
        "\n",
        "batch_size = 20\n",
        "validation_split = .2\n",
        "shuffle_dataset = True\n",
        "random_seed= 42\n",
        "\n",
        "# Creating data indices for training and validation splits:\n",
        "dataset_size = len(transformed_dataset)\n",
        "indices = list(range(dataset_size))\n",
        "split = int(np.floor(validation_split * dataset_size))\n",
        "if shuffle_dataset :\n",
        "    np.random.seed(random_seed)\n",
        "    np.random.shuffle(indices)\n",
        "train_indices, val_indices = indices[split:], indices[:split]\n",
        "\n",
        "# Creating PT data samplers and loaders:\n",
        "train_sampler = torch.utils.data.SubsetRandomSampler(train_indices)\n",
        "valid_sampler = torch.utils.data.SubsetRandomSampler(val_indices)\n",
        "\n",
        "train_loader = torch.utils.data.DataLoader(transformed_dataset, batch_size=31,drop_last=True , \n",
        "                                           sampler=train_sampler)\n",
        "validation_loader = torch.utils.data.DataLoader(transformed_dataset, batch_size=32,drop_last=True ,\n",
        "                                                sampler=valid_sampler)"
      ]
    },
    {
      "cell_type": "code",
      "execution_count": null,
      "metadata": {
        "colab": {
          "base_uri": "https://localhost:8080/"
        },
        "id": "pTXus-I_VQ0Q",
        "outputId": "665919da-c1dd-4592-e02b-251957b6626a"
      },
      "outputs": [
        {
          "data": {
            "text/plain": [
              "device(type='cuda', index=0)"
            ]
          },
          "execution_count": 29,
          "metadata": {
            "tags": []
          },
          "output_type": "execute_result"
        }
      ],
      "source": [
        "## Switch the work to the GPU : \n",
        "\n",
        "device = torch.device('cuda:0' if torch.cuda.is_available() else 'cpu')\n",
        "device"
      ]
    },
    {
      "cell_type": "markdown",
      "metadata": {
        "id": "H4pb4SjlM3tc"
      },
      "source": [
        "# Models :"
      ]
    },
    {
      "cell_type": "code",
      "execution_count": null,
      "metadata": {
        "id": "XktA7XFyV1rz"
      },
      "outputs": [],
      "source": [
        "## Running time parameters : \n",
        "\n",
        "\n",
        "num_epochs = 30\n",
        "learning_rate = 0.0001"
      ]
    },
    {
      "cell_type": "markdown",
      "metadata": {
        "id": "30LCnz6oMgA2"
      },
      "source": [
        "## Model_101 :"
      ]
    },
    {
      "cell_type": "code",
      "execution_count": null,
      "metadata": {
        "colab": {
          "base_uri": "https://localhost:8080/"
        },
        "id": "iReZmyUiVWHY",
        "outputId": "c22970ab-4ae1-48d9-8666-40605ac244f7"
      },
      "outputs": [
        {
          "name": "stdout",
          "output_type": "stream",
          "text": [
            "torch.Size([6])\n"
          ]
        }
      ],
      "source": [
        "## Model Architecture : \n",
        "\n",
        "class CNN(nn.Module): \n",
        "    def __init__(self, in_channels=12, num_classes = 6):\n",
        "        super(CNN, self).__init__()\n",
        "        self.conv1 = nn.Conv2d(in_channels=12, out_channels=12, kernel_size=(3,3), stride=(1,1), padding=(1,1) )\n",
        "        self.conv2 = nn.Conv2d(12, 24, kernel_size=(3,3), stride=(1,1), padding=(1,1))\n",
        "        self.conv3 = nn.Conv2d(24, 48, kernel_size=(3,3))\n",
        "        self.conv2_drop = nn.Dropout2d(p=0.4)\n",
        "        self.conv3_drop = nn.Dropout2d()\n",
        "        self.batchnorm1 = nn.BatchNorm2d(12)\n",
        "        self.batchnorm2 = nn.BatchNorm2d(24)\n",
        "        self.batchnorm3 = nn.BatchNorm2d(48)\n",
        "        self.tanh = nn.Tanh() \n",
        "        self.softmax = nn.Softmax()\n",
        "        \n",
        "        self.fc1 = nn.Linear(13824 , 2304)\n",
        "        self.fc2 = nn.Linear(2304 , num_classes)\n",
        "\n",
        "    def forward(self, x):\n",
        "        x = F.relu(F.max_pool2d(self.batchnorm1(self.conv1(x)), 2))\n",
        "        x = F.relu(F.max_pool2d(self.conv2_drop(self.batchnorm2(self.conv2(x))), 2))\n",
        "        x = F.relu(F.max_pool2d(self.conv3_drop(self.batchnorm3(self.conv3(x))), 2))\n",
        "        x = x.view(x.size()[0],-1)\n",
        "        x = F.relu(self.fc1(x))  ## relu\n",
        "        x = self.fc2(x)\n",
        "        x = self.softmax(x)\n",
        "      \n",
        "        return x\n",
        "\n",
        "if __name__ == \"__main__\":\n",
        "    # N = 3 (Mini batch size)\n",
        "    x = torch.randn(20, 12, 140, 155)\n",
        "    model = CNN(12,num_classes=6)\n",
        "    print(model(x)[2].shape)"
      ]
    },
    {
      "cell_type": "code",
      "execution_count": null,
      "metadata": {
        "id": "bLgntYepVkrV"
      },
      "outputs": [],
      "source": [
        "## Model to GPU :\n",
        "\n",
        "model = CNN()\n",
        "model = CNN(12,num_classes=6).to(device)"
      ]
    },
    {
      "cell_type": "code",
      "execution_count": null,
      "metadata": {
        "id": "A8YCuwthV1k0"
      },
      "outputs": [],
      "source": [
        "## Optimizer : \n",
        "\n",
        "optimizer = torch.optim.Adam(model.parameters(),lr = learning_rate)"
      ]
    },
    {
      "cell_type": "code",
      "execution_count": null,
      "metadata": {
        "colab": {
          "base_uri": "https://localhost:8080/",
          "height": 652
        },
        "id": "2vEv9jK_V9UJ",
        "outputId": "df490bdd-b90f-4d72-ce08-efb29d0d98ef"
      },
      "outputs": [
        {
          "ename": "RuntimeError",
          "evalue": "ignored",
          "output_type": "error",
          "traceback": [
            "\u001b[0;31m---------------------------------------------------------------------------\u001b[0m",
            "\u001b[0;31mRuntimeError\u001b[0m                              Traceback (most recent call last)",
            "\u001b[0;32m<ipython-input-48-50e925bcb25d>\u001b[0m in \u001b[0;36m<module>\u001b[0;34m()\u001b[0m\n\u001b[1;32m      1\u001b[0m \u001b[0;34m\u001b[0m\u001b[0m\n\u001b[0;32m----> 2\u001b[0;31m \u001b[0mget_ipython\u001b[0m\u001b[0;34m(\u001b[0m\u001b[0;34m)\u001b[0m\u001b[0;34m.\u001b[0m\u001b[0mrun_cell_magic\u001b[0m\u001b[0;34m(\u001b[0m\u001b[0;34m'time'\u001b[0m\u001b[0;34m,\u001b[0m \u001b[0;34m''\u001b[0m\u001b[0;34m,\u001b[0m \u001b[0;34m\"# keeping-track-of-losses \\ntrain_losses = []\\nvalid_losses = []\\npred_Val = []\\ntarget_Val = []\\nl_mean = []\\n\\ncriterion = nn.CrossEntropyLoss()\\n\\nfor epoch in range(1, num_epochs + 1):\\n    # keep-track-of-training-and-validation-loss\\n    train_loss = 0.0\\n    valid_loss = 0.0\\n    \\n    # training-the-model\\n    model.train()\\n    for data, target in enumerate(train_loader):\\n        # move-tensors-to-GPU \\n        #print(target)\\n        data = target['image']\\n        target = target['soilreadings']\\n        data = normalize(data)\\n        data = data.float()\\n        data = data.to(device)\\n        #target = target.long()\\n        target = target.to(device)\\n        # clear-the-gradients-of-all-optimized-variables\\n        optimizer.zero_grad()\\n        # forward-pass: compute-predicted-outputs-by-passing-inputs-to-the-model\\n        output = model(data)\\n        # calculate-the-batch-loss\\n        loss = criterion(output, target)\\n        optimizer.zero_grad()\\n        # backward-pass: compute-gradient-of-the-loss-wrt-model-parameters\\n        loss.backward()\\n        # perform-a-ingle-optimization-step (parameter-update)\\n        optimizer.step()\\n        # update-training-loss\\n        train_loss += loss.item() * data.size(0)\\n        pred_Val.append(output)\\n        target_Val.append(targ...\n\u001b[0m",
            "\u001b[0;32m/usr/local/lib/python3.7/dist-packages/IPython/core/interactiveshell.py\u001b[0m in \u001b[0;36mrun_cell_magic\u001b[0;34m(self, magic_name, line, cell)\u001b[0m\n\u001b[1;32m   2115\u001b[0m             \u001b[0mmagic_arg_s\u001b[0m \u001b[0;34m=\u001b[0m \u001b[0mself\u001b[0m\u001b[0;34m.\u001b[0m\u001b[0mvar_expand\u001b[0m\u001b[0;34m(\u001b[0m\u001b[0mline\u001b[0m\u001b[0;34m,\u001b[0m \u001b[0mstack_depth\u001b[0m\u001b[0;34m)\u001b[0m\u001b[0;34m\u001b[0m\u001b[0;34m\u001b[0m\u001b[0m\n\u001b[1;32m   2116\u001b[0m             \u001b[0;32mwith\u001b[0m \u001b[0mself\u001b[0m\u001b[0;34m.\u001b[0m\u001b[0mbuiltin_trap\u001b[0m\u001b[0;34m:\u001b[0m\u001b[0;34m\u001b[0m\u001b[0;34m\u001b[0m\u001b[0m\n\u001b[0;32m-> 2117\u001b[0;31m                 \u001b[0mresult\u001b[0m \u001b[0;34m=\u001b[0m \u001b[0mfn\u001b[0m\u001b[0;34m(\u001b[0m\u001b[0mmagic_arg_s\u001b[0m\u001b[0;34m,\u001b[0m \u001b[0mcell\u001b[0m\u001b[0;34m)\u001b[0m\u001b[0;34m\u001b[0m\u001b[0;34m\u001b[0m\u001b[0m\n\u001b[0m\u001b[1;32m   2118\u001b[0m             \u001b[0;32mreturn\u001b[0m \u001b[0mresult\u001b[0m\u001b[0;34m\u001b[0m\u001b[0;34m\u001b[0m\u001b[0m\n\u001b[1;32m   2119\u001b[0m \u001b[0;34m\u001b[0m\u001b[0m\n",
            "\u001b[0;32m<decorator-gen-53>\u001b[0m in \u001b[0;36mtime\u001b[0;34m(self, line, cell, local_ns)\u001b[0m\n",
            "\u001b[0;32m/usr/local/lib/python3.7/dist-packages/IPython/core/magic.py\u001b[0m in \u001b[0;36m<lambda>\u001b[0;34m(f, *a, **k)\u001b[0m\n\u001b[1;32m    186\u001b[0m     \u001b[0;31m# but it's overkill for just that one bit of state.\u001b[0m\u001b[0;34m\u001b[0m\u001b[0;34m\u001b[0m\u001b[0;34m\u001b[0m\u001b[0m\n\u001b[1;32m    187\u001b[0m     \u001b[0;32mdef\u001b[0m \u001b[0mmagic_deco\u001b[0m\u001b[0;34m(\u001b[0m\u001b[0marg\u001b[0m\u001b[0;34m)\u001b[0m\u001b[0;34m:\u001b[0m\u001b[0;34m\u001b[0m\u001b[0;34m\u001b[0m\u001b[0m\n\u001b[0;32m--> 188\u001b[0;31m         \u001b[0mcall\u001b[0m \u001b[0;34m=\u001b[0m \u001b[0;32mlambda\u001b[0m \u001b[0mf\u001b[0m\u001b[0;34m,\u001b[0m \u001b[0;34m*\u001b[0m\u001b[0ma\u001b[0m\u001b[0;34m,\u001b[0m \u001b[0;34m**\u001b[0m\u001b[0mk\u001b[0m\u001b[0;34m:\u001b[0m \u001b[0mf\u001b[0m\u001b[0;34m(\u001b[0m\u001b[0;34m*\u001b[0m\u001b[0ma\u001b[0m\u001b[0;34m,\u001b[0m \u001b[0;34m**\u001b[0m\u001b[0mk\u001b[0m\u001b[0;34m)\u001b[0m\u001b[0;34m\u001b[0m\u001b[0;34m\u001b[0m\u001b[0m\n\u001b[0m\u001b[1;32m    189\u001b[0m \u001b[0;34m\u001b[0m\u001b[0m\n\u001b[1;32m    190\u001b[0m         \u001b[0;32mif\u001b[0m \u001b[0mcallable\u001b[0m\u001b[0;34m(\u001b[0m\u001b[0marg\u001b[0m\u001b[0;34m)\u001b[0m\u001b[0;34m:\u001b[0m\u001b[0;34m\u001b[0m\u001b[0;34m\u001b[0m\u001b[0m\n",
            "\u001b[0;32m/usr/local/lib/python3.7/dist-packages/IPython/core/magics/execution.py\u001b[0m in \u001b[0;36mtime\u001b[0;34m(self, line, cell, local_ns)\u001b[0m\n\u001b[1;32m   1191\u001b[0m         \u001b[0;32melse\u001b[0m\u001b[0;34m:\u001b[0m\u001b[0;34m\u001b[0m\u001b[0;34m\u001b[0m\u001b[0m\n\u001b[1;32m   1192\u001b[0m             \u001b[0mst\u001b[0m \u001b[0;34m=\u001b[0m \u001b[0mclock2\u001b[0m\u001b[0;34m(\u001b[0m\u001b[0;34m)\u001b[0m\u001b[0;34m\u001b[0m\u001b[0;34m\u001b[0m\u001b[0m\n\u001b[0;32m-> 1193\u001b[0;31m             \u001b[0mexec\u001b[0m\u001b[0;34m(\u001b[0m\u001b[0mcode\u001b[0m\u001b[0;34m,\u001b[0m \u001b[0mglob\u001b[0m\u001b[0;34m,\u001b[0m \u001b[0mlocal_ns\u001b[0m\u001b[0;34m)\u001b[0m\u001b[0;34m\u001b[0m\u001b[0;34m\u001b[0m\u001b[0m\n\u001b[0m\u001b[1;32m   1194\u001b[0m             \u001b[0mend\u001b[0m \u001b[0;34m=\u001b[0m \u001b[0mclock2\u001b[0m\u001b[0;34m(\u001b[0m\u001b[0;34m)\u001b[0m\u001b[0;34m\u001b[0m\u001b[0;34m\u001b[0m\u001b[0m\n\u001b[1;32m   1195\u001b[0m             \u001b[0mout\u001b[0m \u001b[0;34m=\u001b[0m \u001b[0;32mNone\u001b[0m\u001b[0;34m\u001b[0m\u001b[0;34m\u001b[0m\u001b[0m\n",
            "\u001b[0;32m<timed exec>\u001b[0m in \u001b[0;36m<module>\u001b[0;34m()\u001b[0m\n",
            "\u001b[0;32m/usr/local/lib/python3.7/dist-packages/torch/_tensor.py\u001b[0m in \u001b[0;36mbackward\u001b[0;34m(self, gradient, retain_graph, create_graph, inputs)\u001b[0m\n\u001b[1;32m    253\u001b[0m                 \u001b[0mcreate_graph\u001b[0m\u001b[0;34m=\u001b[0m\u001b[0mcreate_graph\u001b[0m\u001b[0;34m,\u001b[0m\u001b[0;34m\u001b[0m\u001b[0;34m\u001b[0m\u001b[0m\n\u001b[1;32m    254\u001b[0m                 inputs=inputs)\n\u001b[0;32m--> 255\u001b[0;31m         \u001b[0mtorch\u001b[0m\u001b[0;34m.\u001b[0m\u001b[0mautograd\u001b[0m\u001b[0;34m.\u001b[0m\u001b[0mbackward\u001b[0m\u001b[0;34m(\u001b[0m\u001b[0mself\u001b[0m\u001b[0;34m,\u001b[0m \u001b[0mgradient\u001b[0m\u001b[0;34m,\u001b[0m \u001b[0mretain_graph\u001b[0m\u001b[0;34m,\u001b[0m \u001b[0mcreate_graph\u001b[0m\u001b[0;34m,\u001b[0m \u001b[0minputs\u001b[0m\u001b[0;34m=\u001b[0m\u001b[0minputs\u001b[0m\u001b[0;34m)\u001b[0m\u001b[0;34m\u001b[0m\u001b[0;34m\u001b[0m\u001b[0m\n\u001b[0m\u001b[1;32m    256\u001b[0m \u001b[0;34m\u001b[0m\u001b[0m\n\u001b[1;32m    257\u001b[0m     \u001b[0;32mdef\u001b[0m \u001b[0mregister_hook\u001b[0m\u001b[0;34m(\u001b[0m\u001b[0mself\u001b[0m\u001b[0;34m,\u001b[0m \u001b[0mhook\u001b[0m\u001b[0;34m)\u001b[0m\u001b[0;34m:\u001b[0m\u001b[0;34m\u001b[0m\u001b[0;34m\u001b[0m\u001b[0m\n",
            "\u001b[0;32m/usr/local/lib/python3.7/dist-packages/torch/autograd/__init__.py\u001b[0m in \u001b[0;36mbackward\u001b[0;34m(tensors, grad_tensors, retain_graph, create_graph, grad_variables, inputs)\u001b[0m\n\u001b[1;32m    147\u001b[0m     Variable._execution_engine.run_backward(\n\u001b[1;32m    148\u001b[0m         \u001b[0mtensors\u001b[0m\u001b[0;34m,\u001b[0m \u001b[0mgrad_tensors_\u001b[0m\u001b[0;34m,\u001b[0m \u001b[0mretain_graph\u001b[0m\u001b[0;34m,\u001b[0m \u001b[0mcreate_graph\u001b[0m\u001b[0;34m,\u001b[0m \u001b[0minputs\u001b[0m\u001b[0;34m,\u001b[0m\u001b[0;34m\u001b[0m\u001b[0;34m\u001b[0m\u001b[0m\n\u001b[0;32m--> 149\u001b[0;31m         allow_unreachable=True, accumulate_grad=True)  # allow_unreachable flag\n\u001b[0m\u001b[1;32m    150\u001b[0m \u001b[0;34m\u001b[0m\u001b[0m\n\u001b[1;32m    151\u001b[0m \u001b[0;34m\u001b[0m\u001b[0m\n",
            "\u001b[0;31mRuntimeError\u001b[0m: Function AddmmBackward returned an invalid gradient at index 1 - got [20, 13824] but expected shape compatible with [20, 34992]"
          ]
        }
      ],
      "source": [
        "## Train the Model : \n",
        "\n",
        "%%time\n",
        "# keeping-track-of-losses \n",
        "train_losses = []\n",
        "valid_losses = []\n",
        "pred_Val = []\n",
        "target_Val = []\n",
        "l_mean = []\n",
        "\n",
        "criterion = nn.CrossEntropyLoss()\n",
        "\n",
        "for epoch in range(1, num_epochs + 1):\n",
        "    # keep-track-of-training-and-validation-loss\n",
        "    train_loss = 0.0\n",
        "    valid_loss = 0.0\n",
        "    \n",
        "    # training-the-model\n",
        "    model.train()\n",
        "    for data, target in enumerate(train_loader):\n",
        "        # move-tensors-to-GPU \n",
        "        #print(target)\n",
        "        data = target['image']\n",
        "        target = target['soilreadings']\n",
        "        data = normalize(data)\n",
        "        data = data.float()\n",
        "        data = data.to(device)\n",
        "        #target = target.long()\n",
        "        target = target.to(device)\n",
        "        # clear-the-gradients-of-all-optimized-variables\n",
        "        optimizer.zero_grad()\n",
        "        # forward-pass: compute-predicted-outputs-by-passing-inputs-to-the-model\n",
        "        output = model(data)\n",
        "        # calculate-the-batch-loss\n",
        "        loss = criterion(output, target)\n",
        "        optimizer.zero_grad()\n",
        "        # backward-pass: compute-gradient-of-the-loss-wrt-model-parameters\n",
        "        loss.backward()\n",
        "        # perform-a-ingle-optimization-step (parameter-update)\n",
        "        optimizer.step()\n",
        "        # update-training-loss\n",
        "        train_loss += loss.item() * data.size(0)\n",
        "        pred_Val.append(output)\n",
        "        target_Val.append(target)\n",
        "      \n",
        "\n",
        "    # validate-the-model\n",
        "    model.eval()\n",
        "    for data, target in enumerate(validation_loader):\n",
        "        data = target['image']\n",
        "        target = target['soilreadings']\n",
        "        data = normalize(data)      \n",
        "        data = data.float()\n",
        "        data = data.to(device)\n",
        "        #target = target.long()\n",
        "        target = target.to(device)\n",
        "        output = model(data)\n",
        "        loss = criterion(output, target)\n",
        "        data.size()\n",
        "        # update-average-validation-loss \n",
        "        valid_loss += loss.item() * data.size(0)\n",
        "  \n",
        "    # calculate-average-losses\n",
        "    train_loss = train_loss/len(train_loader.sampler)\n",
        "    valid_loss = valid_loss/len(validation_loader.sampler)\n",
        "    train_losses.append(train_loss)\n",
        "    valid_losses.append(valid_loss)\n",
        "        \n",
        "    # print-training/validation-statistics \n",
        "    print('Epoch: {} \\tTraining Loss: {:.6f} \\tValidation Loss: {:.6f}'.format(\n",
        "        epoch, train_loss, valid_loss))"
      ]
    },
    {
      "cell_type": "markdown",
      "metadata": {
        "id": "Iq8tN7nHMkeI"
      },
      "source": [
        "## Inception Model :"
      ]
    },
    {
      "cell_type": "code",
      "execution_count": null,
      "metadata": {
        "colab": {
          "base_uri": "https://localhost:8080/"
        },
        "id": "gby-mRtEkYfY",
        "outputId": "c4d5edde-a290-4390-8b3d-c33535398a6d"
      },
      "outputs": [
        {
          "name": "stdout",
          "output_type": "stream",
          "text": [
            "torch.Size([6, 4])\n"
          ]
        }
      ],
      "source": [
        "class GoogLeNet(nn.Module):\n",
        "\n",
        "    def __init__(self, aux_logits=True, num_classes=4):\n",
        "        super(GoogLeNet, self).__init__()\n",
        "        assert aux_logits == True or aux_logits == False\n",
        "        self.aux_logits = aux_logits\n",
        "\n",
        "        # Write in_channels, etc, all explicit in self.conv1, rest will write to\n",
        "        # make everything as compact as possible, kernel_size=3 instead of (3,3)\n",
        "        self.conv1 = conv_block(\n",
        "            in_channels=12,\n",
        "            out_channels=64,\n",
        "            kernel_size=(7, 7),\n",
        "            stride=(2, 2),\n",
        "            padding=(3, 3),\n",
        "        )\n",
        "\n",
        "        self.maxpool1 = nn.MaxPool2d(kernel_size=3, stride=2, padding=1)\n",
        "        self.conv2 = conv_block(64, 192, kernel_size=3, stride=1, padding=1)\n",
        "        self.maxpool2 = nn.MaxPool2d(kernel_size=3, stride=2, padding=1)\n",
        "\n",
        "        # In this order: in_channels, out_1x1, red_3x3, out_3x3, red_5x5, out_5x5, out_1x1pool\n",
        "        self.inception3a = Inception_block(192, 64, 96, 128, 16, 32, 32)\n",
        "        self.inception3b = Inception_block(256, 128, 128, 192, 32, 96, 64)\n",
        "        self.maxpool3 = nn.MaxPool2d(kernel_size=(3, 3), stride=2, padding=1)\n",
        "\n",
        "        self.inception4a = Inception_block(480, 192, 96, 208, 16, 48, 64)\n",
        "        self.inception4b = Inception_block(512, 160, 112, 224, 24, 64, 64)\n",
        "        self.inception4c = Inception_block(512, 128, 128, 256, 24, 64, 64)\n",
        "        self.inception4d = Inception_block(512, 112, 144, 288, 32, 64, 64)\n",
        "        self.inception4e = Inception_block(528, 256, 160, 320, 32, 128, 128)\n",
        "        self.maxpool4 = nn.MaxPool2d(kernel_size=3, stride=2, padding=1)\n",
        "\n",
        "        self.inception5a = Inception_block(832, 256, 160, 320, 32, 128, 128)\n",
        "        self.inception5b = Inception_block(832, 384, 192, 384, 48, 128, 128)\n",
        "\n",
        "        self.avgpool = nn.AvgPool2d(kernel_size=7, stride=1)\n",
        "        self.dropout = nn.Dropout(p=0.4)\n",
        "        self.fc1 = nn.Linear(1024, num_classes)\n",
        "        self.sigmoid=nn.Sigmoid()\n",
        "        self.tanh = nn.Tanh()\n",
        "        self.softmax = nn.Softmax() \n",
        "\n",
        "        if self.aux_logits:\n",
        "            self.aux1 = InceptionAux(512, num_classes)\n",
        "            self.aux2 = InceptionAux(528, num_classes)\n",
        "        else:\n",
        "            self.aux1 = self.aux2 = None\n",
        "        \n",
        "\n",
        "    def forward(self, x):\n",
        "        x = self.conv1(x)\n",
        "        x = self.maxpool1(x)\n",
        "        x = self.conv2(x)\n",
        "        # x = self.conv3(x)\n",
        "        x = self.maxpool2(x)\n",
        "\n",
        "        x = self.inception3a(x)\n",
        "        x = self.inception3b(x)\n",
        "        x = self.maxpool3(x)\n",
        "\n",
        "        x = self.inception4a(x)\n",
        "\n",
        "        # Auxiliary Softmax classifier 1\n",
        "        if self.aux_logits and self.training:\n",
        "            aux1 = self.aux1(x)\n",
        "\n",
        "        x = self.inception4b(x)\n",
        "        x = self.inception4c(x)\n",
        "        x = self.inception4d(x)\n",
        "\n",
        "        # Auxiliary Softmax classifier 2\n",
        "        if self.aux_logits and self.training:\n",
        "            aux2 = self.aux2(x)\n",
        "\n",
        "        x = self.inception4e(x)\n",
        "        x = self.maxpool4(x)\n",
        "        x = self.inception5a(x)\n",
        "        x = self.inception5b(x)\n",
        "        x = self.avgpool(x)\n",
        "        x = x.reshape(x.shape[0], -1)\n",
        "        x = self.dropout(x)\n",
        "        x = self.fc1(x)\n",
        "        x = self.softmax(x)\n",
        "\n",
        "        \n",
        "\n",
        "        if self.aux_logits and self.training:\n",
        "            return aux1, aux2, x\n",
        "        else:\n",
        "            return x\n",
        "\n",
        "\n",
        "class Inception_block(nn.Module):\n",
        "    def __init__(\n",
        "        self, in_channels, out_1x1, red_3x3, out_3x3, red_5x5, out_5x5, out_1x1pool\n",
        "    ):\n",
        "        super(Inception_block, self).__init__()\n",
        "        self.branch1 = conv_block(in_channels, out_1x1, kernel_size=(1, 1))\n",
        "\n",
        "        self.branch2 = nn.Sequential(\n",
        "            conv_block(in_channels, red_3x3, kernel_size=(1, 1)),\n",
        "            conv_block(red_3x3, out_3x3, kernel_size=(3, 3), padding=(1, 1)),\n",
        "        )\n",
        "\n",
        "        self.branch3 = nn.Sequential(\n",
        "            conv_block(in_channels, red_5x5, kernel_size=(1, 1)),\n",
        "            conv_block(red_5x5, out_5x5, kernel_size=(5, 5), padding=(2, 2)),\n",
        "        )\n",
        "\n",
        "        self.branch4 = nn.Sequential(\n",
        "            nn.MaxPool2d(kernel_size=(3, 3), stride=(1, 1), padding=(1, 1)),\n",
        "            conv_block(in_channels, out_1x1pool, kernel_size=(1, 1)),\n",
        "        )\n",
        "\n",
        "    def forward(self, x):\n",
        "        return torch.cat(\n",
        "            [self.branch1(x), self.branch2(x), self.branch3(x), self.branch4(x)], 1\n",
        "        )\n",
        "\n",
        "\n",
        "class InceptionAux(nn.Module):\n",
        "    def __init__(self, in_channels, num_classes):\n",
        "        super(InceptionAux, self).__init__()\n",
        "        self.relu = nn.ReLU()\n",
        "        self.dropout = nn.Dropout(p=0.7)\n",
        "        self.pool = nn.AvgPool2d(kernel_size=5, stride=3)\n",
        "        self.conv = conv_block(in_channels, 128, kernel_size=1)\n",
        "        self.fc1 = nn.Linear(2048, 1024)\n",
        "        self.fc2 = nn.Linear(1024, num_classes)\n",
        "\n",
        "    def forward(self, x):\n",
        "        x = self.pool(x)\n",
        "        x = self.conv(x)\n",
        "        x = x.reshape(x.shape[0], -1)\n",
        "        x = self.relu(self.fc1(x))\n",
        "        x = self.dropout(x)\n",
        "        x = self.fc2(x)\n",
        "\n",
        "        return x\n",
        "\n",
        "\n",
        "class conv_block(nn.Module):\n",
        "    def __init__(self, in_channels, out_channels, **kwargs):\n",
        "        super(conv_block, self).__init__()\n",
        "        self.relu = nn.ReLU()\n",
        "        self.conv = nn.Conv2d(in_channels, out_channels, **kwargs)\n",
        "        self.batchnorm = nn.BatchNorm2d(out_channels)\n",
        "\n",
        "    def forward(self, x):\n",
        "        return self.relu(self.batchnorm(self.conv(x)))\n",
        "\n",
        "\n",
        "if __name__ == \"__main__\":\n",
        "    # N = 3 (Mini batch size)\n",
        "    x = torch.randn(6, 12, 224, 224)\n",
        "    model = GoogLeNet(aux_logits=True, num_classes=4)\n",
        "    print(model(x)[2].shape)"
      ]
    },
    {
      "cell_type": "code",
      "execution_count": null,
      "metadata": {
        "id": "vNbDJa-Nndyg"
      },
      "outputs": [],
      "source": [
        "model = GoogLeNet(aux_logits=True, num_classes=4)\n",
        "model = GoogLeNet(aux_logits=True, num_classes=4).to(device)\n"
      ]
    },
    {
      "cell_type": "code",
      "execution_count": null,
      "metadata": {
        "id": "SXQfsatv2DSU"
      },
      "outputs": [],
      "source": [
        "optimizer = torch.optim.Adam(model.parameters(),lr = learning_rate)"
      ]
    },
    {
      "cell_type": "code",
      "execution_count": null,
      "metadata": {
        "colab": {
          "base_uri": "https://localhost:8080/"
        },
        "id": "jKBparCflZH8",
        "outputId": "648543df-6688-4f66-e040-ccc475628393"
      },
      "outputs": [
        {
          "name": "stdout",
          "output_type": "stream",
          "text": [
            "Epoch: 1 \tTraining Loss: 1.279769 \tValidation Loss: 1.322989\n",
            "Accuracy of the network on the test images: 41 %\n",
            "Epoch: 2 \tTraining Loss: 1.165835 \tValidation Loss: 1.324407\n",
            "Accuracy of the network on the test images: 27 %\n",
            "Epoch: 3 \tTraining Loss: 1.125585 \tValidation Loss: 1.331941\n",
            "Accuracy of the network on the test images: 27 %\n",
            "Epoch: 4 \tTraining Loss: 1.089203 \tValidation Loss: 1.338125\n",
            "Accuracy of the network on the test images: 27 %\n",
            "Epoch: 5 \tTraining Loss: 1.053128 \tValidation Loss: 1.345811\n",
            "Accuracy of the network on the test images: 27 %\n",
            "Epoch: 6 \tTraining Loss: 1.036056 \tValidation Loss: 1.356114\n",
            "Accuracy of the network on the test images: 28 %\n",
            "Epoch: 7 \tTraining Loss: 1.031018 \tValidation Loss: 1.280736\n",
            "Accuracy of the network on the test images: 38 %\n",
            "Epoch: 8 \tTraining Loss: 1.008399 \tValidation Loss: 1.297590\n",
            "Accuracy of the network on the test images: 37 %\n",
            "Epoch: 9 \tTraining Loss: 1.013522 \tValidation Loss: 1.217529\n",
            "Accuracy of the network on the test images: 46 %\n",
            "Epoch: 10 \tTraining Loss: 1.023376 \tValidation Loss: 1.169462\n",
            "Accuracy of the network on the test images: 50 %\n",
            "Epoch: 11 \tTraining Loss: 1.019197 \tValidation Loss: 1.181644\n",
            "Accuracy of the network on the test images: 50 %\n",
            "Epoch: 12 \tTraining Loss: 1.012313 \tValidation Loss: 1.185582\n",
            "Accuracy of the network on the test images: 52 %\n",
            "Epoch: 13 \tTraining Loss: 1.008010 \tValidation Loss: 1.197994\n",
            "Accuracy of the network on the test images: 46 %\n",
            "Epoch: 14 \tTraining Loss: 0.992258 \tValidation Loss: 1.230255\n",
            "Accuracy of the network on the test images: 43 %\n",
            "Epoch: 15 \tTraining Loss: 0.988750 \tValidation Loss: 1.181839\n",
            "Accuracy of the network on the test images: 48 %\n",
            "Epoch: 16 \tTraining Loss: 0.979002 \tValidation Loss: 1.209728\n",
            "Accuracy of the network on the test images: 45 %\n",
            "Epoch: 17 \tTraining Loss: 0.946761 \tValidation Loss: 1.218474\n",
            "Accuracy of the network on the test images: 46 %\n",
            "Epoch: 18 \tTraining Loss: 0.973577 \tValidation Loss: 1.235294\n",
            "Accuracy of the network on the test images: 44 %\n",
            "Epoch: 19 \tTraining Loss: 0.972712 \tValidation Loss: 1.201100\n",
            "Accuracy of the network on the test images: 46 %\n",
            "Epoch: 20 \tTraining Loss: 0.996942 \tValidation Loss: 1.174791\n",
            "Accuracy of the network on the test images: 52 %\n",
            "Epoch: 21 \tTraining Loss: 0.959401 \tValidation Loss: 1.236331\n",
            "Accuracy of the network on the test images: 44 %\n",
            "Epoch: 22 \tTraining Loss: 0.988579 \tValidation Loss: 1.224074\n",
            "Accuracy of the network on the test images: 46 %\n",
            "Epoch: 23 \tTraining Loss: 0.982832 \tValidation Loss: 1.301439\n",
            "Accuracy of the network on the test images: 38 %\n",
            "Epoch: 24 \tTraining Loss: 0.974373 \tValidation Loss: 1.175927\n",
            "Accuracy of the network on the test images: 50 %\n",
            "Epoch: 25 \tTraining Loss: 1.005551 \tValidation Loss: 1.140420\n",
            "Accuracy of the network on the test images: 56 %\n",
            "Epoch: 26 \tTraining Loss: 0.965281 \tValidation Loss: 1.198764\n",
            "Accuracy of the network on the test images: 48 %\n",
            "Epoch: 27 \tTraining Loss: 0.979519 \tValidation Loss: 1.213863\n",
            "Accuracy of the network on the test images: 47 %\n",
            "Epoch: 28 \tTraining Loss: 0.958821 \tValidation Loss: 1.231696\n",
            "Accuracy of the network on the test images: 43 %\n",
            "Epoch: 29 \tTraining Loss: 0.977122 \tValidation Loss: 1.243370\n",
            "Accuracy of the network on the test images: 43 %\n",
            "Epoch: 30 \tTraining Loss: 0.955359 \tValidation Loss: 1.244264\n",
            "Accuracy of the network on the test images: 40 %\n",
            "CPU times: user 15min 47s, sys: 13min 20s, total: 29min 7s\n",
            "Wall time: 17min 13s\n"
          ]
        }
      ],
      "source": [
        "## Train the Model : \n",
        "\n",
        "%%time\n",
        "\n",
        "# keeping-track-of-losses \n",
        "train_losses = []\n",
        "valid_losses = []\n",
        "pred_Val, target_Val,l_mean = [],[],[]\n",
        "pred_Val_test,target_Val_test, l_mean_test  = [], [],[]\n",
        "\n",
        "criterion = nn.CrossEntropyLoss()\n",
        "\n",
        "for epoch in range(1, num_epochs + 1):\n",
        "    # keep-track-of-training-and-validation-loss\n",
        "    train_loss = 0.0\n",
        "    valid_loss = 0.0\n",
        "    \n",
        "    # training-the-model\n",
        "    model.train()\n",
        "    for data, target in enumerate(train_loader):\n",
        "        # move-tensors-to-GPU \n",
        "        #print(target)\n",
        "        data = target['image']\n",
        "        target = target['soilreadings']\n",
        "        data = normalize(data)\n",
        "        data = data.float()\n",
        "        data = data.to(device)\n",
        "        #target = target.long()\n",
        "        target = target.to(device)\n",
        "        # clear-the-gradients-of-all-optimized-variables\n",
        "        optimizer.zero_grad()\n",
        "        # forward-pass: compute-predicted-outputs-by-passing-inputs-to-the-model\n",
        "        output = model(data)\n",
        "        output = output[2]\n",
        "        # calculate-the-batch-loss\n",
        "        loss = criterion(output, target)\n",
        "        optimizer.zero_grad()\n",
        "        # backward-pass: compute-gradient-of-the-loss-wrt-model-parameters\n",
        "        loss.backward()\n",
        "        # perform-a-ingle-optimization-step (parameter-update)\n",
        "        optimizer.step()\n",
        "        # update-training-loss\n",
        "        train_loss += loss.item() * data.size(0)\n",
        "        pred_Val.append(output)\n",
        "        target_Val.append(target)\n",
        "\n",
        "    correct = 0\n",
        "    total = 0\n",
        "    # validate-the-model\n",
        "    model.eval()\n",
        "    for data, target in enumerate(validation_loader):\n",
        "        data = target['image']\n",
        "        target = target['soilreadings']\n",
        "        data = normalize(data)      \n",
        "        data = data.float()\n",
        "        data = data.to(device)\n",
        "        #target = target.long()\n",
        "        target = target.to(device)\n",
        "        output = model(data)\n",
        "        loss = criterion(output, target)\n",
        "        # update-average-validation-loss \n",
        "        valid_loss += loss.item() * data.size(0)\n",
        "        _, predicted = torch.max(output.data, 1)\n",
        "        total += target.size(0)\n",
        "        correct += (predicted == target).sum().item()\n",
        "\n",
        "    \n",
        "    # calculate-average-losses\n",
        "    train_loss = train_loss/len(train_loader.sampler)\n",
        "    valid_loss = valid_loss/len(validation_loader.sampler)\n",
        "    train_losses.append(train_loss)\n",
        "    valid_losses.append(valid_loss)\n",
        "        \n",
        "    # print-training/validation-statistics \n",
        "    print('Epoch: {} \\tTraining Loss: {:.6f} \\tValidation Loss: {:.6f}'.format(\n",
        "        epoch, train_loss, valid_loss))\n",
        "    print('Accuracy of the network on the test images: %d %%' % (\n",
        "    100 * correct / total))"
      ]
    },
    {
      "cell_type": "markdown",
      "metadata": {
        "id": "g6iANMThNQ3q"
      },
      "source": [
        "## Evaluating the model : "
      ]
    },
    {
      "cell_type": "code",
      "execution_count": null,
      "metadata": {
        "id": "B1bYdnrYNKCr"
      },
      "outputs": [],
      "source": [
        "L = []\n",
        "for i in train_sampler.indices :\n",
        "  L.append(dff['cluster'].iloc[i])"
      ]
    },
    {
      "cell_type": "code",
      "execution_count": null,
      "metadata": {
        "id": "0P6z3tyCNW3k"
      },
      "outputs": [],
      "source": [
        "train_target = torch.Tensor(L)\n",
        "train_target = train_target.to(device)"
      ]
    },
    {
      "cell_type": "code",
      "execution_count": null,
      "metadata": {
        "id": "6b9TMLgKNYIV"
      },
      "outputs": [],
      "source": [
        "train_preds = get_all_preds(model, train_loader)"
      ]
    },
    {
      "cell_type": "code",
      "execution_count": null,
      "metadata": {
        "colab": {
          "base_uri": "https://localhost:8080/"
        },
        "id": "k-uIKbRwNX-P",
        "outputId": "042b0bbb-af89-4ebe-aa3d-312b1e1f32fe"
      },
      "outputs": [
        {
          "name": "stdout",
          "output_type": "stream",
          "text": [
            "403 403\n"
          ]
        }
      ],
      "source": [
        "print(len(train_target), len(train_preds)) # change batch_size if not equal "
      ]
    },
    {
      "cell_type": "code",
      "execution_count": null,
      "metadata": {
        "colab": {
          "base_uri": "https://localhost:8080/"
        },
        "id": "dmt9yUljNXx5",
        "outputId": "87fea48a-801c-43a5-88da-d9cb84c868fa"
      },
      "outputs": [
        {
          "name": "stdout",
          "output_type": "stream",
          "text": [
            "total correct: 91\n",
            "accuracy: 0.22580645161290322\n"
          ]
        }
      ],
      "source": [
        "preds_correct = get_num_correct(train_preds, train_target)\n",
        "print('total correct:', preds_correct)\n",
        "print('accuracy:', preds_correct / len(train_target))"
      ]
    },
    {
      "cell_type": "code",
      "execution_count": null,
      "metadata": {
        "colab": {
          "base_uri": "https://localhost:8080/"
        },
        "id": "atm5qikfNipa",
        "outputId": "d3be6293-b269-4cee-f985-148c0aa0e8ea"
      },
      "outputs": [
        {
          "name": "stdout",
          "output_type": "stream",
          "text": [
            "torch.Size([403, 2])\n",
            "[2.0, 1.0]\n"
          ]
        }
      ],
      "source": [
        "stacked = torch.stack((train_target,train_preds.argmax(dim=1)),dim=1)\n",
        "print(stacked.shape)\n",
        "print(stacked[0].tolist())"
      ]
    },
    {
      "cell_type": "code",
      "execution_count": null,
      "metadata": {
        "id": "4ED23qLONigy"
      },
      "outputs": [],
      "source": [
        "cmt = torch.zeros(4,4, dtype=torch.int64)"
      ]
    },
    {
      "cell_type": "code",
      "execution_count": null,
      "metadata": {
        "id": "YMnuRxyhNXkV"
      },
      "outputs": [],
      "source": [
        "for p in stacked:\n",
        "    tl, pl = p.tolist()\n",
        "    tl, pl = int(tl), int(pl)\n",
        "    cmt[tl, pl] = cmt[tl, pl] + 1"
      ]
    },
    {
      "cell_type": "code",
      "execution_count": null,
      "metadata": {
        "colab": {
          "base_uri": "https://localhost:8080/"
        },
        "id": "9WbSrVEWNw64",
        "outputId": "a28b551a-ae56-44f1-adad-ca735dc2a3ff"
      },
      "outputs": [
        {
          "data": {
            "text/plain": [
              "tensor([[  0, 172,   0,   0],\n",
              "        [  0,  91,   0,   0],\n",
              "        [  0, 135,   0,   0],\n",
              "        [  0,   5,   0,   0]])"
            ]
          },
          "execution_count": 55,
          "metadata": {
            "tags": []
          },
          "output_type": "execute_result"
        }
      ],
      "source": [
        "cmt"
      ]
    },
    {
      "cell_type": "code",
      "execution_count": null,
      "metadata": {
        "id": "PibwcSLaNz4s"
      },
      "outputs": [],
      "source": [
        "from sklearn.metrics import confusion_matrix\n",
        "\n",
        "cm = confusion_matrix(train_target.cpu(), train_preds.argmax(dim=1).cpu())"
      ]
    },
    {
      "cell_type": "code",
      "execution_count": null,
      "metadata": {
        "colab": {
          "base_uri": "https://localhost:8080/"
        },
        "id": "lVGtLQhSN0s6",
        "outputId": "7cc4887e-2c52-4434-a43a-bc163a9d2d68"
      },
      "outputs": [
        {
          "data": {
            "text/plain": [
              "array([[  0, 172,   0,   0],\n",
              "       [  0,  91,   0,   0],\n",
              "       [  0, 135,   0,   0],\n",
              "       [  0,   5,   0,   0]])"
            ]
          },
          "execution_count": 57,
          "metadata": {
            "tags": []
          },
          "output_type": "execute_result"
        }
      ],
      "source": [
        "cm"
      ]
    },
    {
      "cell_type": "code",
      "execution_count": null,
      "metadata": {
        "id": "ghvKnO1UN1cY"
      },
      "outputs": [],
      "source": [
        "import itertools\n",
        "import numpy as np\n",
        "import matplotlib.pyplot as plt\n",
        "\n",
        "def plot_confusion_matrix(cm, classes, normalize=False, title='Confusion matrix', cmap=plt.cm.Blues):\n",
        "    if normalize:\n",
        "        cm = cm.astype('float') / cm.sum(axis=1)[:, np.newaxis]\n",
        "        print(\"Normalized confusion matrix\")\n",
        "    else:\n",
        "        print('Confusion matrix, without normalization')\n",
        "\n",
        "    print(cm)\n",
        "    plt.imshow(cm, interpolation='nearest', cmap=cmap)\n",
        "    plt.title(title)\n",
        "    plt.colorbar()\n",
        "    tick_marks = np.arange(len(classes))\n",
        "    plt.xticks(tick_marks, classes, rotation=45)\n",
        "    plt.yticks(tick_marks, classes)\n",
        "\n",
        "    fmt = '.2f' if normalize else 'd'\n",
        "    thresh = cm.max() / 2.\n",
        "    for i, j in itertools.product(range(cm.shape[0]), range(cm.shape[1])):\n",
        "        plt.text(j, i, format(cm[i, j], fmt), horizontalalignment=\"center\", color=\"white\" if cm[i, j] > thresh else \"black\")\n",
        "\n",
        "    plt.tight_layout()\n",
        "    plt.ylabel('True label')\n",
        "    plt.xlabel('Predicted label')"
      ]
    },
    {
      "cell_type": "code",
      "execution_count": null,
      "metadata": {
        "id": "J6TY7_q1N46q"
      },
      "outputs": [],
      "source": [
        "classes = {0:'cluster_1',\n",
        "    1:'cluster_2',\n",
        "    2:'cluster_3',\n",
        "    3:'cluster_4',\n",
        "    #4:'cluster_5',\n",
        "    #5:'cluster_6'\n",
        "    }\n",
        "    "
      ]
    },
    {
      "cell_type": "code",
      "execution_count": null,
      "metadata": {
        "colab": {
          "base_uri": "https://localhost:8080/",
          "height": 405
        },
        "id": "7G05PpknN7KV",
        "outputId": "df418f48-b22c-4103-bda3-80ed49bc93cb"
      },
      "outputs": [
        {
          "name": "stdout",
          "output_type": "stream",
          "text": [
            "Confusion matrix, without normalization\n",
            "[[  0 172   0   0]\n",
            " [  0  91   0   0]\n",
            " [  0 135   0   0]\n",
            " [  0   5   0   0]]\n"
          ]
        },
        {
          "data": {
            "image/png": "[encoded data removed]",
            "text/plain": [
              "<Figure size 288x288 with 2 Axes>"
            ]
          },
          "metadata": {
            "image/png": {
              "height": 280,
              "width": 292
            },
            "needs_background": "light",
            "tags": []
          },
          "output_type": "display_data"
        }
      ],
      "source": [
        "plt.figure(figsize=(4,4))\n",
        "plot_confusion_matrix(cm, classes)"
      ]
    },
    {
      "cell_type": "code",
      "execution_count": null,
      "metadata": {
        "colab": {
          "base_uri": "https://localhost:8080/",
          "height": 316
        },
        "id": "-PFfgqObWPbZ",
        "outputId": "949c1d23-1719-4c2d-9b79-a542b1a012f6"
      },
      "outputs": [
        {
          "data": {
            "text/plain": [
              "<matplotlib.legend.Legend at 0x7f255fda8490>"
            ]
          },
          "execution_count": 65,
          "metadata": {
            "tags": []
          },
          "output_type": "execute_result"
        },
        {
          "data": {
            "image/png": "[encoded data removed]",
            "text/plain": [
              "<Figure size 432x288 with 1 Axes>"
            ]
          },
          "metadata": {
            "image/png": {
              "height": 261,
              "width": 387
            },
            "needs_background": "light",
            "tags": []
          },
          "output_type": "display_data"
        }
      ],
      "source": [
        "## Visualize the Train & validation losses :\n",
        "%matplotlib inline\n",
        "%config InlineBackend.figure_format = 'retina'\n",
        "plt.plot(train_losses, label='Training loss')\n",
        "plt.plot(valid_losses, label='Validation loss')\n",
        "plt.xlabel(\"Epochs\")\n",
        "plt.ylabel(\"Loss\")\n",
        "plt.legend(frameon=False)"
      ]
    }
  ],
  "metadata": {
    "accelerator": "GPU",
    "colab": {
      "collapsed_sections": [],
      "name": "Model_classification_3Areas.ipynb",
      "provenance": []
    },
    "interpreter": {
      "hash": "aee8b7b246df8f9039afb4144a1f6fd8d2ca17a180786b69acc140d282b71a49"
    },
    "kernelspec": {
      "display_name": "Python 3.8.3 64-bit",
      "name": "python3"
    },
    "language_info": {
      "name": "python",
      "version": ""
    }
  },
  "nbformat": 4,
  "nbformat_minor": 0
}