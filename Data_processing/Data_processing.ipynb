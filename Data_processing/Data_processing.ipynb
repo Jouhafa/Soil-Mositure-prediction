{
  "nbformat": 4,
  "nbformat_minor": 0,
  "metadata": {
    "colab": {
      "name": "Data-processing",
      "provenance": []
    },
    "kernelspec": {
      "name": "python3",
      "display_name": "Python 3"
    },
    "language_info": {
      "name": "python"
    }
  },
  "cells": [
    {
      "cell_type": "code",
      "metadata": {
        "colab": {
          "base_uri": "https://localhost:8080/"
        },
        "id": "Dre9gX6dIJe1",
        "outputId": "8a3185b9-f159-4678-b363-7c32a4ab0f52"
      },
      "source": [
        "pip install rasterio"
      ],
      "execution_count": null,
      "outputs": [
        {
          "output_type": "stream",
          "text": [
            "Collecting rasterio\n",
            "  Downloading rasterio-1.2.6-cp37-cp37m-manylinux1_x86_64.whl (19.3 MB)\n",
            "\u001b[K     |████████████████████████████████| 19.3 MB 5.1 MB/s \n",
            "\u001b[?25hCollecting cligj>=0.5\n",
            "  Downloading cligj-0.7.2-py3-none-any.whl (7.1 kB)\n",
            "Collecting click-plugins\n",
            "  Downloading click_plugins-1.1.1-py2.py3-none-any.whl (7.5 kB)\n",
            "Requirement already satisfied: attrs in /usr/local/lib/python3.7/dist-packages (from rasterio) (21.2.0)\n",
            "Requirement already satisfied: numpy in /usr/local/lib/python3.7/dist-packages (from rasterio) (1.19.5)\n",
            "Requirement already satisfied: certifi in /usr/local/lib/python3.7/dist-packages (from rasterio) (2021.5.30)\n",
            "Requirement already satisfied: setuptools in /usr/local/lib/python3.7/dist-packages (from rasterio) (57.2.0)\n",
            "Collecting snuggs>=1.4.1\n",
            "  Downloading snuggs-1.4.7-py3-none-any.whl (5.4 kB)\n",
            "Collecting affine\n",
            "  Downloading affine-2.3.0-py2.py3-none-any.whl (15 kB)\n",
            "Requirement already satisfied: click>=4.0 in /usr/local/lib/python3.7/dist-packages (from rasterio) (7.1.2)\n",
            "Requirement already satisfied: pyparsing>=2.1.6 in /usr/local/lib/python3.7/dist-packages (from snuggs>=1.4.1->rasterio) (2.4.7)\n",
            "Installing collected packages: snuggs, cligj, click-plugins, affine, rasterio\n",
            "Successfully installed affine-2.3.0 click-plugins-1.1.1 cligj-0.7.2 rasterio-1.2.6 snuggs-1.4.7\n"
          ],
          "name": "stdout"
        }
      ]
    },
    {
      "cell_type": "code",
      "metadata": {
        "colab": {
          "base_uri": "https://localhost:8080/"
        },
        "id": "8deshCEAIfxr",
        "outputId": "9d721fa3-4741-44c4-e2bb-cf7d3991d142"
      },
      "source": [
        "pip install earthpy"
      ],
      "execution_count": null,
      "outputs": [
        {
          "output_type": "stream",
          "text": [
            "Collecting earthpy\n",
            "  Downloading earthpy-0.9.2.tar.gz (1.4 MB)\n",
            "\u001b[K     |████████████████████████████████| 1.4 MB 7.8 MB/s \n",
            "\u001b[?25h  Installing build dependencies ... \u001b[?25l\u001b[?25hdone\n",
            "  Getting requirements to build wheel ... \u001b[?25l\u001b[?25hdone\n",
            "    Preparing wheel metadata ... \u001b[?25l\u001b[?25hdone\n",
            "Requirement already satisfied: rasterio in /usr/local/lib/python3.7/dist-packages (from earthpy) (1.2.6)\n",
            "Requirement already satisfied: numpy>=1.14.0 in /usr/local/lib/python3.7/dist-packages (from earthpy) (1.19.5)\n",
            "Requirement already satisfied: scikit-image in /usr/local/lib/python3.7/dist-packages (from earthpy) (0.16.2)\n",
            "Requirement already satisfied: requests in /usr/local/lib/python3.7/dist-packages (from earthpy) (2.23.0)\n",
            "Collecting geopandas\n",
            "  Downloading geopandas-0.9.0-py2.py3-none-any.whl (994 kB)\n",
            "\u001b[K     |████████████████████████████████| 994 kB 36.1 MB/s \n",
            "\u001b[?25hRequirement already satisfied: matplotlib>=2.0.0 in /usr/local/lib/python3.7/dist-packages (from earthpy) (3.2.2)\n",
            "Requirement already satisfied: cycler>=0.10 in /usr/local/lib/python3.7/dist-packages (from matplotlib>=2.0.0->earthpy) (0.10.0)\n",
            "Requirement already satisfied: kiwisolver>=1.0.1 in /usr/local/lib/python3.7/dist-packages (from matplotlib>=2.0.0->earthpy) (1.3.1)\n",
            "Requirement already satisfied: pyparsing!=2.0.4,!=2.1.2,!=2.1.6,>=2.0.1 in /usr/local/lib/python3.7/dist-packages (from matplotlib>=2.0.0->earthpy) (2.4.7)\n",
            "Requirement already satisfied: python-dateutil>=2.1 in /usr/local/lib/python3.7/dist-packages (from matplotlib>=2.0.0->earthpy) (2.8.1)\n",
            "Requirement already satisfied: six in /usr/local/lib/python3.7/dist-packages (from cycler>=0.10->matplotlib>=2.0.0->earthpy) (1.15.0)\n",
            "Requirement already satisfied: pandas>=0.24.0 in /usr/local/lib/python3.7/dist-packages (from geopandas->earthpy) (1.1.5)\n",
            "Collecting pyproj>=2.2.0\n",
            "  Downloading pyproj-3.1.0-cp37-cp37m-manylinux2010_x86_64.whl (6.6 MB)\n",
            "\u001b[K     |████████████████████████████████| 6.6 MB 43.2 MB/s \n",
            "\u001b[?25hCollecting fiona>=1.8\n",
            "  Downloading Fiona-1.8.20-cp37-cp37m-manylinux1_x86_64.whl (15.4 MB)\n",
            "\u001b[K     |████████████████████████████████| 15.4 MB 37 kB/s \n",
            "\u001b[?25hRequirement already satisfied: shapely>=1.6 in /usr/local/lib/python3.7/dist-packages (from geopandas->earthpy) (1.7.1)\n",
            "Requirement already satisfied: attrs>=17 in /usr/local/lib/python3.7/dist-packages (from fiona>=1.8->geopandas->earthpy) (21.2.0)\n",
            "Requirement already satisfied: cligj>=0.5 in /usr/local/lib/python3.7/dist-packages (from fiona>=1.8->geopandas->earthpy) (0.7.2)\n",
            "Collecting munch\n",
            "  Downloading munch-2.5.0-py2.py3-none-any.whl (10 kB)\n",
            "Requirement already satisfied: click-plugins>=1.0 in /usr/local/lib/python3.7/dist-packages (from fiona>=1.8->geopandas->earthpy) (1.1.1)\n",
            "Requirement already satisfied: certifi in /usr/local/lib/python3.7/dist-packages (from fiona>=1.8->geopandas->earthpy) (2021.5.30)\n",
            "Requirement already satisfied: setuptools in /usr/local/lib/python3.7/dist-packages (from fiona>=1.8->geopandas->earthpy) (57.2.0)\n",
            "Requirement already satisfied: click>=4.0 in /usr/local/lib/python3.7/dist-packages (from fiona>=1.8->geopandas->earthpy) (7.1.2)\n",
            "Requirement already satisfied: pytz>=2017.2 in /usr/local/lib/python3.7/dist-packages (from pandas>=0.24.0->geopandas->earthpy) (2018.9)\n",
            "Requirement already satisfied: affine in /usr/local/lib/python3.7/dist-packages (from rasterio->earthpy) (2.3.0)\n",
            "Requirement already satisfied: snuggs>=1.4.1 in /usr/local/lib/python3.7/dist-packages (from rasterio->earthpy) (1.4.7)\n",
            "Requirement already satisfied: chardet<4,>=3.0.2 in /usr/local/lib/python3.7/dist-packages (from requests->earthpy) (3.0.4)\n",
            "Requirement already satisfied: idna<3,>=2.5 in /usr/local/lib/python3.7/dist-packages (from requests->earthpy) (2.10)\n",
            "Requirement already satisfied: urllib3!=1.25.0,!=1.25.1,<1.26,>=1.21.1 in /usr/local/lib/python3.7/dist-packages (from requests->earthpy) (1.24.3)\n",
            "Requirement already satisfied: PyWavelets>=0.4.0 in /usr/local/lib/python3.7/dist-packages (from scikit-image->earthpy) (1.1.1)\n",
            "Requirement already satisfied: networkx>=2.0 in /usr/local/lib/python3.7/dist-packages (from scikit-image->earthpy) (2.5.1)\n",
            "Requirement already satisfied: scipy>=0.19.0 in /usr/local/lib/python3.7/dist-packages (from scikit-image->earthpy) (1.4.1)\n",
            "Requirement already satisfied: pillow>=4.3.0 in /usr/local/lib/python3.7/dist-packages (from scikit-image->earthpy) (7.1.2)\n",
            "Requirement already satisfied: imageio>=2.3.0 in /usr/local/lib/python3.7/dist-packages (from scikit-image->earthpy) (2.4.1)\n",
            "Requirement already satisfied: decorator<5,>=4.3 in /usr/local/lib/python3.7/dist-packages (from networkx>=2.0->scikit-image->earthpy) (4.4.2)\n",
            "Building wheels for collected packages: earthpy\n",
            "  Building wheel for earthpy (PEP 517) ... \u001b[?25l\u001b[?25hdone\n",
            "  Created wheel for earthpy: filename=earthpy-0.9.2-py3-none-any.whl size=1365096 sha256=0cb9dea2c899362763dc9128daee1cca1aaf144e0a55cdc567e2d9262a607e97\n",
            "  Stored in directory: /root/.cache/pip/wheels/80/4d/12/9d924aa338ecb211c35e6fff47330e3f6d14b8c74971c527ca\n",
            "Successfully built earthpy\n",
            "Installing collected packages: munch, pyproj, fiona, geopandas, earthpy\n",
            "Successfully installed earthpy-0.9.2 fiona-1.8.20 geopandas-0.9.0 munch-2.5.0 pyproj-3.1.0\n"
          ],
          "name": "stdout"
        }
      ]
    },
    {
      "cell_type": "code",
      "metadata": {
        "id": "STSMmrf5IcI7"
      },
      "source": [
        "## Requirements :\n",
        "\n",
        "import matplotlib.pyplot as plt\n",
        "import numpy as np\n",
        "import pandas as pd\n",
        "from osgeo import gdal\n",
        "import sys\n",
        "import os\n",
        "from glob import glob\n",
        "# To show the image\n",
        "import rasterio\n",
        "from rasterio.plot import show\n",
        "# plot hists\n",
        "import earthpy.plot as ep\n",
        "import earthpy as et\n",
        "import earthpy.spatial as es"
      ],
      "execution_count": null,
      "outputs": []
    },
    {
      "cell_type": "code",
      "metadata": {
        "id": "U810ky5KKcML"
      },
      "source": [
        "df = pd.read_csv('/content/drive/MyDrive/Datasets/Dataset.csv')"
      ],
      "execution_count": null,
      "outputs": []
    },
    {
      "cell_type": "code",
      "metadata": {
        "colab": {
          "base_uri": "https://localhost:8080/",
          "height": 201
        },
        "id": "hn_EY_n5KkFr",
        "outputId": "6b9b06f9-09e7-4f5c-99c4-1e38253d0112"
      },
      "source": [
        "df.head()"
      ],
      "execution_count": null,
      "outputs": [
        {
          "output_type": "execute_result",
          "data": {
            "text/html": [
              "<div>\n",
              "<style scoped>\n",
              "    .dataframe tbody tr th:only-of-type {\n",
              "        vertical-align: middle;\n",
              "    }\n",
              "\n",
              "    .dataframe tbody tr th {\n",
              "        vertical-align: top;\n",
              "    }\n",
              "\n",
              "    .dataframe thead th {\n",
              "        text-align: right;\n",
              "    }\n",
              "</style>\n",
              "<table border=\"1\" class=\"dataframe\">\n",
              "  <thead>\n",
              "    <tr style=\"text-align: right;\">\n",
              "      <th></th>\n",
              "      <th>date_time</th>\n",
              "      <th>soil_moisture_depth_0.050000</th>\n",
              "      <th>depth</th>\n",
              "      <th>hour</th>\n",
              "      <th>Image_name</th>\n",
              "    </tr>\n",
              "  </thead>\n",
              "  <tbody>\n",
              "    <tr>\n",
              "      <th>0</th>\n",
              "      <td>2019-03-31</td>\n",
              "      <td>0.148</td>\n",
              "      <td>0.05</td>\n",
              "      <td>17:00:00</td>\n",
              "      <td>20190331T112119_20190331T112753_T29TQF.tif</td>\n",
              "    </tr>\n",
              "    <tr>\n",
              "      <th>1</th>\n",
              "      <td>2019-04-02</td>\n",
              "      <td>0.146</td>\n",
              "      <td>0.05</td>\n",
              "      <td>17:00:00</td>\n",
              "      <td>20190402T110621_20190402T110826_T29TQF.tif</td>\n",
              "    </tr>\n",
              "    <tr>\n",
              "      <th>2</th>\n",
              "      <td>2019-04-12</td>\n",
              "      <td>0.149</td>\n",
              "      <td>0.05</td>\n",
              "      <td>17:00:00</td>\n",
              "      <td>20190412T110621_20190412T111313_T29TQF.tif</td>\n",
              "    </tr>\n",
              "    <tr>\n",
              "      <th>3</th>\n",
              "      <td>2019-04-10</td>\n",
              "      <td>0.135</td>\n",
              "      <td>0.05</td>\n",
              "      <td>17:00:00</td>\n",
              "      <td>20190410T112119_20190410T112212_T29TQF.tif</td>\n",
              "    </tr>\n",
              "    <tr>\n",
              "      <th>4</th>\n",
              "      <td>2019-04-20</td>\n",
              "      <td>0.214</td>\n",
              "      <td>0.05</td>\n",
              "      <td>17:00:00</td>\n",
              "      <td>20190420T112119_20190420T112254_T29TQF.tif</td>\n",
              "    </tr>\n",
              "  </tbody>\n",
              "</table>\n",
              "</div>"
            ],
            "text/plain": [
              "    date_time  ...                                  Image_name\n",
              "0  2019-03-31  ...  20190331T112119_20190331T112753_T29TQF.tif\n",
              "1  2019-04-02  ...  20190402T110621_20190402T110826_T29TQF.tif\n",
              "2  2019-04-12  ...  20190412T110621_20190412T111313_T29TQF.tif\n",
              "3  2019-04-10  ...  20190410T112119_20190410T112212_T29TQF.tif\n",
              "4  2019-04-20  ...  20190420T112119_20190420T112254_T29TQF.tif\n",
              "\n",
              "[5 rows x 5 columns]"
            ]
          },
          "metadata": {
            "tags": []
          },
          "execution_count": 6
        }
      ]
    },
    {
      "cell_type": "code",
      "metadata": {
        "colab": {
          "base_uri": "https://localhost:8080/",
          "height": 293
        },
        "id": "br7hbXMZIdkI",
        "outputId": "53a01d64-f9e6-43c5-87f2-e2dc1a06acb0"
      },
      "source": [
        "df.describe()"
      ],
      "execution_count": null,
      "outputs": [
        {
          "output_type": "execute_result",
          "data": {
            "text/html": [
              "<div>\n",
              "<style scoped>\n",
              "    .dataframe tbody tr th:only-of-type {\n",
              "        vertical-align: middle;\n",
              "    }\n",
              "\n",
              "    .dataframe tbody tr th {\n",
              "        vertical-align: top;\n",
              "    }\n",
              "\n",
              "    .dataframe thead th {\n",
              "        text-align: right;\n",
              "    }\n",
              "</style>\n",
              "<table border=\"1\" class=\"dataframe\">\n",
              "  <thead>\n",
              "    <tr style=\"text-align: right;\">\n",
              "      <th></th>\n",
              "      <th>soil_moisture_depth_0.050000</th>\n",
              "      <th>depth</th>\n",
              "    </tr>\n",
              "  </thead>\n",
              "  <tbody>\n",
              "    <tr>\n",
              "      <th>count</th>\n",
              "      <td>92.000000</td>\n",
              "      <td>9.200000e+01</td>\n",
              "    </tr>\n",
              "    <tr>\n",
              "      <th>mean</th>\n",
              "      <td>0.129087</td>\n",
              "      <td>5.000000e-02</td>\n",
              "    </tr>\n",
              "    <tr>\n",
              "      <th>std</th>\n",
              "      <td>0.066251</td>\n",
              "      <td>9.069990e-17</td>\n",
              "    </tr>\n",
              "    <tr>\n",
              "      <th>min</th>\n",
              "      <td>0.046000</td>\n",
              "      <td>5.000000e-02</td>\n",
              "    </tr>\n",
              "    <tr>\n",
              "      <th>25%</th>\n",
              "      <td>0.061750</td>\n",
              "      <td>5.000000e-02</td>\n",
              "    </tr>\n",
              "    <tr>\n",
              "      <th>50%</th>\n",
              "      <td>0.130500</td>\n",
              "      <td>5.000000e-02</td>\n",
              "    </tr>\n",
              "    <tr>\n",
              "      <th>75%</th>\n",
              "      <td>0.195250</td>\n",
              "      <td>5.000000e-02</td>\n",
              "    </tr>\n",
              "    <tr>\n",
              "      <th>max</th>\n",
              "      <td>0.259000</td>\n",
              "      <td>5.000000e-02</td>\n",
              "    </tr>\n",
              "  </tbody>\n",
              "</table>\n",
              "</div>"
            ],
            "text/plain": [
              "       soil_moisture_depth_0.050000         depth\n",
              "count                     92.000000  9.200000e+01\n",
              "mean                       0.129087  5.000000e-02\n",
              "std                        0.066251  9.069990e-17\n",
              "min                        0.046000  5.000000e-02\n",
              "25%                        0.061750  5.000000e-02\n",
              "50%                        0.130500  5.000000e-02\n",
              "75%                        0.195250  5.000000e-02\n",
              "max                        0.259000  5.000000e-02"
            ]
          },
          "metadata": {
            "tags": []
          },
          "execution_count": 7
        }
      ]
    },
    {
      "cell_type": "code",
      "metadata": {
        "colab": {
          "base_uri": "https://localhost:8080/",
          "height": 58
        },
        "id": "50uRjEbxNu3d",
        "outputId": "015fcbc3-b042-49e6-a873-04aabc2a8372"
      },
      "source": [
        "df['Image_name'].iloc[0]"
      ],
      "execution_count": null,
      "outputs": [
        {
          "output_type": "execute_result",
          "data": {
            "application/vnd.google.colaboratory.intrinsic+json": {
              "type": "string"
            },
            "text/plain": [
              "'20190331T112119_20190331T112753_T29TQF.tif'"
            ]
          },
          "metadata": {
            "tags": []
          },
          "execution_count": 9
        }
      ]
    },
    {
      "cell_type": "code",
      "metadata": {
        "colab": {
          "base_uri": "https://localhost:8080/"
        },
        "id": "lMv_zoOrRZBb",
        "outputId": "4732d7be-a3b6-46dc-f1c7-036bf3d829a5"
      },
      "source": [
        "path = '/content/drive/MyDrive/soilMoisture/Sentinel_images/20190402T110621_20190402T110826_T29TQF.tif'\n",
        "data = tif_to_matrix(path)\n",
        "print(data)"
      ],
      "execution_count": null,
      "outputs": [
        {
          "output_type": "stream",
          "text": [
            "[[[ 463  463  463 ...  667  667  667]\n",
            "  [ 463  463  463 ...  667  667  667]\n",
            "  [ 463  463  463 ...  667  667  667]\n",
            "  ...\n",
            "  [ 751  751  751 ...  591  591  591]\n",
            "  [ 751  751  751 ...  591  591  591]\n",
            "  [ 751  751  751 ...  591  591  591]]\n",
            "\n",
            " [[ 448  539  654 ...  670  642  599]\n",
            "  [ 446  630  793 ...  636  641  657]\n",
            "  [ 468  673  805 ...  615  715  728]\n",
            "  ...\n",
            "  [ 830  813  849 ...  583  612  679]\n",
            "  [ 844  855  880 ...  588  531  631]\n",
            "  [ 838  919  905 ...  588  542  609]]\n",
            "\n",
            " [[ 842  947 1112 ... 1122 1062 1034]\n",
            "  [ 841 1112 1380 ... 1122 1090 1128]\n",
            "  [ 890 1178 1412 ... 1078 1130 1204]\n",
            "  ...\n",
            "  [1394 1376 1378 ... 1036 1132 1238]\n",
            "  [1460 1418 1396 ... 1004 1010 1130]\n",
            "  [1440 1472 1472 ... 1012 1030 1130]]\n",
            "\n",
            " ...\n",
            "\n",
            " [[4478 4478 4478 ... 3697 3697 3697]\n",
            "  [4478 4478 4478 ... 3697 3697 3697]\n",
            "  [4478 4478 4478 ... 3697 3697 3697]\n",
            "  ...\n",
            "  [3866 3866 3866 ... 3514 3514 3514]\n",
            "  [3866 3866 3866 ... 3514 3514 3514]\n",
            "  [3866 3866 3866 ... 3514 3514 3514]]\n",
            "\n",
            " [[2760 2760 3114 ... 3292 3267 3267]\n",
            "  [2760 2760 3114 ... 3292 3267 3267]\n",
            "  [2863 2863 3124 ... 3649 3525 3525]\n",
            "  ...\n",
            "  [4259 4259 4243 ... 3280 3199 3199]\n",
            "  [4259 4259 4243 ... 3280 3199 3199]\n",
            "  [4371 4371 4411 ... 3196 3183 3183]]\n",
            "\n",
            " [[1556 1556 1898 ... 2237 2182 2182]\n",
            "  [1556 1556 1898 ... 2237 2182 2182]\n",
            "  [1704 1704 1892 ... 2578 2384 2384]\n",
            "  ...\n",
            "  [3259 3259 3247 ... 2218 2051 2051]\n",
            "  [3259 3259 3247 ... 2218 2051 2051]\n",
            "  [3314 3314 3387 ... 2142 2015 2015]]]\n"
          ],
          "name": "stdout"
        }
      ]
    },
    {
      "cell_type": "code",
      "metadata": {
        "id": "chdTKtQwPBCA"
      },
      "source": [
        "## Read tif image as Array :\n",
        "\n",
        "def tif_to_matrix(path):\n",
        "  src_ds = gdal.Open(path)\n",
        "  data = src_ds.ReadAsArray()\n",
        "  return data "
      ],
      "execution_count": null,
      "outputs": []
    },
    {
      "cell_type": "code",
      "metadata": {
        "id": "TrRsk_nBUUc0"
      },
      "source": [
        "## Normalize bands into 0.0 - 1.0 scale :\n",
        "def normalize(array):\n",
        "    array_min, array_max = array.min(), array.max()\n",
        "    return (array - array_min) / (array_max - array_min)"
      ],
      "execution_count": null,
      "outputs": []
    },
    {
      "cell_type": "code",
      "metadata": {
        "id": "xLVkVcGiPqiV"
      },
      "source": [
        "def indexes_formula(data):\n",
        "  L = 0.5\n",
        "  gndvi = es.normalized_diff(data[7], data[2])\n",
        "  savi = savi = ((data[7] - data[3]) / (data[7] + data[3] + L)) * (1 + L)\n",
        "  ndmi = es.normalized_diff(data[7], data[10])\n",
        "  mndwi = es.normalized_diff(data[2], data[10])\n",
        "  mndwi = normalize(mndwi)\n",
        "  return gndvi, savi, ndmi, mndwi"
      ],
      "execution_count": null,
      "outputs": []
    },
    {
      "cell_type": "code",
      "metadata": {
        "id": "ewopsCnkP52_"
      },
      "source": [
        "def savi_formula(data):\n",
        "  L = 0.5\n",
        "  savi = ((data[7] - data[3]) / (data[7] + data[3] + L)) * (1 + L)\n",
        "  return savi"
      ],
      "execution_count": null,
      "outputs": []
    },
    {
      "cell_type": "code",
      "metadata": {
        "id": "QytKhCaGAeXQ"
      },
      "source": [
        "def ndmi_formula(data):\n",
        "  ndmi = es.normalized_diff(data[7], data[10])\n",
        "  return ndmi "
      ],
      "execution_count": null,
      "outputs": []
    },
    {
      "cell_type": "code",
      "metadata": {
        "id": "DqytzXn5AwbB"
      },
      "source": [
        "def mndwi_formula(data):\n",
        "  mndwi = es.normalized_diff(data[2], data[10])\n",
        "  return mndwi"
      ],
      "execution_count": null,
      "outputs": []
    },
    {
      "cell_type": "code",
      "metadata": {
        "colab": {
          "base_uri": "https://localhost:8080/"
        },
        "id": "QWhT6hn2GCKE",
        "outputId": "6dc2e5bc-4161-4dee-f99b-d915ef5609e0"
      },
      "source": [
        "df['soil_moisture_depth_0.050000'].iloc[0]"
      ],
      "execution_count": null,
      "outputs": [
        {
          "output_type": "execute_result",
          "data": {
            "text/plain": [
              "0.14800000000000002"
            ]
          },
          "metadata": {
            "tags": []
          },
          "execution_count": 31
        }
      ]
    },
    {
      "cell_type": "code",
      "metadata": {
        "colab": {
          "base_uri": "https://localhost:8080/"
        },
        "id": "FAdZCzmQGB-Q",
        "outputId": "3a8680fa-4763-4162-827e-64b8c8eeba55"
      },
      "source": [
        "L['soil_moisture_depth_0.050000']"
      ],
      "execution_count": null,
      "outputs": [
        {
          "output_type": "execute_result",
          "data": {
            "text/plain": [
              "0.14800000000000002"
            ]
          },
          "metadata": {
            "tags": []
          },
          "execution_count": 29
        }
      ]
    },
    {
      "cell_type": "code",
      "metadata": {
        "id": "gvTF5_bzM2E1"
      },
      "source": [
        "S_bands_1 = glob(\"/content/drive/MyDrive/soilMoisture/Sentinel_images/*.tif\")\n",
        "S_bands_2 = glob(\"/content/drive/MyDrive/soilMoisture/Images_test/*.tif\")"
      ],
      "execution_count": null,
      "outputs": []
    },
    {
      "cell_type": "code",
      "metadata": {
        "colab": {
          "base_uri": "https://localhost:8080/",
          "height": 58
        },
        "id": "Ae3BWIlvIzM9",
        "outputId": "74cc8343-2636-4ee5-b831-2302bc73edbb"
      },
      "source": [
        "S_bands_2[0]"
      ],
      "execution_count": null,
      "outputs": [
        {
          "output_type": "execute_result",
          "data": {
            "application/vnd.google.colaboratory.intrinsic+json": {
              "type": "string"
            },
            "text/plain": [
              "'/content/drive/MyDrive/soilMoisture/Images_test/20200204T112149_20200204T112602_T29TQF.tif'"
            ]
          },
          "metadata": {
            "tags": []
          },
          "execution_count": 36
        }
      ]
    },
    {
      "cell_type": "code",
      "metadata": {
        "colab": {
          "base_uri": "https://localhost:8080/"
        },
        "id": "4j49U7FuKk9M",
        "outputId": "b93e1313-3390-44f6-dd80-0a787dbfe947"
      },
      "source": [
        "directory1 = \"/content/drive/MyDrive/soilMoisture/Sentinel_images\"  \n",
        "directory2 = \"/content/drive/MyDrive/soilMoisture/Images_test\"\n",
        "Dict = {}\n",
        "List_images = []\n",
        "List_SMC = []\n",
        "list_b = [0,1,4,5,9,10]\n",
        "for i in range(1,len(df)) :\n",
        "  List_Nbands = [] \n",
        "  list_indexes = []\n",
        "  img = df['Image_name'].iloc[i]\n",
        "  SMC = df['soil_moisture_depth_0.050000'].iloc[i]\n",
        "  path1= directory1 + '/'+ img\n",
        "  path2 = directory2 + '/'+ img\n",
        "  if path1 in S_bands_1 :\n",
        "    data = tif_to_matrix(path1)\n",
        "  elif path2 in S_bands_2 :\n",
        "    data = tif_to_matrix(path2)\n",
        "\n",
        "  for e in list_b :\n",
        "    band = normalize(data[e])\n",
        "    List_Nbands.append(band)\n",
        "\n",
        "  list_indexes = indexes_formula(data)\n",
        "  for elt in list_indexes :\n",
        "    List_Nbands.append(elt)\n",
        "\n",
        "  List_SMC.append(SMC)\n",
        "  List_images.append(List_Nbands)\n",
        "\n",
        "\n",
        "\n",
        "Dict['image'] = List_images\n",
        "Dict['soilreadings'] = List_SMC\n",
        "   "
      ],
      "execution_count": null,
      "outputs": [
        {
          "output_type": "stream",
          "text": [
            "/usr/local/lib/python3.7/dist-packages/earthpy/spatial.py:105: RuntimeWarning: invalid value encountered in true_divide\n",
            "  n_diff = (b1 - b2) / (b1 + b2)\n"
          ],
          "name": "stderr"
        }
      ]
    },
    {
      "cell_type": "code",
      "metadata": {
        "id": "idcPa39lIs6_"
      },
      "source": [
        "df_bands = pd.DataFrame(List_images,columns=['B1','B2','B5','B6','B9','B10','GNDVI','SAVI','NDMI','MNDWI'])"
      ],
      "execution_count": null,
      "outputs": []
    },
    {
      "cell_type": "code",
      "metadata": {
        "id": "b4qrPj5wTq3F"
      },
      "source": [
        "df_bands['soil_moisture'] = List_SMC"
      ],
      "execution_count": null,
      "outputs": []
    },
    {
      "cell_type": "code",
      "metadata": {
        "colab": {
          "base_uri": "https://localhost:8080/",
          "height": 386
        },
        "id": "TRV0SaBqT-pJ",
        "outputId": "1768a155-42e7-44bb-82c4-b9af73919313"
      },
      "source": [
        "df_bands.head()"
      ],
      "execution_count": null,
      "outputs": [
        {
          "output_type": "execute_result",
          "data": {
            "text/html": [
              "<div>\n",
              "<style scoped>\n",
              "    .dataframe tbody tr th:only-of-type {\n",
              "        vertical-align: middle;\n",
              "    }\n",
              "\n",
              "    .dataframe tbody tr th {\n",
              "        vertical-align: top;\n",
              "    }\n",
              "\n",
              "    .dataframe thead th {\n",
              "        text-align: right;\n",
              "    }\n",
              "</style>\n",
              "<table border=\"1\" class=\"dataframe\">\n",
              "  <thead>\n",
              "    <tr style=\"text-align: right;\">\n",
              "      <th></th>\n",
              "      <th>B1</th>\n",
              "      <th>B2</th>\n",
              "      <th>B5</th>\n",
              "      <th>B6</th>\n",
              "      <th>B9</th>\n",
              "      <th>B10</th>\n",
              "      <th>GNDVI</th>\n",
              "      <th>SAVI</th>\n",
              "      <th>NDMI</th>\n",
              "      <th>MNDWI</th>\n",
              "      <th>soil_moisture</th>\n",
              "    </tr>\n",
              "  </thead>\n",
              "  <tbody>\n",
              "    <tr>\n",
              "      <th>0</th>\n",
              "      <td>[[0.0, 0.0, 0.0, 0.0, 0.14583333333333334, 0.1...</td>\n",
              "      <td>[[0.08926261319534282, 0.2069857697283312, 0.3...</td>\n",
              "      <td>[[0.25660377358490566, 0.25660377358490566, 0....</td>\n",
              "      <td>[[0.8571996817820207, 0.8571996817820207, 0.89...</td>\n",
              "      <td>[[0.9606625258799172, 0.9606625258799172, 0.96...</td>\n",
              "      <td>[[0.12334801762114538, 0.12334801762114538, 0....</td>\n",
              "      <td>[[0.6871051653660349, 0.6428436733924194, 0.58...</td>\n",
              "      <td>[[1.1226533166458073, 1.0212211825986302, 0.88...</td>\n",
              "      <td>[[0.24383561643835616, 0.224283305227656, 0.15...</td>\n",
              "      <td>[[0.7841171152322733, 0.7389019269591668, 0.53...</td>\n",
              "      <td>0.146</td>\n",
              "    </tr>\n",
              "    <tr>\n",
              "      <th>1</th>\n",
              "      <td>[[0.046703296703296704, 0.046703296703296704, ...</td>\n",
              "      <td>[[0.13408393039918118, 0.24564994882292732, 0....</td>\n",
              "      <td>[[0.26881720430107525, 0.26881720430107525, 0....</td>\n",
              "      <td>[[0.9087852038671711, 0.9087852038671711, 0.98...</td>\n",
              "      <td>[[0.9441117764471058, 0.9441117764471058, 0.94...</td>\n",
              "      <td>[[0.140625, 0.140625, 0.28046875, 0.28046875, ...</td>\n",
              "      <td>[[0.7050656660412759, 0.6473616473616474, 0.58...</td>\n",
              "      <td>[[1.1422618470782053, 1.003166030356644, 0.836...</td>\n",
              "      <td>[[0.24169968574941933, 0.23501033769813923, 0....</td>\n",
              "      <td>[[0.7578455978107184, 0.6902904914320068, 0.49...</td>\n",
              "      <td>0.149</td>\n",
              "    </tr>\n",
              "    <tr>\n",
              "      <th>2</th>\n",
              "      <td>[[0.175, 0.175, 0.175, 0.175, 0.21919642857142...</td>\n",
              "      <td>[[0.20474777448071216, 0.19584569732937684, 0....</td>\n",
              "      <td>[[0.23412421493370553, 0.23412421493370553, 0....</td>\n",
              "      <td>[[0.22610169491525423, 0.22610169491525423, 0....</td>\n",
              "      <td>[[0.0, 0.0, 0.0, 0.0, 0.06451612903225806, 0.0...</td>\n",
              "      <td>[[0.5145161290322581, 0.5145161290322581, 0.53...</td>\n",
              "      <td>[[3.001470047776553, 2.9861161856046765, 2.996...</td>\n",
              "      <td>[[0.012340773635619959, 0.01674068218279895, 0...</td>\n",
              "      <td>[[0.3741956036954444, 0.3776848507888234, 0.37...</td>\n",
              "      <td>[[0.3607964939623009, 0.3688528101101613, 0.33...</td>\n",
              "      <td>0.135</td>\n",
              "    </tr>\n",
              "    <tr>\n",
              "      <th>3</th>\n",
              "      <td>[[0.4496021220159151, 0.4496021220159151, 0.44...</td>\n",
              "      <td>[[0.30634278002699056, 0.3090418353576248, 0.3...</td>\n",
              "      <td>[[0.4583059750492449, 0.4583059750492449, 0.54...</td>\n",
              "      <td>[[0.8658155289213132, 0.8658155289213132, 0.87...</td>\n",
              "      <td>[[0.9600189259522119, 0.9600189259522119, 0.96...</td>\n",
              "      <td>[[0.4620318642665011, 0.4620318642665011, 0.51...</td>\n",
              "      <td>[[0.6859903381642513, 0.671617497456765, 0.616...</td>\n",
              "      <td>[[1.1321881219231171, 1.108688750132289, 0.999...</td>\n",
              "      <td>[[0.30446970876810464, 0.29569468538085475, 0....</td>\n",
              "      <td>[[0.889100656394775, 0.8759874176794877, 0.698...</td>\n",
              "      <td>0.214</td>\n",
              "    </tr>\n",
              "    <tr>\n",
              "      <th>4</th>\n",
              "      <td>[[0.0, 0.0, 0.0, 0.0, 0.016065830721003135, 0....</td>\n",
              "      <td>[[0.018172377985462097, 0.055036344755970926, ...</td>\n",
              "      <td>[[0.17214584578601316, 0.17214584578601316, 0....</td>\n",
              "      <td>[[0.6296400449943758, 0.6296400449943758, 0.65...</td>\n",
              "      <td>[[0.7124018838304552, 0.7124018838304552, 0.71...</td>\n",
              "      <td>[[0.07038123167155426, 0.07038123167155426, 0....</td>\n",
              "      <td>[[0.6942392909896603, 0.6370880115900036, 0.56...</td>\n",
              "      <td>[[1.1296207851752795, 0.9843363561417973, 0.82...</td>\n",
              "      <td>[[0.25957446808510637, 0.25259803242344464, 0....</td>\n",
              "      <td>[[0.8427502593058023, 0.7830672579300254, 0.62...</td>\n",
              "      <td>0.141</td>\n",
              "    </tr>\n",
              "  </tbody>\n",
              "</table>\n",
              "</div>"
            ],
            "text/plain": [
              "                                                  B1  ... soil_moisture\n",
              "0  [[0.0, 0.0, 0.0, 0.0, 0.14583333333333334, 0.1...  ...         0.146\n",
              "1  [[0.046703296703296704, 0.046703296703296704, ...  ...         0.149\n",
              "2  [[0.175, 0.175, 0.175, 0.175, 0.21919642857142...  ...         0.135\n",
              "3  [[0.4496021220159151, 0.4496021220159151, 0.44...  ...         0.214\n",
              "4  [[0.0, 0.0, 0.0, 0.0, 0.016065830721003135, 0....  ...         0.141\n",
              "\n",
              "[5 rows x 11 columns]"
            ]
          },
          "metadata": {
            "tags": []
          },
          "execution_count": 60
        }
      ]
    },
    {
      "cell_type": "code",
      "metadata": {
        "id": "ER5T7fNuUANW"
      },
      "source": [
        "df_bands.to_csv ('Dataset_bands&indexes.csv', header=True, index=False)"
      ],
      "execution_count": null,
      "outputs": []
    }
  ]
}